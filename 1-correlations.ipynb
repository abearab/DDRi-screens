{
 "cells": [
  {
   "cell_type": "code",
   "execution_count": 1,
   "id": "015953b9-65cc-4e8c-846a-2de8f5ddb0b7",
   "metadata": {
    "tags": []
   },
   "outputs": [],
   "source": [
    "import anndata as ad\n",
    "import scanpy as sc\n",
    "import pandas as pd\n",
    "import screenpro as scp\n",
    "import numpy as np\n",
    "import seaborn as sns\n",
    "import matplotlib.pyplot as plt"
   ]
  },
  {
   "cell_type": "code",
   "execution_count": 2,
   "id": "f484b2e3-dbcd-4ff6-944d-3ea928cf6b73",
   "metadata": {
    "tags": []
   },
   "outputs": [],
   "source": [
    "from matplotlib import font_manager as fm\n",
    "\n",
    "from matplotlib import rcParams, rc_context\n",
    "\n",
    "font_files = fm.findSystemFonts(fontpaths=None, fontext='ttf')\n",
    "\n",
    "for font_file in font_files:\n",
    "    fm.fontManager.addfont(font_file)\n",
    "\n",
    "# {f.name for f in matplotlib.font_manager.fontManager.ttflist}\n",
    "\n",
    "rcParams['font.family'] = ['Arial']"
   ]
  },
  {
   "cell_type": "markdown",
   "id": "72c43a29-84c0-498f-9046-a8b54123c989",
   "metadata": {},
   "source": [
    "https://stackoverflow.com/a/60390860/9609769\n",
    "\n",
    "https://scentellegher.github.io/visualization/2018/05/02/custom-fonts-matplotlib.html"
   ]
  },
  {
   "cell_type": "code",
   "execution_count": 3,
   "id": "d006a556-4ee3-4ce5-8e22-35490272f006",
   "metadata": {},
   "outputs": [],
   "source": [
    "from screenpro.load import loadScreenProcessingData, read_adata_pkl"
   ]
  },
  {
   "cell_type": "code",
   "execution_count": 4,
   "id": "e8f90ff2-49f6-4131-aebe-6296f5b978ce",
   "metadata": {
    "tags": []
   },
   "outputs": [],
   "source": [
    "from plotnine import *"
   ]
  },
  {
   "cell_type": "code",
   "execution_count": 5,
   "id": "01263304-3d31-4d45-9c0e-858f4a30765d",
   "metadata": {
    "tags": []
   },
   "outputs": [],
   "source": [
    "def plot_ggplot_pca(adata,fill):\n",
    "    pca = pd.concat([\n",
    "        pd.DataFrame(\n",
    "            adata.obsm['X_pca'][:,[0,1]],\n",
    "            index=adata.obs.index,\n",
    "            columns=['PC-1','PC-2']\n",
    "        ),\n",
    "        adata.obs.drop('replicate',axis=1)\n",
    "    ],axis=1)\n",
    "    \n",
    "    pca_p =  (ggplot(pca) \n",
    "     + geom_point(aes(\n",
    "         x = 'PC-1',\n",
    "         y = 'PC-2',\n",
    "         fill=fill, \n",
    "         # shape = shape\n",
    "     ), color='black', size = 8)\n",
    "     + geom_text(aes(\n",
    "         x = 'PC-1',\n",
    "         y = 'PC-2',\n",
    "         label = fill,\n",
    "         size = 3\n",
    "     ),\n",
    "         nudge_y = 3,\n",
    "         nudge_x = 7,\n",
    "                )\n",
    "     + theme_classic()\n",
    "     + theme(\n",
    "         panel_grid_major   = element_blank(), \n",
    "         panel_grid_minor   = element_blank(), \n",
    "         panel_background   = element_blank(), \n",
    "\n",
    "         legend_background  = element_blank(), \n",
    "         legend_position    = 'top',\n",
    "         legend_direction   = 'horizontal', # affected by the ncol=2\n",
    "         legend_text_legend = element_text(size=8),\n",
    "\n",
    "         axis_line          = element_line(size=2),\n",
    "         axis_text_x        = element_text(size=8),\n",
    "         axis_text_y        = element_text(size=8),\n",
    "         axis_title_x       = element_text(weight='bold', size=12),\n",
    "         axis_title_y       = element_text(weight='bold', size=12),\n",
    "\n",
    "         text               = element_text(font = 'arial'),\n",
    "\n",
    "         figure_size        = (4.5, 5)\n",
    "     )\n",
    "     # + xlim(-60,80)\n",
    "     # + ylim(-30,60)\n",
    "     # + scale_color_discrete(guide=False)\n",
    "    )\n",
    "\n",
    "    return pca_p"
   ]
  },
  {
   "cell_type": "markdown",
   "id": "a1a68dd7-f047-42f7-9e99-83a0385fde58",
   "metadata": {
    "tags": []
   },
   "source": [
    "### Get phenotype scores"
   ]
  },
  {
   "cell_type": "code",
   "execution_count": 6,
   "id": "e4e6aa62-7ebd-4efb-b6f1-81260d51dba2",
   "metadata": {},
   "outputs": [],
   "source": [
    "Ci = read_adata_pkl('datasets/CRISPRi')\n",
    "Ca_A549 = read_adata_pkl('datasets/CRISPRa_A549')\n",
    "Ca_k562 = read_adata_pkl('datasets/CRISPRa_k562')"
   ]
  },
  {
   "cell_type": "code",
   "execution_count": 7,
   "id": "4c55547e-5a23-4d93-aefb-ceb99b543b9d",
   "metadata": {},
   "outputs": [
    {
     "data": {
      "text/plain": [
       "{'gamma': 'gamma',\n",
       " 'PARPi': 'rho1',\n",
       " 'DNAPKi': 'rho2',\n",
       " 'ATMi': 'rho3',\n",
       " 'ATRi': 'rho4',\n",
       " 'WEE1i': 'rho5',\n",
       " 'PARPi+DNAPKi': 'rho6',\n",
       " 'PARPi+ATMi': 'rho7',\n",
       " 'PARPi+ATRi': 'rho8',\n",
       " 'PARPi+WEE1i': 'rho9'}"
      ]
     },
     "execution_count": 7,
     "metadata": {},
     "output_type": "execute_result"
    }
   ],
   "source": [
    "Ci.comparisons"
   ]
  },
  {
   "cell_type": "markdown",
   "id": "bd3cda8e-01c0-44d0-9e42-9d8eecccb21a",
   "metadata": {
    "tags": []
   },
   "source": [
    "## sgRNA level phenotypes"
   ]
  },
  {
   "cell_type": "code",
   "execution_count": 8,
   "id": "30062b89-9f55-4a0b-af06-b77c2bc3d6a3",
   "metadata": {},
   "outputs": [],
   "source": [
    "Ci_pdata = ad.AnnData(\n",
    "    X = Ci.phenotypes['phenotypes'].T,\n",
    "    var = Ci.adata.obs\n",
    ")\n",
    "\n",
    "for k,v in Ci.comparisons.items():\n",
    "    Ci_pdata.obs.index = Ci_pdata.obs.index.str.replace(v,k)\n",
    "\n",
    "\n",
    "Ci_pdata = Ci_pdata[:,Ci_pdata.to_df().isna().sum(axis=0).eq(0)]\n",
    "Ci_pdata.obs = pd.DataFrame(list(Ci_pdata.obs.index.str.split(' ')), columns = ['score','replicate'],index=Ci_pdata.obs.index,dtype=str)\n",
    "Ci_pdata.obs.score = pd.Categorical(\n",
    "    Ci_pdata.obs.score,\n",
    "    categories=['gamma',\n",
    "                'PARPi',\n",
    "                'DNAPKi',\n",
    "                'PARPi+DNAPKi',\n",
    "                'ATMi',\n",
    "                'PARPi+ATMi',\n",
    "                'ATRi',\n",
    "                'PARPi+ATRi',\n",
    "                'WEE1i',\n",
    "                'PARPi+WEE1i'\n",
    "               ]\n",
    ")\n",
    "\n",
    "\n",
    "Ci_pdata.obs['treatment'] = 'ctrl'\n",
    "Ci_pdata.obs.loc[Ci_pdata.obs.score.str.contains('i'),'treatment'] = 'mono'\n",
    "Ci_pdata.obs.loc[Ci_pdata.obs.score.str.contains('i\\+'),'treatment'] = 'combo'\n",
    "Ci_pdata.obs['treatment'] = pd.Categorical(Ci_pdata.obs['treatment'],categories=['ctrl','mono','combo'])"
   ]
  },
  {
   "cell_type": "markdown",
   "id": "5a3e8ffa-ed40-4542-af63-a49666db63fc",
   "metadata": {},
   "source": [
    "___\n",
    "only keep `ave` scores:"
   ]
  },
  {
   "cell_type": "code",
   "execution_count": 9,
   "id": "a8eeac41-b9e6-4ee7-9235-b1f9eeff28f6",
   "metadata": {},
   "outputs": [],
   "source": [
    "Ci_pdata_ave = Ci_pdata[Ci_pdata.obs.index.str.contains('ave'),].copy()"
   ]
  },
  {
   "cell_type": "code",
   "execution_count": 10,
   "id": "cd7d7326-21ee-4237-b84e-9df6febaec0c",
   "metadata": {
    "tags": []
   },
   "outputs": [
    {
     "data": {
      "text/plain": [
       "AnnData object with n_obs × n_vars = 10 × 97228\n",
       "    obs: 'score', 'replicate', 'treatment'\n",
       "    var: 'sublibrary', 'gene', 'transcripts', 'sequence'"
      ]
     },
     "execution_count": 10,
     "metadata": {},
     "output_type": "execute_result"
    }
   ],
   "source": [
    "Ci_pdata_ave"
   ]
  },
  {
   "cell_type": "markdown",
   "id": "3b59c82d-32bc-44ab-80b9-982fab87b6dc",
   "metadata": {},
   "source": [
    "___"
   ]
  },
  {
   "cell_type": "code",
   "execution_count": 11,
   "id": "8437ce9a-35ff-40f0-89a2-ae854108870c",
   "metadata": {},
   "outputs": [],
   "source": [
    "Ci_pdata_reps = Ci_pdata[~Ci_pdata.obs.index.str.contains('ave'),].copy()"
   ]
  },
  {
   "cell_type": "code",
   "execution_count": 12,
   "id": "3533e84f-45c4-4fd4-819d-dd878ab96586",
   "metadata": {},
   "outputs": [
    {
     "data": {
      "text/plain": [
       "AnnData object with n_obs × n_vars = 20 × 97228\n",
       "    obs: 'score', 'replicate', 'treatment'\n",
       "    var: 'sublibrary', 'gene', 'transcripts', 'sequence'"
      ]
     },
     "execution_count": 12,
     "metadata": {},
     "output_type": "execute_result"
    }
   ],
   "source": [
    "Ci_pdata_reps"
   ]
  },
  {
   "cell_type": "markdown",
   "id": "154f8571-26dd-4dd5-9d7b-5ee8cd6db085",
   "metadata": {
    "jp-MarkdownHeadingCollapsed": true,
    "tags": []
   },
   "source": [
    "### PCA – mono"
   ]
  },
  {
   "cell_type": "code",
   "execution_count": 14,
   "id": "cc65fc24-d8d1-4184-8b94-7b7bce5c8ff5",
   "metadata": {},
   "outputs": [],
   "source": [
    "Ci_pdata_mono = Ci_pdata[\n",
    "    (~Ci_pdata.obs.index.str.contains('ave')) & (Ci_pdata.obs.treatment.eq('mono')),\n",
    "].copy()"
   ]
  },
  {
   "cell_type": "code",
   "execution_count": 15,
   "id": "f8a45a9b-bded-46c5-b872-9e65dae18994",
   "metadata": {
    "tags": []
   },
   "outputs": [
    {
     "data": {
      "text/html": [
       "<div>\n",
       "<style scoped>\n",
       "    .dataframe tbody tr th:only-of-type {\n",
       "        vertical-align: middle;\n",
       "    }\n",
       "\n",
       "    .dataframe tbody tr th {\n",
       "        vertical-align: top;\n",
       "    }\n",
       "\n",
       "    .dataframe thead th {\n",
       "        text-align: right;\n",
       "    }\n",
       "</style>\n",
       "<table border=\"1\" class=\"dataframe\">\n",
       "  <thead>\n",
       "    <tr style=\"text-align: right;\">\n",
       "      <th></th>\n",
       "      <th>score</th>\n",
       "      <th>replicate</th>\n",
       "      <th>treatment</th>\n",
       "    </tr>\n",
       "  </thead>\n",
       "  <tbody>\n",
       "    <tr>\n",
       "      <th>PARPi rep1</th>\n",
       "      <td>PARPi</td>\n",
       "      <td>rep1</td>\n",
       "      <td>mono</td>\n",
       "    </tr>\n",
       "    <tr>\n",
       "      <th>PARPi rep2</th>\n",
       "      <td>PARPi</td>\n",
       "      <td>rep2</td>\n",
       "      <td>mono</td>\n",
       "    </tr>\n",
       "    <tr>\n",
       "      <th>DNAPKi rep1</th>\n",
       "      <td>DNAPKi</td>\n",
       "      <td>rep1</td>\n",
       "      <td>mono</td>\n",
       "    </tr>\n",
       "    <tr>\n",
       "      <th>DNAPKi rep2</th>\n",
       "      <td>DNAPKi</td>\n",
       "      <td>rep2</td>\n",
       "      <td>mono</td>\n",
       "    </tr>\n",
       "    <tr>\n",
       "      <th>ATMi rep1</th>\n",
       "      <td>ATMi</td>\n",
       "      <td>rep1</td>\n",
       "      <td>mono</td>\n",
       "    </tr>\n",
       "    <tr>\n",
       "      <th>ATMi rep2</th>\n",
       "      <td>ATMi</td>\n",
       "      <td>rep2</td>\n",
       "      <td>mono</td>\n",
       "    </tr>\n",
       "    <tr>\n",
       "      <th>ATRi rep1</th>\n",
       "      <td>ATRi</td>\n",
       "      <td>rep1</td>\n",
       "      <td>mono</td>\n",
       "    </tr>\n",
       "    <tr>\n",
       "      <th>ATRi rep2</th>\n",
       "      <td>ATRi</td>\n",
       "      <td>rep2</td>\n",
       "      <td>mono</td>\n",
       "    </tr>\n",
       "    <tr>\n",
       "      <th>WEE1i rep1</th>\n",
       "      <td>WEE1i</td>\n",
       "      <td>rep1</td>\n",
       "      <td>mono</td>\n",
       "    </tr>\n",
       "    <tr>\n",
       "      <th>WEE1i rep2</th>\n",
       "      <td>WEE1i</td>\n",
       "      <td>rep2</td>\n",
       "      <td>mono</td>\n",
       "    </tr>\n",
       "  </tbody>\n",
       "</table>\n",
       "</div>"
      ],
      "text/plain": [
       "              score replicate treatment\n",
       "PARPi rep1    PARPi      rep1      mono\n",
       "PARPi rep2    PARPi      rep2      mono\n",
       "DNAPKi rep1  DNAPKi      rep1      mono\n",
       "DNAPKi rep2  DNAPKi      rep2      mono\n",
       "ATMi rep1      ATMi      rep1      mono\n",
       "ATMi rep2      ATMi      rep2      mono\n",
       "ATRi rep1      ATRi      rep1      mono\n",
       "ATRi rep2      ATRi      rep2      mono\n",
       "WEE1i rep1    WEE1i      rep1      mono\n",
       "WEE1i rep2    WEE1i      rep2      mono"
      ]
     },
     "execution_count": 15,
     "metadata": {},
     "output_type": "execute_result"
    }
   ],
   "source": [
    "Ci_pdata_mono.obs"
   ]
  },
  {
   "cell_type": "code",
   "execution_count": null,
   "id": "acc5b4eb-6d7f-4b68-98d6-495e8eb47462",
   "metadata": {
    "tags": []
   },
   "outputs": [],
   "source": [
    "sc.pp.regress_out(Ci_pdata_mono,'replicate')"
   ]
  },
  {
   "cell_type": "markdown",
   "id": "84634b0a-06f2-4fe7-ba99-8aac6a663e67",
   "metadata": {},
   "source": [
    "it takes so long :)"
   ]
  },
  {
   "cell_type": "code",
   "execution_count": null,
   "id": "fe8d336b-82c3-4e16-b46e-66e26e93110e",
   "metadata": {},
   "outputs": [],
   "source": [
    "sc.tl.pca(Ci_pdata_mono, svd_solver='arpack')"
   ]
  },
  {
   "cell_type": "code",
   "execution_count": null,
   "id": "a4ed1a8c-7b7a-43ca-8c84-91cb9b075ba0",
   "metadata": {},
   "outputs": [],
   "source": [
    "sc.pl.pca_variance_ratio(Ci_pdata_mono, log=True, n_pcs=5) # scanpy generates the filename automatically"
   ]
  },
  {
   "cell_type": "code",
   "execution_count": null,
   "id": "a2e6fa29-feb3-4e42-9dd6-e5743a93e595",
   "metadata": {},
   "outputs": [],
   "source": [
    "with rc_context({'figure.figsize': (3, 3)}):\n",
    "    sc.pl.pca(\n",
    "        Ci_pdata_mono,\n",
    "        size=300,\n",
    "        color=['treatment'],\n",
    "    )  # plot the pca results with color as mouse.id \n",
    "with rc_context({'figure.figsize': (3, 3)}):\n",
    "    sc.pl.pca(\n",
    "        Ci_pdata_mono,\n",
    "        size=300,\n",
    "        color=['score'],\n",
    "    )  # plot the pca results with color as mouse.id "
   ]
  },
  {
   "cell_type": "code",
   "execution_count": null,
   "id": "82564d2c-8394-41d2-9c1e-29899a754531",
   "metadata": {
    "tags": []
   },
   "outputs": [],
   "source": [
    "pca_mono = plot_ggplot_pca(Ci_pdata_mono)"
   ]
  },
  {
   "cell_type": "code",
   "execution_count": null,
   "id": "c0dc68f5-73c9-4bcd-aaa5-60a6f2d4aba8",
   "metadata": {},
   "outputs": [],
   "source": []
  },
  {
   "cell_type": "code",
   "execution_count": null,
   "id": "9e7c3307-3337-4dbc-8ce4-469550e4a224",
   "metadata": {
    "tags": []
   },
   "outputs": [],
   "source": [
    "pca_mono.save('PCA_mono_ggplot.pdf')"
   ]
  },
  {
   "cell_type": "markdown",
   "id": "464e06d4-9541-40b9-9b2a-8da9bed50bba",
   "metadata": {
    "jp-MarkdownHeadingCollapsed": true,
    "tags": []
   },
   "source": [
    "### PCA (1)"
   ]
  },
  {
   "cell_type": "code",
   "execution_count": 18,
   "id": "28b5e764-ca05-4b77-b35c-89929fd18761",
   "metadata": {
    "tags": []
   },
   "outputs": [],
   "source": [
    "sc.pp.regress_out(Ci_pdata_reps,'replicate')"
   ]
  },
  {
   "cell_type": "code",
   "execution_count": 19,
   "id": "f62fbcfe-4e90-441b-af24-c0ba44ff5059",
   "metadata": {},
   "outputs": [],
   "source": [
    "sc.tl.pca(Ci_pdata_reps, svd_solver='arpack')"
   ]
  },
  {
   "cell_type": "code",
   "execution_count": 26,
   "id": "d8e88766-307e-4449-a14f-738382053eff",
   "metadata": {
    "tags": []
   },
   "outputs": [],
   "source": [
    "# sc.pl.pca_variance_ratio(Ci_pdata_reps, log=True, n_pcs=5) # scanpy generates the filename automatically"
   ]
  },
  {
   "cell_type": "code",
   "execution_count": 25,
   "id": "f233ce13-ef6b-405f-bee7-ffb78a0ef047",
   "metadata": {
    "tags": []
   },
   "outputs": [
    {
     "name": "stderr",
     "output_type": "stream",
     "text": [
      "/data_gilbert/home/aarab/anaconda3/envs/mamba/envs/screenpro2/lib/python3.9/site-packages/scanpy/plotting/_tools/scatterplots.py:392: UserWarning: No data for colormapping provided via 'c'. Parameters 'cmap' will be ignored\n"
     ]
    },
    {
     "data": {
      "image/png": "[encoded data removed]",
      "text/plain": [
       "<Figure size 300x300 with 1 Axes>"
      ]
     },
     "metadata": {
      "image/png": {
       "height": 300,
       "width": 300
      }
     },
     "output_type": "display_data"
    },
    {
     "name": "stderr",
     "output_type": "stream",
     "text": [
      "/data_gilbert/home/aarab/anaconda3/envs/mamba/envs/screenpro2/lib/python3.9/site-packages/scanpy/plotting/_tools/scatterplots.py:392: UserWarning: No data for colormapping provided via 'c'. Parameters 'cmap' will be ignored\n"
     ]
    },
    {
     "data": {
      "image/png": "[encoded data removed]",
      "text/plain": [
       "<Figure size 300x300 with 1 Axes>"
      ]
     },
     "metadata": {
      "image/png": {
       "height": 300,
       "width": 300
      }
     },
     "output_type": "display_data"
    }
   ],
   "source": [
    "with rc_context({'figure.figsize': (3, 3)}):\n",
    "    sc.pl.pca(\n",
    "        Ci_pdata_reps,\n",
    "        size=300,\n",
    "        color=['treatment'],\n",
    "    )  # plot the pca results with color as mouse.id \n",
    "with rc_context({'figure.figsize': (3, 3)}):\n",
    "    sc.pl.pca(\n",
    "        Ci_pdata_reps,\n",
    "        size=300,\n",
    "        color=['score'],\n",
    "    )  # plot the pca results with color as mouse.id "
   ]
  },
  {
   "cell_type": "code",
   "execution_count": 64,
   "id": "1409a525-de86-4234-b135-2db1ed297a95",
   "metadata": {
    "tags": []
   },
   "outputs": [],
   "source": [
    "pca_reps = plot_ggplot_pca(Ci_pdata_reps,fill='treatment')"
   ]
  },
  {
   "cell_type": "code",
   "execution_count": 65,
   "id": "9b361b8c-0758-4692-bd64-42e11d92d1f9",
   "metadata": {
    "tags": []
   },
   "outputs": [
    {
     "name": "stderr",
     "output_type": "stream",
     "text": [
      "/data_gilbert/home/aarab/anaconda3/envs/mamba/envs/screenpro2/lib/python3.9/site-packages/plotnine/ggplot.py:587: PlotnineWarning: Saving 4.5 x 5 in image.\n",
      "/data_gilbert/home/aarab/anaconda3/envs/mamba/envs/screenpro2/lib/python3.9/site-packages/plotnine/ggplot.py:588: PlotnineWarning: Filename: PCA_reps_ggplot.pdf\n"
     ]
    }
   ],
   "source": [
    "pca_reps.save('figures/PCA_reps_ggplot.pdf')"
   ]
  },
  {
   "cell_type": "markdown",
   "id": "16039a3d-8cf0-4c73-bc36-c44a1e2c4a12",
   "metadata": {
    "jp-MarkdownHeadingCollapsed": true,
    "tags": []
   },
   "source": [
    "### PCA (2)"
   ]
  },
  {
   "cell_type": "markdown",
   "id": "0fbbb90a-888f-4694-819d-c1fbc24b4ba2",
   "metadata": {},
   "source": [
    "let's skip `gamma` and redo the PCA"
   ]
  },
  {
   "cell_type": "code",
   "execution_count": 22,
   "id": "a488b585-862b-440c-a340-3ea9b2bd9700",
   "metadata": {},
   "outputs": [],
   "source": [
    "Ci_pdata_reps_rho = Ci_pdata_reps[~Ci_pdata_reps.obs.score.eq('gamma'),:].copy()"
   ]
  },
  {
   "cell_type": "code",
   "execution_count": 23,
   "id": "5b923006-416f-4e67-900f-12a2c20d7687",
   "metadata": {
    "tags": []
   },
   "outputs": [],
   "source": [
    "sc.pp.regress_out(Ci_pdata_reps_rho,'replicate')"
   ]
  },
  {
   "cell_type": "code",
   "execution_count": 24,
   "id": "71b2b955-41c2-482b-9759-d663f430b639",
   "metadata": {},
   "outputs": [],
   "source": [
    "sc.tl.pca(Ci_pdata_reps_rho, svd_solver='arpack')"
   ]
  },
  {
   "cell_type": "code",
   "execution_count": 26,
   "id": "df050929-ab29-4347-b68b-c47952e16e09",
   "metadata": {
    "tags": []
   },
   "outputs": [
    {
     "name": "stderr",
     "output_type": "stream",
     "text": [
      "/data_gilbert/home/aarab/anaconda3/envs/mamba/envs/screenpro2/lib/python3.9/site-packages/scanpy/plotting/_tools/scatterplots.py:392: UserWarning: No data for colormapping provided via 'c'. Parameters 'cmap' will be ignored\n"
     ]
    },
    {
     "data": {
      "image/png": "[encoded data removed]",
      "text/plain": [
       "<Figure size 300x300 with 1 Axes>"
      ]
     },
     "metadata": {},
     "output_type": "display_data"
    },
    {
     "name": "stderr",
     "output_type": "stream",
     "text": [
      "/data_gilbert/home/aarab/anaconda3/envs/mamba/envs/screenpro2/lib/python3.9/site-packages/scanpy/plotting/_tools/scatterplots.py:392: UserWarning: No data for colormapping provided via 'c'. Parameters 'cmap' will be ignored\n"
     ]
    },
    {
     "data": {
      "image/png": "[encoded data removed]",
      "text/plain": [
       "<Figure size 300x300 with 1 Axes>"
      ]
     },
     "metadata": {},
     "output_type": "display_data"
    }
   ],
   "source": [
    "with rc_context({'figure.figsize': (3, 3)}):\n",
    "    sc.pl.pca(\n",
    "        Ci_pdata_reps_rho,\n",
    "        size=300,\n",
    "        color=['treatment'],\n",
    "    )  # plot the pca results with color as mouse.id \n",
    "with rc_context({'figure.figsize': (3, 3)}):\n",
    "    sc.pl.pca(\n",
    "        Ci_pdata_reps_rho,\n",
    "        size=300,\n",
    "        color=['score'],\n",
    "    )  # plot the pca results with color as mouse.id "
   ]
  },
  {
   "cell_type": "code",
   "execution_count": 27,
   "id": "96d68b99-2912-4187-9267-888828fa7682",
   "metadata": {
    "tags": []
   },
   "outputs": [],
   "source": [
    "pca_all = plot_ggplot_pca(Ci_pdata_reps_rho)"
   ]
  },
  {
   "cell_type": "code",
   "execution_count": 29,
   "id": "5ae377c0-31fa-4a64-9338-6031241a940f",
   "metadata": {
    "tags": []
   },
   "outputs": [
    {
     "name": "stderr",
     "output_type": "stream",
     "text": [
      "/data_gilbert/home/aarab/anaconda3/envs/mamba/envs/screenpro2/lib/python3.9/site-packages/plotnine/ggplot.py:587: PlotnineWarning: Saving 4.5 x 5 in image.\n",
      "/data_gilbert/home/aarab/anaconda3/envs/mamba/envs/screenpro2/lib/python3.9/site-packages/plotnine/ggplot.py:588: PlotnineWarning: Filename: PCA_all_ggplot.pdf\n"
     ]
    }
   ],
   "source": [
    "pca_all.save('PCA_all_ggplot.pdf')"
   ]
  },
  {
   "cell_type": "markdown",
   "id": "4e66344c-a9d5-47df-a9c3-ef8002d41fb8",
   "metadata": {},
   "source": [
    "___"
   ]
  },
  {
   "cell_type": "code",
   "execution_count": 25,
   "id": "21ca95df-c5a2-4edd-86ab-9d1784e24729",
   "metadata": {},
   "outputs": [],
   "source": [
    "# fig, (ax1,ax2) = plt.subplots(1,2,figsize = (8, 3))\n",
    "\n",
    "# sc.pl.pca(\n",
    "#     Ci_pdata_reps_rho,\n",
    "#     size=300,\n",
    "#     # color=['treatment'],\n",
    "#     show=False,\n",
    "#     ax=ax1\n",
    "# ) \n",
    "\n",
    "# sc.pl.pca(\n",
    "#     Ci_pdata_reps_rho,\n",
    "#     size=300,\n",
    "#     color=['score'],\n",
    "#     title = 'rho scores',\n",
    "#     show=False,\n",
    "#     ax=ax2\n",
    "# )  \n",
    "\n",
    "# plt.tight_layout()\n",
    "# plt.savefig('PCA_plots.pdf')\n",
    "# plt.show()"
   ]
  },
  {
   "cell_type": "markdown",
   "id": "9118269a-3f72-49c9-8a8e-8cd6fbb193d6",
   "metadata": {
    "jp-MarkdownHeadingCollapsed": true,
    "tags": []
   },
   "source": [
    "### PCA (3)"
   ]
  },
  {
   "cell_type": "code",
   "execution_count": 47,
   "id": "83a10dcb-3f19-4f4b-ac45-17e7f2168f39",
   "metadata": {
    "tags": []
   },
   "outputs": [],
   "source": [
    "pca = pd.concat([\n",
    "    pd.DataFrame(\n",
    "        Ci_pdata_reps_rho.obsm['X_pca'][:,[0,1]],\n",
    "        index=Ci_pdata_reps_rho.obs.index,\n",
    "        columns=['PC-1','PC-2']\n",
    "    ),\n",
    "    Ci_pdata_reps_rho.obs.drop('replicate',axis=1)\n",
    "],axis=1)"
   ]
  },
  {
   "cell_type": "code",
   "execution_count": 48,
   "id": "e1091ef8-0c83-4048-8bc2-4580ee8d6d21",
   "metadata": {
    "tags": []
   },
   "outputs": [
    {
     "data": {
      "text/html": [
       "<div>\n",
       "<style scoped>\n",
       "    .dataframe tbody tr th:only-of-type {\n",
       "        vertical-align: middle;\n",
       "    }\n",
       "\n",
       "    .dataframe tbody tr th {\n",
       "        vertical-align: top;\n",
       "    }\n",
       "\n",
       "    .dataframe thead th {\n",
       "        text-align: right;\n",
       "    }\n",
       "</style>\n",
       "<table border=\"1\" class=\"dataframe\">\n",
       "  <thead>\n",
       "    <tr style=\"text-align: right;\">\n",
       "      <th></th>\n",
       "      <th>PC-1</th>\n",
       "      <th>PC-2</th>\n",
       "      <th>score</th>\n",
       "    </tr>\n",
       "  </thead>\n",
       "  <tbody>\n",
       "    <tr>\n",
       "      <th>PARPi rep1</th>\n",
       "      <td>42.012466</td>\n",
       "      <td>-12.790860</td>\n",
       "      <td>PARPi</td>\n",
       "    </tr>\n",
       "    <tr>\n",
       "      <th>PARPi rep2</th>\n",
       "      <td>35.160873</td>\n",
       "      <td>-7.829471</td>\n",
       "      <td>PARPi</td>\n",
       "    </tr>\n",
       "    <tr>\n",
       "      <th>DNAPKi rep1</th>\n",
       "      <td>-48.038116</td>\n",
       "      <td>-5.300872</td>\n",
       "      <td>DNAPKi</td>\n",
       "    </tr>\n",
       "    <tr>\n",
       "      <th>DNAPKi rep2</th>\n",
       "      <td>-49.015438</td>\n",
       "      <td>-21.487181</td>\n",
       "      <td>DNAPKi</td>\n",
       "    </tr>\n",
       "    <tr>\n",
       "      <th>ATMi rep1</th>\n",
       "      <td>-29.788280</td>\n",
       "      <td>-4.858507</td>\n",
       "      <td>ATMi</td>\n",
       "    </tr>\n",
       "    <tr>\n",
       "      <th>ATMi rep2</th>\n",
       "      <td>-28.606756</td>\n",
       "      <td>-20.052711</td>\n",
       "      <td>ATMi</td>\n",
       "    </tr>\n",
       "    <tr>\n",
       "      <th>ATRi rep1</th>\n",
       "      <td>31.518496</td>\n",
       "      <td>-8.258300</td>\n",
       "      <td>ATRi</td>\n",
       "    </tr>\n",
       "    <tr>\n",
       "      <th>ATRi rep2</th>\n",
       "      <td>33.939518</td>\n",
       "      <td>8.076000</td>\n",
       "      <td>ATRi</td>\n",
       "    </tr>\n",
       "    <tr>\n",
       "      <th>WEE1i rep1</th>\n",
       "      <td>8.669685</td>\n",
       "      <td>42.400562</td>\n",
       "      <td>WEE1i</td>\n",
       "    </tr>\n",
       "    <tr>\n",
       "      <th>WEE1i rep2</th>\n",
       "      <td>-38.483906</td>\n",
       "      <td>49.338211</td>\n",
       "      <td>WEE1i</td>\n",
       "    </tr>\n",
       "    <tr>\n",
       "      <th>PARPi+DNAPKi rep1</th>\n",
       "      <td>-44.541481</td>\n",
       "      <td>-6.182290</td>\n",
       "      <td>PARPi+DNAPKi</td>\n",
       "    </tr>\n",
       "    <tr>\n",
       "      <th>PARPi+DNAPKi rep2</th>\n",
       "      <td>-20.227190</td>\n",
       "      <td>-23.276367</td>\n",
       "      <td>PARPi+DNAPKi</td>\n",
       "    </tr>\n",
       "    <tr>\n",
       "      <th>PARPi+ATMi rep1</th>\n",
       "      <td>-9.610864</td>\n",
       "      <td>-24.882879</td>\n",
       "      <td>PARPi+ATMi</td>\n",
       "    </tr>\n",
       "    <tr>\n",
       "      <th>PARPi+ATMi rep2</th>\n",
       "      <td>-0.716190</td>\n",
       "      <td>-33.509769</td>\n",
       "      <td>PARPi+ATMi</td>\n",
       "    </tr>\n",
       "    <tr>\n",
       "      <th>PARPi+ATRi rep1</th>\n",
       "      <td>59.124435</td>\n",
       "      <td>-18.494703</td>\n",
       "      <td>PARPi+ATRi</td>\n",
       "    </tr>\n",
       "    <tr>\n",
       "      <th>PARPi+ATRi rep2</th>\n",
       "      <td>63.834225</td>\n",
       "      <td>3.737684</td>\n",
       "      <td>PARPi+ATRi</td>\n",
       "    </tr>\n",
       "    <tr>\n",
       "      <th>PARPi+WEE1i rep1</th>\n",
       "      <td>20.630590</td>\n",
       "      <td>49.588394</td>\n",
       "      <td>PARPi+WEE1i</td>\n",
       "    </tr>\n",
       "    <tr>\n",
       "      <th>PARPi+WEE1i rep2</th>\n",
       "      <td>-25.862064</td>\n",
       "      <td>33.783062</td>\n",
       "      <td>PARPi+WEE1i</td>\n",
       "    </tr>\n",
       "  </tbody>\n",
       "</table>\n",
       "</div>"
      ],
      "text/plain": [
       "                        PC-1       PC-2         score\n",
       "PARPi rep1         42.012466 -12.790860         PARPi\n",
       "PARPi rep2         35.160873  -7.829471         PARPi\n",
       "DNAPKi rep1       -48.038116  -5.300872        DNAPKi\n",
       "DNAPKi rep2       -49.015438 -21.487181        DNAPKi\n",
       "ATMi rep1         -29.788280  -4.858507          ATMi\n",
       "ATMi rep2         -28.606756 -20.052711          ATMi\n",
       "ATRi rep1          31.518496  -8.258300          ATRi\n",
       "ATRi rep2          33.939518   8.076000          ATRi\n",
       "WEE1i rep1          8.669685  42.400562         WEE1i\n",
       "WEE1i rep2        -38.483906  49.338211         WEE1i\n",
       "PARPi+DNAPKi rep1 -44.541481  -6.182290  PARPi+DNAPKi\n",
       "PARPi+DNAPKi rep2 -20.227190 -23.276367  PARPi+DNAPKi\n",
       "PARPi+ATMi rep1    -9.610864 -24.882879    PARPi+ATMi\n",
       "PARPi+ATMi rep2    -0.716190 -33.509769    PARPi+ATMi\n",
       "PARPi+ATRi rep1    59.124435 -18.494703    PARPi+ATRi\n",
       "PARPi+ATRi rep2    63.834225   3.737684    PARPi+ATRi\n",
       "PARPi+WEE1i rep1   20.630590  49.588394   PARPi+WEE1i\n",
       "PARPi+WEE1i rep2  -25.862064  33.783062   PARPi+WEE1i"
      ]
     },
     "execution_count": 48,
     "metadata": {},
     "output_type": "execute_result"
    }
   ],
   "source": [
    "pca"
   ]
  },
  {
   "cell_type": "code",
   "execution_count": 49,
   "id": "affe3991-dae6-40ac-961a-abbffa153ee0",
   "metadata": {
    "tags": []
   },
   "outputs": [],
   "source": [
    "from plotnine import *"
   ]
  },
  {
   "cell_type": "code",
   "execution_count": 52,
   "id": "a37799c0-53df-4748-a10f-880b6c736a79",
   "metadata": {
    "tags": []
   },
   "outputs": [],
   "source": [
    "pca_p =  (ggplot(pca) \n",
    " + geom_point(aes(\n",
    "     x = 'PC-1',\n",
    "     y = 'PC-2',\n",
    "     fill='score', \n",
    "     # shape = 'treatment'\n",
    " ), color='black', size = 8)\n",
    " + geom_text(aes(\n",
    "     x = 'PC-1',\n",
    "     y = 'PC-2',\n",
    "     label = 'score',\n",
    "     size = 3\n",
    " ),\n",
    "     nudge_y = 3,\n",
    "     nudge_x = 7,\n",
    "            )\n",
    " + theme_classic()\n",
    " + theme(\n",
    "     panel_grid_major   = element_blank(), \n",
    "     panel_grid_minor   = element_blank(), \n",
    "     panel_background   = element_blank(), \n",
    "     \n",
    "     legend_background  = element_blank(), \n",
    "     legend_position    = 'top',\n",
    "     legend_direction   = 'horizontal', # affected by the ncol=2\n",
    "     legend_text_legend = element_text(size=8),\n",
    "     \n",
    "     axis_line          = element_line(size=2),\n",
    "     axis_text_x        = element_text(size=8),\n",
    "     axis_text_y        = element_text(size=8),\n",
    "     axis_title_x       = element_text(weight='bold', size=12),\n",
    "     axis_title_y       = element_text(weight='bold', size=12),\n",
    "     \n",
    "     text               = element_text(font = 'arial'),\n",
    "\n",
    "     figure_size        = (4.5, 5)\n",
    " )\n",
    " + xlim(-60,80)\n",
    " # + ylim(-30,60)\n",
    "          # + scale_color_discrete(guide=False)\n",
    "\n",
    ")"
   ]
  },
  {
   "cell_type": "code",
   "execution_count": 53,
   "id": "9c85fada-8db4-4da6-9765-36c072f0669d",
   "metadata": {
    "tags": []
   },
   "outputs": [
    {
     "data": {
      "image/png": "[encoded data removed]",
      "text/plain": [
       "<Figure size 450x500 with 1 Axes>"
      ]
     },
     "metadata": {
      "image/png": {
       "height": 500,
       "width": 450
      }
     },
     "output_type": "display_data"
    },
    {
     "data": {
      "text/plain": [
       "<Figure Size: (450 x 500)>"
      ]
     },
     "execution_count": 53,
     "metadata": {},
     "output_type": "execute_result"
    }
   ],
   "source": [
    "pca_p"
   ]
  },
  {
   "cell_type": "code",
   "execution_count": 54,
   "id": "a638d49f-0355-434c-b01e-f75c74d49ef6",
   "metadata": {
    "tags": []
   },
   "outputs": [
    {
     "name": "stderr",
     "output_type": "stream",
     "text": [
      "/data_gilbert/home/aarab/anaconda3/envs/mamba/envs/screenpro2/lib/python3.9/site-packages/plotnine/ggplot.py:587: PlotnineWarning: Saving 4.5 x 5 in image.\n",
      "/data_gilbert/home/aarab/anaconda3/envs/mamba/envs/screenpro2/lib/python3.9/site-packages/plotnine/ggplot.py:588: PlotnineWarning: Filename: PCA_ggplot.pdf\n"
     ]
    }
   ],
   "source": [
    "pca_p.save('PCA_ggplot.pdf')"
   ]
  },
  {
   "cell_type": "markdown",
   "id": "bd77a472-f133-4816-aaca-2100e8bc9eae",
   "metadata": {
    "tags": []
   },
   "source": [
    "### Correlation plot"
   ]
  },
  {
   "cell_type": "code",
   "execution_count": 24,
   "id": "be45c3da-d6db-49a1-a281-b261cec4cc24",
   "metadata": {},
   "outputs": [],
   "source": [
    "Ci_pdata_ave_rho = Ci_pdata_ave[~Ci_pdata_ave.obs.treatment.eq('ctrl')].copy()"
   ]
  },
  {
   "cell_type": "code",
   "execution_count": 25,
   "id": "3675cdba-233a-4f36-ab7e-1d126c1ad265",
   "metadata": {},
   "outputs": [
    {
     "data": {
      "image/png": "[encoded data removed]",
      "text/plain": [
       "<Figure size 600x600 with 4 Axes>"
      ]
     },
     "metadata": {},
     "output_type": "display_data"
    }
   ],
   "source": [
    "df = Ci_pdata_ave_rho.to_df().T\n",
    "df.columns = df.columns.str.split(' ').str[0]\n",
    "\n",
    "corr = df.corr()\n",
    "\n",
    "g = sns.clustermap(corr, \n",
    "                   method = 'complete', \n",
    "                   # cmap   = 'rocket_r', \n",
    "                   cmap    = 'Blues', \n",
    "                   # annot   = True, \n",
    "                   vmin    = 0.2,\n",
    "                   vmax    = 0.7,\n",
    "                   annot_kws = {'size': 10},\n",
    "                   figsize=(6, 6)\n",
    "                  )\n",
    "mask = np.tril(np.ones_like(corr))\n",
    "\n",
    "values = g.ax_heatmap.collections[0].get_array().reshape(corr.shape)\n",
    "new_values = np.ma.array(values, mask=mask)\n",
    "g.ax_heatmap.collections[0].set_array(new_values)\n",
    "\n",
    "plt.setp(g.ax_heatmap.get_xticklabels(), rotation=90);\n",
    "\n",
    "g.savefig(\"corr.pdf\",transparent=True) "
   ]
  },
  {
   "cell_type": "markdown",
   "id": "4c0ea06e-8df4-4d13-bbea-26cb7487d222",
   "metadata": {},
   "source": [
    "## "
   ]
  },
  {
   "cell_type": "markdown",
   "id": "60e1a78a-7111-4fee-8982-01480f9f6244",
   "metadata": {
    "tags": []
   },
   "source": [
    "### gene corr!"
   ]
  },
  {
   "cell_type": "markdown",
   "id": "999fe71b-63ca-4488-ab1b-eee629fb24cd",
   "metadata": {},
   "source": [
    "___\n",
    "    Mon Jul 17 17:32:12 PDT 2023\n",
    "\n",
    "I need to fix this https://github.com/abearab/ScreenPro2/issues/9"
   ]
  },
  {
   "cell_type": "code",
   "execution_count": 85,
   "id": "adba37de-f597-4679-a13b-eaa54936bde8",
   "metadata": {},
   "outputs": [],
   "source": [
    "def get_annotated_score_df(adata,score,level, rep_label='ave_rep1_rep2'):\n",
    "\n",
    "    df = adata.phenotypes[level][score][rep_label][[\n",
    "        'average phenotype of strongest 3',\n",
    "        'Mann-Whitney p-value',\n",
    "    ]].reset_index('gene').reset_index(drop=True).copy()\n",
    "        \n",
    "    df = scp.phenoScore.ann_score_df(df, ctrl_label='pseudo')\n",
    "    \n",
    "    return df"
   ]
  },
  {
   "cell_type": "markdown",
   "id": "ae89c4ff-d8d4-4a0c-92c1-d9adf34e9513",
   "metadata": {},
   "source": [
    "___"
   ]
  },
  {
   "cell_type": "markdown",
   "id": "91870339-ee7b-4de6-ba64-f2e00af5b0de",
   "metadata": {},
   "source": [
    "`Ci`"
   ]
  },
  {
   "cell_type": "code",
   "execution_count": 87,
   "id": "2e49892e-ec5a-4286-8217-791203af2636",
   "metadata": {},
   "outputs": [],
   "source": [
    "df = pd.concat(dict([\n",
    "    (treat,get_annotated_score_df(Ci,score,'gene_scores').set_index('target'))\n",
    "    for treat, score in Ci.comparisons.items()\n",
    "]),axis=1)"
   ]
  },
  {
   "cell_type": "code",
   "execution_count": 88,
   "id": "5ee5da6b-2cc3-4b8d-beb2-79a4921f1ff6",
   "metadata": {},
   "outputs": [],
   "source": [
    "df.to_csv('results/Ci_all_gene_scores_with_hit_labels.csv')"
   ]
  },
  {
   "cell_type": "markdown",
   "id": "e5b23c7d-e3f3-4923-958a-2e8ca6c0ced9",
   "metadata": {},
   "source": [
    "___"
   ]
  },
  {
   "cell_type": "markdown",
   "id": "1dc19be0-3ab3-495b-bb75-a5df49b1ee6f",
   "metadata": {},
   "source": [
    "`Ca_A549`"
   ]
  },
  {
   "cell_type": "code",
   "execution_count": 103,
   "id": "2d17659d-d3e2-482a-a390-7803681abe99",
   "metadata": {},
   "outputs": [],
   "source": [
    "df = pd.concat(dict([\n",
    "    (treat,get_annotated_score_df(Ca_A549,score,'gene_scores',rep_label='Rep1').set_index('target'))\n",
    "    for treat, score in Ca_A549.comparisons.items()\n",
    "]),axis=1)"
   ]
  },
  {
   "cell_type": "code",
   "execution_count": 104,
   "id": "7583d1f7-14e2-45ba-92e9-4064f9b81928",
   "metadata": {},
   "outputs": [],
   "source": [
    "df.to_csv('results/Ca_A549_all_gene_scores_with_hit_labels.csv')"
   ]
  },
  {
   "cell_type": "markdown",
   "id": "b0edbafa-221e-4307-8916-8a61051b01e1",
   "metadata": {},
   "source": [
    "___"
   ]
  },
  {
   "cell_type": "markdown",
   "id": "293fdbfd-4ef4-4148-9c76-fce936a09d17",
   "metadata": {},
   "source": [
    "`Ca_A549`"
   ]
  },
  {
   "cell_type": "code",
   "execution_count": 105,
   "id": "cbb7b5eb-e8b3-4115-80e9-3f69e1ea58a9",
   "metadata": {},
   "outputs": [],
   "source": [
    "df = pd.concat(dict([\n",
    "    (treat,get_annotated_score_df(Ca_k562,score,'gene_scores').set_index('target'))\n",
    "    for treat, score in Ca_k562.comparisons.items()\n",
    "]),axis=1)"
   ]
  },
  {
   "cell_type": "code",
   "execution_count": 106,
   "id": "c3db0a18-a508-4038-8721-28ddce78daf6",
   "metadata": {},
   "outputs": [],
   "source": [
    "df.to_csv('results/Ca_k562_all_gene_scores_with_hit_labels.csv')"
   ]
  },
  {
   "cell_type": "markdown",
   "id": "a8c7405b-5b06-423d-991b-50e500ddb856",
   "metadata": {},
   "source": [
    "# "
   ]
  },
  {
   "cell_type": "code",
   "execution_count": 107,
   "id": "82cc36ad-a1ed-4532-8601-425f5bb6f199",
   "metadata": {
    "tags": []
   },
   "outputs": [
    {
     "name": "stdout",
     "output_type": "stream",
     "text": [
      "Last updated: 2023-10-24T13:52:52.692850-07:00\n",
      "\n",
      "Python implementation: CPython\n",
      "Python version       : 3.9.16\n",
      "IPython version      : 8.14.0\n",
      "\n",
      "Compiler    : GCC 11.3.0\n",
      "OS          : Linux\n",
      "Release     : 3.10.0-957.27.2.el7.x86_64\n",
      "Machine     : x86_64\n",
      "Processor   : x86_64\n",
      "CPU cores   : 64\n",
      "Architecture: 64bit\n",
      "\n",
      "________________________________________________________________________________\n",
      "screenpro : 0.2.3\n",
      "seaborn   : 0.12.2\n",
      "scanpy    : 1.9.3\n",
      "pandas    : 2.0.3\n",
      "matplotlib: 3.7.2\n",
      "anndata   : 0.9.1\n",
      "numpy     : 1.24.4\n",
      "\n"
     ]
    }
   ],
   "source": [
    "from watermark import watermark\n",
    "print(\n",
    "    watermark()\n",
    ")\n",
    "print('_'*80)\n",
    "print(\n",
    "    watermark(iversions=True, globals_=globals())\n",
    ")"
   ]
  }
 ],
 "metadata": {
  "kernelspec": {
   "display_name": "Python [conda env:screenpro2]",
   "language": "python",
   "name": "conda-env-screenpro2-py"
  },
  "language_info": {
   "codemirror_mode": {
    "name": "ipython",
    "version": 3
   },
   "file_extension": ".py",
   "mimetype": "text/x-python",
   "name": "python",
   "nbconvert_exporter": "python",
   "pygments_lexer": "ipython3",
   "version": "3.9.16"
  }
 },
 "nbformat": 4,
 "nbformat_minor": 5
}
