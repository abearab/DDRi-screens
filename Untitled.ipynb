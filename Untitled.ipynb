{
 "cells": [
  {
   "cell_type": "markdown",
   "id": "7cf4e62d-bddb-47bf-9005-9d7130d739cc",
   "metadata": {},
   "source": [
    "    T0: First timepoint \n",
    "    (Time Zero, after selection of cells with sgRNA library, and starting point of drug dosing)\n",
    "    DMSO: DMSO treated \n",
    "    Pi: PARP inhibitor (olaparib; AZD2281)\n",
    "    Ri: ATR inhibitor (AZD6738)\n",
    "    Wi: WEE1 inhibitor (AZD1775)\n",
    "    Mi: ATM inhibitor (AZD0156)\n",
    "    Ki: DNAPK inhibitor (AZD7648)\n",
    "\n",
    "\n",
    "    PiRi: PARP inhibitor + ATR inhibitor\n",
    "    PiWi: PARP inhibitor + WEE1 inhibitor\n",
    "    PiMi: PARP inhibitor + ATM inhibitor\n",
    "    PiKi: PARP inhibitor + DNAPK inhibitor"
   ]
  },
  {
   "cell_type": "markdown",
   "id": "82c414d8-d532-4223-8f2c-e1aade1a7047",
   "metadata": {},
   "source": [
    "### counts"
   ]
  },
  {
   "cell_type": "markdown",
   "id": "052c8296-1583-4f9a-9888-143346a37140",
   "metadata": {},
   "source": [
    "https://noamteyssier.github.io/sgcount/"
   ]
  },
  {
   "cell_type": "code",
   "execution_count": 4,
   "id": "ab2e3f08-07e0-46e4-9324-82840106c4f9",
   "metadata": {},
   "outputs": [
    {
     "name": "stdout",
     "output_type": "stream",
     "text": [
      "\u001b[0msgcount 0.1.26\n",
      "\u001b[0m"
     ]
    }
   ],
   "source": [
    "!sgcount --version"
   ]
  },
  {
   "cell_type": "code",
   "execution_count": null,
   "id": "dfe6ddd2-f95c-4408-9ea6-0d8e0da4cd5a",
   "metadata": {},
   "outputs": [],
   "source": []
  },
  {
   "cell_type": "code",
   "execution_count": 10,
   "id": "28600f9a-fed5-4c70-8307-fba6b829dbb0",
   "metadata": {},
   "outputs": [
    {
     "name": "stdout",
     "output_type": "stream",
     "text": [
      "@K00153:846:HHCTMBBXY:4:1101:3650:1279 1:N:0:GCCAAT\n",
      "GGCTGCGGCGGAACCACAAGGTTTAAGAGCTAAGCTGGAAACAGCATAGCA\n",
      "+\n",
      "<AFAFJJJJJFJJJJJJJJJAF<AJJJJJJJJJJJAFJJJFJJJJJJJJJJ\n",
      "@K00153:846:HHCTMBBXY:4:1101:3914:1279 1:N:0:GCCAAT\n",
      "GCGGAGCCGGGGCAATTGAGTTTAAGAGCTAAGCTGGAAACAGCATAGCAA\n",
      "+\n",
      "AAA<FFJJJJJJJJJAJFJJFJJJJJF7A<FJJJJFJJJJJJJFJFFFJJF\n",
      "@K00153:846:HHCTMBBXY:4:1101:4706:1279 1:N:0:GCCAAT\n",
      "GTAGCGGCGAGGTTAGCCAGTTTAAGAGCTAAGCTGGAAACAGCATAGCAA\n",
      "\n",
      "gzip: stdout: Broken pipe\n"
     ]
    }
   ],
   "source": [
    "!zcat CRISPRa/fastq_files/K562/DMSO_Rep1.fastq.gz | head"
   ]
  },
  {
   "cell_type": "code",
   "execution_count": null,
   "id": "e50463db-8efd-4f9f-bb9c-5ebace51ddae",
   "metadata": {},
   "outputs": [],
   "source": []
  },
  {
   "cell_type": "code",
   "execution_count": null,
   "id": "65f9d8e3-6ed6-4d4c-ac07-ec44c9109d1b",
   "metadata": {},
   "outputs": [],
   "source": []
  }
 ],
 "metadata": {
  "kernelspec": {
   "display_name": "Python [conda env:mamba-sgcount]",
   "language": "python",
   "name": "conda-env-mamba-sgcount-py"
  },
  "language_info": {
   "codemirror_mode": {
    "name": "ipython",
    "version": 3
   },
   "file_extension": ".py",
   "mimetype": "text/x-python",
   "name": "python",
   "nbconvert_exporter": "python",
   "pygments_lexer": "ipython3",
   "version": "3.11.0"
  }
 },
 "nbformat": 4,
 "nbformat_minor": 5
}
