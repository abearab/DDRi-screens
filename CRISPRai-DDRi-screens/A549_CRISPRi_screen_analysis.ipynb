{
 "cells": [
  {
   "cell_type": "code",
   "execution_count": 1,
   "id": "7aedf879-84fa-426f-87c5-dc4b40fa87fd",
   "metadata": {},
   "outputs": [],
   "source": [
    "# !pip uninstall -y screenpro2\n",
    "# # !pip install git+https://github.com/ArcInstitute/screenpro2.git@dev\n",
    "# !pip install ScreenPro2"
   ]
  },
  {
   "cell_type": "code",
   "execution_count": 2,
   "id": "0fc4f32d-940a-4ee4-994f-3f8e07658b5a",
   "metadata": {},
   "outputs": [],
   "source": [
    "drug_names = {\n",
    "    'Pi': 'PARPi',\n",
    "    'Ri': 'ATRi',\n",
    "    'Wi': 'WEE1i',\n",
    "    'Mi': 'ATMi',\n",
    "    'Ki': 'DNAPKi',\n",
    "    'PiRi': 'PARPi+ATRi',\n",
    "    'PiWi': 'PARPi+WEE1i',\n",
    "    'PiMi': 'PARPi+ATMi',\n",
    "    'PiKi': 'PARPi+DNAPKi'\n",
    "}"
   ]
  },
  {
   "cell_type": "code",
   "execution_count": 3,
   "id": "426990bc-9048-4889-a99b-178748506db6",
   "metadata": {},
   "outputs": [],
   "source": [
    "from glob import glob\n",
    "\n",
    "import numpy as np\n",
    "import pandas as pd \n",
    "import anndata as ad\n",
    "import scanpy as sc\n",
    "\n",
    "import screenpro as scp\n",
    "\n",
    "import matplotlib.pyplot as plt\n",
    "\n",
    "sc.settings.set_figure_params(\n",
    "    dpi=150, format='svg', \n",
    "    frameon=False, \n",
    "    figsize=(3, 3), \n",
    "    color_map='RdGy', \n",
    "    facecolor='white', \n",
    "    vector_friendly=True\n",
    ")"
   ]
  },
  {
   "cell_type": "code",
   "execution_count": 4,
   "id": "1a59685b-0209-4ba2-bf41-c675afca4e3b",
   "metadata": {},
   "outputs": [],
   "source": [
    "import datetime\n",
    "\n",
    "import matplotlib\n",
    "import matplotlib.ticker as ticker\n",
    "\n",
    "from matplotlib.backends.backend_pdf import PdfPages\n",
    "from matplotlib import font_manager as fm\n",
    "from matplotlib import rcParams, rc_context\n",
    "\n",
    "from screenpro.plotting._utils import almost_black, dark2\n",
    "\n",
    "\n",
    "matplotlib.use('cairo')\n",
    "\n",
    "font_files = fm.findSystemFonts(fontpaths='/home/abea/miniconda3/envs/screenpro2/fonts/', fontext='ttf')\n",
    "\n",
    "for font_file in font_files:\n",
    "    fm.fontManager.addfont(font_file)\n",
    "\n",
    "\n",
    "# {f.name for f in matplotlib.font_manager.fontManager.ttflist}\n",
    "\n",
    "rcParams['font.sans-serif'] = 'Helvetica'\n",
    "rcParams['font.family'] = ['Helvetica']\n",
    "rcParams['figure.dpi'] = 140\n",
    "\n",
    "rcParams['pdf.fonttype'] = 42\n",
    "rcParams['ps.fonttype'] = 42"
   ]
  },
  {
   "cell_type": "markdown",
   "id": "af4bb4a1-f985-49bf-90bc-b236c3676ae2",
   "metadata": {
    "tags": []
   },
   "source": [
    "## Step 1: FASTQ processing\n"
   ]
  },
  {
   "cell_type": "code",
   "execution_count": 5,
   "id": "6095b52b-988a-4aab-9605-70f3c0bcca2c",
   "metadata": {},
   "outputs": [],
   "source": [
    "library_table = pd.read_csv(\n",
    "    'CRISPRi_v2_human_librarytable.txt.gz', \n",
    "    sep = '\\t', index_col=False, low_memory=False)"
   ]
  },
  {
   "cell_type": "code",
   "execution_count": 6,
   "id": "9729ae9b-5690-4ec1-a696-70149c45b800",
   "metadata": {},
   "outputs": [],
   "source": [
    "samples = [\n",
    "    s.split('/')[-1].replace('.fastq.gz','')\n",
    "    for s in glob('fastq/A549_CRISPRi*.fastq.gz')\n",
    "]\n",
    "\n",
    "samples.sort()"
   ]
  },
  {
   "cell_type": "code",
   "execution_count": 7,
   "id": "8660a494-d20f-40b9-9f81-91f4fe83454e",
   "metadata": {},
   "outputs": [
    {
     "data": {
      "text/plain": [
       "['A549_CRISPRi_DMSO_rep1',\n",
       " 'A549_CRISPRi_DMSO_rep2',\n",
       " 'A549_CRISPRi_Ki_rep1',\n",
       " 'A549_CRISPRi_Ki_rep2',\n",
       " 'A549_CRISPRi_Mi_rep1',\n",
       " 'A549_CRISPRi_Mi_rep2',\n",
       " 'A549_CRISPRi_PiKi_rep1',\n",
       " 'A549_CRISPRi_PiKi_rep2',\n",
       " 'A549_CRISPRi_PiMi_rep1',\n",
       " 'A549_CRISPRi_PiMi_rep2',\n",
       " 'A549_CRISPRi_PiRi_rep1',\n",
       " 'A549_CRISPRi_PiRi_rep2',\n",
       " 'A549_CRISPRi_PiWi_rep1',\n",
       " 'A549_CRISPRi_PiWi_rep2',\n",
       " 'A549_CRISPRi_Pi_rep1',\n",
       " 'A549_CRISPRi_Pi_rep2',\n",
       " 'A549_CRISPRi_Ri_rep1',\n",
       " 'A549_CRISPRi_Ri_rep2',\n",
       " 'A549_CRISPRi_T0_rep1',\n",
       " 'A549_CRISPRi_T0_rep2',\n",
       " 'A549_CRISPRi_Wi_rep1',\n",
       " 'A549_CRISPRi_Wi_rep2']"
      ]
     },
     "execution_count": 7,
     "metadata": {},
     "output_type": "execute_result"
    }
   ],
   "source": [
    "samples"
   ]
  },
  {
   "cell_type": "markdown",
   "id": "7bebfd50-0011-403e-ae64-1c776d6012ad",
   "metadata": {
    "jp-MarkdownHeadingCollapsed": true
   },
   "source": [
    "### run `guideCounter`"
   ]
  },
  {
   "cell_type": "code",
   "execution_count": 8,
   "id": "38498f8b-1ac0-4bfa-b7c4-835d00563d14",
   "metadata": {},
   "outputs": [],
   "source": [
    "counter = scp.GuideCounter(cas_type = 'cas9', library_type = 'single_guide_design')"
   ]
  },
  {
   "cell_type": "code",
   "execution_count": 9,
   "id": "463198a2-c4f5-440d-8e14-8059c3f98c76",
   "metadata": {},
   "outputs": [
    {
     "data": {
      "text/html": [
       "<div>\n",
       "<style scoped>\n",
       "    .dataframe tbody tr th:only-of-type {\n",
       "        vertical-align: middle;\n",
       "    }\n",
       "\n",
       "    .dataframe tbody tr th {\n",
       "        vertical-align: top;\n",
       "    }\n",
       "\n",
       "    .dataframe thead th {\n",
       "        text-align: right;\n",
       "    }\n",
       "</style>\n",
       "<table border=\"1\" class=\"dataframe\">\n",
       "  <thead>\n",
       "    <tr style=\"text-align: right;\">\n",
       "      <th></th>\n",
       "      <th>sgId</th>\n",
       "      <th>sublibrary</th>\n",
       "      <th>gene</th>\n",
       "      <th>transcripts</th>\n",
       "      <th>sequence</th>\n",
       "    </tr>\n",
       "  </thead>\n",
       "  <tbody>\n",
       "    <tr>\n",
       "      <th>0</th>\n",
       "      <td>A1BG_-_58858617.23-P1</td>\n",
       "      <td>h3_top5</td>\n",
       "      <td>A1BG</td>\n",
       "      <td>P1</td>\n",
       "      <td>GGAGACCCAGCGCTAACCAG</td>\n",
       "    </tr>\n",
       "    <tr>\n",
       "      <th>1</th>\n",
       "      <td>A1BG_-_58858788.23-P1</td>\n",
       "      <td>h3_top5</td>\n",
       "      <td>A1BG</td>\n",
       "      <td>P1</td>\n",
       "      <td>GGGGCACCCAGGAGCGGTAG</td>\n",
       "    </tr>\n",
       "    <tr>\n",
       "      <th>2</th>\n",
       "      <td>A1BG_+_58858964.23-P1</td>\n",
       "      <td>h3_top5</td>\n",
       "      <td>A1BG</td>\n",
       "      <td>P1</td>\n",
       "      <td>GCTCCGGGCGACGTGGAGTG</td>\n",
       "    </tr>\n",
       "    <tr>\n",
       "      <th>3</th>\n",
       "      <td>A1BG_-_58858630.23-P1</td>\n",
       "      <td>h3_top5</td>\n",
       "      <td>A1BG</td>\n",
       "      <td>P1</td>\n",
       "      <td>GAACCAGGGGTGCCCAAGGG</td>\n",
       "    </tr>\n",
       "    <tr>\n",
       "      <th>4</th>\n",
       "      <td>A1BG_+_58858549.23-P1</td>\n",
       "      <td>h3_top5</td>\n",
       "      <td>A1BG</td>\n",
       "      <td>P1</td>\n",
       "      <td>GGCGAGGAACCGCCCAGCAA</td>\n",
       "    </tr>\n",
       "    <tr>\n",
       "      <th>...</th>\n",
       "      <td>...</td>\n",
       "      <td>...</td>\n",
       "      <td>...</td>\n",
       "      <td>...</td>\n",
       "      <td>...</td>\n",
       "    </tr>\n",
       "    <tr>\n",
       "      <th>209065</th>\n",
       "      <td>non-targeting_03785</td>\n",
       "      <td>h7_supp5</td>\n",
       "      <td>negative_control</td>\n",
       "      <td>na</td>\n",
       "      <td>GCTACTCCGCCCCGCGGGAG</td>\n",
       "    </tr>\n",
       "    <tr>\n",
       "      <th>209066</th>\n",
       "      <td>non-targeting_03786</td>\n",
       "      <td>h7_supp5</td>\n",
       "      <td>negative_control</td>\n",
       "      <td>na</td>\n",
       "      <td>GTGGCCGTTCATGGGACCGG</td>\n",
       "    </tr>\n",
       "    <tr>\n",
       "      <th>209067</th>\n",
       "      <td>non-targeting_03787</td>\n",
       "      <td>h7_supp5</td>\n",
       "      <td>negative_control</td>\n",
       "      <td>na</td>\n",
       "      <td>GAACTCTGTAGAAGGGACCG</td>\n",
       "    </tr>\n",
       "    <tr>\n",
       "      <th>209068</th>\n",
       "      <td>non-targeting_03788</td>\n",
       "      <td>h7_supp5</td>\n",
       "      <td>negative_control</td>\n",
       "      <td>na</td>\n",
       "      <td>GCTCGACAGCGACTGAAGAG</td>\n",
       "    </tr>\n",
       "    <tr>\n",
       "      <th>209069</th>\n",
       "      <td>non-targeting_03789</td>\n",
       "      <td>h7_supp5</td>\n",
       "      <td>negative_control</td>\n",
       "      <td>na</td>\n",
       "      <td>GAGAAGCCAACCTCGCGTTA</td>\n",
       "    </tr>\n",
       "  </tbody>\n",
       "</table>\n",
       "<p>209070 rows × 5 columns</p>\n",
       "</div>"
      ],
      "text/plain": [
       "                         sgId sublibrary              gene transcripts  \\\n",
       "0       A1BG_-_58858617.23-P1    h3_top5              A1BG          P1   \n",
       "1       A1BG_-_58858788.23-P1    h3_top5              A1BG          P1   \n",
       "2       A1BG_+_58858964.23-P1    h3_top5              A1BG          P1   \n",
       "3       A1BG_-_58858630.23-P1    h3_top5              A1BG          P1   \n",
       "4       A1BG_+_58858549.23-P1    h3_top5              A1BG          P1   \n",
       "...                       ...        ...               ...         ...   \n",
       "209065    non-targeting_03785   h7_supp5  negative_control          na   \n",
       "209066    non-targeting_03786   h7_supp5  negative_control          na   \n",
       "209067    non-targeting_03787   h7_supp5  negative_control          na   \n",
       "209068    non-targeting_03788   h7_supp5  negative_control          na   \n",
       "209069    non-targeting_03789   h7_supp5  negative_control          na   \n",
       "\n",
       "                    sequence  \n",
       "0       GGAGACCCAGCGCTAACCAG  \n",
       "1       GGGGCACCCAGGAGCGGTAG  \n",
       "2       GCTCCGGGCGACGTGGAGTG  \n",
       "3       GAACCAGGGGTGCCCAAGGG  \n",
       "4       GGCGAGGAACCGCCCAGCAA  \n",
       "...                      ...  \n",
       "209065  GCTACTCCGCCCCGCGGGAG  \n",
       "209066  GTGGCCGTTCATGGGACCGG  \n",
       "209067  GAACTCTGTAGAAGGGACCG  \n",
       "209068  GCTCGACAGCGACTGAAGAG  \n",
       "209069  GAGAAGCCAACCTCGCGTTA  \n",
       "\n",
       "[209070 rows x 5 columns]"
      ]
     },
     "execution_count": 9,
     "metadata": {},
     "output_type": "execute_result"
    }
   ],
   "source": [
    "library_table"
   ]
  },
  {
   "cell_type": "code",
   "execution_count": 10,
   "id": "f2567e08-c6d2-4b6f-a9a4-8bee433a7210",
   "metadata": {},
   "outputs": [
    {
     "name": "stdout",
     "output_type": "stream",
     "text": [
      "Trimming protospacer sequences in 'protospacer' column.\n",
      "Library table successfully loaded.\n",
      "Warning: 3422 duplicate sgRNA sequences found and removed.\n",
      "total # of cas9 sgRNAs: 205648\n"
     ]
    }
   ],
   "source": [
    "counter.load_library(\n",
    "    'CRISPRi_v2_human_librarytable.txt.gz', sep = '\\t', index_col=False,\n",
    "    # 'JR_V3lib_top2_v2.csv', sep = ',', \n",
    "    verbose = True,\n",
    "    low_memory=False\n",
    ")"
   ]
  },
  {
   "cell_type": "code",
   "execution_count": 11,
   "id": "33191f13-ec56-4f95-a26a-55b69a6de309",
   "metadata": {},
   "outputs": [
    {
     "name": "stdout",
     "output_type": "stream",
     "text": [
      "\u001b[1;32mA549_CRISPRi_DMSO_rep1\u001b[0m\n",
      "count file exists ...\n",
      "% mapped reads 88.63374797857534\n",
      "\u001b[1;32mA549_CRISPRi_DMSO_rep2\u001b[0m\n",
      "count file exists ...\n",
      "% mapped reads 80.83309342989601\n",
      "\u001b[1;32mA549_CRISPRi_Ki_rep1\u001b[0m\n",
      "count file exists ...\n",
      "% mapped reads 90.24498424671202\n",
      "\u001b[1;32mA549_CRISPRi_Ki_rep2\u001b[0m\n",
      "count file exists ...\n",
      "% mapped reads 89.39757479089117\n",
      "\u001b[1;32mA549_CRISPRi_Mi_rep1\u001b[0m\n",
      "count file exists ...\n",
      "% mapped reads 89.78796940558229\n",
      "\u001b[1;32mA549_CRISPRi_Mi_rep2\u001b[0m\n",
      "count file exists ...\n",
      "% mapped reads 89.46854195668756\n",
      "\u001b[1;32mA549_CRISPRi_PiKi_rep1\u001b[0m\n",
      "count file exists ...\n",
      "% mapped reads 90.54211297399893\n",
      "\u001b[1;32mA549_CRISPRi_PiKi_rep2\u001b[0m\n",
      "count file exists ...\n",
      "% mapped reads 89.53799107315274\n",
      "\u001b[1;32mA549_CRISPRi_PiMi_rep1\u001b[0m\n",
      "count file exists ...\n",
      "% mapped reads 89.40129422987994\n",
      "\u001b[1;32mA549_CRISPRi_PiMi_rep2\u001b[0m\n",
      "count file exists ...\n",
      "% mapped reads 89.56277272210386\n",
      "\u001b[1;32mA549_CRISPRi_PiRi_rep1\u001b[0m\n",
      "count file exists ...\n",
      "% mapped reads 88.53951639574869\n",
      "\u001b[1;32mA549_CRISPRi_PiRi_rep2\u001b[0m\n",
      "count file exists ...\n",
      "% mapped reads 82.28354294796591\n",
      "\u001b[1;32mA549_CRISPRi_PiWi_rep1\u001b[0m\n",
      "count file exists ...\n",
      "% mapped reads 78.65820794392235\n",
      "\u001b[1;32mA549_CRISPRi_PiWi_rep2\u001b[0m\n",
      "count file exists ...\n",
      "% mapped reads 90.29942422374195\n",
      "\u001b[1;32mA549_CRISPRi_Pi_rep1\u001b[0m\n",
      "count file exists ...\n",
      "% mapped reads 89.40826010320741\n",
      "\u001b[1;32mA549_CRISPRi_Pi_rep2\u001b[0m\n",
      "count file exists ...\n",
      "% mapped reads 89.62291699143317\n",
      "\u001b[1;32mA549_CRISPRi_Ri_rep1\u001b[0m\n",
      "count file exists ...\n",
      "% mapped reads 88.90645895064313\n",
      "\u001b[1;32mA549_CRISPRi_Ri_rep2\u001b[0m\n",
      "count file exists ...\n",
      "% mapped reads 80.66443304911108\n",
      "\u001b[1;32mA549_CRISPRi_T0_rep1\u001b[0m\n",
      "count file exists ...\n",
      "% mapped reads 88.58351586677279\n",
      "\u001b[1;32mA549_CRISPRi_T0_rep2\u001b[0m\n",
      "count file exists ...\n",
      "% mapped reads 89.09497578368858\n",
      "\u001b[1;32mA549_CRISPRi_Wi_rep1\u001b[0m\n",
      "count file exists ...\n",
      "% mapped reads 84.16754225351139\n",
      "\u001b[1;32mA549_CRISPRi_Wi_rep2\u001b[0m\n",
      "count file exists ...\n",
      "% mapped reads 90.06532696464365\n"
     ]
    }
   ],
   "source": [
    "counter.get_counts_matrix(\n",
    "    fastq_dir = 'fastq',\n",
    "    samples = samples,\n",
    "    # write='force',\n",
    "    trim_first_g=True,\n",
    "    verbose = True\n",
    ")"
   ]
  },
  {
   "cell_type": "code",
   "execution_count": 12,
   "id": "c61646e8-c693-4a14-b77d-88111d1cb9cd",
   "metadata": {},
   "outputs": [
    {
     "data": {
      "text/plain": [
       "A549_CRISPRi_DMSO_rep1     48.718589\n",
       "A549_CRISPRi_DMSO_rep2     28.086767\n",
       "A549_CRISPRi_Ki_rep1       37.695912\n",
       "A549_CRISPRi_Ki_rep2       23.865067\n",
       "A549_CRISPRi_Mi_rep1       32.910419\n",
       "A549_CRISPRi_Mi_rep2       46.517719\n",
       "A549_CRISPRi_PiKi_rep1     37.236937\n",
       "A549_CRISPRi_PiKi_rep2     78.800999\n",
       "A549_CRISPRi_PiMi_rep1     37.714290\n",
       "A549_CRISPRi_PiMi_rep2    108.729121\n",
       "A549_CRISPRi_PiRi_rep1     43.599360\n",
       "A549_CRISPRi_PiRi_rep2     19.454159\n",
       "A549_CRISPRi_PiWi_rep1     40.225769\n",
       "A549_CRISPRi_PiWi_rep2     37.929204\n",
       "A549_CRISPRi_Pi_rep1       45.441083\n",
       "A549_CRISPRi_Pi_rep2       33.736242\n",
       "A549_CRISPRi_Ri_rep1       54.166237\n",
       "A549_CRISPRi_Ri_rep2       32.538540\n",
       "A549_CRISPRi_T0_rep1       48.168472\n",
       "A549_CRISPRi_T0_rep2       33.978428\n",
       "A549_CRISPRi_Wi_rep1       86.448619\n",
       "A549_CRISPRi_Wi_rep2       34.393649\n",
       "dtype: float64"
      ]
     },
     "execution_count": 12,
     "metadata": {},
     "output_type": "execute_result"
    }
   ],
   "source": [
    "counter.counts_mat.sum() / 10**6"
   ]
  },
  {
   "cell_type": "code",
   "execution_count": 13,
   "id": "099a70c1-1e52-48ec-959a-64124fc6159a",
   "metadata": {},
   "outputs": [],
   "source": [
    "adata = counter.build_counts_anndata()"
   ]
  },
  {
   "cell_type": "code",
   "execution_count": 14,
   "id": "57f8d8ca-1461-4c5b-9477-de7027c82971",
   "metadata": {},
   "outputs": [],
   "source": [
    "adata.obs['condition'] = adata.obs.index.str.split('_').str[-2]\n",
    "adata.obs['replicate'] = adata.obs.index.str[-1:].astype(int)\n",
    "# adata.obs['pop_doublings'] = [1 if cond != 'T0' else 0 for cond in adata.obs['condition']]\n",
    "\n",
    "adata.var['targetType'] = ['gene' if t != 'negative_control' else 'negative_control' for t in adata.var.target]"
   ]
  },
  {
   "cell_type": "code",
   "execution_count": 15,
   "id": "321b4bf4",
   "metadata": {},
   "outputs": [
    {
     "data": {
      "text/html": [
       "<div>\n",
       "<style scoped>\n",
       "    .dataframe tbody tr th:only-of-type {\n",
       "        vertical-align: middle;\n",
       "    }\n",
       "\n",
       "    .dataframe tbody tr th {\n",
       "        vertical-align: top;\n",
       "    }\n",
       "\n",
       "    .dataframe thead th {\n",
       "        text-align: right;\n",
       "    }\n",
       "</style>\n",
       "<table border=\"1\" class=\"dataframe\">\n",
       "  <thead>\n",
       "    <tr style=\"text-align: right;\">\n",
       "      <th></th>\n",
       "      <th>condition</th>\n",
       "      <th>replicate</th>\n",
       "    </tr>\n",
       "  </thead>\n",
       "  <tbody>\n",
       "    <tr>\n",
       "      <th>A549_CRISPRi_DMSO_rep1</th>\n",
       "      <td>DMSO</td>\n",
       "      <td>1</td>\n",
       "    </tr>\n",
       "    <tr>\n",
       "      <th>A549_CRISPRi_DMSO_rep2</th>\n",
       "      <td>DMSO</td>\n",
       "      <td>2</td>\n",
       "    </tr>\n",
       "    <tr>\n",
       "      <th>A549_CRISPRi_Ki_rep1</th>\n",
       "      <td>Ki</td>\n",
       "      <td>1</td>\n",
       "    </tr>\n",
       "    <tr>\n",
       "      <th>A549_CRISPRi_Ki_rep2</th>\n",
       "      <td>Ki</td>\n",
       "      <td>2</td>\n",
       "    </tr>\n",
       "    <tr>\n",
       "      <th>A549_CRISPRi_Mi_rep1</th>\n",
       "      <td>Mi</td>\n",
       "      <td>1</td>\n",
       "    </tr>\n",
       "    <tr>\n",
       "      <th>A549_CRISPRi_Mi_rep2</th>\n",
       "      <td>Mi</td>\n",
       "      <td>2</td>\n",
       "    </tr>\n",
       "    <tr>\n",
       "      <th>A549_CRISPRi_PiKi_rep1</th>\n",
       "      <td>PiKi</td>\n",
       "      <td>1</td>\n",
       "    </tr>\n",
       "    <tr>\n",
       "      <th>A549_CRISPRi_PiKi_rep2</th>\n",
       "      <td>PiKi</td>\n",
       "      <td>2</td>\n",
       "    </tr>\n",
       "    <tr>\n",
       "      <th>A549_CRISPRi_PiMi_rep1</th>\n",
       "      <td>PiMi</td>\n",
       "      <td>1</td>\n",
       "    </tr>\n",
       "    <tr>\n",
       "      <th>A549_CRISPRi_PiMi_rep2</th>\n",
       "      <td>PiMi</td>\n",
       "      <td>2</td>\n",
       "    </tr>\n",
       "    <tr>\n",
       "      <th>A549_CRISPRi_PiRi_rep1</th>\n",
       "      <td>PiRi</td>\n",
       "      <td>1</td>\n",
       "    </tr>\n",
       "    <tr>\n",
       "      <th>A549_CRISPRi_PiRi_rep2</th>\n",
       "      <td>PiRi</td>\n",
       "      <td>2</td>\n",
       "    </tr>\n",
       "    <tr>\n",
       "      <th>A549_CRISPRi_PiWi_rep1</th>\n",
       "      <td>PiWi</td>\n",
       "      <td>1</td>\n",
       "    </tr>\n",
       "    <tr>\n",
       "      <th>A549_CRISPRi_PiWi_rep2</th>\n",
       "      <td>PiWi</td>\n",
       "      <td>2</td>\n",
       "    </tr>\n",
       "    <tr>\n",
       "      <th>A549_CRISPRi_Pi_rep1</th>\n",
       "      <td>Pi</td>\n",
       "      <td>1</td>\n",
       "    </tr>\n",
       "    <tr>\n",
       "      <th>A549_CRISPRi_Pi_rep2</th>\n",
       "      <td>Pi</td>\n",
       "      <td>2</td>\n",
       "    </tr>\n",
       "    <tr>\n",
       "      <th>A549_CRISPRi_Ri_rep1</th>\n",
       "      <td>Ri</td>\n",
       "      <td>1</td>\n",
       "    </tr>\n",
       "    <tr>\n",
       "      <th>A549_CRISPRi_Ri_rep2</th>\n",
       "      <td>Ri</td>\n",
       "      <td>2</td>\n",
       "    </tr>\n",
       "    <tr>\n",
       "      <th>A549_CRISPRi_T0_rep1</th>\n",
       "      <td>T0</td>\n",
       "      <td>1</td>\n",
       "    </tr>\n",
       "    <tr>\n",
       "      <th>A549_CRISPRi_T0_rep2</th>\n",
       "      <td>T0</td>\n",
       "      <td>2</td>\n",
       "    </tr>\n",
       "    <tr>\n",
       "      <th>A549_CRISPRi_Wi_rep1</th>\n",
       "      <td>Wi</td>\n",
       "      <td>1</td>\n",
       "    </tr>\n",
       "    <tr>\n",
       "      <th>A549_CRISPRi_Wi_rep2</th>\n",
       "      <td>Wi</td>\n",
       "      <td>2</td>\n",
       "    </tr>\n",
       "  </tbody>\n",
       "</table>\n",
       "</div>"
      ],
      "text/plain": [
       "                       condition  replicate\n",
       "A549_CRISPRi_DMSO_rep1      DMSO          1\n",
       "A549_CRISPRi_DMSO_rep2      DMSO          2\n",
       "A549_CRISPRi_Ki_rep1          Ki          1\n",
       "A549_CRISPRi_Ki_rep2          Ki          2\n",
       "A549_CRISPRi_Mi_rep1          Mi          1\n",
       "A549_CRISPRi_Mi_rep2          Mi          2\n",
       "A549_CRISPRi_PiKi_rep1      PiKi          1\n",
       "A549_CRISPRi_PiKi_rep2      PiKi          2\n",
       "A549_CRISPRi_PiMi_rep1      PiMi          1\n",
       "A549_CRISPRi_PiMi_rep2      PiMi          2\n",
       "A549_CRISPRi_PiRi_rep1      PiRi          1\n",
       "A549_CRISPRi_PiRi_rep2      PiRi          2\n",
       "A549_CRISPRi_PiWi_rep1      PiWi          1\n",
       "A549_CRISPRi_PiWi_rep2      PiWi          2\n",
       "A549_CRISPRi_Pi_rep1          Pi          1\n",
       "A549_CRISPRi_Pi_rep2          Pi          2\n",
       "A549_CRISPRi_Ri_rep1          Ri          1\n",
       "A549_CRISPRi_Ri_rep2          Ri          2\n",
       "A549_CRISPRi_T0_rep1          T0          1\n",
       "A549_CRISPRi_T0_rep2          T0          2\n",
       "A549_CRISPRi_Wi_rep1          Wi          1\n",
       "A549_CRISPRi_Wi_rep2          Wi          2"
      ]
     },
     "execution_count": 15,
     "metadata": {},
     "output_type": "execute_result"
    }
   ],
   "source": [
    "adata.obs"
   ]
  },
  {
   "cell_type": "code",
   "execution_count": 16,
   "id": "629e38f1-d48b-4533-9555-2dc4f1c6b6a6",
   "metadata": {},
   "outputs": [],
   "source": [
    "adata.write_h5ad('A549_CRISPRi_screens.h5ad.gz', compression='gzip')"
   ]
  },
  {
   "cell_type": "markdown",
   "id": "9527891a-120c-4286-8842-e676a695c00c",
   "metadata": {
    "tags": []
   },
   "source": [
    "### load counts and metadata"
   ]
  },
  {
   "cell_type": "code",
   "execution_count": 17,
   "id": "5b4a4c3f-3b2a-4c8b-94e5-f8125341c4f3",
   "metadata": {},
   "outputs": [],
   "source": [
    "adata = ad.read_h5ad('A549_CRISPRi_screens.h5ad.gz')\n",
    "\n",
    "# adata.obs = meta \n",
    "# adata.obs.treatment = adata.obs.treatment.str.replace('-','T0')\n",
    "# adata.obs = adata.obs.rename(columns={'treatment':'condition','rep':'replicate'})\n",
    "\n",
    "# adata.obs['pop_doublings'] = meta['pop doublings'].replace('-',np.nan).astype(float)"
   ]
  },
  {
   "cell_type": "code",
   "execution_count": 18,
   "id": "0887211d-192f-49c8-ab89-b226c94ae956",
   "metadata": {},
   "outputs": [],
   "source": [
    "adata.var['transcript'] = library_table.set_index('sgId').loc[adata.var.index, 'transcripts']\n",
    "adata.obs['replicate'] = adata.obs['replicate'].astype(int)"
   ]
  },
  {
   "cell_type": "markdown",
   "id": "a56a620e",
   "metadata": {},
   "source": [
    "___\n",
    "<!-- - filter low counts -->"
   ]
  },
  {
   "cell_type": "code",
   "execution_count": 19,
   "id": "c932a52f",
   "metadata": {},
   "outputs": [],
   "source": [
    "adata0 = adata.copy()"
   ]
  },
  {
   "cell_type": "markdown",
   "id": "0a418a0b-6fdb-4fb0-8aa5-330542b93e82",
   "metadata": {},
   "source": [
    "___"
   ]
  },
  {
   "attachments": {},
   "cell_type": "markdown",
   "id": "48df82d1-4245-41a9-82f6-03702850099b",
   "metadata": {},
   "source": [
    "# Step 2: Phenotype calculation\n",
    "\n",
    "- [x] Run `calculateDrugScreen` with `score_level=\"compare_reps\"` for guide-level analysis\n",
    "- [x] Run `calculateDrugScreen` with `score_level=\"compare_guides\"` for gene-level analysis"
   ]
  },
  {
   "cell_type": "markdown",
   "id": "d324c61d-1ca3-4484-a335-bd6c6ec5229a",
   "metadata": {},
   "source": [
    "### run phenoscore"
   ]
  },
  {
   "cell_type": "code",
   "execution_count": 20,
   "id": "9dc7fda7-2985-470e-a021-b73aeec1762c",
   "metadata": {},
   "outputs": [
    {
     "name": "stdout",
     "output_type": "stream",
     "text": [
      "104515 variables with less than 1 reads (filter_type: 'all')\n",
      "Pseudocount added to counts.\n",
      "Counts normalized by sequencing depth.\n"
     ]
    }
   ],
   "source": [
    "screen = scp.PooledScreens(adata, verbose=True, n_reps=2)\n",
    "\n",
    "screen.filterLowCounts()\n",
    "\n",
    "screen.countNormalization()"
   ]
  },
  {
   "cell_type": "code",
   "execution_count": 21,
   "id": "5f7bcae0",
   "metadata": {},
   "outputs": [
    {
     "name": "stderr",
     "output_type": "stream",
     "text": [
      "/home/abea/miniconda3/envs/screenpro2/lib/python3.11/site-packages/screenpro/assays/__init__.py:88: UserWarning: No doubling rate information provided.\n",
      "  warnings.warn('No doubling rate information provided.')\n"
     ]
    },
    {
     "name": "stdout",
     "output_type": "stream",
     "text": [
      "\tDMSO vs T0\n"
     ]
    },
    {
     "name": "stderr",
     "output_type": "stream",
     "text": [
      "/home/abea/miniconda3/envs/screenpro2/lib/python3.11/site-packages/screenpro/assays/__init__.py:88: UserWarning: No doubling rate information provided.\n",
      "  warnings.warn('No doubling rate information provided.')\n"
     ]
    },
    {
     "name": "stdout",
     "output_type": "stream",
     "text": [
      "\tPi vs T0\n",
      "\tPi vs DMSO\n"
     ]
    },
    {
     "name": "stderr",
     "output_type": "stream",
     "text": [
      "/home/abea/miniconda3/envs/screenpro2/lib/python3.11/site-packages/screenpro/assays/__init__.py:88: UserWarning: No doubling rate information provided.\n",
      "  warnings.warn('No doubling rate information provided.')\n"
     ]
    },
    {
     "name": "stdout",
     "output_type": "stream",
     "text": [
      "\tRi vs T0\n",
      "\tRi vs DMSO\n"
     ]
    },
    {
     "name": "stderr",
     "output_type": "stream",
     "text": [
      "/home/abea/miniconda3/envs/screenpro2/lib/python3.11/site-packages/screenpro/assays/__init__.py:88: UserWarning: No doubling rate information provided.\n",
      "  warnings.warn('No doubling rate information provided.')\n"
     ]
    },
    {
     "name": "stdout",
     "output_type": "stream",
     "text": [
      "\tPiRi vs T0\n",
      "\tPiRi vs DMSO\n"
     ]
    },
    {
     "name": "stderr",
     "output_type": "stream",
     "text": [
      "/home/abea/miniconda3/envs/screenpro2/lib/python3.11/site-packages/screenpro/assays/__init__.py:88: UserWarning: No doubling rate information provided.\n",
      "  warnings.warn('No doubling rate information provided.')\n"
     ]
    },
    {
     "name": "stdout",
     "output_type": "stream",
     "text": [
      "\tMi vs T0\n",
      "\tMi vs DMSO\n"
     ]
    },
    {
     "name": "stderr",
     "output_type": "stream",
     "text": [
      "/home/abea/miniconda3/envs/screenpro2/lib/python3.11/site-packages/screenpro/assays/__init__.py:88: UserWarning: No doubling rate information provided.\n",
      "  warnings.warn('No doubling rate information provided.')\n"
     ]
    },
    {
     "name": "stdout",
     "output_type": "stream",
     "text": [
      "\tPiMi vs T0\n",
      "\tPiMi vs DMSO\n"
     ]
    },
    {
     "name": "stderr",
     "output_type": "stream",
     "text": [
      "/home/abea/miniconda3/envs/screenpro2/lib/python3.11/site-packages/screenpro/assays/__init__.py:88: UserWarning: No doubling rate information provided.\n",
      "  warnings.warn('No doubling rate information provided.')\n"
     ]
    },
    {
     "name": "stdout",
     "output_type": "stream",
     "text": [
      "\tWi vs T0\n",
      "\tWi vs DMSO\n"
     ]
    },
    {
     "name": "stderr",
     "output_type": "stream",
     "text": [
      "/home/abea/miniconda3/envs/screenpro2/lib/python3.11/site-packages/screenpro/assays/__init__.py:88: UserWarning: No doubling rate information provided.\n",
      "  warnings.warn('No doubling rate information provided.')\n"
     ]
    },
    {
     "name": "stdout",
     "output_type": "stream",
     "text": [
      "\tPiWi vs T0\n",
      "\tPiWi vs DMSO\n"
     ]
    },
    {
     "name": "stderr",
     "output_type": "stream",
     "text": [
      "/home/abea/miniconda3/envs/screenpro2/lib/python3.11/site-packages/screenpro/assays/__init__.py:88: UserWarning: No doubling rate information provided.\n",
      "  warnings.warn('No doubling rate information provided.')\n"
     ]
    },
    {
     "name": "stdout",
     "output_type": "stream",
     "text": [
      "\tKi vs T0\n",
      "\tKi vs DMSO\n"
     ]
    },
    {
     "name": "stderr",
     "output_type": "stream",
     "text": [
      "/home/abea/miniconda3/envs/screenpro2/lib/python3.11/site-packages/screenpro/assays/__init__.py:88: UserWarning: No doubling rate information provided.\n",
      "  warnings.warn('No doubling rate information provided.')\n"
     ]
    },
    {
     "name": "stdout",
     "output_type": "stream",
     "text": [
      "\tPiKi vs T0\n",
      "\tPiKi vs DMSO\n"
     ]
    }
   ],
   "source": [
    "screen.calculateDrugScreen(\n",
    "    score_level='compare_reps',\n",
    "    untreated='DMSO', treated=[\n",
    "        'Pi','Ri','PiRi',\n",
    "        'Mi','PiMi',\n",
    "        'Wi','PiWi',\n",
    "        'Ki','PiKi'\n",
    "    ],\n",
    "    t0='T0', \n",
    "    # count_filter_type='either',\n",
    "    var_names=['target','transcript'],\n",
    ")"
   ]
  },
  {
   "cell_type": "code",
   "execution_count": 22,
   "id": "d66a489c-1540-4eca-839e-9864af9156c6",
   "metadata": {},
   "outputs": [
    {
     "name": "stderr",
     "output_type": "stream",
     "text": [
      "/home/abea/miniconda3/envs/screenpro2/lib/python3.11/site-packages/screenpro/assays/__init__.py:88: UserWarning: No doubling rate information provided.\n",
      "  warnings.warn('No doubling rate information provided.')\n"
     ]
    },
    {
     "name": "stdout",
     "output_type": "stream",
     "text": [
      "\tDMSO vs T0\n"
     ]
    },
    {
     "name": "stderr",
     "output_type": "stream",
     "text": [
      "/home/abea/miniconda3/envs/screenpro2/lib/python3.11/site-packages/screenpro/assays/__init__.py:88: UserWarning: No doubling rate information provided.\n",
      "  warnings.warn('No doubling rate information provided.')\n"
     ]
    },
    {
     "name": "stdout",
     "output_type": "stream",
     "text": [
      "\tPi vs T0\n",
      "\tPi vs DMSO\n"
     ]
    },
    {
     "name": "stderr",
     "output_type": "stream",
     "text": [
      "/home/abea/miniconda3/envs/screenpro2/lib/python3.11/site-packages/screenpro/assays/__init__.py:88: UserWarning: No doubling rate information provided.\n",
      "  warnings.warn('No doubling rate information provided.')\n"
     ]
    },
    {
     "name": "stdout",
     "output_type": "stream",
     "text": [
      "\tRi vs T0\n",
      "\tRi vs DMSO\n"
     ]
    },
    {
     "name": "stderr",
     "output_type": "stream",
     "text": [
      "/home/abea/miniconda3/envs/screenpro2/lib/python3.11/site-packages/screenpro/assays/__init__.py:88: UserWarning: No doubling rate information provided.\n",
      "  warnings.warn('No doubling rate information provided.')\n"
     ]
    },
    {
     "name": "stdout",
     "output_type": "stream",
     "text": [
      "\tPiRi vs T0\n",
      "\tPiRi vs DMSO\n"
     ]
    },
    {
     "name": "stderr",
     "output_type": "stream",
     "text": [
      "/home/abea/miniconda3/envs/screenpro2/lib/python3.11/site-packages/screenpro/assays/__init__.py:88: UserWarning: No doubling rate information provided.\n",
      "  warnings.warn('No doubling rate information provided.')\n"
     ]
    },
    {
     "name": "stdout",
     "output_type": "stream",
     "text": [
      "\tMi vs T0\n",
      "\tMi vs DMSO\n"
     ]
    },
    {
     "name": "stderr",
     "output_type": "stream",
     "text": [
      "/home/abea/miniconda3/envs/screenpro2/lib/python3.11/site-packages/screenpro/assays/__init__.py:88: UserWarning: No doubling rate information provided.\n",
      "  warnings.warn('No doubling rate information provided.')\n"
     ]
    },
    {
     "name": "stdout",
     "output_type": "stream",
     "text": [
      "\tPiMi vs T0\n",
      "\tPiMi vs DMSO\n"
     ]
    },
    {
     "name": "stderr",
     "output_type": "stream",
     "text": [
      "/home/abea/miniconda3/envs/screenpro2/lib/python3.11/site-packages/screenpro/assays/__init__.py:88: UserWarning: No doubling rate information provided.\n",
      "  warnings.warn('No doubling rate information provided.')\n"
     ]
    },
    {
     "name": "stdout",
     "output_type": "stream",
     "text": [
      "\tWi vs T0\n",
      "\tWi vs DMSO\n"
     ]
    },
    {
     "name": "stderr",
     "output_type": "stream",
     "text": [
      "/home/abea/miniconda3/envs/screenpro2/lib/python3.11/site-packages/screenpro/assays/__init__.py:88: UserWarning: No doubling rate information provided.\n",
      "  warnings.warn('No doubling rate information provided.')\n"
     ]
    },
    {
     "name": "stdout",
     "output_type": "stream",
     "text": [
      "\tPiWi vs T0\n",
      "\tPiWi vs DMSO\n"
     ]
    },
    {
     "name": "stderr",
     "output_type": "stream",
     "text": [
      "/home/abea/miniconda3/envs/screenpro2/lib/python3.11/site-packages/screenpro/assays/__init__.py:88: UserWarning: No doubling rate information provided.\n",
      "  warnings.warn('No doubling rate information provided.')\n"
     ]
    },
    {
     "name": "stdout",
     "output_type": "stream",
     "text": [
      "\tKi vs T0\n",
      "\tKi vs DMSO\n"
     ]
    },
    {
     "name": "stderr",
     "output_type": "stream",
     "text": [
      "/home/abea/miniconda3/envs/screenpro2/lib/python3.11/site-packages/screenpro/assays/__init__.py:88: UserWarning: No doubling rate information provided.\n",
      "  warnings.warn('No doubling rate information provided.')\n"
     ]
    },
    {
     "name": "stdout",
     "output_type": "stream",
     "text": [
      "\tPiKi vs T0\n",
      "\tPiKi vs DMSO\n"
     ]
    }
   ],
   "source": [
    "screen.calculateDrugScreen(\n",
    "    score_level='compare_guides',\n",
    "    untreated='DMSO', treated=[\n",
    "        'Pi','Ri','PiRi',\n",
    "        'Mi','PiMi',\n",
    "        'Wi','PiWi',\n",
    "        'Ki','PiKi'\n",
    "    ],\n",
    "    t0='T0', \n",
    "    # count_filter_type='either',\n",
    "    keep_top_n = 3,\n",
    "    var_names=['target','transcript'],\n",
    "    collapse_var='target'\n",
    "    # run_name='compare_guides_top_3',\n",
    ")"
   ]
  },
  {
   "cell_type": "markdown",
   "id": "cb0cdca2-064e-4f4b-ae42-b8ed0bfe81f9",
   "metadata": {},
   "source": [
    "___"
   ]
  },
  {
   "cell_type": "code",
   "execution_count": 25,
   "id": "e347c49d-db55-432f-bf83-aa7bcb7a2bea",
   "metadata": {},
   "outputs": [
    {
     "name": "stdout",
     "output_type": "stream",
     "text": [
      "Object successfully saved to \"A549_CRISPRi_screens.pkl\"\n"
     ]
    }
   ],
   "source": [
    "scp.load._write_screen_pkl(screen,'A549_CRISPRi_screens')"
   ]
  },
  {
   "cell_type": "markdown",
   "id": "ab518338",
   "metadata": {},
   "source": [
    "___"
   ]
  },
  {
   "cell_type": "markdown",
   "id": "0db00d59-66ed-4ec7-a4d6-31fca4714807",
   "metadata": {},
   "source": [
    "# "
   ]
  },
  {
   "cell_type": "code",
   "execution_count": 34,
   "id": "29b52369-c803-47bd-b98e-b3e9d640100b",
   "metadata": {
    "tags": []
   },
   "outputs": [],
   "source": [
    "%reload_ext watermark"
   ]
  },
  {
   "cell_type": "code",
   "execution_count": 35,
   "id": "b0a42a6b-a671-4c21-8c6b-c49a64a1b498",
   "metadata": {
    "tags": []
   },
   "outputs": [
    {
     "name": "stdout",
     "output_type": "stream",
     "text": [
      "Last updated: 2024-09-22T00:29:45.118497-07:00\n",
      "\n",
      "Python implementation: CPython\n",
      "Python version       : 3.11.9\n",
      "IPython version      : 8.27.0\n",
      "\n",
      "Compiler    : GCC 11.2.0\n",
      "OS          : Linux\n",
      "Release     : 5.15.0-119-generic\n",
      "Machine     : x86_64\n",
      "Processor   : x86_64\n",
      "CPU cores   : 64\n",
      "Architecture: 64bit\n",
      "\n"
     ]
    }
   ],
   "source": [
    "%watermark"
   ]
  },
  {
   "cell_type": "code",
   "execution_count": 36,
   "id": "9f2d7675-071b-435c-88f9-86885bab0011",
   "metadata": {
    "tags": []
   },
   "outputs": [
    {
     "name": "stdout",
     "output_type": "stream",
     "text": [
      "matplotlib: 3.6.2\n",
      "pandas    : 1.5.3\n",
      "anndata   : 0.10.9\n",
      "scanpy    : 1.10.3\n",
      "screenpro : 0.4.14\n",
      "numpy     : 1.26.4\n",
      "blitzgsea : 1.3.47\n",
      "\n"
     ]
    }
   ],
   "source": [
    "%watermark --iversions"
   ]
  },
  {
   "cell_type": "markdown",
   "id": "e9c9d95b-1a81-4dce-a78b-9bc82f0ec212",
   "metadata": {},
   "source": [
    "___"
   ]
  }
 ],
 "metadata": {
  "kernelspec": {
   "display_name": "screenpro2",
   "language": "python",
   "name": "python3"
  },
  "language_info": {
   "codemirror_mode": {
    "name": "ipython",
    "version": 3
   },
   "file_extension": ".py",
   "mimetype": "text/x-python",
   "name": "python",
   "nbconvert_exporter": "python",
   "pygments_lexer": "ipython3",
   "version": "3.11.9"
  },
  "widgets": {
   "application/vnd.jupyter.widget-state+json": {
    "state": {},
    "version_major": 2,
    "version_minor": 0
   }
  }
 },
 "nbformat": 4,
 "nbformat_minor": 5
}
