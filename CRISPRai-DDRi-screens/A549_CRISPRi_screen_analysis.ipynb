{
 "cells": [
  {
   "cell_type": "code",
   "execution_count": 1,
   "id": "7aedf879-84fa-426f-87c5-dc4b40fa87fd",
   "metadata": {},
   "outputs": [
    {
     "name": "stdout",
     "output_type": "stream",
     "text": [
      "Found existing installation: ScreenPro2 0.4.12\n",
      "Uninstalling ScreenPro2-0.4.12:\n",
      "  Successfully uninstalled ScreenPro2-0.4.12\n",
      "Collecting git+https://github.com/ArcInstitute/screenpro2.git@dev\n",
      "  Cloning https://github.com/ArcInstitute/screenpro2.git (to revision dev) to /tmp/pip-req-build-_kq2dxr3\n",
      "  Running command git clone --filter=blob:none --quiet https://github.com/ArcInstitute/screenpro2.git /tmp/pip-req-build-_kq2dxr3\n",
      "  Running command git checkout -b dev --track origin/dev\n",
      "  Switched to a new branch 'dev'\n",
      "  Branch 'dev' set up to track remote branch 'dev' from 'origin'.\n",
      "  Resolved https://github.com/ArcInstitute/screenpro2.git to commit eeee5f0c69d908f3ac55e5dbb8935d1aac745ba7\n",
      "  Preparing metadata (setup.py) ... \u001b[?25ldone\n",
      "\u001b[?25hBuilding wheels for collected packages: ScreenPro2\n",
      "  Building wheel for ScreenPro2 (setup.py) ... \u001b[?25ldone\n",
      "\u001b[?25h  Created wheel for ScreenPro2: filename=ScreenPro2-0.4.12-py3-none-any.whl size=42978 sha256=5bba5ad748f94c8a848961f694c9caf2c6647ea5131b415e243d7992f2201c8c\n",
      "  Stored in directory: /tmp/pip-ephem-wheel-cache-rxdu61i_/wheels/4c/5b/3b/b0fb7e5295ecc7453394ca2c5680bf423c37c4917767218de0\n",
      "Successfully built ScreenPro2\n",
      "Installing collected packages: ScreenPro2\n",
      "Successfully installed ScreenPro2-0.4.12\n"
     ]
    }
   ],
   "source": [
    "!pip uninstall -y screenpro2\n",
    "!pip install git+https://github.com/ArcInstitute/screenpro2.git@dev\n",
    "# !pip install ScreenPro2"
   ]
  },
  {
   "cell_type": "code",
   "execution_count": 2,
   "id": "0fc4f32d-940a-4ee4-994f-3f8e07658b5a",
   "metadata": {},
   "outputs": [],
   "source": [
    "drug_names = {\n",
    "    'Pi': 'PARPi',\n",
    "    'Ri': 'ATRi',\n",
    "    'Wi': 'WEE1i',\n",
    "    'Mi': 'ATMi',\n",
    "    'Ki': 'DNAPKi',\n",
    "    'PiRi': 'PARPi+ATRi',\n",
    "    'PiWi': 'PARPi+WEE1i',\n",
    "    'PiMi': 'PARPi+ATMi',\n",
    "    'PiKi': 'PARPi+DNAPKi'\n",
    "}"
   ]
  },
  {
   "cell_type": "code",
   "execution_count": 3,
   "id": "426990bc-9048-4889-a99b-178748506db6",
   "metadata": {},
   "outputs": [],
   "source": [
    "from glob import glob\n",
    "\n",
    "import numpy as np\n",
    "import pandas as pd \n",
    "import anndata as ad\n",
    "import scanpy as sc\n",
    "\n",
    "import screenpro as scp\n",
    "\n",
    "import matplotlib.pyplot as plt\n",
    "\n",
    "sc.settings.set_figure_params(\n",
    "    dpi=150, format='svg', frameon=False, figsize=(3, 3), color_map='RdGy', \n",
    "    facecolor='white', \n",
    "    vector_friendly=True\n",
    ")"
   ]
  },
  {
   "cell_type": "code",
   "execution_count": 4,
   "id": "1a59685b-0209-4ba2-bf41-c675afca4e3b",
   "metadata": {},
   "outputs": [],
   "source": [
    "import datetime\n",
    "\n",
    "import matplotlib\n",
    "import matplotlib.ticker as ticker\n",
    "\n",
    "from matplotlib.backends.backend_pdf import PdfPages\n",
    "from matplotlib import font_manager as fm\n",
    "from matplotlib import rcParams, rc_context\n",
    "\n",
    "from screenpro.plotting._utils import almost_black, dark2\n",
    "\n",
    "\n",
    "matplotlib.use('cairo')\n",
    "\n",
    "font_files = fm.findSystemFonts(fontpaths='/home/abea/miniconda3/envs/screenpro2/fonts/', fontext='ttf')\n",
    "\n",
    "for font_file in font_files:\n",
    "    fm.fontManager.addfont(font_file)\n",
    "\n",
    "\n",
    "# {f.name for f in matplotlib.font_manager.fontManager.ttflist}\n",
    "\n",
    "rcParams['font.sans-serif'] = 'Helvetica'\n",
    "rcParams['font.family'] = ['Helvetica']\n",
    "rcParams['figure.dpi'] = 140\n",
    "\n",
    "rcParams['pdf.fonttype'] = 42\n",
    "rcParams['ps.fonttype'] = 42"
   ]
  },
  {
   "cell_type": "markdown",
   "id": "af4bb4a1-f985-49bf-90bc-b236c3676ae2",
   "metadata": {
    "tags": []
   },
   "source": [
    "## Step 1: FASTQ processing\n"
   ]
  },
  {
   "cell_type": "code",
   "execution_count": 5,
   "id": "6095b52b-988a-4aab-9605-70f3c0bcca2c",
   "metadata": {},
   "outputs": [],
   "source": [
    "library_table = pd.read_csv(\n",
    "    'CRISPRi_v2_human_librarytable.txt.gz', \n",
    "    sep = '\\t', index_col=False, low_memory=False)"
   ]
  },
  {
   "cell_type": "code",
   "execution_count": 6,
   "id": "9729ae9b-5690-4ec1-a696-70149c45b800",
   "metadata": {},
   "outputs": [],
   "source": [
    "samples = [\n",
    "    s.split('/')[-1].replace('.fastq.gz','')\n",
    "    for s in glob('fastq/A549_CRISPRi*.fastq.gz')\n",
    "]\n",
    "\n",
    "samples.sort()"
   ]
  },
  {
   "cell_type": "code",
   "execution_count": 7,
   "id": "8660a494-d20f-40b9-9f81-91f4fe83454e",
   "metadata": {},
   "outputs": [
    {
     "data": {
      "text/plain": [
       "['A549_CRISPRi_DMSO_rep1',\n",
       " 'A549_CRISPRi_DMSO_rep2',\n",
       " 'A549_CRISPRi_Ki_rep1',\n",
       " 'A549_CRISPRi_Ki_rep2',\n",
       " 'A549_CRISPRi_Mi_rep1',\n",
       " 'A549_CRISPRi_Mi_rep2',\n",
       " 'A549_CRISPRi_PiKi_rep1',\n",
       " 'A549_CRISPRi_PiKi_rep2',\n",
       " 'A549_CRISPRi_PiMi_rep1',\n",
       " 'A549_CRISPRi_PiMi_rep2',\n",
       " 'A549_CRISPRi_PiRi_rep1',\n",
       " 'A549_CRISPRi_PiRi_rep2',\n",
       " 'A549_CRISPRi_PiWi_rep1',\n",
       " 'A549_CRISPRi_PiWi_rep2',\n",
       " 'A549_CRISPRi_Pi_rep1',\n",
       " 'A549_CRISPRi_Pi_rep2',\n",
       " 'A549_CRISPRi_Ri_rep1',\n",
       " 'A549_CRISPRi_Ri_rep2',\n",
       " 'A549_CRISPRi_T0_rep1',\n",
       " 'A549_CRISPRi_T0_rep2',\n",
       " 'A549_CRISPRi_Wi_rep1',\n",
       " 'A549_CRISPRi_Wi_rep2']"
      ]
     },
     "execution_count": 7,
     "metadata": {},
     "output_type": "execute_result"
    }
   ],
   "source": [
    "samples"
   ]
  },
  {
   "cell_type": "markdown",
   "id": "7bebfd50-0011-403e-ae64-1c776d6012ad",
   "metadata": {
    "jp-MarkdownHeadingCollapsed": true
   },
   "source": [
    "### run `guideCounter`"
   ]
  },
  {
   "cell_type": "code",
   "execution_count": 10,
   "id": "38498f8b-1ac0-4bfa-b7c4-835d00563d14",
   "metadata": {},
   "outputs": [],
   "source": [
    "counter = scp.GuideCounter(cas_type = 'cas9', library_type = 'single_guide_design')"
   ]
  },
  {
   "cell_type": "code",
   "execution_count": 11,
   "id": "463198a2-c4f5-440d-8e14-8059c3f98c76",
   "metadata": {},
   "outputs": [
    {
     "data": {
      "text/html": [
       "<div>\n",
       "<style scoped>\n",
       "    .dataframe tbody tr th:only-of-type {\n",
       "        vertical-align: middle;\n",
       "    }\n",
       "\n",
       "    .dataframe tbody tr th {\n",
       "        vertical-align: top;\n",
       "    }\n",
       "\n",
       "    .dataframe thead th {\n",
       "        text-align: right;\n",
       "    }\n",
       "</style>\n",
       "<table border=\"1\" class=\"dataframe\">\n",
       "  <thead>\n",
       "    <tr style=\"text-align: right;\">\n",
       "      <th></th>\n",
       "      <th>sgId</th>\n",
       "      <th>sublibrary</th>\n",
       "      <th>gene</th>\n",
       "      <th>transcripts</th>\n",
       "      <th>sequence</th>\n",
       "    </tr>\n",
       "  </thead>\n",
       "  <tbody>\n",
       "    <tr>\n",
       "      <th>0</th>\n",
       "      <td>A1BG_-_58858617.23-P1</td>\n",
       "      <td>h3_top5</td>\n",
       "      <td>A1BG</td>\n",
       "      <td>P1</td>\n",
       "      <td>GGAGACCCAGCGCTAACCAG</td>\n",
       "    </tr>\n",
       "    <tr>\n",
       "      <th>1</th>\n",
       "      <td>A1BG_-_58858788.23-P1</td>\n",
       "      <td>h3_top5</td>\n",
       "      <td>A1BG</td>\n",
       "      <td>P1</td>\n",
       "      <td>GGGGCACCCAGGAGCGGTAG</td>\n",
       "    </tr>\n",
       "    <tr>\n",
       "      <th>2</th>\n",
       "      <td>A1BG_+_58858964.23-P1</td>\n",
       "      <td>h3_top5</td>\n",
       "      <td>A1BG</td>\n",
       "      <td>P1</td>\n",
       "      <td>GCTCCGGGCGACGTGGAGTG</td>\n",
       "    </tr>\n",
       "    <tr>\n",
       "      <th>3</th>\n",
       "      <td>A1BG_-_58858630.23-P1</td>\n",
       "      <td>h3_top5</td>\n",
       "      <td>A1BG</td>\n",
       "      <td>P1</td>\n",
       "      <td>GAACCAGGGGTGCCCAAGGG</td>\n",
       "    </tr>\n",
       "    <tr>\n",
       "      <th>4</th>\n",
       "      <td>A1BG_+_58858549.23-P1</td>\n",
       "      <td>h3_top5</td>\n",
       "      <td>A1BG</td>\n",
       "      <td>P1</td>\n",
       "      <td>GGCGAGGAACCGCCCAGCAA</td>\n",
       "    </tr>\n",
       "    <tr>\n",
       "      <th>...</th>\n",
       "      <td>...</td>\n",
       "      <td>...</td>\n",
       "      <td>...</td>\n",
       "      <td>...</td>\n",
       "      <td>...</td>\n",
       "    </tr>\n",
       "    <tr>\n",
       "      <th>209065</th>\n",
       "      <td>non-targeting_03785</td>\n",
       "      <td>h7_supp5</td>\n",
       "      <td>negative_control</td>\n",
       "      <td>na</td>\n",
       "      <td>GCTACTCCGCCCCGCGGGAG</td>\n",
       "    </tr>\n",
       "    <tr>\n",
       "      <th>209066</th>\n",
       "      <td>non-targeting_03786</td>\n",
       "      <td>h7_supp5</td>\n",
       "      <td>negative_control</td>\n",
       "      <td>na</td>\n",
       "      <td>GTGGCCGTTCATGGGACCGG</td>\n",
       "    </tr>\n",
       "    <tr>\n",
       "      <th>209067</th>\n",
       "      <td>non-targeting_03787</td>\n",
       "      <td>h7_supp5</td>\n",
       "      <td>negative_control</td>\n",
       "      <td>na</td>\n",
       "      <td>GAACTCTGTAGAAGGGACCG</td>\n",
       "    </tr>\n",
       "    <tr>\n",
       "      <th>209068</th>\n",
       "      <td>non-targeting_03788</td>\n",
       "      <td>h7_supp5</td>\n",
       "      <td>negative_control</td>\n",
       "      <td>na</td>\n",
       "      <td>GCTCGACAGCGACTGAAGAG</td>\n",
       "    </tr>\n",
       "    <tr>\n",
       "      <th>209069</th>\n",
       "      <td>non-targeting_03789</td>\n",
       "      <td>h7_supp5</td>\n",
       "      <td>negative_control</td>\n",
       "      <td>na</td>\n",
       "      <td>GAGAAGCCAACCTCGCGTTA</td>\n",
       "    </tr>\n",
       "  </tbody>\n",
       "</table>\n",
       "<p>209070 rows × 5 columns</p>\n",
       "</div>"
      ],
      "text/plain": [
       "                         sgId sublibrary              gene transcripts  \\\n",
       "0       A1BG_-_58858617.23-P1    h3_top5              A1BG          P1   \n",
       "1       A1BG_-_58858788.23-P1    h3_top5              A1BG          P1   \n",
       "2       A1BG_+_58858964.23-P1    h3_top5              A1BG          P1   \n",
       "3       A1BG_-_58858630.23-P1    h3_top5              A1BG          P1   \n",
       "4       A1BG_+_58858549.23-P1    h3_top5              A1BG          P1   \n",
       "...                       ...        ...               ...         ...   \n",
       "209065    non-targeting_03785   h7_supp5  negative_control          na   \n",
       "209066    non-targeting_03786   h7_supp5  negative_control          na   \n",
       "209067    non-targeting_03787   h7_supp5  negative_control          na   \n",
       "209068    non-targeting_03788   h7_supp5  negative_control          na   \n",
       "209069    non-targeting_03789   h7_supp5  negative_control          na   \n",
       "\n",
       "                    sequence  \n",
       "0       GGAGACCCAGCGCTAACCAG  \n",
       "1       GGGGCACCCAGGAGCGGTAG  \n",
       "2       GCTCCGGGCGACGTGGAGTG  \n",
       "3       GAACCAGGGGTGCCCAAGGG  \n",
       "4       GGCGAGGAACCGCCCAGCAA  \n",
       "...                      ...  \n",
       "209065  GCTACTCCGCCCCGCGGGAG  \n",
       "209066  GTGGCCGTTCATGGGACCGG  \n",
       "209067  GAACTCTGTAGAAGGGACCG  \n",
       "209068  GCTCGACAGCGACTGAAGAG  \n",
       "209069  GAGAAGCCAACCTCGCGTTA  \n",
       "\n",
       "[209070 rows x 5 columns]"
      ]
     },
     "execution_count": 11,
     "metadata": {},
     "output_type": "execute_result"
    }
   ],
   "source": [
    "library_table"
   ]
  },
  {
   "cell_type": "code",
   "execution_count": 12,
   "id": "f2567e08-c6d2-4b6f-a9a4-8bee433a7210",
   "metadata": {},
   "outputs": [
    {
     "name": "stdout",
     "output_type": "stream",
     "text": [
      "Trimming protospacer sequences in 'protospacer' column.\n",
      "Library table successfully loaded.\n",
      "Warning: 3422 duplicate sgRNA sequences found and removed.\n",
      "total # of cas9 sgRNAs: 205648\n"
     ]
    }
   ],
   "source": [
    "counter.load_library(\n",
    "    'CRISPRi_v2_human_librarytable.txt.gz', sep = '\\t', index_col=False,\n",
    "    # 'JR_V3lib_top2_v2.csv', sep = ',', \n",
    "    verbose = True,\n",
    "    low_memory=False\n",
    ")"
   ]
  },
  {
   "cell_type": "code",
   "execution_count": 13,
   "id": "33191f13-ec56-4f95-a26a-55b69a6de309",
   "metadata": {},
   "outputs": [
    {
     "name": "stdout",
     "output_type": "stream",
     "text": [
      "\u001b[1;32mA549_CRISPRi_DMSO_rep1\u001b[0m\n",
      "count file exists ...\n",
      "% mapped reads 88.63374797857534\n",
      "\u001b[1;32mA549_CRISPRi_DMSO_rep2\u001b[0m\n",
      "count file exists ...\n",
      "% mapped reads 80.83309342989601\n",
      "\u001b[1;32mA549_CRISPRi_Ki_rep1\u001b[0m\n",
      "count file exists ...\n",
      "% mapped reads 90.24498424671202\n",
      "\u001b[1;32mA549_CRISPRi_Ki_rep2\u001b[0m\n",
      "count file exists ...\n",
      "% mapped reads 89.39757479089117\n",
      "\u001b[1;32mA549_CRISPRi_Mi_rep1\u001b[0m\n",
      "count file exists ...\n",
      "% mapped reads 89.78796940558229\n",
      "\u001b[1;32mA549_CRISPRi_Mi_rep2\u001b[0m\n",
      "count file exists ...\n",
      "% mapped reads 89.46854195668756\n",
      "\u001b[1;32mA549_CRISPRi_PiKi_rep1\u001b[0m\n",
      "count file exists ...\n",
      "% mapped reads 90.54211297399893\n",
      "\u001b[1;32mA549_CRISPRi_PiKi_rep2\u001b[0m\n",
      "count file exists ...\n",
      "% mapped reads 89.53799107315274\n",
      "\u001b[1;32mA549_CRISPRi_PiMi_rep1\u001b[0m\n",
      "count file exists ...\n",
      "% mapped reads 89.40129422987994\n",
      "\u001b[1;32mA549_CRISPRi_PiMi_rep2\u001b[0m\n",
      "count file exists ...\n",
      "% mapped reads 89.56277272210386\n",
      "\u001b[1;32mA549_CRISPRi_PiRi_rep1\u001b[0m\n",
      "count file exists ...\n",
      "% mapped reads 88.53951639574869\n",
      "\u001b[1;32mA549_CRISPRi_PiRi_rep2\u001b[0m\n",
      "count file exists ...\n",
      "% mapped reads 82.28354294796591\n",
      "\u001b[1;32mA549_CRISPRi_PiWi_rep1\u001b[0m\n",
      "count file exists ...\n",
      "% mapped reads 78.65820794392235\n",
      "\u001b[1;32mA549_CRISPRi_PiWi_rep2\u001b[0m\n",
      "count file exists ...\n",
      "% mapped reads 90.29942422374195\n",
      "\u001b[1;32mA549_CRISPRi_Pi_rep1\u001b[0m\n",
      "count file exists ...\n",
      "% mapped reads 89.40826010320741\n",
      "\u001b[1;32mA549_CRISPRi_Pi_rep2\u001b[0m\n",
      "count file exists ...\n",
      "% mapped reads 89.62291699143317\n",
      "\u001b[1;32mA549_CRISPRi_Ri_rep1\u001b[0m\n",
      "count file exists ...\n",
      "% mapped reads 88.90645895064313\n",
      "\u001b[1;32mA549_CRISPRi_Ri_rep2\u001b[0m\n",
      "count file exists ...\n",
      "% mapped reads 80.66443304911108\n",
      "\u001b[1;32mA549_CRISPRi_T0_rep1\u001b[0m\n",
      "count file exists ...\n",
      "% mapped reads 88.58351586677279\n",
      "\u001b[1;32mA549_CRISPRi_T0_rep2\u001b[0m\n",
      "count file exists ...\n",
      "% mapped reads 89.09497578368858\n",
      "\u001b[1;32mA549_CRISPRi_Wi_rep1\u001b[0m\n",
      "count file exists ...\n",
      "% mapped reads 84.16754225351139\n",
      "\u001b[1;32mA549_CRISPRi_Wi_rep2\u001b[0m\n",
      "count file exists ...\n",
      "% mapped reads 90.06532696464365\n"
     ]
    }
   ],
   "source": [
    "counter.get_counts_matrix(\n",
    "    fastq_dir = 'fastq',\n",
    "    samples = samples,\n",
    "    # write='force',\n",
    "    trim_first_g=True,\n",
    "    verbose = True\n",
    ")"
   ]
  },
  {
   "cell_type": "code",
   "execution_count": 14,
   "id": "c61646e8-c693-4a14-b77d-88111d1cb9cd",
   "metadata": {},
   "outputs": [
    {
     "data": {
      "text/plain": [
       "A549_CRISPRi_DMSO_rep1     48.718589\n",
       "A549_CRISPRi_DMSO_rep2     28.086767\n",
       "A549_CRISPRi_Ki_rep1       37.695912\n",
       "A549_CRISPRi_Ki_rep2       23.865067\n",
       "A549_CRISPRi_Mi_rep1       32.910419\n",
       "A549_CRISPRi_Mi_rep2       46.517719\n",
       "A549_CRISPRi_PiKi_rep1     37.236937\n",
       "A549_CRISPRi_PiKi_rep2     78.800999\n",
       "A549_CRISPRi_PiMi_rep1     37.714290\n",
       "A549_CRISPRi_PiMi_rep2    108.729121\n",
       "A549_CRISPRi_PiRi_rep1     43.599360\n",
       "A549_CRISPRi_PiRi_rep2     19.454159\n",
       "A549_CRISPRi_PiWi_rep1     40.225769\n",
       "A549_CRISPRi_PiWi_rep2     37.929204\n",
       "A549_CRISPRi_Pi_rep1       45.441083\n",
       "A549_CRISPRi_Pi_rep2       33.736242\n",
       "A549_CRISPRi_Ri_rep1       54.166237\n",
       "A549_CRISPRi_Ri_rep2       32.538540\n",
       "A549_CRISPRi_T0_rep1       48.168472\n",
       "A549_CRISPRi_T0_rep2       33.978428\n",
       "A549_CRISPRi_Wi_rep1       86.448619\n",
       "A549_CRISPRi_Wi_rep2       34.393649\n",
       "dtype: float64"
      ]
     },
     "execution_count": 14,
     "metadata": {},
     "output_type": "execute_result"
    }
   ],
   "source": [
    "counter.counts_mat.sum() / 10**6"
   ]
  },
  {
   "cell_type": "code",
   "execution_count": 15,
   "id": "099a70c1-1e52-48ec-959a-64124fc6159a",
   "metadata": {},
   "outputs": [],
   "source": [
    "adata = counter.build_counts_anndata()"
   ]
  },
  {
   "cell_type": "code",
   "execution_count": 110,
   "id": "57f8d8ca-1461-4c5b-9477-de7027c82971",
   "metadata": {},
   "outputs": [],
   "source": [
    "adata.obs['condition'] = adata.obs.index.str.split('_').str[-2]\n",
    "adata.obs['replicate'] = adata.obs.index.str[-1:].astype(int)\n",
    "# adata.obs['pop_doublings'] = [1 if cond != 'T0' else 0 for cond in adata.obs['condition']]\n",
    "\n",
    "adata.var['targetType'] = ['gene' if t != 'negative_control' else 'negative_control' for t in adata.var.target]"
   ]
  },
  {
   "cell_type": "code",
   "execution_count": 111,
   "id": "629e38f1-d48b-4533-9555-2dc4f1c6b6a6",
   "metadata": {},
   "outputs": [],
   "source": [
    "adata.write_h5ad('A549_CRISPRi_screens.h5ad.gz', compression='gzip')"
   ]
  },
  {
   "cell_type": "markdown",
   "id": "9527891a-120c-4286-8842-e676a695c00c",
   "metadata": {
    "tags": []
   },
   "source": [
    "### load counts and metadata"
   ]
  },
  {
   "cell_type": "code",
   "execution_count": 8,
   "id": "5b4a4c3f-3b2a-4c8b-94e5-f8125341c4f3",
   "metadata": {},
   "outputs": [],
   "source": [
    "adata = ad.read_h5ad('A549_CRISPRi_screens.h5ad.gz')\n",
    "\n",
    "# adata.obs = meta \n",
    "# adata.obs.treatment = adata.obs.treatment.str.replace('-','T0')\n",
    "# adata.obs = adata.obs.rename(columns={'treatment':'condition','rep':'replicate'})\n",
    "\n",
    "# adata.obs['pop_doublings'] = meta['pop doublings'].replace('-',np.nan).astype(float)"
   ]
  },
  {
   "cell_type": "code",
   "execution_count": 9,
   "id": "0887211d-192f-49c8-ab89-b226c94ae956",
   "metadata": {},
   "outputs": [],
   "source": [
    "adata.var['transcript'] = library_table.set_index('sgId').loc[adata.var.index, 'transcripts']\n",
    "adata.obs['replicate'] = adata.obs['replicate'].astype(int)"
   ]
  },
  {
   "cell_type": "markdown",
   "id": "a56a620e",
   "metadata": {},
   "source": [
    "___\n",
    "<!-- - filter low counts -->"
   ]
  },
  {
   "cell_type": "code",
   "execution_count": 10,
   "id": "c932a52f",
   "metadata": {},
   "outputs": [],
   "source": [
    "adata0 = adata.copy()"
   ]
  },
  {
   "cell_type": "markdown",
   "id": "b2c5fd13",
   "metadata": {},
   "source": [
    "___"
   ]
  },
  {
   "cell_type": "code",
   "execution_count": 11,
   "id": "523b43eb-729a-4eec-b1f5-ee365a985c41",
   "metadata": {
    "tags": []
   },
   "outputs": [],
   "source": [
    "fig1, axes = plt.subplots(ncols=5,\n",
    "                         figsize=(10,3), \n",
    "                         gridspec_kw={'wspace': 0.3, 'left': 0.12,'top':.8,'bottom':.3}, \n",
    "                         # sharey=True\n",
    "                        )\n",
    "scp.pl.plotReplicateScatter(axes[0], adata, 'A549_CRISPRi_T0_rep1','A549_CRISPRi_T0_rep2','T0',min_val=0,max_val=4, log_transform=True)\n",
    "scp.pl.plotReplicateScatter(axes[1], adata, 'A549_CRISPRi_DMSO_rep1','A549_CRISPRi_DMSO_rep2','DMSO',min_val=0,max_val=4, log_transform=True)\n",
    "scp.pl.plotReplicateScatter(axes[2], adata, 'A549_CRISPRi_Pi_rep1','A549_CRISPRi_Pi_rep2','Pi',min_val=0,max_val=4, log_transform=True)\n",
    "scp.pl.plotReplicateScatter(axes[3], adata, 'A549_CRISPRi_Pi_rep1','A549_CRISPRi_Pi_rep2','Pi',min_val=0,max_val=4, log_transform=True)\n",
    "# scp.pl.plotReplicateScatter(axes[2], adata, 'A549_CRISPRi_Pi_rep1','A549_CRISPRi_Pi_rep2','Pi',min_val=0,max_val=4, log_transform=True)\n",
    "\n",
    "for ax in axes: \n",
    "    ax.tick_params(width=0.5)\n",
    "    for i in ax.spines.values(): i.set_linewidth(0.5)\n",
    "    # ax.spines['top'].set_visible(False)\n",
    "    # ax.spines['right'].set_visible(False)\n",
    "    # ax.spines['bottom'].set_visible(False)\n",
    "    # ax.spines['left'].set_visible(False)\n",
    "    for item in ([ax.title, ax.xaxis.label, ax.yaxis.label]):\n",
    "        item.set_fontsize(8)\n",
    "    for item in ax.get_xticklabels() + ax.get_yticklabels():\n",
    "        item.set_fontsize(6)\n",
    "\n",
    "# fig1.suptitle('PRDX1 parent screen',fontsize=12)\n",
    "\n",
    "plt.show()"
   ]
  },
  {
   "cell_type": "markdown",
   "id": "0a418a0b-6fdb-4fb0-8aa5-330542b93e82",
   "metadata": {},
   "source": [
    "___"
   ]
  },
  {
   "cell_type": "code",
   "execution_count": 12,
   "id": "2e3e78e0-dc88-4101-aeef-b2a7faebd9a5",
   "metadata": {},
   "outputs": [],
   "source": [
    "screenprocessing = scp.load.loadScreenProcessingData('../CRISPRi/Analysis/PiKiMiRiWi/PiKiMiRiWi_2reps')\n",
    "screenprocessing['counts'].columns = 'A549_CRISPRi_' + screenprocessing['counts'].columns.to_frame().agg('_'.join, axis=1)"
   ]
  },
  {
   "cell_type": "code",
   "execution_count": 13,
   "id": "9200ff68-44c4-4b29-ac81-b0996c64db36",
   "metadata": {},
   "outputs": [],
   "source": [
    "ol = list(set(screenprocessing['counts'].index) & set(adata.var.index))"
   ]
  },
  {
   "cell_type": "code",
   "execution_count": 14,
   "id": "02d64022-6e97-47db-955e-4d8c76bff183",
   "metadata": {},
   "outputs": [
    {
     "data": {
      "text/plain": [
       "102777"
      ]
     },
     "execution_count": 14,
     "metadata": {},
     "output_type": "execute_result"
    }
   ],
   "source": [
    "len(ol)"
   ]
  },
  {
   "cell_type": "code",
   "execution_count": 15,
   "id": "90333a56-21a4-4720-b187-0d8262bb2c5b",
   "metadata": {},
   "outputs": [],
   "source": [
    "fig, axes = plt.subplots(1,4,figsize=(7,2.5))\n",
    "\n",
    "axes[0].scatter(\n",
    "    x = np.log10(screenprocessing['counts'].loc[ol,'A549_CRISPRi_T0_rep1']+ 1),\n",
    "    y = np.log10(adata.to_df().T.loc[ol,'A549_CRISPRi_T0_rep1'] + 1),\n",
    "    s=.1, c='black', alpha=.2\n",
    ")\n",
    "axes[0].set_title('T0 Rep1')\n",
    "\n",
    "axes[1].scatter(\n",
    "    x = np.log10(screenprocessing['counts'].loc[ol,'A549_CRISPRi_T0_rep2']+ 1),\n",
    "    y = np.log10(adata.to_df().T.loc[ol,'A549_CRISPRi_T0_rep2'] + 1),\n",
    "    s=.1, c='black', alpha=.2\n",
    ")\n",
    "axes[1].set_title('T0 Rep2')\n",
    "\n",
    "axes[2].scatter(\n",
    "    x = np.log10(screenprocessing['counts'].loc[ol,'A549_CRISPRi_DMSO_rep1']+ 1),\n",
    "    y = np.log10(adata.to_df().T.loc[ol,'A549_CRISPRi_DMSO_rep1'] + 1),\n",
    "    s=.1, c='black', alpha=.2\n",
    ")\n",
    "axes[2].set_title('DMSO Rep1')\n",
    "\n",
    "axes[3].scatter(\n",
    "    x = np.log10(screenprocessing['counts'].loc[ol,'A549_CRISPRi_DMSO_rep2']+ 1),\n",
    "    y = np.log10(adata.to_df().T.loc[ol,'A549_CRISPRi_DMSO_rep2'] + 1),\n",
    "    s=.1, c='black', alpha=.2\n",
    ")\n",
    "axes[3].set_title('DMSO Rep2')\n",
    "\n",
    "for ax in axes:\n",
    "    ax.set_xlabel('Screen Processing')\n",
    "    ax.set_ylabel('ScreenPro2')\n",
    "    ax.set_xlim([-0.1,4])\n",
    "    ax.set_ylim([-0.1,4])\n",
    "    \n",
    "    ax.grid(None)\n",
    "    \n",
    "    ax.tick_params(width=0.5)\n",
    "    for i in ax.spines.values(): i.set_linewidth(0.5)\n",
    "    # ax.spines['top'].set_visible(False)\n",
    "    # ax.spines['right'].set_visible(False)\n",
    "    # ax.spines['bottom'].set_visible(False)\n",
    "    # ax.spines['left'].set_visible(False)\n",
    "    for item in ([ax.title, ax.xaxis.label, ax.yaxis.label]):\n",
    "        item.set_fontsize(8)\n",
    "    for item in ax.get_xticklabels() + ax.get_yticklabels():\n",
    "        item.set_fontsize(6)\n",
    "    \n",
    "plt.suptitle('DDRi V2 Screens', fontsize=12)\n",
    "plt.tight_layout()\n",
    "plt.show()"
   ]
  },
  {
   "cell_type": "code",
   "execution_count": 16,
   "id": "3f2b7baa-e944-49d0-ae3e-b58758e4bf7f",
   "metadata": {},
   "outputs": [],
   "source": [
    "fig, axes = plt.subplots(1,4,figsize=(7,2.5))\n",
    "\n",
    "cond1 = \"PiRi\"\n",
    "axes[0].scatter(\n",
    "    x = np.log10(screenprocessing['counts'].loc[ol,f'A549_CRISPRi_{cond1}_rep1']+ 1),\n",
    "    y = np.log10(adata.to_df().T.loc[ol,f'A549_CRISPRi_{cond1}_rep1'] + 1),\n",
    "    s=.1, c='black', alpha=.2\n",
    ")\n",
    "axes[0].set_title(f'{cond1} Rep1')\n",
    "\n",
    "axes[1].scatter(\n",
    "    x = np.log10(screenprocessing['counts'].loc[ol,'A549_CRISPRi_Wi_rep2']+ 1),\n",
    "    y = np.log10(adata.to_df().T.loc[ol,'A549_CRISPRi_Wi_rep2'] + 1),\n",
    "    s=.1, c='black', alpha=.2\n",
    ")\n",
    "axes[1].set_title(f'{cond1} Rep2')\n",
    "\n",
    "axes[2].scatter(\n",
    "    x = np.log10(screenprocessing['counts'].loc[ol,'A549_CRISPRi_DMSO_rep1']+ 1),\n",
    "    y = np.log10(adata.to_df().T.loc[ol,'A549_CRISPRi_DMSO_rep1'] + 1),\n",
    "    s=.1, c='black', alpha=.2\n",
    ")\n",
    "axes[2].set_title('DMSO Rep1')\n",
    "\n",
    "axes[3].scatter(\n",
    "    x = np.log10(screenprocessing['counts'].loc[ol,'A549_CRISPRi_DMSO_rep2']+ 1),\n",
    "    y = np.log10(adata.to_df().T.loc[ol,'A549_CRISPRi_DMSO_rep2'] + 1),\n",
    "    s=.1, c='black', alpha=.2\n",
    ")\n",
    "axes[3].set_title('DMSO Rep2')\n",
    "\n",
    "for ax in axes:\n",
    "    ax.set_xlabel('Screen Processing')\n",
    "    ax.set_ylabel('ScreenPro2')\n",
    "    ax.set_xlim([-0.1,4])\n",
    "    ax.set_ylim([-0.1,4])\n",
    "    \n",
    "    ax.grid(None)\n",
    "    \n",
    "    ax.tick_params(width=0.5)\n",
    "    for i in ax.spines.values(): i.set_linewidth(0.5)\n",
    "    # ax.spines['top'].set_visible(False)\n",
    "    # ax.spines['right'].set_visible(False)\n",
    "    # ax.spines['bottom'].set_visible(False)\n",
    "    # ax.spines['left'].set_visible(False)\n",
    "    for item in ([ax.title, ax.xaxis.label, ax.yaxis.label]):\n",
    "        item.set_fontsize(8)\n",
    "    for item in ax.get_xticklabels() + ax.get_yticklabels():\n",
    "        item.set_fontsize(6)\n",
    "    \n",
    "plt.suptitle('DDRi V2 Screens', fontsize=12)\n",
    "plt.tight_layout()\n",
    "plt.show()"
   ]
  },
  {
   "cell_type": "markdown",
   "id": "bbfab9d6-ac35-44ac-81dc-9dc4d86ffcd8",
   "metadata": {},
   "source": [
    "___"
   ]
  },
  {
   "cell_type": "code",
   "execution_count": 17,
   "id": "7ac3a6f1-953b-4df4-a582-95a55fac97c1",
   "metadata": {},
   "outputs": [
    {
     "data": {
      "text/plain": [
       "A549_CRISPRi_DMSO_rep1     48.718589\n",
       "A549_CRISPRi_DMSO_rep2     28.086767\n",
       "A549_CRISPRi_Ki_rep1       37.695912\n",
       "A549_CRISPRi_Ki_rep2       23.865067\n",
       "A549_CRISPRi_Mi_rep1       32.910419\n",
       "A549_CRISPRi_Mi_rep2       46.517719\n",
       "A549_CRISPRi_Pi_rep1       45.441083\n",
       "A549_CRISPRi_Pi_rep2       33.736242\n",
       "A549_CRISPRi_PiKi_rep1     37.236937\n",
       "A549_CRISPRi_PiKi_rep2     78.800999\n",
       "A549_CRISPRi_PiMi_rep1     37.714290\n",
       "A549_CRISPRi_PiMi_rep2    108.729121\n",
       "A549_CRISPRi_PiRi_rep1     43.599360\n",
       "A549_CRISPRi_PiRi_rep2     19.454159\n",
       "A549_CRISPRi_PiWi_rep1     40.225769\n",
       "A549_CRISPRi_PiWi_rep2     37.929204\n",
       "A549_CRISPRi_Ri_rep1       54.166237\n",
       "A549_CRISPRi_Ri_rep2       32.538540\n",
       "A549_CRISPRi_T0_rep1       48.168472\n",
       "A549_CRISPRi_T0_rep2       33.978428\n",
       "A549_CRISPRi_Wi_rep1       86.448619\n",
       "A549_CRISPRi_Wi_rep2       34.393649\n",
       "dtype: float64"
      ]
     },
     "execution_count": 17,
     "metadata": {},
     "output_type": "execute_result"
    }
   ],
   "source": [
    "adata.to_df().T.sum()[screenprocessing['counts'].columns] / 10**6"
   ]
  },
  {
   "cell_type": "code",
   "execution_count": 18,
   "id": "3f8b05c2-921b-4cfe-af99-c4efcb0c76da",
   "metadata": {},
   "outputs": [
    {
     "data": {
      "text/plain": [
       "A549_CRISPRi_DMSO_rep1     47.806961\n",
       "A549_CRISPRi_DMSO_rep2     61.991303\n",
       "A549_CRISPRi_Ki_rep1       37.715724\n",
       "A549_CRISPRi_Ki_rep2       23.626238\n",
       "A549_CRISPRi_Mi_rep1       32.924088\n",
       "A549_CRISPRi_Mi_rep2       46.082196\n",
       "A549_CRISPRi_Pi_rep1       44.641146\n",
       "A549_CRISPRi_Pi_rep2       33.761415\n",
       "A549_CRISPRi_PiKi_rep1     37.283167\n",
       "A549_CRISPRi_PiKi_rep2     78.040945\n",
       "A549_CRISPRi_PiMi_rep1     37.749345\n",
       "A549_CRISPRi_PiMi_rep2    107.661539\n",
       "A549_CRISPRi_PiRi_rep1     42.805998\n",
       "A549_CRISPRi_PiRi_rep2     47.896952\n",
       "A549_CRISPRi_PiWi_rep1     40.189403\n",
       "A549_CRISPRi_PiWi_rep2     37.958185\n",
       "A549_CRISPRi_Ri_rep1       53.273955\n",
       "A549_CRISPRi_Ri_rep2       67.916446\n",
       "A549_CRISPRi_T0_rep1       47.400609\n",
       "A549_CRISPRi_T0_rep2       47.393014\n",
       "A549_CRISPRi_Wi_rep1       85.908385\n",
       "A549_CRISPRi_Wi_rep2       34.419751\n",
       "dtype: float64"
      ]
     },
     "execution_count": 18,
     "metadata": {},
     "output_type": "execute_result"
    }
   ],
   "source": [
    "screenprocessing['counts'].sum() / 10**6"
   ]
  },
  {
   "cell_type": "markdown",
   "id": "2e3a5a18-81b5-4ca4-b8f9-674f2bbb060d",
   "metadata": {},
   "source": [
    "- replace older counts with the new counts for sanity checks."
   ]
  },
  {
   "cell_type": "code",
   "execution_count": 19,
   "id": "044de716-8b2e-46e0-8cb9-6e858654a374",
   "metadata": {},
   "outputs": [],
   "source": [
    "adata_screenprocessing = ad.AnnData(\n",
    "    X = screenprocessing['counts'].T,\n",
    ")\n",
    "\n",
    "adata_screenprocessing.obs = adata.obs.loc[adata_screenprocessing.obs.index,:]\n",
    "\n",
    "adata_screenprocessing.var = library_table.set_index('sgId').loc[adata_screenprocessing.var.index]\n",
    "\n",
    "adata_screenprocessing.var.rename(columns={'gene':'target','transcripts':'transcript'},inplace=True)\n",
    "\n",
    "adata_screenprocessing.var['targetType'] = [\n",
    "    'gene' if t != 'negative_control' else 'negative_control' for t in \n",
    "    adata_screenprocessing.var.target\n",
    "]"
   ]
  },
  {
   "attachments": {},
   "cell_type": "markdown",
   "id": "48df82d1-4245-41a9-82f6-03702850099b",
   "metadata": {},
   "source": [
    "# Step 2: Phenotype calculation\n",
    "\n",
    "- [ ] "
   ]
  },
  {
   "cell_type": "markdown",
   "id": "d324c61d-1ca3-4484-a335-bd6c6ec5229a",
   "metadata": {},
   "source": [
    "### run phenoscore"
   ]
  },
  {
   "cell_type": "code",
   "execution_count": 24,
   "id": "9dc7fda7-2985-470e-a021-b73aeec1762c",
   "metadata": {},
   "outputs": [
    {
     "name": "stdout",
     "output_type": "stream",
     "text": [
      "104515 variables with less than 1 reads (filter_type: 'all')\n",
      "Pseudocount added to counts.\n",
      "Counts normalized by sequencing depth.\n"
     ]
    }
   ],
   "source": [
    "screen = scp.PooledScreens(adata, verbose=True, n_reps=2)\n",
    "# screen = scp.PooledScreens(adata_screenprocessing, verbose=True, n_reps=2)\n",
    "\n",
    "screen.filterLowCounts()\n",
    "\n",
    "screen.countNormalization()"
   ]
  },
  {
   "cell_type": "code",
   "execution_count": 25,
   "id": "d66a489c-1540-4eca-839e-9864af9156c6",
   "metadata": {},
   "outputs": [
    {
     "name": "stderr",
     "output_type": "stream",
     "text": [
      "/home/abea/miniconda3/envs/screenpro2/lib/python3.9/site-packages/screenpro/assays/__init__.py:85: UserWarning: No doubling rate information provided.\n",
      "  warnings.warn('No doubling rate information provided.')\n"
     ]
    },
    {
     "name": "stdout",
     "output_type": "stream",
     "text": [
      "\tDMSO vs T0\n"
     ]
    },
    {
     "name": "stderr",
     "output_type": "stream",
     "text": [
      "/home/abea/miniconda3/envs/screenpro2/lib/python3.9/site-packages/screenpro/assays/__init__.py:85: UserWarning: No doubling rate information provided.\n",
      "  warnings.warn('No doubling rate information provided.')\n"
     ]
    },
    {
     "name": "stdout",
     "output_type": "stream",
     "text": [
      "\tPi vs T0\n",
      "\tPi vs DMSO\n"
     ]
    },
    {
     "name": "stderr",
     "output_type": "stream",
     "text": [
      "/home/abea/miniconda3/envs/screenpro2/lib/python3.9/site-packages/screenpro/assays/__init__.py:85: UserWarning: No doubling rate information provided.\n",
      "  warnings.warn('No doubling rate information provided.')\n"
     ]
    },
    {
     "name": "stdout",
     "output_type": "stream",
     "text": [
      "\tRi vs T0\n",
      "\tRi vs DMSO\n"
     ]
    },
    {
     "name": "stderr",
     "output_type": "stream",
     "text": [
      "/home/abea/miniconda3/envs/screenpro2/lib/python3.9/site-packages/screenpro/assays/__init__.py:85: UserWarning: No doubling rate information provided.\n",
      "  warnings.warn('No doubling rate information provided.')\n"
     ]
    },
    {
     "name": "stdout",
     "output_type": "stream",
     "text": [
      "\tPiRi vs T0\n",
      "\tPiRi vs DMSO\n"
     ]
    },
    {
     "name": "stderr",
     "output_type": "stream",
     "text": [
      "/home/abea/miniconda3/envs/screenpro2/lib/python3.9/site-packages/screenpro/assays/__init__.py:85: UserWarning: No doubling rate information provided.\n",
      "  warnings.warn('No doubling rate information provided.')\n"
     ]
    },
    {
     "name": "stdout",
     "output_type": "stream",
     "text": [
      "\tMi vs T0\n",
      "\tMi vs DMSO\n"
     ]
    },
    {
     "name": "stderr",
     "output_type": "stream",
     "text": [
      "/home/abea/miniconda3/envs/screenpro2/lib/python3.9/site-packages/screenpro/assays/__init__.py:85: UserWarning: No doubling rate information provided.\n",
      "  warnings.warn('No doubling rate information provided.')\n"
     ]
    },
    {
     "name": "stdout",
     "output_type": "stream",
     "text": [
      "\tPiMi vs T0\n",
      "\tPiMi vs DMSO\n"
     ]
    },
    {
     "name": "stderr",
     "output_type": "stream",
     "text": [
      "/home/abea/miniconda3/envs/screenpro2/lib/python3.9/site-packages/screenpro/assays/__init__.py:85: UserWarning: No doubling rate information provided.\n",
      "  warnings.warn('No doubling rate information provided.')\n"
     ]
    },
    {
     "name": "stdout",
     "output_type": "stream",
     "text": [
      "\tWi vs T0\n",
      "\tWi vs DMSO\n"
     ]
    },
    {
     "name": "stderr",
     "output_type": "stream",
     "text": [
      "/home/abea/miniconda3/envs/screenpro2/lib/python3.9/site-packages/screenpro/assays/__init__.py:85: UserWarning: No doubling rate information provided.\n",
      "  warnings.warn('No doubling rate information provided.')\n"
     ]
    },
    {
     "name": "stdout",
     "output_type": "stream",
     "text": [
      "\tPiWi vs T0\n",
      "\tPiWi vs DMSO\n"
     ]
    },
    {
     "name": "stderr",
     "output_type": "stream",
     "text": [
      "/home/abea/miniconda3/envs/screenpro2/lib/python3.9/site-packages/screenpro/assays/__init__.py:85: UserWarning: No doubling rate information provided.\n",
      "  warnings.warn('No doubling rate information provided.')\n"
     ]
    },
    {
     "name": "stdout",
     "output_type": "stream",
     "text": [
      "\tKi vs T0\n",
      "\tKi vs DMSO\n"
     ]
    },
    {
     "name": "stderr",
     "output_type": "stream",
     "text": [
      "/home/abea/miniconda3/envs/screenpro2/lib/python3.9/site-packages/screenpro/assays/__init__.py:85: UserWarning: No doubling rate information provided.\n",
      "  warnings.warn('No doubling rate information provided.')\n"
     ]
    },
    {
     "name": "stdout",
     "output_type": "stream",
     "text": [
      "\tPiKi vs T0\n",
      "\tPiKi vs DMSO\n"
     ]
    }
   ],
   "source": [
    "screen.calculateDrugScreen(\n",
    "    score_level='compare_guides',\n",
    "    untreated='DMSO', treated=['Pi','Ri','PiRi','Mi','PiMi','Wi','PiWi','Ki','PiKi'],\n",
    "    t0='T0', \n",
    "    # count_filter_type='either',\n",
    "    keep_top_n = 3,\n",
    "    var_names=['target','transcript'],\n",
    "    collapse_var='target'\n",
    "    # run_name='compare_guides_top_3',\n",
    ")"
   ]
  },
  {
   "cell_type": "markdown",
   "id": "cb0cdca2-064e-4f4b-ae42-b8ed0bfe81f9",
   "metadata": {},
   "source": [
    "___"
   ]
  },
  {
   "cell_type": "code",
   "execution_count": 26,
   "id": "3ee26cb9-91b4-4816-8b9f-c1d0d6a2283e",
   "metadata": {},
   "outputs": [
    {
     "name": "stderr",
     "output_type": "stream",
     "text": [
      "/home/abea/miniconda3/envs/screenpro2/lib/python3.9/site-packages/screenpro/assays/__init__.py:85: UserWarning: No doubling rate information provided.\n",
      "  warnings.warn('No doubling rate information provided.')\n"
     ]
    },
    {
     "name": "stdout",
     "output_type": "stream",
     "text": [
      "\tDMSO vs T0\n"
     ]
    },
    {
     "name": "stderr",
     "output_type": "stream",
     "text": [
      "/home/abea/miniconda3/envs/screenpro2/lib/python3.9/site-packages/screenpro/assays/__init__.py:85: UserWarning: No doubling rate information provided.\n",
      "  warnings.warn('No doubling rate information provided.')\n"
     ]
    },
    {
     "name": "stdout",
     "output_type": "stream",
     "text": [
      "\tPi vs T0\n",
      "\tPi vs DMSO\n"
     ]
    },
    {
     "name": "stderr",
     "output_type": "stream",
     "text": [
      "/home/abea/miniconda3/envs/screenpro2/lib/python3.9/site-packages/screenpro/assays/__init__.py:85: UserWarning: No doubling rate information provided.\n",
      "  warnings.warn('No doubling rate information provided.')\n"
     ]
    },
    {
     "name": "stdout",
     "output_type": "stream",
     "text": [
      "\tRi vs T0\n",
      "\tRi vs DMSO\n"
     ]
    },
    {
     "name": "stderr",
     "output_type": "stream",
     "text": [
      "/home/abea/miniconda3/envs/screenpro2/lib/python3.9/site-packages/screenpro/assays/__init__.py:85: UserWarning: No doubling rate information provided.\n",
      "  warnings.warn('No doubling rate information provided.')\n"
     ]
    },
    {
     "name": "stdout",
     "output_type": "stream",
     "text": [
      "\tPiRi vs T0\n",
      "\tPiRi vs DMSO\n"
     ]
    },
    {
     "name": "stderr",
     "output_type": "stream",
     "text": [
      "/home/abea/miniconda3/envs/screenpro2/lib/python3.9/site-packages/screenpro/assays/__init__.py:85: UserWarning: No doubling rate information provided.\n",
      "  warnings.warn('No doubling rate information provided.')\n"
     ]
    },
    {
     "name": "stdout",
     "output_type": "stream",
     "text": [
      "\tMi vs T0\n",
      "\tMi vs DMSO\n"
     ]
    },
    {
     "name": "stderr",
     "output_type": "stream",
     "text": [
      "/home/abea/miniconda3/envs/screenpro2/lib/python3.9/site-packages/screenpro/assays/__init__.py:85: UserWarning: No doubling rate information provided.\n",
      "  warnings.warn('No doubling rate information provided.')\n"
     ]
    },
    {
     "name": "stdout",
     "output_type": "stream",
     "text": [
      "\tPiMi vs T0\n",
      "\tPiMi vs DMSO\n"
     ]
    },
    {
     "name": "stderr",
     "output_type": "stream",
     "text": [
      "/home/abea/miniconda3/envs/screenpro2/lib/python3.9/site-packages/screenpro/assays/__init__.py:85: UserWarning: No doubling rate information provided.\n",
      "  warnings.warn('No doubling rate information provided.')\n"
     ]
    },
    {
     "name": "stdout",
     "output_type": "stream",
     "text": [
      "\tWi vs T0\n",
      "\tWi vs DMSO\n"
     ]
    },
    {
     "name": "stderr",
     "output_type": "stream",
     "text": [
      "/home/abea/miniconda3/envs/screenpro2/lib/python3.9/site-packages/screenpro/assays/__init__.py:85: UserWarning: No doubling rate information provided.\n",
      "  warnings.warn('No doubling rate information provided.')\n"
     ]
    },
    {
     "name": "stdout",
     "output_type": "stream",
     "text": [
      "\tPiWi vs T0\n",
      "\tPiWi vs DMSO\n"
     ]
    },
    {
     "name": "stderr",
     "output_type": "stream",
     "text": [
      "/home/abea/miniconda3/envs/screenpro2/lib/python3.9/site-packages/screenpro/assays/__init__.py:85: UserWarning: No doubling rate information provided.\n",
      "  warnings.warn('No doubling rate information provided.')\n"
     ]
    },
    {
     "name": "stdout",
     "output_type": "stream",
     "text": [
      "\tKi vs T0\n",
      "\tKi vs DMSO\n"
     ]
    },
    {
     "name": "stderr",
     "output_type": "stream",
     "text": [
      "/home/abea/miniconda3/envs/screenpro2/lib/python3.9/site-packages/screenpro/assays/__init__.py:85: UserWarning: No doubling rate information provided.\n",
      "  warnings.warn('No doubling rate information provided.')\n"
     ]
    },
    {
     "name": "stdout",
     "output_type": "stream",
     "text": [
      "\tPiKi vs T0\n",
      "\tPiKi vs DMSO\n"
     ]
    }
   ],
   "source": [
    "screen.calculateDrugScreen(\n",
    "    score_level='compare_reps',\n",
    "    untreated='DMSO', treated=['Pi','Ri','PiRi','Mi','PiMi','Wi','PiWi','Ki','PiKi'],\n",
    "    t0='T0', \n",
    "    # count_filter_type='either',\n",
    "    # keep_top_n = 3,\n",
    "    # run_name='compare_guides_top_3',\n",
    "    var_names=['target','transcript'],\n",
    ")"
   ]
  },
  {
   "cell_type": "markdown",
   "id": "54fcd0b9-1e54-42c7-abd6-154d36c5bcbe",
   "metadata": {},
   "source": [
    "___"
   ]
  },
  {
   "cell_type": "code",
   "execution_count": 27,
   "id": "e347c49d-db55-432f-bf83-aa7bcb7a2bea",
   "metadata": {},
   "outputs": [
    {
     "name": "stdout",
     "output_type": "stream",
     "text": [
      "Object successfully saved to \"A549_CRISPRi_screens.pkl\"\n"
     ]
    }
   ],
   "source": [
    "scp.load._write_screen_pkl(screen,'A549_CRISPRi_screens')"
   ]
  },
  {
   "cell_type": "markdown",
   "id": "b59687cb-7c00-46fa-a42d-70dab2c321d1",
   "metadata": {
    "jp-MarkdownHeadingCollapsed": true
   },
   "source": [
    "#### PRDX1 rank!"
   ]
  },
  {
   "cell_type": "markdown",
   "id": "e5c0c2cc-71a8-4313-850a-318a6fe400f4",
   "metadata": {},
   "source": [
    "Luke:\n",
    "> can you tell us the gene rank for PRDX1 for each screen using old analysis and new analysis"
   ]
  },
  {
   "cell_type": "code",
   "execution_count": 28,
   "id": "1b246b4b-31d1-4d0d-817f-aa6db97d8bc2",
   "metadata": {},
   "outputs": [],
   "source": [
    "# old_analysis_hits = pd.read_csv(\n",
    "#     '../results/Ci_all_gene_scores_with_hit_labels.csv',header=[0,1],index_col=0\n",
    "# )\n",
    "\n",
    "# [\n",
    "#     (score_tag, old_analysis_hits[score_tag]['score'].rank()['PRDX1'].astype(int))\n",
    "#     for score_tag in old_analysis_hits.columns.to_frame()[0].unique()\n",
    "# ]\n",
    "\n",
    "# [\n",
    "#     (score_tag,\n",
    "#      screen.phenotypes['compare_guides']['results'][score_tag]['score'].rank()['PRDX1'].astype(int))\n",
    "#     for score_tag in screen.listPhenotypeScores(run_name='compare_guides')\n",
    "#     if 'DMSO' in score_tag\n",
    "# ]   "
   ]
  },
  {
   "cell_type": "markdown",
   "id": "4d7b9710-bea3-4487-aede-10901007f605",
   "metadata": {},
   "source": [
    "### extract result tables"
   ]
  },
  {
   "cell_type": "code",
   "execution_count": 9,
   "id": "60574a0c-53ba-43be-9653-a4cfe837e61a",
   "metadata": {},
   "outputs": [],
   "source": [
    "screen = scp.load._read_screen_pkl('A549_CRISPRi_screens')"
   ]
  },
  {
   "cell_type": "code",
   "execution_count": 10,
   "id": "040ea472-0d5a-47c3-8d42-c16508b975a9",
   "metadata": {},
   "outputs": [],
   "source": [
    "result_tables = []\n",
    "\n",
    "for phenotype_name in screen.listPhenotypeScores(run_name='compare_guides'):\n",
    "    if 'rho' in phenotype_name:\n",
    "        result_tables.append((phenotype_name,\n",
    "            screen.getPhenotypeScores(\n",
    "                run_name='compare_guides', phenotype_name=phenotype_name,\n",
    "                pvalue_col = 'ttest pvalue',\n",
    "                threshold=6\n",
    "            ).query('target!=\"negative_control\"').set_index('target')\n",
    "        ))\n",
    "    \n",
    "result_tables = dict(result_tables)"
   ]
  },
  {
   "cell_type": "code",
   "execution_count": null,
   "id": "a180b7ee-3831-4bd6-a091-4ac77558e9e5",
   "metadata": {},
   "outputs": [],
   "source": []
  },
  {
   "cell_type": "code",
   "execution_count": null,
   "id": "6b3c6d10-2a0b-44c1-8a68-6b23bc892102",
   "metadata": {},
   "outputs": [],
   "source": []
  },
  {
   "cell_type": "code",
   "execution_count": null,
   "id": "f45bd006-5667-45aa-94cd-d1b75c680a53",
   "metadata": {},
   "outputs": [],
   "source": []
  },
  {
   "cell_type": "code",
   "execution_count": null,
   "id": "19943617-bcad-44e4-96d2-466e4c0e6254",
   "metadata": {},
   "outputs": [],
   "source": []
  },
  {
   "cell_type": "code",
   "execution_count": null,
   "id": "882dfe4c-c6b3-4400-b32d-144d91e2cc37",
   "metadata": {},
   "outputs": [],
   "source": []
  },
  {
   "cell_type": "code",
   "execution_count": null,
   "id": "08cf0d52-923a-4984-b307-966db177d411",
   "metadata": {},
   "outputs": [],
   "source": []
  },
  {
   "cell_type": "code",
   "execution_count": null,
   "id": "6835d361-865f-494b-9897-c3ad3f16884f",
   "metadata": {},
   "outputs": [],
   "source": []
  },
  {
   "cell_type": "code",
   "execution_count": null,
   "id": "7152f35d-d996-4f14-99c4-19c0ff482181",
   "metadata": {},
   "outputs": [],
   "source": []
  },
  {
   "cell_type": "markdown",
   "id": "19c11f10-30db-4d27-834c-e45513fdd266",
   "metadata": {},
   "source": [
    "### get result tables"
   ]
  },
  {
   "cell_type": "code",
   "execution_count": 34,
   "id": "40c683bd-b0e6-4cd0-82a6-b6e7a32ff4fb",
   "metadata": {},
   "outputs": [],
   "source": [
    "def getAnnotatedTables(screen, threshold):\n",
    "    return dict([\n",
    "        (phenotype_name, \n",
    "         screen.getPhenotypeScores(\n",
    "             run_name='compare_guides',phenotype_name=phenotype_name,threshold=threshold, pvalue_col='ttest pvalue'\n",
    "         ).query('target!=\"negative_control\"').set_index('target'))\n",
    "        for phenotype_name in screen.listPhenotypeScores(run_name='compare_guides')\n",
    "    ])"
   ]
  },
  {
   "cell_type": "code",
   "execution_count": null,
   "id": "540bcc2b-cfa7-42bb-9927-0d9b941ce9c9",
   "metadata": {},
   "outputs": [],
   "source": []
  },
  {
   "cell_type": "code",
   "execution_count": 37,
   "id": "46e0f7be-724a-4967-9abb-9a0a3ae3c8d1",
   "metadata": {},
   "outputs": [],
   "source": [
    "annotated_result_table = pd.concat(dict([\n",
    "    (drug_names[k.split(':')[1].split('_vs_')[0]],table) for k, table in \n",
    "    getAnnotatedTables(screen, threshold=6).items()\n",
    "    if 'rho' in k\n",
    "]),axis=1).dropna()"
   ]
  },
  {
   "cell_type": "code",
   "execution_count": null,
   "id": "ff644a11-06cc-4a53-a14f-b9e5dd46cadb",
   "metadata": {},
   "outputs": [],
   "source": []
  },
  {
   "cell_type": "code",
   "execution_count": null,
   "id": "6fac1a16-57a6-435c-8e74-d27c56be84e8",
   "metadata": {},
   "outputs": [],
   "source": []
  },
  {
   "cell_type": "code",
   "execution_count": null,
   "id": "c81c5145-1861-4680-9541-fd1ac7e3d9f6",
   "metadata": {},
   "outputs": [],
   "source": []
  },
  {
   "cell_type": "code",
   "execution_count": null,
   "id": "1436609d-d9cd-4531-9362-fbe25eda68c5",
   "metadata": {},
   "outputs": [],
   "source": []
  },
  {
   "cell_type": "markdown",
   "id": "c7f3b98f-1151-4cd4-910d-315f2968d77e",
   "metadata": {},
   "source": [
    "### save to file"
   ]
  },
  {
   "cell_type": "code",
   "execution_count": 185,
   "id": "746cdbd7-d9d6-40ae-9021-81e64cc8013c",
   "metadata": {},
   "outputs": [],
   "source": [
    "with pd.ExcelWriter('A549_CRISPRi_screen_analysis.xlsx', engine='openpyxl') as writer:\n",
    "    screen.adata.obs.to_excel(writer, sheet_name='sample sheet')\n",
    "    screen.adata.to_df(layer='raw_counts').astype(int).T.to_excel(writer, sheet_name='raw counts')\n",
    "    screen.adata.to_df(layer='seq_depth_norm').astype(int).T.to_excel(writer, sheet_name='normalized counts')\n",
    "    getAnnotatedTable(screen, threshold=6).to_excel(writer, sheet_name='A549 CRISPRi screens')"
   ]
  },
  {
   "cell_type": "code",
   "execution_count": null,
   "id": "4dcb439e-7ee7-4899-b321-e3353d8982e7",
   "metadata": {},
   "outputs": [],
   "source": []
  },
  {
   "cell_type": "code",
   "execution_count": null,
   "id": "2c83016c-cc1b-4766-881d-25f103b6796c",
   "metadata": {},
   "outputs": [],
   "source": []
  },
  {
   "cell_type": "markdown",
   "id": "0db00d59-66ed-4ec7-a4d6-31fca4714807",
   "metadata": {},
   "source": [
    "# "
   ]
  },
  {
   "cell_type": "code",
   "execution_count": 192,
   "id": "29b52369-c803-47bd-b98e-b3e9d640100b",
   "metadata": {
    "tags": []
   },
   "outputs": [],
   "source": [
    "%reload_ext watermark"
   ]
  },
  {
   "cell_type": "code",
   "execution_count": 193,
   "id": "b0a42a6b-a671-4c21-8c6b-c49a64a1b498",
   "metadata": {
    "tags": []
   },
   "outputs": [
    {
     "name": "stdout",
     "output_type": "stream",
     "text": [
      "Last updated: 2024-08-13T19:58:52.281703-07:00\n",
      "\n",
      "Python implementation: CPython\n",
      "Python version       : 3.9.19\n",
      "IPython version      : 8.18.1\n",
      "\n",
      "Compiler    : GCC 12.3.0\n",
      "OS          : Linux\n",
      "Release     : 5.15.0-117-generic\n",
      "Machine     : x86_64\n",
      "Processor   : x86_64\n",
      "CPU cores   : 64\n",
      "Architecture: 64bit\n",
      "\n"
     ]
    }
   ],
   "source": [
    "%watermark"
   ]
  },
  {
   "cell_type": "code",
   "execution_count": 194,
   "id": "9f2d7675-071b-435c-88f9-86885bab0011",
   "metadata": {
    "tags": []
   },
   "outputs": [
    {
     "name": "stdout",
     "output_type": "stream",
     "text": [
      "numpy     : 1.26.4\n",
      "matplotlib: 3.6.3\n",
      "screenpro : 0.4.11\n",
      "scanpy    : 1.9.6\n",
      "upsetplot : 0.9.0\n",
      "pandas    : 2.1.4\n",
      "anndata   : 0.10.7\n",
      "\n"
     ]
    }
   ],
   "source": [
    "%watermark --iversions"
   ]
  },
  {
   "cell_type": "markdown",
   "id": "e9c9d95b-1a81-4dce-a78b-9bc82f0ec212",
   "metadata": {},
   "source": [
    "___"
   ]
  }
 ],
 "metadata": {
  "kernelspec": {
   "display_name": "Python [conda env:screenpro2]",
   "language": "python",
   "name": "conda-env-screenpro2-py"
  },
  "language_info": {
   "codemirror_mode": {
    "name": "ipython",
    "version": 3
   },
   "file_extension": ".py",
   "mimetype": "text/x-python",
   "name": "python",
   "nbconvert_exporter": "python",
   "pygments_lexer": "ipython3",
   "version": "3.9.19"
  },
  "widgets": {
   "application/vnd.jupyter.widget-state+json": {
    "state": {},
    "version_major": 2,
    "version_minor": 0
   }
  }
 },
 "nbformat": 4,
 "nbformat_minor": 5
}
