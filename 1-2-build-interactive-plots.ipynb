{
 "cells": [
  {
   "cell_type": "markdown",
   "metadata": {},
   "source": [
    "**Aim**: Build interactive plots to visulize gene-level phenotypes."
   ]
  },
  {
   "cell_type": "code",
   "execution_count": 28,
   "metadata": {},
   "outputs": [],
   "source": [
    "# !pip uninstall -y screenpro2\n",
    "# !pip install git+https://github.com/arcinstitute/screenpro2.git@dev"
   ]
  },
  {
   "cell_type": "code",
   "execution_count": 29,
   "metadata": {},
   "outputs": [],
   "source": [
    "import screenpro as scp\n",
    "import pandas as pd\n",
    "import numpy as np\n",
    "import pygwalker as pyg\n",
    "import bokeh"
   ]
  },
  {
   "cell_type": "code",
   "execution_count": 30,
   "metadata": {},
   "outputs": [],
   "source": [
    "drug_names = {\n",
    "    'DMSO': 'DMSO', # Vehicle\n",
    "    'Pi': 'PARPi',\n",
    "    'Ri': 'ATRi',\n",
    "    'Wi': 'WEE1i',\n",
    "    'Mi': 'ATMi',\n",
    "    'Ki': 'DNAPKi',\n",
    "    'PiRi': 'PARPi+ATRi',\n",
    "    'PiWi': 'PARPi+WEE1i',\n",
    "    'PiMi': 'PARPi+ATMi',\n",
    "    'PiKi': 'PARPi+DNAPKi'\n",
    "}"
   ]
  },
  {
   "cell_type": "markdown",
   "metadata": {},
   "source": [
    "### A549_CRISPRi_v2_screens"
   ]
  },
  {
   "cell_type": "code",
   "execution_count": null,
   "metadata": {},
   "outputs": [],
   "source": [
    "A549_CRISPRi_v2_screens = scp.load._read_screen_pkl('screens/A549_CRISPRi_v2_screens')"
   ]
  },
  {
   "cell_type": "code",
   "execution_count": null,
   "metadata": {},
   "outputs": [],
   "source": [
    "A549_CRISPRi_v2_results = A549_CRISPRi_v2_screens.phenotypes['compare_guides']['results']"
   ]
  },
  {
   "cell_type": "markdown",
   "metadata": {},
   "source": [
    "___"
   ]
  },
  {
   "cell_type": "code",
   "execution_count": null,
   "metadata": {},
   "outputs": [
    {
     "data": {
      "text/plain": [
       "dict_keys(['gamma:DMSO_vs_T0', 'tau:Pi_vs_T0', 'rho:Pi_vs_DMSO', 'tau:Ri_vs_T0', 'rho:Ri_vs_DMSO', 'tau:PiRi_vs_T0', 'rho:PiRi_vs_DMSO', 'tau:Mi_vs_T0', 'rho:Mi_vs_DMSO', 'tau:PiMi_vs_T0', 'rho:PiMi_vs_DMSO', 'tau:Wi_vs_T0', 'rho:Wi_vs_DMSO', 'tau:PiWi_vs_T0', 'rho:PiWi_vs_DMSO', 'tau:Ki_vs_T0', 'rho:Ki_vs_DMSO', 'tau:PiKi_vs_T0', 'rho:PiKi_vs_DMSO'])"
      ]
     },
     "metadata": {},
     "output_type": "display_data"
    }
   ],
   "source": [
    "A549_CRISPRi_v2_screens.phenotypes['compare_guides']['results'].keys()"
   ]
  },
  {
   "cell_type": "code",
   "execution_count": 21,
   "metadata": {},
   "outputs": [
    {
     "name": "stdout",
     "output_type": "stream",
     "text": [
      "Pi\n"
     ]
    },
    {
     "name": "stderr",
     "output_type": "stream",
     "text": [
      "/Users/abearab/miniconda3/envs/screenpro2/lib/python3.11/site-packages/screenpro/dashboard/__init__.py:23: UserWarning: ResetTool(id='p1176', ...) are being repeated\n",
      "  p = bokeh.plotting.figure(\n"
     ]
    },
    {
     "name": "stdout",
     "output_type": "stream",
     "text": [
      "Ri\n"
     ]
    },
    {
     "name": "stderr",
     "output_type": "stream",
     "text": [
      "/Users/abearab/miniconda3/envs/screenpro2/lib/python3.11/site-packages/screenpro/dashboard/__init__.py:23: UserWarning: ResetTool(id='p1304', ...) are being repeated\n",
      "  p = bokeh.plotting.figure(\n"
     ]
    },
    {
     "name": "stdout",
     "output_type": "stream",
     "text": [
      "Wi\n"
     ]
    },
    {
     "name": "stderr",
     "output_type": "stream",
     "text": [
      "/Users/abearab/miniconda3/envs/screenpro2/lib/python3.11/site-packages/screenpro/dashboard/__init__.py:23: UserWarning: ResetTool(id='p1432', ...) are being repeated\n",
      "  p = bokeh.plotting.figure(\n"
     ]
    },
    {
     "name": "stdout",
     "output_type": "stream",
     "text": [
      "Mi\n"
     ]
    },
    {
     "name": "stderr",
     "output_type": "stream",
     "text": [
      "/Users/abearab/miniconda3/envs/screenpro2/lib/python3.11/site-packages/screenpro/dashboard/__init__.py:23: UserWarning: ResetTool(id='p1560', ...) are being repeated\n",
      "  p = bokeh.plotting.figure(\n",
      "/Users/abearab/miniconda3/envs/screenpro2/lib/python3.11/site-packages/screenpro/dashboard/__init__.py:23: UserWarning: ResetTool(id='p1688', ...) are being repeated\n",
      "  p = bokeh.plotting.figure(\n"
     ]
    },
    {
     "name": "stdout",
     "output_type": "stream",
     "text": [
      "Ki\n",
      "PiRi\n"
     ]
    },
    {
     "name": "stderr",
     "output_type": "stream",
     "text": [
      "/Users/abearab/miniconda3/envs/screenpro2/lib/python3.11/site-packages/screenpro/dashboard/__init__.py:23: UserWarning: ResetTool(id='p1816', ...) are being repeated\n",
      "  p = bokeh.plotting.figure(\n",
      "/Users/abearab/miniconda3/envs/screenpro2/lib/python3.11/site-packages/screenpro/dashboard/__init__.py:23: UserWarning: ResetTool(id='p1944', ...) are being repeated\n",
      "  p = bokeh.plotting.figure(\n"
     ]
    },
    {
     "name": "stdout",
     "output_type": "stream",
     "text": [
      "PiWi\n",
      "PiMi\n"
     ]
    },
    {
     "name": "stderr",
     "output_type": "stream",
     "text": [
      "/Users/abearab/miniconda3/envs/screenpro2/lib/python3.11/site-packages/screenpro/dashboard/__init__.py:23: UserWarning: ResetTool(id='p2072', ...) are being repeated\n",
      "  p = bokeh.plotting.figure(\n"
     ]
    },
    {
     "name": "stdout",
     "output_type": "stream",
     "text": [
      "PiKi\n"
     ]
    },
    {
     "name": "stderr",
     "output_type": "stream",
     "text": [
      "/Users/abearab/miniconda3/envs/screenpro2/lib/python3.11/site-packages/screenpro/dashboard/__init__.py:23: UserWarning: ResetTool(id='p2200', ...) are being repeated\n",
      "  p = bokeh.plotting.figure(\n"
     ]
    }
   ],
   "source": [
    "plots = {}\n",
    "\n",
    "for drug_key in list(drug_names.keys())[1:]:\n",
    "    print(drug_key)\n",
    "\n",
    "    plotter = scp.dashboard.DrugScreenDashboard(\n",
    "        A549_CRISPRi_v2_screens,\n",
    "        untreated='DMSO',\n",
    "        treated=drug_key,\n",
    "        run_name='compare_guides',\n",
    "        threshold=2,\n",
    "        ctrl_label='negative_control',\n",
    "        pvalue_col='ttest pvalue',\n",
    "    )\n",
    "\n",
    "    p = plotter.RhoVolcanoPlot(\n",
    "        x_source='rho_score', \n",
    "        y_source='-log10(rho_pvalue)', \n",
    "        xaxis_label='phenotype score', \n",
    "        yaxis_label='-log10(p-value)', \n",
    "        up_hit='resistance_hit', down_hit='sensitivity_hit', \n",
    "        hit_label_col='rho_label', \n",
    "        x_min=-2.5, x_max=2.5, \n",
    "        y_min=0, y_max='auto', \n",
    "        return_html=True\n",
    "    )\n",
    "\n",
    "    plots[drug_names[drug_key]] = p"
   ]
  },
  {
   "cell_type": "code",
   "execution_count": 40,
   "metadata": {},
   "outputs": [],
   "source": [
    "# write plots to html files\n",
    "for drug, html in plots.items():\n",
    "    with open(f'app/_html/A549_CRISPRi_v2_screens/{drug}_volcano.html', 'w') as f:\n",
    "        f.write(html)"
   ]
  },
  {
   "cell_type": "code",
   "execution_count": 41,
   "metadata": {},
   "outputs": [
    {
     "name": "stdout",
     "output_type": "stream",
     "text": [
      "ATMi_volcano.html         PARPi+ATMi_volcano.html   PARPi+WEE1i_volcano.html\n",
      "ATRi_volcano.html         PARPi+ATRi_volcano.html   PARPi_volcano.html\n",
      "DNAPKi_volcano.html       PARPi+DNAPKi_volcano.html WEE1i_volcano.html\n"
     ]
    }
   ],
   "source": [
    "!ls app/_html/A549_CRISPRi_v2_screens/"
   ]
  },
  {
   "cell_type": "markdown",
   "metadata": {},
   "source": [
    "### A549_CRISPRa_v2_screens"
   ]
  },
  {
   "cell_type": "code",
   "execution_count": 42,
   "metadata": {},
   "outputs": [],
   "source": [
    "A549_CRISPRa_v2_screens = scp.load._read_screen_pkl('screens/A549_CRISPRa_v2_screens')"
   ]
  },
  {
   "cell_type": "code",
   "execution_count": 43,
   "metadata": {},
   "outputs": [],
   "source": [
    "A549_CRISPRa_v2_results = A549_CRISPRa_v2_screens.phenotypes['compare_guides']['results']"
   ]
  },
  {
   "cell_type": "markdown",
   "metadata": {},
   "source": [
    "___"
   ]
  },
  {
   "cell_type": "code",
   "execution_count": 49,
   "metadata": {},
   "outputs": [
    {
     "data": {
      "text/plain": [
       "dict_keys(['gamma:DMSO_vs_T0', 'tau:Pi_vs_T0', 'rho:Pi_vs_DMSO', 'tau:Ri_vs_T0', 'rho:Ri_vs_DMSO', 'tau:PiRi_vs_T0', 'rho:PiRi_vs_DMSO', 'tau:Wi_vs_T0', 'rho:Wi_vs_DMSO', 'tau:PiWi_vs_T0', 'rho:PiWi_vs_DMSO'])"
      ]
     },
     "execution_count": 49,
     "metadata": {},
     "output_type": "execute_result"
    }
   ],
   "source": [
    "A549_CRISPRa_v2_screens.phenotypes['compare_guides']['results'].keys()"
   ]
  },
  {
   "cell_type": "code",
   "execution_count": 65,
   "metadata": {},
   "outputs": [],
   "source": [
    "A549_CRISPRa_v2_keys = [\n",
    "    k.split(':')[1].split('_')[0] \n",
    "    for k in A549_CRISPRa_v2_screens.phenotypes['compare_guides']['results'].keys()\n",
    "    if 'rho' in k\n",
    "]"
   ]
  },
  {
   "cell_type": "code",
   "execution_count": null,
   "metadata": {},
   "outputs": [
    {
     "name": "stdout",
     "output_type": "stream",
     "text": [
      "Pi\n"
     ]
    },
    {
     "name": "stderr",
     "output_type": "stream",
     "text": [
      "/Users/abearab/miniconda3/envs/screenpro2/lib/python3.11/site-packages/screenpro/dashboard/__init__.py:23: UserWarning: ResetTool(id='p2712', ...) are being repeated\n",
      "  p = bokeh.plotting.figure(\n",
      "/Users/abearab/miniconda3/envs/screenpro2/lib/python3.11/site-packages/screenpro/dashboard/__init__.py:23: UserWarning: ResetTool(id='p2840', ...) are being repeated\n",
      "  p = bokeh.plotting.figure(\n"
     ]
    },
    {
     "name": "stdout",
     "output_type": "stream",
     "text": [
      "Ri\n",
      "Wi\n"
     ]
    },
    {
     "name": "stderr",
     "output_type": "stream",
     "text": [
      "/Users/abearab/miniconda3/envs/screenpro2/lib/python3.11/site-packages/pandas/core/arraylike.py:402: RuntimeWarning: divide by zero encountered in log10\n",
      "  result = getattr(ufunc, method)(*inputs, **kwargs)\n",
      "/Users/abearab/miniconda3/envs/screenpro2/lib/python3.11/site-packages/pandas/core/arraylike.py:402: RuntimeWarning: divide by zero encountered in log10\n",
      "  result = getattr(ufunc, method)(*inputs, **kwargs)\n",
      "/Users/abearab/miniconda3/envs/screenpro2/lib/python3.11/site-packages/screenpro/dashboard/__init__.py:23: UserWarning: ResetTool(id='p2968', ...) are being repeated\n",
      "  p = bokeh.plotting.figure(\n"
     ]
    }
   ],
   "source": [
    "plots = {}\n",
    "\n",
    "for drug_key in list(drug_names.keys())[1:]:\n",
    "    if drug_key not in A549_CRISPRa_v2_keys: break\n",
    "\n",
    "    print(drug_key)\n",
    "\n",
    "    plotter = scp.dashboard.DrugScreenDashboard(\n",
    "        A549_CRISPRa_v2_screens,\n",
    "        untreated='DMSO',\n",
    "        treated=drug_key,\n",
    "        run_name='compare_guides',\n",
    "        threshold=2,\n",
    "        ctrl_label='negative_control',\n",
    "        pvalue_col='ttest pvalue',\n",
    "    )\n",
    "\n",
    "    p = plotter.RhoVolcanoPlot(\n",
    "        x_source='rho_score', \n",
    "        y_source='-log10(rho_pvalue)', \n",
    "        xaxis_label='phenotype score', \n",
    "        yaxis_label='-log10(p-value)', \n",
    "        up_hit='resistance_hit', down_hit='sensitivity_hit', \n",
    "        hit_label_col='rho_label', \n",
    "        x_min=-2.5, x_max=2.5, \n",
    "        y_min=0, y_max='auto', \n",
    "        return_html=True\n",
    "    )\n",
    "\n",
    "    plots[drug_names[drug_key]] = p\n",
    "\n",
    "\n",
    "!mkdir app/_html/A549_CRISPRa_v2_screens/\n",
    "\n",
    "# write plots to html files\n",
    "for drug, html in plots.items():\n",
    "    with open(f'app/_html/A549_CRISPRa_v2_screens/{drug}_volcano.html', 'w') as f:\n",
    "        f.write(html)"
   ]
  },
  {
   "cell_type": "code",
   "execution_count": null,
   "metadata": {},
   "outputs": [],
   "source": []
  },
  {
   "cell_type": "markdown",
   "metadata": {},
   "source": [
    "### A549_PRDX1_CRISPRi_v3_screens"
   ]
  },
  {
   "cell_type": "code",
   "execution_count": 93,
   "metadata": {},
   "outputs": [],
   "source": [
    "# A549_PRDX1_CRISPRi_v3_screens = scp.load._read_screen_pkl('screens/A549_PRDX1_CRISPRi_v3_screens')"
   ]
  },
  {
   "cell_type": "code",
   "execution_count": 94,
   "metadata": {},
   "outputs": [],
   "source": [
    "# A549_PRDX1_CRISPRi_v3_screens.phenotypes"
   ]
  },
  {
   "cell_type": "markdown",
   "metadata": {},
   "source": [
    "(1) compare_reps_parent"
   ]
  },
  {
   "cell_type": "code",
   "execution_count": 95,
   "metadata": {},
   "outputs": [],
   "source": [
    "# A549_PRDX1_CRISPRi_v3_parent_results = A549_PRDX1_CRISPRi_v3_screens.phenotypes['compare_reps_parent']['results']"
   ]
  },
  {
   "cell_type": "markdown",
   "metadata": {},
   "source": [
    "___"
   ]
  },
  {
   "cell_type": "code",
   "execution_count": 96,
   "metadata": {},
   "outputs": [],
   "source": [
    "# A549_PRDX1_CRISPRi_v3_screens.phenotypes['compare_reps_vehicle']['results'].keys()"
   ]
  },
  {
   "cell_type": "code",
   "execution_count": 97,
   "metadata": {},
   "outputs": [],
   "source": [
    "# A549_PRDX1_CRISPRi_v3_screens.phenotypes['compare_reps_parent']['results'].keys()"
   ]
  },
  {
   "cell_type": "code",
   "execution_count": 98,
   "metadata": {},
   "outputs": [],
   "source": [
    "# plots = {}\n",
    "\n",
    "# plotter = scp.dashboard.DrugScreenDashboard(\n",
    "#     A549_CRISPRa_v2_screens,\n",
    "#     untreated='DMSO',\n",
    "#     treated=drug_key,\n",
    "#     run_name='compare_guides',\n",
    "#     threshold=2,\n",
    "#     ctrl_label='negative_control',\n",
    "#     pvalue_col='ttest pvalue',\n",
    "# )\n",
    "\n",
    "# p = plotter.RhoVolcanoPlot(\n",
    "#     x_source='rho_score', \n",
    "#     y_source='-log10(rho_pvalue)', \n",
    "#     xaxis_label='phenotype score', \n",
    "#     yaxis_label='-log10(p-value)', \n",
    "#     up_hit='resistance_hit', down_hit='sensitivity_hit', \n",
    "#     hit_label_col='rho_label', \n",
    "#     x_min=-2.5, x_max=2.5, \n",
    "#     y_min=0, y_max='auto', \n",
    "#     return_html=True\n",
    "# )\n",
    "\n",
    "# plots[f'DNAPKi_{subscreen}']\n",
    "\n",
    "\n",
    "# !mkdir app/_html/A549_PRDX1_CRISPRi_v3_screens/\n",
    "\n",
    "# # write plots to html files\n",
    "# for drug, html in plots.items():\n",
    "#     with open(f'app/_html/A549_PRDX1_CRISPRi_v3_screens/{drug}_{}_volcano.html', 'w') as f:\n",
    "#         f.write(html)"
   ]
  },
  {
   "cell_type": "code",
   "execution_count": 76,
   "metadata": {},
   "outputs": [],
   "source": [
    "# from IPython.display import IFrame"
   ]
  },
  {
   "cell_type": "code",
   "execution_count": 75,
   "metadata": {},
   "outputs": [],
   "source": [
    "# IFrame(src='app/_html/A549_CRISPRi_v2_screens/PARPi_volcano.html', width=800, height=600)"
   ]
  },
  {
   "cell_type": "code",
   "execution_count": null,
   "metadata": {},
   "outputs": [],
   "source": []
  }
 ],
 "metadata": {
  "kernelspec": {
   "display_name": "screenpro2",
   "language": "python",
   "name": "python3"
  },
  "language_info": {
   "codemirror_mode": {
    "name": "ipython",
    "version": 3
   },
   "file_extension": ".py",
   "mimetype": "text/x-python",
   "name": "python",
   "nbconvert_exporter": "python",
   "pygments_lexer": "ipython3",
   "version": "3.11.11"
  }
 },
 "nbformat": 4,
 "nbformat_minor": 2
}
