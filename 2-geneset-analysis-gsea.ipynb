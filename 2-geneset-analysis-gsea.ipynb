{
 "cells": [
  {
   "cell_type": "markdown",
   "metadata": {
    "tags": []
   },
   "source": [
    "# Gene set enrichment analysis of rho scores\n",
    "- tool: blitzgsea, https://github.com/MaayanLab/blitzgsea"
   ]
  },
  {
   "cell_type": "code",
   "execution_count": 1,
   "metadata": {
    "tags": []
   },
   "outputs": [],
   "source": [
    "import numpy as np \n",
    "import pandas as pd\n",
    "import anndata as ad\n",
    "import scanpy as sc\n",
    "import blitzgsea as blitz\n",
    "\n",
    "import screenpro\n",
    "\n",
    "from matplotlib import font_manager as fm\n",
    "\n",
    "from matplotlib import rcParams\n",
    "\n",
    "font_files = fm.findSystemFonts(fontpaths=None, fontext='ttf')\n",
    "\n",
    "for font_file in font_files:\n",
    "    fm.fontManager.addfont(font_file)\n",
    "\n",
    "# {f.name for f in matplotlib.font_manager.fontManager.ttflist}\n",
    "\n",
    "rcParams['font.family'] = ['Arial']\n",
    "\n",
    "from screenpro.load import loadScreenProcessingData, read_adata_pkl"
   ]
  },
  {
   "cell_type": "code",
   "execution_count": 2,
   "metadata": {
    "tags": []
   },
   "outputs": [],
   "source": [
    "pager_dir = \"/data_gilbert/home/aarab/tools/pager/\"\n",
    "pager_annotation_path = '/data_gilbert/home/aarab/tools/pager/annotations/human'\n",
    "\n",
    "c5_gobp_gmt = blitz.enrichr.read_gmt(\n",
    "    f'{pager_annotation_path}/msigdb_v7.4_c5.go.bp/c5.go.bp.v7.4.symbols.gmt'\n",
    ")"
   ]
  },
  {
   "cell_type": "code",
   "execution_count": 3,
   "metadata": {
    "tags": []
   },
   "outputs": [],
   "source": [
    "def get_sig_gsea_results(result,variable,threshold):\n",
    "    return result[result[variable] < threshold]\n",
    "\n",
    "def get_rho_for_gsea(rho,ctrl_label='pseudo'):\n",
    "    \n",
    "    rho = rho.loc[~rho.label.eq(ctrl_label),:]\n",
    "\n",
    "    rho_score = rho.score.reset_index()\n",
    "    rho_score = rho_score.dropna()\n",
    "    \n",
    "    rho_stat =  1 - rho.pvalue # regardless of direction\n",
    "    rho_stat = rho_stat.reset_index()\n",
    "    rho_stat = rho_stat.dropna()\n",
    "    \n",
    "    return rho_score, rho_stat\n",
    "\n",
    "# def run_rho_gsea(rho,gmt,min_size=200):\n",
    "#     signature = rho.copy()\n",
    "\n",
    "#     result = blitz.gsea(\n",
    "#         signature=signature,\n",
    "#         library=gmt,\n",
    "#         min_size=min_size,\n",
    "#         # max_size=250,\n",
    "#         verbose=True\n",
    "#     )\n",
    "    \n",
    "#     return signature, result\n",
    "\n",
    "def run_rho_gsea_directional(rho,gmt,min_size=15,max_size=150):\n",
    "    signature = rho.copy()\n",
    "\n",
    "    result = blitz.gsea(\n",
    "        signature=signature,\n",
    "        library=gmt,\n",
    "        min_size=min_size,\n",
    "        max_size=max_size,\n",
    "        verbose=True\n",
    "    )\n",
    "    \n",
    "    return signature, result"
   ]
  },
  {
   "cell_type": "code",
   "execution_count": 4,
   "metadata": {
    "tags": []
   },
   "outputs": [],
   "source": [
    "# import sys\n",
    "# import pandas as pd\n",
    "# from itertools import chain, product\n",
    "\n",
    "# sys.path.append(\"../../\")\n",
    "\n",
    "# from scripts.util import *\n",
    "# from matplotlib_venn import venn2\n",
    "# from IPython.display import IFrame"
   ]
  },
  {
   "cell_type": "code",
   "execution_count": 5,
   "metadata": {
    "tags": []
   },
   "outputs": [],
   "source": [
    "# import gseapy"
   ]
  },
  {
   "cell_type": "markdown",
   "metadata": {},
   "source": [
    "### Get phenotype scores"
   ]
  },
  {
   "cell_type": "code",
   "execution_count": 6,
   "metadata": {
    "tags": []
   },
   "outputs": [],
   "source": [
    "threshold = 10"
   ]
  },
  {
   "cell_type": "code",
   "execution_count": 7,
   "metadata": {
    "tags": []
   },
   "outputs": [],
   "source": [
    "Ci_prdx1kd_adata = read_adata_pkl('datasets/CRISPRi_PRDX1-KD')"
   ]
  },
  {
   "cell_type": "code",
   "execution_count": 8,
   "metadata": {
    "tags": []
   },
   "outputs": [],
   "source": [
    "Ci_adata = read_adata_pkl('datasets/CRISPRi')\n",
    "Ca_A549_adata = read_adata_pkl('datasets/CRISPRa_A549')\n",
    "Ca_k562_adata = read_adata_pkl('datasets/CRISPRa_k562')"
   ]
  },
  {
   "cell_type": "code",
   "execution_count": 9,
   "metadata": {},
   "outputs": [],
   "source": [
    "def get_annotated_score_df(adata,score,level,threshold,ctrl_label='pseudo',rep_label='ave_rep1_rep2'):\n",
    "    if level == 'transcript':\n",
    "        df = adata.transcript_scores[score][rep_label][[\n",
    "            'average phenotype of strongest 3',\n",
    "            'Mann-Whitney p-value',\n",
    "        ]].reset_index('gene').reset_index(drop=True).copy()\n",
    "    \n",
    "    elif level == 'gene':\n",
    "        df = adata.gene_scores[score][rep_label][[\n",
    "            'average phenotype of strongest 3',\n",
    "            'Mann-Whitney p-value',\n",
    "        ]].reset_index('gene').copy()\n",
    "        \n",
    "    df = screenpro.phenoScore.ann_score_df(df, ctrl_label=ctrl_label,threshold=threshold)\n",
    "    \n",
    "    return df"
   ]
  },
  {
   "cell_type": "code",
   "execution_count": 10,
   "metadata": {
    "tags": []
   },
   "outputs": [],
   "source": [
    "def add_rho_dict(adata,threshold = threshold,rep_label = 'ave_rep1_rep2'):\n",
    "    adata.rho_dict = dict([\n",
    "        (treat,get_annotated_score_df(adata,score,'gene',threshold = threshold, rep_label = rep_label).set_index('target')) \n",
    "        for treat, score in adata.comparisons.items()\n",
    "    ])"
   ]
  },
  {
   "cell_type": "markdown",
   "metadata": {},
   "source": [
    "___"
   ]
  },
  {
   "cell_type": "code",
   "execution_count": 11,
   "metadata": {
    "tags": []
   },
   "outputs": [],
   "source": [
    "add_rho_dict(Ci_adata)"
   ]
  },
  {
   "cell_type": "code",
   "execution_count": 12,
   "metadata": {
    "tags": []
   },
   "outputs": [],
   "source": [
    "add_rho_dict(Ca_A549_adata,rep_label='Rep1') # there are only one replicates per condition"
   ]
  },
  {
   "cell_type": "code",
   "execution_count": 13,
   "metadata": {
    "tags": []
   },
   "outputs": [],
   "source": [
    "add_rho_dict(Ca_k562_adata)"
   ]
  },
  {
   "cell_type": "markdown",
   "metadata": {
    "tags": []
   },
   "source": [
    "## Run GSEA"
   ]
  },
  {
   "cell_type": "code",
   "execution_count": 36,
   "metadata": {
    "tags": []
   },
   "outputs": [],
   "source": [
    "def run_gesa_loop(rho_dict,ctrl_label='pseudo', gmt = c5_gobp_gmt):\n",
    "    results = {}\n",
    "    for treat, rho in rho_dict.items():\n",
    "        print(treat)\n",
    "        rho_score, _ = get_rho_for_gsea(rho,ctrl_label=ctrl_label)\n",
    "\n",
    "        signature, result = run_rho_gsea_directional(rho_score,c5_gobp_gmt)\n",
    "\n",
    "        result_top = get_sig_gsea_results(result,'fdr',0.2)\n",
    "\n",
    "        results[treat] = {'signature':signature,'full':result,'top':result_top} #,'gmt':gmt\n",
    "\n",
    "        del signature,result,result_top,rho_score\n",
    "    return results\n",
    "\n",
    "\n",
    "def save_gesa_results(results,results_dir,exp_name):\n",
    "    writer = pd.ExcelWriter(f'{results_dir}/{exp_name}_go_gsea.xlsx', engine='openpyxl')\n",
    "\n",
    "    for name,res in results.items():\n",
    "        res['top'].to_excel(writer, sheet_name=f'{exp_name} {name}')\n",
    "\n",
    "    # writer.save()\n",
    "    writer.close()\n",
    "\n",
    "    all_terms = [res['full'].index.to_list() for name,res in results.items()]\n",
    "    ol_terms  = list(set(all_terms[0]).intersection(*all_terms[1:]))\n",
    "    \n",
    "    pd.concat(\n",
    "        dict([(name,res['full'].loc[ol_terms,:]) for name,res in results.items()]),axis=1\n",
    "    ).to_excel(f'{results_dir}/{exp_name}_go_gsea_merged.xlsx')"
   ]
  },
  {
   "cell_type": "markdown",
   "metadata": {},
   "source": [
    "___"
   ]
  },
  {
   "cell_type": "code",
   "execution_count": 37,
   "metadata": {
    "tags": []
   },
   "outputs": [],
   "source": [
    "# run_gesa_loop"
   ]
  },
  {
   "cell_type": "markdown",
   "metadata": {
    "tags": []
   },
   "source": [
    "#### CRISPRi PRDX1-KD datasets"
   ]
  },
  {
   "cell_type": "markdown",
   "metadata": {},
   "source": [
    "This is a different analysis so the threshold, etc. might be different from the V2 datasets."
   ]
  },
  {
   "cell_type": "code",
   "execution_count": 32,
   "metadata": {
    "tags": []
   },
   "outputs": [],
   "source": [
    "Ci_prdx1kd_adata.rho_dict = dict([\n",
    "    (score, Ci_prdx1kd_adata.gene_scores[score])\n",
    "    for score in Ci_prdx1kd_adata.gene_scores.columns.get_level_values(0).unique()\n",
    "])"
   ]
  },
  {
   "cell_type": "code",
   "execution_count": 38,
   "metadata": {
    "tags": []
   },
   "outputs": [],
   "source": [
    "# run_gesa_loop"
   ]
  },
  {
   "cell_type": "code",
   "execution_count": 39,
   "metadata": {
    "tags": []
   },
   "outputs": [
    {
     "name": "stdout",
     "output_type": "stream",
     "text": [
      "PRDX1_parent gamma vehicle_vs_T0\n"
     ]
    },
    {
     "name": "stderr",
     "output_type": "stream",
     "text": [
      "Enrichment : 100%|██████████| 7481/7481 [00:03<00:00, 2018.82it/s]\n",
      "/data_gilbert/home/aarab/anaconda3/envs/mamba/envs/screenpro2/lib/python3.9/site-packages/statsmodels/stats/multitest.py:164: RuntimeWarning: divide by zero encountered in log1p\n",
      "  pvals_corrected = -np.expm1(ntests * np.log1p(-pvals))\n"
     ]
    },
    {
     "name": "stdout",
     "output_type": "stream",
     "text": [
      "Kolmogorov-Smirnov test failed. Gamma approximation deviates from permutation samples.\n",
      "KS p-value (pos): 0.027268607720722794\n",
      "KS p-value (neg): 0.027268607720722794\n",
      "PRDX1_parent tau DNAPKi_vs_T0\n"
     ]
    },
    {
     "name": "stderr",
     "output_type": "stream",
     "text": [
      "Enrichment : 100%|██████████| 7481/7481 [00:03<00:00, 2026.73it/s]\n",
      "/data_gilbert/home/aarab/anaconda3/envs/mamba/envs/screenpro2/lib/python3.9/site-packages/statsmodels/stats/multitest.py:164: RuntimeWarning: divide by zero encountered in log1p\n",
      "  pvals_corrected = -np.expm1(ntests * np.log1p(-pvals))\n"
     ]
    },
    {
     "name": "stdout",
     "output_type": "stream",
     "text": [
      "Kolmogorov-Smirnov test failed. Gamma approximation deviates from permutation samples.\n",
      "KS p-value (pos): 0.021039625372262147\n",
      "KS p-value (neg): 0.021039625372262147\n",
      "PRDX1_parent rho DNAPKi_vs_vehicle\n"
     ]
    },
    {
     "name": "stderr",
     "output_type": "stream",
     "text": [
      "Enrichment : 100%|██████████| 7481/7481 [00:03<00:00, 1975.55it/s]\n",
      "/data_gilbert/home/aarab/anaconda3/envs/mamba/envs/screenpro2/lib/python3.9/site-packages/statsmodels/stats/multitest.py:164: RuntimeWarning: divide by zero encountered in log1p\n",
      "  pvals_corrected = -np.expm1(ntests * np.log1p(-pvals))\n"
     ]
    },
    {
     "name": "stdout",
     "output_type": "stream",
     "text": [
      "PRDX1_KO gamma vehicle_vs_T0\n"
     ]
    },
    {
     "name": "stderr",
     "output_type": "stream",
     "text": [
      "Enrichment : 100%|██████████| 7481/7481 [00:03<00:00, 2043.94it/s]\n",
      "/data_gilbert/home/aarab/anaconda3/envs/mamba/envs/screenpro2/lib/python3.9/site-packages/statsmodels/stats/multitest.py:164: RuntimeWarning: divide by zero encountered in log1p\n",
      "  pvals_corrected = -np.expm1(ntests * np.log1p(-pvals))\n"
     ]
    },
    {
     "name": "stdout",
     "output_type": "stream",
     "text": [
      "Kolmogorov-Smirnov test failed. Gamma approximation deviates from permutation samples.\n",
      "KS p-value (pos): 0.02950274101154328\n",
      "KS p-value (neg): 0.02950274101154328\n",
      "PRDX1_KO tau DNAPKi_vs_T0\n"
     ]
    },
    {
     "name": "stderr",
     "output_type": "stream",
     "text": [
      "Enrichment : 100%|██████████| 7481/7481 [00:03<00:00, 2141.86it/s]\n",
      "/data_gilbert/home/aarab/anaconda3/envs/mamba/envs/screenpro2/lib/python3.9/site-packages/statsmodels/stats/multitest.py:164: RuntimeWarning: divide by zero encountered in log1p\n",
      "  pvals_corrected = -np.expm1(ntests * np.log1p(-pvals))\n"
     ]
    },
    {
     "name": "stdout",
     "output_type": "stream",
     "text": [
      "PRDX1_KO rho DNAPKi_vs_vehicle\n"
     ]
    },
    {
     "name": "stderr",
     "output_type": "stream",
     "text": [
      "Enrichment : 100%|██████████| 7481/7481 [00:03<00:00, 1894.92it/s]\n",
      "/data_gilbert/home/aarab/anaconda3/envs/mamba/envs/screenpro2/lib/python3.9/site-packages/statsmodels/stats/multitest.py:164: RuntimeWarning: divide by zero encountered in log1p\n",
      "  pvals_corrected = -np.expm1(ntests * np.log1p(-pvals))\n"
     ]
    },
    {
     "name": "stdout",
     "output_type": "stream",
     "text": [
      "Kolmogorov-Smirnov test failed. Gamma approximation deviates from permutation samples.\n",
      "KS p-value (pos): 0.014055002002954446\n",
      "KS p-value (neg): 0.014055002002954446\n",
      "vehicle rho PRDX1KO_vs_parent\n"
     ]
    },
    {
     "name": "stderr",
     "output_type": "stream",
     "text": [
      "Enrichment : 100%|██████████| 7481/7481 [00:03<00:00, 2074.29it/s]\n",
      "/data_gilbert/home/aarab/anaconda3/envs/mamba/envs/screenpro2/lib/python3.9/site-packages/statsmodels/stats/multitest.py:164: RuntimeWarning: divide by zero encountered in log1p\n",
      "  pvals_corrected = -np.expm1(ntests * np.log1p(-pvals))\n"
     ]
    },
    {
     "name": "stdout",
     "output_type": "stream",
     "text": [
      "Kolmogorov-Smirnov test failed. Gamma approximation deviates from permutation samples.\n",
      "KS p-value (pos): 0.048906725646048324\n",
      "KS p-value (neg): 0.048906725646048324\n"
     ]
    }
   ],
   "source": [
    "Ci_prdx1kd_adata.gsea_results = run_gesa_loop(Ci_prdx1kd_adata.rho_dict,ctrl_label='non-targeting')"
   ]
  },
  {
   "cell_type": "markdown",
   "metadata": {
    "tags": []
   },
   "source": [
    "#### CRISPRi"
   ]
  },
  {
   "cell_type": "code",
   "execution_count": 15,
   "metadata": {
    "collapsed": true,
    "jupyter": {
     "outputs_hidden": true
    },
    "tags": []
   },
   "outputs": [
    {
     "name": "stdout",
     "output_type": "stream",
     "text": [
      "gamma\n"
     ]
    },
    {
     "name": "stderr",
     "output_type": "stream",
     "text": [
      "Enrichment : 100%|██████████| 7481/7481 [00:04<00:00, 1551.16it/s]\n",
      "/data_gilbert/home/aarab/anaconda3/envs/mamba/envs/screenpro2/lib/python3.9/site-packages/statsmodels/stats/multitest.py:164: RuntimeWarning: divide by zero encountered in log1p\n",
      "  pvals_corrected = -np.expm1(ntests * np.log1p(-pvals))\n"
     ]
    },
    {
     "name": "stdout",
     "output_type": "stream",
     "text": [
      "Kolmogorov-Smirnov test failed. Gamma approximation deviates from permutation samples.\n",
      "KS p-value (pos): 0.03235275063257275\n",
      "KS p-value (neg): 0.03235275063257275\n",
      "PARPi\n"
     ]
    },
    {
     "name": "stderr",
     "output_type": "stream",
     "text": [
      "Enrichment : 100%|██████████| 7481/7481 [00:04<00:00, 1625.16it/s]\n",
      "/data_gilbert/home/aarab/anaconda3/envs/mamba/envs/screenpro2/lib/python3.9/site-packages/statsmodels/stats/multitest.py:164: RuntimeWarning: divide by zero encountered in log1p\n",
      "  pvals_corrected = -np.expm1(ntests * np.log1p(-pvals))\n"
     ]
    },
    {
     "name": "stdout",
     "output_type": "stream",
     "text": [
      "DNAPKi\n"
     ]
    },
    {
     "name": "stderr",
     "output_type": "stream",
     "text": [
      "Enrichment : 100%|██████████| 7481/7481 [00:04<00:00, 1632.29it/s]\n",
      "/data_gilbert/home/aarab/anaconda3/envs/mamba/envs/screenpro2/lib/python3.9/site-packages/statsmodels/stats/multitest.py:164: RuntimeWarning: divide by zero encountered in log1p\n",
      "  pvals_corrected = -np.expm1(ntests * np.log1p(-pvals))\n"
     ]
    },
    {
     "name": "stdout",
     "output_type": "stream",
     "text": [
      "ATMi\n"
     ]
    },
    {
     "name": "stderr",
     "output_type": "stream",
     "text": [
      "Enrichment : 100%|██████████| 7481/7481 [00:04<00:00, 1609.44it/s]\n",
      "/data_gilbert/home/aarab/anaconda3/envs/mamba/envs/screenpro2/lib/python3.9/site-packages/statsmodels/stats/multitest.py:164: RuntimeWarning: divide by zero encountered in log1p\n",
      "  pvals_corrected = -np.expm1(ntests * np.log1p(-pvals))\n"
     ]
    },
    {
     "name": "stdout",
     "output_type": "stream",
     "text": [
      "ATRi\n"
     ]
    },
    {
     "name": "stderr",
     "output_type": "stream",
     "text": [
      "Enrichment : 100%|██████████| 7481/7481 [00:04<00:00, 1700.43it/s]\n",
      "/data_gilbert/home/aarab/anaconda3/envs/mamba/envs/screenpro2/lib/python3.9/site-packages/statsmodels/stats/multitest.py:164: RuntimeWarning: divide by zero encountered in log1p\n",
      "  pvals_corrected = -np.expm1(ntests * np.log1p(-pvals))\n"
     ]
    },
    {
     "name": "stdout",
     "output_type": "stream",
     "text": [
      "WEE1i\n"
     ]
    },
    {
     "name": "stderr",
     "output_type": "stream",
     "text": [
      "Enrichment : 100%|██████████| 7481/7481 [00:04<00:00, 1718.79it/s]\n",
      "/data_gilbert/home/aarab/anaconda3/envs/mamba/envs/screenpro2/lib/python3.9/site-packages/statsmodels/stats/multitest.py:164: RuntimeWarning: divide by zero encountered in log1p\n",
      "  pvals_corrected = -np.expm1(ntests * np.log1p(-pvals))\n"
     ]
    },
    {
     "name": "stdout",
     "output_type": "stream",
     "text": [
      "PARPi+DNAPKi\n"
     ]
    },
    {
     "name": "stderr",
     "output_type": "stream",
     "text": [
      "Enrichment : 100%|██████████| 7481/7481 [00:04<00:00, 1647.62it/s]\n",
      "/data_gilbert/home/aarab/anaconda3/envs/mamba/envs/screenpro2/lib/python3.9/site-packages/statsmodels/stats/multitest.py:164: RuntimeWarning: divide by zero encountered in log1p\n",
      "  pvals_corrected = -np.expm1(ntests * np.log1p(-pvals))\n"
     ]
    },
    {
     "name": "stdout",
     "output_type": "stream",
     "text": [
      "PARPi+ATMi\n"
     ]
    },
    {
     "name": "stderr",
     "output_type": "stream",
     "text": [
      "Enrichment : 100%|██████████| 7481/7481 [00:04<00:00, 1798.64it/s]\n",
      "/data_gilbert/home/aarab/anaconda3/envs/mamba/envs/screenpro2/lib/python3.9/site-packages/statsmodels/stats/multitest.py:164: RuntimeWarning: divide by zero encountered in log1p\n",
      "  pvals_corrected = -np.expm1(ntests * np.log1p(-pvals))\n"
     ]
    },
    {
     "name": "stdout",
     "output_type": "stream",
     "text": [
      "PARPi+ATRi\n"
     ]
    },
    {
     "name": "stderr",
     "output_type": "stream",
     "text": [
      "Enrichment : 100%|██████████| 7481/7481 [00:04<00:00, 1584.19it/s]\n",
      "/data_gilbert/home/aarab/anaconda3/envs/mamba/envs/screenpro2/lib/python3.9/site-packages/statsmodels/stats/multitest.py:164: RuntimeWarning: divide by zero encountered in log1p\n",
      "  pvals_corrected = -np.expm1(ntests * np.log1p(-pvals))\n"
     ]
    },
    {
     "name": "stdout",
     "output_type": "stream",
     "text": [
      "PARPi+WEE1i\n"
     ]
    },
    {
     "name": "stderr",
     "output_type": "stream",
     "text": [
      "Enrichment : 100%|██████████| 7481/7481 [00:04<00:00, 1759.71it/s]\n",
      "/data_gilbert/home/aarab/anaconda3/envs/mamba/envs/screenpro2/lib/python3.9/site-packages/statsmodels/stats/multitest.py:164: RuntimeWarning: divide by zero encountered in log1p\n",
      "  pvals_corrected = -np.expm1(ntests * np.log1p(-pvals))\n"
     ]
    }
   ],
   "source": [
    "Ci_adata.gsea_results = run_gesa_loop(Ci_adata.rho_dict)"
   ]
  },
  {
   "cell_type": "markdown",
   "metadata": {
    "tags": []
   },
   "source": [
    "#### CRISPRa"
   ]
  },
  {
   "cell_type": "code",
   "execution_count": 16,
   "metadata": {
    "collapsed": true,
    "jupyter": {
     "outputs_hidden": true
    },
    "tags": []
   },
   "outputs": [
    {
     "name": "stdout",
     "output_type": "stream",
     "text": [
      "gamma\n"
     ]
    },
    {
     "name": "stderr",
     "output_type": "stream",
     "text": [
      "Enrichment : 100%|██████████| 7481/7481 [00:04<00:00, 1720.11it/s]\n",
      "/data_gilbert/home/aarab/anaconda3/envs/mamba/envs/screenpro2/lib/python3.9/site-packages/statsmodels/stats/multitest.py:164: RuntimeWarning: divide by zero encountered in log1p\n",
      "  pvals_corrected = -np.expm1(ntests * np.log1p(-pvals))\n"
     ]
    },
    {
     "name": "stdout",
     "output_type": "stream",
     "text": [
      "rho1\n"
     ]
    },
    {
     "name": "stderr",
     "output_type": "stream",
     "text": [
      "Enrichment : 100%|██████████| 7481/7481 [00:04<00:00, 1667.68it/s]\n",
      "/data_gilbert/home/aarab/anaconda3/envs/mamba/envs/screenpro2/lib/python3.9/site-packages/statsmodels/stats/multitest.py:164: RuntimeWarning: divide by zero encountered in log1p\n",
      "  pvals_corrected = -np.expm1(ntests * np.log1p(-pvals))\n"
     ]
    },
    {
     "name": "stdout",
     "output_type": "stream",
     "text": [
      "rho2\n"
     ]
    },
    {
     "name": "stderr",
     "output_type": "stream",
     "text": [
      "Enrichment : 100%|██████████| 7481/7481 [00:04<00:00, 1668.00it/s]\n",
      "/data_gilbert/home/aarab/anaconda3/envs/mamba/envs/screenpro2/lib/python3.9/site-packages/statsmodels/stats/multitest.py:164: RuntimeWarning: divide by zero encountered in log1p\n",
      "  pvals_corrected = -np.expm1(ntests * np.log1p(-pvals))\n"
     ]
    }
   ],
   "source": [
    "Ca_k562_adata.gsea_results = run_gesa_loop(Ca_k562_adata.rho_dict)"
   ]
  },
  {
   "cell_type": "code",
   "execution_count": 17,
   "metadata": {
    "collapsed": true,
    "jupyter": {
     "outputs_hidden": true
    },
    "tags": []
   },
   "outputs": [
    {
     "name": "stdout",
     "output_type": "stream",
     "text": [
      "gamma\n"
     ]
    },
    {
     "name": "stderr",
     "output_type": "stream",
     "text": [
      "Enrichment : 100%|██████████| 7481/7481 [00:04<00:00, 1579.69it/s]\n",
      "/data_gilbert/home/aarab/anaconda3/envs/mamba/envs/screenpro2/lib/python3.9/site-packages/statsmodels/stats/multitest.py:164: RuntimeWarning: divide by zero encountered in log1p\n",
      "  pvals_corrected = -np.expm1(ntests * np.log1p(-pvals))\n"
     ]
    },
    {
     "name": "stdout",
     "output_type": "stream",
     "text": [
      "PARPi\n"
     ]
    },
    {
     "name": "stderr",
     "output_type": "stream",
     "text": [
      "Enrichment : 100%|██████████| 7481/7481 [00:04<00:00, 1619.63it/s]\n",
      "/data_gilbert/home/aarab/anaconda3/envs/mamba/envs/screenpro2/lib/python3.9/site-packages/statsmodels/stats/multitest.py:164: RuntimeWarning: divide by zero encountered in log1p\n",
      "  pvals_corrected = -np.expm1(ntests * np.log1p(-pvals))\n"
     ]
    },
    {
     "name": "stdout",
     "output_type": "stream",
     "text": [
      "ATRi\n"
     ]
    },
    {
     "name": "stderr",
     "output_type": "stream",
     "text": [
      "Enrichment : 100%|██████████| 7481/7481 [00:04<00:00, 1631.03it/s]\n",
      "/data_gilbert/home/aarab/anaconda3/envs/mamba/envs/screenpro2/lib/python3.9/site-packages/statsmodels/stats/multitest.py:164: RuntimeWarning: divide by zero encountered in log1p\n",
      "  pvals_corrected = -np.expm1(ntests * np.log1p(-pvals))\n"
     ]
    },
    {
     "name": "stdout",
     "output_type": "stream",
     "text": [
      "WEE1i\n"
     ]
    },
    {
     "name": "stderr",
     "output_type": "stream",
     "text": [
      "Enrichment : 100%|██████████| 7481/7481 [00:04<00:00, 1756.76it/s]\n",
      "/data_gilbert/home/aarab/anaconda3/envs/mamba/envs/screenpro2/lib/python3.9/site-packages/statsmodels/stats/multitest.py:164: RuntimeWarning: divide by zero encountered in log1p\n",
      "  pvals_corrected = -np.expm1(ntests * np.log1p(-pvals))\n"
     ]
    },
    {
     "name": "stdout",
     "output_type": "stream",
     "text": [
      "PARPi+ATRi\n"
     ]
    },
    {
     "name": "stderr",
     "output_type": "stream",
     "text": [
      "Enrichment : 100%|██████████| 7481/7481 [00:04<00:00, 1605.70it/s]\n",
      "/data_gilbert/home/aarab/anaconda3/envs/mamba/envs/screenpro2/lib/python3.9/site-packages/statsmodels/stats/multitest.py:164: RuntimeWarning: divide by zero encountered in log1p\n",
      "  pvals_corrected = -np.expm1(ntests * np.log1p(-pvals))\n"
     ]
    },
    {
     "name": "stdout",
     "output_type": "stream",
     "text": [
      "PARPi+WEE1i\n"
     ]
    },
    {
     "name": "stderr",
     "output_type": "stream",
     "text": [
      "Enrichment : 100%|██████████| 7481/7481 [00:04<00:00, 1831.25it/s]\n",
      "/data_gilbert/home/aarab/anaconda3/envs/mamba/envs/screenpro2/lib/python3.9/site-packages/statsmodels/stats/multitest.py:164: RuntimeWarning: divide by zero encountered in log1p\n",
      "  pvals_corrected = -np.expm1(ntests * np.log1p(-pvals))\n"
     ]
    }
   ],
   "source": [
    "Ca_A549_adata.gsea_results = run_gesa_loop(Ca_A549_adata.rho_dict)"
   ]
  },
  {
   "cell_type": "markdown",
   "metadata": {
    "tags": []
   },
   "source": [
    "### save as excel files"
   ]
  },
  {
   "cell_type": "code",
   "execution_count": 18,
   "metadata": {
    "tags": []
   },
   "outputs": [],
   "source": [
    "mkdir -p results/gsea/"
   ]
  },
  {
   "cell_type": "code",
   "execution_count": 40,
   "metadata": {
    "tags": []
   },
   "outputs": [
    {
     "name": "stderr",
     "output_type": "stream",
     "text": [
      "/data_gilbert/home/aarab/anaconda3/envs/mamba/envs/screenpro2/lib/python3.9/site-packages/openpyxl/workbook/child.py:99: UserWarning: Title is more than 31 characters. Some applications may not be able to read the file\n",
      "  warnings.warn(\"Title is more than 31 characters. Some applications may not be able to read the file\")\n"
     ]
    }
   ],
   "source": [
    "save_gesa_results(Ci_prdx1kd_adata.gsea_results,'results/gsea/','CRISPRi_PRDX1-KD')"
   ]
  },
  {
   "cell_type": "code",
   "execution_count": 19,
   "metadata": {
    "tags": []
   },
   "outputs": [],
   "source": [
    "save_gesa_results(Ci_adata.gsea_results,'results/gsea/','CRISPRi')"
   ]
  },
  {
   "cell_type": "code",
   "execution_count": 20,
   "metadata": {
    "tags": []
   },
   "outputs": [],
   "source": [
    "save_gesa_results(Ca_A549_adata.gsea_results,'results/gsea/','CRISPRa_A549')"
   ]
  },
  {
   "cell_type": "code",
   "execution_count": 21,
   "metadata": {
    "tags": []
   },
   "outputs": [],
   "source": [
    "save_gesa_results(Ca_k562_adata.gsea_results,'results/gsea/','CRISPRa_K562')"
   ]
  },
  {
   "cell_type": "markdown",
   "metadata": {},
   "source": [
    "___"
   ]
  },
  {
   "cell_type": "code",
   "execution_count": 22,
   "metadata": {
    "tags": []
   },
   "outputs": [],
   "source": [
    "# pd.concat(dict([\n",
    "#     (k, results[k]['top'][results[k]['top'].leading_edge.str.contains('PRDX1')])\n",
    "#     for k in results.keys()\n",
    "# ])).to_excel('results/go_with_prdx1.xlsx')"
   ]
  },
  {
   "cell_type": "markdown",
   "metadata": {},
   "source": [
    "### GSEA plots"
   ]
  },
  {
   "cell_type": "code",
   "execution_count": 23,
   "metadata": {
    "tags": []
   },
   "outputs": [],
   "source": [
    "import seaborn as sns\n",
    "import matplotlib.pyplot as plt"
   ]
  },
  {
   "cell_type": "code",
   "execution_count": 24,
   "metadata": {
    "tags": []
   },
   "outputs": [],
   "source": [
    "from matplotlib.backends.backend_pdf import PdfPages\n",
    "\n",
    "def save_image(figs,filename):\n",
    "    \n",
    "    # PdfPages is a wrapper around pdf \n",
    "    # file so there is no clash and create\n",
    "    # files with no error.\n",
    "    p = PdfPages(filename)\n",
    "      \n",
    "    # iterating over the numbers in list\n",
    "    for fig in figs: \n",
    "        \n",
    "        # and saving the files\n",
    "        fig.savefig(p, format='pdf',bbox_inches='tight') \n",
    "      \n",
    "    # close the object\n",
    "    p.close()  "
   ]
  },
  {
   "cell_type": "markdown",
   "metadata": {},
   "source": [
    "#### sensitivity_genesets"
   ]
  },
  {
   "cell_type": "code",
   "execution_count": 25,
   "metadata": {
    "tags": []
   },
   "outputs": [],
   "source": [
    "# fig_list = []\n",
    "\n",
    "# for treat in results.keys():\n",
    "#     fig = blitz.plot.top_table(\n",
    "#         results[treat]['signature'],\n",
    "#         results[treat]['gmt'],\n",
    "#         results[treat]['top'].query('nes < -2')\n",
    "#     )\n",
    "\n",
    "#     fig.suptitle(treat,fontsize=20)\n",
    "    \n",
    "#     fig_list.append(fig)\n",
    "\n",
    "# save_image(fig_list,'go_gsea_top_sensitivity_genesets.pdf')"
   ]
  },
  {
   "cell_type": "markdown",
   "metadata": {},
   "source": [
    "#### resistance_genesets"
   ]
  },
  {
   "cell_type": "code",
   "execution_count": 26,
   "metadata": {
    "tags": []
   },
   "outputs": [],
   "source": [
    "# fig_list = []\n",
    "\n",
    "# for treat in results.keys():\n",
    "#     fig = blitz.plot.top_table(\n",
    "#         results[treat]['signature'],\n",
    "#         results[treat]['gmt'],\n",
    "#         results[treat]['top'].query('nes > 2')\n",
    "#     )\n",
    "\n",
    "#     fig.suptitle(treat,fontsize=20)\n",
    "    \n",
    "#     fig_list.append(fig)\n",
    "\n",
    "# save_image(fig_list,'go_gsea_top_resistance_genesets.pdf')"
   ]
  },
  {
   "cell_type": "markdown",
   "metadata": {},
   "source": [
    "# "
   ]
  },
  {
   "cell_type": "markdown",
   "metadata": {},
   "source": [
    "___"
   ]
  },
  {
   "cell_type": "code",
   "execution_count": 27,
   "metadata": {
    "tags": []
   },
   "outputs": [],
   "source": [
    "def get_rho_bin(rho_dict):\n",
    "    rho_df = pd.concat(dict([(treat,rho.score) for treat, rho in rho_dict.items() if treat != 'gamma']),axis=1)\n",
    "\n",
    "    rho_label = pd.concat(dict([(treat,rho.label) for treat, rho in rho_dict.items() if treat != 'gamma']),axis=1)\n",
    "\n",
    "    rho_bin = pd.DataFrame(0,index=rho_label.index,columns=rho_label.columns)\n",
    "\n",
    "    rho_bin = (rho_label.isin(['sensitivity_hit']) * -1) + (rho_label.isin(['resistance_hit']) * 1)\n",
    "    # rho_bin = rho_bin[~rho_bin.eq(0).sum(axis=1).eq(rho_bin.shape[1])]\n",
    "\n",
    "    return rho_bin #rho_label, "
   ]
  },
  {
   "cell_type": "code",
   "execution_count": 28,
   "metadata": {
    "tags": []
   },
   "outputs": [],
   "source": [
    "rho_bin = get_rho_bin(Ci_adata.rho_dict)"
   ]
  },
  {
   "cell_type": "code",
   "execution_count": 29,
   "metadata": {
    "tags": []
   },
   "outputs": [
    {
     "name": "stderr",
     "output_type": "stream",
     "text": [
      "/tmp/ipykernel_298669/1739242122.py:12: UserWarning: The figure layout has changed to tight\n",
      "  plt.tight_layout()\n"
     ]
    },
    {
     "data": {
      "image/png": "[encoded data removed]",
      "text/plain": [
       "<Figure size 1200x400 with 4 Axes>"
      ]
     },
     "metadata": {},
     "output_type": "display_data"
    }
   ],
   "source": [
    "g = sns.clustermap(\n",
    "    rho_bin.loc[list(set(c5_gobp_gmt['GOBP_CELL_REDOX_HOMEOSTASIS']) & set(rho_bin.index)),:].T,\n",
    "    cmap='RdBu_r',\n",
    "    vmin=-2,\n",
    "    vmax=2,\n",
    "    figsize=(12,4),\n",
    ")\n",
    "\n",
    "g.fig.suptitle('GOBP CELL REDOX HOMEOSTASIS',size=16) \n",
    "g.cax.set_visible(False)\n",
    "\n",
    "plt.tight_layout()\n",
    "g.savefig('GOBP_CELL_REDOX_HOMEOSTASIS.pdf')\n",
    "plt.show()"
   ]
  },
  {
   "cell_type": "markdown",
   "metadata": {},
   "source": [
    "# "
   ]
  },
  {
   "cell_type": "code",
   "execution_count": 30,
   "metadata": {
    "tags": []
   },
   "outputs": [
    {
     "name": "stdout",
     "output_type": "stream",
     "text": [
      "Last updated: 2023-08-15T12:14:38.292502-07:00\n",
      "\n",
      "Python implementation: CPython\n",
      "Python version       : 3.9.16\n",
      "IPython version      : 8.14.0\n",
      "\n",
      "Compiler    : GCC 11.3.0\n",
      "OS          : Linux\n",
      "Release     : 3.10.0-957.27.2.el7.x86_64\n",
      "Machine     : x86_64\n",
      "Processor   : x86_64\n",
      "CPU cores   : 64\n",
      "Architecture: 64bit\n",
      "\n",
      "________________________________________________________________________________\n",
      "numpy     : 1.24.4\n",
      "screenpro : 0.2.1\n",
      "seaborn   : 0.12.2\n",
      "anndata   : 0.9.1\n",
      "pandas    : 2.0.3\n",
      "scanpy    : 1.9.3\n",
      "matplotlib: 3.7.2\n",
      "blitzgsea : 1.3.34\n",
      "\n"
     ]
    }
   ],
   "source": [
    "from watermark import watermark\n",
    "print(\n",
    "    watermark()\n",
    ")\n",
    "print('_'*80)\n",
    "print(\n",
    "    watermark(iversions=True, globals_=globals())\n",
    ")"
   ]
  }
 ],
 "metadata": {
  "kernelspec": {
   "display_name": "Python [conda env:screenpro2]",
   "language": "python",
   "name": "conda-env-screenpro2-py"
  },
  "language_info": {
   "codemirror_mode": {
    "name": "ipython",
    "version": 3
   },
   "file_extension": ".py",
   "mimetype": "text/x-python",
   "name": "python",
   "nbconvert_exporter": "python",
   "pygments_lexer": "ipython3",
   "version": "3.9.16"
  }
 },
 "nbformat": 4,
 "nbformat_minor": 4
}
