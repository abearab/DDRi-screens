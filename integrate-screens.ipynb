{
 "cells": [
  {
   "cell_type": "markdown",
   "metadata": {},
   "source": [
    "# Drug Nomenclature\n",
    "\n",
    "    T0: First timepoint \n",
    "    (Time Zero, after selection of cells with sgRNA library, and starting point of drug dosing)\n",
    "    DMSO: DMSO treated \n",
    "    Pi: PARP inhibitor (olaparib; AZD2281)\n",
    "    Ri: ATR inhibitor (AZD6738)\n",
    "    Wi: WEE1 inhibitor (AZD1775)\n",
    "    Mi: ATM inhibitor (AZD0156)\n",
    "    Ki: DNAPK inhibitor (AZD7648)\n",
    "\n",
    "\n",
    "    PiRi: PARP inhibitor + ATR inhibitor\n",
    "    PiWi: PARP inhibitor + WEE1 inhibitor\n",
    "    PiMi: PARP inhibitor + ATM inhibitor\n",
    "    PiKi: PARP inhibitor + DNAPK inhibitor"
   ]
  },
  {
   "cell_type": "markdown",
   "metadata": {},
   "source": [
    "# Load data"
   ]
  },
  {
   "cell_type": "code",
   "execution_count": 1,
   "metadata": {},
   "outputs": [],
   "source": [
    "import sys\n",
    "import pandas as pd\n",
    "sys.path.append(\"/rumi/shams/abe/Projects/ScreenProcessing/\")\n",
    "\n",
    "import screen_analysis as scpro\n",
    "# from utils import *"
   ]
  },
  {
   "cell_type": "code",
   "execution_count": 2,
   "metadata": {},
   "outputs": [],
   "source": [
    "# help(scpro)"
   ]
  },
  {
   "cell_type": "code",
   "execution_count": 3,
   "metadata": {},
   "outputs": [],
   "source": [
    "def get_score(screen,score,rename=None,pseudo=False):\n",
    "    out = screen['gene scores'].xs(score, level=0, axis=1).xs('ave_rep1_rep2', level=0, axis=1)\n",
    "    del out['transcripts']\n",
    "    \n",
    "    if rename:\n",
    "        score = rename\n",
    "    \n",
    "    out = out.loc[:,['average phenotype of strongest 3','Mann-Whitney p-value']].rename({\n",
    "        'average phenotype of strongest 3': score + '.rho', \n",
    "        'Mann-Whitney p-value': score+'.pvalue'\n",
    "    }, axis='columns')\n",
    "    \n",
    "    if not pseudo: \n",
    "        out = out.loc[['pseudo' not in g for g in out.index],:]\n",
    "    \n",
    "    return out"
   ]
  },
  {
   "cell_type": "code",
   "execution_count": 4,
   "metadata": {},
   "outputs": [],
   "source": [
    "Ci = scpro.loadData('CRISPRi/Analysis/PiKiMiRiWi/PiKiMiRiWi_2reps')\n",
    "\n",
    "Ca = scpro.loadData('CRISPRa/Analysis/k562/k562a_PiRi')"
   ]
  },
  {
   "cell_type": "markdown",
   "metadata": {},
   "source": [
    "## CRISPRi Analysis\n",
    "    gamma:T0:DMSO\n",
    "    rho1:DMSO:Pi\n",
    "    rho2:DMSO:Ki\n",
    "    rho3:DMSO:Mi\n",
    "    rho4:DMSO:Ri\n",
    "    rho5:DMSO:Wi\n",
    "    rho6:DMSO:PiKi\n",
    "    rho7:DMSO:PiMi\n",
    "    rho8:DMSO:PiRi\n",
    "    rho9:DMSO:PiWi\n",
    "\n"
   ]
  },
  {
   "cell_type": "code",
   "execution_count": 5,
   "metadata": {},
   "outputs": [],
   "source": [
    "# Pi = get_score(Ci,'rho1','Pi')\n",
    "# Ki = get_score(Ci,'rho2','Ki')\n",
    "# Mi = get_score(Ci,'rho3','Mi')\n",
    "# Ri = get_score(Ci,'rho4','Ri')\n",
    "# Wi = get_score(Ci,'rho5','Wi')\n",
    "# PiKi = get_score(Ci,'rho6','PiKi')\n",
    "# PiMi = get_score(Ci,'rho7','PiMi')\n",
    "# PiRi = get_score(Ci,'rho8','PiRi')\n",
    "# PiWi = get_score(Ci,'rho9','PiWi')"
   ]
  },
  {
   "cell_type": "code",
   "execution_count": 6,
   "metadata": {},
   "outputs": [],
   "source": [
    "Ci_df = pd.concat([\n",
    "    get_score(Ci,'rho1','Pi'),\n",
    "    get_score(Ci,'rho2','Ki'),\n",
    "    get_score(Ci,'rho3','Mi'),\n",
    "    get_score(Ci,'rho4','Ri'),\n",
    "    get_score(Ci,'rho5','Wi'),\n",
    "    get_score(Ci,'rho6','PiKi'),\n",
    "    get_score(Ci,'rho7','PiMi'),\n",
    "    get_score(Ci,'rho8','PiRi'),\n",
    "    get_score(Ci,'rho9','PiWi')\n",
    "],axis=1)"
   ]
  },
  {
   "cell_type": "code",
   "execution_count": 12,
   "metadata": {},
   "outputs": [
    {
     "data": {
      "image/png": "[encoded data removed]",
      "text/plain": [
       "<Figure size 432x288 with 2 Axes>"
      ]
     },
     "metadata": {
      "needs_background": "light"
     },
     "output_type": "display_data"
    }
   ],
   "source": [
    "import matplotlib.pyplot as plt\n",
    "import seaborn as sns\n",
    "from scipy import stats\n",
    "\n",
    "df = stats.zscore(\n",
    "    Ci_df.filter(regex='rho$', axis=1),axis=1,ddof=1\n",
    ")\n",
    "\n",
    "sns.heatmap(\n",
    "    df.loc[['PRDX1','PARP1','BCL2',],:], \n",
    "#     annot=True,\n",
    "    vmin=-1, vmax=1,\n",
    "    cmap=\"PiYG\"\n",
    ")\n",
    "\n",
    "plt.show()"
   ]
  },
  {
   "cell_type": "code",
   "execution_count": 13,
   "metadata": {},
   "outputs": [
    {
     "data": {
      "text/plain": [
       "<function seaborn.matrix.heatmap(data, *, vmin=None, vmax=None, cmap=None, center=None, robust=False, annot=None, fmt='.2g', annot_kws=None, linewidths=0, linecolor='white', cbar=True, cbar_kws=None, cbar_ax=None, square=False, xticklabels='auto', yticklabels='auto', mask=None, ax=None, **kwargs)>"
      ]
     },
     "execution_count": 13,
     "metadata": {},
     "output_type": "execute_result"
    }
   ],
   "source": [
    "sns.heatmap"
   ]
  },
  {
   "cell_type": "markdown",
   "metadata": {},
   "source": [
    "# Pathway analysis"
   ]
  },
  {
   "cell_type": "code",
   "execution_count": 14,
   "metadata": {},
   "outputs": [],
   "source": [
    "from iPAGE2 import ipage2"
   ]
  },
  {
   "cell_type": "code",
   "execution_count": null,
   "metadata": {},
   "outputs": [],
   "source": []
  }
 ],
 "metadata": {
  "kernelspec": {
   "display_name": "Python [conda env:down]",
   "language": "python",
   "name": "conda-env-down-py"
  },
  "language_info": {
   "codemirror_mode": {
    "name": "ipython",
    "version": 3
   },
   "file_extension": ".py",
   "mimetype": "text/x-python",
   "name": "python",
   "nbconvert_exporter": "python",
   "pygments_lexer": "ipython3",
   "version": "3.8.11"
  }
 },
 "nbformat": 4,
 "nbformat_minor": 1
}
