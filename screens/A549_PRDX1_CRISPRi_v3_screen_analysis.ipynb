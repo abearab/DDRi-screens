{
 "cells": [
  {
   "cell_type": "code",
   "execution_count": 1,
   "id": "59a321de",
   "metadata": {},
   "outputs": [],
   "source": [
    "# !pip uninstall -y screenpro2\n",
    "# # !pip install git+https://github.com/ArcInstitute/screenpro2.git@dev\n",
    "# !pip install ScreenPro2"
   ]
  },
  {
   "cell_type": "code",
   "execution_count": 2,
   "id": "6f9fd3fb",
   "metadata": {},
   "outputs": [],
   "source": [
    "from glob import glob\n",
    "\n",
    "import numpy as np\n",
    "import pandas as pd \n",
    "import anndata as ad\n",
    "import scanpy as sc\n",
    "\n",
    "import screenpro as scp\n",
    "\n",
    "import matplotlib.pyplot as plt\n",
    "\n",
    "sc.settings.set_figure_params(\n",
    "    dpi=150, format='svg', \n",
    "    frameon=False, \n",
    "    figsize=(3, 3), \n",
    "    color_map='RdGy', \n",
    "    facecolor='white', \n",
    "    vector_friendly=True\n",
    ")"
   ]
  },
  {
   "cell_type": "code",
   "execution_count": 3,
   "id": "5131020b",
   "metadata": {},
   "outputs": [],
   "source": [
    "import datetime\n",
    "\n",
    "import matplotlib\n",
    "import matplotlib.ticker as ticker\n",
    "\n",
    "from matplotlib.backends.backend_pdf import PdfPages\n",
    "from matplotlib import font_manager as fm\n",
    "from matplotlib import rcParams, rc_context\n",
    "\n",
    "from screenpro.plotting._utils import almost_black, dark2\n",
    "\n",
    "\n",
    "matplotlib.use('cairo')\n",
    "\n",
    "font_files = fm.findSystemFonts(fontpaths='/home/abea/miniconda3/envs/screenpro2/fonts/', fontext='ttf')\n",
    "\n",
    "for font_file in font_files:\n",
    "    fm.fontManager.addfont(font_file)\n",
    "\n",
    "\n",
    "# {f.name for f in matplotlib.font_manager.fontManager.ttflist}\n",
    "\n",
    "rcParams['font.sans-serif'] = 'Helvetica'\n",
    "rcParams['font.family'] = ['Helvetica']\n",
    "rcParams['figure.dpi'] = 140\n",
    "\n",
    "rcParams['pdf.fonttype'] = 42\n",
    "rcParams['ps.fonttype'] = 42"
   ]
  },
  {
   "cell_type": "code",
   "execution_count": 4,
   "id": "0928a483-4433-4888-ac5b-52fb43291e8d",
   "metadata": {
    "tags": []
   },
   "outputs": [],
   "source": [
    "# help(scp.phenoScore.getPhenotypeScore)\n",
    "\n",
    "# help(scp.pl.plotReplicateScatter)"
   ]
  },
  {
   "cell_type": "markdown",
   "id": "af4bb4a1-f985-49bf-90bc-b236c3676ae2",
   "metadata": {
    "tags": []
   },
   "source": [
    "## Step 1: FASTQ processing\n"
   ]
  },
  {
   "cell_type": "code",
   "execution_count": 18,
   "id": "96d8662b",
   "metadata": {},
   "outputs": [],
   "source": [
    "meta = pd.read_csv('A549_PRDX1_CRISPRi_v3_samplesheet.txt', index_col=0)"
   ]
  },
  {
   "cell_type": "code",
   "execution_count": 19,
   "id": "132280a0-e662-4838-a82f-b0e2d698af5d",
   "metadata": {},
   "outputs": [],
   "source": [
    "library_table = pd.read_csv(\n",
    "    'CRISPRi_v3_human_librarytable.txt.gz',\n",
    "    sep = '\\t', index_col=False, low_memory=False\n",
    ")"
   ]
  },
  {
   "cell_type": "markdown",
   "id": "b4cfc3f7-017e-4f91-bccc-362dc3352fa4",
   "metadata": {
    "jp-MarkdownHeadingCollapsed": true
   },
   "source": [
    "### run `guideCounter`"
   ]
  },
  {
   "cell_type": "code",
   "execution_count": 20,
   "id": "4b872b5e",
   "metadata": {},
   "outputs": [],
   "source": [
    "counter = scp.GuideCounter(cas_type = 'cas9', library_type = 'dual_guide_design')"
   ]
  },
  {
   "cell_type": "code",
   "execution_count": 21,
   "id": "5937585c",
   "metadata": {},
   "outputs": [
    {
     "name": "stdout",
     "output_type": "stream",
     "text": [
      "Trimming protospacer sequences in 'protospacer_A' column.\n",
      "Trimming protospacer sequences in 'protospacer_B' column.\n",
      "Library table successfully loaded.\n",
      "Warning: 424 duplicate sgRNA sequences found and removed.\n",
      "total # of cas9 sgRNAs: 125721\n"
     ]
    }
   ],
   "source": [
    "counter.load_library(\n",
    "    'CRISPRi_v3_human_librarytable.txt.gz', sep = '\\t', index_col=False,\n",
    "    # 'JR_V3lib_top2_v2.csv', sep = ',', \n",
    "    verbose = True,\n",
    "    low_memory=False\n",
    ")"
   ]
  },
  {
   "cell_type": "code",
   "execution_count": 22,
   "id": "b87c4640",
   "metadata": {},
   "outputs": [],
   "source": [
    "# samples = [\n",
    "#     s.split('/')[-1].replace('_R1.fastq.gz','')\n",
    "#     for s in glob('fastq/*__CRISPRi_v3__*R1.fastq.gz')\n",
    "# ]\n",
    "# samples.sort()\n",
    "\n",
    "samples = meta.index.to_list()"
   ]
  },
  {
   "cell_type": "code",
   "execution_count": 23,
   "id": "e3ebfb7b",
   "metadata": {},
   "outputs": [
    {
     "data": {
      "text/plain": [
       "['A549_parent__CRISPRi_v3__T0__rep1',\n",
       " 'A549_parent__CRISPRi_v3__T0__rep2',\n",
       " 'A549_parent__CRISPRi_v3__vehicle__rep1',\n",
       " 'A549_parent__CRISPRi_v3__vehicle__rep2',\n",
       " 'A549_parent__CRISPRi_v3__vehicle__rep3',\n",
       " 'A549_parent__CRISPRi_v3__DNAPKi__rep1',\n",
       " 'A549_parent__CRISPRi_v3__DNAPKi__rep2',\n",
       " 'A549_parent__CRISPRi_v3__DNAPKi__rep3',\n",
       " 'A549_PRDX1KO__CRISPRi_v3__T0__rep1',\n",
       " 'A549_PRDX1KO__CRISPRi_v3__T0__rep2',\n",
       " 'A549_PRDX1KO__CRISPRi_v3__vehicle__rep1',\n",
       " 'A549_PRDX1KO__CRISPRi_v3__vehicle__rep2',\n",
       " 'A549_PRDX1KO__CRISPRi_v3__vehicle__rep3',\n",
       " 'A549_PRDX1KO__CRISPRi_v3__DNAPKi__rep1',\n",
       " 'A549_PRDX1KO__CRISPRi_v3__DNAPKi__rep2',\n",
       " 'A549_PRDX1KO__CRISPRi_v3__DNAPKi__rep3']"
      ]
     },
     "execution_count": 23,
     "metadata": {},
     "output_type": "execute_result"
    }
   ],
   "source": [
    "samples"
   ]
  },
  {
   "cell_type": "code",
   "execution_count": 24,
   "id": "3e3cc25f",
   "metadata": {},
   "outputs": [
    {
     "name": "stdout",
     "output_type": "stream",
     "text": [
      "\u001b[1;32mA549_parent__CRISPRi_v3__T0__rep1\u001b[0m\n",
      "count file exists ...\n",
      "% mapped reads 66.34202614968581\n",
      "% unmapped reads 33.657973850314185\n",
      "% fully remapped recombination events 26.47737763246664\n",
      "\u001b[1;32mA549_parent__CRISPRi_v3__T0__rep2\u001b[0m\n",
      "count file exists ...\n",
      "% mapped reads 66.32218193273496\n",
      "% unmapped reads 33.67781806726504\n",
      "% fully remapped recombination events 26.50011577061559\n",
      "\u001b[1;32mA549_parent__CRISPRi_v3__vehicle__rep1\u001b[0m\n",
      "count file exists ...\n",
      "% mapped reads 67.20907556484951\n",
      "% unmapped reads 32.79092443515049\n",
      "% fully remapped recombination events 25.272198653710067\n",
      "\u001b[1;32mA549_parent__CRISPRi_v3__vehicle__rep2\u001b[0m\n",
      "count file exists ...\n",
      "% mapped reads 66.92354310294688\n",
      "% unmapped reads 33.07645689705313\n",
      "% fully remapped recombination events 25.37066787477768\n",
      "\u001b[1;32mA549_parent__CRISPRi_v3__vehicle__rep3\u001b[0m\n",
      "count file exists ...\n",
      "% mapped reads 67.21893941522036\n",
      "% unmapped reads 32.78106058477964\n",
      "% fully remapped recombination events 25.303932753452987\n",
      "\u001b[1;32mA549_parent__CRISPRi_v3__DNAPKi__rep1\u001b[0m\n",
      "count file exists ...\n",
      "% mapped reads 67.36169475481583\n",
      "% unmapped reads 32.63830524518417\n",
      "% fully remapped recombination events 25.404132466515918\n",
      "\u001b[1;32mA549_parent__CRISPRi_v3__DNAPKi__rep2\u001b[0m\n",
      "count file exists ...\n",
      "% mapped reads 67.54544997534211\n",
      "% unmapped reads 32.45455002465789\n",
      "% fully remapped recombination events 25.4450059510138\n",
      "\u001b[1;32mA549_parent__CRISPRi_v3__DNAPKi__rep3\u001b[0m\n",
      "count file exists ...\n",
      "% mapped reads 67.35416920472183\n",
      "% unmapped reads 32.645830795278165\n",
      "% fully remapped recombination events 25.23761879586645\n",
      "\u001b[1;32mA549_PRDX1KO__CRISPRi_v3__T0__rep1\u001b[0m\n",
      "count file exists ...\n",
      "% mapped reads 67.78760745448147\n",
      "% unmapped reads 32.21239254551853\n",
      "% fully remapped recombination events 24.981707029544285\n",
      "\u001b[1;32mA549_PRDX1KO__CRISPRi_v3__T0__rep2\u001b[0m\n",
      "count file exists ...\n",
      "% mapped reads 67.89226152726856\n",
      "% unmapped reads 32.107738472731434\n",
      "% fully remapped recombination events 25.060428018234077\n",
      "\u001b[1;32mA549_PRDX1KO__CRISPRi_v3__vehicle__rep1\u001b[0m\n",
      "count file exists ...\n",
      "% mapped reads 68.14747201837342\n",
      "% unmapped reads 31.85252798162658\n",
      "% fully remapped recombination events 24.23510632660944\n",
      "\u001b[1;32mA549_PRDX1KO__CRISPRi_v3__vehicle__rep2\u001b[0m\n",
      "count file exists ...\n",
      "% mapped reads 68.28765742545178\n",
      "% unmapped reads 31.71234257454822\n",
      "% fully remapped recombination events 24.298765240181524\n",
      "\u001b[1;32mA549_PRDX1KO__CRISPRi_v3__vehicle__rep3\u001b[0m\n",
      "count file exists ...\n",
      "% mapped reads 68.06320843950748\n",
      "% unmapped reads 31.936791560492516\n",
      "% fully remapped recombination events 24.04332676496184\n",
      "\u001b[1;32mA549_PRDX1KO__CRISPRi_v3__DNAPKi__rep1\u001b[0m\n",
      "count file exists ...\n",
      "% mapped reads 68.01062501040703\n",
      "% unmapped reads 31.98937498959297\n",
      "% fully remapped recombination events 24.582452130553982\n",
      "\u001b[1;32mA549_PRDX1KO__CRISPRi_v3__DNAPKi__rep2\u001b[0m\n",
      "count file exists ...\n",
      "% mapped reads 67.92516982305338\n",
      "% unmapped reads 32.07483017694663\n",
      "% fully remapped recombination events 24.63179030289471\n",
      "\u001b[1;32mA549_PRDX1KO__CRISPRi_v3__DNAPKi__rep3\u001b[0m\n",
      "count file exists ...\n",
      "% mapped reads 67.93922164296818\n",
      "% unmapped reads 32.060778357031815\n",
      "% fully remapped recombination events 24.6410374592359\n"
     ]
    }
   ],
   "source": [
    "counter.get_counts_matrix(\n",
    "    fastq_dir = 'fastq',\n",
    "    samples = samples,\n",
    "    get_recombinant=True,\n",
    "    # write='force',\n",
    "    verbose = True\n",
    ")"
   ]
  },
  {
   "cell_type": "code",
   "execution_count": 25,
   "id": "7e7fc566",
   "metadata": {},
   "outputs": [
    {
     "data": {
      "text/plain": [
       "A549_parent__CRISPRi_v3__T0__rep1          24.148331\n",
       "A549_parent__CRISPRi_v3__T0__rep2          28.847160\n",
       "A549_parent__CRISPRi_v3__vehicle__rep1     45.664373\n",
       "A549_parent__CRISPRi_v3__vehicle__rep2     41.157890\n",
       "A549_parent__CRISPRi_v3__vehicle__rep3     44.508120\n",
       "A549_parent__CRISPRi_v3__DNAPKi__rep1      36.048196\n",
       "A549_parent__CRISPRi_v3__DNAPKi__rep2      40.013010\n",
       "A549_parent__CRISPRi_v3__DNAPKi__rep3      31.109935\n",
       "A549_PRDX1KO__CRISPRi_v3__T0__rep1         28.506749\n",
       "A549_PRDX1KO__CRISPRi_v3__T0__rep2         26.428348\n",
       "A549_PRDX1KO__CRISPRi_v3__vehicle__rep1    38.351913\n",
       "A549_PRDX1KO__CRISPRi_v3__vehicle__rep2    39.298149\n",
       "A549_PRDX1KO__CRISPRi_v3__vehicle__rep3    85.610964\n",
       "A549_PRDX1KO__CRISPRi_v3__DNAPKi__rep1     30.551431\n",
       "A549_PRDX1KO__CRISPRi_v3__DNAPKi__rep2     31.217038\n",
       "A549_PRDX1KO__CRISPRi_v3__DNAPKi__rep3     35.184928\n",
       "dtype: float64"
      ]
     },
     "execution_count": 25,
     "metadata": {},
     "output_type": "execute_result"
    }
   ],
   "source": [
    "counter.counts_mat.sum() / 10**6"
   ]
  },
  {
   "cell_type": "code",
   "execution_count": 44,
   "id": "2ea24200-32e7-418a-b7e3-413e55d4aa3a",
   "metadata": {},
   "outputs": [],
   "source": [
    "adata = counter.build_counts_anndata()"
   ]
  },
  {
   "cell_type": "code",
   "execution_count": 45,
   "id": "60e810f3",
   "metadata": {},
   "outputs": [],
   "source": [
    "adata.obs = pd.DataFrame(\n",
    "    adata.obs.index.str.split('__').to_list(),\n",
    "    columns=['cell_line','library','condition','replicate'],\n",
    "    index=adata.obs.index\n",
    ").drop(columns=['library'])\n",
    "\n",
    "adata.obs['pop_doubling'] = meta.loc[adata.obs.index,'pop_doubling'].replace('-',0).astype(float)\n",
    "\n",
    "adata.obs.cell_line = adata.obs.cell_line.str.replace('A549_','')\n",
    "adata.obs.replicate = adata.obs.replicate.str.replace('rep','').astype(int)\n",
    "\n",
    "adata.var['transcript'] = library_table.set_index('sgID_AB').loc[adata.var.index,'transcripts']"
   ]
  },
  {
   "cell_type": "code",
   "execution_count": 46,
   "id": "5e1b7881-7648-4ef6-a363-51bf033dbe1b",
   "metadata": {},
   "outputs": [],
   "source": [
    "adata.write_h5ad('A549_PRDX1_CRISPRi_v3.h5ad.gz', compression='gzip')"
   ]
  },
  {
   "cell_type": "markdown",
   "id": "9527891a-120c-4286-8842-e676a695c00c",
   "metadata": {
    "tags": []
   },
   "source": [
    "### load counts and metadata"
   ]
  },
  {
   "cell_type": "code",
   "execution_count": 47,
   "id": "5b4a4c3f-3b2a-4c8b-94e5-f8125341c4f3",
   "metadata": {},
   "outputs": [],
   "source": [
    "adata = ad.read_h5ad('A549_PRDX1_CRISPRi_v3.h5ad.gz')"
   ]
  },
  {
   "cell_type": "markdown",
   "id": "a56a620e",
   "metadata": {},
   "source": [
    "___\n",
    "<!-- - filter low counts -->"
   ]
  },
  {
   "cell_type": "code",
   "execution_count": 48,
   "id": "c932a52f",
   "metadata": {},
   "outputs": [],
   "source": [
    "adata0 = adata.copy()"
   ]
  },
  {
   "cell_type": "markdown",
   "id": "b2c5fd13",
   "metadata": {},
   "source": [
    "___"
   ]
  },
  {
   "cell_type": "code",
   "execution_count": 50,
   "id": "523b43eb-729a-4eec-b1f5-ee365a985c41",
   "metadata": {
    "tags": []
   },
   "outputs": [],
   "source": [
    "fig1, axes = plt.subplots(ncols=5,\n",
    "                         figsize=(10,3), \n",
    "                         gridspec_kw={'wspace': 0.3, 'left': 0.12,'top':.8,'bottom':.3}, \n",
    "                         # sharey=True\n",
    "                        )\n",
    "\n",
    "for i,(cond,reps) in enumerate(\n",
    "    zip(['T0','vehicle','vehicle','DNAPKi','DNAPKi'], \n",
    "        [['rep1','rep2'],['rep1','rep2'],['rep1','rep3'],['rep1','rep2'],['rep1','rep3']])\n",
    "    ):\n",
    "    scp.pl.plotReplicateScatter(\n",
    "        axes[i], adata, \n",
    "        f'A549_parent__CRISPRi_v3__{cond}__{reps[0]}',\n",
    "        f'A549_parent__CRISPRi_v3__{cond}__{reps[1]}',\n",
    "        title=cond,\n",
    "    min_val=0,max_val=6, log_transform=True)\n",
    "\n",
    "for ax in axes: \n",
    "    ax.tick_params(width=0.5)\n",
    "    for i in ax.spines.values(): i.set_linewidth(0.5)\n",
    "    # ax.spines['top'].set_visible(False)\n",
    "    # ax.spines['right'].set_visible(False)\n",
    "    # ax.spines['bottom'].set_visible(False)\n",
    "    # ax.spines['left'].set_visible(False)\n",
    "    for item in ([ax.title, ax.xaxis.label, ax.yaxis.label]):\n",
    "        item.set_fontsize(8)\n",
    "    for item in ax.get_xticklabels() + ax.get_yticklabels():\n",
    "        item.set_fontsize(6)\n",
    "\n",
    "fig1.suptitle('PRDX1 parent screen',fontsize=12)\n",
    "\n",
    "plt.show()"
   ]
  },
  {
   "cell_type": "code",
   "execution_count": 52,
   "id": "cbda5ffd-dd73-4e58-82b9-6150bc033171",
   "metadata": {
    "tags": []
   },
   "outputs": [],
   "source": [
    "fig2, axes = plt.subplots(ncols=5,\n",
    "                         figsize=(10,3), \n",
    "                         gridspec_kw={'wspace': 0.3, 'left': 0.12,'top':.8,'bottom':.3}, \n",
    "                         # sharey=True\n",
    "                        )\n",
    "for i,(cond,reps) in enumerate(\n",
    "    zip(['T0','vehicle','vehicle','DNAPKi','DNAPKi'], \n",
    "        [['rep1','rep2'],['rep1','rep2'],['rep1','rep3'],['rep1','rep2'],['rep1','rep3']])\n",
    "    ):\n",
    "    scp.pl.plotReplicateScatter(\n",
    "        axes[i], adata, \n",
    "        f'A549_PRDX1KO__CRISPRi_v3__{cond}__{reps[0]}',\n",
    "        f'A549_PRDX1KO__CRISPRi_v3__{cond}__{reps[1]}',\n",
    "        title=cond,\n",
    "    min_val=0,max_val=6, log_transform=True)\n",
    "\n",
    "\n",
    "for ax in axes: \n",
    "    ax.tick_params(width=0.5)\n",
    "    for i in ax.spines.values(): i.set_linewidth(0.5)\n",
    "    # ax.spines['top'].set_visible(False)\n",
    "    # ax.spines['right'].set_visible(False)\n",
    "    # ax.spines['bottom'].set_visible(False)\n",
    "    # ax.spines['left'].set_visible(False)\n",
    "    for item in ([ax.title, ax.xaxis.label, ax.yaxis.label]):\n",
    "        item.set_fontsize(8)\n",
    "    for item in ax.get_xticklabels() + ax.get_yticklabels():\n",
    "        item.set_fontsize(6)\n",
    "\n",
    "fig2.suptitle('PRDX1 KO screen',fontsize=12)\n",
    "\n",
    "plt.show()"
   ]
  },
  {
   "cell_type": "markdown",
   "id": "aecd919a",
   "metadata": {},
   "source": [
    "# Step 2: Phenotype calculation\n",
    "\n",
    "- [x] 'PRDX1_parent gamma vehicle_vs_T0'\n",
    "- [x] 'PRDX1_parent rho DNAPKi_vs_vehicle',\n",
    "- [x] 'PRDX1_parent tau DNAPKi_vs_T0',\n",
    "\n",
    "- [x] 'PRDX1_KO gamma vehicle_vs_T0',\n",
    "- [x] 'PRDX1_KO rho DNAPKi_vs_vehicle',\n",
    "- [x] 'PRDX1_KO tau DNAPKi_vs_T0',\n",
    "\n",
    "- [x] 'vehicle_PRDX1KO_vs_vehicle_parent'"
   ]
  },
  {
   "cell_type": "markdown",
   "id": "33442b18",
   "metadata": {},
   "source": [
    "### load counts and metadata"
   ]
  },
  {
   "cell_type": "code",
   "execution_count": 53,
   "id": "d5018ab7",
   "metadata": {},
   "outputs": [],
   "source": [
    "adata = ad.read_h5ad('A549_PRDX1_CRISPRi_v3.h5ad.gz')"
   ]
  },
  {
   "cell_type": "markdown",
   "id": "a6643f16",
   "metadata": {},
   "source": [
    "___\n",
    "<!-- - filter low counts -->"
   ]
  },
  {
   "cell_type": "code",
   "execution_count": 54,
   "id": "e5af239c",
   "metadata": {},
   "outputs": [],
   "source": [
    "adata0 = adata.copy()"
   ]
  },
  {
   "cell_type": "markdown",
   "id": "97aeb453",
   "metadata": {},
   "source": [
    "#### Add 3rd pseudoreplicate for T0"
   ]
  },
  {
   "cell_type": "code",
   "execution_count": 55,
   "id": "c9394a61",
   "metadata": {},
   "outputs": [],
   "source": [
    "# add a 3rd replicate to the parent data as average of the two existing replicates\n",
    "def add_pseudoreplicate(adata,index_rep1,index_rep2, name_new_replicate=3):\n",
    "    adata = adata.copy()\n",
    "    # name index ad pseudoreplicate\n",
    "    index_pseudorep = f'{index_rep1}_{index_rep2}'\n",
    "    \n",
    "    if index_pseudorep in adata.obs.index:\n",
    "        raise ValueError(f'Pseudoreplicate {index_pseudorep} already exists in the AnnData object.')\n",
    "\n",
    "    # create a new AnnData object\n",
    "    adata_pseudorep = ad.AnnData(pd.Series(\n",
    "        adata[adata.obs.index.isin([index_rep1,index_rep2])].X.mean(axis=0),\n",
    "        index=adata.var.index,\n",
    "        name=index_pseudorep\n",
    "    ).astype(int).to_frame().T)\n",
    "    # update the metadata\n",
    "    adata_pseudorep.obs['replicate'] = name_new_replicate\n",
    "    for key in adata.obs.columns:\n",
    "        if key not in adata_pseudorep.obs.columns:\n",
    "            adata_pseudorep.obs[key] = adata.obs[key].loc[index_rep1]\n",
    "\n",
    "    # add the pseudoreplicate to the original AnnData object\n",
    "    out = ad.concat([adata, adata_pseudorep])\n",
    "    out.var = adata.var.copy()\n",
    "\n",
    "    return out"
   ]
  },
  {
   "cell_type": "code",
   "execution_count": 56,
   "id": "344cf9b2-ad41-415e-b65b-f1dac1667ff0",
   "metadata": {},
   "outputs": [],
   "source": [
    "adata = add_pseudoreplicate(adata,'A549_parent__CRISPRi_v3__T0__rep1','A549_parent__CRISPRi_v3__T0__rep2')"
   ]
  },
  {
   "cell_type": "code",
   "execution_count": 57,
   "id": "9c7fa0fb-121b-453f-ba80-8fd26b4290a5",
   "metadata": {},
   "outputs": [],
   "source": [
    "adata = add_pseudoreplicate(adata,'A549_PRDX1KO__CRISPRi_v3__T0__rep1','A549_PRDX1KO__CRISPRi_v3__T0__rep2')"
   ]
  },
  {
   "cell_type": "markdown",
   "id": "772a4433",
   "metadata": {},
   "source": [
    "___"
   ]
  },
  {
   "cell_type": "code",
   "execution_count": 59,
   "id": "d5b6f57f-12b2-4297-ac44-edfa931ed8bf",
   "metadata": {
    "tags": []
   },
   "outputs": [],
   "source": [
    "adata_PRDX1KO = adata[adata.obs['cell_line'].eq('PRDX1KO')].copy()\n",
    "adata_parent  = adata[adata.obs['cell_line'].eq('parent')].copy()"
   ]
  },
  {
   "cell_type": "code",
   "execution_count": 60,
   "id": "3d6f21d7-5cc0-4462-8964-3271641371a5",
   "metadata": {},
   "outputs": [],
   "source": [
    "adata_vehicle = adata[adata.obs['condition'].isin(['T0','vehicle'])].copy()\n",
    "adata_vehicle = adata_vehicle[~(adata_vehicle.obs['cell_line'].eq('PRDX1KO')&adata_vehicle.obs['condition'].eq('T0'))].copy()\n",
    "adata_vehicle.obs['condition_original'] = adata_vehicle.obs['condition']\n",
    "adata_vehicle.obs.loc[adata_vehicle.obs['cell_line'].eq('PRDX1KO'),'condition'] = 'PRDX1KO'\n",
    "adata_vehicle.obs.loc[adata_vehicle.obs['condition'].eq('vehicle'),'condition'] = 'parent'"
   ]
  },
  {
   "cell_type": "code",
   "execution_count": 61,
   "id": "03f08887-e5d6-459c-af9d-0c25e1f0d060",
   "metadata": {
    "tags": []
   },
   "outputs": [],
   "source": [
    "def run_pipeline(adata, untreated='vehicle', treated='DNAPKi'):\n",
    "    \n",
    "    screen = scp.PooledScreens(adata, verbose=True)\n",
    "    \n",
    "    screen.filterLowCounts(minimum_reads=40)\n",
    "    \n",
    "    screen.countNormalization()\n",
    "    \n",
    "    screen.calculateDrugScreen(\n",
    "        t0='T0', \n",
    "        untreated=untreated, \n",
    "        treated=treated, \n",
    "        score_level='compare_reps',\n",
    "        var_names=['target','transcript'],\n",
    "        collapse_var='target',\n",
    "        count_filter_type='either'\n",
    "    )\n",
    "\n",
    "    screen.buildPhenotypeData()\n",
    "    \n",
    "    screen.pdata.obs['replicate'] = screen.pdata.obs.index.str[-1].astype(int)\n",
    "\n",
    "    return screen\n",
    "\n",
    "\n",
    "def plot_score_scatters(screen, title, untreated='vehicle', treated='DNAPKi'):\n",
    "    fig, axes = plt.subplots(ncols=2,\n",
    "                             figsize=(4.2,3), \n",
    "                             gridspec_kw={'wspace': 0.4, 'left': 0.12,'top':.8,'bottom':.3}, \n",
    "                             # sharey=True\n",
    "                            )\n",
    "    scp.pl.plotReplicateScatter(axes[0], screen.pdata, \n",
    "                                f'gamma:{untreated}_vs_T0::replicate_1',\n",
    "                                f'gamma:{untreated}_vs_T0::replicate_2',\n",
    "                                title='gamma',\n",
    "                                 # min_val=-1,max_val=1,\n",
    "                                 log_transform=False)\n",
    "    scp.pl.plotReplicateScatter(axes[1], screen.pdata, \n",
    "                                f'tau:{treated}_vs_T0::replicate_1',\n",
    "                                f'tau:{treated}_vs_T0::replicate_2',\n",
    "                                title='tau',\n",
    "                                 # min_val=-1,max_val=1,\n",
    "                                 log_transform=False)\n",
    "    \n",
    "    \n",
    "    for ax in axes: \n",
    "        ax.tick_params(width=0.5)\n",
    "        for i in ax.spines.values(): i.set_linewidth(0.5)\n",
    "        # ax.spines['top'].set_visible(False)\n",
    "        # ax.spines['right'].set_visible(False)\n",
    "        # ax.spines['bottom'].set_visible(False)\n",
    "        # ax.spines['left'].set_visible(False)\n",
    "        for item in ([ax.title, ax.xaxis.label, ax.yaxis.label]):\n",
    "            item.set_fontsize(8)\n",
    "        for item in ax.get_xticklabels() + ax.get_yticklabels():\n",
    "            item.set_fontsize(6)\n",
    "        \n",
    "        # ax.set_xticks(list(map(lambda x: x/10.0, range(-10, 11, 5))))\n",
    "        # ax.set_xticks(list(map(lambda x: x/10.0, range(-10, 11, 5))))\n",
    "    \n",
    "    fig.suptitle(title,fontsize=12)\n",
    "    \n",
    "    return fig\n",
    "\n",
    "\n",
    "def plot_count_norm(screen, title):\n",
    "    fig,axes = plt.subplots(1,2,sharey=True,figsize=(4.2,3))\n",
    "    \n",
    "    # plot count distribution\n",
    "    np.log10(\n",
    "        screen.adata.to_df(layer='raw_counts').T+1\n",
    "    ).plot.hist(bins=100, histtype='step', ax=axes[0])\n",
    "    \n",
    "    # plot count distribution\n",
    "    np.log10(\n",
    "        screen.adata.to_df().T+1\n",
    "    ).plot.hist(bins=100, histtype='step', ax=axes[1])\n",
    "    \n",
    "    for ax in axes: \n",
    "        ax.set_xlabel('log10(counts+1)')\n",
    "        ax.get_legend().remove()\n",
    "        ax.grid(False)\n",
    "        ax.tick_params(width=0.5)\n",
    "        for i in ax.spines.values(): i.set_linewidth(0.5)\n",
    "        # ax.spines['top'].set_visible(False)\n",
    "        # ax.spines['right'].set_visible(False)\n",
    "        # ax.spines['bottom'].set_visible(False)\n",
    "        # ax.spines['left'].set_visible(False)\n",
    "        for item in ([ax.title, ax.xaxis.label, ax.yaxis.label]):\n",
    "            item.set_fontsize(8)\n",
    "        for item in ax.get_xticklabels() + ax.get_yticklabels():\n",
    "            item.set_fontsize(6)\n",
    "        ax.set_yticks(range(0, 1201, 500))\n",
    "        \n",
    "    fig.suptitle(f'{title}\\n\\nSequencing depth normalization',fontsize=12,horizontalalignment='center',y=0.9)\n",
    "\n",
    "    fig.tight_layout(\n",
    "        h_pad=1, w_pad=.4,\n",
    "        # rect=[0, 0.03, 1, 0.99]\n",
    "    )\n",
    "\n",
    "    return fig"
   ]
  },
  {
   "cell_type": "code",
   "execution_count": 62,
   "id": "ab2271a2-97df-4098-97d2-5cadab7409cf",
   "metadata": {},
   "outputs": [],
   "source": [
    "def plot_volcanos(screen, title, threshold=3, score_names=['gamma','tau','rho']):\n",
    "\n",
    "    fig, axes = plt.subplots(1,3, figsize=(6, 3), dpi = 300)\n",
    "\n",
    "    for ax, score_name in zip(axes, screen.listPhenotypeScores()):\n",
    "\n",
    "        score_tag, _ = score_name.split(':')\n",
    "\n",
    "        if score_tag in score_names:\n",
    "            screen.drawVolcano(ax=ax, phenotype_name=score_name, pvalue_col='ttest pvalue', threshold=threshold)\n",
    "        else:\n",
    "            ax.set_visible(False)\n",
    "    \n",
    "    for ax in axes:\n",
    "        if ax.get_visible():\n",
    "            ax.get_legend().remove()\n",
    "            ax.grid(False)\n",
    "            ax.tick_params(width=0.5)\n",
    "            for i in ax.spines.values(): i.set_linewidth(0.5)\n",
    "            ax.spines['top'].set_visible(False)\n",
    "            ax.spines['right'].set_visible(False)\n",
    "            # ax.spines['bottom'].set_visible(False)\n",
    "            # ax.spines['left'].set_visible(False)\n",
    "            for item in ([ax.title, ax.xaxis.label, ax.yaxis.label]):\n",
    "                item.set_fontsize(8)\n",
    "            for item in ax.get_xticklabels() + ax.get_yticklabels():\n",
    "                item.set_fontsize(6)\n",
    "\n",
    "    fig.suptitle(title, fontsize=12,horizontalalignment='center',y=0.9)\n",
    "    fig.tight_layout(\n",
    "        h_pad=1, w_pad=.4,\n",
    "        # rect=[0, 0.03, 1, 0.99]\n",
    "    ) # left, bottom, right, top\n",
    "\n",
    "    return fig"
   ]
  },
  {
   "cell_type": "markdown",
   "id": "bc787f57-0904-4669-be5f-75391ef78bde",
   "metadata": {
    "tags": []
   },
   "source": [
    "### PRDX1 parent screen"
   ]
  },
  {
   "cell_type": "code",
   "execution_count": 63,
   "id": "649dd1e2-2e10-4d7a-b0da-8c88d4fffec9",
   "metadata": {},
   "outputs": [
    {
     "name": "stdout",
     "output_type": "stream",
     "text": [
      "44326 variables with less than 40 reads (filter_type: 'all')\n",
      "Pseudocount added to counts.\n",
      "Counts normalized by sequencing depth.\n",
      "\tvehicle vs T0\n",
      "\tDNAPKi vs T0\n",
      "\tDNAPKi vs vehicle\n"
     ]
    }
   ],
   "source": [
    "screen_parent = run_pipeline(adata_parent)"
   ]
  },
  {
   "cell_type": "code",
   "execution_count": 64,
   "id": "c3737fe1-a8c7-40f5-95d5-7cae2d219ac5",
   "metadata": {},
   "outputs": [
    {
     "data": {
      "text/plain": [
       "['gamma:vehicle_vs_T0', 'tau:DNAPKi_vs_T0', 'rho:DNAPKi_vs_vehicle']"
      ]
     },
     "execution_count": 64,
     "metadata": {},
     "output_type": "execute_result"
    }
   ],
   "source": [
    "screen_parent.listPhenotypeScores()"
   ]
  },
  {
   "cell_type": "code",
   "execution_count": 65,
   "id": "193c9f33-e6ce-4e0b-b156-deac4da80736",
   "metadata": {},
   "outputs": [],
   "source": [
    "# rho = screen_parent.phenotypes['compare_reps']['results']['rho:DNAPKi_vs_vehicle']\n",
    "\n",
    "# screen_parent.adata[:,rho[rho.isna().any(axis=1)].index].to_df()"
   ]
  },
  {
   "cell_type": "markdown",
   "id": "eb68b6da-ee67-4e24-a084-0fa09e50a88f",
   "metadata": {},
   "source": [
    "#### replicate level scores"
   ]
  },
  {
   "cell_type": "code",
   "execution_count": 66,
   "id": "a729e3bd-6ff3-4401-bd7d-cbdc93e5b183",
   "metadata": {},
   "outputs": [],
   "source": [
    "fig3 = plot_score_scatters(\n",
    "    screen_parent, \n",
    "    title='PRDX1 parent screen'\n",
    ")"
   ]
  },
  {
   "cell_type": "markdown",
   "id": "58aea28f-63a0-450c-a695-6b3cb6df3229",
   "metadata": {},
   "source": [
    "#### count norm"
   ]
  },
  {
   "cell_type": "code",
   "execution_count": 67,
   "id": "ae112422-db1f-44c3-8288-3ecca6b4f22a",
   "metadata": {},
   "outputs": [],
   "source": [
    "fig4 = plot_count_norm(screen_parent, title='PRDX1 parent screen')"
   ]
  },
  {
   "cell_type": "markdown",
   "id": "146f7ae0-f5bc-42be-8f48-f0c6f3cc668b",
   "metadata": {},
   "source": [
    "#### volcano plots"
   ]
  },
  {
   "cell_type": "code",
   "execution_count": 69,
   "id": "bbbe6fcf-d9f7-4579-a29d-a6796f36c654",
   "metadata": {},
   "outputs": [],
   "source": [
    "fig5 = plot_volcanos(screen_parent, title='PRDX1 parent screen')"
   ]
  },
  {
   "cell_type": "code",
   "execution_count": 70,
   "id": "a4af3499-45bc-4a6e-973d-e52a2db8c497",
   "metadata": {},
   "outputs": [
    {
     "name": "stderr",
     "output_type": "stream",
     "text": [
      "/home/abea/miniconda3/envs/screenpro2/lib/python3.11/site-packages/pandas/plotting/_matplotlib/core.py:1259: UserWarning: No data for colormapping provided via 'c'. Parameters 'cmap' will be ignored\n",
      "  scatter = ax.scatter(\n"
     ]
    }
   ],
   "source": [
    "rho = screen_parent.getPhenotypeScores('rho:DNAPKi_vs_vehicle',10, pvalue_col='ttest pvalue')\n",
    "\n",
    "fig, ax = plt.subplots(figsize=(1, 2))\n",
    "\n",
    "scp.pl._rank.rank_plot(\n",
    "    rho, \n",
    "    # 'combined_score', \n",
    "    'score', \n",
    "    ax=ax, dot_size=1, ylabel='Combined Score', \n",
    "    title='parent screen\\nrho:DNAPKi_vs_vehicle'\n",
    ")\n",
    "\n",
    "ax.grid(False)\n",
    "ax.tick_params(width=0.5)\n",
    "for i in ax.spines.values(): i.set_linewidth(0.5)\n",
    "# ax.spines['top'].set_visible(False)\n",
    "# ax.spines['right'].set_visible(False)\n",
    "# ax.spines['bottom'].set_visible(False)\n",
    "# ax.spines['left'].set_visible(False)\n",
    "for item in ([ax.title, ax.xaxis.label, ax.yaxis.label]):\n",
    "    item.set_fontsize(8)\n",
    "for item in ax.get_xticklabels() + ax.get_yticklabels():\n",
    "    item.set_fontsize(6)\n",
    "\n",
    "# plt.savefig('rank_plot.pdf')\n",
    "plt.show()"
   ]
  },
  {
   "cell_type": "markdown",
   "id": "2fb6fbba-beba-4d6c-a4ac-fa111584ffb2",
   "metadata": {
    "tags": []
   },
   "source": [
    "### PRDX1 KO screen"
   ]
  },
  {
   "cell_type": "code",
   "execution_count": 72,
   "id": "8f6b448d-d336-4488-ba1c-4386c6ef12c8",
   "metadata": {},
   "outputs": [
    {
     "name": "stdout",
     "output_type": "stream",
     "text": [
      "43840 variables with less than 40 reads (filter_type: 'all')\n",
      "Pseudocount added to counts.\n",
      "Counts normalized by sequencing depth.\n",
      "\tvehicle vs T0\n",
      "\tDNAPKi vs T0\n",
      "\tDNAPKi vs vehicle\n"
     ]
    }
   ],
   "source": [
    "screen_PRDX1KO = run_pipeline(adata_PRDX1KO)\n"
   ]
  },
  {
   "cell_type": "markdown",
   "id": "5f207d2e-d566-46a5-8f5d-78aa355c5178",
   "metadata": {},
   "source": [
    "#### replicate level scores"
   ]
  },
  {
   "cell_type": "code",
   "execution_count": 73,
   "id": "81e76c14-8b87-4527-8d20-85b6d68cc6c1",
   "metadata": {},
   "outputs": [],
   "source": [
    "fig6 = plot_score_scatters(\n",
    "    screen_PRDX1KO, \n",
    "    title='PRDX1 KO screen',\n",
    ")\n"
   ]
  },
  {
   "cell_type": "markdown",
   "id": "f7a0f741-2e8a-4cb6-ad68-774553679375",
   "metadata": {},
   "source": [
    "#### count norm"
   ]
  },
  {
   "cell_type": "code",
   "execution_count": 74,
   "id": "65b46555-b762-430e-a171-0c66ecfc1371",
   "metadata": {},
   "outputs": [],
   "source": [
    "fig7 = plot_count_norm(screen_PRDX1KO, title='PRDX1 KO screen')\n"
   ]
  },
  {
   "cell_type": "markdown",
   "id": "a28a1914-b85a-4a4b-b7ea-d78335d78496",
   "metadata": {},
   "source": [
    "#### volcano plots"
   ]
  },
  {
   "cell_type": "code",
   "execution_count": 75,
   "id": "32018aa2-e846-457c-a43b-aeda5fd897ce",
   "metadata": {},
   "outputs": [],
   "source": [
    "fig8 = plot_volcanos(screen_PRDX1KO, title='PRDX1 KO screen')\n"
   ]
  },
  {
   "cell_type": "markdown",
   "id": "3216d48c-2688-4502-a703-bcee502a96ef",
   "metadata": {
    "tags": []
   },
   "source": [
    "### adata_vehicle"
   ]
  },
  {
   "cell_type": "code",
   "execution_count": 76,
   "id": "e7b3beed-d4c5-43c3-b3e9-04a96c3b67f2",
   "metadata": {},
   "outputs": [
    {
     "name": "stdout",
     "output_type": "stream",
     "text": [
      "44224 variables with less than 40 reads (filter_type: 'all')\n",
      "Pseudocount added to counts.\n",
      "Counts normalized by sequencing depth.\n",
      "\tparent vs T0\n",
      "\tPRDX1KO vs T0\n",
      "\tPRDX1KO vs parent\n"
     ]
    }
   ],
   "source": [
    "screen_vehicle = run_pipeline(adata_vehicle, untreated='parent', treated='PRDX1KO')"
   ]
  },
  {
   "cell_type": "markdown",
   "id": "602b96f5-224a-4c1b-aabe-f680e6a3f33f",
   "metadata": {},
   "source": [
    "#### replicate level scores"
   ]
  },
  {
   "cell_type": "code",
   "execution_count": 77,
   "id": "d3270a67-c05c-41ae-8e36-73518ed54ee8",
   "metadata": {},
   "outputs": [],
   "source": [
    "fig9 = plot_score_scatters(\n",
    "    screen_vehicle,\n",
    "    treated='PRDX1KO',\n",
    "    untreated='parent',\n",
    "    title='vehicle screen'\n",
    ")\n"
   ]
  },
  {
   "cell_type": "markdown",
   "id": "3a9324ff-e89e-4788-863d-f9ead1ca9482",
   "metadata": {},
   "source": [
    "#### count norm"
   ]
  },
  {
   "cell_type": "code",
   "execution_count": 78,
   "id": "98d0f002-dde6-4220-8209-2926fbc3a8b0",
   "metadata": {},
   "outputs": [],
   "source": [
    "fig10 = plot_count_norm(screen_vehicle, title='vehicle screen')\n"
   ]
  },
  {
   "cell_type": "markdown",
   "id": "a42d35c4-fa75-4423-b02e-077b55181799",
   "metadata": {},
   "source": [
    "#### volcano plots"
   ]
  },
  {
   "cell_type": "code",
   "execution_count": 79,
   "id": "2674f213-4c01-47f4-b771-5eaddc25b8fc",
   "metadata": {},
   "outputs": [],
   "source": [
    "fig11 = plot_volcanos(screen_vehicle, title='vehicle screen', score_names=['rho'])\n"
   ]
  },
  {
   "cell_type": "code",
   "execution_count": null,
   "id": "9b082d16",
   "metadata": {},
   "outputs": [],
   "source": []
  },
  {
   "cell_type": "markdown",
   "id": "f8d8ee28",
   "metadata": {},
   "source": [
    "### PCA plot"
   ]
  },
  {
   "cell_type": "code",
   "execution_count": 150,
   "id": "fc8ad097",
   "metadata": {},
   "outputs": [],
   "source": [
    "screen_parent.buildPhenotypeData(run_name='compare_reps', db_rate_col=None)\n",
    "\n",
    "screen_parent.pdata.obs['replicate'] = screen_parent.pdata.obs.index.str[-1]#.astype(int)\n",
    "screen_parent.pdata.obs['score_tag'] = screen_parent.pdata.obs.index.str.split('::').str[0].str.split(':').str[0]\n",
    "screen_parent.pdata.obs['comparison'] = screen_parent.pdata.obs.index.str.split('::').str[0].str.split(':').str[1]\n",
    "screen_parent.pdata.obs['comparison'] = 'parent__' + screen_parent.pdata.obs['comparison']"
   ]
  },
  {
   "cell_type": "markdown",
   "id": "c3e0bccb",
   "metadata": {},
   "source": [
    "___"
   ]
  },
  {
   "cell_type": "code",
   "execution_count": 146,
   "metadata": {},
   "outputs": [],
   "source": [
    "screen_PRDX1KO.buildPhenotypeData(run_name='compare_reps', db_rate_col=None)\n",
    "\n",
    "screen_PRDX1KO.pdata.obs['replicate'] = screen_PRDX1KO.pdata.obs.index.str[-1]#.astype(int)\n",
    "screen_PRDX1KO.pdata.obs['score_tag'] = screen_PRDX1KO.pdata.obs.index.str.split('::').str[0].str.split(':').str[0]\n",
    "screen_PRDX1KO.pdata.obs['comparison'] = screen_PRDX1KO.pdata.obs.index.str.split('::').str[0].str.split(':').str[1]\n",
    "screen_PRDX1KO.pdata.obs['comparison'] = 'PRDX1KO__' + screen_PRDX1KO.pdata.obs['comparison']"
   ]
  },
  {
   "cell_type": "markdown",
   "id": "b60bb03e",
   "metadata": {},
   "source": [
    "___"
   ]
  },
  {
   "cell_type": "code",
   "execution_count": 147,
   "id": "265f2302",
   "metadata": {},
   "outputs": [],
   "source": [
    "screen_vehicle.buildPhenotypeData(run_name='compare_reps', db_rate_col=None)\n",
    "\n",
    "screen_vehicle.pdata.obs['replicate'] = screen_vehicle.pdata.obs.index.str[-1]#.astype(int)\n",
    "screen_vehicle.pdata.obs['score_tag'] = screen_vehicle.pdata.obs.index.str.split('::').str[0].str.split(':').str[0]\n",
    "screen_vehicle.pdata.obs['comparison'] = screen_vehicle.pdata.obs.index.str.split('::').str[0].str.split(':').str[1]\n",
    "screen_vehicle.pdata.obs['comparison'] = 'vehicle__' + screen_vehicle.pdata.obs['comparison']"
   ]
  },
  {
   "cell_type": "code",
   "execution_count": 166,
   "id": "b79b5eaa",
   "metadata": {},
   "outputs": [
    {
     "name": "stderr",
     "output_type": "stream",
     "text": [
      "/home/abea/miniconda3/envs/screenpro2/lib/python3.11/site-packages/anndata/_core/anndata.py:1754: UserWarning: Observation names are not unique. To make them unique, call `.obs_names_make_unique`.\n",
      "  utils.warn_names_duplicates(\"obs\")\n"
     ]
    }
   ],
   "source": [
    "pdata = ad.concat([\n",
    "    p[p.obs.score_tag.isin(['rho'])].copy()\n",
    "    for p in [screen_parent.pdata, screen_PRDX1KO.pdata, screen_vehicle.pdata]\n",
    "])\n",
    "# pdata.obs = pdata.obs.set_index('comparison')"
   ]
  },
  {
   "cell_type": "code",
   "execution_count": 167,
   "id": "cf4780cd",
   "metadata": {},
   "outputs": [
    {
     "data": {
      "text/html": [
       "<div>\n",
       "<style scoped>\n",
       "    .dataframe tbody tr th:only-of-type {\n",
       "        vertical-align: middle;\n",
       "    }\n",
       "\n",
       "    .dataframe tbody tr th {\n",
       "        vertical-align: top;\n",
       "    }\n",
       "\n",
       "    .dataframe thead th {\n",
       "        text-align: right;\n",
       "    }\n",
       "</style>\n",
       "<table border=\"1\" class=\"dataframe\">\n",
       "  <thead>\n",
       "    <tr style=\"text-align: right;\">\n",
       "      <th></th>\n",
       "      <th>replicate</th>\n",
       "      <th>score_tag</th>\n",
       "      <th>comparison</th>\n",
       "    </tr>\n",
       "  </thead>\n",
       "  <tbody>\n",
       "    <tr>\n",
       "      <th>rho:DNAPKi_vs_vehicle::replicate_1</th>\n",
       "      <td>1</td>\n",
       "      <td>rho</td>\n",
       "      <td>parent__DNAPKi_vs_vehicle</td>\n",
       "    </tr>\n",
       "    <tr>\n",
       "      <th>rho:DNAPKi_vs_vehicle::replicate_2</th>\n",
       "      <td>2</td>\n",
       "      <td>rho</td>\n",
       "      <td>parent__DNAPKi_vs_vehicle</td>\n",
       "    </tr>\n",
       "    <tr>\n",
       "      <th>rho:DNAPKi_vs_vehicle::replicate_3</th>\n",
       "      <td>3</td>\n",
       "      <td>rho</td>\n",
       "      <td>parent__DNAPKi_vs_vehicle</td>\n",
       "    </tr>\n",
       "    <tr>\n",
       "      <th>rho:DNAPKi_vs_vehicle::replicate_1</th>\n",
       "      <td>1</td>\n",
       "      <td>rho</td>\n",
       "      <td>PRDX1KO__DNAPKi_vs_vehicle</td>\n",
       "    </tr>\n",
       "    <tr>\n",
       "      <th>rho:DNAPKi_vs_vehicle::replicate_2</th>\n",
       "      <td>2</td>\n",
       "      <td>rho</td>\n",
       "      <td>PRDX1KO__DNAPKi_vs_vehicle</td>\n",
       "    </tr>\n",
       "    <tr>\n",
       "      <th>rho:DNAPKi_vs_vehicle::replicate_3</th>\n",
       "      <td>3</td>\n",
       "      <td>rho</td>\n",
       "      <td>PRDX1KO__DNAPKi_vs_vehicle</td>\n",
       "    </tr>\n",
       "    <tr>\n",
       "      <th>rho:PRDX1KO_vs_parent::replicate_1</th>\n",
       "      <td>1</td>\n",
       "      <td>rho</td>\n",
       "      <td>vehicle__PRDX1KO_vs_parent</td>\n",
       "    </tr>\n",
       "    <tr>\n",
       "      <th>rho:PRDX1KO_vs_parent::replicate_2</th>\n",
       "      <td>2</td>\n",
       "      <td>rho</td>\n",
       "      <td>vehicle__PRDX1KO_vs_parent</td>\n",
       "    </tr>\n",
       "    <tr>\n",
       "      <th>rho:PRDX1KO_vs_parent::replicate_3</th>\n",
       "      <td>3</td>\n",
       "      <td>rho</td>\n",
       "      <td>vehicle__PRDX1KO_vs_parent</td>\n",
       "    </tr>\n",
       "  </tbody>\n",
       "</table>\n",
       "</div>"
      ],
      "text/plain": [
       "                                   replicate score_tag  \\\n",
       "rho:DNAPKi_vs_vehicle::replicate_1         1       rho   \n",
       "rho:DNAPKi_vs_vehicle::replicate_2         2       rho   \n",
       "rho:DNAPKi_vs_vehicle::replicate_3         3       rho   \n",
       "rho:DNAPKi_vs_vehicle::replicate_1         1       rho   \n",
       "rho:DNAPKi_vs_vehicle::replicate_2         2       rho   \n",
       "rho:DNAPKi_vs_vehicle::replicate_3         3       rho   \n",
       "rho:PRDX1KO_vs_parent::replicate_1         1       rho   \n",
       "rho:PRDX1KO_vs_parent::replicate_2         2       rho   \n",
       "rho:PRDX1KO_vs_parent::replicate_3         3       rho   \n",
       "\n",
       "                                                    comparison  \n",
       "rho:DNAPKi_vs_vehicle::replicate_1   parent__DNAPKi_vs_vehicle  \n",
       "rho:DNAPKi_vs_vehicle::replicate_2   parent__DNAPKi_vs_vehicle  \n",
       "rho:DNAPKi_vs_vehicle::replicate_3   parent__DNAPKi_vs_vehicle  \n",
       "rho:DNAPKi_vs_vehicle::replicate_1  PRDX1KO__DNAPKi_vs_vehicle  \n",
       "rho:DNAPKi_vs_vehicle::replicate_2  PRDX1KO__DNAPKi_vs_vehicle  \n",
       "rho:DNAPKi_vs_vehicle::replicate_3  PRDX1KO__DNAPKi_vs_vehicle  \n",
       "rho:PRDX1KO_vs_parent::replicate_1  vehicle__PRDX1KO_vs_parent  \n",
       "rho:PRDX1KO_vs_parent::replicate_2  vehicle__PRDX1KO_vs_parent  \n",
       "rho:PRDX1KO_vs_parent::replicate_3  vehicle__PRDX1KO_vs_parent  "
      ]
     },
     "execution_count": 167,
     "metadata": {},
     "output_type": "execute_result"
    }
   ],
   "source": [
    "pdata.obs"
   ]
  },
  {
   "cell_type": "markdown",
   "id": "8495f9df",
   "metadata": {},
   "source": [
    "PCA for CRISPRi v3 screens (rho values)"
   ]
  },
  {
   "cell_type": "code",
   "execution_count": 168,
   "id": "aae5f3af",
   "metadata": {},
   "outputs": [],
   "source": [
    "sc.pp.regress_out(pdata, ['replicate'])"
   ]
  },
  {
   "cell_type": "code",
   "execution_count": 169,
   "id": "7a51307b",
   "metadata": {},
   "outputs": [],
   "source": [
    "sc.pp.pca(pdata)"
   ]
  },
  {
   "cell_type": "markdown",
   "id": "2d60e834",
   "metadata": {},
   "source": [
    "Fig S1a"
   ]
  },
  {
   "cell_type": "code",
   "execution_count": 170,
   "id": "51f4f5b6",
   "metadata": {},
   "outputs": [],
   "source": [
    "sc.pl.pca(pdata,size=400, color='comparison', palette='Paired', frameon=True, show=False)\n",
    "plt.savefig(\"../plots/Fig-5_supp_1.pdf\", bbox_inches=\"tight\",format='pdf')"
   ]
  },
  {
   "cell_type": "markdown",
   "id": "b486fe1d-f778-485a-9ee7-a05f7879e6e7",
   "metadata": {},
   "source": [
    "# "
   ]
  },
  {
   "cell_type": "code",
   "execution_count": 80,
   "id": "5ff9bf4c-e9fd-4119-8fa7-94aba17d792f",
   "metadata": {},
   "outputs": [],
   "source": [
    "# screen_parent.getAnnotatedTable(threshold=2)['rho:DNAPKi_vs_vehicle'].groupby('label').size()"
   ]
  },
  {
   "cell_type": "code",
   "execution_count": 81,
   "id": "acdf968c-cdc5-4488-a963-3641440d4bac",
   "metadata": {},
   "outputs": [],
   "source": [
    "# screen_PRDX1KO.getAnnotatedTable(threshold=2)['rho:DNAPKi_vs_vehicle'].groupby('label').size()"
   ]
  },
  {
   "cell_type": "code",
   "execution_count": 82,
   "id": "6e244d84-c9fd-45d3-ba8d-4b2d5d44ced2",
   "metadata": {},
   "outputs": [],
   "source": [
    "# screen_vehicle.getAnnotatedTable(threshold=2)['rho:PRDX1KO_vs_parent'].groupby('label').size()"
   ]
  },
  {
   "cell_type": "markdown",
   "id": "64cf7be2-260c-4d8d-9866-c882b0767b36",
   "metadata": {},
   "source": [
    "### save to file"
   ]
  },
  {
   "cell_type": "code",
   "execution_count": 83,
   "id": "1ea0a6b3-c1d9-466b-a6f5-7785203d705e",
   "metadata": {},
   "outputs": [
    {
     "name": "stdout",
     "output_type": "stream",
     "text": [
      "Pseudocount added to counts.\n",
      "Counts normalized by sequencing depth.\n"
     ]
    }
   ],
   "source": [
    "screen = scp.PooledScreens(adata, verbose=True)\n",
    "\n",
    "screen.countNormalization()"
   ]
  },
  {
   "cell_type": "code",
   "execution_count": 84,
   "id": "6f7879b8",
   "metadata": {},
   "outputs": [],
   "source": [
    "screen.phenotypes['compare_reps_parent'] = screen_parent.phenotypes['compare_reps']\n",
    "screen.phenotypes['compare_reps_PRDX1KO'] = screen_PRDX1KO.phenotypes['compare_reps']\n",
    "screen.phenotypes['compare_reps_vehicle'] = screen_vehicle.phenotypes['compare_reps']"
   ]
  },
  {
   "cell_type": "code",
   "execution_count": 85,
   "id": "196b498b",
   "metadata": {},
   "outputs": [
    {
     "name": "stdout",
     "output_type": "stream",
     "text": [
      "Object successfully saved to \"A549_PRDX1_CRISPRi_v3_screens.pkl\"\n"
     ]
    }
   ],
   "source": [
    "scp.load._write_screen_pkl(screen, 'A549_PRDX1_CRISPRi_v3_screens')"
   ]
  },
  {
   "cell_type": "markdown",
   "id": "59603850",
   "metadata": {},
   "source": [
    "___"
   ]
  },
  {
   "cell_type": "code",
   "execution_count": 86,
   "id": "034dea3b-c88a-4a3c-9871-e9fba7031253",
   "metadata": {},
   "outputs": [],
   "source": [
    "import datetime\n",
    "from matplotlib.backends.backend_pdf import PdfPages\n",
    "\n",
    "with PdfPages('../plots/CRISPRi-PRDX1-DDRi-screens.pdf') as pdf:\n",
    "    for fig in [fig1,fig2,fig3,fig4,fig5,fig6,fig7,fig8,fig9,fig10,fig11]:\n",
    "        pdf.savefig(fig)  # saves the current figure into a pdf page\n",
    "\n",
    "    d = pdf.infodict()\n",
    "    d['Title'] = 'ScreenPro2 plots'\n",
    "    d['ModDate'] = datetime.datetime.today()"
   ]
  },
  {
   "cell_type": "markdown",
   "id": "0db00d59-66ed-4ec7-a4d6-31fca4714807",
   "metadata": {},
   "source": [
    "#### "
   ]
  },
  {
   "cell_type": "code",
   "execution_count": 88,
   "id": "deffef77-5a9f-4489-a464-82a569932d1c",
   "metadata": {
    "tags": []
   },
   "outputs": [],
   "source": [
    "%reload_ext watermark"
   ]
  },
  {
   "cell_type": "code",
   "execution_count": 89,
   "id": "2861b813-9392-4503-8756-7b3b323e9883",
   "metadata": {
    "tags": []
   },
   "outputs": [
    {
     "name": "stdout",
     "output_type": "stream",
     "text": [
      "Last updated: 2024-09-25T01:11:47.085075-07:00\n",
      "\n",
      "Python implementation: CPython\n",
      "Python version       : 3.11.9\n",
      "IPython version      : 8.27.0\n",
      "\n",
      "Compiler    : GCC 11.2.0\n",
      "OS          : Linux\n",
      "Release     : 5.15.0-119-generic\n",
      "Machine     : x86_64\n",
      "Processor   : x86_64\n",
      "CPU cores   : 64\n",
      "Architecture: 64bit\n",
      "\n"
     ]
    }
   ],
   "source": [
    "%watermark"
   ]
  },
  {
   "cell_type": "code",
   "execution_count": 90,
   "id": "33b20fda-02e4-4fa2-96fb-c9f99fe61227",
   "metadata": {
    "tags": []
   },
   "outputs": [
    {
     "name": "stdout",
     "output_type": "stream",
     "text": [
      "matplotlib: 3.6.2\n",
      "pandas    : 1.5.3\n",
      "screenpro : 0.4.15\n",
      "scanpy    : 1.10.3\n",
      "numpy     : 1.26.4\n",
      "anndata   : 0.10.9\n",
      "\n"
     ]
    }
   ],
   "source": [
    "%watermark --iversions"
   ]
  },
  {
   "cell_type": "markdown",
   "id": "2f44ef99-b385-4d6c-a8ed-209fd6cca85f",
   "metadata": {},
   "source": [
    "___"
   ]
  }
 ],
 "metadata": {
  "kernelspec": {
   "display_name": "screenpro2",
   "language": "python",
   "name": "python3"
  },
  "language_info": {
   "codemirror_mode": {
    "name": "ipython",
    "version": 3
   },
   "file_extension": ".py",
   "mimetype": "text/x-python",
   "name": "python",
   "nbconvert_exporter": "python",
   "pygments_lexer": "ipython3",
   "version": "3.11.9"
  },
  "widgets": {
   "application/vnd.jupyter.widget-state+json": {
    "state": {},
    "version_major": 2,
    "version_minor": 0
   }
  }
 },
 "nbformat": 4,
 "nbformat_minor": 5
}
