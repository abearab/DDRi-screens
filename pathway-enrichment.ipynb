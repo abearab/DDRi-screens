{
 "cells": [
  {
   "cell_type": "markdown",
   "metadata": {},
   "source": [
    "Aim: Pathway enrichment analysis"
   ]
  },
  {
   "cell_type": "markdown",
   "metadata": {
    "tags": []
   },
   "source": [
    "# Drug Nomenclature\n",
    "\n",
    "    T0: First timepoint \n",
    "    (Time Zero, after selection of cells with sgRNA library, and starting point of drug dosing)\n",
    "    DMSO: DMSO treated \n",
    "    Pi: PARP inhibitor (olaparib; AZD2281)\n",
    "    Ri: ATR inhibitor (AZD6738)\n",
    "    Wi: WEE1 inhibitor (AZD1775)\n",
    "    Mi: ATM inhibitor (AZD0156)\n",
    "    Ki: DNAPK inhibitor (AZD7648)\n",
    "\n",
    "\n",
    "    PiRi: PARP inhibitor + ATR inhibitor\n",
    "    PiWi: PARP inhibitor + WEE1 inhibitor\n",
    "    PiMi: PARP inhibitor + ATM inhibitor\n",
    "    PiKi: PARP inhibitor + DNAPK inhibitor"
   ]
  },
  {
   "cell_type": "code",
   "execution_count": 32,
   "metadata": {},
   "outputs": [],
   "source": [
    "import sys\n",
    "import pandas as pd\n",
    "from scipy import stats\n",
    "from functools import reduce\n",
    "import matplotlib.pyplot as plt\n",
    "import seaborn as sns\n",
    "from venn import venn \n",
    "from upsetplot import from_contents,UpSet\n",
    "from matplotlib.backends.backend_pdf import PdfPages\n",
    "import stringdb\n",
    "\n",
    "from screenpro.processing.plots import loadData\n",
    "\n",
    "from utils import *"
   ]
  },
  {
   "cell_type": "markdown",
   "metadata": {
    "tags": []
   },
   "source": [
    "## Load data"
   ]
  },
  {
   "cell_type": "code",
   "execution_count": 33,
   "metadata": {},
   "outputs": [
    {
     "name": "stdout",
     "output_type": "stream",
     "text": [
      "Help on function loadData in module screenpro.processing.plots:\n",
      "\n",
      "loadData(experimentName, collapsedToTranscripts=True, premergedCounts=False)\n",
      "    Parameters\n",
      "    ----------\n",
      "    experimentName :\n",
      "        \n",
      "    collapsedToTranscripts :\n",
      "         (Default value = True)\n",
      "    premergedCounts :\n",
      "         (Default value = False)\n",
      "    \n",
      "    Returns\n",
      "    -------\n",
      "\n"
     ]
    }
   ],
   "source": [
    "help(loadData)"
   ]
  },
  {
   "cell_type": "code",
   "execution_count": 34,
   "metadata": {},
   "outputs": [],
   "source": [
    "Ci = loadData('CRISPRi/Analysis/PiKiMiRiWi/PiKiMiRiWi_2reps')\n",
    "\n",
    "Ca_k562 = loadData('CRISPRa/Analysis/k562/k562a_PiRi')\n",
    "Ca_A549 = loadData('CRISPRa/Analysis/single_replicate_A549/PiRiWi_1stRep/CRISPRa_PiWiRi')"
   ]
  },
  {
   "cell_type": "markdown",
   "metadata": {
    "tags": []
   },
   "source": [
    "## CRISPRi Analysis"
   ]
  },
  {
   "cell_type": "markdown",
   "metadata": {},
   "source": [
    "        gamma:T0:DMSO\n",
    "        rho1:DMSO:Pi\n",
    "        rho2:DMSO:Ki\n",
    "        rho3:DMSO:Mi\n",
    "        rho4:DMSO:Ri\n",
    "        rho5:DMSO:Wi\n",
    "        rho6:DMSO:PiKi\n",
    "        rho7:DMSO:PiMi\n",
    "        rho8:DMSO:PiRi\n",
    "        rho9:DMSO:PiWi"
   ]
  },
  {
   "cell_type": "code",
   "execution_count": 35,
   "metadata": {},
   "outputs": [
    {
     "name": "stdout",
     "output_type": "stream",
     "text": [
      "Pi ->\n",
      "\tmean(neg control gRNAs rho score): -0.0001401984993996408\n",
      "\tstd(neg control gRNAs rho score): 0.12540825080834397\n",
      "Ki ->\n",
      "\tmean(neg control gRNAs rho score): -0.0005673308068281182\n",
      "\tstd(neg control gRNAs rho score): 0.16614558840684682\n",
      "Mi ->\n",
      "\tmean(neg control gRNAs rho score): 0.0017851335633094487\n",
      "\tstd(neg control gRNAs rho score): 0.14801638476027543\n",
      "Ri ->\n",
      "\tmean(neg control gRNAs rho score): 0.0010093567889871565\n",
      "\tstd(neg control gRNAs rho score): 0.1327425021656452\n",
      "Wi ->\n",
      "\tmean(neg control gRNAs rho score): 0.0022317642323502387\n",
      "\tstd(neg control gRNAs rho score): 0.1487822724803441\n",
      "PiKi ->\n",
      "\tmean(neg control gRNAs rho score): -0.0033752033251339595\n",
      "\tstd(neg control gRNAs rho score): 0.17291015247254843\n",
      "PiMi ->\n",
      "\tmean(neg control gRNAs rho score): -0.004468641076695257\n",
      "\tstd(neg control gRNAs rho score): 0.16403386577453327\n",
      "PiRi ->\n",
      "\tmean(neg control gRNAs rho score): -0.00398767757688899\n",
      "\tstd(neg control gRNAs rho score): 0.15472963895091643\n",
      "PiWi ->\n",
      "\tmean(neg control gRNAs rho score): -0.006805516435189452\n",
      "\tstd(neg control gRNAs rho score): 0.15168128609418807\n"
     ]
    }
   ],
   "source": [
    "Ci_data = {\n",
    "    'Pi':{'rho':  get_score(Ci,'rho1','Pi')},\n",
    "    'Ki':{'rho':  get_score(Ci,'rho2','Ki')},\n",
    "    'Mi':{'rho':  get_score(Ci,'rho3','Mi')},\n",
    "    'Ri':{'rho':  get_score(Ci,'rho4','Ri')},\n",
    "    'Wi':{'rho':  get_score(Ci,'rho5','Wi')},\n",
    "    'PiKi':{'rho':  get_score(Ci,'rho6','PiKi')},\n",
    "    'PiMi':{'rho':  get_score(Ci,'rho7','PiMi')},\n",
    "    'PiRi':{'rho':  get_score(Ci,'rho8','PiRi')},\n",
    "    'PiWi':{'rho':  get_score(Ci,'rho9','PiWi')}\n",
    "}"
   ]
  },
  {
   "cell_type": "markdown",
   "metadata": {
    "tags": []
   },
   "source": [
    "### Data normalization "
   ]
  },
  {
   "cell_type": "code",
   "execution_count": 36,
   "metadata": {},
   "outputs": [],
   "source": [
    "Ci_df = pd.concat([Ci_data[drug]['rho'] for drug in Ci_data.keys()],axis=1).add_prefix('Ci.')\n",
    "Ci_df_rho = Ci_df.filter(regex='rho$', axis=1)\n",
    "Ci_df_rho_norm = Ci_df.filter(regex='rho.norm$', axis=1)\n",
    "Ci_df_rho_norm.columns = Ci_df_rho.columns"
   ]
  },
  {
   "cell_type": "markdown",
   "metadata": {
    "tags": []
   },
   "source": [
    "### Run iPAGE"
   ]
  },
  {
   "cell_type": "code",
   "execution_count": 37,
   "metadata": {},
   "outputs": [],
   "source": [
    "!mkdir -p CRISPRi_ipage"
   ]
  },
  {
   "cell_type": "code",
   "execution_count": 38,
   "metadata": {},
   "outputs": [
    {
     "name": "stdout",
     "output_type": "stream",
     "text": [
      "CIRSPRi\n",
      "_______\n",
      "Ki\n",
      "Ri\n",
      "Mi\n",
      "Pi\n",
      "PiRi\n",
      "PiMi\n",
      "Wi\n",
      "PiKi\n",
      "PiWi\n"
     ]
    }
   ],
   "source": [
    "data = Ci_df_rho_norm\n",
    "print ('CIRSPRi')\n",
    "print ('_______')\n",
    "\n",
    "for screen in {c.split(\".\")[1] for c in data.columns}:\n",
    "    print (screen)\n",
    "    data.loc[:,f'Ci.{screen}.rho'].to_csv(f'CRISPRi_ipage/{screen}.txt',sep='\\t',header=False) "
   ]
  },
  {
   "cell_type": "code",
   "execution_count": null,
   "metadata": {},
   "outputs": [],
   "source": [
    "%%bash\n",
    "export PAGEDIR='/data_gilbert/home/aarab/iPAGE'\n",
    "\n",
    "cd CRISPRi_ipage\n",
    "ls *.txt | parallel -j30 -k bash ../ipage_loop.sh\n",
    "cd ../"
   ]
  },
  {
   "cell_type": "code",
   "execution_count": 39,
   "metadata": {},
   "outputs": [
    {
     "name": "stdout",
     "output_type": "stream",
     "text": [
      "CRISPRa_ipage/:\n",
      "\u001b[0m\u001b[38;5;27mPi\u001b[0m/  \u001b[38;5;27mPiRi\u001b[0m/  PiRi.txt  Pi.txt  \u001b[38;5;27mPiWi\u001b[0m/  PiWi.txt  \u001b[38;5;27mRi\u001b[0m/  Ri.txt  \u001b[38;5;27mWi\u001b[0m/  Wi.txt\n",
      "\n",
      "CRISPRi_ipage/:\n",
      "\u001b[38;5;27mKi\u001b[0m/     \u001b[38;5;27mPi\u001b[0m/         PiKi.txt  \u001b[38;5;27mPiRi\u001b[0m/     \u001b[38;5;27mPiWi\u001b[0m/     Ri.pdf  Wi.txt\n",
      "Ki.txt  Pi_all.pdf  \u001b[38;5;27mPiMi\u001b[0m/     PiRi.pdf  PiWi.pdf  Ri.txt\n",
      "\u001b[38;5;27mMi\u001b[0m/     \u001b[38;5;27mPiKi\u001b[0m/       PiMi.txt  PiRi.txt  PiWi.txt  \u001b[38;5;27mWi\u001b[0m/\n",
      "Mi.txt  PiKi.pdf    Pi.pdf    Pi.txt    \u001b[38;5;27mRi\u001b[0m/       Wi.pdf\n"
     ]
    }
   ],
   "source": [
    "ls *_ipage/"
   ]
  },
  {
   "cell_type": "markdown",
   "metadata": {
    "tags": []
   },
   "source": [
    "## CRISPRa Analysis"
   ]
  },
  {
   "cell_type": "markdown",
   "metadata": {
    "tags": []
   },
   "source": [
    "- __k562 cell line__\n",
    "\n",
    "        ???\n",
    "- __A549 cell line__\n",
    "\n",
    "        1 replicate for all conditions\n",
    "        PiRiWi_1stRep\n",
    "\n",
    "        Phenotypes Reported as Log2(Fold Change)\n",
    "\n",
    "        T0 = T0 \n",
    "        DMSO = DMSO \n",
    "        Pi = Parpi \n",
    "        Ri = ATRi\n",
    "        Wi = Wee1i \n",
    "        PiWi = Parpi/Wee1i combo \n",
    "        PiRi = Parpi/ATRi combo \n",
    "\n",
    "        Gamma:T0|DMSO\n",
    "        Tau1:T0|Pi\n",
    "        Tau2:T0|Wi\n",
    "        Tau3:T0|Ri\n",
    "        Tau4:T0|PiRi\n",
    "        Tau5:T0|PiWi\n",
    "        Rho1:DMSO|Pi\n",
    "        Rho2:DMSO|Ri\n",
    "        Rho3:DMSO|Wi\n",
    "        Rho4:DMSO|PiRi\n",
    "        Rho5:DMSO|PiWi\n"
   ]
  },
  {
   "cell_type": "code",
   "execution_count": 40,
   "metadata": {},
   "outputs": [
    {
     "data": {
      "text/plain": [
       "{'gamma', 'rho1', 'rho2'}"
      ]
     },
     "execution_count": 40,
     "metadata": {},
     "output_type": "execute_result"
    }
   ],
   "source": [
    "{score for score,_,_ in Ca_k562['gene scores'].columns.tolist()}"
   ]
  },
  {
   "cell_type": "code",
   "execution_count": 41,
   "metadata": {},
   "outputs": [
    {
     "data": {
      "text/plain": [
       "{'gamma',\n",
       " 'rho1',\n",
       " 'rho2',\n",
       " 'rho3',\n",
       " 'rho4',\n",
       " 'rho5',\n",
       " 'tau1',\n",
       " 'tau2',\n",
       " 'tau3',\n",
       " 'tau4',\n",
       " 'tau5'}"
      ]
     },
     "execution_count": 41,
     "metadata": {},
     "output_type": "execute_result"
    }
   ],
   "source": [
    "{score for score,_,_ in Ca_A549['gene scores'].columns.tolist()}"
   ]
  },
  {
   "cell_type": "code",
   "execution_count": 42,
   "metadata": {},
   "outputs": [
    {
     "name": "stdout",
     "output_type": "stream",
     "text": [
      "Pi ->\n",
      "\tmean(neg control gRNAs rho score): 0.015326290841790316\n",
      "\tstd(neg control gRNAs rho score): 0.1291778609597079\n",
      "Ri ->\n",
      "\tmean(neg control gRNAs rho score): 0.001196942012703095\n",
      "\tstd(neg control gRNAs rho score): 0.12916627606309067\n",
      "Wi ->\n",
      "\tmean(neg control gRNAs rho score): 0.0013140504852827142\n",
      "\tstd(neg control gRNAs rho score): 0.13720420505235054\n",
      "PiRi ->\n",
      "\tmean(neg control gRNAs rho score): 0.0007338311091316385\n",
      "\tstd(neg control gRNAs rho score): 0.1369632742612412\n",
      "PiWi ->\n",
      "\tmean(neg control gRNAs rho score): -0.0047454161159122855\n",
      "\tstd(neg control gRNAs rho score): 0.13496411753300616\n"
     ]
    }
   ],
   "source": [
    "Ca_data = {\n",
    "    'Pi':{'rho':  get_score(Ca_A549,'rho1','Pi',rep='Rep1')},\n",
    "    'Ri':{'rho':  get_score(Ca_A549,'rho2','Ri',rep='Rep1')},\n",
    "    'Wi':{'rho':  get_score(Ca_A549,'rho3','Wi',rep='Rep1')},\n",
    "    'PiRi':{'rho':  get_score(Ca_A549,'rho4','PiRi',rep='Rep1')},\n",
    "    'PiWi':{'rho':  get_score(Ca_A549,'rho5','PiWi',rep='Rep1')}\n",
    "}"
   ]
  },
  {
   "cell_type": "markdown",
   "metadata": {
    "tags": []
   },
   "source": [
    "### Data normalization "
   ]
  },
  {
   "cell_type": "code",
   "execution_count": 43,
   "metadata": {},
   "outputs": [],
   "source": [
    "Ca_df = pd.concat([Ca_data[drug]['rho'] for drug in Ca_data.keys()],axis=1).add_prefix('Ca.')\n",
    "Ca_df_rho = Ca_df.filter(regex='rho$', axis=1)\n",
    "Ca_df_rho_norm = Ca_df.filter(regex='rho.norm$', axis=1)\n",
    "Ca_df_rho_norm.columns = Ca_df_rho.columns"
   ]
  },
  {
   "cell_type": "markdown",
   "metadata": {},
   "source": [
    "### Run iPAGE"
   ]
  },
  {
   "cell_type": "code",
   "execution_count": 44,
   "metadata": {},
   "outputs": [
    {
     "name": "stdout",
     "output_type": "stream",
     "text": [
      "mkdir: cannot create directory ‘CRISPRa_ipage’: File exists\n"
     ]
    }
   ],
   "source": [
    "!mkdir CRISPRa_ipage"
   ]
  },
  {
   "cell_type": "code",
   "execution_count": 45,
   "metadata": {},
   "outputs": [
    {
     "name": "stdout",
     "output_type": "stream",
     "text": [
      "CIRSPRa\n",
      "_______\n",
      "Ri\n",
      "Pi\n",
      "Wi\n",
      "PiRi\n",
      "PiWi\n"
     ]
    }
   ],
   "source": [
    "data = Ca_df_rho_norm\n",
    "print ('CIRSPRa')\n",
    "print ('_______')\n",
    "\n",
    "for screen in {c.split(\".\")[1] for c in data.columns}:\n",
    "    print (screen)\n",
    "    data.loc[:,f'Ca.{screen}.rho'].to_csv(f'CRISPRa_ipage/{screen}.txt',sep='\\t',header=False) "
   ]
  },
  {
   "cell_type": "code",
   "execution_count": null,
   "metadata": {
    "collapsed": true,
    "jupyter": {
     "outputs_hidden": true
    },
    "tags": []
   },
   "outputs": [],
   "source": [
    "%%bash\n",
    "export PAGEDIR='/data_gilbert/home/aarab/iPAGE'\n",
    "\n",
    "cd CRISPRa_ipage\n",
    "ls *.txt | parallel -j10 -k bash ../ipage_loop.sh\n",
    "cd ../"
   ]
  },
  {
   "cell_type": "markdown",
   "metadata": {},
   "source": [
    "### ipager"
   ]
  },
  {
   "cell_type": "code",
   "execution_count": 46,
   "metadata": {},
   "outputs": [],
   "source": [
    "import re\n",
    "import sys\n",
    "from glob import glob\n",
    "\n",
    "sys.path.append('/data_gilbert/home/aarab/Projects/ipage-msigdb/')\n",
    "\n",
    "import upsetplot as us\n",
    "import ipage_down as ipd\n",
    "\n",
    "from collections import ChainMap\n"
   ]
  },
  {
   "cell_type": "code",
   "execution_count": 47,
   "metadata": {},
   "outputs": [],
   "source": [
    "from IPython import get_ipython\n",
    "from IPython.core.magic import register_cell_magic\n",
    "\n",
    "ipython = get_ipython()\n",
    "\n",
    "\n",
    "@register_cell_magic\n",
    "def pybash(line, cell):\n",
    "    ipython.run_cell_magic('bash', '', cell.format(**globals()))"
   ]
  },
  {
   "cell_type": "code",
   "execution_count": 48,
   "metadata": {},
   "outputs": [],
   "source": [
    "def read_ipage_intersections_file(gs_cluster_path,clust,gs=None,gene=None):\n",
    "    with open(f'{gs_cluster_path}/output.ipage_intersections') as raw:\n",
    "        lines = [line for line in raw.read().splitlines()]\n",
    "        if gs:\n",
    "            lines = [line.split('\\t') for line in lines if re.search(gs, line)]\n",
    "        elif gene:\n",
    "            lines = [line.split('\\t') for line in lines if re.search(gene, line)]\n",
    "        else:\n",
    "            lines = [line.split('\\t') for line in lines]\n",
    "    #     left  = dict([(line[0].split(' ')[0],line[2:]) for line in lines if line[1] == '0' ])\n",
    "    #     right = dict([(line[0].split(' ')[0],line[2:]) for line in lines if line[1] == '10'])\n",
    "    # return left,right\n",
    "    return dict([(line[0].split(' ')[0],line[2:]) for line in lines if line[1] == clust ])\n",
    "\n",
    "\n",
    "def merge_multiple_pvmat(pvmat_list):\n",
    "    df = ipd.clean_bins_range(\n",
    "        ipd.read_pvmatrix(pvmat_list[0])\n",
    "    )\n",
    "\n",
    "    cols = df.columns\n",
    "\n",
    "    df = pd.concat(\n",
    "        [df] + [\n",
    "            ipd.read_pvmatrix(pvmat).set_axis(cols, axis=1, inplace=False) \n",
    "            for pvmat in pvmat_list[1:]\n",
    "        ]\n",
    "    )\n",
    "\n",
    "    df = df.groupby(df.index).first()\n",
    "    # ipd.style_clean_pvmatrix(df.iloc[:,[0,10]])    \n",
    "    return df\n",
    "\n",
    "\n",
    "def pvmat2bio_signal(pvmat,side,n_clust=2):\n",
    "    if side == 'up':\n",
    "        out = pvmat.loc[\n",
    "            (pd.DataFrame(pvmat.iloc  [:,-n_clust:]  > 2).all(axis=1)) & \n",
    "            (pd.DataFrame(pvmat.iloc  [:,:-n_clust]  < 2).all(axis=1))\n",
    "            ,:\n",
    "        ].sort_values(by=pvmat.columns[-n_clust:].to_list()[::-1],ascending=False,axis=0)\n",
    "    elif side == 'both':\n",
    "        out = pvmat.loc[\n",
    "            (pd.DataFrame(pvmat.iloc  [:,:n_clust]  > 2).all(axis=1)) & \n",
    "            (pd.DataFrame(pvmat.iloc  [:,-n_clust:]  > 2).all(axis=1)) & \n",
    "            (pd.DataFrame(pvmat.iloc  [:,n_clust+1:-n_clust]  < 2).all(axis=1))\n",
    "            ,:\n",
    "        ].sort_values(\n",
    "            by=pvmat.columns[-n_clust:].to_list()[::-1] + pvmat.columns[:n_clust].to_list(),\n",
    "            ascending=False,axis=0\n",
    "        )\n",
    "    elif side == 'down':\n",
    "        out = pvmat.loc[\n",
    "            (pd.DataFrame(pvmat.iloc  [:,:n_clust]  > 2).all(axis=1)) & \n",
    "            (pd.DataFrame(pvmat.iloc  [:,n_clust+1:]  < 2).all(axis=1))\n",
    "            ,:\n",
    "        ].sort_values(by=pvmat.columns[:n_clust].to_list(),ascending=False,axis=0)\n",
    "    return out\n",
    "\n",
    "\n",
    "def detect_gs_cluster(pvmat_list, gs):\n",
    "    return [\n",
    "        pvmat for pvmat in pvmat_list\n",
    "        if gs in ipd.read_pvmatrix(pvmat).index.to_list()\n",
    "        \n",
    "    ]\n",
    "\n",
    "\n",
    "def get_signals(pvmatrix):\n",
    "    dfs = []\n",
    "    for side in ['up','both','down']:\n",
    "        num = 1\n",
    "        while 1:\n",
    "            df = pvmat2bio_signal(pvmatrix,side,n_clust=num)\n",
    "            if df.shape[0] > 0:\n",
    "                dfs.append(df)\n",
    "                num += 1\n",
    "            else:\n",
    "                break\n",
    "    if dfs: \n",
    "        return pd.concat(dfs)\n",
    "    else: \n",
    "        return []"
   ]
  },
  {
   "cell_type": "markdown",
   "metadata": {},
   "source": [
    "### Ci"
   ]
  },
  {
   "cell_type": "code",
   "execution_count": 49,
   "metadata": {},
   "outputs": [
    {
     "name": "stdout",
     "output_type": "stream",
     "text": [
      "   334 CRISPRi_ipage/Pi/msigdb_v7.4_c5.all/pvmatrix.txt\n",
      "   143 CRISPRi_ipage/Pi/msigdb_v7.4_c5.go.bp/pvmatrix.txt\n",
      "    57 CRISPRi_ipage/Pi/msigdb_v7.4_c5.go.cc/pvmatrix.txt\n",
      "    36 CRISPRi_ipage/Pi/msigdb_v7.4_c5.go.mf/pvmatrix.txt\n",
      "   238 CRISPRi_ipage/Pi/msigdb_v7.4_c5.go/pvmatrix.txt\n",
      "    82 CRISPRi_ipage/Pi/msigdb_v7.4_c5.hpo/pvmatrix.txt\n",
      "   890 total\n"
     ]
    }
   ],
   "source": [
    "!wc -l CRISPRi_ipage/Pi/msigdb_v7.4_c5*/pvmatrix.txt"
   ]
  },
  {
   "cell_type": "code",
   "execution_count": 50,
   "metadata": {
    "tags": []
   },
   "outputs": [
    {
     "name": "stdout",
     "output_type": "stream",
     "text": [
      "Reading matrix ... Done.\n",
      "Cluster rows .. best merge is 33, 53, 1.37900058039264e-09\n",
      "best merge is 4, 5, 0.000718709493904068\n",
      "best merge is 0, 2, 0.00106500533446163\n",
      "best merge is 4, 8, 0.00229320211062617\n",
      "best merge is 0, 4, 0.00428128022942542\n",
      "best merge is 22, 34, 0.00621008663277967\n",
      "best merge is 15, 16, 0.00633353176239115\n",
      "best merge is 0, 6, 0.00650237494591921\n",
      "best merge is 7, 9, 0.00666275547251005\n",
      "best merge is 18, 38, 0.00692224898745986\n",
      "best merge is 0, 7, 0.00835945504497545\n",
      "best merge is 1, 11, 0.0118266793755686\n",
      "best merge is 33, 49, 0.0121791041028114\n",
      "best merge is 13, 28, 0.0136974566040392\n",
      "best merge is 14, 15, 0.0147441895268262\n",
      "best merge is 0, 18, 0.0153313022002986\n",
      "best merge is 10, 14, 0.0175789265027223\n",
      "best merge is 0, 22, 0.0207700861524081\n",
      "best merge is 25, 26, 0.0213383131890437\n",
      "best merge is 51, 52, 0.0220722424628482\n",
      "best merge is 0, 1, 0.0251085009638798\n",
      "best merge is 21, 23, 0.0268833947702243\n",
      "best merge is 0, 54, 0.0302938329032822\n",
      "best merge is 33, 42, 0.0323200032790352\n",
      "best merge is 35, 36, 0.0332195051922219\n",
      "best merge is 3, 13, 0.0358683606757543\n",
      "best merge is 20, 21, 0.0363893823629821\n",
      "best merge is 12, 32, 0.0393639765564964\n",
      "best merge is 17, 20, 0.043533937000146\n",
      "best merge is 3, 10, 0.0437279877756322\n",
      "best merge is 31, 39, 0.0448361018425043\n",
      "best merge is 0, 29, 0.0480802912549168\n",
      "best merge is 12, 19, 0.0484961096184919\n",
      "best merge is 25, 41, 0.0561909354277\n",
      "best merge is 3, 24, 0.0592486349418428\n",
      "best merge is 43, 45, 0.0616561538883333\n",
      "best merge is 3, 12, 0.0758269682365234\n",
      "best merge is 0, 3, 0.0830793151236277\n",
      "best merge is 0, 35, 0.108708188009783\n",
      "best merge is 17, 51, 0.119150641687428\n",
      "best merge is 30, 37, 0.127613228545086\n",
      "best merge is 0, 50, 0.148852446428446\n",
      "best merge is 43, 46, 0.17929158137129\n",
      "best merge is 33, 44, 0.186241927295031\n",
      "best merge is 0, 47, 0.204218117284998\n",
      "best merge is 27, 33, 0.223004113373301\n",
      "best merge is 0, 40, 0.235047421679681\n",
      "best merge is 43, 48, 0.245614850590248\n",
      "best merge is 25, 30, 0.272655098789117\n",
      "best merge is 0, 43, 0.287467785521733\n",
      "best merge is 0, 25, 0.351788860546771\n",
      "best merge is 31, 55, 0.467809939260405\n",
      "order classes\n",
      "41 - 0.239048241237322\n",
      "6 - 0.625095512978686\n",
      "6 - 1.02734410876137\n",
      "2 - 0.62770542579506\n",
      "0 2 4 5 8 6 7 9 18 38 22 34 1 11 54 29 3 13 28 10 14 15 16 24 12 32 19 35 36 50 47 40 43 45 46 48 25 26 41 30 37\n",
      "17 20 21 23 51 52\n",
      "27 33 53 49 42 44\n",
      "31 39\n",
      "55\n",
      "Done.Start drawing\n",
      "12.82\t-21.10\n",
      "GOCC_ORGANELLAR_RIBOSOME\n",
      "GOCC_MITOCHONDRIAL_LARGE_RIBOSOMAL_SUBUNIT\n",
      "GOCC_RESPIRATORY_CHAIN_COMPLEX\n",
      "GOCC_RESPIRASOME\n",
      "GOCC_NADH_DEHYDROGENASE_COMPLEX\n",
      "GOCC_INNER_MITOCHONDRIAL_MEMBRANE_PROTEIN_COMPLEX\n",
      "GOCC_MITOCHONDRIAL_SMALL_RIBOSOMAL_SUBUNIT\n",
      "GOCC_OXIDOREDUCTASE_COMPLEX\n",
      "GOCC_RNA_POLYMERASE_III_COMPLEX\n",
      "GOCC_RNA_POLYMERASE_I_COMPLEX\n",
      "GOCC_CYTOCHROME_COMPLEX\n",
      "GOCC_RESPIRATORY_CHAIN_COMPLEX_III\n",
      "GOCC_RIBOSOMAL_SUBUNIT\n",
      "GOCC_SMALL_RIBOSOMAL_SUBUNIT\n",
      "GOCC_CHAPERONIN_CONTAINING_T_COMPLEX\n",
      "GOCC_SWI_SNF_SUPERFAMILY_TYPE_COMPLEX\n",
      "GOCC_LARGE_RIBOSOMAL_SUBUNIT\n",
      "GOCC_U2_TYPE_SPLICEOSOMAL_COMPLEX\n",
      "GOCC_PRECATALYTIC_SPLICEOSOME\n",
      "GOCC_SPLICEOSOMAL_COMPLEX\n",
      "GOCC_CATALYTIC_STEP_2_SPLICEOSOME\n",
      "GOCC_SM_LIKE_PROTEIN_FAMILY_COMPLEX\n",
      "GOCC_SMALL_NUCLEAR_RIBONUCLEOPROTEIN_COMPLEX\n",
      "GOCC_SPLICEOSOMAL_TRI_SNRNP_COMPLEX\n",
      "GOCC_RNA_POLYMERASE_COMPLEX\n",
      "GOCC_U2_TYPE_CATALYTIC_STEP_2_SPLICEOSOME\n",
      "GOCC_RNA_POLYMERASE_II_HOLOENZYME\n",
      "GOCC_NUCLEOID\n",
      "GOCC_TELOMERASE_HOLOENZYME_COMPLEX\n",
      "GOCC_CAJAL_BODY\n",
      "GOCC_NURD_COMPLEX\n",
      "GOCC_RNA_POLYMERASE_II_CORE_COMPLEX\n",
      "GOCC_TRANSCRIPTION_FACTOR_TFIIH_HOLO_COMPLEX\n",
      "GOCC_CARBOXY_TERMINAL_DOMAIN_PROTEIN_KINASE_COMPLEX\n",
      "GOCC_RNA_POLYMERASE_II_TRANSCRIPTION_REGULATOR_COMPLEX\n",
      "GOCC_CHROMOSOME_TELOMERIC_REGION\n",
      "GOCC_KINETOCHORE\n",
      "GOCC_CONDENSED_CHROMOSOME_CENTROMERIC_REGION\n",
      "GOCC_CHROMOSOME_CENTROMERIC_REGION\n",
      "GOCC_CLEAVAGE_FURROW\n",
      "GOCC_CELL_DIVISION_SITE\n",
      "GOCC_RISC_LOADING_COMPLEX\n",
      "GOCC_PRERIBOSOME\n",
      "GOCC_SMALL_SUBUNIT_PROCESSOME\n",
      "GOCC_CYTOSOLIC_LARGE_RIBOSOMAL_SUBUNIT\n",
      "GOCC_CYTOSOLIC_RIBOSOME\n",
      "GOCC_POLYSOMAL_RIBOSOME\n",
      "GOCC_POLYSOME\n",
      "GOCC_CMG_COMPLEX\n",
      "GOCC_DNA_REPLICATION_PREINITIATION_COMPLEX\n",
      "GOCC_REPLICATION_FORK\n",
      "GOCC_DNA_RECOMBINASE_MEDIATOR_COMPLEX\n",
      "GOCC_DNA_REPLICATION_FACTOR_C_COMPLEX\n",
      "GOCC_CTF18_RFC_LIKE_COMPLEX\n",
      "GOCC_FANCONI_ANAEMIA_NUCLEAR_COMPLEX\n",
      "GOCC_SITE_OF_DNA_DAMAGE\n",
      "Outputing EPS file CRISPRi_ipage/Pi_all.txt_PAGE/Pi_all.txt.summary.eps\n",
      "Convert to PDF CRISPRi_ipage/Pi_all.txt_PAGE/Pi_all.txt.summary.pdf\n",
      "Finished.\n",
      "‘CRISPRi_ipage/Pi_all.txt_PAGE/Pi_all.txt.summary.pdf’ -> ‘CRISPRi_ipage/Pi_all.pdf’\n",
      "removed ‘CRISPRi_ipage/Pi_all.txt_PAGE/Pi_all.txt.summary.eps’\n",
      "removed directory: ‘CRISPRi_ipage/Pi_all.txt_PAGE’\n"
     ]
    }
   ],
   "source": [
    "screen = 'Pi'\n",
    "pvmatrix = f'CRISPRi_ipage/{screen}/msigdb_v7.4_c5.go.cc/pvmatrix.txt'\n",
    "expfile  = f'CRISPRi_ipage/{screen}.txt'\n",
    "expfile_all = expfile.replace('.txt','_all.txt')\n",
    "\n",
    "pybash('',\"cp '{expfile}' '{expfile_all}'\")\n",
    "pybash('',\"bash ipage_draw_matrix.sh '{expfile_all}' '{pvmatrix}'\")\n",
    "pybash('',\"rm '{expfile_all}'\")"
   ]
  },
  {
   "cell_type": "code",
   "execution_count": null,
   "metadata": {},
   "outputs": [],
   "source": []
  },
  {
   "cell_type": "code",
   "execution_count": 51,
   "metadata": {},
   "outputs": [
    {
     "name": "stdout",
     "output_type": "stream",
     "text": [
      "CIRSPRi\n",
      "_______\n",
      "Ki\n",
      "Ri\n",
      "Mi\n",
      "Pi\n",
      "PiRi\n",
      "PiMi\n",
      "Wi\n",
      "PiKi\n",
      "PiWi\n"
     ]
    }
   ],
   "source": [
    "data = Ci_df_rho_norm\n",
    "print ('CIRSPRi')\n",
    "print ('_______')\n",
    "\n",
    "pvmats = {}\n",
    "\n",
    "for screen in {c.split(\".\")[1] for c in data.columns}:\n",
    "    print (screen)\n",
    "    pvmats_list = [file for pat in ['c5.go','c2.cp','h.all'] for file in glob(f'CRISPRi_ipage/{screen}/*{pat}*/pvmatrix.txt')]\n",
    "    pvmats[screen] = {'list':pvmats_list,'pvmatrix':merge_multiple_pvmat(pvmats_list)}"
   ]
  },
  {
   "cell_type": "code",
   "execution_count": 52,
   "metadata": {},
   "outputs": [],
   "source": [
    "results = {}\n",
    "for screen in pvmats: \n",
    "    pw_genes = []\n",
    "    for file in pvmats[screen]['list']:\n",
    "        for clust in ['0','1','2']:\n",
    "            res = read_ipage_intersections_file(file.replace('/pvmatrix.txt',''),clust,gs='PRDX1')\n",
    "            if res: \n",
    "                pw_genes.append(res)\n",
    "    pws = {pw for l in pw_genes for pw in l}\n",
    "    \n",
    "    pvmatrix = pvmats[screen]['pvmatrix'].loc[pws,:]\n",
    "    if len(pvmatrix):\n",
    "        signal = get_signals(pvmatrix)\n",
    "        if len(signal):\n",
    "            results[screen] = {\n",
    "                'pvmatrix':signal,\n",
    "                'pw_genes':dict(ChainMap(*pw_genes))\n",
    "            }"
   ]
  },
  {
   "cell_type": "code",
   "execution_count": 54,
   "metadata": {
    "tags": []
   },
   "outputs": [
    {
     "name": "stdout",
     "output_type": "stream",
     "text": [
      "Reading matrix ... Done.\n",
      "Start drawing\n",
      "1.93\t-1.84\n",
      "REACTOME_TP53_REGULATES_METABOLIC_GENES, \n",
      "PID_AR_PATHWAY, \n",
      "Outputing EPS file CRISPRi_ipage/Ri.txt_PAGE/Ri.txt.summary.eps\n",
      "Convert to PDF CRISPRi_ipage/Ri.txt_PAGE/Ri.txt.summary.pdf\n",
      "Finished.\n",
      "‘CRISPRi_ipage/Ri.txt_PAGE/Ri.txt.summary.pdf’ -> ‘CRISPRi_ipage/Ri.pdf’\n",
      "removed ‘CRISPRi_ipage/Ri.txt_PAGE/Ri.txt.summary.eps’\n",
      "removed directory: ‘CRISPRi_ipage/Ri.txt_PAGE’\n",
      "removed ‘CRISPRi_ipage/Ri_PRDX1_left_pvmatrix.txt’\n",
      "Reading matrix ... Done.\n",
      "Start drawing\n",
      "2.32\t-1.66\n",
      "REACTOME_TP53_REGULATES_METABOLIC_GENES, \n",
      "Outputing EPS file CRISPRi_ipage/Pi.txt_PAGE/Pi.txt.summary.eps\n",
      "Convert to PDF CRISPRi_ipage/Pi.txt_PAGE/Pi.txt.summary.pdf\n",
      "Finished.\n",
      "‘CRISPRi_ipage/Pi.txt_PAGE/Pi.txt.summary.pdf’ -> ‘CRISPRi_ipage/Pi.pdf’\n",
      "removed ‘CRISPRi_ipage/Pi.txt_PAGE/Pi.txt.summary.eps’\n",
      "removed directory: ‘CRISPRi_ipage/Pi.txt_PAGE’\n",
      "removed ‘CRISPRi_ipage/Pi_PRDX1_left_pvmatrix.txt’\n",
      "Reading matrix ... Done.\n",
      "Start drawing\n",
      "2.85\t-1.74\n",
      "REACTOME_TP53_REGULATES_METABOLIC_GENES, \n",
      "WP_NRF2_PATHWAY, \n",
      "Outputing EPS file CRISPRi_ipage/PiRi.txt_PAGE/PiRi.txt.summary.eps\n",
      "Convert to PDF CRISPRi_ipage/PiRi.txt_PAGE/PiRi.txt.summary.pdf\n",
      "Finished.\n",
      "‘CRISPRi_ipage/PiRi.txt_PAGE/PiRi.txt.summary.pdf’ -> ‘CRISPRi_ipage/PiRi.pdf’\n",
      "removed ‘CRISPRi_ipage/PiRi.txt_PAGE/PiRi.txt.summary.eps’\n",
      "removed directory: ‘CRISPRi_ipage/PiRi.txt_PAGE’\n",
      "removed ‘CRISPRi_ipage/PiRi_PRDX1_left_pvmatrix.txt’\n",
      "Reading matrix ... Done.\n",
      "Start drawing\n",
      "1.77\t-2.71\n",
      "REACTOME_TP53_REGULATES_METABOLIC_GENES, \n",
      "REACTOME_CELLULAR_RESPONSE_TO_CHEMICAL_STRESS, \n",
      "Outputing EPS file CRISPRi_ipage/Wi.txt_PAGE/Wi.txt.summary.eps\n",
      "Convert to PDF CRISPRi_ipage/Wi.txt_PAGE/Wi.txt.summary.pdf\n",
      "Finished.\n",
      "‘CRISPRi_ipage/Wi.txt_PAGE/Wi.txt.summary.pdf’ -> ‘CRISPRi_ipage/Wi.pdf’\n",
      "removed ‘CRISPRi_ipage/Wi.txt_PAGE/Wi.txt.summary.eps’\n",
      "removed directory: ‘CRISPRi_ipage/Wi.txt_PAGE’\n",
      "removed ‘CRISPRi_ipage/Wi_PRDX1_left_pvmatrix.txt’\n",
      "Reading matrix ... Done.\n",
      "Start drawing\n",
      "1.8\t-2.59\n",
      "WP_ANDROGEN_RECEPTOR_SIGNALING_PATHWAY, \n",
      "PID_AR_PATHWAY, \n",
      "Outputing EPS file CRISPRi_ipage/PiKi.txt_PAGE/PiKi.txt.summary.eps\n",
      "Convert to PDF CRISPRi_ipage/PiKi.txt_PAGE/PiKi.txt.summary.pdf\n",
      "Finished.\n",
      "‘CRISPRi_ipage/PiKi.txt_PAGE/PiKi.txt.summary.pdf’ -> ‘CRISPRi_ipage/PiKi.pdf’\n",
      "removed ‘CRISPRi_ipage/PiKi.txt_PAGE/PiKi.txt.summary.eps’\n",
      "removed directory: ‘CRISPRi_ipage/PiKi.txt_PAGE’\n",
      "removed ‘CRISPRi_ipage/PiKi_PRDX1_left_pvmatrix.txt’\n",
      "Reading matrix ... Done.\n",
      "Start drawing\n",
      "1.97\t-2.46\n",
      "REACTOME_TP53_REGULATES_METABOLIC_GENES, \n",
      "REACTOME_CELLULAR_RESPONSE_TO_CHEMICAL_STRESS, \n",
      "Outputing EPS file CRISPRi_ipage/PiWi.txt_PAGE/PiWi.txt.summary.eps\n",
      "Convert to PDF CRISPRi_ipage/PiWi.txt_PAGE/PiWi.txt.summary.pdf\n",
      "Finished.\n",
      "‘CRISPRi_ipage/PiWi.txt_PAGE/PiWi.txt.summary.pdf’ -> ‘CRISPRi_ipage/PiWi.pdf’\n",
      "removed ‘CRISPRi_ipage/PiWi.txt_PAGE/PiWi.txt.summary.eps’\n",
      "removed directory: ‘CRISPRi_ipage/PiWi.txt_PAGE’\n",
      "removed ‘CRISPRi_ipage/PiWi_PRDX1_left_pvmatrix.txt’\n"
     ]
    }
   ],
   "source": [
    "for screen in results: \n",
    "    pvmatrix = f'CRISPRi_ipage/{screen}_PRDX1_left_pvmatrix.txt'\n",
    "    expfile  = f'CRISPRi_ipage/{screen}.txt'\n",
    "    results[screen]['pvmatrix'].to_csv(pvmatrix,sep='\\t')\n",
    "    pybash('',\"bash ipage_draw_matrix.sh '{expfile}' '{pvmatrix}'\")\n",
    "    pybash('',\"rm -v '{pvmatrix}'\")"
   ]
  },
  {
   "cell_type": "code",
   "execution_count": null,
   "metadata": {},
   "outputs": [],
   "source": [
    "results[screen"
   ]
  },
  {
   "cell_type": "code",
   "execution_count": 55,
   "metadata": {},
   "outputs": [
    {
     "name": "stdout",
     "output_type": "stream",
     "text": [
      "REACTOME_TP53_REGULATES_METABOLIC_GENES\n",
      "\n",
      "\t Ri\n",
      "\t rho score range: [1.06 1.59],[1.59 1.93]\n",
      "\t ['COX6B1', 'DDIT4', 'G6PD', 'GPX2', 'PRDX1', 'PRKAB2', 'PRKAG1', 'PTEN', 'SESN2', 'TSC1', 'TXN', 'YWHAB', 'YWHAE', 'YWHAZ']\n",
      "\n",
      "\t Pi\n",
      "\t rho score range: [1.31 1.96],[1.96 2.32]\n",
      "\t ['DDIT4', 'G6PD', 'PRDX1', 'PRKAA1', 'PTEN', 'TSC1', 'YWHAB', 'YWHAE', 'YWHAZ']\n",
      "\n",
      "\t PiRi\n",
      "\t rho score range: [1.51 2.43],[2.43 2.85]\n",
      "\t ['DDIT4', 'PRDX1', 'PTEN', 'TSC1', 'TXN', 'YWHAE', 'YWHAZ']\n",
      "\n",
      "\t Wi\n",
      "\t rho score range: [0.82 1.36],[1.36 1.77]\n",
      "\t ['LAMTOR2', 'LAMTOR3', 'LAMTOR4', 'LAMTOR5', 'MLST8', 'MTOR', 'PRDX1', 'RHEB', 'RPTOR', 'TXN']\n",
      "\n",
      "\t PiWi\n",
      "\t rho score range: [0.97 1.57],[1.57 1.97]\n",
      "\t ['AGO3', 'LAMTOR2', 'LAMTOR3', 'LAMTOR4', 'LAMTOR5', 'MLST8', 'MTOR', 'PRDX1', 'RHEB', 'RPTOR', 'SLC38A9', 'TXN', 'YWHAB']\n",
      "\n"
     ]
    }
   ],
   "source": [
    "print ('REACTOME_TP53_REGULATES_METABOLIC_GENES')\n",
    "print ()\n",
    "for screen in results:\n",
    "    if 'REACTOME_TP53_REGULATES_METABOLIC_GENES' in results[screen]['pw_genes'].keys(): \n",
    "        print ('\\t',screen)\n",
    "        print ('\\t','rho score range:',','.join(results[screen]['pvmatrix'].columns[-2:]))\n",
    "        print ('\\t',results[screen]['pw_genes']['REACTOME_TP53_REGULATES_METABOLIC_GENES'])\n",
    "        print ()\n"
   ]
  },
  {
   "cell_type": "markdown",
   "metadata": {},
   "source": [
    "__Conclusion:__ \n",
    "\n",
    "- __REACTOME_TP53_REGULATES_METABOLIC_GENES__ pathway enriched in the first two clusters for given _rho_ scores of all PiRi, PiWi, Pi, Wi, Ri CRISPRi screens.  "
   ]
  },
  {
   "cell_type": "markdown",
   "metadata": {
    "tags": []
   },
   "source": [
    "### Ca"
   ]
  },
  {
   "cell_type": "code",
   "execution_count": 358,
   "metadata": {},
   "outputs": [
    {
     "name": "stdout",
     "output_type": "stream",
     "text": [
      "CIRSPRa\n",
      "_______\n",
      "PiRi\n",
      "PiWi\n",
      "Pi\n",
      "Wi\n",
      "Ri\n"
     ]
    }
   ],
   "source": [
    "data = Ca_df_rho_norm\n",
    "print ('CIRSPRa')\n",
    "print ('_______')\n",
    "\n",
    "pvmats = {}\n",
    "\n",
    "for screen in {c.split(\".\")[1] for c in data.columns}:\n",
    "    print (screen)\n",
    "    pvmats_list = [file for pat in ['c5.go','c2.cp','h.all'] for file in glob(f'CRISPRa_ipage/{screen}/*{pat}*/pvmatrix.txt')]\n",
    "    pvmats[screen] = {'list':pvmats_list,'pvmatrix':merge_multiple_pvmat(pvmats_list)}"
   ]
  },
  {
   "cell_type": "code",
   "execution_count": 366,
   "metadata": {},
   "outputs": [],
   "source": [
    "results = {}\n",
    "for screen in pvmats: \n",
    "    pws = []\n",
    "    for file in pvmats[screen]['list']:\n",
    "        for clust in ['10']:\n",
    "            res = read_ipage_intersections_file(file.replace('/pvmatrix.txt',''),clust,gs='PRDX1')\n",
    "            if res: \n",
    "                pws.append(res)\n",
    "    pvmatrix = pvmats[screen]['pvmatrix'].loc[{pw for l in pws for pw in l},:]\n",
    "    if len(pvmatrix):\n",
    "        signal = get_signals(pvmatrix)\n",
    "        if len(signal):\n",
    "            results[screen] = {\n",
    "                'pvmatrix':signal,\n",
    "                'genes':pws\n",
    "            }"
   ]
  },
  {
   "cell_type": "code",
   "execution_count": 367,
   "metadata": {},
   "outputs": [
    {
     "data": {
      "text/plain": [
       "{}"
      ]
     },
     "execution_count": 367,
     "metadata": {},
     "output_type": "execute_result"
    }
   ],
   "source": [
    "results"
   ]
  },
  {
   "cell_type": "code",
   "execution_count": 360,
   "metadata": {},
   "outputs": [],
   "source": [
    "for screen in results: \n",
    "    pvmatrix = f'CRISPRa_ipage/{screen}_PRDX1_left_pvmatrix.txt'\n",
    "    expfile  = f'CRISPRa_ipage/{screen}.txt'\n",
    "    results[screen]['pvmatrix'].to_csv(pvmatrix,sep='\\t')\n",
    "    pybash('',\"bash ipage_draw_matrix.sh '{expfile}' '{pvmatrix}'\")\n",
    "    pybash('',\"rm -v '{pvmatrix}'\")"
   ]
  },
  {
   "cell_type": "code",
   "execution_count": 218,
   "metadata": {},
   "outputs": [
    {
     "name": "stdout",
     "output_type": "stream",
     "text": [
      "Fri Feb 25 17:43:04 PST 2022\n"
     ]
    }
   ],
   "source": [
    "!date"
   ]
  }
 ],
 "metadata": {
  "kernelspec": {
   "display_name": "Python [conda env:down]",
   "language": "python",
   "name": "conda-env-down-py"
  },
  "language_info": {
   "codemirror_mode": {
    "name": "ipython",
    "version": 3
   },
   "file_extension": ".py",
   "mimetype": "text/x-python",
   "name": "python",
   "nbconvert_exporter": "python",
   "pygments_lexer": "ipython3",
   "version": "3.6.13"
  }
 },
 "nbformat": 4,
 "nbformat_minor": 4
}
