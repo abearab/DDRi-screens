{
 "cells": [
  {
   "cell_type": "markdown",
   "metadata": {},
   "source": [
    "# Gene set enrichment analysis of rho scores\n",
    "- tool: blitzgsea, https://github.com/MaayanLab/blitzgsea"
   ]
  },
  {
   "cell_type": "code",
   "execution_count": 1,
   "metadata": {
    "tags": []
   },
   "outputs": [],
   "source": [
    "import numpy as np \n",
    "import pandas as pd\n",
    "import anndata as ad\n",
    "import blitzgsea as blitz"
   ]
  },
  {
   "cell_type": "code",
   "execution_count": 2,
   "metadata": {
    "tags": []
   },
   "outputs": [],
   "source": [
    "import screenpro"
   ]
  },
  {
   "cell_type": "code",
   "execution_count": 3,
   "metadata": {},
   "outputs": [],
   "source": [
    "from matplotlib import font_manager as fm"
   ]
  },
  {
   "cell_type": "code",
   "execution_count": 4,
   "metadata": {},
   "outputs": [],
   "source": [
    "from matplotlib import rcParams"
   ]
  },
  {
   "cell_type": "code",
   "execution_count": 5,
   "metadata": {
    "tags": []
   },
   "outputs": [],
   "source": [
    "font_files = fm.findSystemFonts(fontpaths=None, fontext='ttf')\n",
    "\n",
    "for font_file in font_files:\n",
    "    fm.fontManager.addfont(font_file)"
   ]
  },
  {
   "cell_type": "code",
   "execution_count": 6,
   "metadata": {},
   "outputs": [],
   "source": [
    "# {f.name for f in matplotlib.font_manager.fontManager.ttflist}"
   ]
  },
  {
   "cell_type": "code",
   "execution_count": 7,
   "metadata": {},
   "outputs": [],
   "source": [
    "rcParams['font.family'] = ['Arial']"
   ]
  },
  {
   "cell_type": "code",
   "execution_count": 8,
   "metadata": {
    "tags": []
   },
   "outputs": [],
   "source": [
    "from screenpro.load import loadScreenProcessingData, read_adata_pkl"
   ]
  },
  {
   "cell_type": "code",
   "execution_count": 9,
   "metadata": {
    "tags": []
   },
   "outputs": [],
   "source": [
    "pager_dir = \"/data_gilbert/home/aarab/tools/pager/\"\n",
    "pager_annotation_path = '/data_gilbert/home/aarab/tools/pager/annotations/human'"
   ]
  },
  {
   "cell_type": "code",
   "execution_count": 10,
   "metadata": {
    "tags": []
   },
   "outputs": [],
   "source": [
    "c5_gobp_gmt = blitz.enrichr.read_gmt(\n",
    "    f'{pager_annotation_path}/msigdb_v7.4_c5.go.bp/c5.go.bp.v7.4.symbols.gmt'\n",
    ")"
   ]
  },
  {
   "cell_type": "code",
   "execution_count": 11,
   "metadata": {
    "tags": []
   },
   "outputs": [],
   "source": [
    "def get_sig_gsea_results(result,variable,threshold):\n",
    "    return result[result[variable] < threshold]\n",
    "\n",
    "def get_rho_for_gsea(rho):\n",
    "    \n",
    "    rho = rho.loc[~rho.label.eq('pseudo'),:]\n",
    "\n",
    "    rho_score = rho.score.reset_index()\n",
    "    rho_score = rho_score.dropna()\n",
    "    \n",
    "    rho_stat =  1 - rho.pvalue # regardless of direction\n",
    "    rho_stat = rho_stat.reset_index()\n",
    "    rho_stat = rho_stat.dropna()\n",
    "    \n",
    "    return rho_score, rho_stat\n",
    "\n",
    "# def run_rho_gsea(rho,gmt,min_size=200):\n",
    "#     signature = rho.copy()\n",
    "\n",
    "#     result = blitz.gsea(\n",
    "#         signature=signature,\n",
    "#         library=gmt,\n",
    "#         min_size=min_size,\n",
    "#         # max_size=250,\n",
    "#         verbose=True\n",
    "#     )\n",
    "    \n",
    "#     return signature, result\n",
    "\n",
    "def run_rho_gsea_directional(rho,gmt,min_size=15,max_size=150):\n",
    "    signature = rho.copy()\n",
    "\n",
    "    result = blitz.gsea(\n",
    "        signature=signature,\n",
    "        library=gmt,\n",
    "        min_size=min_size,\n",
    "        max_size=max_size,\n",
    "        verbose=True\n",
    "    )\n",
    "    \n",
    "    return signature, result"
   ]
  },
  {
   "cell_type": "code",
   "execution_count": 12,
   "metadata": {
    "tags": []
   },
   "outputs": [],
   "source": [
    "# import sys\n",
    "# import pandas as pd\n",
    "# from itertools import chain, product\n",
    "\n",
    "# sys.path.append(\"../../\")\n",
    "\n",
    "# from scripts.util import *\n",
    "# from matplotlib_venn import venn2\n",
    "# from IPython.display import IFrame"
   ]
  },
  {
   "cell_type": "code",
   "execution_count": 13,
   "metadata": {
    "tags": []
   },
   "outputs": [],
   "source": [
    "# import gseapy"
   ]
  },
  {
   "cell_type": "markdown",
   "metadata": {},
   "source": [
    "### Get phenotype scores"
   ]
  },
  {
   "cell_type": "code",
   "execution_count": 14,
   "metadata": {
    "tags": []
   },
   "outputs": [],
   "source": [
    "Ci_adata = read_adata_pkl('datasets/CRISPRi')\n",
    "Ca_A549_adata = read_adata_pkl('datasets/CRISPRa_A549')\n",
    "Ca_k562_adata = read_adata_pkl('datasets/CRISPRa_k562')"
   ]
  },
  {
   "cell_type": "code",
   "execution_count": null,
   "metadata": {},
   "outputs": [],
   "source": []
  },
  {
   "cell_type": "code",
   "execution_count": 15,
   "metadata": {},
   "outputs": [],
   "source": [
    "def get_annotated_score_df(adata,score,level,threshold):\n",
    "    if level == 'transcript':\n",
    "        df = adata.transcript_scores[score]['ave_rep1_rep2'][[\n",
    "            'average phenotype of strongest 3',\n",
    "            'Mann-Whitney p-value',\n",
    "        ]].reset_index('gene').reset_index(drop=True).copy()\n",
    "    \n",
    "    elif level == 'gene':\n",
    "        df = adata.gene_scores[score]['ave_rep1_rep2'][[\n",
    "            'average phenotype of strongest 3',\n",
    "            'Mann-Whitney p-value',\n",
    "        ]].reset_index('gene').copy()\n",
    "        \n",
    "    df = screenpro.phenoScore.ann_score_df(df, ctrl_label='pseudo',threshold=threshold)\n",
    "    \n",
    "    return df"
   ]
  },
  {
   "cell_type": "code",
   "execution_count": 16,
   "metadata": {},
   "outputs": [
    {
     "data": {
      "text/plain": [
       "<function screenpro.phenoScore.ann_score_df(df_in, up_hit='resistance_hit', down_hit='sensitivity_hit', ctrl_label='non-targeting', threshold=10)>"
      ]
     },
     "execution_count": 16,
     "metadata": {},
     "output_type": "execute_result"
    }
   ],
   "source": [
    "screenpro.phenoScore.ann_score_df"
   ]
  },
  {
   "cell_type": "code",
   "execution_count": 17,
   "metadata": {
    "tags": []
   },
   "outputs": [],
   "source": [
    "threshold = 2"
   ]
  },
  {
   "cell_type": "code",
   "execution_count": 18,
   "metadata": {},
   "outputs": [],
   "source": [
    "rho_dict = dict([\n",
    "    (treat,get_annotated_score_df(Ci_adata,score,'gene',threshold = threshold).set_index('target')) for treat, score in Ci_adata.comparisons.items()\n",
    "])"
   ]
  },
  {
   "cell_type": "code",
   "execution_count": 19,
   "metadata": {
    "tags": []
   },
   "outputs": [],
   "source": [
    "rho_df = pd.concat(dict([(treat,rho.score) for treat, rho in rho_dict.items()]),axis=1)\n",
    "# rho_df = pd.concat(rho_dict,axis=1)\n",
    "\n",
    "rho_label = pd.concat(dict([(treat,rho.label) for treat, rho in rho_dict.items()]),axis=1)"
   ]
  },
  {
   "cell_type": "code",
   "execution_count": 20,
   "metadata": {
    "tags": []
   },
   "outputs": [],
   "source": [
    "rho_bin = pd.DataFrame(0,index=rho_label.index,columns=rho_label.columns)\n",
    "\n",
    "rho_bin = (rho_label.isin(['sensitivity_hit']) * -1) + (rho_label.isin(['resistance_hit']) * 1)\n",
    "\n",
    "# rho_bin = rho_bin[~rho_bin.eq(0).sum(axis=1).eq(9)]"
   ]
  },
  {
   "cell_type": "markdown",
   "metadata": {
    "tags": []
   },
   "source": [
    "## Run GSEA"
   ]
  },
  {
   "cell_type": "code",
   "execution_count": 21,
   "metadata": {
    "tags": []
   },
   "outputs": [],
   "source": [
    "    # gmt = blitz.enrichr.read_gmt(\n",
    "    #     f'{pager_annotation_path}/msigdb_v7.4_c5.go/c5.go.v7.4.symbols.gmt',\n",
    "    #     background_genes = rho_score.target.to_list(),\n",
    "    # )\n",
    "\n",
    "    # result = blitz.gsea(\n",
    "    #     signature=signature,\n",
    "    #     library=gmt,\n",
    "    #     min_size=10,\n",
    "    #     max_size=150,\n",
    "    #     processes = 10,\n",
    "    #     verbose=True\n",
    "    # )"
   ]
  },
  {
   "cell_type": "code",
   "execution_count": 22,
   "metadata": {
    "tags": []
   },
   "outputs": [
    {
     "name": "stdout",
     "output_type": "stream",
     "text": [
      "PARPi\n"
     ]
    },
    {
     "name": "stderr",
     "output_type": "stream",
     "text": [
      "Enrichment : 100%|██████████| 7481/7481 [00:02<00:00, 3340.54it/s]\n",
      "/data_gilbert/home/aarab/anaconda3/envs/mamba/envs/screenpro2/lib/python3.9/site-packages/statsmodels/stats/multitest.py:164: RuntimeWarning: divide by zero encountered in log1p\n",
      "  pvals_corrected = -np.expm1(ntests * np.log1p(-pvals))\n"
     ]
    },
    {
     "name": "stdout",
     "output_type": "stream",
     "text": [
      "DNAPKi\n"
     ]
    },
    {
     "name": "stderr",
     "output_type": "stream",
     "text": [
      "Enrichment : 100%|██████████| 7481/7481 [00:02<00:00, 2902.33it/s]\n",
      "/data_gilbert/home/aarab/anaconda3/envs/mamba/envs/screenpro2/lib/python3.9/site-packages/statsmodels/stats/multitest.py:164: RuntimeWarning: divide by zero encountered in log1p\n",
      "  pvals_corrected = -np.expm1(ntests * np.log1p(-pvals))\n"
     ]
    },
    {
     "name": "stdout",
     "output_type": "stream",
     "text": [
      "ATMi\n"
     ]
    },
    {
     "name": "stderr",
     "output_type": "stream",
     "text": [
      "Enrichment : 100%|██████████| 7481/7481 [00:02<00:00, 3048.82it/s]\n",
      "/data_gilbert/home/aarab/anaconda3/envs/mamba/envs/screenpro2/lib/python3.9/site-packages/statsmodels/stats/multitest.py:164: RuntimeWarning: divide by zero encountered in log1p\n",
      "  pvals_corrected = -np.expm1(ntests * np.log1p(-pvals))\n"
     ]
    },
    {
     "name": "stdout",
     "output_type": "stream",
     "text": [
      "ATRi\n"
     ]
    },
    {
     "name": "stderr",
     "output_type": "stream",
     "text": [
      "Enrichment : 100%|██████████| 7481/7481 [00:03<00:00, 2269.05it/s]\n",
      "/data_gilbert/home/aarab/anaconda3/envs/mamba/envs/screenpro2/lib/python3.9/site-packages/statsmodels/stats/multitest.py:164: RuntimeWarning: divide by zero encountered in log1p\n",
      "  pvals_corrected = -np.expm1(ntests * np.log1p(-pvals))\n"
     ]
    },
    {
     "name": "stdout",
     "output_type": "stream",
     "text": [
      "WEE1i\n"
     ]
    },
    {
     "name": "stderr",
     "output_type": "stream",
     "text": [
      "Enrichment : 100%|██████████| 7481/7481 [00:02<00:00, 2827.92it/s]\n",
      "/data_gilbert/home/aarab/anaconda3/envs/mamba/envs/screenpro2/lib/python3.9/site-packages/statsmodels/stats/multitest.py:164: RuntimeWarning: divide by zero encountered in log1p\n",
      "  pvals_corrected = -np.expm1(ntests * np.log1p(-pvals))\n"
     ]
    },
    {
     "name": "stdout",
     "output_type": "stream",
     "text": [
      "PARPi+DNAPKi\n"
     ]
    },
    {
     "name": "stderr",
     "output_type": "stream",
     "text": [
      "Enrichment : 100%|██████████| 7481/7481 [00:02<00:00, 3338.17it/s]\n",
      "/data_gilbert/home/aarab/anaconda3/envs/mamba/envs/screenpro2/lib/python3.9/site-packages/statsmodels/stats/multitest.py:164: RuntimeWarning: divide by zero encountered in log1p\n",
      "  pvals_corrected = -np.expm1(ntests * np.log1p(-pvals))\n"
     ]
    },
    {
     "name": "stdout",
     "output_type": "stream",
     "text": [
      "PARPi+ATMi\n"
     ]
    },
    {
     "name": "stderr",
     "output_type": "stream",
     "text": [
      "Enrichment : 100%|██████████| 7481/7481 [00:02<00:00, 3199.75it/s]\n",
      "/data_gilbert/home/aarab/anaconda3/envs/mamba/envs/screenpro2/lib/python3.9/site-packages/statsmodels/stats/multitest.py:164: RuntimeWarning: divide by zero encountered in log1p\n",
      "  pvals_corrected = -np.expm1(ntests * np.log1p(-pvals))\n"
     ]
    },
    {
     "name": "stdout",
     "output_type": "stream",
     "text": [
      "PARPi+ATRi\n"
     ]
    },
    {
     "name": "stderr",
     "output_type": "stream",
     "text": [
      "Enrichment : 100%|██████████| 7481/7481 [00:02<00:00, 3175.28it/s]\n",
      "/data_gilbert/home/aarab/anaconda3/envs/mamba/envs/screenpro2/lib/python3.9/site-packages/statsmodels/stats/multitest.py:164: RuntimeWarning: divide by zero encountered in log1p\n",
      "  pvals_corrected = -np.expm1(ntests * np.log1p(-pvals))\n"
     ]
    },
    {
     "name": "stdout",
     "output_type": "stream",
     "text": [
      "PARPi+WEE1i\n"
     ]
    },
    {
     "name": "stderr",
     "output_type": "stream",
     "text": [
      "Enrichment : 100%|██████████| 7481/7481 [00:02<00:00, 3247.18it/s]\n",
      "/data_gilbert/home/aarab/anaconda3/envs/mamba/envs/screenpro2/lib/python3.9/site-packages/statsmodels/stats/multitest.py:164: RuntimeWarning: divide by zero encountered in log1p\n",
      "  pvals_corrected = -np.expm1(ntests * np.log1p(-pvals))\n"
     ]
    }
   ],
   "source": [
    "results = {}\n",
    "gmt = c5_gobp_gmt\n",
    "\n",
    "for treat, rho in rho_dict.items():\n",
    "    print(treat)\n",
    "    rho_score, _ = get_rho_for_gsea(rho)\n",
    "\n",
    "    signature, result = run_rho_gsea_directional(rho_score,c5_gobp_gmt)\n",
    "\n",
    "    result_top = get_sig_gsea_results(result,'fdr',0.2)\n",
    "    \n",
    "    results[treat] = {'signature':signature,'full':result,'top':result_top} #,'gmt':gmt\n",
    "    \n",
    "    del signature,result,result_top,rho_score"
   ]
  },
  {
   "cell_type": "markdown",
   "metadata": {
    "tags": []
   },
   "source": [
    "### save as excel files"
   ]
  },
  {
   "cell_type": "code",
   "execution_count": 23,
   "metadata": {
    "tags": []
   },
   "outputs": [],
   "source": [
    "writer = pd.ExcelWriter('results/go_gsea.xlsx', engine='openpyxl')\n",
    "\n",
    "for name,res in results.items():\n",
    "    res['top'].to_excel(writer, sheet_name=f'CRISPRi {name}')\n",
    "    \n",
    "# writer.save()\n",
    "writer.close()"
   ]
  },
  {
   "cell_type": "code",
   "execution_count": 24,
   "metadata": {
    "tags": []
   },
   "outputs": [],
   "source": [
    "pd.concat(dict([\n",
    "    (k, results[k]['top'][results[k]['top'].leading_edge.str.contains('PRDX1')])\n",
    "    for k in results.keys()\n",
    "])).to_excel('results/go_with_prdx1.xlsx')"
   ]
  },
  {
   "cell_type": "code",
   "execution_count": 25,
   "metadata": {
    "tags": []
   },
   "outputs": [],
   "source": [
    "all_terms = [res['full'].index.to_list() for name,res in results.items()]    \n",
    "ol_terms  = list(set(all_terms[0]).intersection(*all_terms[1:]))"
   ]
  },
  {
   "cell_type": "code",
   "execution_count": 26,
   "metadata": {
    "tags": []
   },
   "outputs": [],
   "source": [
    "pd.concat(dict([(name,res['full'].loc[ol_terms,:]) for name,res in results.items()]),axis=1).to_excel('results/go_gsea_merged.xlsx')"
   ]
  },
  {
   "cell_type": "markdown",
   "metadata": {},
   "source": [
    "### GSEA plots"
   ]
  },
  {
   "cell_type": "code",
   "execution_count": null,
   "metadata": {
    "tags": []
   },
   "outputs": [],
   "source": [
    "import seaborn as sns\n",
    "import matplotlib.pyplot as plt"
   ]
  },
  {
   "cell_type": "code",
   "execution_count": null,
   "metadata": {
    "tags": []
   },
   "outputs": [],
   "source": [
    "from matplotlib.backends.backend_pdf import PdfPages\n",
    "\n",
    "def save_image(figs,filename):\n",
    "    \n",
    "    # PdfPages is a wrapper around pdf \n",
    "    # file so there is no clash and create\n",
    "    # files with no error.\n",
    "    p = PdfPages(filename)\n",
    "      \n",
    "    # iterating over the numbers in list\n",
    "    for fig in figs: \n",
    "        \n",
    "        # and saving the files\n",
    "        fig.savefig(p, format='pdf',bbox_inches='tight') \n",
    "      \n",
    "    # close the object\n",
    "    p.close()  "
   ]
  },
  {
   "cell_type": "markdown",
   "metadata": {},
   "source": [
    "#### sensitivity_genesets"
   ]
  },
  {
   "cell_type": "code",
   "execution_count": null,
   "metadata": {
    "tags": []
   },
   "outputs": [],
   "source": [
    "fig_list = []\n",
    "\n",
    "for treat in results.keys():\n",
    "    fig = blitz.plot.top_table(\n",
    "        results[treat]['signature'],\n",
    "        results[treat]['gmt'],\n",
    "        results[treat]['top'].query('nes < -2')\n",
    "    )\n",
    "\n",
    "    fig.suptitle(treat,fontsize=20)\n",
    "    \n",
    "    fig_list.append(fig)\n",
    "\n",
    "save_image(fig_list,'go_gsea_top_sensitivity_genesets.pdf')"
   ]
  },
  {
   "cell_type": "markdown",
   "metadata": {},
   "source": [
    "#### resistance_genesets"
   ]
  },
  {
   "cell_type": "code",
   "execution_count": null,
   "metadata": {
    "tags": []
   },
   "outputs": [],
   "source": [
    "fig_list = []\n",
    "\n",
    "for treat in results.keys():\n",
    "    fig = blitz.plot.top_table(\n",
    "        results[treat]['signature'],\n",
    "        results[treat]['gmt'],\n",
    "        results[treat]['top'].query('nes > 2')\n",
    "    )\n",
    "\n",
    "    fig.suptitle(treat,fontsize=20)\n",
    "    \n",
    "    fig_list.append(fig)\n",
    "\n",
    "save_image(fig_list,'go_gsea_top_resistance_genesets.pdf')"
   ]
  },
  {
   "cell_type": "markdown",
   "metadata": {},
   "source": [
    "# "
   ]
  },
  {
   "cell_type": "code",
   "execution_count": null,
   "metadata": {
    "tags": []
   },
   "outputs": [],
   "source": [
    "g = sns.clustermap(\n",
    "    rho_bin.loc[list(set(c5_go_gmt['GOBP_CELL_REDOX_HOMEOSTASIS']) & set(rho_bin.index)),:],\n",
    "    cmap='RdBu_r',\n",
    "    vmin=-2,\n",
    "    vmax=2,\n",
    "    figsize=(4,12),\n",
    ")\n",
    "\n",
    "g.fig.suptitle('GOBP CELL REDOX HOMEOSTASIS',size=16) \n",
    "g.cax.set_visible(False)\n",
    "\n",
    "plt.tight_layout()\n",
    "g.savefig('GOBP_CELL_REDOX_HOMEOSTASIS.pdf')\n",
    "plt.show()"
   ]
  },
  {
   "cell_type": "markdown",
   "metadata": {},
   "source": [
    "# "
   ]
  },
  {
   "cell_type": "code",
   "execution_count": 26,
   "metadata": {
    "tags": []
   },
   "outputs": [
    {
     "name": "stdout",
     "output_type": "stream",
     "text": [
      "Last updated: 2023-07-27T15:55:37.892224-07:00\n",
      "\n",
      "Python implementation: CPython\n",
      "Python version       : 3.9.16\n",
      "IPython version      : 8.14.0\n",
      "\n",
      "Compiler    : GCC 11.3.0\n",
      "OS          : Linux\n",
      "Release     : 3.10.0-957.27.2.el7.x86_64\n",
      "Machine     : x86_64\n",
      "Processor   : x86_64\n",
      "CPU cores   : 64\n",
      "Architecture: 64bit\n",
      "\n",
      "________________________________________________________________________________\n",
      "matplotlib: 3.7.2\n",
      "screenpro : 0.2.1\n",
      "blitzgsea : 1.3.34\n",
      "pandas    : 2.0.3\n",
      "anndata   : 0.9.1\n",
      "numpy     : 1.24.4\n",
      "\n"
     ]
    }
   ],
   "source": [
    "from watermark import watermark\n",
    "print(\n",
    "    watermark()\n",
    ")\n",
    "print('_'*80)\n",
    "print(\n",
    "    watermark(iversions=True, globals_=globals())\n",
    ")"
   ]
  }
 ],
 "metadata": {
  "kernelspec": {
   "display_name": "Python [conda env:screenpro2]",
   "language": "python",
   "name": "conda-env-screenpro2-py"
  },
  "language_info": {
   "codemirror_mode": {
    "name": "ipython",
    "version": 3
   },
   "file_extension": ".py",
   "mimetype": "text/x-python",
   "name": "python",
   "nbconvert_exporter": "python",
   "pygments_lexer": "ipython3",
   "version": "3.9.16"
  }
 },
 "nbformat": 4,
 "nbformat_minor": 4
}
