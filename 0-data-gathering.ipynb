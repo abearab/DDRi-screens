{
 "cells": [
  {
   "cell_type": "code",
   "execution_count": 1,
   "id": "ae8bf3b7-a7c6-4bc5-8331-6d6d1d90d3f0",
   "metadata": {},
   "outputs": [],
   "source": [
    "import sys\n",
    "import pandas as pd\n",
    "from scipy import stats\n",
    "from functools import reduce\n",
    "import matplotlib.pyplot as plt\n",
    "import seaborn as sns\n",
    "# from venn import venn \n",
    "# from upsetplot import from_contents,UpSet\n",
    "from matplotlib.backends.backend_pdf import PdfPages\n",
    "# import stringdb\n",
    "\n",
    "from utils import *"
   ]
  },
  {
   "cell_type": "code",
   "execution_count": 51,
   "id": "0709dfd8-1585-4a14-ba00-4b4dea9443e6",
   "metadata": {
    "tags": []
   },
   "outputs": [],
   "source": [
    "drug_names = {\n",
    "    'Pi': 'PARPi',\n",
    "    'Ri': 'ATRi',\n",
    "    'Wi': 'WEE1i',\n",
    "    'Mi': 'ATMi',\n",
    "    'Ki': 'DNAPKi',\n",
    "    'PiRi': 'PARPi+ATRi',\n",
    "    'PiWi': 'PARPi+WEE1i',\n",
    "    'PiMi': 'PARPi+ATMi',\n",
    "    'PiKi': 'PARPi+DNAPKi'\n",
    "}"
   ]
  },
  {
   "cell_type": "code",
   "execution_count": 5,
   "id": "701b9439-f44c-4ca7-a9ef-c6ee917ec6f3",
   "metadata": {},
   "outputs": [],
   "source": [
    "# import scanpy as sc\n",
    "import anndata as ad"
   ]
  },
  {
   "cell_type": "code",
   "execution_count": 6,
   "id": "39a588b5-1c2d-4eb9-a555-d024dceb9417",
   "metadata": {},
   "outputs": [],
   "source": [
    "import screenpro"
   ]
  },
  {
   "cell_type": "code",
   "execution_count": 7,
   "id": "56f14cd3-3784-4cb4-b387-3e35acfff132",
   "metadata": {},
   "outputs": [],
   "source": [
    "from screenpro.load import loadScreenProcessingData, write_adata_pkl"
   ]
  },
  {
   "cell_type": "code",
   "execution_count": 8,
   "id": "b26d44b9-e0ca-4ba7-9d99-fc6a1ca54e98",
   "metadata": {},
   "outputs": [],
   "source": [
    "def mergeColumnIndex(df_in):\n",
    "    df = df_in.copy()\n",
    "    df.columns = df.columns.map(' '.join)\n",
    "    return df"
   ]
  },
  {
   "cell_type": "code",
   "execution_count": 9,
   "id": "a3bee44a-d580-437f-a00b-f02e6e97b7d7",
   "metadata": {},
   "outputs": [],
   "source": [
    "def getScreenProcessingAnnData(data_in):\n",
    "    \"\"\"make `AnnData` object from an ScreenProcessing dataset\n",
    "    \"\"\"\n",
    "    data = data_in.copy()\n",
    "    \n",
    "    adata = ad.AnnData(\n",
    "        var = data['counts'].columns.to_frame().rename(columns={0:'treatment',1:'replicate'}).reset_index(drop=True).rename(index=lambda s: f'sample_{str(s)}'),\n",
    "        obs=data['library']\n",
    "    )\n",
    "    \n",
    "    adata.X = data['counts'].loc[adata.obs.index,:].to_numpy()\n",
    "    \n",
    "    adata.obsm['phenotypes'] = mergeColumnIndex(data['phenotypes'])\n",
    "    \n",
    "    # adata.uns['transcript scores'] = mergeColumnIndex(data['transcript scores']).reset_index().set_index('gene')\n",
    "    # adata.uns['gene scores'] = mergeColumnIndex(data['gene scores'])\n",
    "    adata.transcript_scores = data['transcript scores']\n",
    "    adata.gene_scores = data['gene scores']\n",
    "\n",
    "    return adata"
   ]
  },
  {
   "cell_type": "markdown",
   "id": "2e735290-1ad7-45e3-aec1-7ddf56d32e4c",
   "metadata": {},
   "source": [
    "___"
   ]
  },
  {
   "cell_type": "markdown",
   "id": "a3f123b6-7c1a-4ff4-826c-c7382795efaf",
   "metadata": {
    "tags": []
   },
   "source": [
    "### CRISPRi PRDX1-KD datasets"
   ]
  },
  {
   "cell_type": "code",
   "execution_count": 74,
   "id": "e18f2c9e-34f6-438b-90f1-50ea416184dc",
   "metadata": {
    "tags": []
   },
   "outputs": [],
   "source": [
    "Ci_prdx1kd_adata = ad.read_h5ad('CRISPRi-PRDX1-screens/results/adata_counts.h5ad.gz')\n",
    "Ci_prdx1kd_adata.gene_scores = pd.read_excel('CRISPRi-PRDX1-screens/results/phenotype_scores.xlsx',index_col=0,header=[0,1])"
   ]
  },
  {
   "cell_type": "markdown",
   "id": "576b54b9-f6fe-4f1a-8b96-c7d47bc77037",
   "metadata": {
    "jp-MarkdownHeadingCollapsed": true,
    "tags": []
   },
   "source": [
    "### CRISPRi datasets"
   ]
  },
  {
   "cell_type": "code",
   "execution_count": 26,
   "id": "a8db06be-f013-4446-a5bc-efe114e0f1fa",
   "metadata": {},
   "outputs": [],
   "source": [
    "Ci = loadScreenProcessingData('CRISPRi/Analysis/PiKiMiRiWi/PiKiMiRiWi_2reps')"
   ]
  },
  {
   "cell_type": "code",
   "execution_count": 27,
   "id": "d5f59733-568f-4394-b109-ded0ee369272",
   "metadata": {},
   "outputs": [],
   "source": [
    "Ci_adata = getScreenProcessingAnnData(Ci)"
   ]
  },
  {
   "cell_type": "code",
   "execution_count": 28,
   "id": "c7f1f17b-2f13-4320-941f-2a9b2a6ff390",
   "metadata": {},
   "outputs": [],
   "source": [
    "Ci_adata.comparisons = {\n",
    "    'gamma':'gamma',\n",
    "    'PARPi':'rho1',\n",
    "    'DNAPKi':'rho2',\n",
    "    'ATMi':'rho3',\n",
    "    'ATRi':'rho4',\n",
    "    'WEE1i':'rho5',\n",
    "    'PARPi+DNAPKi':'rho6',\n",
    "    'PARPi+ATMi':'rho7',\n",
    "    'PARPi+ATRi':'rho8',\n",
    "    'PARPi+WEE1i':'rho9'\n",
    "}"
   ]
  },
  {
   "cell_type": "markdown",
   "id": "b9267b4c-b9b0-4d46-93a1-89a7f2dfe464",
   "metadata": {
    "jp-MarkdownHeadingCollapsed": true,
    "tags": []
   },
   "source": [
    "### CRISPRa datasets"
   ]
  },
  {
   "cell_type": "markdown",
   "id": "16ebed99-fc42-4bad-942a-8a96144d4195",
   "metadata": {},
   "source": [
    "make `AnnData`object"
   ]
  },
  {
   "cell_type": "code",
   "execution_count": 13,
   "id": "45834d91-6531-4b69-be33-7bd6422df2b4",
   "metadata": {},
   "outputs": [],
   "source": [
    "Ca_k562 = loadScreenProcessingData('CRISPRa/Analysis/k562/k562a_PiRi')\n",
    "Ca_A549 = loadScreenProcessingData('CRISPRa/Analysis/single_replicate_A549/PiRiWi_1stRep/CRISPRa_PiWiRi')"
   ]
  },
  {
   "cell_type": "code",
   "execution_count": 14,
   "id": "32368fdf-08d3-4758-99ca-aebb04f8e656",
   "metadata": {},
   "outputs": [],
   "source": [
    "Ca_k562_adata = getScreenProcessingAnnData(Ca_k562)"
   ]
  },
  {
   "cell_type": "code",
   "execution_count": 32,
   "id": "a9057977-b0ad-4801-9718-7e3bb60ee0b4",
   "metadata": {},
   "outputs": [
    {
     "data": {
      "text/html": [
       "<div>\n",
       "<style scoped>\n",
       "    .dataframe tbody tr th:only-of-type {\n",
       "        vertical-align: middle;\n",
       "    }\n",
       "\n",
       "    .dataframe tbody tr th {\n",
       "        vertical-align: top;\n",
       "    }\n",
       "\n",
       "    .dataframe thead th {\n",
       "        text-align: right;\n",
       "    }\n",
       "</style>\n",
       "<table border=\"1\" class=\"dataframe\">\n",
       "  <thead>\n",
       "    <tr style=\"text-align: right;\">\n",
       "      <th></th>\n",
       "      <th>treatment</th>\n",
       "      <th>replicate</th>\n",
       "    </tr>\n",
       "  </thead>\n",
       "  <tbody>\n",
       "    <tr>\n",
       "      <th>sample_0</th>\n",
       "      <td>DMSO</td>\n",
       "      <td>rep1</td>\n",
       "    </tr>\n",
       "    <tr>\n",
       "      <th>sample_1</th>\n",
       "      <td>DMSO</td>\n",
       "      <td>rep2</td>\n",
       "    </tr>\n",
       "    <tr>\n",
       "      <th>sample_2</th>\n",
       "      <td>Pi</td>\n",
       "      <td>rep1</td>\n",
       "    </tr>\n",
       "    <tr>\n",
       "      <th>sample_3</th>\n",
       "      <td>Pi</td>\n",
       "      <td>rep2</td>\n",
       "    </tr>\n",
       "    <tr>\n",
       "      <th>sample_4</th>\n",
       "      <td>PiRi</td>\n",
       "      <td>rep1</td>\n",
       "    </tr>\n",
       "    <tr>\n",
       "      <th>sample_5</th>\n",
       "      <td>PiRi</td>\n",
       "      <td>rep2</td>\n",
       "    </tr>\n",
       "    <tr>\n",
       "      <th>sample_6</th>\n",
       "      <td>T0</td>\n",
       "      <td>rep1</td>\n",
       "    </tr>\n",
       "    <tr>\n",
       "      <th>sample_7</th>\n",
       "      <td>T0</td>\n",
       "      <td>rep2</td>\n",
       "    </tr>\n",
       "  </tbody>\n",
       "</table>\n",
       "</div>"
      ],
      "text/plain": [
       "         treatment replicate\n",
       "sample_0      DMSO      rep1\n",
       "sample_1      DMSO      rep2\n",
       "sample_2        Pi      rep1\n",
       "sample_3        Pi      rep2\n",
       "sample_4      PiRi      rep1\n",
       "sample_5      PiRi      rep2\n",
       "sample_6        T0      rep1\n",
       "sample_7        T0      rep2"
      ]
     },
     "execution_count": 32,
     "metadata": {},
     "output_type": "execute_result"
    }
   ],
   "source": [
    "Ca_k562_adata.var"
   ]
  },
  {
   "cell_type": "code",
   "execution_count": 41,
   "id": "4873849d-c91d-4546-b969-477ac0630e9e",
   "metadata": {},
   "outputs": [],
   "source": [
    "Ca_k562_adata.comparisons = {\n",
    "    'gamma':'gamma',\n",
    "    'PARPi':'rho1',\n",
    "    'PARPi+ATRi':'rho2',\n",
    "}"
   ]
  },
  {
   "cell_type": "markdown",
   "id": "c3b2398a-b9ae-40f1-9a1d-2141a2a9b49d",
   "metadata": {},
   "source": [
    "___"
   ]
  },
  {
   "cell_type": "code",
   "execution_count": 15,
   "id": "74478ce3-b52c-4436-8b69-fe836b9e118d",
   "metadata": {},
   "outputs": [],
   "source": [
    "Ca_A549_adata = getScreenProcessingAnnData(Ca_A549)"
   ]
  },
  {
   "cell_type": "code",
   "execution_count": 42,
   "id": "7a7cdcd1-b1de-4c4d-8ead-8c5b73f53068",
   "metadata": {},
   "outputs": [
    {
     "data": {
      "text/html": [
       "<div>\n",
       "<style scoped>\n",
       "    .dataframe tbody tr th:only-of-type {\n",
       "        vertical-align: middle;\n",
       "    }\n",
       "\n",
       "    .dataframe tbody tr th {\n",
       "        vertical-align: top;\n",
       "    }\n",
       "\n",
       "    .dataframe thead th {\n",
       "        text-align: right;\n",
       "    }\n",
       "</style>\n",
       "<table border=\"1\" class=\"dataframe\">\n",
       "  <thead>\n",
       "    <tr style=\"text-align: right;\">\n",
       "      <th></th>\n",
       "      <th>treatment</th>\n",
       "      <th>replicate</th>\n",
       "    </tr>\n",
       "  </thead>\n",
       "  <tbody>\n",
       "    <tr>\n",
       "      <th>sample_0</th>\n",
       "      <td>DMSO</td>\n",
       "      <td>Rep1</td>\n",
       "    </tr>\n",
       "    <tr>\n",
       "      <th>sample_1</th>\n",
       "      <td>Pi</td>\n",
       "      <td>Rep1</td>\n",
       "    </tr>\n",
       "    <tr>\n",
       "      <th>sample_2</th>\n",
       "      <td>PiRi</td>\n",
       "      <td>Rep1</td>\n",
       "    </tr>\n",
       "    <tr>\n",
       "      <th>sample_3</th>\n",
       "      <td>PiWi</td>\n",
       "      <td>Rep1</td>\n",
       "    </tr>\n",
       "    <tr>\n",
       "      <th>sample_4</th>\n",
       "      <td>Ri</td>\n",
       "      <td>Rep1</td>\n",
       "    </tr>\n",
       "    <tr>\n",
       "      <th>sample_5</th>\n",
       "      <td>T0</td>\n",
       "      <td>Rep1</td>\n",
       "    </tr>\n",
       "    <tr>\n",
       "      <th>sample_6</th>\n",
       "      <td>Wi</td>\n",
       "      <td>Rep1</td>\n",
       "    </tr>\n",
       "  </tbody>\n",
       "</table>\n",
       "</div>"
      ],
      "text/plain": [
       "         treatment replicate\n",
       "sample_0      DMSO      Rep1\n",
       "sample_1        Pi      Rep1\n",
       "sample_2      PiRi      Rep1\n",
       "sample_3      PiWi      Rep1\n",
       "sample_4        Ri      Rep1\n",
       "sample_5        T0      Rep1\n",
       "sample_6        Wi      Rep1"
      ]
     },
     "execution_count": 42,
     "metadata": {},
     "output_type": "execute_result"
    }
   ],
   "source": [
    "Ca_A549_adata.var"
   ]
  },
  {
   "cell_type": "code",
   "execution_count": 53,
   "id": "5da82626-bc1e-4373-bb6e-d247f536daf0",
   "metadata": {},
   "outputs": [],
   "source": [
    "Ca_A549_adata.comparisons = {\n",
    "    'gamma':'gamma',\n",
    "    'PARPi':'rho1',\n",
    "    'ATRi':'rho2',\n",
    "    'WEE1i':'rho3',\n",
    "    'PARPi+ATRi':'rho4',\n",
    "    'PARPi+WEE1i':'rho5',\n",
    "}"
   ]
  },
  {
   "cell_type": "markdown",
   "id": "8f61457e-3e74-4fc5-bb5d-ef5fb19f8322",
   "metadata": {},
   "source": [
    "### Save data"
   ]
  },
  {
   "cell_type": "code",
   "execution_count": 49,
   "id": "d2a9dba2-a535-4fb9-aba3-560ba8d8902a",
   "metadata": {},
   "outputs": [],
   "source": [
    "!mkdir -p datasets"
   ]
  },
  {
   "cell_type": "code",
   "execution_count": 78,
   "id": "81c0f5c8-f220-4872-bb0b-7b163e8037d0",
   "metadata": {},
   "outputs": [
    {
     "name": "stdout",
     "output_type": "stream",
     "text": [
      "Object successfully saved to \"datasets/CRISPRi_PRDX1-KD.pkl\"\n"
     ]
    }
   ],
   "source": [
    "write_adata_pkl(Ci_prdx1kd_adata,'datasets/CRISPRi_PRDX1-KD')"
   ]
  },
  {
   "cell_type": "code",
   "execution_count": 55,
   "id": "85b29e09-044a-46f7-ab59-b4863647077c",
   "metadata": {},
   "outputs": [
    {
     "name": "stdout",
     "output_type": "stream",
     "text": [
      "Object successfully saved to \"datasets/CRISPRi.pkl\"\n",
      "Object successfully saved to \"datasets/CRISPRa_A549.pkl\"\n",
      "Object successfully saved to \"datasets/CRISPRa_k562.pkl\"\n"
     ]
    }
   ],
   "source": [
    "write_adata_pkl(Ci_adata,'datasets/CRISPRi')\n",
    "write_adata_pkl(Ca_A549_adata,'datasets/CRISPRa_A549')\n",
    "write_adata_pkl(Ca_k562_adata,'datasets/CRISPRa_k562')"
   ]
  },
  {
   "cell_type": "code",
   "execution_count": 47,
   "id": "fbc7ad6b-ece6-4174-93b5-e173d60fe27c",
   "metadata": {},
   "outputs": [],
   "source": [
    "# Ci_adata.write('datasets/CRISPRi.h5ad')\n",
    "# Ca_A549_adata.write_h5ad('datasets/CRISPRa_A549.h5ad')\n",
    "# Ca_k562_adata.write_h5ad('datasets/CRISPRa_k562.h5ad')"
   ]
  },
  {
   "cell_type": "markdown",
   "id": "41f807c6-acd7-44b9-8633-b5e3fe433897",
   "metadata": {},
   "source": [
    "# "
   ]
  },
  {
   "cell_type": "code",
   "execution_count": 54,
   "id": "dfa51d56-7b9f-4801-8c5f-31097154d5da",
   "metadata": {
    "tags": []
   },
   "outputs": [
    {
     "name": "stdout",
     "output_type": "stream",
     "text": [
      "Last updated: 2023-08-14T12:44:37.094437-07:00\n",
      "\n",
      "Python implementation: CPython\n",
      "Python version       : 3.9.16\n",
      "IPython version      : 8.14.0\n",
      "\n",
      "Compiler    : GCC 11.3.0\n",
      "OS          : Linux\n",
      "Release     : 3.10.0-957.27.2.el7.x86_64\n",
      "Machine     : x86_64\n",
      "Processor   : x86_64\n",
      "CPU cores   : 64\n",
      "Architecture: 64bit\n",
      "\n",
      "________________________________________________________________________________\n",
      "matplotlib: 3.7.2\n",
      "pandas    : 2.0.3\n",
      "seaborn   : 0.12.2\n",
      "sys       : 3.9.16 | packaged by conda-forge | (main, Feb  1 2023, 21:39:03) \n",
      "[GCC 11.3.0]\n",
      "screenpro : 0.2.1\n",
      "numpy     : 1.24.4\n",
      "anndata   : 0.9.1\n",
      "scipy     : 1.11.1\n",
      "\n"
     ]
    }
   ],
   "source": [
    "from watermark import watermark\n",
    "print(\n",
    "    watermark()\n",
    ")\n",
    "print('_'*80)\n",
    "print(\n",
    "    watermark(iversions=True, globals_=globals())\n",
    ")"
   ]
  }
 ],
 "metadata": {
  "kernelspec": {
   "display_name": "Python [conda env:screenpro2]",
   "language": "python",
   "name": "conda-env-screenpro2-py"
  },
  "language_info": {
   "codemirror_mode": {
    "name": "ipython",
    "version": 3
   },
   "file_extension": ".py",
   "mimetype": "text/x-python",
   "name": "python",
   "nbconvert_exporter": "python",
   "pygments_lexer": "ipython3",
   "version": "3.9.16"
  }
 },
 "nbformat": 4,
 "nbformat_minor": 5
}
