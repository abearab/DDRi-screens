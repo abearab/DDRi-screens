{
 "cells": [
  {
   "cell_type": "code",
   "execution_count": null,
   "metadata": {},
   "outputs": [],
   "source": [
    "# %%bash\n",
    "\n",
    "# CRISPR_PLATFORM=\"CRISPRa\"\n",
    "# REP=\"rep1\"\n",
    "# CELL_LINE=\"A549\"\n",
    "\n",
    "# for fq in ${CRISPR_PLATFORM}/fastq_files/${REP}/*.fastq.gz; do\n",
    "\n",
    "#     # get the sample name from the file name\n",
    "#     sample=$(basename $fq)\n",
    "#     sample=${sample%_[1,2][a,i].fastq.gz}\n",
    "    \n",
    "#     output=CRISPRai-DDRi-screens/fastq/${CELL_LINE}_${CRISPR_PLATFORM}_${sample}_${REP}.fastq.gz\n",
    "\n",
    "#     # echo the sample name\n",
    "#     echo $sample $CRISPR_PLATFORM $REP\n",
    "#     echo $output\n",
    "\n",
    "#     cp -nv $fq $output\n",
    "\n",
    "\n",
    "# done"
   ]
  },
  {
   "cell_type": "code",
   "execution_count": 37,
   "metadata": {},
   "outputs": [],
   "source": [
    "%%bash\n",
    "\n",
    "# checksum \n",
    "FASTQ_DIR='CRISPRai-DDRi-screens/fastq/'\n",
    "\n",
    "cd ${FASTQ_DIR}\n",
    "\n",
    "md5sum *.fastq.gz > checksums.txt\n",
    "\n",
    "cd ../../"
   ]
  },
  {
   "cell_type": "code",
   "execution_count": null,
   "metadata": {},
   "outputs": [],
   "source": []
  },
  {
   "cell_type": "code",
   "execution_count": null,
   "metadata": {},
   "outputs": [],
   "source": []
  },
  {
   "cell_type": "code",
   "execution_count": null,
   "metadata": {},
   "outputs": [],
   "source": []
  },
  {
   "cell_type": "code",
   "execution_count": null,
   "metadata": {},
   "outputs": [],
   "source": []
  },
  {
   "cell_type": "code",
   "execution_count": 40,
   "metadata": {},
   "outputs": [
    {
     "name": "stdout",
     "output_type": "stream",
     "text": [
      "DMSO CRISPRa 2\n",
      "CRISPRa/fastq_files/K562/DMSO_Rep2.fastq.gz\n",
      "CRISPRai-DDRi-screens/fastq/K562_CRISPRa_DMSO_rep2.fastq.gz\n"
     ]
    },
    {
     "name": "stdout",
     "output_type": "stream",
     "text": [
      "'CRISPRa/fastq_files/K562/DMSO_Rep2.fastq.gz' -> 'CRISPRai-DDRi-screens/fastq/K562_CRISPRa_DMSO_rep2.fastq.gz'\n",
      "Pi CRISPRa 2\n",
      "CRISPRa/fastq_files/K562/Pi_Rep2.fastq.gz\n",
      "CRISPRai-DDRi-screens/fastq/K562_CRISPRa_Pi_rep2.fastq.gz\n",
      "'CRISPRa/fastq_files/K562/Pi_Rep2.fastq.gz' -> 'CRISPRai-DDRi-screens/fastq/K562_CRISPRa_Pi_rep2.fastq.gz'\n",
      "PiRi CRISPRa 2\n",
      "CRISPRa/fastq_files/K562/PiRi_Rep2.fastq.gz\n",
      "CRISPRai-DDRi-screens/fastq/K562_CRISPRa_PiRi_rep2.fastq.gz\n",
      "'CRISPRa/fastq_files/K562/PiRi_Rep2.fastq.gz' -> 'CRISPRai-DDRi-screens/fastq/K562_CRISPRa_PiRi_rep2.fastq.gz'\n"
     ]
    }
   ],
   "source": [
    "%%bash\n",
    "\n",
    "CRISPR_PLATFORM=\"CRISPRa\"\n",
    "REP=\"2\"\n",
    "CELL_LINE=\"K562\"\n",
    "\n",
    "for fq in ${CRISPR_PLATFORM}/fastq_files/${CELL_LINE}/*Rep${REP}.fastq.gz; do\n",
    "\n",
    "    # get the sample name from the file name\n",
    "    sample=$(basename $fq)\n",
    "    sample=${sample%_Rep[1,2].fastq.gz}\n",
    "    \n",
    "    output=CRISPRai-DDRi-screens/fastq/${CELL_LINE}_${CRISPR_PLATFORM}_${sample}_rep${REP}.fastq.gz\n",
    "\n",
    "    # echo the sample name\n",
    "    echo $sample $CRISPR_PLATFORM $REP\n",
    "    echo $fq\n",
    "    echo $output\n",
    "\n",
    "    cp -nv $fq $output\n",
    "\n",
    "\n",
    "done"
   ]
  },
  {
   "cell_type": "code",
   "execution_count": 41,
   "metadata": {},
   "outputs": [],
   "source": [
    "%%bash\n",
    "\n",
    "# checksum \n",
    "FASTQ_DIR='CRISPRai-DDRi-screens/fastq/'\n",
    "\n",
    "cd ${FASTQ_DIR}\n",
    "\n",
    "md5sum K562*.fastq.gz >> checksums.txt\n",
    "\n",
    "cd ../../"
   ]
  },
  {
   "cell_type": "code",
   "execution_count": 43,
   "metadata": {},
   "outputs": [
    {
     "name": "stdout",
     "output_type": "stream",
     "text": [
      "34\n"
     ]
    }
   ],
   "source": [
    "!cat CRISPRai-DDRi-screens/fastq/checksums.txt | wc -l"
   ]
  },
  {
   "cell_type": "markdown",
   "metadata": {},
   "source": [
    "# "
   ]
  },
  {
   "cell_type": "code",
   "execution_count": 7,
   "metadata": {},
   "outputs": [
    {
     "name": "stdout",
     "output_type": "stream",
     "text": [
      "-rw-r--r-- 1 abea users  1.4G Jul 15 15:41 CRISPRai-DDRi-screens/fastq/A549_CRISPRi_DMSO_rep1.fastq.gz\n",
      "-rw-r--r-- 1 abea users  882M Jul 15 15:41 CRISPRai-DDRi-screens/fastq/A549_CRISPRi_DMSO_rep2.fastq.gz\n",
      "-rw-r--r-- 1 abea users  964M Jul 15 15:41 CRISPRai-DDRi-screens/fastq/A549_CRISPRi_Ki_rep1.fastq.gz\n",
      "-rw-r--r-- 1 abea users  600M Jul 15 15:41 CRISPRai-DDRi-screens/fastq/A549_CRISPRi_Ki_rep2.fastq.gz\n",
      "-rw-r--r-- 1 abea users  847M Jul 15 15:41 CRISPRai-DDRi-screens/fastq/A549_CRISPRi_Mi_rep1.fastq.gz\n",
      "-rw-r--r-- 1 abea users  1.2G Jul 15 15:41 CRISPRai-DDRi-screens/fastq/A549_CRISPRi_Mi_rep2.fastq.gz\n",
      "-rw-r--r-- 1 abea users  941M Jul 15 15:41 CRISPRai-DDRi-screens/fastq/A549_CRISPRi_PiKi_rep1.fastq.gz\n",
      "-rw-r--r-- 1 abea users  1.9G Jul 15 15:41 CRISPRai-DDRi-screens/fastq/A549_CRISPRi_PiKi_rep2.fastq.gz\n",
      "-rw-r--r-- 1 abea users  982M Jul 15 15:41 CRISPRai-DDRi-screens/fastq/A549_CRISPRi_PiMi_rep1.fastq.gz\n",
      "-rw-r--r-- 1 abea users  2.6G Jul 15 15:42 CRISPRai-DDRi-screens/fastq/A549_CRISPRi_PiMi_rep2.fastq.gz\n",
      "-rw-r--r-- 1 abea users  1.3G Jul 15 15:41 CRISPRai-DDRi-screens/fastq/A549_CRISPRi_Pi_rep1.fastq.gz\n",
      "-rw-r--r-- 1 abea users  873M Jul 15 15:41 CRISPRai-DDRi-screens/fastq/A549_CRISPRi_Pi_rep2.fastq.gz\n",
      "-rw-r--r-- 1 abea users  1.2G Jul 15 15:41 CRISPRai-DDRi-screens/fastq/A549_CRISPRi_PiRi_rep1.fastq.gz\n",
      "-rw-r--r-- 1 abea users  596M Jul 15 15:42 CRISPRai-DDRi-screens/fastq/A549_CRISPRi_PiRi_rep2.fastq.gz\n",
      "-rw-r--r-- 1 abea users  1.4G Jul 15 15:41 CRISPRai-DDRi-screens/fastq/A549_CRISPRi_PiWi_rep1.fastq.gz\n",
      "-rw-r--r-- 1 abea users  965M Jul 15 15:42 CRISPRai-DDRi-screens/fastq/A549_CRISPRi_PiWi_rep2.fastq.gz\n",
      "-rw-r--r-- 1 abea users  1.5G Jul 15 15:41 CRISPRai-DDRi-screens/fastq/A549_CRISPRi_Ri_rep1.fastq.gz\n",
      "-rw-r--r-- 1 abea users 1015M Jul 15 15:42 CRISPRai-DDRi-screens/fastq/A549_CRISPRi_Ri_rep2.fastq.gz\n",
      "-rw-r--r-- 1 abea users  1.3G Jul 15 15:41 CRISPRai-DDRi-screens/fastq/A549_CRISPRi_T0_rep1.fastq.gz\n",
      "-rw-r--r-- 1 abea users  877M Jul 15 15:42 CRISPRai-DDRi-screens/fastq/A549_CRISPRi_T0_rep2.fastq.gz\n",
      "-rw-r--r-- 1 abea users  2.5G Jul 15 15:41 CRISPRai-DDRi-screens/fastq/A549_CRISPRi_Wi_rep1.fastq.gz\n",
      "-rw-r--r-- 1 abea users  881M Jul 15 15:42 CRISPRai-DDRi-screens/fastq/A549_CRISPRi_Wi_rep2.fastq.gz\n"
     ]
    }
   ],
   "source": [
    "ls -lh CRISPRai-DDRi-screens/fastq/A549_CRISPRi*"
   ]
  },
  {
   "cell_type": "markdown",
   "metadata": {},
   "source": [
    "### "
   ]
  },
  {
   "cell_type": "code",
   "execution_count": 5,
   "metadata": {},
   "outputs": [
    {
     "name": "stdout",
     "output_type": "stream",
     "text": [
      "204559804\n"
     ]
    }
   ],
   "source": [
    "!zcat CRISPRai-DDRi-screens/fastq/A549_CRISPRi_PiWi_rep1.fastq.gz | wc -l"
   ]
  },
  {
   "cell_type": "code",
   "execution_count": 6,
   "metadata": {},
   "outputs": [
    {
     "name": "stdout",
     "output_type": "stream",
     "text": [
      "+\n",
      "AAFFFJJJJJJJJJJJJJJJJJJJJJJJJJJJJJJJJJJJJJJJJJJJJJJJJJJJJJJJJJJJJF\n",
      "@K00153:818:HNKTMBBXX:7:2228:3528:48403 1:N:0:GAGTGG\n",
      "GCGCAGAGGTGGGAGAGCGGGTTTAAGAGCTAAGCTGGAAACAGCATAGCAAGTTTAAATAAGGCT\n",
      "+\n",
      "AAFFFJJJJJJJJJJJJJJJJAFFJJJJJJJJJJJJJJJJJJJJJJJJJJJJJJJJJJJJJJJJJJ\n",
      "@K00153:818:HNKTMBBXX:7:2228:3813:48403 1:N:0:GAGTGG\n",
      "GGGAGCGCACCAGGCCTTCGGTTTAAGAGCTAAGCTGGAAACAGCATAGCAAGTTTAAATAAGGCT\n",
      "+\n",
      "<<AFAJFJJJJJJFJJJJJAAJFFFJFF7<-AFJFJ77AJJJFAFJJFJFFA77F<JJFJFFJJFJ\n"
     ]
    }
   ],
   "source": [
    "!zcat CRISPRai-DDRi-screens/fastq/A549_CRISPRi_PiWi_rep1.fastq.gz | tail"
   ]
  },
  {
   "cell_type": "code",
   "execution_count": 14,
   "metadata": {},
   "outputs": [
    {
     "data": {
      "text/plain": [
       "'GTTTAAGAGCTAAGCTGGAAACAGCATAGCAAGTTTAAATAAGGCT'"
      ]
     },
     "execution_count": 14,
     "metadata": {},
     "output_type": "execute_result"
    }
   ],
   "source": [
    "'GCGCAGAGGTGGGAGAGCGGGTTTAAGAGCTAAGCTGGAAACAGCATAGCAAGTTTAAATAAGGCT'[20:]"
   ]
  },
  {
   "cell_type": "code",
   "execution_count": 13,
   "metadata": {},
   "outputs": [
    {
     "data": {
      "text/plain": [
       "'GTTTAAGAGCTAAGCTGGAAACAGCATAGCAAGTTTAAATAAGGCT'"
      ]
     },
     "execution_count": 13,
     "metadata": {},
     "output_type": "execute_result"
    }
   ],
   "source": [
    "'GGGAGCGCACCAGGCCTTCGGTTTAAGAGCTAAGCTGGAAACAGCATAGCAAGTTTAAATAAGGCT'[20:]"
   ]
  },
  {
   "cell_type": "code",
   "execution_count": null,
   "metadata": {},
   "outputs": [],
   "source": []
  },
  {
   "cell_type": "code",
   "execution_count": 8,
   "metadata": {},
   "outputs": [
    {
     "name": "stdout",
     "output_type": "stream",
     "text": [
      "+\n",
      "AAFFFJJJJJJJJJJJJJJJJJJJJJJJJJJJJJJJJJJJJJJJJJJJJJJJJJJJJJJJJJJJJJ\n",
      "@K00153:818:HNKTMBBXX:7:2228:3589:48403 1:N:0:TTAGGC\n",
      "GGAAGAGGCAGAGTTGGCAAGTTTAAGAGCTAAGCTGGAAACAGCATAGCAAGTTTAAATAAGGCT\n",
      "+\n",
      "AAFFFJJJJJJJJJJJJJJJJJJJJJJJJJJJJJJJJJJJJJJJJJJJJJJJJJJJJJJJJJJJJJ\n",
      "@K00153:818:HNKTMBBXX:7:2228:4320:48403 1:N:0:TTAGGC\n",
      "GCAGTCCCAAGTCGAGTCCAGTTTAAGAGCTAAGCTGGAAACAGCATAGCAAGTTTAAATAAGGCT\n",
      "+\n",
      "AAFFFJJJJJJJJJJJJJJJJJJJJJJJJJJJJJJJJJJJJJJJJJJJJJJJJJJJJJJJJJJJJJ\n"
     ]
    }
   ],
   "source": [
    "!zcat CRISPRai-DDRi-screens/fastq/A549_CRISPRi_Wi_rep1.fastq.gz | tail"
   ]
  },
  {
   "cell_type": "code",
   "execution_count": null,
   "metadata": {},
   "outputs": [],
   "source": []
  },
  {
   "cell_type": "code",
   "execution_count": null,
   "metadata": {},
   "outputs": [],
   "source": []
  },
  {
   "cell_type": "code",
   "execution_count": null,
   "metadata": {},
   "outputs": [],
   "source": []
  },
  {
   "cell_type": "code",
   "execution_count": null,
   "metadata": {},
   "outputs": [],
   "source": []
  },
  {
   "cell_type": "code",
   "execution_count": null,
   "metadata": {},
   "outputs": [],
   "source": []
  },
  {
   "cell_type": "code",
   "execution_count": null,
   "metadata": {},
   "outputs": [],
   "source": []
  },
  {
   "cell_type": "code",
   "execution_count": null,
   "metadata": {},
   "outputs": [],
   "source": []
  }
 ],
 "metadata": {
  "kernelspec": {
   "display_name": "Python [conda env:scez]",
   "language": "python",
   "name": "conda-env-scez-py"
  },
  "language_info": {
   "codemirror_mode": {
    "name": "ipython",
    "version": 3
   },
   "file_extension": ".py",
   "mimetype": "text/x-python",
   "name": "python",
   "nbconvert_exporter": "python",
   "pygments_lexer": "ipython3",
   "version": "3.11.5"
  },
  "widgets": {
   "application/vnd.jupyter.widget-state+json": {
    "state": {},
    "version_major": 2,
    "version_minor": 0
   }
  }
 },
 "nbformat": 4,
 "nbformat_minor": 4
}
