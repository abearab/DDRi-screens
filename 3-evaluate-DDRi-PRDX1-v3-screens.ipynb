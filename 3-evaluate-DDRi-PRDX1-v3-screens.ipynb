{
 "cells": [
  {
   "cell_type": "markdown",
   "metadata": {},
   "source": [
    "**Aims:** Extract results from the CRISPRi screen processing outputs and generate plots for the manuscript.\n",
    "\n",
    "- [x] PCA plot of CRISPRi screen rho results\n",
    "- [ ] ..."
   ]
  },
  {
   "cell_type": "markdown",
   "metadata": {},
   "source": [
    "### Setup python session"
   ]
  },
  {
   "cell_type": "code",
   "execution_count": 1,
   "metadata": {},
   "outputs": [],
   "source": [
    "# !pip uninstall -y screenpro2\n",
    "# !pip install git+https://github.com/ArcInstitute/screenpro2.git@dev\n",
    "# # !pip install ScreenPro2"
   ]
  },
  {
   "cell_type": "code",
   "execution_count": 2,
   "metadata": {},
   "outputs": [],
   "source": [
    "from glob import glob\n",
    "\n",
    "import numpy as np\n",
    "import pandas as pd \n",
    "import anndata as ad\n",
    "import scanpy as sc\n",
    "\n",
    "import screenpro as scp\n",
    "import blitzgsea as blitz\n",
    "\n",
    "import matplotlib.pyplot as plt\n",
    "\n",
    "sc.settings.set_figure_params(\n",
    "    dpi=150, format='svg', frameon=False, figsize=(3, 3), color_map='RdGy', \n",
    "    facecolor='white', \n",
    "    vector_friendly=True\n",
    ")"
   ]
  },
  {
   "cell_type": "code",
   "execution_count": 3,
   "metadata": {},
   "outputs": [],
   "source": [
    "import datetime\n",
    "\n",
    "import matplotlib\n",
    "import matplotlib.ticker as ticker\n",
    "\n",
    "from matplotlib.backends.backend_pdf import PdfPages\n",
    "from matplotlib import font_manager as fm\n",
    "from matplotlib import rcParams, rc_context\n",
    "\n",
    "from screenpro.plotting._utils import almost_black, dark2\n",
    "\n",
    "\n",
    "matplotlib.use('cairo')\n",
    "\n",
    "font_files = fm.findSystemFonts(fontpaths='/home/abea/miniconda3/envs/screenpro2/fonts/', fontext='ttf')\n",
    "\n",
    "for font_file in font_files:\n",
    "    fm.fontManager.addfont(font_file)\n",
    "\n",
    "\n",
    "# {f.name for f in matplotlib.font_manager.fontManager.ttflist}\n",
    "\n",
    "rcParams['font.sans-serif'] = 'Helvetica'\n",
    "rcParams['font.family'] = ['Helvetica']\n",
    "rcParams['figure.dpi'] = 140\n",
    "\n",
    "rcParams['pdf.fonttype'] = 42\n",
    "rcParams['ps.fonttype'] = 42"
   ]
  },
  {
   "cell_type": "code",
   "execution_count": 4,
   "metadata": {},
   "outputs": [],
   "source": [
    "drug_names = {\n",
    "    'Pi': 'PARPi',\n",
    "    'Ri': 'ATRi',\n",
    "    'Wi': 'WEE1i',\n",
    "    'Mi': 'ATMi',\n",
    "    'Ki': 'DNAPKi',\n",
    "    'PiRi': 'PARPi+ATRi',\n",
    "    'PiWi': 'PARPi+WEE1i',\n",
    "    'PiMi': 'PARPi+ATMi',\n",
    "    'PiKi': 'PARPi+DNAPKi'\n",
    "}"
   ]
  },
  {
   "cell_type": "code",
   "execution_count": 14,
   "metadata": {},
   "outputs": [],
   "source": [
    "### extract result tables from screen object\n",
    "def extract_result_tables(screen):\n",
    "    result_tables = []\n",
    "\n",
    "    for phenotype_name in screen.listPhenotypeScores(run_name='compare_guides'):\n",
    "        if 'rho' in phenotype_name:\n",
    "            result_tables.append((phenotype_name,\n",
    "                screen.getPhenotypeScores(\n",
    "                    run_name='compare_guides', phenotype_name=phenotype_name,\n",
    "                    pvalue_col = 'ttest pvalue',\n",
    "                    threshold=6\n",
    "                ).query('target!=\"negative_control\"').set_index(['target','transcript'])\n",
    "            ))\n",
    "        \n",
    "    result_tables = dict(result_tables)\n",
    "\n",
    "    return result_tables\n",
    "\n",
    "\n",
    "### get result tables: gene level scores with out negative controls\n",
    "def getAnnotatedTables(screen, run_name, threshold):\n",
    "    return dict([\n",
    "        (phenotype_name, \n",
    "         screen.getPhenotypeScores(\n",
    "             run_name=run_name,phenotype_name=phenotype_name,threshold=threshold, pvalue_col='ttest pvalue'\n",
    "         ).query('target!=\"negative_control\"').set_index(['target','transcript']))\n",
    "        for phenotype_name in screen.listPhenotypeScores(run_name=run_name)\n",
    "    ])\n",
    "\n",
    "\n",
    "### get annotated result table: rho scores\n",
    "def get_annotated_result_table(screen, run_name, threshold=6):\n",
    "    return pd.concat(dict([\n",
    "        (drug_names[k.split(':')[1].split('_vs_')[0]],table) for k, table in \n",
    "        getAnnotatedTables(screen,threshold=threshold,run_name=run_name).items()\n",
    "        if 'rho' in k\n",
    "    ]),axis=1).dropna()"
   ]
  },
  {
   "cell_type": "code",
   "execution_count": 7,
   "metadata": {},
   "outputs": [],
   "source": [
    "### pathway analysis\n",
    "pager_dir = \"/home/abea/tools/pager/\"\n",
    "pager_annotation_path = '/home/abea/tools/pager/annotations/human'\n",
    "\n",
    "c5_gobp_gmt = blitz.enrichr.read_gmt(\n",
    "    f'{pager_annotation_path}/msigdb_v7.4_c5.go.bp/c5.go.bp.v7.4.symbols.gmt'\n",
    ")\n",
    "\n",
    "\n",
    "def run_rho_gsea_directional(df,var_col,gmt,min_size=15,max_size=150):\n",
    "    signature = df[var_col].reset_index().drop(columns='transcript').copy()\n",
    "\n",
    "    result = blitz.gsea(\n",
    "        signature=signature,\n",
    "        library=gmt,\n",
    "        min_size=min_size,\n",
    "        max_size=max_size,\n",
    "        verbose=True\n",
    "    )\n",
    "    \n",
    "    return signature, result"
   ]
  },
  {
   "cell_type": "markdown",
   "metadata": {},
   "source": [
    "___"
   ]
  },
  {
   "cell_type": "markdown",
   "metadata": {},
   "source": [
    "### Load Data\n",
    "Load Screen Processing guide level and gene level result tables."
   ]
  },
  {
   "cell_type": "code",
   "execution_count": 8,
   "metadata": {},
   "outputs": [],
   "source": [
    "crispri_v3_screen = scp.load._read_screen_pkl('screens/A549_PRDX1_CRISPRi_v3_screens')"
   ]
  },
  {
   "cell_type": "code",
   "execution_count": 15,
   "metadata": {},
   "outputs": [
    {
     "data": {
      "text/plain": [
       "dict_keys(['compare_reps_parent', 'compare_reps_PRDX1KO', 'compare_reps_vehicle'])"
      ]
     },
     "execution_count": 15,
     "metadata": {},
     "output_type": "execute_result"
    }
   ],
   "source": [
    "crispri_v3_screen.phenotypes.keys()"
   ]
  },
  {
   "cell_type": "code",
   "execution_count": 19,
   "metadata": {},
   "outputs": [
    {
     "data": {
      "text/html": [
       "<div>\n",
       "<style scoped>\n",
       "    .dataframe tbody tr th:only-of-type {\n",
       "        vertical-align: middle;\n",
       "    }\n",
       "\n",
       "    .dataframe tbody tr th {\n",
       "        vertical-align: top;\n",
       "    }\n",
       "\n",
       "    .dataframe thead th {\n",
       "        text-align: right;\n",
       "    }\n",
       "</style>\n",
       "<table border=\"1\" class=\"dataframe\">\n",
       "  <thead>\n",
       "    <tr style=\"text-align: right;\">\n",
       "      <th></th>\n",
       "      <th>sgID_A</th>\n",
       "      <th>sgID_B</th>\n",
       "      <th>target_A</th>\n",
       "      <th>protospacer_A</th>\n",
       "      <th>target_B</th>\n",
       "      <th>protospacer_B</th>\n",
       "      <th>targetType</th>\n",
       "      <th>target</th>\n",
       "      <th>sequence</th>\n",
       "    </tr>\n",
       "  </thead>\n",
       "  <tbody>\n",
       "    <tr>\n",
       "      <th>A1BG_+_58858964.23-P1|A1BG_-_58858788.23-P1</th>\n",
       "      <td>A1BG_+_58858964.23-P1</td>\n",
       "      <td>A1BG_-_58858788.23-P1</td>\n",
       "      <td>A1BG</td>\n",
       "      <td>CTCCGGGCGACGTGGAGTG</td>\n",
       "      <td>A1BG</td>\n",
       "      <td>GGGCACCCAGGAGCGGTAG</td>\n",
       "      <td>gene</td>\n",
       "      <td>A1BG</td>\n",
       "      <td>CTCCGGGCGACGTGGAGTG;GGGCACCCAGGAGCGGTAG</td>\n",
       "    </tr>\n",
       "    <tr>\n",
       "      <th>A1BG_-_58858991.23-P1|A1BG_-_58858950.23-P1</th>\n",
       "      <td>A1BG_-_58858991.23-P1</td>\n",
       "      <td>A1BG_-_58858950.23-P1</td>\n",
       "      <td>A1BG</td>\n",
       "      <td>TCCACGTCGCCCGGAGCTG</td>\n",
       "      <td>A1BG</td>\n",
       "      <td>GCAGCGCAGGACGGCATCT</td>\n",
       "      <td>gene</td>\n",
       "      <td>A1BG</td>\n",
       "      <td>TCCACGTCGCCCGGAGCTG;GCAGCGCAGGACGGCATCT</td>\n",
       "    </tr>\n",
       "    <tr>\n",
       "      <th>A1BG_-_58858915.23-P1|A1BG_-_58858922.23-P1</th>\n",
       "      <td>A1BG_-_58858915.23-P1</td>\n",
       "      <td>A1BG_-_58858922.23-P1</td>\n",
       "      <td>A1BG</td>\n",
       "      <td>AGCAGCTCGAAGGTGACGT</td>\n",
       "      <td>A1BG</td>\n",
       "      <td>CGAAGGTGACGTCGGGGAT</td>\n",
       "      <td>gene</td>\n",
       "      <td>A1BG</td>\n",
       "      <td>AGCAGCTCGAAGGTGACGT;CGAAGGTGACGTCGGGGAT</td>\n",
       "    </tr>\n",
       "    <tr>\n",
       "      <th>A1BG_-_58864840.23-P2|A1BG_-_58864822.23-P2</th>\n",
       "      <td>A1BG_-_58864840.23-P2</td>\n",
       "      <td>A1BG_-_58864822.23-P2</td>\n",
       "      <td>A1BG</td>\n",
       "      <td>CCGGTGCAGTGAGTGTCTG</td>\n",
       "      <td>A1BG</td>\n",
       "      <td>ATGATGGTCGCGCTCACTC</td>\n",
       "      <td>gene</td>\n",
       "      <td>A1BG</td>\n",
       "      <td>CCGGTGCAGTGAGTGTCTG;ATGATGGTCGCGCTCACTC</td>\n",
       "    </tr>\n",
       "    <tr>\n",
       "      <th>A1BG_+_58864705.23-P2|A1BG_+_58864644.23-P2</th>\n",
       "      <td>A1BG_+_58864705.23-P2</td>\n",
       "      <td>A1BG_+_58864644.23-P2</td>\n",
       "      <td>A1BG</td>\n",
       "      <td>GGGAACAGGAGCCTTACGG</td>\n",
       "      <td>A1BG</td>\n",
       "      <td>CAGCCATATGTGAGTGCAG</td>\n",
       "      <td>gene</td>\n",
       "      <td>A1BG</td>\n",
       "      <td>GGGAACAGGAGCCTTACGG;CAGCCATATGTGAGTGCAG</td>\n",
       "    </tr>\n",
       "    <tr>\n",
       "      <th>...</th>\n",
       "      <td>...</td>\n",
       "      <td>...</td>\n",
       "      <td>...</td>\n",
       "      <td>...</td>\n",
       "      <td>...</td>\n",
       "      <td>...</td>\n",
       "      <td>...</td>\n",
       "      <td>...</td>\n",
       "      <td>...</td>\n",
       "    </tr>\n",
       "    <tr>\n",
       "      <th>non-targeting_03783|non-targeting_02098</th>\n",
       "      <td>non-targeting_03783</td>\n",
       "      <td>non-targeting_02098</td>\n",
       "      <td>negative_control</td>\n",
       "      <td>GAGCTAGGATCGAACGACA</td>\n",
       "      <td>negative_control</td>\n",
       "      <td>ATCAAAATCGACGCGTCTA</td>\n",
       "      <td>negative_control</td>\n",
       "      <td>negative_control</td>\n",
       "      <td>GAGCTAGGATCGAACGACA;ATCAAAATCGACGCGTCTA</td>\n",
       "    </tr>\n",
       "    <tr>\n",
       "      <th>non-targeting_03785|non-targeting_00377</th>\n",
       "      <td>non-targeting_03785</td>\n",
       "      <td>non-targeting_00377</td>\n",
       "      <td>negative_control</td>\n",
       "      <td>CTACTCCGCCCCGCGGGAG</td>\n",
       "      <td>negative_control</td>\n",
       "      <td>GTAGTGCGCTTCCCCGAAG</td>\n",
       "      <td>negative_control</td>\n",
       "      <td>negative_control</td>\n",
       "      <td>CTACTCCGCCCCGCGGGAG;GTAGTGCGCTTCCCCGAAG</td>\n",
       "    </tr>\n",
       "    <tr>\n",
       "      <th>non-targeting_03786|non-targeting_00360</th>\n",
       "      <td>non-targeting_03786</td>\n",
       "      <td>non-targeting_00360</td>\n",
       "      <td>negative_control</td>\n",
       "      <td>TGGCCGTTCATGGGACCGG</td>\n",
       "      <td>negative_control</td>\n",
       "      <td>TCGAGGACGCACCCCATAA</td>\n",
       "      <td>negative_control</td>\n",
       "      <td>negative_control</td>\n",
       "      <td>TGGCCGTTCATGGGACCGG;TCGAGGACGCACCCCATAA</td>\n",
       "    </tr>\n",
       "    <tr>\n",
       "      <th>non-targeting_03786|non-targeting_02100</th>\n",
       "      <td>non-targeting_03786</td>\n",
       "      <td>non-targeting_02100</td>\n",
       "      <td>negative_control</td>\n",
       "      <td>TGGCCGTTCATGGGACCGG</td>\n",
       "      <td>negative_control</td>\n",
       "      <td>CGGGGGCCACGGCGGTAAG</td>\n",
       "      <td>negative_control</td>\n",
       "      <td>negative_control</td>\n",
       "      <td>TGGCCGTTCATGGGACCGG;CGGGGGCCACGGCGGTAAG</td>\n",
       "    </tr>\n",
       "    <tr>\n",
       "      <th>non-targeting_03787|non-targeting_00777</th>\n",
       "      <td>non-targeting_03787</td>\n",
       "      <td>non-targeting_00777</td>\n",
       "      <td>negative_control</td>\n",
       "      <td>AACTCTGTAGAAGGGACCG</td>\n",
       "      <td>negative_control</td>\n",
       "      <td>GCTCGTTGGACAAACGTAG</td>\n",
       "      <td>negative_control</td>\n",
       "      <td>negative_control</td>\n",
       "      <td>AACTCTGTAGAAGGGACCG;GCTCGTTGGACAAACGTAG</td>\n",
       "    </tr>\n",
       "  </tbody>\n",
       "</table>\n",
       "<p>64237 rows × 9 columns</p>\n",
       "</div>"
      ],
      "text/plain": [
       "                                                            sgID_A  \\\n",
       "A1BG_+_58858964.23-P1|A1BG_-_58858788.23-P1  A1BG_+_58858964.23-P1   \n",
       "A1BG_-_58858991.23-P1|A1BG_-_58858950.23-P1  A1BG_-_58858991.23-P1   \n",
       "A1BG_-_58858915.23-P1|A1BG_-_58858922.23-P1  A1BG_-_58858915.23-P1   \n",
       "A1BG_-_58864840.23-P2|A1BG_-_58864822.23-P2  A1BG_-_58864840.23-P2   \n",
       "A1BG_+_58864705.23-P2|A1BG_+_58864644.23-P2  A1BG_+_58864705.23-P2   \n",
       "...                                                            ...   \n",
       "non-targeting_03783|non-targeting_02098        non-targeting_03783   \n",
       "non-targeting_03785|non-targeting_00377        non-targeting_03785   \n",
       "non-targeting_03786|non-targeting_00360        non-targeting_03786   \n",
       "non-targeting_03786|non-targeting_02100        non-targeting_03786   \n",
       "non-targeting_03787|non-targeting_00777        non-targeting_03787   \n",
       "\n",
       "                                                            sgID_B  \\\n",
       "A1BG_+_58858964.23-P1|A1BG_-_58858788.23-P1  A1BG_-_58858788.23-P1   \n",
       "A1BG_-_58858991.23-P1|A1BG_-_58858950.23-P1  A1BG_-_58858950.23-P1   \n",
       "A1BG_-_58858915.23-P1|A1BG_-_58858922.23-P1  A1BG_-_58858922.23-P1   \n",
       "A1BG_-_58864840.23-P2|A1BG_-_58864822.23-P2  A1BG_-_58864822.23-P2   \n",
       "A1BG_+_58864705.23-P2|A1BG_+_58864644.23-P2  A1BG_+_58864644.23-P2   \n",
       "...                                                            ...   \n",
       "non-targeting_03783|non-targeting_02098        non-targeting_02098   \n",
       "non-targeting_03785|non-targeting_00377        non-targeting_00377   \n",
       "non-targeting_03786|non-targeting_00360        non-targeting_00360   \n",
       "non-targeting_03786|non-targeting_02100        non-targeting_02100   \n",
       "non-targeting_03787|non-targeting_00777        non-targeting_00777   \n",
       "\n",
       "                                                     target_A  \\\n",
       "A1BG_+_58858964.23-P1|A1BG_-_58858788.23-P1              A1BG   \n",
       "A1BG_-_58858991.23-P1|A1BG_-_58858950.23-P1              A1BG   \n",
       "A1BG_-_58858915.23-P1|A1BG_-_58858922.23-P1              A1BG   \n",
       "A1BG_-_58864840.23-P2|A1BG_-_58864822.23-P2              A1BG   \n",
       "A1BG_+_58864705.23-P2|A1BG_+_58864644.23-P2              A1BG   \n",
       "...                                                       ...   \n",
       "non-targeting_03783|non-targeting_02098      negative_control   \n",
       "non-targeting_03785|non-targeting_00377      negative_control   \n",
       "non-targeting_03786|non-targeting_00360      negative_control   \n",
       "non-targeting_03786|non-targeting_02100      negative_control   \n",
       "non-targeting_03787|non-targeting_00777      negative_control   \n",
       "\n",
       "                                                   protospacer_A  \\\n",
       "A1BG_+_58858964.23-P1|A1BG_-_58858788.23-P1  CTCCGGGCGACGTGGAGTG   \n",
       "A1BG_-_58858991.23-P1|A1BG_-_58858950.23-P1  TCCACGTCGCCCGGAGCTG   \n",
       "A1BG_-_58858915.23-P1|A1BG_-_58858922.23-P1  AGCAGCTCGAAGGTGACGT   \n",
       "A1BG_-_58864840.23-P2|A1BG_-_58864822.23-P2  CCGGTGCAGTGAGTGTCTG   \n",
       "A1BG_+_58864705.23-P2|A1BG_+_58864644.23-P2  GGGAACAGGAGCCTTACGG   \n",
       "...                                                          ...   \n",
       "non-targeting_03783|non-targeting_02098      GAGCTAGGATCGAACGACA   \n",
       "non-targeting_03785|non-targeting_00377      CTACTCCGCCCCGCGGGAG   \n",
       "non-targeting_03786|non-targeting_00360      TGGCCGTTCATGGGACCGG   \n",
       "non-targeting_03786|non-targeting_02100      TGGCCGTTCATGGGACCGG   \n",
       "non-targeting_03787|non-targeting_00777      AACTCTGTAGAAGGGACCG   \n",
       "\n",
       "                                                     target_B  \\\n",
       "A1BG_+_58858964.23-P1|A1BG_-_58858788.23-P1              A1BG   \n",
       "A1BG_-_58858991.23-P1|A1BG_-_58858950.23-P1              A1BG   \n",
       "A1BG_-_58858915.23-P1|A1BG_-_58858922.23-P1              A1BG   \n",
       "A1BG_-_58864840.23-P2|A1BG_-_58864822.23-P2              A1BG   \n",
       "A1BG_+_58864705.23-P2|A1BG_+_58864644.23-P2              A1BG   \n",
       "...                                                       ...   \n",
       "non-targeting_03783|non-targeting_02098      negative_control   \n",
       "non-targeting_03785|non-targeting_00377      negative_control   \n",
       "non-targeting_03786|non-targeting_00360      negative_control   \n",
       "non-targeting_03786|non-targeting_02100      negative_control   \n",
       "non-targeting_03787|non-targeting_00777      negative_control   \n",
       "\n",
       "                                                   protospacer_B  \\\n",
       "A1BG_+_58858964.23-P1|A1BG_-_58858788.23-P1  GGGCACCCAGGAGCGGTAG   \n",
       "A1BG_-_58858991.23-P1|A1BG_-_58858950.23-P1  GCAGCGCAGGACGGCATCT   \n",
       "A1BG_-_58858915.23-P1|A1BG_-_58858922.23-P1  CGAAGGTGACGTCGGGGAT   \n",
       "A1BG_-_58864840.23-P2|A1BG_-_58864822.23-P2  ATGATGGTCGCGCTCACTC   \n",
       "A1BG_+_58864705.23-P2|A1BG_+_58864644.23-P2  CAGCCATATGTGAGTGCAG   \n",
       "...                                                          ...   \n",
       "non-targeting_03783|non-targeting_02098      ATCAAAATCGACGCGTCTA   \n",
       "non-targeting_03785|non-targeting_00377      GTAGTGCGCTTCCCCGAAG   \n",
       "non-targeting_03786|non-targeting_00360      TCGAGGACGCACCCCATAA   \n",
       "non-targeting_03786|non-targeting_02100      CGGGGGCCACGGCGGTAAG   \n",
       "non-targeting_03787|non-targeting_00777      GCTCGTTGGACAAACGTAG   \n",
       "\n",
       "                                                   targetType  \\\n",
       "A1BG_+_58858964.23-P1|A1BG_-_58858788.23-P1              gene   \n",
       "A1BG_-_58858991.23-P1|A1BG_-_58858950.23-P1              gene   \n",
       "A1BG_-_58858915.23-P1|A1BG_-_58858922.23-P1              gene   \n",
       "A1BG_-_58864840.23-P2|A1BG_-_58864822.23-P2              gene   \n",
       "A1BG_+_58864705.23-P2|A1BG_+_58864644.23-P2              gene   \n",
       "...                                                       ...   \n",
       "non-targeting_03783|non-targeting_02098      negative_control   \n",
       "non-targeting_03785|non-targeting_00377      negative_control   \n",
       "non-targeting_03786|non-targeting_00360      negative_control   \n",
       "non-targeting_03786|non-targeting_02100      negative_control   \n",
       "non-targeting_03787|non-targeting_00777      negative_control   \n",
       "\n",
       "                                                       target  \\\n",
       "A1BG_+_58858964.23-P1|A1BG_-_58858788.23-P1              A1BG   \n",
       "A1BG_-_58858991.23-P1|A1BG_-_58858950.23-P1              A1BG   \n",
       "A1BG_-_58858915.23-P1|A1BG_-_58858922.23-P1              A1BG   \n",
       "A1BG_-_58864840.23-P2|A1BG_-_58864822.23-P2              A1BG   \n",
       "A1BG_+_58864705.23-P2|A1BG_+_58864644.23-P2              A1BG   \n",
       "...                                                       ...   \n",
       "non-targeting_03783|non-targeting_02098      negative_control   \n",
       "non-targeting_03785|non-targeting_00377      negative_control   \n",
       "non-targeting_03786|non-targeting_00360      negative_control   \n",
       "non-targeting_03786|non-targeting_02100      negative_control   \n",
       "non-targeting_03787|non-targeting_00777      negative_control   \n",
       "\n",
       "                                                                            sequence  \n",
       "A1BG_+_58858964.23-P1|A1BG_-_58858788.23-P1  CTCCGGGCGACGTGGAGTG;GGGCACCCAGGAGCGGTAG  \n",
       "A1BG_-_58858991.23-P1|A1BG_-_58858950.23-P1  TCCACGTCGCCCGGAGCTG;GCAGCGCAGGACGGCATCT  \n",
       "A1BG_-_58858915.23-P1|A1BG_-_58858922.23-P1  AGCAGCTCGAAGGTGACGT;CGAAGGTGACGTCGGGGAT  \n",
       "A1BG_-_58864840.23-P2|A1BG_-_58864822.23-P2  CCGGTGCAGTGAGTGTCTG;ATGATGGTCGCGCTCACTC  \n",
       "A1BG_+_58864705.23-P2|A1BG_+_58864644.23-P2  GGGAACAGGAGCCTTACGG;CAGCCATATGTGAGTGCAG  \n",
       "...                                                                              ...  \n",
       "non-targeting_03783|non-targeting_02098      GAGCTAGGATCGAACGACA;ATCAAAATCGACGCGTCTA  \n",
       "non-targeting_03785|non-targeting_00377      CTACTCCGCCCCGCGGGAG;GTAGTGCGCTTCCCCGAAG  \n",
       "non-targeting_03786|non-targeting_00360      TGGCCGTTCATGGGACCGG;TCGAGGACGCACCCCATAA  \n",
       "non-targeting_03786|non-targeting_02100      TGGCCGTTCATGGGACCGG;CGGGGGCCACGGCGGTAAG  \n",
       "non-targeting_03787|non-targeting_00777      AACTCTGTAGAAGGGACCG;GCTCGTTGGACAAACGTAG  \n",
       "\n",
       "[64237 rows x 9 columns]"
      ]
     },
     "execution_count": 19,
     "metadata": {},
     "output_type": "execute_result"
    }
   ],
   "source": [
    "crispri_v3_screen.adata.var"
   ]
  },
  {
   "cell_type": "code",
   "execution_count": 16,
   "metadata": {},
   "outputs": [
    {
     "ename": "KeyError",
     "evalue": "\"None of ['transcript'] are in the columns\"",
     "output_type": "error",
     "traceback": [
      "\u001b[0;31m---------------------------------------------------------------------------\u001b[0m",
      "\u001b[0;31mKeyError\u001b[0m                                  Traceback (most recent call last)",
      "\u001b[0;32m/tmp/ipykernel_1111017/1273026659.py\u001b[0m in \u001b[0;36m?\u001b[0;34m()\u001b[0m\n\u001b[0;32m----> 1\u001b[0;31m \u001b[0mget_annotated_result_table\u001b[0m\u001b[0;34m(\u001b[0m\u001b[0mcrispri_v3_screen\u001b[0m\u001b[0;34m,\u001b[0m\u001b[0mrun_name\u001b[0m\u001b[0;34m=\u001b[0m\u001b[0;34m'compare_reps_parent'\u001b[0m\u001b[0;34m)\u001b[0m\u001b[0;34m\u001b[0m\u001b[0;34m\u001b[0m\u001b[0m\n\u001b[0m",
      "\u001b[0;32m/tmp/ipykernel_1111017/4133788011.py\u001b[0m in \u001b[0;36m?\u001b[0;34m(screen, run_name, threshold)\u001b[0m\n\u001b[1;32m     32\u001b[0m \u001b[0;32mdef\u001b[0m \u001b[0mget_annotated_result_table\u001b[0m\u001b[0;34m(\u001b[0m\u001b[0mscreen\u001b[0m\u001b[0;34m,\u001b[0m \u001b[0mrun_name\u001b[0m\u001b[0;34m,\u001b[0m \u001b[0mthreshold\u001b[0m\u001b[0;34m=\u001b[0m\u001b[0;36m6\u001b[0m\u001b[0;34m)\u001b[0m\u001b[0;34m:\u001b[0m\u001b[0;34m\u001b[0m\u001b[0;34m\u001b[0m\u001b[0m\n\u001b[1;32m     33\u001b[0m     return pd.concat(dict([\n\u001b[1;32m     34\u001b[0m         \u001b[0;34m(\u001b[0m\u001b[0mdrug_names\u001b[0m\u001b[0;34m[\u001b[0m\u001b[0mk\u001b[0m\u001b[0;34m.\u001b[0m\u001b[0msplit\u001b[0m\u001b[0;34m(\u001b[0m\u001b[0;34m':'\u001b[0m\u001b[0;34m)\u001b[0m\u001b[0;34m[\u001b[0m\u001b[0;36m1\u001b[0m\u001b[0;34m]\u001b[0m\u001b[0;34m.\u001b[0m\u001b[0msplit\u001b[0m\u001b[0;34m(\u001b[0m\u001b[0;34m'_vs_'\u001b[0m\u001b[0;34m)\u001b[0m\u001b[0;34m[\u001b[0m\u001b[0;36m0\u001b[0m\u001b[0;34m]\u001b[0m\u001b[0;34m]\u001b[0m\u001b[0;34m,\u001b[0m\u001b[0mtable\u001b[0m\u001b[0;34m)\u001b[0m \u001b[0;32mfor\u001b[0m \u001b[0mk\u001b[0m\u001b[0;34m,\u001b[0m \u001b[0mtable\u001b[0m \u001b[0;32min\u001b[0m\u001b[0;34m\u001b[0m\u001b[0;34m\u001b[0m\u001b[0m\n\u001b[0;32m---> 35\u001b[0;31m         \u001b[0mgetAnnotatedTables\u001b[0m\u001b[0;34m(\u001b[0m\u001b[0mscreen\u001b[0m\u001b[0;34m,\u001b[0m\u001b[0mthreshold\u001b[0m\u001b[0;34m=\u001b[0m\u001b[0mthreshold\u001b[0m\u001b[0;34m,\u001b[0m\u001b[0mrun_name\u001b[0m\u001b[0;34m=\u001b[0m\u001b[0mrun_name\u001b[0m\u001b[0;34m)\u001b[0m\u001b[0;34m.\u001b[0m\u001b[0mitems\u001b[0m\u001b[0;34m(\u001b[0m\u001b[0;34m)\u001b[0m\u001b[0;34m\u001b[0m\u001b[0;34m\u001b[0m\u001b[0m\n\u001b[0m\u001b[1;32m     36\u001b[0m         \u001b[0;32mif\u001b[0m \u001b[0;34m'rho'\u001b[0m \u001b[0;32min\u001b[0m \u001b[0mk\u001b[0m\u001b[0;34m\u001b[0m\u001b[0;34m\u001b[0m\u001b[0m\n\u001b[1;32m     37\u001b[0m     ]),axis=1).dropna()\n",
      "\u001b[0;32m/tmp/ipykernel_1111017/4133788011.py\u001b[0m in \u001b[0;36m?\u001b[0;34m(screen, run_name, threshold)\u001b[0m\n\u001b[1;32m     21\u001b[0m \u001b[0;32mdef\u001b[0m \u001b[0mgetAnnotatedTables\u001b[0m\u001b[0;34m(\u001b[0m\u001b[0mscreen\u001b[0m\u001b[0;34m,\u001b[0m \u001b[0mrun_name\u001b[0m\u001b[0;34m,\u001b[0m \u001b[0mthreshold\u001b[0m\u001b[0;34m)\u001b[0m\u001b[0;34m:\u001b[0m\u001b[0;34m\u001b[0m\u001b[0;34m\u001b[0m\u001b[0m\n\u001b[0;32m---> 22\u001b[0;31m     return dict([\n\u001b[0m\u001b[1;32m     23\u001b[0m         (phenotype_name, \n\u001b[1;32m     24\u001b[0m          screen.getPhenotypeScores(\n\u001b[1;32m     25\u001b[0m              \u001b[0mrun_name\u001b[0m\u001b[0;34m=\u001b[0m\u001b[0mrun_name\u001b[0m\u001b[0;34m,\u001b[0m\u001b[0mphenotype_name\u001b[0m\u001b[0;34m=\u001b[0m\u001b[0mphenotype_name\u001b[0m\u001b[0;34m,\u001b[0m\u001b[0mthreshold\u001b[0m\u001b[0;34m=\u001b[0m\u001b[0mthreshold\u001b[0m\u001b[0;34m,\u001b[0m \u001b[0mpvalue_col\u001b[0m\u001b[0;34m=\u001b[0m\u001b[0;34m'ttest pvalue'\u001b[0m\u001b[0;34m\u001b[0m\u001b[0;34m\u001b[0m\u001b[0m\n",
      "\u001b[0;32m/tmp/ipykernel_1111017/4133788011.py\u001b[0m in \u001b[0;36m?\u001b[0;34m(.0)\u001b[0m\n\u001b[1;32m     22\u001b[0m \u001b[0;32mdef\u001b[0m \u001b[0mgetAnnotatedTables\u001b[0m\u001b[0;34m(\u001b[0m\u001b[0mscreen\u001b[0m\u001b[0;34m,\u001b[0m \u001b[0mrun_name\u001b[0m\u001b[0;34m,\u001b[0m \u001b[0mthreshold\u001b[0m\u001b[0;34m)\u001b[0m\u001b[0;34m:\u001b[0m\u001b[0;34m\u001b[0m\u001b[0;34m\u001b[0m\u001b[0m\n\u001b[1;32m     23\u001b[0m     return dict([\n\u001b[1;32m     24\u001b[0m         (phenotype_name, \n\u001b[1;32m     25\u001b[0m          screen.getPhenotypeScores(\n\u001b[0;32m---> 26\u001b[0;31m              \u001b[0mrun_name\u001b[0m\u001b[0;34m=\u001b[0m\u001b[0mrun_name\u001b[0m\u001b[0;34m,\u001b[0m\u001b[0mphenotype_name\u001b[0m\u001b[0;34m=\u001b[0m\u001b[0mphenotype_name\u001b[0m\u001b[0;34m,\u001b[0m\u001b[0mthreshold\u001b[0m\u001b[0;34m=\u001b[0m\u001b[0mthreshold\u001b[0m\u001b[0;34m,\u001b[0m \u001b[0mpvalue_col\u001b[0m\u001b[0;34m=\u001b[0m\u001b[0;34m'ttest pvalue'\u001b[0m\u001b[0;34m\u001b[0m\u001b[0;34m\u001b[0m\u001b[0m\n\u001b[0m\u001b[1;32m     27\u001b[0m          ).query('target!=\"negative_control\"').set_index(['target','transcript']))\n\u001b[1;32m     28\u001b[0m         \u001b[0;32mfor\u001b[0m \u001b[0mphenotype_name\u001b[0m \u001b[0;32min\u001b[0m \u001b[0mscreen\u001b[0m\u001b[0;34m.\u001b[0m\u001b[0mlistPhenotypeScores\u001b[0m\u001b[0;34m(\u001b[0m\u001b[0mrun_name\u001b[0m\u001b[0;34m=\u001b[0m\u001b[0mrun_name\u001b[0m\u001b[0;34m)\u001b[0m\u001b[0;34m\u001b[0m\u001b[0;34m\u001b[0m\u001b[0m\n\u001b[1;32m     29\u001b[0m     ])\n",
      "\u001b[0;32m~/miniconda3/envs/screenpro2/lib/python3.11/site-packages/pandas/util/_decorators.py\u001b[0m in \u001b[0;36m?\u001b[0;34m(*args, **kwargs)\u001b[0m\n\u001b[1;32m    327\u001b[0m                     \u001b[0mmsg\u001b[0m\u001b[0;34m.\u001b[0m\u001b[0mformat\u001b[0m\u001b[0;34m(\u001b[0m\u001b[0marguments\u001b[0m\u001b[0;34m=\u001b[0m\u001b[0m_format_argument_list\u001b[0m\u001b[0;34m(\u001b[0m\u001b[0mallow_args\u001b[0m\u001b[0;34m)\u001b[0m\u001b[0;34m)\u001b[0m\u001b[0;34m,\u001b[0m\u001b[0;34m\u001b[0m\u001b[0;34m\u001b[0m\u001b[0m\n\u001b[1;32m    328\u001b[0m                     \u001b[0mFutureWarning\u001b[0m\u001b[0;34m,\u001b[0m\u001b[0;34m\u001b[0m\u001b[0;34m\u001b[0m\u001b[0m\n\u001b[1;32m    329\u001b[0m                     \u001b[0mstacklevel\u001b[0m\u001b[0;34m=\u001b[0m\u001b[0mfind_stack_level\u001b[0m\u001b[0;34m(\u001b[0m\u001b[0;34m)\u001b[0m\u001b[0;34m,\u001b[0m\u001b[0;34m\u001b[0m\u001b[0;34m\u001b[0m\u001b[0m\n\u001b[1;32m    330\u001b[0m                 )\n\u001b[0;32m--> 331\u001b[0;31m             \u001b[0;32mreturn\u001b[0m \u001b[0mfunc\u001b[0m\u001b[0;34m(\u001b[0m\u001b[0;34m*\u001b[0m\u001b[0margs\u001b[0m\u001b[0;34m,\u001b[0m \u001b[0;34m**\u001b[0m\u001b[0mkwargs\u001b[0m\u001b[0;34m)\u001b[0m\u001b[0;34m\u001b[0m\u001b[0;34m\u001b[0m\u001b[0m\n\u001b[0m",
      "\u001b[0;32m~/miniconda3/envs/screenpro2/lib/python3.11/site-packages/pandas/core/frame.py\u001b[0m in \u001b[0;36m?\u001b[0;34m(self, keys, drop, append, inplace, verify_integrity)\u001b[0m\n\u001b[1;32m   6008\u001b[0m                     \u001b[0;32mif\u001b[0m \u001b[0;32mnot\u001b[0m \u001b[0mfound\u001b[0m\u001b[0;34m:\u001b[0m\u001b[0;34m\u001b[0m\u001b[0;34m\u001b[0m\u001b[0m\n\u001b[1;32m   6009\u001b[0m                         \u001b[0mmissing\u001b[0m\u001b[0;34m.\u001b[0m\u001b[0mappend\u001b[0m\u001b[0;34m(\u001b[0m\u001b[0mcol\u001b[0m\u001b[0;34m)\u001b[0m\u001b[0;34m\u001b[0m\u001b[0;34m\u001b[0m\u001b[0m\n\u001b[1;32m   6010\u001b[0m \u001b[0;34m\u001b[0m\u001b[0m\n\u001b[1;32m   6011\u001b[0m         \u001b[0;32mif\u001b[0m \u001b[0mmissing\u001b[0m\u001b[0;34m:\u001b[0m\u001b[0;34m\u001b[0m\u001b[0;34m\u001b[0m\u001b[0m\n\u001b[0;32m-> 6012\u001b[0;31m             \u001b[0;32mraise\u001b[0m \u001b[0mKeyError\u001b[0m\u001b[0;34m(\u001b[0m\u001b[0;34mf\"None of {missing} are in the columns\"\u001b[0m\u001b[0;34m)\u001b[0m\u001b[0;34m\u001b[0m\u001b[0;34m\u001b[0m\u001b[0m\n\u001b[0m\u001b[1;32m   6013\u001b[0m \u001b[0;34m\u001b[0m\u001b[0m\n\u001b[1;32m   6014\u001b[0m         \u001b[0;32mif\u001b[0m \u001b[0minplace\u001b[0m\u001b[0;34m:\u001b[0m\u001b[0;34m\u001b[0m\u001b[0;34m\u001b[0m\u001b[0m\n\u001b[1;32m   6015\u001b[0m             \u001b[0mframe\u001b[0m \u001b[0;34m=\u001b[0m \u001b[0mself\u001b[0m\u001b[0;34m\u001b[0m\u001b[0;34m\u001b[0m\u001b[0m\n",
      "\u001b[0;31mKeyError\u001b[0m: \"None of ['transcript'] are in the columns\""
     ]
    }
   ],
   "source": [
    "get_annotated_result_table(crispri_v3_screen,run_name='compare_reps_parent')"
   ]
  },
  {
   "cell_type": "code",
   "execution_count": null,
   "metadata": {},
   "outputs": [],
   "source": []
  },
  {
   "cell_type": "code",
   "execution_count": null,
   "metadata": {},
   "outputs": [],
   "source": []
  },
  {
   "cell_type": "code",
   "execution_count": null,
   "metadata": {},
   "outputs": [],
   "source": []
  },
  {
   "cell_type": "markdown",
   "metadata": {},
   "source": [
    "### save to file"
   ]
  },
  {
   "cell_type": "markdown",
   "metadata": {},
   "source": [
    "? how we want to organize the results for the manuscript tables (!)"
   ]
  },
  {
   "cell_type": "code",
   "execution_count": null,
   "metadata": {},
   "outputs": [],
   "source": [
    "with pd.ExcelWriter('CRISPRi-PRDX1-DDRi-screens.xlsx', engine='openpyxl') as writer:\n",
    "    screen.adata.obs.to_excel(writer, sheet_name='sample sheet')\n",
    "    screen.adata.to_df(layer='raw_counts').astype(int).T.to_excel(writer, sheet_name='raw counts')\n",
    "    screen.adata.to_df(layer='seq_depth_norm').astype(int).T.to_excel(writer, sheet_name='normalized counts')\n",
    "    getAnnotatedTable(screen_parent, threshold=2).to_excel(writer, sheet_name='parent screen')\n",
    "    getAnnotatedTable(screen_PRDX1KO, threshold=2).to_excel(writer, sheet_name='PRDX1KO screen')\n",
    "    getAnnotatedTable(screen_vehicle, threshold=2)[['rho:PRDX1KO_vs_parent']].to_excel(writer, sheet_name='vehicle screen')"
   ]
  },
  {
   "cell_type": "markdown",
   "metadata": {},
   "source": [
    "# "
   ]
  },
  {
   "cell_type": "code",
   "execution_count": 22,
   "metadata": {},
   "outputs": [],
   "source": [
    "%reload_ext watermark"
   ]
  },
  {
   "cell_type": "code",
   "execution_count": 23,
   "metadata": {},
   "outputs": [
    {
     "name": "stdout",
     "output_type": "stream",
     "text": [
      "Last updated: 2024-09-24T00:07:00.695852-07:00\n",
      "\n",
      "Python implementation: CPython\n",
      "Python version       : 3.11.9\n",
      "IPython version      : 8.27.0\n",
      "\n",
      "Compiler    : GCC 11.2.0\n",
      "OS          : Linux\n",
      "Release     : 5.15.0-119-generic\n",
      "Machine     : x86_64\n",
      "Processor   : x86_64\n",
      "CPU cores   : 64\n",
      "Architecture: 64bit\n",
      "\n"
     ]
    }
   ],
   "source": [
    "%watermark"
   ]
  },
  {
   "cell_type": "code",
   "execution_count": 24,
   "metadata": {},
   "outputs": [
    {
     "name": "stdout",
     "output_type": "stream",
     "text": [
      "screenpro : 0.4.15\n",
      "numpy     : 1.26.4\n",
      "scanpy    : 1.10.3\n",
      "matplotlib: 3.6.2\n",
      "pandas    : 1.5.3\n",
      "anndata   : 0.10.9\n",
      "blitzgsea : 1.3.47\n",
      "\n"
     ]
    }
   ],
   "source": [
    "%watermark --iversions"
   ]
  },
  {
   "cell_type": "markdown",
   "metadata": {},
   "source": [
    "___"
   ]
  }
 ],
 "metadata": {
  "kernelspec": {
   "display_name": "screenpro2",
   "language": "python",
   "name": "python3"
  },
  "language_info": {
   "codemirror_mode": {
    "name": "ipython",
    "version": 3
   },
   "file_extension": ".py",
   "mimetype": "text/x-python",
   "name": "python",
   "nbconvert_exporter": "python",
   "pygments_lexer": "ipython3",
   "version": "3.11.9"
  }
 },
 "nbformat": 4,
 "nbformat_minor": 2
}
