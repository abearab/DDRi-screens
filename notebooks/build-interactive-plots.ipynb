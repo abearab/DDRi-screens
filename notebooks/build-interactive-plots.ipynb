{
 "cells": [
  {
   "cell_type": "markdown",
   "metadata": {},
   "source": [
    "**Aim**: Build interactive plots to visulize gene-level phenotypes."
   ]
  },
  {
   "cell_type": "code",
   "execution_count": 1,
   "metadata": {},
   "outputs": [
    {
     "name": "stdout",
     "output_type": "stream",
     "text": [
      "Found existing installation: ScreenPro2 0.4.17\n",
      "Uninstalling ScreenPro2-0.4.17:\n",
      "  Successfully uninstalled ScreenPro2-0.4.17\n",
      "Collecting git+https://github.com/arcinstitute/screenpro2.git@dev\n",
      "  Cloning https://github.com/arcinstitute/screenpro2.git (to revision dev) to /private/var/folders/2l/9947v345357ch7g4kkxgcbjr0000gp/T/pip-req-build-9s84f23o\n",
      "  Running command git clone --filter=blob:none --quiet https://github.com/arcinstitute/screenpro2.git /private/var/folders/2l/9947v345357ch7g4kkxgcbjr0000gp/T/pip-req-build-9s84f23o\n",
      "  Running command git checkout -b dev --track origin/dev\n",
      "  Switched to a new branch 'dev'\n",
      "  branch 'dev' set up to track 'origin/dev'.\n",
      "  Resolved https://github.com/arcinstitute/screenpro2.git to commit 3a54987a815dbe73b0fb5c565842953b10e38202\n",
      "  Preparing metadata (setup.py) ... \u001b[?25ldone\n",
      "\u001b[?25hBuilding wheels for collected packages: ScreenPro2\n",
      "  Building wheel for ScreenPro2 (setup.py) ... \u001b[?25ldone\n",
      "\u001b[?25h  Created wheel for ScreenPro2: filename=ScreenPro2-0.4.18-py3-none-any.whl size=43533 sha256=edd37ff200332415ecb93a8ecdb5fa97119ed19dafce485b5b743992fcc74883\n",
      "  Stored in directory: /private/var/folders/2l/9947v345357ch7g4kkxgcbjr0000gp/T/pip-ephem-wheel-cache-s8g1wiai/wheels/f6/a3/c0/cd8854a32e830866c0bfca98dcd5ecc466b177b6f033d5c638\n",
      "Successfully built ScreenPro2\n",
      "Installing collected packages: ScreenPro2\n",
      "Successfully installed ScreenPro2-0.4.18\n"
     ]
    }
   ],
   "source": [
    "!pip uninstall -y screenpro2\n",
    "!pip install git+https://github.com/arcinstitute/screenpro2.git@dev"
   ]
  },
  {
   "cell_type": "code",
   "execution_count": 11,
   "metadata": {},
   "outputs": [],
   "source": [
    "!cd ../"
   ]
  },
  {
   "cell_type": "code",
   "execution_count": 12,
   "metadata": {},
   "outputs": [
    {
     "data": {
      "text/plain": [
       "'/Users/abearab/Projects/FunGI-cap/CRISPRScreenDB/DDRi'"
      ]
     },
     "execution_count": 12,
     "metadata": {},
     "output_type": "execute_result"
    }
   ],
   "source": [
    "pwd"
   ]
  },
  {
   "cell_type": "code",
   "execution_count": 13,
   "metadata": {},
   "outputs": [],
   "source": [
    "import screenpro as scp\n",
    "import pandas as pd\n",
    "import numpy as np\n",
    "import pygwalker as pyg\n",
    "import bokeh"
   ]
  },
  {
   "cell_type": "code",
   "execution_count": 3,
   "metadata": {},
   "outputs": [],
   "source": [
    "drug_names = {\n",
    "    'DMSO': 'DMSO', # Vehicle\n",
    "    'Pi': 'PARPi',\n",
    "    'Ri': 'ATRi',\n",
    "    'Wi': 'WEE1i',\n",
    "    'Mi': 'ATMi',\n",
    "    'Ki': 'DNAPKi',\n",
    "    'PiRi': 'PARPi+ATRi',\n",
    "    'PiWi': 'PARPi+WEE1i',\n",
    "    'PiMi': 'PARPi+ATMi',\n",
    "    'PiKi': 'PARPi+DNAPKi'\n",
    "}"
   ]
  },
  {
   "cell_type": "markdown",
   "metadata": {},
   "source": [
    "### A549_CRISPRi_v2_screens"
   ]
  },
  {
   "cell_type": "code",
   "execution_count": 14,
   "metadata": {},
   "outputs": [],
   "source": [
    "A549_CRISPRi_v2_screens = scp.load._read_screen_pkl('screens/A549_CRISPRi_v2_screens')"
   ]
  },
  {
   "cell_type": "code",
   "execution_count": 15,
   "metadata": {},
   "outputs": [],
   "source": [
    "A549_CRISPRi_v2_results = A549_CRISPRi_v2_screens.phenotypes['compare_guides']['results']"
   ]
  },
  {
   "cell_type": "markdown",
   "metadata": {},
   "source": [
    "___"
   ]
  },
  {
   "cell_type": "code",
   "execution_count": 16,
   "metadata": {},
   "outputs": [
    {
     "data": {
      "text/plain": [
       "dict_keys(['gamma:DMSO_vs_T0', 'tau:Pi_vs_T0', 'rho:Pi_vs_DMSO', 'tau:Ri_vs_T0', 'rho:Ri_vs_DMSO', 'tau:PiRi_vs_T0', 'rho:PiRi_vs_DMSO', 'tau:Mi_vs_T0', 'rho:Mi_vs_DMSO', 'tau:PiMi_vs_T0', 'rho:PiMi_vs_DMSO', 'tau:Wi_vs_T0', 'rho:Wi_vs_DMSO', 'tau:PiWi_vs_T0', 'rho:PiWi_vs_DMSO', 'tau:Ki_vs_T0', 'rho:Ki_vs_DMSO', 'tau:PiKi_vs_T0', 'rho:PiKi_vs_DMSO'])"
      ]
     },
     "execution_count": 16,
     "metadata": {},
     "output_type": "execute_result"
    }
   ],
   "source": [
    "A549_CRISPRi_v2_screens.phenotypes['compare_guides']['results'].keys()"
   ]
  },
  {
   "cell_type": "code",
   "execution_count": 18,
   "metadata": {},
   "outputs": [
    {
     "name": "stdout",
     "output_type": "stream",
     "text": [
      "PARPi\n"
     ]
    },
    {
     "name": "stderr",
     "output_type": "stream",
     "text": [
      "/Users/abearab/miniconda3/envs/screenpro2/lib/python3.11/site-packages/screenpro/dashboard/__init__.py:23: UserWarning: ResetTool(id='p1048', ...) are being repeated\n",
      "  p = bokeh.plotting.figure(\n",
      "/Users/abearab/miniconda3/envs/screenpro2/lib/python3.11/site-packages/screenpro/dashboard/__init__.py:23: UserWarning: ResetTool(id='p1176', ...) are being repeated\n",
      "  p = bokeh.plotting.figure(\n"
     ]
    },
    {
     "name": "stdout",
     "output_type": "stream",
     "text": [
      "ATRi\n"
     ]
    },
    {
     "name": "stderr",
     "output_type": "stream",
     "text": [
      "/Users/abearab/miniconda3/envs/screenpro2/lib/python3.11/site-packages/screenpro/dashboard/__init__.py:23: UserWarning: ResetTool(id='p1304', ...) are being repeated\n",
      "  p = bokeh.plotting.figure(\n",
      "/Users/abearab/miniconda3/envs/screenpro2/lib/python3.11/site-packages/screenpro/dashboard/__init__.py:23: UserWarning: ResetTool(id='p1432', ...) are being repeated\n",
      "  p = bokeh.plotting.figure(\n"
     ]
    },
    {
     "name": "stdout",
     "output_type": "stream",
     "text": [
      "WEE1i\n"
     ]
    },
    {
     "name": "stderr",
     "output_type": "stream",
     "text": [
      "/Users/abearab/miniconda3/envs/screenpro2/lib/python3.11/site-packages/screenpro/dashboard/__init__.py:23: UserWarning: ResetTool(id='p1560', ...) are being repeated\n",
      "  p = bokeh.plotting.figure(\n",
      "/Users/abearab/miniconda3/envs/screenpro2/lib/python3.11/site-packages/screenpro/dashboard/__init__.py:23: UserWarning: ResetTool(id='p1688', ...) are being repeated\n",
      "  p = bokeh.plotting.figure(\n"
     ]
    },
    {
     "name": "stdout",
     "output_type": "stream",
     "text": [
      "ATMi\n"
     ]
    },
    {
     "name": "stderr",
     "output_type": "stream",
     "text": [
      "/Users/abearab/miniconda3/envs/screenpro2/lib/python3.11/site-packages/screenpro/dashboard/__init__.py:23: UserWarning: ResetTool(id='p1816', ...) are being repeated\n",
      "  p = bokeh.plotting.figure(\n",
      "/Users/abearab/miniconda3/envs/screenpro2/lib/python3.11/site-packages/screenpro/dashboard/__init__.py:23: UserWarning: ResetTool(id='p1944', ...) are being repeated\n",
      "  p = bokeh.plotting.figure(\n"
     ]
    },
    {
     "name": "stdout",
     "output_type": "stream",
     "text": [
      "DNAPKi\n"
     ]
    },
    {
     "name": "stderr",
     "output_type": "stream",
     "text": [
      "/Users/abearab/miniconda3/envs/screenpro2/lib/python3.11/site-packages/screenpro/dashboard/__init__.py:23: UserWarning: ResetTool(id='p2072', ...) are being repeated\n",
      "  p = bokeh.plotting.figure(\n",
      "/Users/abearab/miniconda3/envs/screenpro2/lib/python3.11/site-packages/screenpro/dashboard/__init__.py:23: UserWarning: ResetTool(id='p2200', ...) are being repeated\n",
      "  p = bokeh.plotting.figure(\n"
     ]
    },
    {
     "name": "stdout",
     "output_type": "stream",
     "text": [
      "PARPi+ATRi\n"
     ]
    },
    {
     "name": "stderr",
     "output_type": "stream",
     "text": [
      "/Users/abearab/miniconda3/envs/screenpro2/lib/python3.11/site-packages/screenpro/dashboard/__init__.py:23: UserWarning: ResetTool(id='p2328', ...) are being repeated\n",
      "  p = bokeh.plotting.figure(\n",
      "/Users/abearab/miniconda3/envs/screenpro2/lib/python3.11/site-packages/screenpro/dashboard/__init__.py:23: UserWarning: ResetTool(id='p2456', ...) are being repeated\n",
      "  p = bokeh.plotting.figure(\n"
     ]
    },
    {
     "name": "stdout",
     "output_type": "stream",
     "text": [
      "PARPi+WEE1i\n"
     ]
    },
    {
     "name": "stderr",
     "output_type": "stream",
     "text": [
      "/Users/abearab/miniconda3/envs/screenpro2/lib/python3.11/site-packages/screenpro/dashboard/__init__.py:23: UserWarning: ResetTool(id='p2584', ...) are being repeated\n",
      "  p = bokeh.plotting.figure(\n",
      "/Users/abearab/miniconda3/envs/screenpro2/lib/python3.11/site-packages/screenpro/dashboard/__init__.py:23: UserWarning: ResetTool(id='p2712', ...) are being repeated\n",
      "  p = bokeh.plotting.figure(\n"
     ]
    },
    {
     "name": "stdout",
     "output_type": "stream",
     "text": [
      "PARPi+ATMi\n"
     ]
    },
    {
     "name": "stderr",
     "output_type": "stream",
     "text": [
      "/Users/abearab/miniconda3/envs/screenpro2/lib/python3.11/site-packages/screenpro/dashboard/__init__.py:23: UserWarning: ResetTool(id='p2840', ...) are being repeated\n",
      "  p = bokeh.plotting.figure(\n",
      "/Users/abearab/miniconda3/envs/screenpro2/lib/python3.11/site-packages/screenpro/dashboard/__init__.py:23: UserWarning: ResetTool(id='p2968', ...) are being repeated\n",
      "  p = bokeh.plotting.figure(\n"
     ]
    },
    {
     "name": "stdout",
     "output_type": "stream",
     "text": [
      "PARPi+DNAPKi\n"
     ]
    },
    {
     "name": "stderr",
     "output_type": "stream",
     "text": [
      "/Users/abearab/miniconda3/envs/screenpro2/lib/python3.11/site-packages/screenpro/dashboard/__init__.py:23: UserWarning: ResetTool(id='p3096', ...) are being repeated\n",
      "  p = bokeh.plotting.figure(\n",
      "/Users/abearab/miniconda3/envs/screenpro2/lib/python3.11/site-packages/screenpro/dashboard/__init__.py:23: UserWarning: ResetTool(id='p3224', ...) are being repeated\n",
      "  p = bokeh.plotting.figure(\n"
     ]
    }
   ],
   "source": [
    "!mkdir -p app/_html/A549_CRISPRi_v2_screens\n",
    "\n",
    "for drug_key in list(drug_names.keys())[1:]:\n",
    "\n",
    "    drug = drug_names[drug_key]\n",
    "    print(drug)\n",
    "\n",
    "    plotter = scp.dashboard.DrugScreenDashboard(\n",
    "        A549_CRISPRi_v2_screens,\n",
    "        untreated='DMSO',\n",
    "        treated=drug_key,\n",
    "        run_name='compare_guides',\n",
    "        threshold=2,\n",
    "        ctrl_label='negative_control',\n",
    "        pvalue_col='ttest pvalue',\n",
    "    )\n",
    "\n",
    "    rho_min = plotter.df['rho_score'].min() + 0.01\n",
    "    rho_max = plotter.df['rho_score'].max() - 0.01\n",
    "    gamma_min = plotter.df['gamma_score'].min() + 0.01\n",
    "    gamma_max = plotter.df['gamma_score'].max() - 0.01\n",
    "\n",
    "    p_vol = plotter.RhoVolcanoPlot(\n",
    "        x_source='rho_score', \n",
    "        y_source='-log10(rho_pvalue)', \n",
    "        xaxis_label='CRISPRi drug phenotype (ρ)',\n",
    "        yaxis_label='-log10(p-value)',\n",
    "        up_hit='resistance_hit', down_hit='sensitivity_hit', \n",
    "        hit_label_col='rho_label', \n",
    "        x_min=rho_min, x_max=rho_max,\n",
    "        y_min=0.1, y_max='auto',\n",
    "        dot_size=5,\n",
    "        return_html=True\n",
    "    )\n",
    "\n",
    "    p_sct = plotter.RhoGammaScatter(\n",
    "        x_source='rho_score', \n",
    "        y_source='gamma_score', \n",
    "        xaxis_label='CRISPRi drug phenotype (ρ)',\n",
    "        yaxis_label='CRISPRi control phenotype (γ)', \n",
    "        up_hit='resistance_hit', down_hit='sensitivity_hit', \n",
    "        hit_label_col='rho_label', \n",
    "        x_min=rho_min, x_max=rho_max,\n",
    "        y_min=gamma_min, y_max=gamma_max,\n",
    "        legend_loc=None,\n",
    "        dot_size=5,\n",
    "        return_html=True\n",
    "    )\n",
    "\n",
    "    # write plots to html files\n",
    "    with open(f'app/data/A549_CRISPRi_v2_screens/{drug}_volcano.html', 'w') as f:\n",
    "        f.write(p_vol)\n",
    "\n",
    "    with open(f'app/data/A549_CRISPRi_v2_screens/{drug}_scatter.html', 'w') as f:\n",
    "        f.write(p_sct)\n",
    "\n",
    "    plotter.df.query(\n",
    "        'rho_label in [\"resistance_hit\", \"sensitivity_hit\"]'\n",
    "    ).to_csv(f'app/data/A549_CRISPRi_v2_screens/{drug}_volcano.csv', index=False)"
   ]
  },
  {
   "cell_type": "markdown",
   "metadata": {},
   "source": [
    "### A549_CRISPRa_v2_screens"
   ]
  },
  {
   "cell_type": "code",
   "execution_count": 13,
   "metadata": {},
   "outputs": [],
   "source": [
    "# A549_CRISPRa_v2_screens = scp.load._read_screen_pkl('screens/A549_CRISPRa_v2_screens')"
   ]
  },
  {
   "cell_type": "code",
   "execution_count": 14,
   "metadata": {},
   "outputs": [],
   "source": [
    "# A549_CRISPRa_v2_results = A549_CRISPRa_v2_screens.phenotypes['compare_guides']['results']"
   ]
  },
  {
   "cell_type": "markdown",
   "metadata": {},
   "source": [
    "___"
   ]
  },
  {
   "cell_type": "code",
   "execution_count": 15,
   "metadata": {},
   "outputs": [
    {
     "data": {
      "text/plain": [
       "dict_keys(['gamma:DMSO_vs_T0', 'tau:Pi_vs_T0', 'rho:Pi_vs_DMSO', 'tau:Ri_vs_T0', 'rho:Ri_vs_DMSO', 'tau:PiRi_vs_T0', 'rho:PiRi_vs_DMSO', 'tau:Wi_vs_T0', 'rho:Wi_vs_DMSO', 'tau:PiWi_vs_T0', 'rho:PiWi_vs_DMSO'])"
      ]
     },
     "execution_count": 15,
     "metadata": {},
     "output_type": "execute_result"
    }
   ],
   "source": [
    "# A549_CRISPRa_v2_screens.phenotypes['compare_guides']['results'].keys()"
   ]
  },
  {
   "cell_type": "code",
   "execution_count": 16,
   "metadata": {},
   "outputs": [],
   "source": [
    "# A549_CRISPRa_v2_keys = [\n",
    "#     k.split(':')[1].split('_')[0] \n",
    "#     for k in A549_CRISPRa_v2_screens.phenotypes['compare_guides']['results'].keys()\n",
    "#     if 'rho' in k\n",
    "# ]"
   ]
  },
  {
   "cell_type": "code",
   "execution_count": 18,
   "metadata": {},
   "outputs": [
    {
     "name": "stdout",
     "output_type": "stream",
     "text": [
      "Pi\n"
     ]
    },
    {
     "name": "stderr",
     "output_type": "stream",
     "text": [
      "/Users/abearab/miniconda3/envs/screenpro2/lib/python3.11/site-packages/screenpro/dashboard/__init__.py:23: UserWarning: ResetTool(id='p3736', ...) are being repeated\n",
      "  p = bokeh.plotting.figure(\n",
      "/Users/abearab/miniconda3/envs/screenpro2/lib/python3.11/site-packages/screenpro/dashboard/__init__.py:23: UserWarning: ResetTool(id='p3864', ...) are being repeated\n",
      "  p = bokeh.plotting.figure(\n"
     ]
    },
    {
     "name": "stdout",
     "output_type": "stream",
     "text": [
      "Ri\n",
      "Wi\n"
     ]
    },
    {
     "name": "stderr",
     "output_type": "stream",
     "text": [
      "/Users/abearab/miniconda3/envs/screenpro2/lib/python3.11/site-packages/pandas/core/arraylike.py:402: RuntimeWarning: divide by zero encountered in log10\n",
      "  result = getattr(ufunc, method)(*inputs, **kwargs)\n",
      "/Users/abearab/miniconda3/envs/screenpro2/lib/python3.11/site-packages/pandas/core/arraylike.py:402: RuntimeWarning: divide by zero encountered in log10\n",
      "  result = getattr(ufunc, method)(*inputs, **kwargs)\n",
      "/Users/abearab/miniconda3/envs/screenpro2/lib/python3.11/site-packages/screenpro/dashboard/__init__.py:23: UserWarning: ResetTool(id='p3992', ...) are being repeated\n",
      "  p = bokeh.plotting.figure(\n"
     ]
    }
   ],
   "source": [
    "# plots = {}\n",
    "\n",
    "# !mkdir -p app/_html/A549_CRISPRa_v2_screens/\n",
    "\n",
    "# for drug_key in list(drug_names.keys())[1:]:\n",
    "#     if drug_key not in A549_CRISPRa_v2_keys: break\n",
    "\n",
    "#     print(drug_key)\n",
    "\n",
    "#     plotter = scp.dashboard.DrugScreenDashboard(\n",
    "#         A549_CRISPRa_v2_screens,\n",
    "#         untreated='DMSO',\n",
    "#         treated=drug_key,\n",
    "#         run_name='compare_guides',\n",
    "#         threshold=2,\n",
    "#         ctrl_label='negative_control',\n",
    "#         pvalue_col='ttest pvalue',\n",
    "#     )\n",
    "\n",
    "#     p = plotter.RhoVolcanoPlot(\n",
    "#         x_source='rho_score', \n",
    "#         y_source='-log10(rho_pvalue)', \n",
    "#         xaxis_label='phenotype score', \n",
    "#         yaxis_label='-log10(p-value)', \n",
    "#         up_hit='resistance_hit', down_hit='sensitivity_hit', \n",
    "#         hit_label_col='rho_label', \n",
    "#         x_min=-2.5, x_max=2.5, \n",
    "#         y_min=0, y_max='auto', \n",
    "#         return_html=True\n",
    "#     )\n",
    "   \n",
    "#     plotter.df.query(\n",
    "#         'rho_label in [\"resistance_hit\", \"sensitivity_hit\"]'\n",
    "#     ).to_csv(f'app/data/A549_CRISPRa_v2_screens/{drug_names[drug_key]}_volcano.csv')\n",
    "\n",
    "#     plots[drug_names[drug_key]] = p\n",
    "\n",
    "\n",
    "# # write plots to html files\n",
    "# for drug, html in plots.items():\n",
    "#     with open(f'app/data/A549_CRISPRa_v2_screens/{drug}_volcano.html', 'w') as f:\n",
    "#         f.write(html)"
   ]
  },
  {
   "cell_type": "markdown",
   "metadata": {},
   "source": [
    "### A549_PRDX1_CRISPRi_v3_screens"
   ]
  },
  {
   "cell_type": "code",
   "execution_count": 94,
   "metadata": {},
   "outputs": [],
   "source": [
    "# A549_PRDX1_CRISPRi_v3_screens.phenotypes"
   ]
  },
  {
   "cell_type": "markdown",
   "metadata": {},
   "source": [
    "(1) compare_reps_parent"
   ]
  },
  {
   "cell_type": "code",
   "execution_count": 95,
   "metadata": {},
   "outputs": [],
   "source": [
    "# A549_PRDX1_CRISPRi_v3_parent_results = A549_PRDX1_CRISPRi_v3_screens.phenotypes['compare_reps_parent']['results']"
   ]
  },
  {
   "cell_type": "markdown",
   "metadata": {},
   "source": [
    "___"
   ]
  },
  {
   "cell_type": "code",
   "execution_count": 96,
   "metadata": {},
   "outputs": [],
   "source": [
    "# A549_PRDX1_CRISPRi_v3_screens.phenotypes['compare_reps_vehicle']['results'].keys()"
   ]
  },
  {
   "cell_type": "code",
   "execution_count": 97,
   "metadata": {},
   "outputs": [],
   "source": [
    "# A549_PRDX1_CRISPRi_v3_screens.phenotypes['compare_reps_parent']['results'].keys()"
   ]
  },
  {
   "cell_type": "code",
   "execution_count": 98,
   "metadata": {},
   "outputs": [],
   "source": [
    "# plots = {}\n",
    "\n",
    "# plotter = scp.dashboard.DrugScreenDashboard(\n",
    "#     A549_CRISPRa_v2_screens,\n",
    "#     untreated='DMSO',\n",
    "#     treated=drug_key,\n",
    "#     run_name='compare_guides',\n",
    "#     threshold=2,\n",
    "#     ctrl_label='negative_control',\n",
    "#     pvalue_col='ttest pvalue',\n",
    "# )\n",
    "\n",
    "# p = plotter.RhoVolcanoPlot(\n",
    "#     x_source='rho_score', \n",
    "#     y_source='-log10(rho_pvalue)', \n",
    "#     xaxis_label='phenotype score', \n",
    "#     yaxis_label='-log10(p-value)', \n",
    "#     up_hit='resistance_hit', down_hit='sensitivity_hit', \n",
    "#     hit_label_col='rho_label', \n",
    "#     x_min=-2.5, x_max=2.5, \n",
    "#     y_min=0, y_max='auto', \n",
    "#     return_html=True\n",
    "# )\n",
    "\n",
    "# plots[f'DNAPKi_{subscreen}']\n",
    "\n",
    "\n",
    "# !mkdir app/_html/A549_PRDX1_CRISPRi_v3_screens/\n",
    "\n",
    "# # write plots to html files\n",
    "# for drug, html in plots.items():\n",
    "#     with open(f'app/_html/A549_PRDX1_CRISPRi_v3_screens/{drug}_{}_volcano.html', 'w') as f:\n",
    "#         f.write(html)"
   ]
  },
  {
   "cell_type": "code",
   "execution_count": 76,
   "metadata": {},
   "outputs": [],
   "source": [
    "# from IPython.display import IFrame"
   ]
  },
  {
   "cell_type": "code",
   "execution_count": 75,
   "metadata": {},
   "outputs": [],
   "source": [
    "# IFrame(src='app/_html/A549_CRISPRi_v2_screens/PARPi_volcano.html', width=800, height=600)"
   ]
  },
  {
   "cell_type": "markdown",
   "metadata": {},
   "source": [
    "#"
   ]
  },
  {
   "cell_type": "code",
   "execution_count": 21,
   "metadata": {},
   "outputs": [
    {
     "name": "stdout",
     "output_type": "stream",
     "text": [
      "Last updated: 2025-01-04T18:25:06.016227-08:00\n",
      "\n",
      "Python implementation: CPython\n",
      "Python version       : 3.11.11\n",
      "IPython version      : 8.27.0\n",
      "\n",
      "Compiler    : Clang 18.1.8 \n",
      "OS          : Darwin\n",
      "Release     : 23.6.0\n",
      "Machine     : arm64\n",
      "Processor   : arm\n",
      "CPU cores   : 8\n",
      "Architecture: 64bit\n",
      "\n"
     ]
    }
   ],
   "source": [
    "from watermark import watermark\n",
    "print(\n",
    "    watermark()\n",
    ")"
   ]
  },
  {
   "cell_type": "code",
   "execution_count": 22,
   "metadata": {},
   "outputs": [
    {
     "name": "stdout",
     "output_type": "stream",
     "text": [
      "bokeh    : 3.6.0\n",
      "numpy    : 1.26.4\n",
      "screenpro: 0.4.18\n",
      "pygwalker: 0.4.9.13\n",
      "pandas   : 2.2.3\n",
      "watermark: 2.5.0\n",
      "\n"
     ]
    }
   ],
   "source": [
    "print(\n",
    "    watermark(iversions=True, globals_=globals())\n",
    ")"
   ]
  },
  {
   "cell_type": "markdown",
   "metadata": {},
   "source": [
    "___"
   ]
  }
 ],
 "metadata": {
  "kernelspec": {
   "display_name": "screenpro2",
   "language": "python",
   "name": "python3"
  },
  "language_info": {
   "codemirror_mode": {
    "name": "ipython",
    "version": 3
   },
   "file_extension": ".py",
   "mimetype": "text/x-python",
   "name": "python",
   "nbconvert_exporter": "python",
   "pygments_lexer": "ipython3",
   "version": "3.11.11"
  }
 },
 "nbformat": 4,
 "nbformat_minor": 2
}
