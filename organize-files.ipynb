{
 "cells": [
  {
   "cell_type": "code",
   "execution_count": 9,
   "metadata": {},
   "outputs": [
    {
     "name": "stdout",
     "output_type": "stream",
     "text": [
      "A549_CRISPRa_screen_analysis.ipynb  A549_CRISPRi_screens.pkl\n",
      "A549_CRISPRa_screens.h5ad.gz        CRISPRa_v2_human_librarytable.txt.gz\n",
      "A549_CRISPRa_screens.pkl            CRISPRi_v2_human_librarytable.txt.gz\n",
      "A549_CRISPRi_screen_analysis.ipynb  \u001b[0m\u001b[01;34mfastq\u001b[0m/\n",
      "A549_CRISPRi_screens.h5ad.gz\n"
     ]
    }
   ],
   "source": [
    "ls CRISPRai-DDRi-screens/"
   ]
  },
  {
   "cell_type": "code",
   "execution_count": 12,
   "metadata": {},
   "outputs": [
    {
     "name": "stdout",
     "output_type": "stream",
     "text": [
      "renamed 'CRISPRai-DDRi-screens/fastq/A549_CRISPRa_DMSO_rep1_count.arrow' -> 'CRISPRai-DDRi-screens/fastq/A549__CRISPRa_v2__DMSO__rep1_count.arrow'\n",
      "renamed 'CRISPRai-DDRi-screens/fastq/A549_CRISPRa_DMSO_rep1.fastq.gz' -> 'CRISPRai-DDRi-screens/fastq/A549__CRISPRa_v2__DMSO__rep1.fastq.gz'\n",
      "renamed 'CRISPRai-DDRi-screens/fastq/A549_CRISPRa_Pi_rep1_count.arrow' -> 'CRISPRai-DDRi-screens/fastq/A549__CRISPRa_v2__Pi__rep1_count.arrow'\n",
      "renamed 'CRISPRai-DDRi-screens/fastq/A549_CRISPRa_Pi_rep1.fastq.gz' -> 'CRISPRai-DDRi-screens/fastq/A549__CRISPRa_v2__Pi__rep1.fastq.gz'\n",
      "renamed 'CRISPRai-DDRi-screens/fastq/A549_CRISPRa_PiRi_rep1_count.arrow' -> 'CRISPRai-DDRi-screens/fastq/A549__CRISPRa_v2__PiRi__rep1_count.arrow'\n",
      "renamed 'CRISPRai-DDRi-screens/fastq/A549_CRISPRa_PiRi_rep1.fastq.gz' -> 'CRISPRai-DDRi-screens/fastq/A549__CRISPRa_v2__PiRi__rep1.fastq.gz'\n",
      "renamed 'CRISPRai-DDRi-screens/fastq/A549_CRISPRa_PiWi_rep1_count.arrow' -> 'CRISPRai-DDRi-screens/fastq/A549__CRISPRa_v2__PiWi__rep1_count.arrow'\n",
      "renamed 'CRISPRai-DDRi-screens/fastq/A549_CRISPRa_PiWi_rep1.fastq.gz' -> 'CRISPRai-DDRi-screens/fastq/A549__CRISPRa_v2__PiWi__rep1.fastq.gz'\n",
      "renamed 'CRISPRai-DDRi-screens/fastq/A549_CRISPRa_Ri_rep1_count.arrow' -> 'CRISPRai-DDRi-screens/fastq/A549__CRISPRa_v2__Ri__rep1_count.arrow'\n",
      "renamed 'CRISPRai-DDRi-screens/fastq/A549_CRISPRa_Ri_rep1.fastq.gz' -> 'CRISPRai-DDRi-screens/fastq/A549__CRISPRa_v2__Ri__rep1.fastq.gz'\n",
      "renamed 'CRISPRai-DDRi-screens/fastq/A549_CRISPRa_T0_rep1_count.arrow' -> 'CRISPRai-DDRi-screens/fastq/A549__CRISPRa_v2__T0__rep1_count.arrow'\n",
      "renamed 'CRISPRai-DDRi-screens/fastq/A549_CRISPRa_T0_rep1.fastq.gz' -> 'CRISPRai-DDRi-screens/fastq/A549__CRISPRa_v2__T0__rep1.fastq.gz'\n",
      "renamed 'CRISPRai-DDRi-screens/fastq/A549_CRISPRa_Wi_rep1_count.arrow' -> 'CRISPRai-DDRi-screens/fastq/A549__CRISPRa_v2__Wi__rep1_count.arrow'\n",
      "renamed 'CRISPRai-DDRi-screens/fastq/A549_CRISPRa_Wi_rep1.fastq.gz' -> 'CRISPRai-DDRi-screens/fastq/A549__CRISPRa_v2__Wi__rep1.fastq.gz'\n",
      "renamed 'CRISPRai-DDRi-screens/fastq/A549_CRISPRi_DMSO_rep1_count.arrow' -> 'CRISPRai-DDRi-screens/fastq/A549__CRISPRi_v2__DMSO__rep1_count.arrow'\n",
      "renamed 'CRISPRai-DDRi-screens/fastq/A549_CRISPRi_DMSO_rep1.fastq.gz' -> 'CRISPRai-DDRi-screens/fastq/A549__CRISPRi_v2__DMSO__rep1.fastq.gz'\n",
      "renamed 'CRISPRai-DDRi-screens/fastq/A549_CRISPRi_DMSO_rep2_count.arrow' -> 'CRISPRai-DDRi-screens/fastq/A549__CRISPRi_v2__DMSO__rep2_count.arrow'\n",
      "renamed 'CRISPRai-DDRi-screens/fastq/A549_CRISPRi_DMSO_rep2.fastq.gz' -> 'CRISPRai-DDRi-screens/fastq/A549__CRISPRi_v2__DMSO__rep2.fastq.gz'\n",
      "renamed 'CRISPRai-DDRi-screens/fastq/A549_CRISPRi_Ki_rep1_count.arrow' -> 'CRISPRai-DDRi-screens/fastq/A549__CRISPRi_v2__Ki__rep1_count.arrow'\n",
      "renamed 'CRISPRai-DDRi-screens/fastq/A549_CRISPRi_Ki_rep1.fastq.gz' -> 'CRISPRai-DDRi-screens/fastq/A549__CRISPRi_v2__Ki__rep1.fastq.gz'\n",
      "renamed 'CRISPRai-DDRi-screens/fastq/A549_CRISPRi_Ki_rep2_count.arrow' -> 'CRISPRai-DDRi-screens/fastq/A549__CRISPRi_v2__Ki__rep2_count.arrow'\n",
      "renamed 'CRISPRai-DDRi-screens/fastq/A549_CRISPRi_Ki_rep2.fastq.gz' -> 'CRISPRai-DDRi-screens/fastq/A549__CRISPRi_v2__Ki__rep2.fastq.gz'\n",
      "renamed 'CRISPRai-DDRi-screens/fastq/A549_CRISPRi_Mi_rep1_count.arrow' -> 'CRISPRai-DDRi-screens/fastq/A549__CRISPRi_v2__Mi__rep1_count.arrow'\n",
      "renamed 'CRISPRai-DDRi-screens/fastq/A549_CRISPRi_Mi_rep1.fastq.gz' -> 'CRISPRai-DDRi-screens/fastq/A549__CRISPRi_v2__Mi__rep1.fastq.gz'\n"
     ]
    },
    {
     "name": "stdout",
     "output_type": "stream",
     "text": [
      "renamed 'CRISPRai-DDRi-screens/fastq/A549_CRISPRi_Mi_rep2_count.arrow' -> 'CRISPRai-DDRi-screens/fastq/A549__CRISPRi_v2__Mi__rep2_count.arrow'\n",
      "renamed 'CRISPRai-DDRi-screens/fastq/A549_CRISPRi_Mi_rep2.fastq.gz' -> 'CRISPRai-DDRi-screens/fastq/A549__CRISPRi_v2__Mi__rep2.fastq.gz'\n",
      "renamed 'CRISPRai-DDRi-screens/fastq/A549_CRISPRi_PiKi_rep1_count.arrow' -> 'CRISPRai-DDRi-screens/fastq/A549__CRISPRi_v2__PiKi__rep1_count.arrow'\n",
      "renamed 'CRISPRai-DDRi-screens/fastq/A549_CRISPRi_PiKi_rep1.fastq.gz' -> 'CRISPRai-DDRi-screens/fastq/A549__CRISPRi_v2__PiKi__rep1.fastq.gz'\n",
      "renamed 'CRISPRai-DDRi-screens/fastq/A549_CRISPRi_PiKi_rep2_count.arrow' -> 'CRISPRai-DDRi-screens/fastq/A549__CRISPRi_v2__PiKi__rep2_count.arrow'\n",
      "renamed 'CRISPRai-DDRi-screens/fastq/A549_CRISPRi_PiKi_rep2.fastq.gz' -> 'CRISPRai-DDRi-screens/fastq/A549__CRISPRi_v2__PiKi__rep2.fastq.gz'\n",
      "renamed 'CRISPRai-DDRi-screens/fastq/A549_CRISPRi_PiMi_rep1_count.arrow' -> 'CRISPRai-DDRi-screens/fastq/A549__CRISPRi_v2__PiMi__rep1_count.arrow'\n",
      "renamed 'CRISPRai-DDRi-screens/fastq/A549_CRISPRi_PiMi_rep1.fastq.gz' -> 'CRISPRai-DDRi-screens/fastq/A549__CRISPRi_v2__PiMi__rep1.fastq.gz'\n",
      "renamed 'CRISPRai-DDRi-screens/fastq/A549_CRISPRi_PiMi_rep2_count.arrow' -> 'CRISPRai-DDRi-screens/fastq/A549__CRISPRi_v2__PiMi__rep2_count.arrow'\n",
      "renamed 'CRISPRai-DDRi-screens/fastq/A549_CRISPRi_PiMi_rep2.fastq.gz' -> 'CRISPRai-DDRi-screens/fastq/A549__CRISPRi_v2__PiMi__rep2.fastq.gz'\n",
      "renamed 'CRISPRai-DDRi-screens/fastq/A549_CRISPRi_Pi_rep1_count.arrow' -> 'CRISPRai-DDRi-screens/fastq/A549__CRISPRi_v2__Pi__rep1_count.arrow'\n",
      "renamed 'CRISPRai-DDRi-screens/fastq/A549_CRISPRi_Pi_rep1.fastq.gz' -> 'CRISPRai-DDRi-screens/fastq/A549__CRISPRi_v2__Pi__rep1.fastq.gz'\n",
      "renamed 'CRISPRai-DDRi-screens/fastq/A549_CRISPRi_Pi_rep2_count.arrow' -> 'CRISPRai-DDRi-screens/fastq/A549__CRISPRi_v2__Pi__rep2_count.arrow'\n",
      "renamed 'CRISPRai-DDRi-screens/fastq/A549_CRISPRi_Pi_rep2.fastq.gz' -> 'CRISPRai-DDRi-screens/fastq/A549__CRISPRi_v2__Pi__rep2.fastq.gz'\n",
      "renamed 'CRISPRai-DDRi-screens/fastq/A549_CRISPRi_PiRi_rep1_count.arrow' -> 'CRISPRai-DDRi-screens/fastq/A549__CRISPRi_v2__PiRi__rep1_count.arrow'\n",
      "renamed 'CRISPRai-DDRi-screens/fastq/A549_CRISPRi_PiRi_rep1.fastq.gz' -> 'CRISPRai-DDRi-screens/fastq/A549__CRISPRi_v2__PiRi__rep1.fastq.gz'\n",
      "renamed 'CRISPRai-DDRi-screens/fastq/A549_CRISPRi_PiRi_rep2_count.arrow' -> 'CRISPRai-DDRi-screens/fastq/A549__CRISPRi_v2__PiRi__rep2_count.arrow'\n",
      "renamed 'CRISPRai-DDRi-screens/fastq/A549_CRISPRi_PiRi_rep2.fastq.gz' -> 'CRISPRai-DDRi-screens/fastq/A549__CRISPRi_v2__PiRi__rep2.fastq.gz'\n",
      "renamed 'CRISPRai-DDRi-screens/fastq/A549_CRISPRi_PiWi_rep1_count.arrow' -> 'CRISPRai-DDRi-screens/fastq/A549__CRISPRi_v2__PiWi__rep1_count.arrow'\n",
      "renamed 'CRISPRai-DDRi-screens/fastq/A549_CRISPRi_PiWi_rep1.fastq.gz' -> 'CRISPRai-DDRi-screens/fastq/A549__CRISPRi_v2__PiWi__rep1.fastq.gz'\n",
      "renamed 'CRISPRai-DDRi-screens/fastq/A549_CRISPRi_PiWi_rep2_count.arrow' -> 'CRISPRai-DDRi-screens/fastq/A549__CRISPRi_v2__PiWi__rep2_count.arrow'\n",
      "renamed 'CRISPRai-DDRi-screens/fastq/A549_CRISPRi_PiWi_rep2.fastq.gz' -> 'CRISPRai-DDRi-screens/fastq/A549__CRISPRi_v2__PiWi__rep2.fastq.gz'\n",
      "renamed 'CRISPRai-DDRi-screens/fastq/A549_CRISPRi_Ri_rep1_count.arrow' -> 'CRISPRai-DDRi-screens/fastq/A549__CRISPRi_v2__Ri__rep1_count.arrow'\n",
      "renamed 'CRISPRai-DDRi-screens/fastq/A549_CRISPRi_Ri_rep1.fastq.gz' -> 'CRISPRai-DDRi-screens/fastq/A549__CRISPRi_v2__Ri__rep1.fastq.gz'\n",
      "renamed 'CRISPRai-DDRi-screens/fastq/A549_CRISPRi_Ri_rep2_count.arrow' -> 'CRISPRai-DDRi-screens/fastq/A549__CRISPRi_v2__Ri__rep2_count.arrow'\n",
      "renamed 'CRISPRai-DDRi-screens/fastq/A549_CRISPRi_Ri_rep2.fastq.gz' -> 'CRISPRai-DDRi-screens/fastq/A549__CRISPRi_v2__Ri__rep2.fastq.gz'\n",
      "renamed 'CRISPRai-DDRi-screens/fastq/A549_CRISPRi_T0_rep1_count.arrow' -> 'CRISPRai-DDRi-screens/fastq/A549__CRISPRi_v2__T0__rep1_count.arrow'\n",
      "renamed 'CRISPRai-DDRi-screens/fastq/A549_CRISPRi_T0_rep1.fastq.gz' -> 'CRISPRai-DDRi-screens/fastq/A549__CRISPRi_v2__T0__rep1.fastq.gz'\n",
      "renamed 'CRISPRai-DDRi-screens/fastq/A549_CRISPRi_T0_rep2_count.arrow' -> 'CRISPRai-DDRi-screens/fastq/A549__CRISPRi_v2__T0__rep2_count.arrow'\n",
      "renamed 'CRISPRai-DDRi-screens/fastq/A549_CRISPRi_T0_rep2.fastq.gz' -> 'CRISPRai-DDRi-screens/fastq/A549__CRISPRi_v2__T0__rep2.fastq.gz'\n",
      "renamed 'CRISPRai-DDRi-screens/fastq/A549_CRISPRi_Wi_rep1_count.arrow' -> 'CRISPRai-DDRi-screens/fastq/A549__CRISPRi_v2__Wi__rep1_count.arrow'\n",
      "renamed 'CRISPRai-DDRi-screens/fastq/A549_CRISPRi_Wi_rep1.fastq.gz' -> 'CRISPRai-DDRi-screens/fastq/A549__CRISPRi_v2__Wi__rep1.fastq.gz'\n",
      "renamed 'CRISPRai-DDRi-screens/fastq/A549_CRISPRi_Wi_rep2_count.arrow' -> 'CRISPRai-DDRi-screens/fastq/A549__CRISPRi_v2__Wi__rep2_count.arrow'\n",
      "renamed 'CRISPRai-DDRi-screens/fastq/A549_CRISPRi_Wi_rep2.fastq.gz' -> 'CRISPRai-DDRi-screens/fastq/A549__CRISPRi_v2__Wi__rep2.fastq.gz'\n"
     ]
    },
    {
     "name": "stderr",
     "output_type": "stream",
     "text": [
      "mv: 'CRISPRai-DDRi-screens/fastq/checksums.txt' and 'CRISPRai-DDRi-screens/fastq/checksums.txt' are the same file\n"
     ]
    },
    {
     "name": "stdout",
     "output_type": "stream",
     "text": [
      "renamed 'CRISPRai-DDRi-screens/fastq/K562_CRISPRa_DMSO_rep1.fastq.gz' -> 'CRISPRai-DDRi-screens/fastq/K562_CRISPRa_v2__DMSO__rep1.fastq.gz'\n",
      "renamed 'CRISPRai-DDRi-screens/fastq/K562_CRISPRa_DMSO_rep2.fastq.gz' -> 'CRISPRai-DDRi-screens/fastq/K562_CRISPRa_v2__DMSO__rep2.fastq.gz'\n",
      "renamed 'CRISPRai-DDRi-screens/fastq/K562_CRISPRa_Pi_rep2.fastq.gz' -> 'CRISPRai-DDRi-screens/fastq/K562_CRISPRa_v2__Pi__rep2.fastq.gz'\n",
      "renamed 'CRISPRai-DDRi-screens/fastq/K562_CRISPRa_PiRi_rep1.fastq.gz' -> 'CRISPRai-DDRi-screens/fastq/K562_CRISPRa_v2__PiRi__rep1.fastq.gz'\n",
      "renamed 'CRISPRai-DDRi-screens/fastq/K562_CRISPRa_PiRi_rep2.fastq.gz' -> 'CRISPRai-DDRi-screens/fastq/K562_CRISPRa_v2__PiRi__rep2.fastq.gz'\n"
     ]
    }
   ],
   "source": [
    "%%bash\n",
    "\n",
    "for file in CRISPRai-DDRi-screens/fastq/*; do\n",
    "    out=${file/A549_/A549__};\n",
    "    out=${out/CRISPRi_/CRISPRi_v2__};\n",
    "    out=${out/CRISPRa_/CRISPRa_v2__};\n",
    "    out=${out/_rep/__rep};\n",
    "    \n",
    "    mv -v $file $out;\n",
    "done"
   ]
  },
  {
   "cell_type": "code",
   "execution_count": null,
   "metadata": {},
   "outputs": [],
   "source": []
  },
  {
   "cell_type": "code",
   "execution_count": null,
   "metadata": {},
   "outputs": [],
   "source": []
  },
  {
   "cell_type": "code",
   "execution_count": 23,
   "metadata": {},
   "outputs": [
    {
     "name": "stdout",
     "output_type": "stream",
     "text": [
      "i01_count.arrow  i05_count.arrow  i09_count.arrow  i13_count.arrow\n",
      "i01_R1.fastq.gz  i05_R1.fastq.gz  i09_R1.fastq.gz  i13_R1.fastq.gz\n",
      "i01_R2.fastq.gz  i05_R2.fastq.gz  i09_R2.fastq.gz  i13_R2.fastq.gz\n",
      "i02_count.arrow  i06_count.arrow  i10_count.arrow  i14_count.arrow\n",
      "i02_R1.fastq.gz  i06_R1.fastq.gz  i10_R1.fastq.gz  i14_R1.fastq.gz\n",
      "i02_R2.fastq.gz  i06_R2.fastq.gz  i10_R2.fastq.gz  i14_R2.fastq.gz\n",
      "i03_count.arrow  i07_count.arrow  i11_count.arrow  i15_count.arrow\n",
      "i03_R1.fastq.gz  i07_R1.fastq.gz  i11_R1.fastq.gz  i15_R1.fastq.gz\n",
      "i03_R2.fastq.gz  i07_R2.fastq.gz  i11_R2.fastq.gz  i15_R2.fastq.gz\n",
      "i04_count.arrow  i08_count.arrow  i12_count.arrow  i16_count.arrow\n",
      "i04_R1.fastq.gz  i08_R1.fastq.gz  i12_R1.fastq.gz  i16_R1.fastq.gz\n",
      "i04_R2.fastq.gz  i08_R2.fastq.gz  i12_R2.fastq.gz  i16_R2.fastq.gz\n"
     ]
    }
   ],
   "source": [
    "ls CRISPRi-PRDX1-screens/fastq_merged"
   ]
  },
  {
   "cell_type": "code",
   "execution_count": 24,
   "metadata": {},
   "outputs": [],
   "source": [
    "cp -rp CRISPRi-PRDX1-screens/fastq_merged/ screens/"
   ]
  },
  {
   "cell_type": "code",
   "execution_count": 26,
   "metadata": {},
   "outputs": [],
   "source": [
    "import os\n",
    "import subprocess"
   ]
  },
  {
   "cell_type": "code",
   "execution_count": 37,
   "metadata": {},
   "outputs": [
    {
     "name": "stdout",
     "output_type": "stream",
     "text": [
      "renamed 'screens/fastq_merged/i01_count.arrow' -> 'screens/fastq_merged/A549_parent__CRISPRi_v3__T0__rep1_count.arrow'\n",
      "renamed 'screens/fastq_merged/i01_R1.fastq.gz' -> 'screens/fastq_merged/A549_parent__CRISPRi_v3__T0__rep1_R1.fastq.gz'\n",
      "renamed 'screens/fastq_merged/i01_R2.fastq.gz' -> 'screens/fastq_merged/A549_parent__CRISPRi_v3__T0__rep1_R2.fastq.gz'\n",
      "renamed 'screens/fastq_merged/i02_count.arrow' -> 'screens/fastq_merged/A549_parent__CRISPRi_v3__T0__rep2_count.arrow'\n",
      "renamed 'screens/fastq_merged/i02_R1.fastq.gz' -> 'screens/fastq_merged/A549_parent__CRISPRi_v3__T0__rep2_R1.fastq.gz'\n",
      "renamed 'screens/fastq_merged/i02_R2.fastq.gz' -> 'screens/fastq_merged/A549_parent__CRISPRi_v3__T0__rep2_R2.fastq.gz'\n",
      "renamed 'screens/fastq_merged/i03_count.arrow' -> 'screens/fastq_merged/A549_parent__CRISPRi_v3__vehicle__rep1_count.arrow'\n",
      "renamed 'screens/fastq_merged/i03_R1.fastq.gz' -> 'screens/fastq_merged/A549_parent__CRISPRi_v3__vehicle__rep1_R1.fastq.gz'\n",
      "renamed 'screens/fastq_merged/i03_R2.fastq.gz' -> 'screens/fastq_merged/A549_parent__CRISPRi_v3__vehicle__rep1_R2.fastq.gz'\n",
      "renamed 'screens/fastq_merged/i04_count.arrow' -> 'screens/fastq_merged/A549_parent__CRISPRi_v3__vehicle__rep2_count.arrow'\n",
      "renamed 'screens/fastq_merged/i04_R1.fastq.gz' -> 'screens/fastq_merged/A549_parent__CRISPRi_v3__vehicle__rep2_R1.fastq.gz'\n",
      "renamed 'screens/fastq_merged/i04_R2.fastq.gz' -> 'screens/fastq_merged/A549_parent__CRISPRi_v3__vehicle__rep2_R2.fastq.gz'\n",
      "renamed 'screens/fastq_merged/i05_count.arrow' -> 'screens/fastq_merged/A549_parent__CRISPRi_v3__vehicle__rep3_count.arrow'\n",
      "renamed 'screens/fastq_merged/i05_R1.fastq.gz' -> 'screens/fastq_merged/A549_parent__CRISPRi_v3__vehicle__rep3_R1.fastq.gz'\n",
      "renamed 'screens/fastq_merged/i05_R2.fastq.gz' -> 'screens/fastq_merged/A549_parent__CRISPRi_v3__vehicle__rep3_R2.fastq.gz'\n",
      "renamed 'screens/fastq_merged/i06_count.arrow' -> 'screens/fastq_merged/A549_parent__CRISPRi_v3__DNAPKi__rep1_count.arrow'\n",
      "renamed 'screens/fastq_merged/i06_R1.fastq.gz' -> 'screens/fastq_merged/A549_parent__CRISPRi_v3__DNAPKi__rep1_R1.fastq.gz'\n",
      "renamed 'screens/fastq_merged/i06_R2.fastq.gz' -> 'screens/fastq_merged/A549_parent__CRISPRi_v3__DNAPKi__rep1_R2.fastq.gz'\n",
      "renamed 'screens/fastq_merged/i07_count.arrow' -> 'screens/fastq_merged/A549_parent__CRISPRi_v3__DNAPKi__rep2_count.arrow'\n",
      "renamed 'screens/fastq_merged/i07_R1.fastq.gz' -> 'screens/fastq_merged/A549_parent__CRISPRi_v3__DNAPKi__rep2_R1.fastq.gz'\n",
      "renamed 'screens/fastq_merged/i07_R2.fastq.gz' -> 'screens/fastq_merged/A549_parent__CRISPRi_v3__DNAPKi__rep2_R2.fastq.gz'\n",
      "renamed 'screens/fastq_merged/i08_count.arrow' -> 'screens/fastq_merged/A549_parent__CRISPRi_v3__DNAPKi__rep3_count.arrow'\n",
      "renamed 'screens/fastq_merged/i08_R1.fastq.gz' -> 'screens/fastq_merged/A549_parent__CRISPRi_v3__DNAPKi__rep3_R1.fastq.gz'\n",
      "renamed 'screens/fastq_merged/i08_R2.fastq.gz' -> 'screens/fastq_merged/A549_parent__CRISPRi_v3__DNAPKi__rep3_R2.fastq.gz'\n",
      "renamed 'screens/fastq_merged/i09_count.arrow' -> 'screens/fastq_merged/A549_PRDX1KO__CRISPRi_v3__T0__rep1_count.arrow'\n",
      "renamed 'screens/fastq_merged/i09_R1.fastq.gz' -> 'screens/fastq_merged/A549_PRDX1KO__CRISPRi_v3__T0__rep1_R1.fastq.gz'\n",
      "renamed 'screens/fastq_merged/i09_R2.fastq.gz' -> 'screens/fastq_merged/A549_PRDX1KO__CRISPRi_v3__T0__rep1_R2.fastq.gz'\n",
      "renamed 'screens/fastq_merged/i10_count.arrow' -> 'screens/fastq_merged/A549_PRDX1KO__CRISPRi_v3__T0__rep2_count.arrow'\n",
      "renamed 'screens/fastq_merged/i10_R1.fastq.gz' -> 'screens/fastq_merged/A549_PRDX1KO__CRISPRi_v3__T0__rep2_R1.fastq.gz'\n",
      "renamed 'screens/fastq_merged/i10_R2.fastq.gz' -> 'screens/fastq_merged/A549_PRDX1KO__CRISPRi_v3__T0__rep2_R2.fastq.gz'\n",
      "renamed 'screens/fastq_merged/i11_count.arrow' -> 'screens/fastq_merged/A549_PRDX1KO__CRISPRi_v3__vehicle__rep1_count.arrow'\n",
      "renamed 'screens/fastq_merged/i11_R1.fastq.gz' -> 'screens/fastq_merged/A549_PRDX1KO__CRISPRi_v3__vehicle__rep1_R1.fastq.gz'\n",
      "renamed 'screens/fastq_merged/i11_R2.fastq.gz' -> 'screens/fastq_merged/A549_PRDX1KO__CRISPRi_v3__vehicle__rep1_R2.fastq.gz'\n",
      "renamed 'screens/fastq_merged/i12_count.arrow' -> 'screens/fastq_merged/A549_PRDX1KO__CRISPRi_v3__vehicle__rep2_count.arrow'\n",
      "renamed 'screens/fastq_merged/i12_R1.fastq.gz' -> 'screens/fastq_merged/A549_PRDX1KO__CRISPRi_v3__vehicle__rep2_R1.fastq.gz'\n",
      "renamed 'screens/fastq_merged/i12_R2.fastq.gz' -> 'screens/fastq_merged/A549_PRDX1KO__CRISPRi_v3__vehicle__rep2_R2.fastq.gz'\n",
      "renamed 'screens/fastq_merged/i13_count.arrow' -> 'screens/fastq_merged/A549_PRDX1KO__CRISPRi_v3__vehicle__rep3_count.arrow'\n",
      "renamed 'screens/fastq_merged/i13_R1.fastq.gz' -> 'screens/fastq_merged/A549_PRDX1KO__CRISPRi_v3__vehicle__rep3_R1.fastq.gz'\n",
      "renamed 'screens/fastq_merged/i13_R2.fastq.gz' -> 'screens/fastq_merged/A549_PRDX1KO__CRISPRi_v3__vehicle__rep3_R2.fastq.gz'\n",
      "renamed 'screens/fastq_merged/i14_count.arrow' -> 'screens/fastq_merged/A549_PRDX1KO__CRISPRi_v3__DNAPKi__rep1_count.arrow'\n",
      "renamed 'screens/fastq_merged/i14_R1.fastq.gz' -> 'screens/fastq_merged/A549_PRDX1KO__CRISPRi_v3__DNAPKi__rep1_R1.fastq.gz'\n",
      "renamed 'screens/fastq_merged/i14_R2.fastq.gz' -> 'screens/fastq_merged/A549_PRDX1KO__CRISPRi_v3__DNAPKi__rep1_R2.fastq.gz'\n",
      "renamed 'screens/fastq_merged/i15_count.arrow' -> 'screens/fastq_merged/A549_PRDX1KO__CRISPRi_v3__DNAPKi__rep2_count.arrow'\n",
      "renamed 'screens/fastq_merged/i15_R1.fastq.gz' -> 'screens/fastq_merged/A549_PRDX1KO__CRISPRi_v3__DNAPKi__rep2_R1.fastq.gz'\n",
      "renamed 'screens/fastq_merged/i15_R2.fastq.gz' -> 'screens/fastq_merged/A549_PRDX1KO__CRISPRi_v3__DNAPKi__rep2_R2.fastq.gz'\n",
      "renamed 'screens/fastq_merged/i16_count.arrow' -> 'screens/fastq_merged/A549_PRDX1KO__CRISPRi_v3__DNAPKi__rep3_count.arrow'\n",
      "renamed 'screens/fastq_merged/i16_R1.fastq.gz' -> 'screens/fastq_merged/A549_PRDX1KO__CRISPRi_v3__DNAPKi__rep3_R1.fastq.gz'\n",
      "renamed 'screens/fastq_merged/i16_R2.fastq.gz' -> 'screens/fastq_merged/A549_PRDX1KO__CRISPRi_v3__DNAPKi__rep3_R2.fastq.gz'\n"
     ]
    }
   ],
   "source": [
    "%%bash\n",
    "work_path=\"screens/fastq_merged\"\n",
    "\n",
    "for file in $work_path/*; do\n",
    "    out=$file\n",
    "\n",
    "    out=${out/i01/A549_parent__CRISPRi_v3__T0__rep1};\n",
    "    out=${out/i02/A549_parent__CRISPRi_v3__T0__rep2};\n",
    "    out=${out/i03/A549_parent__CRISPRi_v3__vehicle__rep1};\n",
    "    out=${out/i04/A549_parent__CRISPRi_v3__vehicle__rep2};\n",
    "    out=${out/i05/A549_parent__CRISPRi_v3__vehicle__rep3};\n",
    "    out=${out/i06/A549_parent__CRISPRi_v3__DNAPKi__rep1};\n",
    "    out=${out/i07/A549_parent__CRISPRi_v3__DNAPKi__rep2};\n",
    "    out=${out/i08/A549_parent__CRISPRi_v3__DNAPKi__rep3};\n",
    "    out=${out/i09/A549_PRDX1KO__CRISPRi_v3__T0__rep1};\n",
    "    out=${out/i10/A549_PRDX1KO__CRISPRi_v3__T0__rep2};\n",
    "    out=${out/i11/A549_PRDX1KO__CRISPRi_v3__vehicle__rep1};\n",
    "    out=${out/i12/A549_PRDX1KO__CRISPRi_v3__vehicle__rep2};\n",
    "    out=${out/i13/A549_PRDX1KO__CRISPRi_v3__vehicle__rep3};\n",
    "    out=${out/i14/A549_PRDX1KO__CRISPRi_v3__DNAPKi__rep1};\n",
    "    out=${out/i15/A549_PRDX1KO__CRISPRi_v3__DNAPKi__rep2};\n",
    "    out=${out/i16/A549_PRDX1KO__CRISPRi_v3__DNAPKi__rep3};\n",
    "\n",
    "    mv -v $file $out\n",
    "done\n"
   ]
  },
  {
   "cell_type": "code",
   "execution_count": null,
   "metadata": {},
   "outputs": [],
   "source": []
  },
  {
   "cell_type": "code",
   "execution_count": 41,
   "metadata": {},
   "outputs": [],
   "source": [
    "%%bash\n",
    "## checksums \n",
    "\n",
    "md5sum screens/fastq/*.fastq.gz > screens/fastq/checksums.txt"
   ]
  },
  {
   "cell_type": "code",
   "execution_count": 43,
   "metadata": {},
   "outputs": [
    {
     "name": "stdout",
     "output_type": "stream",
     "text": [
      "96e4e9f872bdc2ebebb4a8567cf5ed91  screens/fastq/A549__CRISPRa_v2__DMSO__rep1.fastq.gz\n",
      "79deec686eb64503cce15c5c88153db3  screens/fastq/A549__CRISPRa_v2__Pi__rep1.fastq.gz\n",
      "173f94c74fb48061aad96650af633a85  screens/fastq/A549__CRISPRa_v2__PiRi__rep1.fastq.gz\n",
      "0b0c66fc2e8323d3d3e6a10225160ed2  screens/fastq/A549__CRISPRa_v2__PiWi__rep1.fastq.gz\n",
      "381bc1af1472715ebf3ca60f644c40dd  screens/fastq/A549__CRISPRa_v2__Ri__rep1.fastq.gz\n",
      "020b06bb0304e570d7c2fa37dd358693  screens/fastq/A549__CRISPRa_v2__T0__rep1.fastq.gz\n",
      "f8e021079e1b32f280cd5db82354a761  screens/fastq/A549__CRISPRa_v2__Wi__rep1.fastq.gz\n",
      "f42cb01796aa2b1b65ab4c06626a36e6  screens/fastq/A549__CRISPRi_v2__DMSO__rep1.fastq.gz\n",
      "8d18532df8b59c787136554c9267003d  screens/fastq/A549__CRISPRi_v2__DMSO__rep2.fastq.gz\n",
      "c21644c669d98546070230d0e313cd0e  screens/fastq/A549__CRISPRi_v2__Ki__rep1.fastq.gz\n",
      "415eafa4f613a7b2385a83be4a5e6309  screens/fastq/A549__CRISPRi_v2__Ki__rep2.fastq.gz\n",
      "2cac75aa05920a2abf8d7bd662aad560  screens/fastq/A549__CRISPRi_v2__Mi__rep1.fastq.gz\n",
      "09a4f1737a53b76bc19bfa0eef3e26c4  screens/fastq/A549__CRISPRi_v2__Mi__rep2.fastq.gz\n",
      "12c53ca8a0e28e23363245a49e6431d1  screens/fastq/A549__CRISPRi_v2__PiKi__rep1.fastq.gz\n",
      "0cff5003e13f627a9f8766177c19daf2  screens/fastq/A549__CRISPRi_v2__PiKi__rep2.fastq.gz\n",
      "b56e06ab5589c66e5f8d9658d319504e  screens/fastq/A549__CRISPRi_v2__PiMi__rep1.fastq.gz\n",
      "8126d1fd61cd6c0419492c2fab640d96  screens/fastq/A549__CRISPRi_v2__PiMi__rep2.fastq.gz\n",
      "c5f4e56266df91a9c31c4f708c068db6  screens/fastq/A549__CRISPRi_v2__Pi__rep1.fastq.gz\n",
      "6042fd4351cd0a1c9e4650d91a22cd82  screens/fastq/A549__CRISPRi_v2__Pi__rep2.fastq.gz\n",
      "4f19fea5d0bcaf9b0d8a13351709a9f4  screens/fastq/A549__CRISPRi_v2__PiRi__rep1.fastq.gz\n",
      "2b4227ae1f601dd511e4be9e4037bd25  screens/fastq/A549__CRISPRi_v2__PiRi__rep2.fastq.gz\n",
      "eeed3e233381380e2dc83629d8294ba3  screens/fastq/A549__CRISPRi_v2__PiWi__rep1.fastq.gz\n",
      "17c9461459ea08728c9715d5b7da8222  screens/fastq/A549__CRISPRi_v2__PiWi__rep2.fastq.gz\n",
      "45d877d9b9d223dcbd9be82e9ec41f09  screens/fastq/A549__CRISPRi_v2__Ri__rep1.fastq.gz\n",
      "64bf6796b1de970dcc66163b6c806453  screens/fastq/A549__CRISPRi_v2__Ri__rep2.fastq.gz\n",
      "31ae3b0672d9466db25478998952a8fd  screens/fastq/A549__CRISPRi_v2__T0__rep1.fastq.gz\n",
      "e1fde8a203fa56654818f4ca206ec6a4  screens/fastq/A549__CRISPRi_v2__T0__rep2.fastq.gz\n",
      "9a7570980774fa5a2334335c66906a5a  screens/fastq/A549__CRISPRi_v2__Wi__rep1.fastq.gz\n",
      "02ce2303fb5bef1081bebb793e11325f  screens/fastq/A549__CRISPRi_v2__Wi__rep2.fastq.gz\n",
      "3812918945966c7d73006c8f1ff0dbfe  screens/fastq/A549_parent__CRISPRi_v3__DNAPKi__rep1_R1.fastq.gz\n",
      "904525de5cfed8be1f7342458e714160  screens/fastq/A549_parent__CRISPRi_v3__DNAPKi__rep1_R2.fastq.gz\n",
      "40a4761304ccaab57fe9a28854172dcf  screens/fastq/A549_parent__CRISPRi_v3__DNAPKi__rep2_R1.fastq.gz\n",
      "98e946458225581f93826bf26e8d1a59  screens/fastq/A549_parent__CRISPRi_v3__DNAPKi__rep2_R2.fastq.gz\n",
      "57cb14a51bdbb55268d8bc88ca26aa4a  screens/fastq/A549_parent__CRISPRi_v3__DNAPKi__rep3_R1.fastq.gz\n",
      "73ce272b07b9083e9a767badde893b1d  screens/fastq/A549_parent__CRISPRi_v3__DNAPKi__rep3_R2.fastq.gz\n",
      "4ad08617592dd6322f25404add38f73f  screens/fastq/A549_parent__CRISPRi_v3__T0__rep1_R1.fastq.gz\n",
      "0c843b92bb9b5ad0a08671a0e92fb30a  screens/fastq/A549_parent__CRISPRi_v3__T0__rep1_R2.fastq.gz\n",
      "c85c9b547845ca39e83e33bc5202f284  screens/fastq/A549_parent__CRISPRi_v3__T0__rep2_R1.fastq.gz\n",
      "4e49204671110f57b281c9b1aa738513  screens/fastq/A549_parent__CRISPRi_v3__T0__rep2_R2.fastq.gz\n",
      "8004e04ffe395171526b142181da1241  screens/fastq/A549_parent__CRISPRi_v3__vehicle__rep1_R1.fastq.gz\n",
      "56dd3e51f4a22c9831752fc90b184e4c  screens/fastq/A549_parent__CRISPRi_v3__vehicle__rep1_R2.fastq.gz\n",
      "e8c4955c0bee3a9c8f8893ffd5583540  screens/fastq/A549_parent__CRISPRi_v3__vehicle__rep2_R1.fastq.gz\n",
      "862100b1b3a7fa7fe740889e95255e63  screens/fastq/A549_parent__CRISPRi_v3__vehicle__rep2_R2.fastq.gz\n",
      "1e60a17c84dd45444dfae014e6256e2a  screens/fastq/A549_parent__CRISPRi_v3__vehicle__rep3_R1.fastq.gz\n",
      "50e54acfd5f4972cff745f589f3006c0  screens/fastq/A549_parent__CRISPRi_v3__vehicle__rep3_R2.fastq.gz\n",
      "31c34bc48ff2b74c627ec2e5e7ed0022  screens/fastq/A549_PRDX1KO__CRISPRi_v3__DNAPKi__rep1_R1.fastq.gz\n",
      "544edff7057d6d0b845f0824d72c2b75  screens/fastq/A549_PRDX1KO__CRISPRi_v3__DNAPKi__rep1_R2.fastq.gz\n",
      "f78157a5aa38685e67565a3f96615e04  screens/fastq/A549_PRDX1KO__CRISPRi_v3__DNAPKi__rep2_R1.fastq.gz\n",
      "46f7e404e6d66d762f2d439729a7c8b5  screens/fastq/A549_PRDX1KO__CRISPRi_v3__DNAPKi__rep2_R2.fastq.gz\n",
      "6e013962ee2101144e50d99c47b63e5c  screens/fastq/A549_PRDX1KO__CRISPRi_v3__DNAPKi__rep3_R1.fastq.gz\n",
      "b292a3990a313efc5ffc2014acd552ba  screens/fastq/A549_PRDX1KO__CRISPRi_v3__DNAPKi__rep3_R2.fastq.gz\n",
      "0beb3f9a12c53e651a02c4c0e0e6328a  screens/fastq/A549_PRDX1KO__CRISPRi_v3__T0__rep1_R1.fastq.gz\n",
      "f0018d7858bdd64ff9135ffa08f8974b  screens/fastq/A549_PRDX1KO__CRISPRi_v3__T0__rep1_R2.fastq.gz\n",
      "5d8bb26d4b3b43412dd7fe84fe565d52  screens/fastq/A549_PRDX1KO__CRISPRi_v3__T0__rep2_R1.fastq.gz\n",
      "079a0964d7d7929171fe2faeb7b7a641  screens/fastq/A549_PRDX1KO__CRISPRi_v3__T0__rep2_R2.fastq.gz\n",
      "83a51055828b731af9f197af98105167  screens/fastq/A549_PRDX1KO__CRISPRi_v3__vehicle__rep1_R1.fastq.gz\n",
      "a7140f339b7d19ddbb33a140d5ceca90  screens/fastq/A549_PRDX1KO__CRISPRi_v3__vehicle__rep1_R2.fastq.gz\n",
      "8c83076dcc1b0250ba74389b30ccc6cd  screens/fastq/A549_PRDX1KO__CRISPRi_v3__vehicle__rep2_R1.fastq.gz\n",
      "ad64bbe4ecea1d9e129d0eac4185fe96  screens/fastq/A549_PRDX1KO__CRISPRi_v3__vehicle__rep2_R2.fastq.gz\n",
      "d915bbbf5585368a80b7ae8b01dc00b4  screens/fastq/A549_PRDX1KO__CRISPRi_v3__vehicle__rep3_R1.fastq.gz\n",
      "5d68d7131f9537ce80274c5c6b68ab74  screens/fastq/A549_PRDX1KO__CRISPRi_v3__vehicle__rep3_R2.fastq.gz\n",
      "982450b26ac6cdece08646bc20698314  screens/fastq/K562_CRISPRa_v2__DMSO__rep1.fastq.gz\n",
      "e317cea2b886b5d14cb717c77d565495  screens/fastq/K562_CRISPRa_v2__DMSO__rep2.fastq.gz\n",
      "471d2264b228c98f9c51cd5fbdb6e38d  screens/fastq/K562_CRISPRa_v2__Pi__rep2.fastq.gz\n",
      "5baf22ed9c6fa6875e93dc411c439a39  screens/fastq/K562_CRISPRa_v2__PiRi__rep1.fastq.gz\n",
      "c0990acd33496e7d5a0e796f9deb1e0a  screens/fastq/K562_CRISPRa_v2__PiRi__rep2.fastq.gz\n"
     ]
    }
   ],
   "source": [
    "cat screens/fastq/checksums.txt"
   ]
  },
  {
   "cell_type": "code",
   "execution_count": null,
   "metadata": {},
   "outputs": [],
   "source": []
  }
 ],
 "metadata": {
  "kernelspec": {
   "display_name": "screenpro2",
   "language": "python",
   "name": "python3"
  },
  "language_info": {
   "codemirror_mode": {
    "name": "ipython",
    "version": 3
   },
   "file_extension": ".py",
   "mimetype": "text/x-python",
   "name": "python",
   "nbconvert_exporter": "python",
   "pygments_lexer": "ipython3",
   "version": "3.11.9"
  }
 },
 "nbformat": 4,
 "nbformat_minor": 2
}
