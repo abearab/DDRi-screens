{
 "cells": [
  {
   "cell_type": "code",
   "execution_count": 33,
   "id": "ec7dbb50-523d-4ab0-b960-caed56ae8b88",
   "metadata": {},
   "outputs": [],
   "source": [
    "import os\n",
    "from glob import glob\n",
    "import pandas as pd\n",
    "import numpy as np\n",
    "\n",
    "# from counts import *"
   ]
  },
  {
   "cell_type": "markdown",
   "id": "e2fea28d-1af1-4bac-b5bd-bb90214f067e",
   "metadata": {
    "tags": []
   },
   "source": [
    "## Merge fastq files"
   ]
  },
  {
   "cell_type": "code",
   "execution_count": 35,
   "id": "782830c9-20ca-4b66-9ccb-174edbf72bef",
   "metadata": {
    "tags": []
   },
   "outputs": [],
   "source": [
    "# %%bash\n",
    "# mkdir -p fastq_merged\n",
    "\n",
    "# for f in fastq/i*_L001_*; do \n",
    "#     f_l1=`basename $f`; f_l2=${f_l1/_L001_/_L002_}; \n",
    "#     f_out=${f_l1/_S*_L001/};\n",
    "#     f_out=${f_out/_001/};\n",
    "    \n",
    "#     cat fastq/$f_l1 fastq/$f_l2 > fastq_merged/$f_out; \n",
    "    \n",
    "# done"
   ]
  },
  {
   "cell_type": "markdown",
   "id": "c6f92514-548e-4efd-994c-cf324bb014f3",
   "metadata": {
    "tags": []
   },
   "source": [
    "## Run my version of [CRISPRi-dual-sgRNA-screens](https://github.com/abearab/CRISPRi-dual-sgRNA-screens)"
   ]
  },
  {
   "cell_type": "code",
   "execution_count": 36,
   "id": "a056bb51-fdd4-4297-a16d-655545033760",
   "metadata": {},
   "outputs": [],
   "source": [
    "library = pd.read_csv('JR_V3lib_top2_v2.csv',index_col=0)\n",
    "\n",
    "# library_v2 = library\n",
    "# library_v2.protospacer_A = library.protospacer_A.str[1:]\n",
    "# library_v2.to_csv('JR_V3lib_top2_v2.csv',index=True)"
   ]
  },
  {
   "cell_type": "code",
   "execution_count": null,
   "id": "f325d566-d3ca-49aa-aef8-ab87ec72d11d",
   "metadata": {
    "tags": []
   },
   "outputs": [],
   "source": []
  },
  {
   "cell_type": "code",
   "execution_count": 37,
   "id": "1ae47faf-a224-4a9e-95e9-108437acb5e8",
   "metadata": {},
   "outputs": [
    {
     "data": {
      "text/plain": [
       "19"
      ]
     },
     "execution_count": 37,
     "metadata": {},
     "output_type": "execute_result"
    }
   ],
   "source": [
    "list(set(library.protospacer_A.str.len()))[0]"
   ]
  },
  {
   "cell_type": "markdown",
   "id": "0f46623b-9e6b-45e1-8097-26f578802e1c",
   "metadata": {},
   "source": [
    "___\n",
    "        Tue Jul 26 19:40:57 PDT 2022\n",
    "\n",
    "After trying multiple directions, this one seems to work correctly:\n",
    "\n",
    "I changed these lines base on Tom's sequencing strategy.\n",
    "- https://github.com/josephreplogle/CRISPRi-dual-sgRNA-screens/blob/main/dualguide_fastqgz_to_counts.py#L34\n",
    "- https://github.com/josephreplogle/CRISPRi-dual-sgRNA-screens/blob/main/dualguide_fastqgz_to_counts.py#L164\n",
    "\n",
    "Also, I'm modifying reference table to remove the first G from all `protospacer_A` sequences."
   ]
  },
  {
   "cell_type": "code",
   "execution_count": 39,
   "id": "a4ad76bd-bb90-4d47-b834-15eab2a10b3c",
   "metadata": {
    "tags": []
   },
   "outputs": [
    {
     "name": "stdout",
     "output_type": "stream",
     "text": [
      "/data_gilbert/home/aarab/anaconda3/envs/mamba/envs/screenpro/bin/python\n"
     ]
    }
   ],
   "source": [
    "!which python"
   ]
  },
  {
   "cell_type": "code",
   "execution_count": 40,
   "id": "457dae21-c6da-4c43-a0db-9ebb9613a687",
   "metadata": {
    "tags": []
   },
   "outputs": [],
   "source": [
    "%%bash\n",
    "mkdir -p counts;\n",
    "mkdir -p logs;\n",
    "\n",
    "nohup python \\\n",
    "    scripts/dualguide_fastqgz_to_counts.py \\\n",
    "    JR_V3lib_top2_v2.csv counts \\\n",
    "    fastq_merged/i* &> logs/counts.out &"
   ]
  },
  {
   "cell_type": "code",
   "execution_count": 90,
   "id": "8456d80f-9f69-46aa-a7f2-e46f0c53690b",
   "metadata": {},
   "outputs": [
    {
     "name": "stdout",
     "output_type": "stream",
     "text": [
      "66.2163%\n",
      "average alignment\n"
     ]
    }
   ],
   "source": [
    "!cat logs/counts.out | grep \"Total\" | awk '{ total += $7; count++ } END { print total/count\"%\" }';  echo \"average alignment\""
   ]
  },
  {
   "cell_type": "code",
   "execution_count": 91,
   "id": "1396dd16-f301-40c2-a38c-a1407806069e",
   "metadata": {},
   "outputs": [
    {
     "name": "stdout",
     "output_type": "stream",
     "text": [
      "Total percent matching and mapping reads 66.7778610279259\n"
     ]
    }
   ],
   "source": [
    "!cat logs/counts.out | tail -n 1"
   ]
  },
  {
   "cell_type": "markdown",
   "id": "f51316d7-643a-4b3c-a90d-5041a85e816d",
   "metadata": {},
   "source": [
    "### Merge counts for multiple samples"
   ]
  },
  {
   "cell_type": "code",
   "execution_count": 92,
   "id": "53ae26ae-41f9-4a7d-a301-f02422aeefba",
   "metadata": {
    "tags": []
   },
   "outputs": [],
   "source": [
    "!python /data_gilbert/home/aarab/CRISPR-screenpro/CRISPRi-dual-sgRNA-screens/module1/count_files_to_counts_matrix.py counts results"
   ]
  },
  {
   "cell_type": "markdown",
   "id": "ab42710b-ccc1-4403-bfd7-073dbf63259c",
   "metadata": {},
   "source": [
    "# "
   ]
  },
  {
   "cell_type": "code",
   "execution_count": 93,
   "id": "8c1fee15-3cd8-4f49-b07a-c044f0ac8ddf",
   "metadata": {},
   "outputs": [
    {
     "name": "stdout",
     "output_type": "stream",
     "text": [
      "Mon Apr 17 19:11:07 PDT 2023\n"
     ]
    }
   ],
   "source": [
    "!date"
   ]
  }
 ],
 "metadata": {
  "kernelspec": {
   "display_name": "Python [conda env:screenpro]",
   "language": "python",
   "name": "conda-env-screenpro-py"
  },
  "language_info": {
   "codemirror_mode": {
    "name": "ipython",
    "version": 3
   },
   "file_extension": ".py",
   "mimetype": "text/x-python",
   "name": "python",
   "nbconvert_exporter": "python",
   "pygments_lexer": "ipython3",
   "version": "3.11.3"
  }
 },
 "nbformat": 4,
 "nbformat_minor": 5
}
