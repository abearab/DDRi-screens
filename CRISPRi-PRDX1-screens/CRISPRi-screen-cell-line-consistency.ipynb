{
 "cells": [
  {
   "cell_type": "code",
   "execution_count": 26,
   "metadata": {},
   "outputs": [],
   "source": [
    "library(ggplot2)\n",
    "library(ggrepel)\n",
    "library(RColorBrewer)\n",
    "library(tidyverse)\n",
    "library(patchwork)"
   ]
  },
  {
   "cell_type": "markdown",
   "metadata": {
    "tags": []
   },
   "source": [
    "### functions"
   ]
  },
  {
   "cell_type": "code",
   "execution_count": 28,
   "metadata": {},
   "outputs": [],
   "source": [
    "get_score_df <- function(genetable_collapsed,score,up_hit='resistance_hit',down_hit='sensitivity_hit',threshold = 4){\n",
    "    df = genetable_collapsed[,c('gene', \n",
    "                                paste0(score,'_ave_Rep1_Rep2_Mann.Whitney.p.value_'),\n",
    "                                paste0(score,'_ave_Rep1_Rep2_average.phenotype.of.strongest.3_'))\n",
    "          # which (unlist(gregexpr('rho_ave_Rep1_Rep2', colnames(genetable_collapsed))) == 1))\n",
    "    ] %>% remove_rownames\n",
    "    rownames(df) = seq(length=nrow(df))\n",
    "\n",
    "    colnames(df) <- c('gene','pvalue','score')\n",
    "\n",
    "    df$score = df$score %>% as.double\n",
    "    df$pvalue = df$pvalue %>% as.double\n",
    "\n",
    "    #create dataframe with pseudogene phenotypes\n",
    "    df$label = '.'\n",
    "\n",
    "    df %>% mutate(label = replace(label, grepl('pseudo', df[[1]], fixed = TRUE), 'pseudo')) -> df\n",
    "\n",
    "    pseudo_sd <- df %>% filter(label=='pseudo') %>% select(score) %>% as.list %>% unlist %>% sd\n",
    "\n",
    "    df %>%\n",
    "        mutate(label = replace(\n",
    "            label,score > 0 & label != \"pseudo\" & score / pseudo_sd * -log10(pvalue) >= threshold,\n",
    "            up_hit\n",
    "        ))-> df\n",
    "    df %>%\n",
    "        mutate(label = replace(\n",
    "            label,score < 0 & label != \"pseudo\" & score / pseudo_sd * -log10(pvalue) <= -threshold,\n",
    "            down_hit\n",
    "        )) -> df\n",
    "    df %>% mutate(label = replace(label, label == '.', 'gene_non_hit')) -> df\n",
    "\n",
    "    # reorder factors\n",
    "    df$label <- factor(df$label, levels = c(down_hit, up_hit,'gene_non_hit','pseudo'))\n",
    "    \n",
    "    out = list()\n",
    "    out[[\"data\"]] = df\n",
    "    out[[\"pseudo_sd\"]] = pseudo_sd\n",
    "    return(out)\n",
    "}\n",
    "\n",
    "# scale_color_manual(values = c('#3182bd', '#de2d26'),\n",
    "#                    labels = c('Sensitizing Hits', 'Resistance Hits'))\n",
    "\n",
    "plot_volcano <- function(df, pseudo_sd, score = 'rho',threshold = 4,\n",
    "                         up_hit='resistance_hit',down_hit='sensitivity_hit',\n",
    "                         xlim_l=-2.0,xlim_r=2.0,ylim=4.5){\n",
    "    \n",
    "    draw_threshold <- function(x){threshold * pseudo_sd * sign(x)/(x)}\n",
    "\n",
    "    p <- df %>% drop_na %>%\n",
    "        ggplot(aes(x=score,y=-1*log10(pvalue)) ) + \n",
    "        geom_point(\n",
    "            data = df %>% filter(label=='pseudo'), \n",
    "            size = 1, color = 'gray80') +\n",
    "        geom_point(\n",
    "            data = df %>% filter(label=='gene_non_hit'), \n",
    "            size = 1, color = 'gray90') +\n",
    "        geom_point(\n",
    "            data = df %>% filter(label==up_hit), \n",
    "            size = 2, color = '#fcae91') + \n",
    "        geom_point(\n",
    "            data = df %>% filter(label==down_hit), \n",
    "            size = 2, color = '#bdd7e7') \n",
    "    \n",
    "    if (score == 'gamma'){\n",
    "        p + xlab(expression('CRISPRi control phenotype (' * gamma * ')')) -> p\n",
    "    } \n",
    "    if (score == 'rho'){\n",
    "        p + xlab(expression('CRISPRi drug phenotype (' * rho * ')')) -> p\n",
    "    }\n",
    "    p +\n",
    "        theme_classic() +\n",
    "        xlim(xlim_l,xlim_r) +\n",
    "        scale_y_continuous(limits = c(0.1,ylim)) +\n",
    "        ylab(expression('-log'[10] * '(Mann-Whitney p-value)')) +\n",
    "        stat_function(fun = draw_threshold, linetype = 'dashed', color = 'black') -> p\n",
    "    \n",
    "    return(p)\n",
    "}\n",
    "\n",
    "label_as_black <- function(p,dd, size = 3, t_x = -0.2, t_y = -0.1){\n",
    "    p + geom_point(\n",
    "        data = dd, \n",
    "        size = size, shape=21,\n",
    "        stroke=0.5, \n",
    "        colour = \"black\", fill = \"black\"\n",
    "    ) + \n",
    "    geom_text_repel(data = dd,\n",
    "                    aes(label=gene),\n",
    "                    color = 'black', size = size, nudge_x = t_x, nudge_y = t_y)\n",
    "}\n",
    "\n",
    "label_sensitivity_hit <- function(p,dd, size = 2, t_x = -0.2, t_y = -0.1){\n",
    "    p + geom_point(\n",
    "        data = dd, \n",
    "        size = size, shape=21,\n",
    "        # stroke=0.5, \n",
    "        # colour = \"grey30\", \n",
    "        fill = \"#3182bd\"\n",
    "    ) + \n",
    "    geom_text_repel(data = dd,\n",
    "                    aes(label=gene),\n",
    "                    color = 'black', size = size, nudge_x = t_x, nudge_y = t_y)\n",
    "}\n",
    "\n",
    "label_resistance_hit <- function(p,dd, size = 3, t_x = 0.2, t_y = 0.1){\n",
    "    p + geom_point(\n",
    "        data = dd, \n",
    "        size = size, shape=21,\n",
    "        stroke=0.5, \n",
    "        colour = \"grey30\", fill = \"#de2d26\"\n",
    "    ) + \n",
    "    geom_text_repel(data = dd,\n",
    "                    aes(label=gene),\n",
    "                    color = 'black', size = size, nudge_x = t_x, nudge_y = t_y)\n",
    "}"
   ]
  },
  {
   "cell_type": "markdown",
   "metadata": {},
   "source": [
    "### load ScreenProcessing results and rho $\\rho$ scores"
   ]
  },
  {
   "cell_type": "code",
   "execution_count": 138,
   "metadata": {},
   "outputs": [],
   "source": [
    "read_scores <- function(file_path,threshold){\n",
    "    genetable_collapsed = read_genetable_collapsed(file_path)\n",
    "\n",
    "    out = c()\n",
    "\n",
    "    out$rho = get_score_df(genetable_collapsed,\"rho\", threshold = threshold)\n",
    "\n",
    "    out$rho$data = out$rho$data %>% \n",
    "        filter(duplicated(gene) == FALSE) %>%\n",
    "        column_to_rownames('gene')\n",
    "\n",
    "    out$gamma = get_score_df(genetable_collapsed,\"gamma\",\n",
    "                             up_hit = \"up_hit\", \n",
    "                             down_hit = \"essential_hit\",\n",
    "                             threshold = threshold)\n",
    "\n",
    "    out$gamma$data = out$gamma$data %>% \n",
    "        filter(duplicated(gene) == FALSE) %>%\n",
    "        column_to_rownames('gene')\n",
    "    \n",
    "    return(out)\n",
    "}"
   ]
  },
  {
   "cell_type": "code",
   "execution_count": 104,
   "metadata": {},
   "outputs": [],
   "source": [
    "threshold=1"
   ]
  },
  {
   "cell_type": "code",
   "execution_count": 105,
   "metadata": {},
   "outputs": [],
   "source": [
    "hl60_exp1_DAC = read_scores('hl60_exp1/genetable_collapsed.txt',threshold=threshold)"
   ]
  },
  {
   "cell_type": "code",
   "execution_count": 106,
   "metadata": {},
   "outputs": [],
   "source": [
    "molm13_exp_DAC = read_scores('molm13_exp/genetable_collapsed.txt',threshold=threshold)"
   ]
  },
  {
   "cell_type": "code",
   "execution_count": 107,
   "metadata": {},
   "outputs": [],
   "source": [
    "skm1_exp_DAC = read_scores('skm1_exp/genetable_collapsed.txt',threshold=threshold)"
   ]
  },
  {
   "cell_type": "markdown",
   "metadata": {},
   "source": [
    "### combined cell lines"
   ]
  },
  {
   "cell_type": "code",
   "execution_count": 108,
   "metadata": {},
   "outputs": [],
   "source": [
    "cell_lines_DAC = cbind(\n",
    "    hl60_exp1_DAC$rho$data %>% rename_with( .fn = function(.x){paste0(\"rho_hl60_\", .x)}),\n",
    "    molm13_exp_DAC$rho$data %>% rename_with( .fn = function(.x){paste0(\"rho_molm13_\", .x)}),\n",
    "    skm1_exp_DAC$rho$data %>% rename_with( .fn = function(.x){paste0(\"rho_skm1_\", .x)}),\n",
    "\n",
    "    hl60_exp1_DAC$gamma$data %>% rename_with( .fn = function(.x){paste0(\"gamma_hl60_\", .x)}),\n",
    "    molm13_exp_DAC$gamma$data %>% rename_with( .fn = function(.x){paste0(\"gamma_molm13_\", .x)}),\n",
    "    skm1_exp_DAC$gamma$data %>% rename_with( .fn = function(.x){paste0(\"gamma_skm1_\", .x)})\n",
    ")"
   ]
  },
  {
   "cell_type": "code",
   "execution_count": 109,
   "metadata": {},
   "outputs": [
    {
     "data": {
      "text/html": [
       "<table class=\"dataframe\">\n",
       "<caption>A grouped_df: 4 × 2</caption>\n",
       "<thead>\n",
       "\t<tr><th scope=col>gamma_hl60_label</th><th scope=col>n</th></tr>\n",
       "\t<tr><th scope=col>&lt;fct&gt;</th><th scope=col>&lt;int&gt;</th></tr>\n",
       "</thead>\n",
       "<tbody>\n",
       "\t<tr><td>essential_hit</td><td> 3611</td></tr>\n",
       "\t<tr><td>up_hit       </td><td> 1231</td></tr>\n",
       "\t<tr><td>gene_non_hit </td><td>14063</td></tr>\n",
       "\t<tr><td>pseudo       </td><td>18905</td></tr>\n",
       "</tbody>\n",
       "</table>\n"
      ],
      "text/latex": [
       "A grouped\\_df: 4 × 2\n",
       "\\begin{tabular}{ll}\n",
       " gamma\\_hl60\\_label & n\\\\\n",
       " <fct> & <int>\\\\\n",
       "\\hline\n",
       "\t essential\\_hit &  3611\\\\\n",
       "\t up\\_hit        &  1231\\\\\n",
       "\t gene\\_non\\_hit  & 14063\\\\\n",
       "\t pseudo        & 18905\\\\\n",
       "\\end{tabular}\n"
      ],
      "text/markdown": [
       "\n",
       "A grouped_df: 4 × 2\n",
       "\n",
       "| gamma_hl60_label &lt;fct&gt; | n &lt;int&gt; |\n",
       "|---|---|\n",
       "| essential_hit |  3611 |\n",
       "| up_hit        |  1231 |\n",
       "| gene_non_hit  | 14063 |\n",
       "| pseudo        | 18905 |\n",
       "\n"
      ],
      "text/plain": [
       "  gamma_hl60_label n    \n",
       "1 essential_hit     3611\n",
       "2 up_hit            1231\n",
       "3 gene_non_hit     14063\n",
       "4 pseudo           18905"
      ]
     },
     "metadata": {},
     "output_type": "display_data"
    }
   ],
   "source": [
    "cell_lines_DAC %>% group_by(\n",
    "    # rho_hl60_label,\n",
    "    # rho_molm13_label,\n",
    "    # rho_molm13_label,\n",
    "    gamma_hl60_label,\n",
    "    # rho_skm1_label\n",
    "                           ) %>% count"
   ]
  },
  {
   "cell_type": "code",
   "execution_count": 110,
   "metadata": {},
   "outputs": [
    {
     "data": {
      "text/html": [
       "<table class=\"dataframe\">\n",
       "<caption>A grouped_df: 4 × 2</caption>\n",
       "<thead>\n",
       "\t<tr><th scope=col>gamma_molm13_label</th><th scope=col>n</th></tr>\n",
       "\t<tr><th scope=col>&lt;fct&gt;</th><th scope=col>&lt;int&gt;</th></tr>\n",
       "</thead>\n",
       "<tbody>\n",
       "\t<tr><td>essential_hit</td><td> 4199</td></tr>\n",
       "\t<tr><td>up_hit       </td><td> 1181</td></tr>\n",
       "\t<tr><td>gene_non_hit </td><td>13525</td></tr>\n",
       "\t<tr><td>pseudo       </td><td>18905</td></tr>\n",
       "</tbody>\n",
       "</table>\n"
      ],
      "text/latex": [
       "A grouped\\_df: 4 × 2\n",
       "\\begin{tabular}{ll}\n",
       " gamma\\_molm13\\_label & n\\\\\n",
       " <fct> & <int>\\\\\n",
       "\\hline\n",
       "\t essential\\_hit &  4199\\\\\n",
       "\t up\\_hit        &  1181\\\\\n",
       "\t gene\\_non\\_hit  & 13525\\\\\n",
       "\t pseudo        & 18905\\\\\n",
       "\\end{tabular}\n"
      ],
      "text/markdown": [
       "\n",
       "A grouped_df: 4 × 2\n",
       "\n",
       "| gamma_molm13_label &lt;fct&gt; | n &lt;int&gt; |\n",
       "|---|---|\n",
       "| essential_hit |  4199 |\n",
       "| up_hit        |  1181 |\n",
       "| gene_non_hit  | 13525 |\n",
       "| pseudo        | 18905 |\n",
       "\n"
      ],
      "text/plain": [
       "  gamma_molm13_label n    \n",
       "1 essential_hit       4199\n",
       "2 up_hit              1181\n",
       "3 gene_non_hit       13525\n",
       "4 pseudo             18905"
      ]
     },
     "metadata": {},
     "output_type": "display_data"
    }
   ],
   "source": [
    "cell_lines_DAC %>% group_by(\n",
    "    # rho_hl60_label,\n",
    "    # rho_molm13_label,\n",
    "    # rho_molm13_label,\n",
    "    gamma_molm13_label,\n",
    "    # rho_skm1_label\n",
    "                           ) %>% count"
   ]
  },
  {
   "cell_type": "code",
   "execution_count": 111,
   "metadata": {},
   "outputs": [
    {
     "data": {
      "text/html": [
       "<table class=\"dataframe\">\n",
       "<caption>A grouped_df: 4 × 2</caption>\n",
       "<thead>\n",
       "\t<tr><th scope=col>gamma_skm1_label</th><th scope=col>n</th></tr>\n",
       "\t<tr><th scope=col>&lt;fct&gt;</th><th scope=col>&lt;int&gt;</th></tr>\n",
       "</thead>\n",
       "<tbody>\n",
       "\t<tr><td>essential_hit</td><td> 4887</td></tr>\n",
       "\t<tr><td>up_hit       </td><td> 1470</td></tr>\n",
       "\t<tr><td>gene_non_hit </td><td>12548</td></tr>\n",
       "\t<tr><td>pseudo       </td><td>18905</td></tr>\n",
       "</tbody>\n",
       "</table>\n"
      ],
      "text/latex": [
       "A grouped\\_df: 4 × 2\n",
       "\\begin{tabular}{ll}\n",
       " gamma\\_skm1\\_label & n\\\\\n",
       " <fct> & <int>\\\\\n",
       "\\hline\n",
       "\t essential\\_hit &  4887\\\\\n",
       "\t up\\_hit        &  1470\\\\\n",
       "\t gene\\_non\\_hit  & 12548\\\\\n",
       "\t pseudo        & 18905\\\\\n",
       "\\end{tabular}\n"
      ],
      "text/markdown": [
       "\n",
       "A grouped_df: 4 × 2\n",
       "\n",
       "| gamma_skm1_label &lt;fct&gt; | n &lt;int&gt; |\n",
       "|---|---|\n",
       "| essential_hit |  4887 |\n",
       "| up_hit        |  1470 |\n",
       "| gene_non_hit  | 12548 |\n",
       "| pseudo        | 18905 |\n",
       "\n"
      ],
      "text/plain": [
       "  gamma_skm1_label n    \n",
       "1 essential_hit     4887\n",
       "2 up_hit            1470\n",
       "3 gene_non_hit     12548\n",
       "4 pseudo           18905"
      ]
     },
     "metadata": {},
     "output_type": "display_data"
    }
   ],
   "source": [
    "cell_lines_DAC %>% group_by(\n",
    "    # rho_hl60_label,\n",
    "    # rho_molm13_label,\n",
    "    # rho_molm13_label,\n",
    "    gamma_skm1_label,\n",
    "    # rho_skm1_label\n",
    "                           ) %>% count"
   ]
  },
  {
   "cell_type": "code",
   "execution_count": 118,
   "metadata": {},
   "outputs": [],
   "source": [
    "bioRxiv_labels = c(\n",
    "    \"DCK\",\n",
    "    \"SLC29A1\",\n",
    "    \"DCTD\", # not in bioRxiv!!\n",
    "    \"DCP2\",\n",
    "    \"DCP1A\",\n",
    "    \"DCPS\",\n",
    "    \"METTL3\",\n",
    "    \"KIAA1429\",\n",
    "    \"CBLL1\",\n",
    "    \"ZC3H13\",\n",
    "    \"YTHDF2\",\n",
    "    \"YTHDC1\",\n",
    "    \"MCL1\",\n",
    "    \"BCL2\",\n",
    "    \"SQLE\",\n",
    "    \"INTS5\",\n",
    "    \"MYBBP1A\"\n",
    ")\n",
    "\n",
    "cell_lines_DAC[bioRxiv_labels,] %>% write.table(\n",
    "    'cell_lines_DAC_bioRxiv_labels.txt',sep='\\t',quote=F,row.names=T\n",
    ")"
   ]
  },
  {
   "cell_type": "code",
   "execution_count": 196,
   "metadata": {},
   "outputs": [],
   "source": [
    "cell_lines_DAC %>% write.table(\n",
    "    'cell_lines_DAC_rho_and_gamma.txt',sep='\\t',quote=F,row.names=T\n",
    ")"
   ]
  },
  {
   "cell_type": "code",
   "execution_count": 115,
   "metadata": {},
   "outputs": [],
   "source": [
    "# cell_lines_DAC[c('BLM','BTAF1','DNAJA2','ERCC6','ERCC6-PGBD3','FZR1','ILF3','MYBBP1A','PGBD3','PUM1','RAD51','TFRC','WEE1','ZC3H3'),] %>% t"
   ]
  },
  {
   "cell_type": "markdown",
   "metadata": {},
   "source": [
    "### volcano plots"
   ]
  },
  {
   "cell_type": "code",
   "execution_count": 116,
   "metadata": {},
   "outputs": [],
   "source": [
    "# # cell_lines_DAC_rho %>% group_by(hl60_label,molm13_label) %>% count\n",
    "# cell_lines_DAC %>% \n",
    "#     # filter(hl60_label=='resistance_hit' & molm13_label=='sensitivity_hit') %>% \n",
    "#     # filter(hl60_label=='sensitivity_hit' & molm13_label=='sensitivity_hit') %>% \n",
    "#     # filter(hl60_label=='resistance_hit' & molm13_label=='resistance_hit' & skm1_label =='resistance_hit') %>% \n",
    "#     filter(rho_hl60_label=='sensitivity_hit' & rho_molm13_label=='sensitivity_hit' & rho_skm1_label =='sensitivity_hit') %>% \n",
    "#     arrange(rho_hl60_label) # %>% rownames"
   ]
  },
  {
   "cell_type": "markdown",
   "metadata": {},
   "source": [
    "### Reference\n",
    "- ZC3H3 – https://omim.org/entry/618640\n",
    "    - not very well studied \n",
    "\n",
    "\n",
    "- BLM\n",
    "    - https://www.ncbi.nlm.nih.gov/pmc/articles/PMC4052885/\n",
    "\n",
    "\n",
    "- PGBD3 – PiggyBac Transposable Element Derived 3) "
   ]
  },
  {
   "cell_type": "code",
   "execution_count": 148,
   "metadata": {},
   "outputs": [],
   "source": [
    "vol_hl60 = plot_volcano(\n",
    "    hl60_exp1_DAC$rho$data,hl60_exp1_DAC$rho$pseudo_sd,threshold=threshold, xlim_l = -2,xlim_r = 2,ylim = 4.5    \n",
    ") %>% label_as_black(\n",
    "    hl60_exp1_DAC$rho$data[bioRxiv_labels,] %>% rownames_to_column('gene')\n",
    ") + \n",
    "    ggtitle('HL-60') + theme(plot.title = element_text(size = 20,hjust = 0.5) )"
   ]
  },
  {
   "cell_type": "code",
   "execution_count": 150,
   "metadata": {},
   "outputs": [],
   "source": [
    "res_genes_molm13 = c('DCK',\"SLC29A1\",'DCTD',\"METTL3\",'KIAA1429')\n",
    "sen_genes_molm13 = c('MYBBP1A','INTS5')\n",
    "\n",
    "vol_molm13 = plot_volcano(\n",
    "    molm13_exp_DAC$rho$data,molm13_exp_DAC$rho$pseudo_sd,threshold=threshold, xlim_l = -2,xlim_r = 2,ylim = 4.5    \n",
    ") %>% label_as_black(\n",
    "    molm13_exp_DAC$rho$data[bioRxiv_labels,] %>% rownames_to_column('gene')\n",
    "# ) %>% label_resistance_hit(\n",
    "#     molm13_exp_DAC$rho$data[res_genes_molm13,] %>% rownames_to_column('gene')\n",
    "# ) %>% label_sensitivity_hit(\n",
    "#     molm13_exp_DAC$rho$data[sen_genes_molm13,] %>% rownames_to_column('gene')\n",
    ") + \n",
    "    ggtitle('MOLM-13') + theme(plot.title = element_text(size = 20,hjust = 0.5) )"
   ]
  },
  {
   "cell_type": "code",
   "execution_count": 151,
   "metadata": {},
   "outputs": [],
   "source": [
    "res_genes_skm1 = c('DCK',\"SLC29A1\",'DCTD',\"METTL3\",'CBLL1')\n",
    "sen_genes_skm1 = c(\"MCL1\",\"BCL2\",\"SQLE\",'MYBBP1A',\"DCP2\",\"DCPS\")\n",
    "\n",
    "vol_skm1 = plot_volcano(\n",
    "    skm1_exp_DAC$rho$data,skm1_exp_DAC$rho$pseudo_sd,threshold=threshold, xlim_l = -1.2,xlim_r = 1.2,ylim = 4.5\n",
    ") %>% label_as_black(\n",
    "    skm1_exp_DAC$rho$data[bioRxiv_labels,] %>% rownames_to_column('gene')\n",
    "# ) %>% label_resistance_hit(\n",
    "#     skm1_exp_DAC$rho$data[res_genes_skm1,] %>% rownames_to_column('gene')\n",
    "# ) %>% label_sensitivity_hit(\n",
    "#     skm1_exp_DAC$rho$data[sen_genes_skm1,] %>% rownames_to_column('gene')\n",
    ") +\n",
    "    ggtitle('SKM1') + theme(plot.title = element_text(size = 20,hjust = 0.5) )"
   ]
  },
  {
   "cell_type": "markdown",
   "metadata": {
    "tags": []
   },
   "source": [
    "### gamma vs rho"
   ]
  },
  {
   "cell_type": "code",
   "execution_count": 152,
   "metadata": {},
   "outputs": [],
   "source": [
    "plot_rho_vs_gamma<-function(df,name){\n",
    "    df %>% ggplot(aes(x=x, y=y)) + \n",
    "        geom_point(\n",
    "            data = df %>% filter(gamma=='gene_non_hit' & rho=='gene_non_hit'), \n",
    "            alpha=10/100, size = 1, color = 'gray90') +\n",
    "        geom_point(\n",
    "            data = df %>% filter(gamma=='pseudo'), \n",
    "            alpha=1/100, size = 1, color = 'gray90', shape = 21\n",
    "        ) +\n",
    "        geom_point(\n",
    "            data = df %>% filter(rho=='resistance_hit'), \n",
    "            alpha=80/100, size = 2, color = '#fcae91') + \n",
    "        geom_point(\n",
    "            data = df %>% filter(rho=='sensitivity_hit'), \n",
    "            alpha=80/100, size = 2, color = '#bdd7e7') +\n",
    "        theme_classic() +\n",
    "        # xlim(-1.0, 1.0) +\n",
    "        ylim(-1, 0.19) +\n",
    "        ylab(expression('CRISPRi control phenotype (' * gamma * ')')) +\n",
    "        xlab(expression('CRISPRi drug phenotype (' * rho * ')')) +\n",
    "        theme(axis.text.x = element_text(size = 15, color = 'black'),\n",
    "              axis.text.y = element_text(size = 15, color = 'black'),\n",
    "              axis.title.x = element_text(size = 16),\n",
    "              axis.title.y = element_text(size = 16),\n",
    "              legend.title = element_blank(),\n",
    "              legend.text = element_text(size = rel(1.5), color = 'black'),\n",
    "              legend.position = 'right'\n",
    "    ) -> pp\n",
    "    \n",
    "    pp + ggtitle(name) + theme(\n",
    "        plot.title = element_text(size = 20,hjust = 0.5)\n",
    "    ) -> pp\n",
    "   \n",
    "    pp + geom_hline(yintercept = 0,linetype = 'dashed', color = 'gray50') -> pp\n",
    "\n",
    "    return(pp)\n",
    "}"
   ]
  },
  {
   "cell_type": "code",
   "execution_count": 154,
   "metadata": {},
   "outputs": [],
   "source": [
    "ann_labels <- function(df, p, res_labels,sen_labels){\n",
    "    p <- label_sensitivity_hit(p, df %>% rownames_to_column('gene') %>% dplyr::filter(gene %in% sen_labels),size = 3)\n",
    "    p <- label_resistance_hit(p,  df %>% rownames_to_column('gene') %>% dplyr::filter(gene %in% res_labels),size = 3)\n",
    "    return(p)\n",
    "}"
   ]
  },
  {
   "cell_type": "code",
   "execution_count": 155,
   "metadata": {},
   "outputs": [],
   "source": [
    "# cell_lines_DAC %>% \n",
    "#     dplyr::rename(x=rho_hl60_score,y=gamma_hl60_score,rho=rho_hl60_label,gamma=gamma_hl60_label) %>% \n",
    "#     select(x,y,rho,gamma) %>%\n",
    "#     plot_rho_vs_gamma(name='HL-60')"
   ]
  },
  {
   "cell_type": "code",
   "execution_count": 160,
   "metadata": {},
   "outputs": [],
   "source": [
    "df = cell_lines_DAC %>% \n",
    "    dplyr::rename(x=rho_molm13_score,y=gamma_molm13_score,rho=rho_molm13_label,gamma=gamma_molm13_label) %>% \n",
    "    select(x,y,rho,gamma) \n",
    "\n",
    "rho_gamma_scatter_molm13 = df %>%\n",
    "    plot_rho_vs_gamma('MOLM-13') %>% \n",
    "    label_as_black(df %>% rownames_to_column('gene') %>% dplyr::filter(gene %in% bioRxiv_labels),size = 3)\n",
    "\n",
    "# rho_gamma_scatter_molm13 = ann_labels(\n",
    "#     df,rho_gamma_scatter_molm13,\n",
    "#     res_labels = res_genes_molm13,\n",
    "#     sen_labels = sen_genes_molm13\n",
    "# )"
   ]
  },
  {
   "cell_type": "code",
   "execution_count": 161,
   "metadata": {},
   "outputs": [],
   "source": [
    "df = cell_lines_DAC %>% \n",
    "    dplyr::rename(x=rho_skm1_score,y=gamma_skm1_score,rho=rho_skm1_label,gamma=gamma_skm1_label) %>% \n",
    "    select(x,y,rho,gamma) \n",
    "\n",
    "rho_gamma_scatter_skm1 = df %>%\n",
    "    plot_rho_vs_gamma('SKM1') %>% \n",
    "    label_as_black(df %>% rownames_to_column('gene') %>% dplyr::filter(gene %in% bioRxiv_labels),size = 3)\n",
    "\n",
    "# rho_gamma_scatter_skm1 = ann_labels(\n",
    "#     df, rho_gamma_scatter_skm1,\n",
    "#     res_labels = res_genes_skm1,\n",
    "#     sen_labels = sen_genes_skm1\n",
    "# )"
   ]
  },
  {
   "cell_type": "markdown",
   "metadata": {},
   "source": [
    "### cell line scatter plots"
   ]
  },
  {
   "cell_type": "code",
   "execution_count": 162,
   "metadata": {},
   "outputs": [],
   "source": [
    "ann_pp <- function(pp,x_limits,y_limits){\n",
    "    pp + \n",
    "        geom_hline(yintercept = 0,linetype = 'dashed', color = 'gray50') +\n",
    "        geom_vline(xintercept = 0,linetype = 'dashed', color = 'gray50') +\n",
    "        scale_x_continuous(limits = x_limits,breaks = seq(-1, 1, by = 0.5)) +\n",
    "        scale_y_continuous(limits = y_limits,breaks = seq(-2, 1, by = 0.5)) -> pp\n",
    "    \n",
    "    return(pp)\n",
    "}"
   ]
  },
  {
   "cell_type": "markdown",
   "metadata": {},
   "source": [
    "#### rho vs rho"
   ]
  },
  {
   "cell_type": "code",
   "execution_count": 181,
   "metadata": {},
   "outputs": [],
   "source": [
    "cell_lines_DAC %>% ggplot(aes(x=rho_hl60_score, y=rho_molm13_score)) +\n",
    "    geom_point(\n",
    "        data = cell_lines_DAC %>% filter(!(rho_hl60_label=='pseudo' | rho_molm13_label=='pseudo')),\n",
    "        alpha=10/100, size = 1, color = 'gray10', shape = 21\n",
    "    ) +\n",
    "    geom_point(\n",
    "        data = cell_lines_DAC %>% filter(rho_hl60_label=='pseudo' | rho_molm13_label=='pseudo'),\n",
    "        alpha=1/100, size = 1, color = 'gray90', shape = 21\n",
    "    ) +\n",
    "    geom_point(\n",
    "        data = cell_lines_DAC %>% filter(rho_hl60_label=='resistance_hit' & rho_molm13_label=='resistance_hit'),\n",
    "        alpha=30/100, size = 2, color = '#fcae91') + \n",
    "    geom_point(\n",
    "        data = cell_lines_DAC %>% filter(rho_hl60_label=='sensitivity_hit' & rho_molm13_label=='sensitivity_hit'),\n",
    "        alpha=30/100, size = 2, color = '#bdd7e7') +\n",
    "    theme_classic() +\n",
    "#     xlim(-1.0, 1.0) +\n",
    "#     ylim(-0.7, 0.2) +\n",
    "    ylab(expression('MOLM-13 CRISPRi drug phenotype (' * rho * ')')) +\n",
    "    xlab(expression('HL-60 CRISPRi drug phenotype (' * rho * ')')) +\n",
    "    theme(axis.text.x = element_text(size = 15, color = 'black'),\n",
    "          axis.text.y = element_text(size = 15, color = 'black'),\n",
    "          axis.title.x = element_text(size = 16),\n",
    "          axis.title.y = element_text(size = 16),\n",
    "          legend.title = element_blank(),\n",
    "          legend.text = element_text(size = rel(1.5), color = 'black'),\n",
    "          legend.position = 'right'\n",
    ") -> pp\n",
    "\n",
    "pp %>% label_as_black(cell_lines_DAC %>% rownames_to_column('gene') %>% dplyr::filter(gene %in% bioRxiv_labels),size = 3) -> pp\n",
    "\n",
    "# ann_labels(cell_lines_DAC,pp,\n",
    "#     res_labels = res_genes_molm13,\n",
    "#     sen_labels = sen_genes_molm13\n",
    "# )-> pp\n",
    "\n",
    "ann_pp(pp,\n",
    "       c(-1,1),c(-2,1)) -> pp\n",
    "\n",
    "pp -> rho_hl60_vs_rho_molm13"
   ]
  },
  {
   "cell_type": "code",
   "execution_count": 182,
   "metadata": {},
   "outputs": [],
   "source": [
    "cell_lines_DAC %>% ggplot(aes(x=rho_hl60_score, y=rho_skm1_score)) +\n",
    "    geom_point(\n",
    "        data = cell_lines_DAC %>% filter(!(rho_hl60_label=='pseudo' | rho_skm1_label=='pseudo')),\n",
    "        alpha=10/100, size = 1, color = 'gray10', shape = 21\n",
    "    ) +\n",
    "    geom_point(\n",
    "        data = cell_lines_DAC %>% filter(rho_hl60_label=='pseudo' | rho_skm1_label=='pseudo'),\n",
    "        alpha=1/100, size = 1, color = 'gray90', shape = 21\n",
    "    ) +\n",
    "    geom_point(\n",
    "        data = cell_lines_DAC %>% filter(rho_hl60_label=='resistance_hit' & rho_skm1_label=='resistance_hit'),\n",
    "        alpha=30/100, size = 2, color = '#fcae91') + \n",
    "    geom_point(\n",
    "        data = cell_lines_DAC %>% filter(rho_hl60_label=='sensitivity_hit' & rho_skm1_label=='sensitivity_hit'),\n",
    "        alpha=30/100, size = 2, color = '#bdd7e7') +\n",
    "    theme_classic() +\n",
    "#     xlim(-1.0, 1.0) +\n",
    "#     ylim(-0.7, 0.2) +\n",
    "    ylab(expression('SKM-1 CRISPRi drug phenotype (' * rho * ')')) +\n",
    "    xlab(expression('HL-60 CRISPRi drug phenotype (' * rho * ')')) +\n",
    "    theme(axis.text.x = element_text(size = 15, color = 'black'),\n",
    "          axis.text.y = element_text(size = 15, color = 'black'),\n",
    "          axis.title.x = element_text(size = 16),\n",
    "          axis.title.y = element_text(size = 16),\n",
    "          legend.title = element_blank(),\n",
    "          legend.text = element_text(size = rel(1.5), color = 'black'),\n",
    "          legend.position = 'right'          \n",
    ") -> pp\n",
    "\n",
    "pp %>% label_as_black(cell_lines_DAC %>% rownames_to_column('gene') %>% dplyr::filter(gene %in% bioRxiv_labels),size = 3) -> pp\n",
    "\n",
    "# ann_labels(cell_lines_DAC,pp,\n",
    "#     res_labels = res_genes,\n",
    "#     sen_labels = sen_genes_skm1\n",
    "# )->pp\n",
    "\n",
    "ann_pp(pp,\n",
    "       c(-1,1),c(-1.2,1.2)) -> pp\n",
    "\n",
    "pp -> rho_hl60_vs_rho_skm1"
   ]
  },
  {
   "cell_type": "markdown",
   "metadata": {},
   "source": [
    "#### gamma vs gamma"
   ]
  },
  {
   "cell_type": "code",
   "execution_count": 189,
   "metadata": {},
   "outputs": [],
   "source": [
    "cell_lines_DAC %>% ggplot(aes(x=gamma_hl60_score, y=gamma_molm13_score)) +\n",
    "    geom_point(\n",
    "        data = cell_lines_DAC %>% filter(!(gamma_hl60_score=='pseudo' | gamma_molm13_score=='pseudo')),\n",
    "        alpha=10/100, size = 1, color = 'gray10', shape = 21\n",
    "    ) +\n",
    "    geom_point(\n",
    "        data = cell_lines_DAC %>% filter(gamma_hl60_score=='pseudo' | gamma_molm13_score=='pseudo'),\n",
    "        alpha=1/100, size = 1, color = 'gray90', shape = 21\n",
    "    ) +\n",
    "    geom_point(\n",
    "        data = cell_lines_DAC %>% filter(gamma_hl60_score=='up_hit' & gamma_molm13_score=='essential_hit'),\n",
    "        alpha=30/100, size = 2, color = '#fcae91') + \n",
    "    geom_point(\n",
    "        data = cell_lines_DAC %>% filter(gamma_hl60_score=='up_hit' & gamma_molm13_score=='essential_hit'),\n",
    "        alpha=30/100, size = 2, color = '#bdd7e7') +\n",
    "    theme_classic() +\n",
    "    # xlim(-1.0, 1.0) +\n",
    "    # ylim(-0.7, 0.2) +\n",
    "    ylab(expression('MOLM-13 CRISPRi control phenotype (' * gamma * ')')) + \n",
    "    xlab(expression('HL-60 CRISPRi control phenotype (' * gamma * ')')) +\n",
    "    theme(axis.text.x = element_text(size = 15, color = 'black'),\n",
    "          axis.text.y = element_text(size = 15, color = 'black'),\n",
    "          axis.title.x = element_text(size = 16),\n",
    "          axis.title.y = element_text(size = 16),\n",
    "          legend.title = element_blank(),\n",
    "          legend.text = element_text(size = rel(1.5), color = 'black'),\n",
    "          legend.position = 'right'\n",
    ") -> pp\n",
    "\n",
    "pp %>% label_as_black(cell_lines_DAC %>% rownames_to_column('gene') %>% dplyr::filter(gene %in% bioRxiv_labels),size = 3) -> pp\n",
    "\n",
    "# ann_labels(cell_lines_DAC,pp,\n",
    "#     res_labels = res_genes_molm13,\n",
    "#     sen_labels = sen_genes_molm13\n",
    "# )-> pp\n",
    "\n",
    "ann_pp(pp,\n",
    "       c(-1,0.5),c(-1,0.5)) -> pp\n",
    "\n",
    "pp -> gamma_hl60_vs_gamma_molm13"
   ]
  },
  {
   "cell_type": "code",
   "execution_count": 190,
   "metadata": {},
   "outputs": [],
   "source": [
    "cell_lines_DAC %>% ggplot(aes(x=gamma_hl60_score, y=gamma_skm1_score)) +\n",
    "    geom_point(\n",
    "        data = cell_lines_DAC %>% filter(!(gamma_hl60_score=='pseudo' | gamma_skm1_score=='pseudo')),\n",
    "        alpha=10/100, size = 1, color = 'gray10', shape = 21\n",
    "    ) +\n",
    "    geom_point(\n",
    "        data = cell_lines_DAC %>% filter(gamma_hl60_score=='pseudo' | gamma_skm1_score=='pseudo'),\n",
    "        alpha=1/100, size = 1, color = 'gray90', shape = 21\n",
    "    ) +\n",
    "    geom_point(\n",
    "        data = cell_lines_DAC %>% filter(gamma_hl60_score=='up_hit' & gamma_skm1_score=='essential_hit'),\n",
    "        alpha=30/100, size = 2, color = '#fcae91') + \n",
    "    geom_point(\n",
    "        data = cell_lines_DAC %>% filter(gamma_hl60_score=='up_hit' & gamma_skm1_score=='essential_hit'),\n",
    "        alpha=30/100, size = 2, color = '#bdd7e7') +\n",
    "    theme_classic() +\n",
    "    # xlim(-1.0, 1.0) +\n",
    "    # ylim(-0.7, 0.2) +\n",
    "    ylab(expression('SKM1 CRISPRi control phenotype (' * gamma * ')')) + \n",
    "    xlab(expression('HL-60 CRISPRi control phenotype (' * gamma * ')')) +\n",
    "    theme(axis.text.x = element_text(size = 15, color = 'black'),\n",
    "          axis.text.y = element_text(size = 15, color = 'black'),\n",
    "          axis.title.x = element_text(size = 16),\n",
    "          axis.title.y = element_text(size = 16),\n",
    "          legend.title = element_blank(),\n",
    "          legend.text = element_text(size = rel(1.5), color = 'black'),\n",
    "          legend.position = 'right'\n",
    ") -> pp\n",
    "\n",
    "pp %>% label_as_black(cell_lines_DAC %>% rownames_to_column('gene') %>% dplyr::filter(gene %in% bioRxiv_labels),size = 3) -> pp\n",
    "\n",
    "# ann_labels(cell_lines_DAC,pp,\n",
    "#     res_labels = res_genes,\n",
    "#     sen_labels = sen_genes_skm1\n",
    "# )->pp\n",
    "\n",
    "ann_pp(pp,\n",
    "       c(-1,0.5),c(-1,0.5)) -> pp\n",
    "\n",
    "pp -> gamma_hl60_vs_gamma_skm1"
   ]
  },
  {
   "cell_type": "code",
   "execution_count": 191,
   "metadata": {},
   "outputs": [],
   "source": [
    "# ggsave('plots/CRISPRi-cell-lines-rho.pdf',\n",
    "#        ann_pp(pp1,c(-1,1),c(-1.8,1.2)) +\n",
    "#        ann_pp(pp2,c(-1,1),c(-1.2,1.2)),\n",
    "#        width = 12, height = 6)"
   ]
  },
  {
   "cell_type": "code",
   "execution_count": 192,
   "metadata": {},
   "outputs": [],
   "source": [
    "# ggsave('plots/CRISPRi-cell-lines-rho.png',\n",
    "#        ann_pp(pp1,c(-1,1),c(-1.8,1.2)) +\n",
    "#        ann_pp(pp2,c(-1,1),c(-1.2,1.2)),\n",
    "#        width = 12, height = 6)"
   ]
  },
  {
   "cell_type": "code",
   "execution_count": null,
   "metadata": {},
   "outputs": [],
   "source": []
  },
  {
   "cell_type": "code",
   "execution_count": 193,
   "metadata": {},
   "outputs": [
    {
     "name": "stderr",
     "output_type": "stream",
     "text": [
      "Warning message:\n",
      "“Removed 3827 rows containing missing values (geom_point).”\n",
      "Warning message:\n",
      "“Removed 3495 rows containing missing values (geom_point).”\n",
      "Warning message:\n",
      "“Removed 72 row(s) containing missing values (geom_path).”\n",
      "Warning message:\n",
      "“Removed 3567 rows containing missing values (geom_point).”\n",
      "Warning message:\n",
      "“Removed 3500 rows containing missing values (geom_point).”\n",
      "Warning message:\n",
      "“Removed 1 rows containing missing values (geom_point).”\n",
      "Warning message:\n",
      "“Removed 36 row(s) containing missing values (geom_path).”\n",
      "Warning message:\n",
      "“Removed 3509 rows containing missing values (geom_point).”\n",
      "Warning message:\n",
      "“Removed 3043 rows containing missing values (geom_point).”\n",
      "Warning message:\n",
      "“Removed 62 row(s) containing missing values (geom_path).”\n",
      "Warning message:\n",
      "“Removed 1 rows containing missing values (geom_point).”\n",
      "Warning message:\n",
      "“Removed 1 rows containing missing values (geom_text_repel).”\n",
      "Warning message:\n",
      "“Removed 10 rows containing missing values (geom_point).”\n",
      "Warning message:\n",
      "“Removed 1 rows containing missing values (geom_point).”\n",
      "Warning message:\n",
      "“Removed 2 rows containing missing values (geom_point).”\n",
      "Warning message:\n",
      "“Removed 2 rows containing missing values (geom_point).”\n",
      "Warning message:\n",
      "“Removed 163 rows containing missing values (geom_point).”\n",
      "Warning message:\n",
      "“Removed 104 rows containing missing values (geom_point).”\n"
     ]
    },
    {
     "data": {
      "text/html": [
       "<strong>png:</strong> 2"
      ],
      "text/latex": [
       "\\textbf{png:} 2"
      ],
      "text/markdown": [
       "**png:** 2"
      ],
      "text/plain": [
       "png \n",
       "  2 "
      ]
     },
     "metadata": {},
     "output_type": "display_data"
    }
   ],
   "source": [
    "# Start the PDF device\n",
    "pdf(\"multipage_plots.pdf\", height=6, width=6)\n",
    "\n",
    "vol_hl60\n",
    "vol_molm13\n",
    "vol_skm1\n",
    "\n",
    "rho_gamma_scatter_molm13\n",
    "rho_gamma_scatter_skm1\n",
    "\n",
    "rho_hl60_vs_rho_molm13\n",
    "rho_hl60_vs_rho_skm1\n",
    "\n",
    "gamma_hl60_vs_gamma_molm13\n",
    "gamma_hl60_vs_gamma_skm1\n",
    "\n",
    "# End the PDF device\n",
    "dev.off()"
   ]
  },
  {
   "cell_type": "markdown",
   "metadata": {},
   "source": [
    "___"
   ]
  },
  {
   "cell_type": "code",
   "execution_count": 90,
   "metadata": {},
   "outputs": [
    {
     "data": {
      "text/plain": [
       "R version 4.1.1 (2021-08-10)\n",
       "Platform: x86_64-conda-linux-gnu (64-bit)\n",
       "Running under: CentOS Linux 7 (Core)\n",
       "\n",
       "Matrix products: default\n",
       "BLAS/LAPACK: /data_gilbert/home/aarab/anaconda3/envs/deseq2/lib/libopenblasp-r0.3.18.so\n",
       "\n",
       "locale:\n",
       " [1] LC_CTYPE=en_US.UTF-8       LC_NUMERIC=C              \n",
       " [3] LC_TIME=en_US.UTF-8        LC_COLLATE=en_US.UTF-8    \n",
       " [5] LC_MONETARY=en_US.UTF-8    LC_MESSAGES=en_US.UTF-8   \n",
       " [7] LC_PAPER=en_US.UTF-8       LC_NAME=C                 \n",
       " [9] LC_ADDRESS=C               LC_TELEPHONE=C            \n",
       "[11] LC_MEASUREMENT=en_US.UTF-8 LC_IDENTIFICATION=C       \n",
       "\n",
       "attached base packages:\n",
       "[1] stats     graphics  grDevices utils     datasets  methods   base     \n",
       "\n",
       "other attached packages:\n",
       " [1] patchwork_1.1.1    forcats_0.5.1      stringr_1.4.0      dplyr_1.0.7       \n",
       " [5] purrr_0.3.4        readr_2.0.2        tidyr_1.1.4        tibble_3.1.6      \n",
       " [9] tidyverse_1.3.1    RColorBrewer_1.1-2 ggrepel_0.9.1      ggplot2_3.3.5     \n",
       "\n",
       "loaded via a namespace (and not attached):\n",
       " [1] pbdZMQ_0.3-6     tidyselect_1.1.1 repr_1.1.3       haven_2.4.3     \n",
       " [5] colorspace_2.0-2 vctrs_0.3.8      generics_0.1.1   htmltools_0.5.2 \n",
       " [9] base64enc_0.1-3  utf8_1.2.2       rlang_0.4.12     pillar_1.6.4    \n",
       "[13] glue_1.5.0       withr_2.4.2      DBI_1.1.1        dbplyr_2.1.1    \n",
       "[17] modelr_0.1.8     readxl_1.3.1     uuid_1.0-3       lifecycle_1.0.1 \n",
       "[21] munsell_0.5.0    gtable_0.3.0     cellranger_1.1.0 rvest_1.0.2     \n",
       "[25] evaluate_0.14    labeling_0.4.2   tzdb_0.2.0       fastmap_1.1.0   \n",
       "[29] fansi_0.4.2      broom_0.7.10     IRdisplay_1.0    Rcpp_1.0.7      \n",
       "[33] scales_1.1.1     backports_1.3.0  IRkernel_1.2     jsonlite_1.7.2  \n",
       "[37] farver_2.1.0     fs_1.5.0         hms_1.1.1        digest_0.6.28   \n",
       "[41] stringi_1.7.5    grid_4.1.1       cli_3.1.0        tools_4.1.1     \n",
       "[45] magrittr_2.0.1   crayon_1.4.2     pkgconfig_2.0.3  ellipsis_0.3.2  \n",
       "[49] xml2_1.3.2       reprex_2.0.1     lubridate_1.8.0  rstudioapi_0.13 \n",
       "[53] assertthat_0.2.1 httr_1.4.2       R6_2.5.1         compiler_4.1.1  "
      ]
     },
     "metadata": {},
     "output_type": "display_data"
    }
   ],
   "source": [
    "sessionInfo()"
   ]
  }
 ],
 "metadata": {
  "kernelspec": {
   "display_name": "R [conda env:deseq2]",
   "language": "R",
   "name": "conda-env-deseq2-r"
  },
  "language_info": {
   "codemirror_mode": "r",
   "file_extension": ".r",
   "mimetype": "text/x-r-source",
   "name": "R",
   "pygments_lexer": "r",
   "version": "4.1.1"
  }
 },
 "nbformat": 4,
 "nbformat_minor": 4
}
