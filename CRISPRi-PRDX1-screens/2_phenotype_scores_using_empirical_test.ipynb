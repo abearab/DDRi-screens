{
 "cells": [
  {
   "cell_type": "markdown",
   "metadata": {
    "tags": []
   },
   "source": [
    "### PhenoScore \n",
    "My current formula:\n",
    "#### $$\n",
    "    \\text{phenotype score} \\rightarrow\n",
    "    f(T) = \\log_2 \\left( \\frac\n",
    "        {\\sum \\limits _{i=1} ^{R} N_{y}^{i}}\n",
    "        {\\sum \\limits _{i=1} ^{R} N_{x}^{i}}\n",
    "    \\right) \\times \\frac{ 1 }{\n",
    "        d_{growth}\n",
    "    }\n",
    "$$\n",
    "- $T \\rightarrow$ oligo constructs with sgRNAs targeting $T$ (i.e. 2 sgRNA in one oligo construct targeting same gene)\n",
    "- $R \\rightarrow$ number of biological replicates \n",
    "- $x \\rightarrow$ condition $x$ (e.g. treated samples)\n",
    "- $y \\rightarrow$ condition $y$ (e.g. $t_{0}$ samples)\n",
    "- $N_{x}^{i}$ | $N_{y}^{i} \\rightarrow$ NGS read counts for replicate $i$ in condition $x$ or $y$\n",
    "\n",
    "#### $$\n",
    "    \\text{p-value} \\rightarrow f(x,y) = \\text{t-test} \\left(\n",
    "    \\begin{bmatrix}{N_{x}}\\end{bmatrix},\n",
    "    \\begin{bmatrix}{N_{y}}\\end{bmatrix}\n",
    "\\right)\n",
    "$$\n",
    "<!--             \\overrightarrow{N_{y}} -->\n",
    "\n",
    "- [Dependent_t-test_for_paired_samples](https://en.wikipedia.org/wiki/Student%27s_t-test#Dependent_t-test_for_paired_samples) using [`scipy.stats.ttest_rel`](https://docs.scipy.org/doc/scipy/reference/generated/scipy.stats.ttest_rel.html)\n",
    "> This is a test for the null hypothesis that two related or repeated samples have identical average (expected) values.\n",
    "___"
   ]
  },
  {
   "cell_type": "code",
   "execution_count": 1,
   "metadata": {
    "tags": []
   },
   "outputs": [],
   "source": [
    "import numpy as np\n",
    "import pandas as pd\n",
    "import anndata as ad\n",
    "\n",
    "from pydeseq2 import preprocessing\n",
    "from scipy.stats import ttest_rel\n",
    "from statsmodels.stats.multitest import multipletests\n",
    "\n",
    "import matplotlib\n",
    "import matplotlib.pyplot as plt"
   ]
  },
  {
   "cell_type": "code",
   "execution_count": 2,
   "metadata": {
    "tags": []
   },
   "outputs": [],
   "source": [
    "from scripts.phenoScore import ann_score_df"
   ]
  },
  {
   "cell_type": "code",
   "execution_count": 3,
   "metadata": {
    "tags": []
   },
   "outputs": [],
   "source": [
    "%load_ext rpy2.ipython"
   ]
  },
  {
   "cell_type": "code",
   "execution_count": 4,
   "metadata": {
    "tags": []
   },
   "outputs": [
    {
     "name": "stdout",
     "output_type": "stream",
     "text": [
      "── Attaching core tidyverse packages ──────────────────────── tidyverse 2.0.0 ──\n",
      "✔ dplyr     1.1.1     ✔ readr     2.1.4\n",
      "✔ forcats   1.0.0     ✔ stringr   1.5.0\n",
      "✔ lubridate 1.9.2     ✔ tibble    3.2.1\n",
      "✔ purrr     1.0.1     ✔ tidyr     1.3.0\n",
      "── Conflicts ────────────────────────────────────────── tidyverse_conflicts() ──\n",
      "✖ dplyr::filter() masks stats::filter()\n",
      "✖ dplyr::lag()    masks stats::lag()\n",
      "ℹ Use the conflicted package (<http://conflicted.r-lib.org/>) to force all conflicts to become errors\n"
     ]
    }
   ],
   "source": [
    "%%R\n",
    "source('scripts/plots.R')\n",
    "library(tidyverse)\n",
    "# library(patchwork)"
   ]
  },
  {
   "cell_type": "code",
   "execution_count": 5,
   "metadata": {
    "tags": []
   },
   "outputs": [],
   "source": [
    "THRESHOLD = 2"
   ]
  },
  {
   "cell_type": "code",
   "execution_count": 6,
   "metadata": {
    "tags": []
   },
   "outputs": [],
   "source": [
    "screengrowthsummary = pd.read_excel('PRDX1ko_screengrowthsummary.xlsx')"
   ]
  },
  {
   "cell_type": "markdown",
   "metadata": {},
   "source": [
    "    So most conditions had 7-8 doublings but KO+DNAPKi only a little over 2\n",
    "\n",
    "    day 11 is the last day of the screen"
   ]
  },
  {
   "cell_type": "code",
   "execution_count": null,
   "metadata": {},
   "outputs": [],
   "source": []
  },
  {
   "cell_type": "markdown",
   "metadata": {},
   "source": [
    "https://github.com/connorferster/handcalcs"
   ]
  },
  {
   "cell_type": "code",
   "execution_count": 199,
   "metadata": {
    "tags": []
   },
   "outputs": [],
   "source": [
    "import handcalcs.render\n",
    "from handcalcs import handcalc"
   ]
  },
  {
   "cell_type": "code",
   "execution_count": 7,
   "metadata": {
    "tags": []
   },
   "outputs": [],
   "source": [
    "# screengrowthsummary"
   ]
  },
  {
   "cell_type": "code",
   "execution_count": 8,
   "metadata": {
    "tags": []
   },
   "outputs": [],
   "source": [
    "# def sort_scores(scDaye):\n",
    "#     score['targetType'] = ''\n",
    "#     score.loc[score.target.eq('non-targeting'),'targetType']  = \"non-targeting\"\n",
    "#     score.loc[~score.target.eq('non-targeting'),'targetType'] = 'gene'\n",
    "    \n",
    "#     score = score.sort_values(['targetType','target']).drop('targetType',axis=1)\n",
    "    \n",
    "#     return score\n"
   ]
  },
  {
   "cell_type": "markdown",
   "metadata": {},
   "source": [
    "### phenoScore"
   ]
  },
  {
   "cell_type": "code",
   "execution_count": 26,
   "metadata": {
    "tags": []
   },
   "outputs": [],
   "source": [
    "def run_deseq2_norm(adata):\n",
    "    norm_counts, size_factors = preprocessing.deseq2_norm(adata.X)\n",
    "\n",
    "    adata.obs['size_factors'] = size_factors\n",
    "    adata.layers['deseq'] = norm_counts\n",
    "    adata.layers['log2_deseq'] = np.log2(norm_counts + 1)"
   ]
  },
  {
   "cell_type": "code",
   "execution_count": 185,
   "metadata": {
    "tags": []
   },
   "outputs": [],
   "source": [
    "def getScore(x,y,d_u,d_t):\n",
    "    return np.mean(x - y,axis=1) / (d_u-d_t)"
   ]
  },
  {
   "cell_type": "code",
   "execution_count": 249,
   "metadata": {
    "tags": []
   },
   "outputs": [],
   "source": [
    "# %%tex\n",
    "\n",
    "# # T_final_treated = 10\n",
    "# # T_final_untreated = 10\n",
    "# # T_0 = 100\n",
    "# # d_growth = 4\n",
    "\n",
    "# gamma_score = T_final_untreated/T_0 * 1/d_growth\n",
    "# tau_score = T_final_treated/T_0 * 1/d_growth\n",
    "# rho_score = T_final_treated/T_0 * 1/d_growth"
   ]
  },
  {
   "cell_type": "code",
   "execution_count": null,
   "metadata": {},
   "outputs": [],
   "source": [
    "def runPhenoScore(adata,cond1,cond2,growth_rate_a=1,growth_rate_b=0,n_reps=2):\n",
    "    # \n",
    "    df_cond1 = adata[adata.obs.query(f'condition==\"{cond1}\"').index[:n_reps],].to_df('log2_deseq').T\n",
    "    df_cond2 = adata[adata.obs.query(f'condition==\"{cond2}\"').index[:n_reps],].to_df('log2_deseq').T\n",
    "    \n",
    "    # \n",
    "    delta = getScore(x=df_cond2.to_numpy(), y=df_cond1.to_numpy(),d_u=growth_rate_a,d_t=growth_rate_b)\n",
    "    adata.var[f'condition_{cond2}_vs_{cond1}_delta'] = delta\n",
    "    \n",
    "    # run ttest on replicates\n",
    "    pvalues = ttest_rel(df_cond2,df_cond1, axis=1)[1]\n",
    "    adata.var[f'condition_{cond2}_vs_{cond1}_pvalue'] = pvalues\n",
    "\n",
    "    # # Calculate the adjusted p-values using the Benjamini-Hochberg method\n",
    "    # _, adj_pvalues, _, _ = multipletests(adata.var[f'condition_{cond1}_vs_{cond2}_pvalue'], alpha=0.05, method='fdr_bh')\n",
    "    # adata.var[f'condition_{cond1}_vs_{cond2}_adj_pvalue'] = adj_pvalues"
   ]
  },
  {
   "cell_type": "markdown",
   "metadata": {
    "tags": []
   },
   "source": [
    "### Data loading\n",
    "> Note that we are also explaining this step in the ‘getting started’ example. To perform differential expression analysis (DEA), PyDESeq2 requires two types of inputs:\n",
    "\n",
    "> A count matrix of shape ‘number of samples’ x ‘number of genes’, containing read counts (non-negative integers),\n",
    "\n",
    "> Clinical data (or “column” data) of shape ‘number of samples’ x ‘number of variables’, containing sample annotations that will be used to split the data in cohorts."
   ]
  },
  {
   "cell_type": "code",
   "execution_count": 28,
   "metadata": {
    "tags": []
   },
   "outputs": [],
   "source": [
    "adata = ad.read_h5ad('results/adata_counts.h5ad.gz')\n",
    "adata.obs['condition'] = adata.obs.treatment.replace('-','T0')\n",
    "adata.obs = adata.obs[['cell line','condition','rep']]\n",
    "adata.obs.index.name = None"
   ]
  },
  {
   "cell_type": "code",
   "execution_count": 29,
   "metadata": {
    "tags": []
   },
   "outputs": [
    {
     "data": {
      "text/plain": [
       "AnnData object with n_obs × n_vars = 16 × 21097\n",
       "    obs: 'cell line', 'condition', 'rep'\n",
       "    var: 'target', 'targetType'\n",
       "    layers: 'log2(x+1)', 'raw'"
      ]
     },
     "execution_count": 29,
     "metadata": {},
     "output_type": "execute_result"
    }
   ],
   "source": [
    "adata"
   ]
  },
  {
   "cell_type": "code",
   "execution_count": 30,
   "metadata": {
    "tags": []
   },
   "outputs": [],
   "source": [
    "target_df = adata.var.sort_values(by=['target','targetType'],ascending=True)[['target']]"
   ]
  },
  {
   "cell_type": "markdown",
   "metadata": {},
   "source": [
    "#### DESeq2 count normalization"
   ]
  },
  {
   "cell_type": "code",
   "execution_count": 31,
   "metadata": {
    "tags": []
   },
   "outputs": [
    {
     "name": "stdout",
     "output_type": "stream",
     "text": [
      "Help on function deseq2_norm in module pydeseq2.preprocessing:\n",
      "\n",
      "deseq2_norm(counts: pandas.core.frame.DataFrame) -> Tuple[pandas.core.frame.DataFrame, pandas.core.frame.DataFrame]\n",
      "    Return normalized counts and size_factors.\n",
      "    \n",
      "    Uses the median of ratios method.\n",
      "    \n",
      "    Parameters\n",
      "    ----------\n",
      "    counts : ndarray\n",
      "            Raw counts. One column per gene, one row per sample.\n",
      "    \n",
      "    Returns\n",
      "    -------\n",
      "    deseq2_counts : pandas.DataFrame\n",
      "        DESeq2 normalized counts.\n",
      "        One column per gene, rows are indexed by sample barcodes.\n",
      "    \n",
      "    size_factors : pandas.DataFrame\n",
      "        DESeq2 normalization factors.\n",
      "\n"
     ]
    }
   ],
   "source": [
    "help(preprocessing.deseq2_norm)"
   ]
  },
  {
   "cell_type": "markdown",
   "metadata": {},
   "source": [
    "add `deseq2` norm"
   ]
  },
  {
   "cell_type": "code",
   "execution_count": 32,
   "metadata": {
    "tags": []
   },
   "outputs": [],
   "source": [
    "run_deseq2_norm(adata)"
   ]
  },
  {
   "cell_type": "markdown",
   "metadata": {},
   "source": [
    "### sanity checks"
   ]
  },
  {
   "cell_type": "code",
   "execution_count": 33,
   "metadata": {
    "tags": []
   },
   "outputs": [
    {
     "data": {
      "text/plain": [
       "AnnData object with n_obs × n_vars = 16 × 21097\n",
       "    obs: 'cell line', 'condition', 'rep', 'size_factors'\n",
       "    var: 'target', 'targetType'\n",
       "    layers: 'log2(x+1)', 'raw', 'deseq', 'log2_deseq'"
      ]
     },
     "execution_count": 33,
     "metadata": {},
     "output_type": "execute_result"
    }
   ],
   "source": [
    "adata"
   ]
  },
  {
   "cell_type": "code",
   "execution_count": 34,
   "metadata": {
    "tags": []
   },
   "outputs": [
    {
     "data": {
      "text/html": [
       "<div>\n",
       "<style scoped>\n",
       "    .dataframe tbody tr th:only-of-type {\n",
       "        vertical-align: middle;\n",
       "    }\n",
       "\n",
       "    .dataframe tbody tr th {\n",
       "        vertical-align: top;\n",
       "    }\n",
       "\n",
       "    .dataframe thead th {\n",
       "        text-align: right;\n",
       "    }\n",
       "</style>\n",
       "<table border=\"1\" class=\"dataframe\">\n",
       "  <thead>\n",
       "    <tr style=\"text-align: right;\">\n",
       "      <th></th>\n",
       "      <th></th>\n",
       "      <th>i01</th>\n",
       "      <th>i02</th>\n",
       "      <th>i03</th>\n",
       "      <th>i04</th>\n",
       "      <th>i05</th>\n",
       "      <th>i06</th>\n",
       "      <th>i07</th>\n",
       "      <th>i08</th>\n",
       "      <th>i09</th>\n",
       "      <th>i10</th>\n",
       "      <th>i11</th>\n",
       "      <th>i12</th>\n",
       "      <th>i13</th>\n",
       "      <th>i14</th>\n",
       "      <th>i15</th>\n",
       "      <th>i16</th>\n",
       "    </tr>\n",
       "  </thead>\n",
       "  <tbody>\n",
       "    <tr>\n",
       "      <th>raw</th>\n",
       "      <th>ATR_-_142297649.23-P1P2|ATR_+_142297571.23-P1P2++ATR_-_142297649.23-P1P2|ATR_+_142297571.23-P1P2</th>\n",
       "      <td>2070.000000</td>\n",
       "      <td>1869.000000</td>\n",
       "      <td>22.000000</td>\n",
       "      <td>85.000000</td>\n",
       "      <td>37.000000</td>\n",
       "      <td>31.000000</td>\n",
       "      <td>62.000000</td>\n",
       "      <td>10.000000</td>\n",
       "      <td>2124.000000</td>\n",
       "      <td>1920.000000</td>\n",
       "      <td>37.000000</td>\n",
       "      <td>33.000000</td>\n",
       "      <td>36.000000</td>\n",
       "      <td>166.000000</td>\n",
       "      <td>166.000000</td>\n",
       "      <td>198.000000</td>\n",
       "    </tr>\n",
       "    <tr>\n",
       "      <th>log2(x+1)</th>\n",
       "      <th>ATR_-_142297649.23-P1P2|ATR_+_142297571.23-P1P2++ATR_-_142297649.23-P1P2|ATR_+_142297571.23-P1P2</th>\n",
       "      <td>11.016112</td>\n",
       "      <td>10.868823</td>\n",
       "      <td>4.523562</td>\n",
       "      <td>6.426265</td>\n",
       "      <td>5.247928</td>\n",
       "      <td>5.000000</td>\n",
       "      <td>5.977280</td>\n",
       "      <td>3.459432</td>\n",
       "      <td>11.053247</td>\n",
       "      <td>10.907642</td>\n",
       "      <td>5.247928</td>\n",
       "      <td>5.087463</td>\n",
       "      <td>5.209453</td>\n",
       "      <td>7.383704</td>\n",
       "      <td>7.383704</td>\n",
       "      <td>7.636625</td>\n",
       "    </tr>\n",
       "    <tr>\n",
       "      <th>deseq2</th>\n",
       "      <th>ATR_-_142297649.23-P1P2|ATR_+_142297571.23-P1P2++ATR_-_142297649.23-P1P2|ATR_+_142297571.23-P1P2</th>\n",
       "      <td>11.656406</td>\n",
       "      <td>11.248028</td>\n",
       "      <td>4.149307</td>\n",
       "      <td>6.187381</td>\n",
       "      <td>4.909253</td>\n",
       "      <td>4.977466</td>\n",
       "      <td>5.788237</td>\n",
       "      <td>3.657153</td>\n",
       "      <td>11.473475</td>\n",
       "      <td>11.435602</td>\n",
       "      <td>5.124607</td>\n",
       "      <td>4.941277</td>\n",
       "      <td>3.977660</td>\n",
       "      <td>7.634540</td>\n",
       "      <td>7.588330</td>\n",
       "      <td>7.646644</td>\n",
       "    </tr>\n",
       "  </tbody>\n",
       "</table>\n",
       "</div>"
      ],
      "text/plain": [
       "                                                                      i01   \n",
       "raw       ATR_-_142297649.23-P1P2|ATR_+_142297571.23-P1P2...  2070.000000  \\\n",
       "log2(x+1) ATR_-_142297649.23-P1P2|ATR_+_142297571.23-P1P2...    11.016112   \n",
       "deseq2    ATR_-_142297649.23-P1P2|ATR_+_142297571.23-P1P2...    11.656406   \n",
       "\n",
       "                                                                      i02   \n",
       "raw       ATR_-_142297649.23-P1P2|ATR_+_142297571.23-P1P2...  1869.000000  \\\n",
       "log2(x+1) ATR_-_142297649.23-P1P2|ATR_+_142297571.23-P1P2...    10.868823   \n",
       "deseq2    ATR_-_142297649.23-P1P2|ATR_+_142297571.23-P1P2...    11.248028   \n",
       "\n",
       "                                                                    i03   \n",
       "raw       ATR_-_142297649.23-P1P2|ATR_+_142297571.23-P1P2...  22.000000  \\\n",
       "log2(x+1) ATR_-_142297649.23-P1P2|ATR_+_142297571.23-P1P2...   4.523562   \n",
       "deseq2    ATR_-_142297649.23-P1P2|ATR_+_142297571.23-P1P2...   4.149307   \n",
       "\n",
       "                                                                    i04   \n",
       "raw       ATR_-_142297649.23-P1P2|ATR_+_142297571.23-P1P2...  85.000000  \\\n",
       "log2(x+1) ATR_-_142297649.23-P1P2|ATR_+_142297571.23-P1P2...   6.426265   \n",
       "deseq2    ATR_-_142297649.23-P1P2|ATR_+_142297571.23-P1P2...   6.187381   \n",
       "\n",
       "                                                                    i05   \n",
       "raw       ATR_-_142297649.23-P1P2|ATR_+_142297571.23-P1P2...  37.000000  \\\n",
       "log2(x+1) ATR_-_142297649.23-P1P2|ATR_+_142297571.23-P1P2...   5.247928   \n",
       "deseq2    ATR_-_142297649.23-P1P2|ATR_+_142297571.23-P1P2...   4.909253   \n",
       "\n",
       "                                                                    i06   \n",
       "raw       ATR_-_142297649.23-P1P2|ATR_+_142297571.23-P1P2...  31.000000  \\\n",
       "log2(x+1) ATR_-_142297649.23-P1P2|ATR_+_142297571.23-P1P2...   5.000000   \n",
       "deseq2    ATR_-_142297649.23-P1P2|ATR_+_142297571.23-P1P2...   4.977466   \n",
       "\n",
       "                                                                    i07   \n",
       "raw       ATR_-_142297649.23-P1P2|ATR_+_142297571.23-P1P2...  62.000000  \\\n",
       "log2(x+1) ATR_-_142297649.23-P1P2|ATR_+_142297571.23-P1P2...   5.977280   \n",
       "deseq2    ATR_-_142297649.23-P1P2|ATR_+_142297571.23-P1P2...   5.788237   \n",
       "\n",
       "                                                                    i08   \n",
       "raw       ATR_-_142297649.23-P1P2|ATR_+_142297571.23-P1P2...  10.000000  \\\n",
       "log2(x+1) ATR_-_142297649.23-P1P2|ATR_+_142297571.23-P1P2...   3.459432   \n",
       "deseq2    ATR_-_142297649.23-P1P2|ATR_+_142297571.23-P1P2...   3.657153   \n",
       "\n",
       "                                                                      i09   \n",
       "raw       ATR_-_142297649.23-P1P2|ATR_+_142297571.23-P1P2...  2124.000000  \\\n",
       "log2(x+1) ATR_-_142297649.23-P1P2|ATR_+_142297571.23-P1P2...    11.053247   \n",
       "deseq2    ATR_-_142297649.23-P1P2|ATR_+_142297571.23-P1P2...    11.473475   \n",
       "\n",
       "                                                                      i10   \n",
       "raw       ATR_-_142297649.23-P1P2|ATR_+_142297571.23-P1P2...  1920.000000  \\\n",
       "log2(x+1) ATR_-_142297649.23-P1P2|ATR_+_142297571.23-P1P2...    10.907642   \n",
       "deseq2    ATR_-_142297649.23-P1P2|ATR_+_142297571.23-P1P2...    11.435602   \n",
       "\n",
       "                                                                    i11   \n",
       "raw       ATR_-_142297649.23-P1P2|ATR_+_142297571.23-P1P2...  37.000000  \\\n",
       "log2(x+1) ATR_-_142297649.23-P1P2|ATR_+_142297571.23-P1P2...   5.247928   \n",
       "deseq2    ATR_-_142297649.23-P1P2|ATR_+_142297571.23-P1P2...   5.124607   \n",
       "\n",
       "                                                                    i12   \n",
       "raw       ATR_-_142297649.23-P1P2|ATR_+_142297571.23-P1P2...  33.000000  \\\n",
       "log2(x+1) ATR_-_142297649.23-P1P2|ATR_+_142297571.23-P1P2...   5.087463   \n",
       "deseq2    ATR_-_142297649.23-P1P2|ATR_+_142297571.23-P1P2...   4.941277   \n",
       "\n",
       "                                                                    i13   \n",
       "raw       ATR_-_142297649.23-P1P2|ATR_+_142297571.23-P1P2...  36.000000  \\\n",
       "log2(x+1) ATR_-_142297649.23-P1P2|ATR_+_142297571.23-P1P2...   5.209453   \n",
       "deseq2    ATR_-_142297649.23-P1P2|ATR_+_142297571.23-P1P2...   3.977660   \n",
       "\n",
       "                                                                     i14   \n",
       "raw       ATR_-_142297649.23-P1P2|ATR_+_142297571.23-P1P2...  166.000000  \\\n",
       "log2(x+1) ATR_-_142297649.23-P1P2|ATR_+_142297571.23-P1P2...    7.383704   \n",
       "deseq2    ATR_-_142297649.23-P1P2|ATR_+_142297571.23-P1P2...    7.634540   \n",
       "\n",
       "                                                                     i15   \n",
       "raw       ATR_-_142297649.23-P1P2|ATR_+_142297571.23-P1P2...  166.000000  \\\n",
       "log2(x+1) ATR_-_142297649.23-P1P2|ATR_+_142297571.23-P1P2...    7.383704   \n",
       "deseq2    ATR_-_142297649.23-P1P2|ATR_+_142297571.23-P1P2...    7.588330   \n",
       "\n",
       "                                                                     i16  \n",
       "raw       ATR_-_142297649.23-P1P2|ATR_+_142297571.23-P1P2...  198.000000  \n",
       "log2(x+1) ATR_-_142297649.23-P1P2|ATR_+_142297571.23-P1P2...    7.636625  \n",
       "deseq2    ATR_-_142297649.23-P1P2|ATR_+_142297571.23-P1P2...    7.646644  "
      ]
     },
     "execution_count": 34,
     "metadata": {},
     "output_type": "execute_result"
    }
   ],
   "source": [
    "pd.concat(\n",
    "    {'raw':adata[:,adata.var.target.eq('ATR')].to_df(layer='raw'),\n",
    "     'log2(x+1)':adata[:,adata.var.target.eq('ATR')].to_df(layer='log2(x+1)'),\n",
    "    'deseq2':adata[:,adata.var.target.eq('ATR')].to_df(layer='deseq'),\n",
    "    'deseq2':adata[:,adata.var.target.eq('ATR')].to_df(layer='log2_deseq'),\n",
    "    },axis=1).T"
   ]
  },
  {
   "cell_type": "code",
   "execution_count": 35,
   "metadata": {
    "tags": []
   },
   "outputs": [],
   "source": [
    "# adata.write_h5ad('results/adata_counts_.h5ad.gz',compression='gzip')"
   ]
  },
  {
   "cell_type": "markdown",
   "metadata": {},
   "source": [
    "# Statistical analysis "
   ]
  },
  {
   "cell_type": "code",
   "execution_count": 36,
   "metadata": {
    "tags": []
   },
   "outputs": [],
   "source": [
    "results = {}"
   ]
  },
  {
   "cell_type": "markdown",
   "metadata": {
    "tags": []
   },
   "source": [
    "## PRDX1_parent"
   ]
  },
  {
   "cell_type": "code",
   "execution_count": 37,
   "metadata": {},
   "outputs": [],
   "source": [
    "adata_parent = adata[adata.obs['cell line'].eq('parent')].copy()"
   ]
  },
  {
   "cell_type": "code",
   "execution_count": 38,
   "metadata": {
    "tags": []
   },
   "outputs": [
    {
     "data": {
      "text/html": [
       "<div>\n",
       "<style scoped>\n",
       "    .dataframe tbody tr th:only-of-type {\n",
       "        vertical-align: middle;\n",
       "    }\n",
       "\n",
       "    .dataframe tbody tr th {\n",
       "        vertical-align: top;\n",
       "    }\n",
       "\n",
       "    .dataframe thead th {\n",
       "        text-align: right;\n",
       "    }\n",
       "</style>\n",
       "<table border=\"1\" class=\"dataframe\">\n",
       "  <thead>\n",
       "    <tr style=\"text-align: right;\">\n",
       "      <th></th>\n",
       "      <th>cell line</th>\n",
       "      <th>condition</th>\n",
       "      <th>rep</th>\n",
       "      <th>size_factors</th>\n",
       "    </tr>\n",
       "  </thead>\n",
       "  <tbody>\n",
       "    <tr>\n",
       "      <th>i01</th>\n",
       "      <td>parent</td>\n",
       "      <td>T0</td>\n",
       "      <td>1</td>\n",
       "      <td>0.641471</td>\n",
       "    </tr>\n",
       "    <tr>\n",
       "      <th>i02</th>\n",
       "      <td>parent</td>\n",
       "      <td>T0</td>\n",
       "      <td>2</td>\n",
       "      <td>0.768766</td>\n",
       "    </tr>\n",
       "    <tr>\n",
       "      <th>i03</th>\n",
       "      <td>parent</td>\n",
       "      <td>vehicle</td>\n",
       "      <td>1</td>\n",
       "      <td>1.313857</td>\n",
       "    </tr>\n",
       "    <tr>\n",
       "      <th>i04</th>\n",
       "      <td>parent</td>\n",
       "      <td>vehicle</td>\n",
       "      <td>2</td>\n",
       "      <td>1.182584</td>\n",
       "    </tr>\n",
       "    <tr>\n",
       "      <th>i05</th>\n",
       "      <td>parent</td>\n",
       "      <td>vehicle</td>\n",
       "      <td>3</td>\n",
       "      <td>1.273702</td>\n",
       "    </tr>\n",
       "    <tr>\n",
       "      <th>i06</th>\n",
       "      <td>parent</td>\n",
       "      <td>DNAPKi</td>\n",
       "      <td>1</td>\n",
       "      <td>1.016258</td>\n",
       "    </tr>\n",
       "    <tr>\n",
       "      <th>i07</th>\n",
       "      <td>parent</td>\n",
       "      <td>DNAPKi</td>\n",
       "      <td>2</td>\n",
       "      <td>1.142587</td>\n",
       "    </tr>\n",
       "    <tr>\n",
       "      <th>i08</th>\n",
       "      <td>parent</td>\n",
       "      <td>DNAPKi</td>\n",
       "      <td>3</td>\n",
       "      <td>0.860901</td>\n",
       "    </tr>\n",
       "  </tbody>\n",
       "</table>\n",
       "</div>"
      ],
      "text/plain": [
       "    cell line condition  rep  size_factors\n",
       "i01    parent        T0    1      0.641471\n",
       "i02    parent        T0    2      0.768766\n",
       "i03    parent   vehicle    1      1.313857\n",
       "i04    parent   vehicle    2      1.182584\n",
       "i05    parent   vehicle    3      1.273702\n",
       "i06    parent    DNAPKi    1      1.016258\n",
       "i07    parent    DNAPKi    2      1.142587\n",
       "i08    parent    DNAPKi    3      0.860901"
      ]
     },
     "execution_count": 38,
     "metadata": {},
     "output_type": "execute_result"
    }
   ],
   "source": [
    "adata_parent.obs"
   ]
  },
  {
   "cell_type": "markdown",
   "metadata": {
    "tags": []
   },
   "source": [
    "### gamma "
   ]
  },
  {
   "cell_type": "code",
   "execution_count": 44,
   "metadata": {
    "tags": []
   },
   "outputs": [],
   "source": [
    "score = 'gamma'\n",
    "cond1 = \"T0\"\n",
    "cond2 = \"vehicle\"\n",
    "\n",
    "screen_name = f'PRDX1_parent {score} {cond2}_vs_{cond1}'"
   ]
  },
  {
   "cell_type": "code",
   "execution_count": 45,
   "metadata": {},
   "outputs": [],
   "source": [
    "runPhenoScore(\n",
    "    adata_parent,cond1,cond2,\n",
    "    growth_rate_a=screengrowthsummary[screengrowthsummary.Day.eq(11)]['parent_vehicle'].values[0]\n",
    ")"
   ]
  },
  {
   "cell_type": "markdown",
   "metadata": {
    "tags": []
   },
   "source": [
    "#### Save to results"
   ]
  },
  {
   "cell_type": "code",
   "execution_count": 46,
   "metadata": {
    "tags": []
   },
   "outputs": [
    {
     "data": {
      "text/plain": [
       "label\n",
       "sensitivity_hit     3572\n",
       "resistance_hit       148\n",
       "gene_non_hit       16351\n",
       "non-targeting       1026\n",
       "dtype: int64"
      ]
     },
     "execution_count": 46,
     "metadata": {},
     "output_type": "execute_result"
    }
   ],
   "source": [
    "results[screen_name] = ann_score_df(\n",
    "    adata_parent.var[['target',f'condition_{cond2}_vs_{cond1}_delta',f'condition_{cond2}_vs_{cond1}_pvalue']], threshold=THRESHOLD\n",
    ").loc[target_df.index,:].set_index('gene')\n",
    "\n",
    "results[screen_name].groupby('label').size()"
   ]
  },
  {
   "cell_type": "markdown",
   "metadata": {
    "tags": []
   },
   "source": [
    "#### volcano plots"
   ]
  },
  {
   "cell_type": "code",
   "execution_count": 47,
   "metadata": {
    "tags": []
   },
   "outputs": [],
   "source": [
    "df = results[screen_name].reset_index().copy()"
   ]
  },
  {
   "cell_type": "code",
   "execution_count": 52,
   "metadata": {
    "tags": []
   },
   "outputs": [
    {
     "data": {
      "text/plain": [
       "(-1.2868600763632283, 0.6465951265166291, 5.073284647661981)"
      ]
     },
     "execution_count": 52,
     "metadata": {},
     "output_type": "execute_result"
    }
   ],
   "source": [
    "df.score.min(),df.score.max(), -np.log10(df.pvalue.min())"
   ]
  },
  {
   "cell_type": "code",
   "execution_count": 51,
   "metadata": {
    "tags": []
   },
   "outputs": [
    {
     "data": {
      "image/png": "[encoded data removed]",
      "text/plain": [
       "<IPython.core.display.Image object>"
      ]
     },
     "metadata": {},
     "output_type": "display_data"
    }
   ],
   "source": [
    "%%R -i df,screen_name,THRESHOLD\n",
    "\n",
    "plot_volcano(df, xlim_l=-1.5,xlim_r=1.5, ylim=6,threshold=THRESHOLD) %>% \n",
    "    label_sensitivity_hit(df %>% filter(gene %in% c(\n",
    "        \"PRKDC\",\n",
    "        \"PRDX1\", \n",
    "        \"RAD51\", \n",
    "        \"PARP1\",\n",
    "        \"BRCA1\"\n",
    "    ))) +\n",
    "    ggtitle(screen_name) +\n",
    "    theme(axis.text.x = element_text(size = 15, color = 'black'),\n",
    "          axis.text.y = element_text(size = 15, color = 'black'),\n",
    "          axis.title.x = element_text(size = 16),\n",
    "          axis.title.y = element_text(size = 16),\n",
    "          legend.title = element_blank(),\n",
    "          plot.title = element_text(size = 20,hjust = 0.5),\n",
    "          legend.text = element_text(size = rel(1.5), color = 'black'),\n",
    "          legend.position = 'right'\n",
    "         )"
   ]
  },
  {
   "cell_type": "markdown",
   "metadata": {
    "tags": []
   },
   "source": [
    "### tau"
   ]
  },
  {
   "cell_type": "code",
   "execution_count": 58,
   "metadata": {
    "tags": []
   },
   "outputs": [],
   "source": [
    "score = 'tau'\n",
    "cond1 = \"T0\"\n",
    "cond2 = \"DNAPKi\"\n",
    "\n",
    "screen_name = f'PRDX1_parent {score} {cond2}_vs_{cond1}'"
   ]
  },
  {
   "cell_type": "code",
   "execution_count": 59,
   "metadata": {},
   "outputs": [],
   "source": [
    "runPhenoScore(\n",
    "    adata_parent,cond1,cond2,\n",
    "    growth_rate_a=screengrowthsummary[screengrowthsummary.Day.eq(11)]['parent_DNAPKi'].values[0]\n",
    ")"
   ]
  },
  {
   "cell_type": "markdown",
   "metadata": {
    "tags": []
   },
   "source": [
    "#### Save to results"
   ]
  },
  {
   "cell_type": "code",
   "execution_count": 60,
   "metadata": {
    "tags": []
   },
   "outputs": [
    {
     "data": {
      "text/plain": [
       "label\n",
       "sensitivity_hit     3521\n",
       "resistance_hit       149\n",
       "gene_non_hit       16401\n",
       "non-targeting       1026\n",
       "dtype: int64"
      ]
     },
     "execution_count": 60,
     "metadata": {},
     "output_type": "execute_result"
    }
   ],
   "source": [
    "results[screen_name] = ann_score_df(\n",
    "    adata_parent.var[['target',f'condition_{cond2}_vs_{cond1}_delta',f'condition_{cond2}_vs_{cond1}_pvalue']], threshold=THRESHOLD\n",
    ").loc[target_df.index,:].set_index('gene')\n",
    "\n",
    "results[screen_name].groupby('label').size()"
   ]
  },
  {
   "cell_type": "markdown",
   "metadata": {
    "tags": []
   },
   "source": [
    "#### volcano plots"
   ]
  },
  {
   "cell_type": "code",
   "execution_count": 61,
   "metadata": {
    "tags": []
   },
   "outputs": [],
   "source": [
    "df = results[screen_name].reset_index().copy()"
   ]
  },
  {
   "cell_type": "code",
   "execution_count": 62,
   "metadata": {
    "tags": []
   },
   "outputs": [
    {
     "data": {
      "text/plain": [
       "(-1.3534195678328478, 0.7799611437638805, 5.04683930598998)"
      ]
     },
     "execution_count": 62,
     "metadata": {},
     "output_type": "execute_result"
    }
   ],
   "source": [
    "df.score.min(),df.score.max(), -np.log10(df.pvalue.min())"
   ]
  },
  {
   "cell_type": "code",
   "execution_count": 63,
   "metadata": {
    "tags": []
   },
   "outputs": [
    {
     "data": {
      "image/png": "[encoded data removed]",
      "text/plain": [
       "<IPython.core.display.Image object>"
      ]
     },
     "metadata": {},
     "output_type": "display_data"
    }
   ],
   "source": [
    "%%R -i df,screen_name,THRESHOLD\n",
    "\n",
    "plot_volcano(df, xlim_l=-1.5,xlim_r=1.5, ylim=6,threshold=THRESHOLD) %>% \n",
    "    label_sensitivity_hit(df %>% filter(gene %in% c(\n",
    "        \"PRKDC\",\n",
    "        \"PRDX1\", \n",
    "        \"RAD51\", \n",
    "        \"PARP1\",\n",
    "        \"BRCA1\"\n",
    "    ))) +\n",
    "    ggtitle(screen_name) +\n",
    "    theme(axis.text.x = element_text(size = 15, color = 'black'),\n",
    "          axis.text.y = element_text(size = 15, color = 'black'),\n",
    "          axis.title.x = element_text(size = 16),\n",
    "          axis.title.y = element_text(size = 16),\n",
    "          legend.title = element_blank(),\n",
    "          plot.title = element_text(size = 20,hjust = 0.5),\n",
    "          legend.text = element_text(size = rel(1.5), color = 'black'),\n",
    "          legend.position = 'right'\n",
    "         )"
   ]
  },
  {
   "cell_type": "markdown",
   "metadata": {
    "tags": []
   },
   "source": [
    "### rho"
   ]
  },
  {
   "cell_type": "code",
   "execution_count": 68,
   "metadata": {
    "tags": []
   },
   "outputs": [],
   "source": [
    "score = 'rho'\n",
    "cond1 = \"vehicle\"\n",
    "cond2 = \"DNAPKi\"\n",
    "\n",
    "screen_name = f'PRDX1_parent {score} {cond2}_vs_{cond1}'"
   ]
  },
  {
   "cell_type": "code",
   "execution_count": 77,
   "metadata": {
    "tags": []
   },
   "outputs": [
    {
     "data": {
      "text/plain": [
       "(7.886372682035862, 7.570238506915568)"
      ]
     },
     "execution_count": 77,
     "metadata": {},
     "output_type": "execute_result"
    }
   ],
   "source": [
    "screengrowthsummary[screengrowthsummary.Day.eq(11)]['parent_vehicle'].values[0], screengrowthsummary[screengrowthsummary.Day.eq(11)]['parent_DNAPKi'].values[0]"
   ]
  },
  {
   "cell_type": "code",
   "execution_count": 80,
   "metadata": {
    "tags": []
   },
   "outputs": [
    {
     "data": {
      "text/plain": [
       "(7.886372682035862,)"
      ]
     },
     "execution_count": 80,
     "metadata": {},
     "output_type": "execute_result"
    }
   ],
   "source": [
    "        screengrowthsummary[screengrowthsummary.Day.eq(11)]['parent_vehicle'].values[0],\n"
   ]
  },
  {
   "cell_type": "code",
   "execution_count": 82,
   "metadata": {
    "tags": []
   },
   "outputs": [
    {
     "data": {
      "text/plain": [
       "7.7283055944757155"
      ]
     },
     "execution_count": 82,
     "metadata": {},
     "output_type": "execute_result"
    }
   ],
   "source": [
    "np.mean([\n",
    "        screengrowthsummary[screengrowthsummary.Day.eq(11)]['parent_vehicle'].values[0],\n",
    "        screengrowthsummary[screengrowthsummary.Day.eq(11)]['parent_DNAPKi'].values[0]\n",
    "        ])"
   ]
  },
  {
   "cell_type": "code",
   "execution_count": 83,
   "metadata": {},
   "outputs": [],
   "source": [
    "runPhenoScore(\n",
    "    adata_parent,cond1,cond2,n_reps=3,\n",
    "    growth_rate_a=np.mean([\n",
    "        screengrowthsummary[screengrowthsummary.Day.eq(11)]['parent_vehicle'].values[0],\n",
    "        screengrowthsummary[screengrowthsummary.Day.eq(11)]['parent_DNAPKi'].values[0]\n",
    "    ])\n",
    ")"
   ]
  },
  {
   "cell_type": "markdown",
   "metadata": {
    "tags": []
   },
   "source": [
    "#### Save to results"
   ]
  },
  {
   "cell_type": "code",
   "execution_count": 84,
   "metadata": {
    "tags": []
   },
   "outputs": [
    {
     "data": {
      "text/plain": [
       "label\n",
       "sensitivity_hit      861\n",
       "resistance_hit       972\n",
       "gene_non_hit       18238\n",
       "non-targeting       1026\n",
       "dtype: int64"
      ]
     },
     "execution_count": 84,
     "metadata": {},
     "output_type": "execute_result"
    }
   ],
   "source": [
    "results[screen_name] = ann_score_df(\n",
    "    adata_parent.var[['target',f'condition_{cond2}_vs_{cond1}_delta',f'condition_{cond2}_vs_{cond1}_pvalue']], threshold=THRESHOLD\n",
    ").loc[target_df.index,:].set_index('gene')\n",
    "\n",
    "results[screen_name].groupby('label').size()"
   ]
  },
  {
   "cell_type": "markdown",
   "metadata": {
    "tags": []
   },
   "source": [
    "#### volcano plots"
   ]
  },
  {
   "cell_type": "code",
   "execution_count": 85,
   "metadata": {
    "tags": []
   },
   "outputs": [],
   "source": [
    "df = results[screen_name].reset_index().copy()"
   ]
  },
  {
   "cell_type": "code",
   "execution_count": 86,
   "metadata": {
    "tags": []
   },
   "outputs": [
    {
     "data": {
      "text/plain": [
       "(-0.5318002263298329, 0.5597622465611821, 4.949873972322147)"
      ]
     },
     "execution_count": 86,
     "metadata": {},
     "output_type": "execute_result"
    }
   ],
   "source": [
    "df.score.min(),df.score.max(), -np.log10(df.pvalue.min())"
   ]
  },
  {
   "cell_type": "code",
   "execution_count": 91,
   "metadata": {
    "tags": []
   },
   "outputs": [
    {
     "data": {
      "image/png": "[encoded data removed]",
      "text/plain": [
       "<IPython.core.display.Image object>"
      ]
     },
     "metadata": {},
     "output_type": "display_data"
    }
   ],
   "source": [
    "%%R -i df,screen_name,THRESHOLD\n",
    "\n",
    "plot_volcano(df, xlim_l=-.8,xlim_r=.8, ylim=6,threshold=THRESHOLD) %>% \n",
    "    label_resistance_hit(df %>% filter(gene %in% c(\n",
    "        \"PRKDC\"\n",
    "    ))) -> p\n",
    "\n",
    "p %>% label_sensitivity_hit(df %>% filter(gene %in% c(\n",
    "        \"PRDX1\", \n",
    "        # \"RAD51\", \n",
    "        \"PARP1\"\n",
    "        # \"BRCA1\"\n",
    "    ))) +\n",
    "    ggtitle(screen_name) +\n",
    "    theme(axis.text.x = element_text(size = 15, color = 'black'),\n",
    "          axis.text.y = element_text(size = 15, color = 'black'),\n",
    "          axis.title.x = element_text(size = 16),\n",
    "          axis.title.y = element_text(size = 16),\n",
    "          legend.title = element_blank(),\n",
    "          plot.title = element_text(size = 20,hjust = 0.5),\n",
    "          legend.text = element_text(size = rel(1.5), color = 'black'),\n",
    "          legend.position = 'right'\n",
    "         )"
   ]
  },
  {
   "cell_type": "markdown",
   "metadata": {
    "tags": []
   },
   "source": [
    "## PRDX1_KO"
   ]
  },
  {
   "cell_type": "code",
   "execution_count": 96,
   "metadata": {},
   "outputs": [],
   "source": [
    "adata_KO = adata[adata.obs['cell line'].eq('PRDX1KO')].copy()"
   ]
  },
  {
   "cell_type": "code",
   "execution_count": 97,
   "metadata": {
    "tags": []
   },
   "outputs": [
    {
     "data": {
      "text/html": [
       "<div>\n",
       "<style scoped>\n",
       "    .dataframe tbody tr th:only-of-type {\n",
       "        vertical-align: middle;\n",
       "    }\n",
       "\n",
       "    .dataframe tbody tr th {\n",
       "        vertical-align: top;\n",
       "    }\n",
       "\n",
       "    .dataframe thead th {\n",
       "        text-align: right;\n",
       "    }\n",
       "</style>\n",
       "<table border=\"1\" class=\"dataframe\">\n",
       "  <thead>\n",
       "    <tr style=\"text-align: right;\">\n",
       "      <th></th>\n",
       "      <th>cell line</th>\n",
       "      <th>condition</th>\n",
       "      <th>rep</th>\n",
       "      <th>size_factors</th>\n",
       "    </tr>\n",
       "  </thead>\n",
       "  <tbody>\n",
       "    <tr>\n",
       "      <th>i09</th>\n",
       "      <td>PRDX1KO</td>\n",
       "      <td>T0</td>\n",
       "      <td>1</td>\n",
       "      <td>0.747218</td>\n",
       "    </tr>\n",
       "    <tr>\n",
       "      <th>i10</th>\n",
       "      <td>PRDX1KO</td>\n",
       "      <td>T0</td>\n",
       "      <td>2</td>\n",
       "      <td>0.693424</td>\n",
       "    </tr>\n",
       "    <tr>\n",
       "      <th>i11</th>\n",
       "      <td>PRDX1KO</td>\n",
       "      <td>vehicle</td>\n",
       "      <td>1</td>\n",
       "      <td>1.091873</td>\n",
       "    </tr>\n",
       "    <tr>\n",
       "      <th>i12</th>\n",
       "      <td>PRDX1KO</td>\n",
       "      <td>vehicle</td>\n",
       "      <td>2</td>\n",
       "      <td>1.110228</td>\n",
       "    </tr>\n",
       "    <tr>\n",
       "      <th>i13</th>\n",
       "      <td>PRDX1KO</td>\n",
       "      <td>vehicle</td>\n",
       "      <td>3</td>\n",
       "      <td>2.439991</td>\n",
       "    </tr>\n",
       "    <tr>\n",
       "      <th>i14</th>\n",
       "      <td>PRDX1KO</td>\n",
       "      <td>DNAPKi</td>\n",
       "      <td>1</td>\n",
       "      <td>0.839602</td>\n",
       "    </tr>\n",
       "    <tr>\n",
       "      <th>i15</th>\n",
       "      <td>PRDX1KO</td>\n",
       "      <td>DNAPKi</td>\n",
       "      <td>2</td>\n",
       "      <td>0.867073</td>\n",
       "    </tr>\n",
       "    <tr>\n",
       "      <th>i16</th>\n",
       "      <td>PRDX1KO</td>\n",
       "      <td>DNAPKi</td>\n",
       "      <td>3</td>\n",
       "      <td>0.993045</td>\n",
       "    </tr>\n",
       "  </tbody>\n",
       "</table>\n",
       "</div>"
      ],
      "text/plain": [
       "    cell line condition  rep  size_factors\n",
       "i09   PRDX1KO        T0    1      0.747218\n",
       "i10   PRDX1KO        T0    2      0.693424\n",
       "i11   PRDX1KO   vehicle    1      1.091873\n",
       "i12   PRDX1KO   vehicle    2      1.110228\n",
       "i13   PRDX1KO   vehicle    3      2.439991\n",
       "i14   PRDX1KO    DNAPKi    1      0.839602\n",
       "i15   PRDX1KO    DNAPKi    2      0.867073\n",
       "i16   PRDX1KO    DNAPKi    3      0.993045"
      ]
     },
     "execution_count": 97,
     "metadata": {},
     "output_type": "execute_result"
    }
   ],
   "source": [
    "adata_KO.obs"
   ]
  },
  {
   "cell_type": "markdown",
   "metadata": {
    "tags": []
   },
   "source": [
    "### gamma"
   ]
  },
  {
   "cell_type": "code",
   "execution_count": 104,
   "metadata": {
    "tags": []
   },
   "outputs": [],
   "source": [
    "score = 'gamma'\n",
    "cond1 = \"T0\"\n",
    "cond2 = \"vehicle\"\n",
    "\n",
    "screen_name = f'PRDX1_KO {score} {cond2}_vs_{cond1}'"
   ]
  },
  {
   "cell_type": "code",
   "execution_count": 105,
   "metadata": {},
   "outputs": [],
   "source": [
    "runPhenoScore(\n",
    "    adata_KO,cond1,cond2,\n",
    "    growth_rate_a=screengrowthsummary[screengrowthsummary.Day.eq(11)]['PRDX1ko_vehicle'].values[0]\n",
    ")"
   ]
  },
  {
   "cell_type": "markdown",
   "metadata": {
    "tags": []
   },
   "source": [
    "#### Save to results"
   ]
  },
  {
   "cell_type": "code",
   "execution_count": 106,
   "metadata": {
    "tags": []
   },
   "outputs": [
    {
     "data": {
      "text/plain": [
       "label\n",
       "sensitivity_hit     3090\n",
       "resistance_hit       228\n",
       "gene_non_hit       16753\n",
       "non-targeting       1026\n",
       "dtype: int64"
      ]
     },
     "execution_count": 106,
     "metadata": {},
     "output_type": "execute_result"
    }
   ],
   "source": [
    "results[screen_name] = ann_score_df(\n",
    "    adata_KO.var[['target',f'condition_{cond2}_vs_{cond1}_delta',f'condition_{cond2}_vs_{cond1}_pvalue']], threshold=THRESHOLD\n",
    ").loc[target_df.index,:].set_index('gene')\n",
    "\n",
    "results[screen_name].groupby('label').size()"
   ]
  },
  {
   "cell_type": "markdown",
   "metadata": {
    "tags": []
   },
   "source": [
    "#### volcano plots"
   ]
  },
  {
   "cell_type": "code",
   "execution_count": 107,
   "metadata": {
    "tags": []
   },
   "outputs": [],
   "source": [
    "df = results[screen_name].reset_index().copy()"
   ]
  },
  {
   "cell_type": "code",
   "execution_count": 108,
   "metadata": {
    "tags": []
   },
   "outputs": [
    {
     "data": {
      "text/plain": [
       "(-1.5873909737071163, 0.6758567375658425, 4.773006442112471)"
      ]
     },
     "execution_count": 108,
     "metadata": {},
     "output_type": "execute_result"
    }
   ],
   "source": [
    "df.score.min(),df.score.max(), -np.log10(df.pvalue.min())"
   ]
  },
  {
   "cell_type": "code",
   "execution_count": 112,
   "metadata": {
    "tags": []
   },
   "outputs": [
    {
     "data": {
      "image/png": "[encoded data removed]",
      "text/plain": [
       "<IPython.core.display.Image object>"
      ]
     },
     "metadata": {},
     "output_type": "display_data"
    }
   ],
   "source": [
    "%%R -i df,screen_name,THRESHOLD\n",
    "\n",
    "plot_volcano(df, xlim_l=-1.7,xlim_r=1.7, ylim=5.5,threshold=THRESHOLD) %>% \n",
    "    label_sensitivity_hit(df %>% filter(gene %in% c(\n",
    "        \"PRKDC\",\n",
    "        \"PRDX1\", \n",
    "        \"RAD51\", \n",
    "        \"PARP1\",\n",
    "        \"BRCA1\"\n",
    "    ))) +\n",
    "    ggtitle(screen_name) +\n",
    "    theme(axis.text.x = element_text(size = 15, color = 'black'),\n",
    "          axis.text.y = element_text(size = 15, color = 'black'),\n",
    "          axis.title.x = element_text(size = 16),\n",
    "          axis.title.y = element_text(size = 16),\n",
    "          legend.title = element_blank(),\n",
    "          plot.title = element_text(size = 20,hjust = 0.5),\n",
    "          legend.text = element_text(size = rel(1.5), color = 'black'),\n",
    "          legend.position = 'right'\n",
    "         )"
   ]
  },
  {
   "cell_type": "markdown",
   "metadata": {
    "tags": []
   },
   "source": [
    "### tau"
   ]
  },
  {
   "cell_type": "code",
   "execution_count": 125,
   "metadata": {
    "tags": []
   },
   "outputs": [],
   "source": [
    "score = 'tau'\n",
    "cond1 = \"T0\"\n",
    "cond2 = \"DNAPKi\"\n",
    "\n",
    "screen_name = f'PRDX1_KO {score} {cond2}_vs_{cond1}'"
   ]
  },
  {
   "cell_type": "code",
   "execution_count": 126,
   "metadata": {},
   "outputs": [],
   "source": [
    "runPhenoScore(\n",
    "    adata_KO,cond1,cond2,\n",
    "    growth_rate_a=screengrowthsummary[screengrowthsummary.Day.eq(11)]['PRDX1ko_DNAPKi'].values[0]\n",
    ")"
   ]
  },
  {
   "cell_type": "markdown",
   "metadata": {
    "tags": []
   },
   "source": [
    "#### Save to results"
   ]
  },
  {
   "cell_type": "code",
   "execution_count": 127,
   "metadata": {
    "tags": []
   },
   "outputs": [
    {
     "data": {
      "text/plain": [
       "label\n",
       "sensitivity_hit     2600\n",
       "resistance_hit       311\n",
       "gene_non_hit       17160\n",
       "non-targeting       1026\n",
       "dtype: int64"
      ]
     },
     "execution_count": 127,
     "metadata": {},
     "output_type": "execute_result"
    }
   ],
   "source": [
    "results[screen_name] = ann_score_df(\n",
    "    adata_KO.var[['target',f'condition_{cond2}_vs_{cond1}_delta',f'condition_{cond2}_vs_{cond1}_pvalue']], threshold=THRESHOLD\n",
    ").loc[target_df.index,:].set_index('gene')\n",
    "\n",
    "results[screen_name].groupby('label').size()"
   ]
  },
  {
   "cell_type": "markdown",
   "metadata": {
    "tags": []
   },
   "source": [
    "#### volcano plots"
   ]
  },
  {
   "cell_type": "code",
   "execution_count": 132,
   "metadata": {
    "tags": []
   },
   "outputs": [],
   "source": [
    "df = results[screen_name].reset_index().copy()"
   ]
  },
  {
   "cell_type": "code",
   "execution_count": 133,
   "metadata": {
    "tags": []
   },
   "outputs": [
    {
     "data": {
      "text/plain": [
       "(-4.320761347245577, 2.50273393574476, 5.1429128657912715)"
      ]
     },
     "execution_count": 133,
     "metadata": {},
     "output_type": "execute_result"
    }
   ],
   "source": [
    "df.score.min(),df.score.max(), -np.log10(df.pvalue.min())"
   ]
  },
  {
   "cell_type": "code",
   "execution_count": 134,
   "metadata": {
    "tags": []
   },
   "outputs": [
    {
     "data": {
      "image/png": "[encoded data removed]",
      "text/plain": [
       "<IPython.core.display.Image object>"
      ]
     },
     "metadata": {},
     "output_type": "display_data"
    }
   ],
   "source": [
    "%%R -i df,screen_name,THRESHOLD\n",
    "\n",
    "plot_volcano(df, xlim_l=-5,xlim_r=5, ylim=5.5,threshold=THRESHOLD) %>% \n",
    "    label_sensitivity_hit(df %>% filter(gene %in% c(\n",
    "        \"PRKDC\",\n",
    "        \"PRDX1\", \n",
    "        \"RAD51\", \n",
    "        \"PARP1\",\n",
    "        \"BRCA1\"\n",
    "    ))) +\n",
    "    ggtitle(screen_name) +\n",
    "    theme(axis.text.x = element_text(size = 15, color = 'black'),\n",
    "          axis.text.y = element_text(size = 15, color = 'black'),\n",
    "          axis.title.x = element_text(size = 16),\n",
    "          axis.title.y = element_text(size = 16),\n",
    "          legend.title = element_blank(),\n",
    "          plot.title = element_text(size = 20,hjust = 0.5),\n",
    "          legend.text = element_text(size = rel(1.5), color = 'black'),\n",
    "          legend.position = 'right'\n",
    "         )"
   ]
  },
  {
   "cell_type": "markdown",
   "metadata": {
    "tags": []
   },
   "source": [
    "### rho"
   ]
  },
  {
   "cell_type": "code",
   "execution_count": 137,
   "metadata": {
    "tags": []
   },
   "outputs": [],
   "source": [
    "score = 'rho'\n",
    "cond1 = \"vehicle\"\n",
    "cond2 = \"DNAPKi\"\n",
    "\n",
    "screen_name = f'PRDX1_KO {score} {cond2}_vs_{cond1}'"
   ]
  },
  {
   "cell_type": "code",
   "execution_count": 139,
   "metadata": {},
   "outputs": [],
   "source": [
    "runPhenoScore(\n",
    "    adata_KO,cond1,cond2,n_reps=3,\n",
    "    growth_rate_a=np.mean([\n",
    "        screengrowthsummary[screengrowthsummary.Day.eq(11)]['PRDX1ko_DNAPKi'].values[0],\n",
    "        screengrowthsummary[screengrowthsummary.Day.eq(11)]['PRDX1ko_vehicle'].values[0]\n",
    "    ])   \n",
    ")"
   ]
  },
  {
   "cell_type": "markdown",
   "metadata": {
    "tags": []
   },
   "source": [
    "#### Save to results"
   ]
  },
  {
   "cell_type": "code",
   "execution_count": 140,
   "metadata": {
    "tags": []
   },
   "outputs": [
    {
     "data": {
      "text/plain": [
       "label\n",
       "sensitivity_hit      414\n",
       "resistance_hit      2847\n",
       "gene_non_hit       16810\n",
       "non-targeting       1026\n",
       "dtype: int64"
      ]
     },
     "execution_count": 140,
     "metadata": {},
     "output_type": "execute_result"
    }
   ],
   "source": [
    "results[screen_name] = ann_score_df(\n",
    "    adata_KO.var[['target',f'condition_{cond2}_vs_{cond1}_delta',f'condition_{cond2}_vs_{cond1}_pvalue']], threshold=THRESHOLD\n",
    ").loc[target_df.index,:].set_index('gene')\n",
    "\n",
    "results[screen_name].groupby('label').size()"
   ]
  },
  {
   "cell_type": "markdown",
   "metadata": {
    "tags": []
   },
   "source": [
    "#### volcano plots"
   ]
  },
  {
   "cell_type": "code",
   "execution_count": 141,
   "metadata": {
    "tags": []
   },
   "outputs": [],
   "source": [
    "df = results[screen_name].reset_index().copy()"
   ]
  },
  {
   "cell_type": "code",
   "execution_count": 142,
   "metadata": {
    "tags": []
   },
   "outputs": [
    {
     "data": {
      "text/plain": [
       "(-0.6683306973007509, 1.4346377630276346, 5.271176829106077)"
      ]
     },
     "execution_count": 142,
     "metadata": {},
     "output_type": "execute_result"
    }
   ],
   "source": [
    "df.score.min(),df.score.max(), -np.log10(df.pvalue.min())"
   ]
  },
  {
   "cell_type": "code",
   "execution_count": 144,
   "metadata": {
    "tags": []
   },
   "outputs": [
    {
     "data": {
      "image/png": "[encoded data removed]",
      "text/plain": [
       "<IPython.core.display.Image object>"
      ]
     },
     "metadata": {},
     "output_type": "display_data"
    }
   ],
   "source": [
    "%%R -i df,screen_name,THRESHOLD\n",
    "\n",
    "plot_volcano(df, xlim_l=-1.5,xlim_r=1.5, ylim=6,threshold=THRESHOLD) %>% \n",
    "    label_resistance_hit(df %>% filter(gene %in% c(\n",
    "        \"PRKDC\",\n",
    "        \"PRDX1\", \n",
    "        \"RAD51\", \n",
    "        \"PARP1\",\n",
    "        \"BRCA1\"\n",
    "    ))) +\n",
    "    ggtitle(screen_name) +\n",
    "    theme(axis.text.x = element_text(size = 15, color = 'black'),\n",
    "          axis.text.y = element_text(size = 15, color = 'black'),\n",
    "          axis.title.x = element_text(size = 16),\n",
    "          axis.title.y = element_text(size = 16),\n",
    "          legend.title = element_blank(),\n",
    "          plot.title = element_text(size = 20,hjust = 0.5),\n",
    "          legend.text = element_text(size = rel(1.5), color = 'black'),\n",
    "          legend.position = 'right'\n",
    "         )"
   ]
  },
  {
   "cell_type": "markdown",
   "metadata": {
    "tags": []
   },
   "source": [
    "## vehicle\n",
    "    vehicle_PRDX1KO_vs_vehicle_parent"
   ]
  },
  {
   "cell_type": "code",
   "execution_count": 145,
   "metadata": {
    "tags": []
   },
   "outputs": [],
   "source": [
    "adata_vehicle = adata[adata.obs['condition'].eq('vehicle')].copy()\n",
    "\n",
    "adata_vehicle.obs['condition'] = adata_vehicle.obs['cell line']\n",
    "\n",
    "del adata_vehicle.obs['cell line']"
   ]
  },
  {
   "cell_type": "code",
   "execution_count": 146,
   "metadata": {
    "tags": []
   },
   "outputs": [
    {
     "data": {
      "text/html": [
       "<div>\n",
       "<style scoped>\n",
       "    .dataframe tbody tr th:only-of-type {\n",
       "        vertical-align: middle;\n",
       "    }\n",
       "\n",
       "    .dataframe tbody tr th {\n",
       "        vertical-align: top;\n",
       "    }\n",
       "\n",
       "    .dataframe thead th {\n",
       "        text-align: right;\n",
       "    }\n",
       "</style>\n",
       "<table border=\"1\" class=\"dataframe\">\n",
       "  <thead>\n",
       "    <tr style=\"text-align: right;\">\n",
       "      <th></th>\n",
       "      <th>condition</th>\n",
       "      <th>rep</th>\n",
       "      <th>size_factors</th>\n",
       "    </tr>\n",
       "  </thead>\n",
       "  <tbody>\n",
       "    <tr>\n",
       "      <th>i03</th>\n",
       "      <td>parent</td>\n",
       "      <td>1</td>\n",
       "      <td>1.313857</td>\n",
       "    </tr>\n",
       "    <tr>\n",
       "      <th>i04</th>\n",
       "      <td>parent</td>\n",
       "      <td>2</td>\n",
       "      <td>1.182584</td>\n",
       "    </tr>\n",
       "    <tr>\n",
       "      <th>i05</th>\n",
       "      <td>parent</td>\n",
       "      <td>3</td>\n",
       "      <td>1.273702</td>\n",
       "    </tr>\n",
       "    <tr>\n",
       "      <th>i11</th>\n",
       "      <td>PRDX1KO</td>\n",
       "      <td>1</td>\n",
       "      <td>1.091873</td>\n",
       "    </tr>\n",
       "    <tr>\n",
       "      <th>i12</th>\n",
       "      <td>PRDX1KO</td>\n",
       "      <td>2</td>\n",
       "      <td>1.110228</td>\n",
       "    </tr>\n",
       "    <tr>\n",
       "      <th>i13</th>\n",
       "      <td>PRDX1KO</td>\n",
       "      <td>3</td>\n",
       "      <td>2.439991</td>\n",
       "    </tr>\n",
       "  </tbody>\n",
       "</table>\n",
       "</div>"
      ],
      "text/plain": [
       "    condition  rep  size_factors\n",
       "i03    parent    1      1.313857\n",
       "i04    parent    2      1.182584\n",
       "i05    parent    3      1.273702\n",
       "i11   PRDX1KO    1      1.091873\n",
       "i12   PRDX1KO    2      1.110228\n",
       "i13   PRDX1KO    3      2.439991"
      ]
     },
     "execution_count": 146,
     "metadata": {},
     "output_type": "execute_result"
    }
   ],
   "source": [
    "adata_vehicle.obs"
   ]
  },
  {
   "cell_type": "markdown",
   "metadata": {
    "tags": []
   },
   "source": [
    "### rho"
   ]
  },
  {
   "cell_type": "code",
   "execution_count": 149,
   "metadata": {
    "tags": []
   },
   "outputs": [],
   "source": [
    "score = 'rho'\n",
    "cond1 = \"parent\"\n",
    "cond2 = \"PRDX1KO\"\n",
    "\n",
    "screen_name = f'vehicle {score} {cond2}_vs_{cond1}'"
   ]
  },
  {
   "cell_type": "code",
   "execution_count": 150,
   "metadata": {},
   "outputs": [],
   "source": [
    "runPhenoScore(\n",
    "    adata_vehicle,cond1,cond2,n_reps=3,\n",
    "    growth_rate_a=np.mean([\n",
    "        screengrowthsummary[screengrowthsummary.Day.eq(11)]['parent_vehicle'].values[0],\n",
    "        screengrowthsummary[screengrowthsummary.Day.eq(11)]['PRDX1ko_vehicle'].values[0]\n",
    "    ])   \n",
    "\n",
    ")"
   ]
  },
  {
   "cell_type": "markdown",
   "metadata": {
    "tags": []
   },
   "source": [
    "#### Save to results"
   ]
  },
  {
   "cell_type": "code",
   "execution_count": 151,
   "metadata": {
    "tags": []
   },
   "outputs": [
    {
     "data": {
      "text/plain": [
       "label\n",
       "sensitivity_hit      894\n",
       "resistance_hit      2643\n",
       "gene_non_hit       16534\n",
       "non-targeting       1026\n",
       "dtype: int64"
      ]
     },
     "execution_count": 151,
     "metadata": {},
     "output_type": "execute_result"
    }
   ],
   "source": [
    "results[screen_name] = ann_score_df(\n",
    "    adata_vehicle.var[['target',f'condition_{cond2}_vs_{cond1}_delta',f'condition_{cond2}_vs_{cond1}_pvalue']], threshold=THRESHOLD\n",
    ").loc[target_df.index,:].set_index('gene')\n",
    "\n",
    "results[screen_name].groupby('label').size()"
   ]
  },
  {
   "cell_type": "markdown",
   "metadata": {
    "tags": []
   },
   "source": [
    "#### volcano plots"
   ]
  },
  {
   "cell_type": "code",
   "execution_count": 152,
   "metadata": {
    "tags": []
   },
   "outputs": [],
   "source": [
    "df = results[screen_name].reset_index().copy()"
   ]
  },
  {
   "cell_type": "code",
   "execution_count": 153,
   "metadata": {
    "tags": []
   },
   "outputs": [
    {
     "data": {
      "text/plain": [
       "(-0.8137760570241723, 0.7871978884514287, 5.04728857360988)"
      ]
     },
     "execution_count": 153,
     "metadata": {},
     "output_type": "execute_result"
    }
   ],
   "source": [
    "df.score.min(),df.score.max(), -np.log10(df.pvalue.min())"
   ]
  },
  {
   "cell_type": "code",
   "execution_count": 156,
   "metadata": {
    "tags": []
   },
   "outputs": [
    {
     "data": {
      "image/png": "[encoded data removed]",
      "text/plain": [
       "<IPython.core.display.Image object>"
      ]
     },
     "metadata": {},
     "output_type": "display_data"
    }
   ],
   "source": [
    "%%R -i df,screen_name,THRESHOLD\n",
    "\n",
    "plot_volcano(df, xlim_l=-1.5,xlim_r=1.5, ylim=6,threshold=THRESHOLD) %>% \n",
    "    label_resistance_hit(df %>% filter(gene %in% c(\n",
    "        \"PRDX1\"\n",
    "    ))) -> p\n",
    "\n",
    "p %>% label_sensitivity_hit(df %>% filter(gene %in% c(\n",
    "        \"PRKDC\",\n",
    "        \"RAD51\", \n",
    "        \"PARP1\",\n",
    "        \"BRCA1\"\n",
    "    ))) +\n",
    "    ggtitle(screen_name) +\n",
    "    theme(axis.text.x = element_text(size = 15, color = 'black'),\n",
    "          axis.text.y = element_text(size = 15, color = 'black'),\n",
    "          axis.title.x = element_text(size = 16),\n",
    "          axis.title.y = element_text(size = 16),\n",
    "          legend.title = element_blank(),\n",
    "          plot.title = element_text(size = 20,hjust = 0.5),\n",
    "          legend.text = element_text(size = rel(1.5), color = 'black'),\n",
    "          legend.position = 'right'\n",
    "         )"
   ]
  },
  {
   "cell_type": "markdown",
   "metadata": {
    "tags": []
   },
   "source": [
    "## Save results as a excel"
   ]
  },
  {
   "cell_type": "code",
   "execution_count": 157,
   "metadata": {
    "tags": []
   },
   "outputs": [],
   "source": [
    "data = pd.concat(results,axis=1)"
   ]
  },
  {
   "cell_type": "code",
   "execution_count": 158,
   "metadata": {
    "tags": []
   },
   "outputs": [
    {
     "data": {
      "text/plain": [
       "{'PRDX1_KO gamma vehicle_vs_T0',\n",
       " 'PRDX1_KO rho DNAPKi_vs_vehicle',\n",
       " 'PRDX1_KO tau DNAPKi_vs_T0',\n",
       " 'PRDX1_parent gamma vehicle_vs_T0',\n",
       " 'PRDX1_parent rho DNAPKi_vs_vehicle',\n",
       " 'PRDX1_parent tau DNAPKi_vs_T0',\n",
       " 'vehicle rho PRDX1KO_vs_parent'}"
      ]
     },
     "execution_count": 158,
     "metadata": {},
     "output_type": "execute_result"
    }
   ],
   "source": [
    "set(data.columns.to_frame()[0].to_list())"
   ]
  },
  {
   "cell_type": "code",
   "execution_count": 159,
   "metadata": {
    "tags": []
   },
   "outputs": [],
   "source": [
    "data.to_excel('phenotype_scores.xlsx')"
   ]
  },
  {
   "cell_type": "markdown",
   "metadata": {},
   "source": [
    "# "
   ]
  },
  {
   "cell_type": "code",
   "execution_count": 187,
   "metadata": {
    "tags": []
   },
   "outputs": [],
   "source": [
    "%load_ext watermark"
   ]
  },
  {
   "cell_type": "code",
   "execution_count": 188,
   "metadata": {
    "tags": []
   },
   "outputs": [
    {
     "name": "stdout",
     "output_type": "stream",
     "text": [
      "Last updated: 2023-05-26T16:08:32.130882-07:00\n",
      "\n",
      "Python implementation: CPython\n",
      "Python version       : 3.11.3\n",
      "IPython version      : 8.12.0\n",
      "\n",
      "Compiler    : GCC 11.3.0\n",
      "OS          : Linux\n",
      "Release     : 3.10.0-957.27.2.el7.x86_64\n",
      "Machine     : x86_64\n",
      "Processor   : x86_64\n",
      "CPU cores   : 64\n",
      "Architecture: 64bit\n",
      "\n"
     ]
    }
   ],
   "source": [
    "%watermark"
   ]
  },
  {
   "cell_type": "code",
   "execution_count": 189,
   "metadata": {
    "tags": []
   },
   "outputs": [
    {
     "name": "stdout",
     "output_type": "stream",
     "text": [
      "anndata   : 0.8.0\n",
      "matplotlib: 3.7.1\n",
      "pydeseq2  : 0.3.3\n",
      "pandas    : 2.0.0\n",
      "numpy     : 1.24.2\n",
      "\n"
     ]
    }
   ],
   "source": [
    "%watermark --iversions"
   ]
  }
 ],
 "metadata": {
  "kernelspec": {
   "display_name": "Python [conda env:screenpro-deseq2]",
   "language": "python",
   "name": "conda-env-screenpro-deseq2-py"
  },
  "language_info": {
   "codemirror_mode": {
    "name": "ipython",
    "version": 3
   },
   "file_extension": ".py",
   "mimetype": "text/x-python",
   "name": "python",
   "nbconvert_exporter": "python",
   "pygments_lexer": "ipython3",
   "version": "3.11.3"
  }
 },
 "nbformat": 4,
 "nbformat_minor": 4
}
