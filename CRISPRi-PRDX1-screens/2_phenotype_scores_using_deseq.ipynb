{
 "cells": [
  {
   "cell_type": "markdown",
   "metadata": {
    "tags": []
   },
   "source": [
    "## pyDESeq2"
   ]
  },
  {
   "cell_type": "markdown",
   "metadata": {},
   "source": [
    "https://pydeseq2.readthedocs.io/en/latest/auto_examples/plot_step_by_step.html"
   ]
  },
  {
   "cell_type": "code",
   "execution_count": 1,
   "metadata": {},
   "outputs": [
    {
     "name": "stdout",
     "output_type": "stream",
     "text": [
      "Intel MKL WARNING: Support of Intel(R) Streaming SIMD Extensions 4.2 (Intel(R) SSE4.2) enabled only processors has been deprecated. Intel oneAPI Math Kernel Library 2025.0 will require Intel(R) Advanced Vector Extensions (Intel(R) AVX) instructions.\n",
      "Intel MKL WARNING: Support of Intel(R) Streaming SIMD Extensions 4.2 (Intel(R) SSE4.2) enabled only processors has been deprecated. Intel oneAPI Math Kernel Library 2025.0 will require Intel(R) Advanced Vector Extensions (Intel(R) AVX) instructions.\n"
     ]
    }
   ],
   "source": [
    "import numpy as np"
   ]
  },
  {
   "cell_type": "code",
   "execution_count": 2,
   "metadata": {
    "tags": []
   },
   "outputs": [],
   "source": [
    "import pandas as pd"
   ]
  },
  {
   "cell_type": "code",
   "execution_count": 3,
   "metadata": {
    "tags": []
   },
   "outputs": [],
   "source": [
    "import anndata as ad"
   ]
  },
  {
   "cell_type": "code",
   "execution_count": 4,
   "metadata": {
    "tags": []
   },
   "outputs": [],
   "source": [
    "from pydeseq2.dds import DeseqDataSet\n",
    "from pydeseq2.ds import DeseqStats\n",
    "from pydeseq2.utils import load_example_data"
   ]
  },
  {
   "cell_type": "markdown",
   "metadata": {
    "tags": []
   },
   "source": [
    "### Data loading\n",
    "> Note that we are also explaining this step in the ‘getting started’ example. To perform differential expression analysis (DEA), PyDESeq2 requires two types of inputs:\n",
    "\n",
    "> A count matrix of shape ‘number of samples’ x ‘number of genes’, containing read counts (non-negative integers),\n",
    "\n",
    "> Clinical data (or “column” data) of shape ‘number of samples’ x ‘number of variables’, containing sample annotations that will be used to split the data in cohorts."
   ]
  },
  {
   "cell_type": "code",
   "execution_count": 5,
   "metadata": {
    "tags": []
   },
   "outputs": [],
   "source": [
    "adata = ad.read_h5ad('results/adata_counts.h5ad.gz')\n",
    "adata.obs['condition'] = adata.obs.treatment.replace('-','T0')\n",
    "adata.obs = adata.obs[['cell line','condition','rep']]\n",
    "adata.obs.index.name = None"
   ]
  },
  {
   "cell_type": "code",
   "execution_count": 6,
   "metadata": {},
   "outputs": [
    {
     "data": {
      "text/plain": [
       "AnnData object with n_obs × n_vars = 16 × 21097\n",
       "    obs: 'cell line', 'condition', 'rep'\n",
       "    var: 'target', 'targetType'\n",
       "    layers: 'log2(x+1)', 'raw'"
      ]
     },
     "execution_count": 6,
     "metadata": {},
     "output_type": "execute_result"
    }
   ],
   "source": [
    "adata"
   ]
  },
  {
   "cell_type": "code",
   "execution_count": 7,
   "metadata": {
    "tags": []
   },
   "outputs": [],
   "source": [
    "target_df = adata.var.sort_values(by=['target','targetType'],ascending=True)[['target']]"
   ]
  },
  {
   "cell_type": "code",
   "execution_count": 8,
   "metadata": {
    "tags": []
   },
   "outputs": [],
   "source": [
    "adata_parent = adata[adata.obs['cell line'].eq('parent')].copy()\n",
    "\n",
    "dds = DeseqDataSet(\n",
    "    adata = adata_parent,\n",
    "    design_factors='condition', # ['treatment','timepoint'],\n",
    "    ref_level=['condition','T0'],\n",
    "    refit_cooks=True,\n",
    "    # min_replicates = 2,\n",
    "    n_cpus=8,\n",
    ")"
   ]
  },
  {
   "cell_type": "code",
   "execution_count": 13,
   "metadata": {
    "tags": []
   },
   "outputs": [
    {
     "name": "stdout",
     "output_type": "stream",
     "text": [
      "Fitting size factors...\n",
      "... done in 0.02 seconds.\n",
      "\n",
      "Intel MKL WARNING: Support of Intel(R) Streaming SIMD Extensions 4.2 (Intel(R) SSE4.2) enabled only processors has been deprecated. Intel oneAPI Math Kernel Library 2025.0 will require Intel(R) Advanced Vector Extensions (Intel(R) AVX) instructions.\n",
      "Intel MKL WARNING: Support of Intel(R) Streaming SIMD Extensions 4.2 (Intel(R) SSE4.2) enabled only processors has been deprecated. Intel oneAPI Math Kernel Library 2025.0 will require Intel(R) Advanced Vector Extensions (Intel(R) AVX) instructions.\n",
      "Intel MKL WARNING: Support of Intel(R) Streaming SIMD Extensions 4.2 (Intel(R) SSE4.2) enabled only processors has been deprecated. Intel oneAPI Math Kernel Library 2025.0 will require Intel(R) Advanced Vector Extensions (Intel(R) AVX) instructions.\n",
      "Intel MKL WARNING: Support of Intel(R) Streaming SIMD Extensions 4.2 (Intel(R) SSE4.2) enabled only processors has been deprecated. Intel oneAPI Math Kernel Library 2025.0 will require Intel(R) Advanced Vector Extensions (Intel(R) AVX) instructions.\n",
      "Intel MKL WARNING: Support of Intel(R) Streaming SIMD Extensions 4.2 (Intel(R) SSE4.2) enabled only processors has been deprecated. Intel oneAPI Math Kernel Library 2025.0 will require Intel(R) Advanced Vector Extensions (Intel(R) AVX) instructions.\n",
      "Intel MKL WARNING: Support of Intel(R) Streaming SIMD Extensions 4.2 (Intel(R) SSE4.2) enabled only processors has been deprecated. Intel oneAPI Math Kernel Library 2025.0 will require Intel(R) Advanced Vector Extensions (Intel(R) AVX) instructions.\n",
      "Intel MKL WARNING: Support of Intel(R) Streaming SIMD Extensions 4.2 (Intel(R) SSE4.2) enabled only processors has been deprecated. Intel oneAPI Math Kernel Library 2025.0 will require Intel(R) Advanced Vector Extensions (Intel(R) AVX) instructions.\n",
      "Intel MKL WARNING: Support of Intel(R) Streaming SIMD Extensions 4.2 (Intel(R) SSE4.2) enabled only processors has been deprecated. Intel oneAPI Math Kernel Library 2025.0 will require Intel(R) Advanced Vector Extensions (Intel(R) AVX) instructions.\n",
      "Intel MKL WARNING: Support of Intel(R) Streaming SIMD Extensions 4.2 (Intel(R) SSE4.2) enabled only processors has been deprecated. Intel oneAPI Math Kernel Library 2025.0 will require Intel(R) Advanced Vector Extensions (Intel(R) AVX) instructions.\n",
      "Intel MKL WARNING: Support of Intel(R) Streaming SIMD Extensions 4.2 (Intel(R) SSE4.2) enabled only processors has been deprecated. Intel oneAPI Math Kernel Library 2025.0 will require Intel(R) Advanced Vector Extensions (Intel(R) AVX) instructions.\n",
      "Intel MKL WARNING: Support of Intel(R) Streaming SIMD Extensions 4.2 (Intel(R) SSE4.2) enabled only processors has been deprecated. Intel oneAPI Math Kernel Library 2025.0 will require Intel(R) Advanced Vector Extensions (Intel(R) AVX) instructions.\n",
      "Intel MKL WARNING: Support of Intel(R) Streaming SIMD Extensions 4.2 (Intel(R) SSE4.2) enabled only processors has been deprecated. Intel oneAPI Math Kernel Library 2025.0 will require Intel(R) Advanced Vector Extensions (Intel(R) AVX) instructions.\n",
      "Intel MKL WARNING: Support of Intel(R) Streaming SIMD Extensions 4.2 (Intel(R) SSE4.2) enabled only processors has been deprecated. Intel oneAPI Math Kernel Library 2025.0 will require Intel(R) Advanced Vector Extensions (Intel(R) AVX) instructions.\n",
      "Intel MKL WARNING: Support of Intel(R) Streaming SIMD Extensions 4.2 (Intel(R) SSE4.2) enabled only processors has been deprecated. Intel oneAPI Math Kernel Library 2025.0 will require Intel(R) Advanced Vector Extensions (Intel(R) AVX) instructions.\n",
      "Intel MKL WARNING: Support of Intel(R) Streaming SIMD Extensions 4.2 (Intel(R) SSE4.2) enabled only processors has been deprecated. Intel oneAPI Math Kernel Library 2025.0 will require Intel(R) Advanced Vector Extensions (Intel(R) AVX) instructions.\n",
      "Intel MKL WARNING: Support of Intel(R) Streaming SIMD Extensions 4.2 (Intel(R) SSE4.2) enabled only processors has been deprecated. Intel oneAPI Math Kernel Library 2025.0 will require Intel(R) Advanced Vector Extensions (Intel(R) AVX) instructions.\n",
      "Intel MKL WARNING: Support of Intel(R) Streaming SIMD Extensions 4.2 (Intel(R) SSE4.2) enabled only processors has been deprecated. Intel oneAPI Math Kernel Library 2025.0 will require Intel(R) Advanced Vector Extensions (Intel(R) AVX) instructions.\n",
      "Intel MKL WARNING: Support of Intel(R) Streaming SIMD Extensions 4.2 (Intel(R) SSE4.2) enabled only processors has been deprecated. Intel oneAPI Math Kernel Library 2025.0 will require Intel(R) Advanced Vector Extensions (Intel(R) AVX) instructions.\n",
      "Intel MKL WARNING: Support of Intel(R) Streaming SIMD Extensions 4.2 (Intel(R) SSE4.2) enabled only processors has been deprecated. Intel oneAPI Math Kernel Library 2025.0 will require Intel(R) Advanced Vector Extensions (Intel(R) AVX) instructions.\n",
      "Intel MKL WARNING: Support of Intel(R) Streaming SIMD Extensions 4.2 (Intel(R) SSE4.2) enabled only processors has been deprecated. Intel oneAPI Math Kernel Library 2025.0 will require Intel(R) Advanced Vector Extensions (Intel(R) AVX) instructions.\n",
      "Intel MKL WARNING: Support of Intel(R) Streaming SIMD Extensions 4.2 (Intel(R) SSE4.2) enabled only processors has been deprecated. Intel oneAPI Math Kernel Library 2025.0 will require Intel(R) Advanced Vector Extensions (Intel(R) AVX) instructions.\n",
      "Intel MKL WARNING: Support of Intel(R) Streaming SIMD Extensions 4.2 (Intel(R) SSE4.2) enabled only processors has been deprecated. Intel oneAPI Math Kernel Library 2025.0 will require Intel(R) Advanced Vector Extensions (Intel(R) AVX) instructions.\n",
      "Intel MKL WARNING: Support of Intel(R) Streaming SIMD Extensions 4.2 (Intel(R) SSE4.2) enabled only processors has been deprecated. Intel oneAPI Math Kernel Library 2025.0 will require Intel(R) Advanced Vector Extensions (Intel(R) AVX) instructions.\n",
      "Fitting dispersions...\n",
      "... done in 1.75 seconds.\n",
      "\n",
      "Fitting dispersion trend curve...\n",
      "Intel MKL WARNING: Support of Intel(R) Streaming SIMD Extensions 4.2 (Intel(R) SSE4.2) enabled only processors has been deprecated. Intel oneAPI Math Kernel Library 2025.0 will require Intel(R) Advanced Vector Extensions (Intel(R) AVX) instructions.\n",
      "Intel MKL WARNING: Support of Intel(R) Streaming SIMD Extensions 4.2 (Intel(R) SSE4.2) enabled only processors has been deprecated. Intel oneAPI Math Kernel Library 2025.0 will require Intel(R) Advanced Vector Extensions (Intel(R) AVX) instructions.\n",
      "Intel MKL WARNING: Support of Intel(R) Streaming SIMD Extensions 4.2 (Intel(R) SSE4.2) enabled only processors has been deprecated. Intel oneAPI Math Kernel Library 2025.0 will require Intel(R) Advanced Vector Extensions (Intel(R) AVX) instructions.\n",
      "Intel MKL WARNING: Support of Intel(R) Streaming SIMD Extensions 4.2 (Intel(R) SSE4.2) enabled only processors has been deprecated. Intel oneAPI Math Kernel Library 2025.0 will require Intel(R) Advanced Vector Extensions (Intel(R) AVX) instructions.\n",
      "... done in 3.59 seconds.\n",
      "\n",
      "Fitting MAP dispersions...\n"
     ]
    },
    {
     "name": "stderr",
     "output_type": "stream",
     "text": [
      "/opt/anaconda3/envs/mamba/envs/screenpro/lib/python3.11/site-packages/pydeseq2/dds.py:521: RuntimeWarning: invalid value encountered in log\n",
      "  ) - np.log(self[:, self.non_zero_genes].varm[\"fitted_dispersions\"])\n",
      "/opt/anaconda3/envs/mamba/envs/screenpro/lib/python3.11/site-packages/numpy/lib/utils.py:1119: ImplicitModificationWarning: Trying to modify attribute `.varm` of view, initializing view as actual.\n",
      "  result[n] = np.nan\n",
      "/opt/anaconda3/envs/mamba/envs/screenpro/lib/python3.11/site-packages/pydeseq2/utils.py:607: RuntimeWarning: invalid value encountered in log\n",
      "  log_alpha_hat = np.log(alpha_hat)\n",
      "/opt/anaconda3/envs/mamba/envs/screenpro/lib/python3.11/site-packages/pydeseq2/utils.py:648: RuntimeWarning: invalid value encountered in log\n",
      "  x0=np.log(alpha_hat),\n",
      "/opt/anaconda3/envs/mamba/envs/screenpro/lib/python3.11/site-packages/numpy/linalg/linalg.py:2079: RuntimeWarning: invalid value encountered in slogdet\n",
      "  sign, logdet = _umath_linalg.slogdet(a, signature=signature)\n",
      "/opt/anaconda3/envs/mamba/envs/screenpro/lib/python3.11/site-packages/pydeseq2/utils.py:607: RuntimeWarning: invalid value encountered in log\n",
      "  log_alpha_hat = np.log(alpha_hat)\n",
      "/opt/anaconda3/envs/mamba/envs/screenpro/lib/python3.11/site-packages/pydeseq2/utils.py:607: RuntimeWarning: invalid value encountered in log\n",
      "  log_alpha_hat = np.log(alpha_hat)\n",
      "/opt/anaconda3/envs/mamba/envs/screenpro/lib/python3.11/site-packages/pydeseq2/utils.py:648: RuntimeWarning: invalid value encountered in log\n",
      "  x0=np.log(alpha_hat),\n",
      "/opt/anaconda3/envs/mamba/envs/screenpro/lib/python3.11/site-packages/pydeseq2/utils.py:648: RuntimeWarning: invalid value encountered in log\n",
      "  x0=np.log(alpha_hat),\n",
      "/opt/anaconda3/envs/mamba/envs/screenpro/lib/python3.11/site-packages/numpy/linalg/linalg.py:2079: RuntimeWarning: invalid value encountered in slogdet\n",
      "  sign, logdet = _umath_linalg.slogdet(a, signature=signature)\n",
      "/opt/anaconda3/envs/mamba/envs/screenpro/lib/python3.11/site-packages/numpy/linalg/linalg.py:2079: RuntimeWarning: invalid value encountered in slogdet\n",
      "  sign, logdet = _umath_linalg.slogdet(a, signature=signature)\n",
      "/opt/anaconda3/envs/mamba/envs/screenpro/lib/python3.11/site-packages/pydeseq2/utils.py:607: RuntimeWarning: invalid value encountered in log\n",
      "  log_alpha_hat = np.log(alpha_hat)\n",
      "/opt/anaconda3/envs/mamba/envs/screenpro/lib/python3.11/site-packages/pydeseq2/utils.py:648: RuntimeWarning: invalid value encountered in log\n",
      "  x0=np.log(alpha_hat),\n",
      "/opt/anaconda3/envs/mamba/envs/screenpro/lib/python3.11/site-packages/numpy/linalg/linalg.py:2079: RuntimeWarning: invalid value encountered in slogdet\n",
      "  sign, logdet = _umath_linalg.slogdet(a, signature=signature)\n",
      "/opt/anaconda3/envs/mamba/envs/screenpro/lib/python3.11/site-packages/pydeseq2/utils.py:607: RuntimeWarning: invalid value encountered in log\n",
      "  log_alpha_hat = np.log(alpha_hat)\n",
      "/opt/anaconda3/envs/mamba/envs/screenpro/lib/python3.11/site-packages/pydeseq2/utils.py:648: RuntimeWarning: invalid value encountered in log\n",
      "  x0=np.log(alpha_hat),\n",
      "/opt/anaconda3/envs/mamba/envs/screenpro/lib/python3.11/site-packages/numpy/linalg/linalg.py:2079: RuntimeWarning: invalid value encountered in slogdet\n",
      "  sign, logdet = _umath_linalg.slogdet(a, signature=signature)\n",
      "/opt/anaconda3/envs/mamba/envs/screenpro/lib/python3.11/site-packages/pydeseq2/utils.py:607: RuntimeWarning: invalid value encountered in log\n",
      "  log_alpha_hat = np.log(alpha_hat)\n",
      "/opt/anaconda3/envs/mamba/envs/screenpro/lib/python3.11/site-packages/pydeseq2/utils.py:648: RuntimeWarning: invalid value encountered in log\n",
      "  x0=np.log(alpha_hat),\n",
      "/opt/anaconda3/envs/mamba/envs/screenpro/lib/python3.11/site-packages/numpy/linalg/linalg.py:2079: RuntimeWarning: invalid value encountered in slogdet\n",
      "  sign, logdet = _umath_linalg.slogdet(a, signature=signature)\n",
      "/opt/anaconda3/envs/mamba/envs/screenpro/lib/python3.11/site-packages/pydeseq2/utils.py:607: RuntimeWarning: invalid value encountered in log\n",
      "  log_alpha_hat = np.log(alpha_hat)\n",
      "/opt/anaconda3/envs/mamba/envs/screenpro/lib/python3.11/site-packages/pydeseq2/utils.py:648: RuntimeWarning: invalid value encountered in log\n",
      "  x0=np.log(alpha_hat),\n",
      "/opt/anaconda3/envs/mamba/envs/screenpro/lib/python3.11/site-packages/numpy/linalg/linalg.py:2079: RuntimeWarning: invalid value encountered in slogdet\n",
      "  sign, logdet = _umath_linalg.slogdet(a, signature=signature)\n",
      "/opt/anaconda3/envs/mamba/envs/screenpro/lib/python3.11/site-packages/pydeseq2/utils.py:607: RuntimeWarning: invalid value encountered in log\n",
      "  log_alpha_hat = np.log(alpha_hat)\n",
      "/opt/anaconda3/envs/mamba/envs/screenpro/lib/python3.11/site-packages/pydeseq2/utils.py:648: RuntimeWarning: invalid value encountered in log\n",
      "  x0=np.log(alpha_hat),\n",
      "/opt/anaconda3/envs/mamba/envs/screenpro/lib/python3.11/site-packages/numpy/linalg/linalg.py:2079: RuntimeWarning: invalid value encountered in slogdet\n",
      "  sign, logdet = _umath_linalg.slogdet(a, signature=signature)\n"
     ]
    },
    {
     "name": "stdout",
     "output_type": "stream",
     "text": [
      "... done in 2.25 seconds.\n",
      "\n",
      "Fitting LFCs...\n"
     ]
    },
    {
     "name": "stderr",
     "output_type": "stream",
     "text": [
      "/opt/anaconda3/envs/mamba/envs/screenpro/lib/python3.11/site-packages/pydeseq2/dds.py:586: RuntimeWarning: invalid value encountered in log\n",
      "  self.varm[\"_outlier_genes\"] = np.log(self.varm[\"genewise_dispersions\"]) > np.log(\n"
     ]
    },
    {
     "name": "stdout",
     "output_type": "stream",
     "text": [
      "... done in 1.08 seconds.\n",
      "\n",
      "Refitting 0 outliers.\n",
      "\n"
     ]
    }
   ],
   "source": [
    "dds.deseq2()"
   ]
  },
  {
   "cell_type": "code",
   "execution_count": 15,
   "metadata": {
    "tags": []
   },
   "outputs": [
    {
     "data": {
      "text/plain": [
       "Index(['intercept', 'condition_vehicle_vs_T0', 'condition_DNAPKi_vs_T0'], dtype='object')"
      ]
     },
     "execution_count": 15,
     "metadata": {},
     "output_type": "execute_result"
    }
   ],
   "source": [
    "dds.varm['LFC'].columns"
   ]
  },
  {
   "cell_type": "code",
   "execution_count": 18,
   "metadata": {
    "tags": []
   },
   "outputs": [],
   "source": [
    "gamma = DeseqStats(dds, n_cpus=8,contrast=['condition','vehicle','T0'])"
   ]
  },
  {
   "cell_type": "code",
   "execution_count": 24,
   "metadata": {
    "tags": []
   },
   "outputs": [],
   "source": [
    "# gamma.summary()"
   ]
  },
  {
   "cell_type": "code",
   "execution_count": 28,
   "metadata": {},
   "outputs": [],
   "source": [
    "tau   = DeseqStats(dds, n_cpus=8,contrast=['condition','DNAPKi','T0'])"
   ]
  },
  {
   "cell_type": "code",
   "execution_count": 36,
   "metadata": {},
   "outputs": [],
   "source": [
    "# tau.summary()"
   ]
  },
  {
   "cell_type": "code",
   "execution_count": 31,
   "metadata": {},
   "outputs": [],
   "source": [
    "rho   = DeseqStats(dds, n_cpus=8,contrast=['condition','DNAPKi','vehicle'])"
   ]
  },
  {
   "cell_type": "code",
   "execution_count": 33,
   "metadata": {},
   "outputs": [],
   "source": [
    "# rho.summary()"
   ]
  },
  {
   "cell_type": "code",
   "execution_count": 37,
   "metadata": {
    "tags": []
   },
   "outputs": [],
   "source": [
    "# gamma.lfc_shrink(coeff='condition_vehicle_vs_T0')"
   ]
  },
  {
   "cell_type": "code",
   "execution_count": 39,
   "metadata": {},
   "outputs": [],
   "source": [
    "# rho.summary()"
   ]
  },
  {
   "cell_type": "code",
   "execution_count": null,
   "metadata": {},
   "outputs": [],
   "source": []
  },
  {
   "cell_type": "markdown",
   "metadata": {},
   "source": [
    "### phenoScores"
   ]
  },
  {
   "cell_type": "code",
   "execution_count": 9,
   "metadata": {},
   "outputs": [],
   "source": [
    "from scripts.phenoScore import ann_score_df"
   ]
  },
  {
   "cell_type": "code",
   "execution_count": 91,
   "metadata": {
    "tags": []
   },
   "outputs": [],
   "source": [
    "gamma_df = pd.concat([target_df,gamma.results_df.loc[target_df.index,]],axis=1)"
   ]
  },
  {
   "cell_type": "code",
   "execution_count": 92,
   "metadata": {
    "tags": []
   },
   "outputs": [],
   "source": [
    "tau_df = pd.concat([target_df,tau.results_df.loc[target_df.index,]],axis=1)"
   ]
  },
  {
   "cell_type": "code",
   "execution_count": 93,
   "metadata": {
    "tags": []
   },
   "outputs": [],
   "source": [
    "rho_df = pd.concat([target_df,rho.results_df.loc[target_df.index,]],axis=1)"
   ]
  },
  {
   "cell_type": "markdown",
   "metadata": {
    "tags": []
   },
   "source": [
    "# "
   ]
  },
  {
   "cell_type": "markdown",
   "metadata": {},
   "source": [
    "### volcano plots"
   ]
  },
  {
   "cell_type": "code",
   "execution_count": 98,
   "metadata": {
    "tags": []
   },
   "outputs": [],
   "source": [
    "%load_ext rpy2.ipython"
   ]
  },
  {
   "cell_type": "code",
   "execution_count": 100,
   "metadata": {
    "tags": []
   },
   "outputs": [],
   "source": [
    "%%R\n",
    "source('scripts/plots.R')\n",
    "library(tidyverse)\n",
    "# library(patchwork)"
   ]
  },
  {
   "cell_type": "markdown",
   "metadata": {},
   "source": [
    "#### "
   ]
  },
  {
   "cell_type": "code",
   "execution_count": 105,
   "metadata": {
    "tags": []
   },
   "outputs": [],
   "source": [
    "screen_name = 'parent rho DNAPKi_vs_vehicle'"
   ]
  },
  {
   "cell_type": "code",
   "execution_count": 106,
   "metadata": {},
   "outputs": [
    {
     "data": {
      "text/html": [
       "<div>\n",
       "<style scoped>\n",
       "    .dataframe tbody tr th:only-of-type {\n",
       "        vertical-align: middle;\n",
       "    }\n",
       "\n",
       "    .dataframe tbody tr th {\n",
       "        vertical-align: top;\n",
       "    }\n",
       "\n",
       "    .dataframe thead th {\n",
       "        text-align: right;\n",
       "    }\n",
       "</style>\n",
       "<table border=\"1\" class=\"dataframe\">\n",
       "  <thead>\n",
       "    <tr style=\"text-align: right;\">\n",
       "      <th></th>\n",
       "      <th>cell line</th>\n",
       "      <th>condition</th>\n",
       "      <th>rep</th>\n",
       "    </tr>\n",
       "  </thead>\n",
       "  <tbody>\n",
       "    <tr>\n",
       "      <th>i01</th>\n",
       "      <td>parent</td>\n",
       "      <td>T0</td>\n",
       "      <td>1</td>\n",
       "    </tr>\n",
       "    <tr>\n",
       "      <th>i02</th>\n",
       "      <td>parent</td>\n",
       "      <td>T0</td>\n",
       "      <td>2</td>\n",
       "    </tr>\n",
       "    <tr>\n",
       "      <th>i03</th>\n",
       "      <td>parent</td>\n",
       "      <td>vehicle</td>\n",
       "      <td>1</td>\n",
       "    </tr>\n",
       "    <tr>\n",
       "      <th>i04</th>\n",
       "      <td>parent</td>\n",
       "      <td>vehicle</td>\n",
       "      <td>2</td>\n",
       "    </tr>\n",
       "    <tr>\n",
       "      <th>i05</th>\n",
       "      <td>parent</td>\n",
       "      <td>vehicle</td>\n",
       "      <td>3</td>\n",
       "    </tr>\n",
       "    <tr>\n",
       "      <th>i06</th>\n",
       "      <td>parent</td>\n",
       "      <td>DNAPKi</td>\n",
       "      <td>1</td>\n",
       "    </tr>\n",
       "    <tr>\n",
       "      <th>i07</th>\n",
       "      <td>parent</td>\n",
       "      <td>DNAPKi</td>\n",
       "      <td>2</td>\n",
       "    </tr>\n",
       "    <tr>\n",
       "      <th>i08</th>\n",
       "      <td>parent</td>\n",
       "      <td>DNAPKi</td>\n",
       "      <td>3</td>\n",
       "    </tr>\n",
       "  </tbody>\n",
       "</table>\n",
       "</div>"
      ],
      "text/plain": [
       "    cell line condition  rep\n",
       "i01    parent        T0    1\n",
       "i02    parent        T0    2\n",
       "i03    parent   vehicle    1\n",
       "i04    parent   vehicle    2\n",
       "i05    parent   vehicle    3\n",
       "i06    parent    DNAPKi    1\n",
       "i07    parent    DNAPKi    2\n",
       "i08    parent    DNAPKi    3"
      ]
     },
     "execution_count": 106,
     "metadata": {},
     "output_type": "execute_result"
    }
   ],
   "source": [
    "adata_parent.obs"
   ]
  },
  {
   "cell_type": "code",
   "execution_count": 120,
   "metadata": {
    "tags": []
   },
   "outputs": [],
   "source": [
    "df = ann_score_df(rho_df[['target','log2FoldChange','pvalue']])"
   ]
  },
  {
   "cell_type": "code",
   "execution_count": 121,
   "metadata": {},
   "outputs": [
    {
     "data": {
      "text/plain": [
       "(-7.019428837293595, 7.439540686455485)"
      ]
     },
     "execution_count": 121,
     "metadata": {},
     "output_type": "execute_result"
    }
   ],
   "source": [
    "df.score.min(), df.score.max()"
   ]
  },
  {
   "cell_type": "code",
   "execution_count": 122,
   "metadata": {
    "tags": []
   },
   "outputs": [
    {
     "name": "stderr",
     "output_type": "stream",
     "text": [
      "R[write to console]: In addition: \n",
      "R[write to console]: Warning messages:\n",
      "\n",
      "R[write to console]: 1: Removed 224 rows containing missing values (`geom_point()`). \n",
      "\n",
      "R[write to console]: 2: Removed 3712 rows containing missing values (`geom_point()`). \n",
      "\n"
     ]
    },
    {
     "data": {
      "image/png": "[encoded data removed]",
      "text/plain": [
       "<IPython.core.display.Image object>"
      ]
     },
     "metadata": {},
     "output_type": "display_data"
    }
   ],
   "source": [
    "%%R -i df,screen_name\n",
    "\n",
    "plot_volcano(df, xlim_l=-10,xlim_r=10, ylim=100,threshold=10) %>% \n",
    "    label_resistance_hit(df %>% filter(gene %in% c(\n",
    "        \"PRKDC\"\n",
    "    ))) -> p\n",
    "\n",
    "p %>% label_sensitivity_hit(df %>% filter(gene %in% c(\n",
    "        \"PRDX1\", \n",
    "        \"RAD51\", \n",
    "        \"PARP1\", \"BRCA1\"\n",
    "    ))) +\n",
    "    ggtitle(screen_name) +\n",
    "    theme(axis.text.x = element_text(size = 15, color = 'black'),\n",
    "          axis.text.y = element_text(size = 15, color = 'black'),\n",
    "          axis.title.x = element_text(size = 16),\n",
    "          axis.title.y = element_text(size = 16),\n",
    "          legend.title = element_blank(),\n",
    "          plot.title = element_text(size = 20,hjust = 0.5),\n",
    "          legend.text = element_text(size = rel(1.5), color = 'black'),\n",
    "          legend.position = 'right'\n",
    "         )"
   ]
  },
  {
   "cell_type": "code",
   "execution_count": 93,
   "metadata": {
    "tags": []
   },
   "outputs": [
    {
     "data": {
      "text/plain": [
       "label\n",
       "sensitivity_hit      374\n",
       "resistance_hit       616\n",
       "gene_non_hit       19081\n",
       "non-targeting       1026\n",
       "dtype: int64"
      ]
     },
     "execution_count": 93,
     "metadata": {},
     "output_type": "execute_result"
    }
   ],
   "source": [
    "df.groupby(\"label\").size()"
   ]
  },
  {
   "cell_type": "markdown",
   "metadata": {
    "tags": []
   },
   "source": [
    "#### PRDX1_parent rho DNAPKi_vs_vehicle"
   ]
  },
  {
   "cell_type": "code",
   "execution_count": 122,
   "metadata": {
    "tags": []
   },
   "outputs": [],
   "source": [
    "screen_name = 'PRDX1_parent rho DNAPKi_vs_vehicle'"
   ]
  },
  {
   "cell_type": "markdown",
   "metadata": {
    "tags": []
   },
   "source": [
    "#### PRDX1_KO rho DNAPKi_vs_vehicle"
   ]
  },
  {
   "cell_type": "code",
   "execution_count": 22,
   "metadata": {
    "tags": []
   },
   "outputs": [],
   "source": [
    "screen_name = 'PRDX1_KO rho DNAPKi_vs_vehicle'"
   ]
  },
  {
   "cell_type": "code",
   "execution_count": 29,
   "metadata": {
    "tags": []
   },
   "outputs": [
    {
     "name": "stderr",
     "output_type": "stream",
     "text": [
      "/data_gilbert/home/aarab/anaconda3/envs/mamba/envs/screenpro-deseq2/lib/python3.11/site-packages/pandas/core/arraylike.py:396: RuntimeWarning: divide by zero encountered in log10\n",
      "  result = getattr(ufunc, method)(*inputs, **kwargs)\n"
     ]
    }
   ],
   "source": [
    "df = ann_score_df(data[screen_name][['target','log2FoldChange','padj']])"
   ]
  },
  {
   "cell_type": "code",
   "execution_count": 30,
   "metadata": {
    "tags": []
   },
   "outputs": [],
   "source": [
    "# df[\n",
    "#     (df.label.eq('sensitivity_hit')) \n",
    "#     # &\n",
    "#     # (df.gene.str.contains('DNMT'))\n",
    "# ].gene.to_list()"
   ]
  },
  {
   "cell_type": "code",
   "execution_count": 31,
   "metadata": {
    "tags": []
   },
   "outputs": [
    {
     "data": {
      "image/png": "[encoded data removed]",
      "text/plain": [
       "<IPython.core.display.Image object>"
      ]
     },
     "metadata": {},
     "output_type": "display_data"
    }
   ],
   "source": [
    "%%R -i df,screen_name\n",
    "plot_volcano(df) %>% \n",
    "    label_sensitivity_hit(df %>% filter(gene %in% c('PRDX1'))) +\n",
    "    # label_resistance_hit(df %>% filter(gene =='PARP1')) +\n",
    "    ggtitle('vehicle PRDX1KO vs parent') +\n",
    "    theme(axis.text.x = element_text(size = 15, color = 'black'),\n",
    "          axis.text.y = element_text(size = 15, color = 'black'),\n",
    "          axis.title.x = element_text(size = 16),\n",
    "          axis.title.y = element_text(size = 16),\n",
    "          legend.title = element_blank(),\n",
    "          plot.title = element_text(size = 20,hjust = 0.5),\n",
    "          legend.text = element_text(size = rel(1.5), color = 'black'),\n",
    "          legend.position = 'right'\n",
    "         )"
   ]
  },
  {
   "cell_type": "code",
   "execution_count": 14,
   "metadata": {
    "tags": []
   },
   "outputs": [
    {
     "data": {
      "text/plain": [
       "label\n",
       "sensitivity_hit        3\n",
       "resistance_hit      1128\n",
       "gene_non_hit       18940\n",
       "non-targeting       1026\n",
       "dtype: int64"
      ]
     },
     "execution_count": 14,
     "metadata": {},
     "output_type": "execute_result"
    }
   ],
   "source": [
    "df.groupby(\"label\").size()"
   ]
  },
  {
   "cell_type": "markdown",
   "metadata": {
    "tags": []
   },
   "source": [
    "#### rho vehicle_PRDX1KO_vs_vehicle_parent"
   ]
  },
  {
   "cell_type": "code",
   "execution_count": 100,
   "metadata": {
    "tags": []
   },
   "outputs": [],
   "source": [
    "screen_name = 'rho vehicle_PRDX1KO_vs_vehicle_parent'"
   ]
  },
  {
   "cell_type": "code",
   "execution_count": 101,
   "metadata": {
    "tags": []
   },
   "outputs": [
    {
     "name": "stderr",
     "output_type": "stream",
     "text": [
      "/data_gilbert/home/aarab/anaconda3/envs/mamba/envs/screenpro-deseq2/lib/python3.11/site-packages/pandas/core/arraylike.py:396: RuntimeWarning: divide by zero encountered in log10\n",
      "  result = getattr(ufunc, method)(*inputs, **kwargs)\n"
     ]
    }
   ],
   "source": [
    "df = ann_score_df(data[screen_name][['target','log2FoldChange','padj']])"
   ]
  },
  {
   "cell_type": "code",
   "execution_count": 121,
   "metadata": {
    "tags": []
   },
   "outputs": [
    {
     "data": {
      "text/plain": [
       "['OPRD1', 'PRDM5', 'PRDX4', 'PRDX5', 'RPRD1A']"
      ]
     },
     "execution_count": 121,
     "metadata": {},
     "output_type": "execute_result"
    }
   ],
   "source": [
    "df[\n",
    "    # (df.label.eq('sensitivity_hit')) \n",
    "    (df.label.eq('resistance_hit')) \n",
    "    &\n",
    "    (df.gene.str.contains('PRD'))\n",
    "].gene.to_list()"
   ]
  },
  {
   "cell_type": "code",
   "execution_count": 119,
   "metadata": {
    "tags": []
   },
   "outputs": [],
   "source": [
    "%%R \n",
    "label_black <- function(p,dd, size = 3, t_x = 0.5, t_y = 0.5){\n",
    "    p + geom_point(\n",
    "        data = dd, \n",
    "        size = size, shape=21,\n",
    "        # stroke=0.5, \n",
    "        # colour = \"grey30\", \n",
    "        fill = \"grey30\"\n",
    "    ) + \n",
    "    geom_text_repel(data = dd,\n",
    "                    aes(label=gene),\n",
    "                    color = 'black', size = size, nudge_x = t_x, nudge_y = t_y)\n",
    "}"
   ]
  },
  {
   "cell_type": "code",
   "execution_count": 120,
   "metadata": {
    "tags": []
   },
   "outputs": [
    {
     "data": {
      "image/png": "[encoded data removed]",
      "text/plain": [
       "<IPython.core.display.Image object>"
      ]
     },
     "metadata": {},
     "output_type": "display_data"
    }
   ],
   "source": [
    "%%R -i df,screen_name\n",
    "plot_volcano(df, ylim=300,threshold=50) %>% \n",
    "    label_black(df %>% filter(gene %in% c('PRDX1'))) -> p\n",
    "\n",
    "p %>%\n",
    "    label_sensitivity_hit(df %>% filter(gene %in% c(\n",
    "        # \"PRDX1\", \n",
    "        \"PRKDC\", \n",
    "        \"RAD51\", \n",
    "        \"PARP1\", \n",
    "        \"BRCA1\"\n",
    "    ))) +\n",
    "    ggtitle(screen_name) +\n",
    "    theme(axis.text.x = element_text(size = 15, color = 'black'),\n",
    "          axis.text.y = element_text(size = 15, color = 'black'),\n",
    "          axis.title.x = element_text(size = 16),\n",
    "          axis.title.y = element_text(size = 16),\n",
    "          legend.title = element_blank(),\n",
    "          plot.title = element_text(size = 20,hjust = 0.5),\n",
    "          legend.text = element_text(size = rel(1.5), color = 'black'),\n",
    "          legend.position = 'right'\n",
    "         )"
   ]
  },
  {
   "cell_type": "code",
   "execution_count": null,
   "metadata": {
    "tags": []
   },
   "outputs": [
    {
     "data": {
      "text/plain": [
       "label\n",
       "sensitivity_hit      134\n",
       "resistance_hit       871\n",
       "gene_non_hit       19066\n",
       "non-targeting       1026\n",
       "dtype: int64"
      ]
     },
     "execution_count": 373,
     "metadata": {},
     "output_type": "execute_result"
    }
   ],
   "source": [
    "df.groupby(\"label\").size()"
   ]
  },
  {
   "cell_type": "markdown",
   "metadata": {
    "tags": []
   },
   "source": [
    "# Older analysis"
   ]
  },
  {
   "cell_type": "markdown",
   "metadata": {
    "tags": []
   },
   "source": [
    "### \n",
    "parent vehicle and KO vehicle"
   ]
  },
  {
   "cell_type": "markdown",
   "metadata": {},
   "source": [
    "https://github.com/abearab/CRISPRi-dual-sgRNA-screens/tree/main"
   ]
  },
  {
   "cell_type": "code",
   "execution_count": null,
   "metadata": {
    "tags": []
   },
   "outputs": [
    {
     "name": "stdout",
     "output_type": "stream",
     "text": [
      "Index,Treat,Rep\n",
      "i01,T0,1\n",
      "i02,T0,2\n",
      "i03,vehicle_parent,1\n",
      "i04,vehicle_parent,2\n",
      "i05,vehicle_parent,3\n",
      "i11,vehicle_PRDX1KO,1\n",
      "i12,vehicle_PRDX1KO,2\n",
      "i13,vehicle_PRDX1KO,3"
     ]
    }
   ],
   "source": [
    "cat results/vehicle_screen.txt"
   ]
  },
  {
   "cell_type": "code",
   "execution_count": null,
   "metadata": {
    "tags": []
   },
   "outputs": [
    {
     "name": "stdout",
     "output_type": "stream",
     "text": [
      "/data_gilbert/home/aarab/anaconda3/envs/mamba/envs/screenpro-deseq2/lib/R/bin/exec/R: /data_gilbert/home/aarab/anaconda3/envs/mamba/envs/screenpro-deseq2/lib/R/bin/exec/../../lib/../.././libtinfo.so.6: no version information available (required by /data_gilbert/home/aarab/anaconda3/envs/mamba/envs/screenpro-deseq2/lib/R/bin/exec/../../lib/../../libreadline.so.8)\n",
      "\u001b[?25h\u001b[?25h\u001b[?25h\u001b[?25h\u001b[?25h\u001b[?25h\u001b[?25h\u001b[?25h\u001b[?25h\u001b[?25hLoad count matrix and samplesheet!\n",
      "\u001b[?25h\u001b[?25h\u001b[?25h\u001b[?25h\u001b[?25hRun test!\n",
      "\u001b[?25hgene-wise dispersion estimates\n",
      "mean-dispersion relationship\n",
      "-- note: fitType='parametric', but the dispersion trend was not well captured by the\n",
      "   function: y = a/x + b, and a local regression fit was automatically substituted.\n",
      "   specify fitType='local' or 'mean' to avoid this message next time.\n",
      "final dispersion estimates\n",
      "using pre-existing size factors\n",
      "estimating dispersions\n",
      "found already estimated dispersions, replacing these\n",
      "gene-wise dispersion estimates\n",
      "mean-dispersion relationship\n",
      "-- note: fitType='parametric', but the dispersion trend was not well captured by the\n",
      "   function: y = a/x + b, and a local regression fit was automatically substituted.\n",
      "   specify fitType='local' or 'mean' to avoid this message next time.\n",
      "final dispersion estimates\n",
      "fitting model and testing\n",
      "TreatT0Treatvehicle_parentTreatvehicle_PRDX1KO\n",
      "\u001b[?25hExtract Normalized counts!\n",
      "\u001b[?25h\u001b[?25h\u001b[?25h\u001b[?25hExtract results!\n",
      "\u001b[?25h\u001b[?25hDONE!\n",
      "\u001b[?25h\u001b[?25h"
     ]
    }
   ],
   "source": [
    "!Rscript /data_gilbert/home/aarab/CRISPR-screenpro/CRISPRi-dual-sgRNA-screens/module2/PhenotypeScores.R \\\n",
    "  -i results/counts.txt \\\n",
    "  -s results/vehicle_screen.txt \\\n",
    "  -t vehicle_PRDX1KO -c vehicle_parent -z T0"
   ]
  },
  {
   "cell_type": "markdown",
   "metadata": {},
   "source": [
    "<div class=\"alert alert-block alert-info\">\n",
    "<!-- <b></b>  -->\n",
    "    I'll ignore T0 related resluts here\n",
    "</div>"
   ]
  },
  {
   "cell_type": "code",
   "execution_count": null,
   "metadata": {
    "tags": []
   },
   "outputs": [],
   "source": [
    "!mv results/counts_DESeq2_normalized.txt results/vehicle_counts_DESeq2_normalized.txt\n",
    "!mv results/rho_vehicle_PRDX1KO_vs_vehicle_parent.txt results/vehicle_rho_vehicle_PRDX1KO_vs_vehicle_parent.txt\n",
    "\n",
    "!rm results/gamma_vehicle_parent_vs_T0.txt\n",
    "!rm results/tau_vehicle_PRDX1KO_vs_T0.txt"
   ]
  },
  {
   "cell_type": "markdown",
   "metadata": {
    "tags": []
   },
   "source": [
    "## PRDX1 parent screen"
   ]
  },
  {
   "cell_type": "markdown",
   "metadata": {},
   "source": [
    "### Load meta"
   ]
  },
  {
   "cell_type": "code",
   "execution_count": null,
   "metadata": {
    "tags": []
   },
   "outputs": [
    {
     "name": "stdout",
     "output_type": "stream",
     "text": [
      "Index,Treat,Rep\n",
      "i01,T0,1\n",
      "i02,T0,2\n",
      "i03,vehicle,1\n",
      "i04,vehicle,2\n",
      "i05,vehicle,3\n",
      "i06,DNAPKi,1\n",
      "i07,DNAPKi,2\n",
      "i08,DNAPKi,3"
     ]
    }
   ],
   "source": [
    "cat results/PRDX1_parent_screen.txt"
   ]
  },
  {
   "cell_type": "code",
   "execution_count": null,
   "metadata": {
    "tags": []
   },
   "outputs": [
    {
     "name": "stdout",
     "output_type": "stream",
     "text": [
      "/data_gilbert/home/aarab/anaconda3/envs/mamba/envs/screenpro-deseq2/lib/R/bin/exec/R: /data_gilbert/home/aarab/anaconda3/envs/mamba/envs/screenpro-deseq2/lib/R/bin/exec/../../lib/../.././libtinfo.so.6: no version information available (required by /data_gilbert/home/aarab/anaconda3/envs/mamba/envs/screenpro-deseq2/lib/R/bin/exec/../../lib/../../libreadline.so.8)\n",
      "\u001b[?25h\u001b[?25h\u001b[?25h\u001b[?25h\u001b[?25h\u001b[?25h\u001b[?25h\u001b[?25h\u001b[?25h\u001b[?25hLoad count matrix and samplesheet!\n",
      "\u001b[?25h\u001b[?25h\u001b[?25h\u001b[?25h\u001b[?25hRun test!\n",
      "\u001b[?25hgene-wise dispersion estimates\n",
      "mean-dispersion relationship\n",
      "-- note: fitType='parametric', but the dispersion trend was not well captured by the\n",
      "   function: y = a/x + b, and a local regression fit was automatically substituted.\n",
      "   specify fitType='local' or 'mean' to avoid this message next time.\n",
      "final dispersion estimates\n",
      "using pre-existing size factors\n",
      "estimating dispersions\n",
      "found already estimated dispersions, replacing these\n",
      "gene-wise dispersion estimates\n",
      "mean-dispersion relationship\n",
      "-- note: fitType='parametric', but the dispersion trend was not well captured by the\n",
      "   function: y = a/x + b, and a local regression fit was automatically substituted.\n",
      "   specify fitType='local' or 'mean' to avoid this message next time.\n",
      "final dispersion estimates\n",
      "fitting model and testing\n",
      "TreatT0TreatDNAPKiTreatvehicle\n",
      "\u001b[?25hExtract Normalized counts!\n",
      "\u001b[?25h\u001b[?25h\u001b[?25h\u001b[?25hExtract results!\n",
      "\u001b[?25h\u001b[?25hDONE!\n",
      "\u001b[?25h\u001b[?25h"
     ]
    }
   ],
   "source": [
    "!Rscript /data_gilbert/home/aarab/CRISPR-screenpro/CRISPRi-dual-sgRNA-screens/module2/PhenotypeScores.R \\\n",
    "  -i results/counts.txt \\\n",
    "  -s results/PRDX1_parent_screen.txt \\\n",
    "  -t DNAPKi -c vehicle -z T0"
   ]
  },
  {
   "cell_type": "code",
   "execution_count": null,
   "metadata": {
    "tags": []
   },
   "outputs": [],
   "source": [
    "!mv results/counts_DESeq2_normalized.txt results/PRDX1_parent_counts_DESeq2_normalized.txt\n",
    "!mv results/rhoRDNAPKi_vs_vehicle.txt results/PRDX1_parent_rhoRDNAPKi_vs_vehicle.txt\n",
    "!mv results/gammaRvehicle_vs_T0.txt results/PRDX1_parent_gammaRvehicle_vs_T0.txt\n",
    "!mv results/tauRDNAPKi_vs_T0.txt results/PRDX1_parent_tauRDNAPKi_vs_T0.txt"
   ]
  },
  {
   "cell_type": "markdown",
   "metadata": {
    "tags": []
   },
   "source": [
    "## PRDX1 KO screen"
   ]
  },
  {
   "cell_type": "code",
   "execution_count": null,
   "metadata": {
    "tags": []
   },
   "outputs": [
    {
     "name": "stdout",
     "output_type": "stream",
     "text": [
      "Index,Treat,Rep\n",
      "i09,T0,1\n",
      "i10,T0,2\n",
      "i11,vehicle,1\n",
      "i12,vehicle,2\n",
      "i13,vehicle,3\n",
      "i14,DNAPKi,1\n",
      "i15,DNAPKi,2\n",
      "i16,DNAPKi,3"
     ]
    }
   ],
   "source": [
    "cat results/PRDX1_KO_screen.txt"
   ]
  },
  {
   "cell_type": "code",
   "execution_count": null,
   "metadata": {
    "tags": []
   },
   "outputs": [
    {
     "name": "stdout",
     "output_type": "stream",
     "text": [
      "/data_gilbert/home/aarab/anaconda3/envs/mamba/envs/screenpro-deseq2/lib/R/bin/exec/R: /data_gilbert/home/aarab/anaconda3/envs/mamba/envs/screenpro-deseq2/lib/R/bin/exec/../../lib/../.././libtinfo.so.6: no version information available (required by /data_gilbert/home/aarab/anaconda3/envs/mamba/envs/screenpro-deseq2/lib/R/bin/exec/../../lib/../../libreadline.so.8)\n",
      "\u001b[?25h\u001b[?25h\u001b[?25h\u001b[?25h\u001b[?25h\u001b[?25h\u001b[?25h\u001b[?25h\u001b[?25h\u001b[?25hLoad count matrix and samplesheet!\n",
      "\u001b[?25h\u001b[?25h\u001b[?25h\u001b[?25h\u001b[?25hRun test!\n",
      "\u001b[?25hgene-wise dispersion estimates\n",
      "mean-dispersion relationship\n",
      "-- note: fitType='parametric', but the dispersion trend was not well captured by the\n",
      "   function: y = a/x + b, and a local regression fit was automatically substituted.\n",
      "   specify fitType='local' or 'mean' to avoid this message next time.\n",
      "final dispersion estimates\n",
      "using pre-existing size factors\n",
      "estimating dispersions\n",
      "found already estimated dispersions, replacing these\n",
      "gene-wise dispersion estimates\n",
      "mean-dispersion relationship\n",
      "-- note: fitType='parametric', but the dispersion trend was not well captured by the\n",
      "   function: y = a/x + b, and a local regression fit was automatically substituted.\n",
      "   specify fitType='local' or 'mean' to avoid this message next time.\n",
      "final dispersion estimates\n",
      "fitting model and testing\n",
      "TreatT0TreatDNAPKiTreatvehicle\n",
      "\u001b[?25hExtract Normalized counts!\n",
      "\u001b[?25h\u001b[?25h\u001b[?25h\u001b[?25hExtract results!\n",
      "\u001b[?25h\u001b[?25hDONE!\n",
      "\u001b[?25h\u001b[?25h"
     ]
    }
   ],
   "source": [
    "!Rscript /data_gilbert/home/aarab/CRISPR-screenpro/CRISPRi-dual-sgRNA-screens/module2/PhenotypeScores.R \\\n",
    "  -i results/counts.txt \\\n",
    "  -s results/PRDX1_KO_screen.txt \\\n",
    "  -t DNAPKi -c vehicle -z T0"
   ]
  },
  {
   "cell_type": "code",
   "execution_count": null,
   "metadata": {
    "tags": []
   },
   "outputs": [],
   "source": [
    "!mv results/counts_DESeq2_normalized.txt results/PRDX1_KO_counts_DESeq2_normalized.txt\n",
    "!mv results/rhoRDNAPKi_vs_vehicle.txt results/PRDX1_KO_rhoRDNAPKi_vs_vehicle.txt\n",
    "!mv results/gammaRvehicle_vs_T0.txt results/PRDX1_KO_gammaRvehicle_vs_T0.txt\n",
    "!mv results/tauRDNAPKi_vs_T0.txt results/PRDX1_KO_tauRDNAPKi_vs_T0.txt"
   ]
  },
  {
   "cell_type": "markdown",
   "metadata": {
    "tags": []
   },
   "source": [
    "### load data / save as excel"
   ]
  },
  {
   "cell_type": "code",
   "execution_count": null,
   "metadata": {},
   "outputs": [],
   "source": [
    "import pandas as pd\n",
    "import numpy as np"
   ]
  },
  {
   "cell_type": "code",
   "execution_count": null,
   "metadata": {
    "tags": []
   },
   "outputs": [],
   "source": [
    "def sort_scores(score):\n",
    "    score['targetType'] = ''\n",
    "    score.loc[score.target.eq('non-targeting'),'targetType']  = \"non-targeting\"\n",
    "    score.loc[~score.target.eq('non-targeting'),'targetType'] = 'gene'\n",
    "    \n",
    "    score = score.sort_values(['targetType','target']).drop('targetType',axis=1)\n",
    "    \n",
    "    return score\n",
    "\n",
    "\n",
    "def merge_phenotype_scores(screenname):\n",
    "    gamma = pd.read_csv(f'results/{screenname}_gamma_vehicle_vs_T0.txt',sep='\\t')\n",
    "    gamma = sort_scores(gamma)\n",
    "    rho   = pd.read_csv(f'results/{screenname}_rho_DNAPKi_vs_vehicle.txt',sep='\\t')\n",
    "    rho   = sort_scores(rho)\n",
    "    tau   = pd.read_csv(f'results/{screenname}_tau_DNAPKi_vs_T0.txt',sep='\\t')\n",
    "    tau   = sort_scores(tau)\n",
    "    cols  = ['target','log2FoldChange','pvalue','padj']\n",
    "    \n",
    "    data  = pd.concat({\n",
    "        f'{screenname} gamma vehicle_vs_T0':gamma[cols], \n",
    "        f'{screenname} tau DNAPKi_vs_T0':tau[cols],\n",
    "        f'{screenname} rho DNAPKi_vs_vehicle':rho[cols]\n",
    "    },axis=1\n",
    "    )\n",
    "    \n",
    "    return data"
   ]
  },
  {
   "cell_type": "code",
   "execution_count": null,
   "metadata": {
    "tags": []
   },
   "outputs": [],
   "source": [
    "rho   = pd.read_csv('results/vehicle_rho_vehicle_PRDX1KO_vs_vehicle_parent.txt',sep='\\t')\n",
    "rho   = sort_scores(rho)\n",
    "cols  = ['target','log2FoldChange','pvalue','padj']\n",
    "\n",
    "data = pd.concat([\n",
    "    merge_phenotype_scores('PRDX1_KO'),\n",
    "    merge_phenotype_scores('PRDX1_parent'),\n",
    "    pd.concat({'rho vehicle_PRDX1KO_vs_vehicle_parent':rho[cols]},axis=1)\n",
    "],axis=1)"
   ]
  },
  {
   "cell_type": "code",
   "execution_count": null,
   "metadata": {
    "tags": []
   },
   "outputs": [],
   "source": [
    "data.to_excel('phenotype_scores.xlsx')"
   ]
  },
  {
   "cell_type": "code",
   "execution_count": null,
   "metadata": {},
   "outputs": [],
   "source": []
  },
  {
   "cell_type": "code",
   "execution_count": 20,
   "metadata": {
    "tags": []
   },
   "outputs": [
    {
     "data": {
      "text/plain": [
       "{'PRDX1_KO gamma vehicle_vs_T0',\n",
       " 'PRDX1_KO rho DNAPKi_vs_vehicle',\n",
       " 'PRDX1_KO tau DNAPKi_vs_T0',\n",
       " 'PRDX1_parent gamma vehicle_vs_T0',\n",
       " 'PRDX1_parent rho DNAPKi_vs_vehicle',\n",
       " 'PRDX1_parent tau DNAPKi_vs_T0',\n",
       " 'rho vehicle_PRDX1KO_vs_vehicle_parent'}"
      ]
     },
     "execution_count": 20,
     "metadata": {},
     "output_type": "execute_result"
    }
   ],
   "source": [
    "set(data.columns.to_frame()[0].to_list())"
   ]
  },
  {
   "cell_type": "markdown",
   "metadata": {},
   "source": [
    "# "
   ]
  },
  {
   "cell_type": "code",
   "execution_count": 74,
   "metadata": {
    "tags": []
   },
   "outputs": [],
   "source": [
    "%load_ext watermark"
   ]
  },
  {
   "cell_type": "code",
   "execution_count": 77,
   "metadata": {},
   "outputs": [
    {
     "name": "stdout",
     "output_type": "stream",
     "text": [
      "Last updated: 2023-05-24T12:36:29.317245-07:00\n",
      "\n",
      "Python implementation: CPython\n",
      "Python version       : 3.11.3\n",
      "IPython version      : 8.12.0\n",
      "\n",
      "Compiler    : Clang 14.0.6 \n",
      "OS          : Darwin\n",
      "Release     : 22.4.0\n",
      "Machine     : x86_64\n",
      "Processor   : i386\n",
      "CPU cores   : 10\n",
      "Architecture: 64bit\n",
      "\n"
     ]
    }
   ],
   "source": [
    "%watermark"
   ]
  },
  {
   "cell_type": "code",
   "execution_count": 78,
   "metadata": {},
   "outputs": [
    {
     "name": "stdout",
     "output_type": "stream",
     "text": [
      "anndata: 0.8.0\n",
      "pandas : 1.5.3\n",
      "\n"
     ]
    }
   ],
   "source": [
    "%watermark --iversions"
   ]
  }
 ],
 "metadata": {
  "kernelspec": {
   "display_name": "Python [conda env:screenpro]",
   "language": "python",
   "name": "conda-env-screenpro-py"
  },
  "language_info": {
   "codemirror_mode": {
    "name": "ipython",
    "version": 3
   },
   "file_extension": ".py",
   "mimetype": "text/x-python",
   "name": "python",
   "nbconvert_exporter": "python",
   "pygments_lexer": "ipython3",
   "version": "3.11.3"
  }
 },
 "nbformat": 4,
 "nbformat_minor": 4
}
