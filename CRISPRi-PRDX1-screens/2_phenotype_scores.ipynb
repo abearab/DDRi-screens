{
 "cells": [
  {
   "cell_type": "markdown",
   "metadata": {
    "jp-MarkdownHeadingCollapsed": true,
    "tags": []
   },
   "source": [
    "## pyDESeq2"
   ]
  },
  {
   "cell_type": "markdown",
   "metadata": {},
   "source": [
    "https://pydeseq2.readthedocs.io/en/latest/auto_examples/plot_step_by_step.html"
   ]
  },
  {
   "cell_type": "code",
   "execution_count": 43,
   "metadata": {
    "tags": []
   },
   "outputs": [],
   "source": [
    "import pandas as pd"
   ]
  },
  {
   "cell_type": "code",
   "execution_count": 2,
   "metadata": {
    "tags": []
   },
   "outputs": [],
   "source": [
    "import anndata as ad"
   ]
  },
  {
   "cell_type": "code",
   "execution_count": 1,
   "metadata": {
    "tags": []
   },
   "outputs": [],
   "source": [
    "from pydeseq2.dds import DeseqDataSet\n",
    "from pydeseq2.ds import DeseqStats\n",
    "from pydeseq2.utils import load_example_data"
   ]
  },
  {
   "cell_type": "markdown",
   "metadata": {
    "tags": []
   },
   "source": [
    "### Data loading\n",
    "> Note that we are also explaining this step in the ‘getting started’ example. To perform differential expression analysis (DEA), PyDESeq2 requires two types of inputs:\n",
    "\n",
    "> A count matrix of shape ‘number of samples’ x ‘number of genes’, containing read counts (non-negative integers),\n",
    "\n",
    "> Clinical data (or “column” data) of shape ‘number of samples’ x ‘number of variables’, containing sample annotations that will be used to split the data in cohorts."
   ]
  },
  {
   "cell_type": "code",
   "execution_count": 1,
   "metadata": {
    "tags": []
   },
   "outputs": [
    {
     "ename": "NameError",
     "evalue": "name 'adata' is not defined",
     "output_type": "error",
     "traceback": [
      "\u001b[0;31m---------------------------------------------------------------------------\u001b[0m",
      "\u001b[0;31mNameError\u001b[0m                                 Traceback (most recent call last)",
      "Cell \u001b[0;32mIn[1], line 1\u001b[0m\n\u001b[0;32m----> 1\u001b[0m target_df \u001b[38;5;241m=\u001b[39m \u001b[43madata\u001b[49m\u001b[38;5;241m.\u001b[39mvar\u001b[38;5;241m.\u001b[39msort_values(by\u001b[38;5;241m=\u001b[39m[\u001b[38;5;124m'\u001b[39m\u001b[38;5;124mtarget\u001b[39m\u001b[38;5;124m'\u001b[39m,\u001b[38;5;124m'\u001b[39m\u001b[38;5;124mtargetType\u001b[39m\u001b[38;5;124m'\u001b[39m],ascending\u001b[38;5;241m=\u001b[39m\u001b[38;5;28;01mTrue\u001b[39;00m)[[\u001b[38;5;124m'\u001b[39m\u001b[38;5;124mtarget\u001b[39m\u001b[38;5;124m'\u001b[39m]]\n",
      "\u001b[0;31mNameError\u001b[0m: name 'adata' is not defined"
     ]
    }
   ],
   "source": [
    "target_df = adata.var.sort_values(by=['target','targetType'],ascending=True)[['target']]"
   ]
  },
  {
   "cell_type": "code",
   "execution_count": null,
   "metadata": {
    "tags": []
   },
   "outputs": [],
   "source": [
    "adata = ad.read_h5ad('results/adata_counts.h5ad.gz')\n",
    "adata.obs['condition'] = adata.obs.treatment.replace('-','T0')\n",
    "adata.obs = adata.obs[['cell line','condition','rep']]\n",
    "adata.obs.index.name = None"
   ]
  },
  {
   "cell_type": "code",
   "execution_count": null,
   "metadata": {
    "tags": []
   },
   "outputs": [],
   "source": [
    "adata_parent = adata[adata.obs['cell line'].eq('parent')].copy()\n",
    "\n",
    "dds = DeseqDataSet(\n",
    "    adata = adata_parent,\n",
    "    design_factors='condition', # ['treatment','timepoint'],\n",
    "    ref_level=['condition','T0'],\n",
    "    refit_cooks=True,\n",
    "    # min_replicates = 2,\n",
    "    n_cpus=8,\n",
    ")"
   ]
  },
  {
   "cell_type": "code",
   "execution_count": null,
   "metadata": {
    "tags": []
   },
   "outputs": [],
   "source": [
    "dds.varm['LFC'].columns"
   ]
  },
  {
   "cell_type": "code",
   "execution_count": null,
   "metadata": {
    "tags": []
   },
   "outputs": [],
   "source": [
    "dds.deseq2()"
   ]
  },
  {
   "cell_type": "code",
   "execution_count": 34,
   "metadata": {
    "collapsed": true,
    "jupyter": {
     "outputs_hidden": true
    },
    "tags": []
   },
   "outputs": [
    {
     "name": "stdout",
     "output_type": "stream",
     "text": [
      "Running Wald tests...\n",
      "... done in 1.51 seconds.\n",
      "\n",
      "Log2 fold change & Wald test p-value: condition vehicle vs T0\n"
     ]
    },
    {
     "data": {
      "text/html": [
       "<div>\n",
       "<style scoped>\n",
       "    .dataframe tbody tr th:only-of-type {\n",
       "        vertical-align: middle;\n",
       "    }\n",
       "\n",
       "    .dataframe tbody tr th {\n",
       "        vertical-align: top;\n",
       "    }\n",
       "\n",
       "    .dataframe thead th {\n",
       "        text-align: right;\n",
       "    }\n",
       "</style>\n",
       "<table border=\"1\" class=\"dataframe\">\n",
       "  <thead>\n",
       "    <tr style=\"text-align: right;\">\n",
       "      <th></th>\n",
       "      <th>baseMean</th>\n",
       "      <th>log2FoldChange</th>\n",
       "      <th>lfcSE</th>\n",
       "      <th>stat</th>\n",
       "      <th>pvalue</th>\n",
       "      <th>padj</th>\n",
       "    </tr>\n",
       "  </thead>\n",
       "  <tbody>\n",
       "    <tr>\n",
       "      <th>non-targeting_00718|non-targeting_01902++non-targeting_00718|non-targeting_01902</th>\n",
       "      <td>1213.726933</td>\n",
       "      <td>0.172336</td>\n",
       "      <td>0.191468</td>\n",
       "      <td>0.900076</td>\n",
       "      <td>3.680800e-01</td>\n",
       "      <td>6.129679e-01</td>\n",
       "    </tr>\n",
       "    <tr>\n",
       "      <th>ZDHHC13_+_19138761.23-P1P2|ZDHHC13_-_19138728.23-P1P2++ZDHHC13_+_19138761.23-P1P2|ZDHHC13_-_19138728.23-P1P2</th>\n",
       "      <td>2270.725131</td>\n",
       "      <td>0.271980</td>\n",
       "      <td>0.145044</td>\n",
       "      <td>1.875157</td>\n",
       "      <td>6.077119e-02</td>\n",
       "      <td>1.855954e-01</td>\n",
       "    </tr>\n",
       "    <tr>\n",
       "      <th>ARNTL2_+_27485837.23-P1P2|ARNTL2_+_27485847.23-P1P2++ARNTL2_+_27485837.23-P1P2|ARNTL2_+_27485847.23-P1P2</th>\n",
       "      <td>6636.324914</td>\n",
       "      <td>0.043483</td>\n",
       "      <td>0.171930</td>\n",
       "      <td>0.252912</td>\n",
       "      <td>8.003360e-01</td>\n",
       "      <td>9.060424e-01</td>\n",
       "    </tr>\n",
       "    <tr>\n",
       "      <th>DGKD_-_234263173.23-P1P2|DGKD_+_234263221.23-P1P2++DGKD_-_234263173.23-P1P2|DGKD_+_234263221.23-P1P2</th>\n",
       "      <td>2014.976426</td>\n",
       "      <td>0.168426</td>\n",
       "      <td>0.169137</td>\n",
       "      <td>0.995793</td>\n",
       "      <td>3.193506e-01</td>\n",
       "      <td>5.656547e-01</td>\n",
       "    </tr>\n",
       "    <tr>\n",
       "      <th>STK11_-_1206870.23-P2|STK11_-_1206878.23-P2++STK11_-_1206870.23-P2|STK11_-_1206878.23-P2</th>\n",
       "      <td>1487.489797</td>\n",
       "      <td>0.047406</td>\n",
       "      <td>0.190340</td>\n",
       "      <td>0.249058</td>\n",
       "      <td>8.033163e-01</td>\n",
       "      <td>9.077112e-01</td>\n",
       "    </tr>\n",
       "    <tr>\n",
       "      <th>...</th>\n",
       "      <td>...</td>\n",
       "      <td>...</td>\n",
       "      <td>...</td>\n",
       "      <td>...</td>\n",
       "      <td>...</td>\n",
       "      <td>...</td>\n",
       "    </tr>\n",
       "    <tr>\n",
       "      <th>STC1_+_23712204.23-P1P2|STC1_+_23712324.23-P1P2++STC1_+_23712204.23-P1P2|STC1_+_23712324.23-P1P2</th>\n",
       "      <td>756.861298</td>\n",
       "      <td>0.228224</td>\n",
       "      <td>0.266161</td>\n",
       "      <td>0.857464</td>\n",
       "      <td>3.911888e-01</td>\n",
       "      <td>6.341635e-01</td>\n",
       "    </tr>\n",
       "    <tr>\n",
       "      <th>CDC16_-_115000772.23-P1P2|CDC16_+_115000554.23-P1P2++CDC16_-_115000772.23-P1P2|CDC16_+_115000554.23-P1P2</th>\n",
       "      <td>201.427087</td>\n",
       "      <td>-6.274111</td>\n",
       "      <td>1.639624</td>\n",
       "      <td>-3.826555</td>\n",
       "      <td>1.299489e-04</td>\n",
       "      <td>7.883644e-04</td>\n",
       "    </tr>\n",
       "    <tr>\n",
       "      <th>FSHB_-_30252595.23-P1P2|FSHB_-_30252605.23-P1P2++FSHB_-_30252595.23-P1P2|FSHB_-_30252605.23-P1P2</th>\n",
       "      <td>1703.137125</td>\n",
       "      <td>0.185553</td>\n",
       "      <td>0.167291</td>\n",
       "      <td>1.109162</td>\n",
       "      <td>2.673603e-01</td>\n",
       "      <td>5.089062e-01</td>\n",
       "    </tr>\n",
       "    <tr>\n",
       "      <th>ZNF320_-_53400579.23-P1P2|ZNF320_-_53400870.23-P1P2++ZNF320_-_53400579.23-P1P2|ZNF320_-_53400870.23-P1P2</th>\n",
       "      <td>1871.594766</td>\n",
       "      <td>-0.190238</td>\n",
       "      <td>0.168609</td>\n",
       "      <td>-1.128279</td>\n",
       "      <td>2.592023e-01</td>\n",
       "      <td>4.990519e-01</td>\n",
       "    </tr>\n",
       "    <tr>\n",
       "      <th>ZCCHC9_+_80597457.23-P1P2|ZCCHC9_-_80597504.23-P1P2++ZCCHC9_+_80597457.23-P1P2|ZCCHC9_-_80597504.23-P1P2</th>\n",
       "      <td>221.282938</td>\n",
       "      <td>-5.344461</td>\n",
       "      <td>0.774842</td>\n",
       "      <td>-6.897488</td>\n",
       "      <td>5.293027e-12</td>\n",
       "      <td>6.661760e-11</td>\n",
       "    </tr>\n",
       "  </tbody>\n",
       "</table>\n",
       "<p>21097 rows × 6 columns</p>\n",
       "</div>"
      ],
      "text/plain": [
       "                                                       baseMean   \n",
       "non-targeting_00718|non-targeting_01902++non-ta...  1213.726933  \\\n",
       "ZDHHC13_+_19138761.23-P1P2|ZDHHC13_-_19138728.2...  2270.725131   \n",
       "ARNTL2_+_27485837.23-P1P2|ARNTL2_+_27485847.23-...  6636.324914   \n",
       "DGKD_-_234263173.23-P1P2|DGKD_+_234263221.23-P1...  2014.976426   \n",
       "STK11_-_1206870.23-P2|STK11_-_1206878.23-P2++ST...  1487.489797   \n",
       "...                                                         ...   \n",
       "STC1_+_23712204.23-P1P2|STC1_+_23712324.23-P1P2...   756.861298   \n",
       "CDC16_-_115000772.23-P1P2|CDC16_+_115000554.23-...   201.427087   \n",
       "FSHB_-_30252595.23-P1P2|FSHB_-_30252605.23-P1P2...  1703.137125   \n",
       "ZNF320_-_53400579.23-P1P2|ZNF320_-_53400870.23-...  1871.594766   \n",
       "ZCCHC9_+_80597457.23-P1P2|ZCCHC9_-_80597504.23-...   221.282938   \n",
       "\n",
       "                                                    log2FoldChange     lfcSE   \n",
       "non-targeting_00718|non-targeting_01902++non-ta...        0.172336  0.191468  \\\n",
       "ZDHHC13_+_19138761.23-P1P2|ZDHHC13_-_19138728.2...        0.271980  0.145044   \n",
       "ARNTL2_+_27485837.23-P1P2|ARNTL2_+_27485847.23-...        0.043483  0.171930   \n",
       "DGKD_-_234263173.23-P1P2|DGKD_+_234263221.23-P1...        0.168426  0.169137   \n",
       "STK11_-_1206870.23-P2|STK11_-_1206878.23-P2++ST...        0.047406  0.190340   \n",
       "...                                                            ...       ...   \n",
       "STC1_+_23712204.23-P1P2|STC1_+_23712324.23-P1P2...        0.228224  0.266161   \n",
       "CDC16_-_115000772.23-P1P2|CDC16_+_115000554.23-...       -6.274111  1.639624   \n",
       "FSHB_-_30252595.23-P1P2|FSHB_-_30252605.23-P1P2...        0.185553  0.167291   \n",
       "ZNF320_-_53400579.23-P1P2|ZNF320_-_53400870.23-...       -0.190238  0.168609   \n",
       "ZCCHC9_+_80597457.23-P1P2|ZCCHC9_-_80597504.23-...       -5.344461  0.774842   \n",
       "\n",
       "                                                        stat        pvalue   \n",
       "non-targeting_00718|non-targeting_01902++non-ta...  0.900076  3.680800e-01  \\\n",
       "ZDHHC13_+_19138761.23-P1P2|ZDHHC13_-_19138728.2...  1.875157  6.077119e-02   \n",
       "ARNTL2_+_27485837.23-P1P2|ARNTL2_+_27485847.23-...  0.252912  8.003360e-01   \n",
       "DGKD_-_234263173.23-P1P2|DGKD_+_234263221.23-P1...  0.995793  3.193506e-01   \n",
       "STK11_-_1206870.23-P2|STK11_-_1206878.23-P2++ST...  0.249058  8.033163e-01   \n",
       "...                                                      ...           ...   \n",
       "STC1_+_23712204.23-P1P2|STC1_+_23712324.23-P1P2...  0.857464  3.911888e-01   \n",
       "CDC16_-_115000772.23-P1P2|CDC16_+_115000554.23-... -3.826555  1.299489e-04   \n",
       "FSHB_-_30252595.23-P1P2|FSHB_-_30252605.23-P1P2...  1.109162  2.673603e-01   \n",
       "ZNF320_-_53400579.23-P1P2|ZNF320_-_53400870.23-... -1.128279  2.592023e-01   \n",
       "ZCCHC9_+_80597457.23-P1P2|ZCCHC9_-_80597504.23-... -6.897488  5.293027e-12   \n",
       "\n",
       "                                                            padj  \n",
       "non-targeting_00718|non-targeting_01902++non-ta...  6.129679e-01  \n",
       "ZDHHC13_+_19138761.23-P1P2|ZDHHC13_-_19138728.2...  1.855954e-01  \n",
       "ARNTL2_+_27485837.23-P1P2|ARNTL2_+_27485847.23-...  9.060424e-01  \n",
       "DGKD_-_234263173.23-P1P2|DGKD_+_234263221.23-P1...  5.656547e-01  \n",
       "STK11_-_1206870.23-P2|STK11_-_1206878.23-P2++ST...  9.077112e-01  \n",
       "...                                                          ...  \n",
       "STC1_+_23712204.23-P1P2|STC1_+_23712324.23-P1P2...  6.341635e-01  \n",
       "CDC16_-_115000772.23-P1P2|CDC16_+_115000554.23-...  7.883644e-04  \n",
       "FSHB_-_30252595.23-P1P2|FSHB_-_30252605.23-P1P2...  5.089062e-01  \n",
       "ZNF320_-_53400579.23-P1P2|ZNF320_-_53400870.23-...  4.990519e-01  \n",
       "ZCCHC9_+_80597457.23-P1P2|ZCCHC9_-_80597504.23-...  6.661760e-11  \n",
       "\n",
       "[21097 rows x 6 columns]"
      ]
     },
     "metadata": {},
     "output_type": "display_data"
    },
    {
     "name": "stdout",
     "output_type": "stream",
     "text": [
      "Running Wald tests...\n",
      "... done in 1.19 seconds.\n",
      "\n",
      "Log2 fold change & Wald test p-value: condition DNAPKi vs T0\n"
     ]
    },
    {
     "data": {
      "text/html": [
       "<div>\n",
       "<style scoped>\n",
       "    .dataframe tbody tr th:only-of-type {\n",
       "        vertical-align: middle;\n",
       "    }\n",
       "\n",
       "    .dataframe tbody tr th {\n",
       "        vertical-align: top;\n",
       "    }\n",
       "\n",
       "    .dataframe thead th {\n",
       "        text-align: right;\n",
       "    }\n",
       "</style>\n",
       "<table border=\"1\" class=\"dataframe\">\n",
       "  <thead>\n",
       "    <tr style=\"text-align: right;\">\n",
       "      <th></th>\n",
       "      <th>baseMean</th>\n",
       "      <th>log2FoldChange</th>\n",
       "      <th>lfcSE</th>\n",
       "      <th>stat</th>\n",
       "      <th>pvalue</th>\n",
       "      <th>padj</th>\n",
       "    </tr>\n",
       "  </thead>\n",
       "  <tbody>\n",
       "    <tr>\n",
       "      <th>non-targeting_00718|non-targeting_01902++non-targeting_00718|non-targeting_01902</th>\n",
       "      <td>1213.726933</td>\n",
       "      <td>0.219843</td>\n",
       "      <td>0.191724</td>\n",
       "      <td>1.146664</td>\n",
       "      <td>2.515206e-01</td>\n",
       "      <td>0.477582</td>\n",
       "    </tr>\n",
       "    <tr>\n",
       "      <th>ZDHHC13_+_19138761.23-P1P2|ZDHHC13_-_19138728.23-P1P2++ZDHHC13_+_19138761.23-P1P2|ZDHHC13_-_19138728.23-P1P2</th>\n",
       "      <td>2270.725131</td>\n",
       "      <td>0.258621</td>\n",
       "      <td>0.145261</td>\n",
       "      <td>1.780389</td>\n",
       "      <td>7.501237e-02</td>\n",
       "      <td>0.205210</td>\n",
       "    </tr>\n",
       "    <tr>\n",
       "      <th>ARNTL2_+_27485837.23-P1P2|ARNTL2_+_27485847.23-P1P2++ARNTL2_+_27485837.23-P1P2|ARNTL2_+_27485847.23-P1P2</th>\n",
       "      <td>6636.324914</td>\n",
       "      <td>0.100423</td>\n",
       "      <td>0.171981</td>\n",
       "      <td>0.583921</td>\n",
       "      <td>5.592738e-01</td>\n",
       "      <td>0.760823</td>\n",
       "    </tr>\n",
       "    <tr>\n",
       "      <th>DGKD_-_234263173.23-P1P2|DGKD_+_234263221.23-P1P2++DGKD_-_234263173.23-P1P2|DGKD_+_234263221.23-P1P2</th>\n",
       "      <td>2014.976426</td>\n",
       "      <td>0.014782</td>\n",
       "      <td>0.169441</td>\n",
       "      <td>0.087240</td>\n",
       "      <td>9.304807e-01</td>\n",
       "      <td>0.970045</td>\n",
       "    </tr>\n",
       "    <tr>\n",
       "      <th>STK11_-_1206870.23-P2|STK11_-_1206878.23-P2++STK11_-_1206870.23-P2|STK11_-_1206878.23-P2</th>\n",
       "      <td>1487.489797</td>\n",
       "      <td>0.001241</td>\n",
       "      <td>0.190628</td>\n",
       "      <td>0.006510</td>\n",
       "      <td>9.948061e-01</td>\n",
       "      <td>0.997691</td>\n",
       "    </tr>\n",
       "    <tr>\n",
       "      <th>...</th>\n",
       "      <td>...</td>\n",
       "      <td>...</td>\n",
       "      <td>...</td>\n",
       "      <td>...</td>\n",
       "      <td>...</td>\n",
       "      <td>...</td>\n",
       "    </tr>\n",
       "    <tr>\n",
       "      <th>STC1_+_23712204.23-P1P2|STC1_+_23712324.23-P1P2++STC1_+_23712204.23-P1P2|STC1_+_23712324.23-P1P2</th>\n",
       "      <td>756.861298</td>\n",
       "      <td>-0.060274</td>\n",
       "      <td>0.266823</td>\n",
       "      <td>-0.225896</td>\n",
       "      <td>8.212821e-01</td>\n",
       "      <td>0.918418</td>\n",
       "    </tr>\n",
       "    <tr>\n",
       "      <th>CDC16_-_115000772.23-P1P2|CDC16_+_115000554.23-P1P2++CDC16_-_115000772.23-P1P2|CDC16_+_115000554.23-P1P2</th>\n",
       "      <td>201.427087</td>\n",
       "      <td>-4.769515</td>\n",
       "      <td>1.629867</td>\n",
       "      <td>-2.926322</td>\n",
       "      <td>3.429960e-03</td>\n",
       "      <td>0.015604</td>\n",
       "    </tr>\n",
       "    <tr>\n",
       "      <th>FSHB_-_30252595.23-P1P2|FSHB_-_30252605.23-P1P2++FSHB_-_30252595.23-P1P2|FSHB_-_30252605.23-P1P2</th>\n",
       "      <td>1703.137125</td>\n",
       "      <td>0.212263</td>\n",
       "      <td>0.167515</td>\n",
       "      <td>1.267128</td>\n",
       "      <td>2.051096e-01</td>\n",
       "      <td>0.418229</td>\n",
       "    </tr>\n",
       "    <tr>\n",
       "      <th>ZNF320_-_53400579.23-P1P2|ZNF320_-_53400870.23-P1P2++ZNF320_-_53400579.23-P1P2|ZNF320_-_53400870.23-P1P2</th>\n",
       "      <td>1871.594766</td>\n",
       "      <td>0.089722</td>\n",
       "      <td>0.168645</td>\n",
       "      <td>0.532015</td>\n",
       "      <td>5.947159e-01</td>\n",
       "      <td>0.787208</td>\n",
       "    </tr>\n",
       "    <tr>\n",
       "      <th>ZCCHC9_+_80597457.23-P1P2|ZCCHC9_-_80597504.23-P1P2++ZCCHC9_+_80597457.23-P1P2|ZCCHC9_-_80597504.23-P1P2</th>\n",
       "      <td>221.282938</td>\n",
       "      <td>-4.013289</td>\n",
       "      <td>0.765491</td>\n",
       "      <td>-5.242765</td>\n",
       "      <td>1.581876e-07</td>\n",
       "      <td>0.000001</td>\n",
       "    </tr>\n",
       "  </tbody>\n",
       "</table>\n",
       "<p>21097 rows × 6 columns</p>\n",
       "</div>"
      ],
      "text/plain": [
       "                                                       baseMean   \n",
       "non-targeting_00718|non-targeting_01902++non-ta...  1213.726933  \\\n",
       "ZDHHC13_+_19138761.23-P1P2|ZDHHC13_-_19138728.2...  2270.725131   \n",
       "ARNTL2_+_27485837.23-P1P2|ARNTL2_+_27485847.23-...  6636.324914   \n",
       "DGKD_-_234263173.23-P1P2|DGKD_+_234263221.23-P1...  2014.976426   \n",
       "STK11_-_1206870.23-P2|STK11_-_1206878.23-P2++ST...  1487.489797   \n",
       "...                                                         ...   \n",
       "STC1_+_23712204.23-P1P2|STC1_+_23712324.23-P1P2...   756.861298   \n",
       "CDC16_-_115000772.23-P1P2|CDC16_+_115000554.23-...   201.427087   \n",
       "FSHB_-_30252595.23-P1P2|FSHB_-_30252605.23-P1P2...  1703.137125   \n",
       "ZNF320_-_53400579.23-P1P2|ZNF320_-_53400870.23-...  1871.594766   \n",
       "ZCCHC9_+_80597457.23-P1P2|ZCCHC9_-_80597504.23-...   221.282938   \n",
       "\n",
       "                                                    log2FoldChange     lfcSE   \n",
       "non-targeting_00718|non-targeting_01902++non-ta...        0.219843  0.191724  \\\n",
       "ZDHHC13_+_19138761.23-P1P2|ZDHHC13_-_19138728.2...        0.258621  0.145261   \n",
       "ARNTL2_+_27485837.23-P1P2|ARNTL2_+_27485847.23-...        0.100423  0.171981   \n",
       "DGKD_-_234263173.23-P1P2|DGKD_+_234263221.23-P1...        0.014782  0.169441   \n",
       "STK11_-_1206870.23-P2|STK11_-_1206878.23-P2++ST...        0.001241  0.190628   \n",
       "...                                                            ...       ...   \n",
       "STC1_+_23712204.23-P1P2|STC1_+_23712324.23-P1P2...       -0.060274  0.266823   \n",
       "CDC16_-_115000772.23-P1P2|CDC16_+_115000554.23-...       -4.769515  1.629867   \n",
       "FSHB_-_30252595.23-P1P2|FSHB_-_30252605.23-P1P2...        0.212263  0.167515   \n",
       "ZNF320_-_53400579.23-P1P2|ZNF320_-_53400870.23-...        0.089722  0.168645   \n",
       "ZCCHC9_+_80597457.23-P1P2|ZCCHC9_-_80597504.23-...       -4.013289  0.765491   \n",
       "\n",
       "                                                        stat        pvalue   \n",
       "non-targeting_00718|non-targeting_01902++non-ta...  1.146664  2.515206e-01  \\\n",
       "ZDHHC13_+_19138761.23-P1P2|ZDHHC13_-_19138728.2...  1.780389  7.501237e-02   \n",
       "ARNTL2_+_27485837.23-P1P2|ARNTL2_+_27485847.23-...  0.583921  5.592738e-01   \n",
       "DGKD_-_234263173.23-P1P2|DGKD_+_234263221.23-P1...  0.087240  9.304807e-01   \n",
       "STK11_-_1206870.23-P2|STK11_-_1206878.23-P2++ST...  0.006510  9.948061e-01   \n",
       "...                                                      ...           ...   \n",
       "STC1_+_23712204.23-P1P2|STC1_+_23712324.23-P1P2... -0.225896  8.212821e-01   \n",
       "CDC16_-_115000772.23-P1P2|CDC16_+_115000554.23-... -2.926322  3.429960e-03   \n",
       "FSHB_-_30252595.23-P1P2|FSHB_-_30252605.23-P1P2...  1.267128  2.051096e-01   \n",
       "ZNF320_-_53400579.23-P1P2|ZNF320_-_53400870.23-...  0.532015  5.947159e-01   \n",
       "ZCCHC9_+_80597457.23-P1P2|ZCCHC9_-_80597504.23-... -5.242765  1.581876e-07   \n",
       "\n",
       "                                                        padj  \n",
       "non-targeting_00718|non-targeting_01902++non-ta...  0.477582  \n",
       "ZDHHC13_+_19138761.23-P1P2|ZDHHC13_-_19138728.2...  0.205210  \n",
       "ARNTL2_+_27485837.23-P1P2|ARNTL2_+_27485847.23-...  0.760823  \n",
       "DGKD_-_234263173.23-P1P2|DGKD_+_234263221.23-P1...  0.970045  \n",
       "STK11_-_1206870.23-P2|STK11_-_1206878.23-P2++ST...  0.997691  \n",
       "...                                                      ...  \n",
       "STC1_+_23712204.23-P1P2|STC1_+_23712324.23-P1P2...  0.918418  \n",
       "CDC16_-_115000772.23-P1P2|CDC16_+_115000554.23-...  0.015604  \n",
       "FSHB_-_30252595.23-P1P2|FSHB_-_30252605.23-P1P2...  0.418229  \n",
       "ZNF320_-_53400579.23-P1P2|ZNF320_-_53400870.23-...  0.787208  \n",
       "ZCCHC9_+_80597457.23-P1P2|ZCCHC9_-_80597504.23-...  0.000001  \n",
       "\n",
       "[21097 rows x 6 columns]"
      ]
     },
     "metadata": {},
     "output_type": "display_data"
    }
   ],
   "source": [
    "gamma = DeseqStats(dds, n_cpus=8,contrast=['condition','vehicle','T0'])\n",
    "gamma.summary()\n",
    "tau   = DeseqStats(dds, n_cpus=8,contrast=['condition','DNAPKi','T0'])\n",
    "tau.summary()\n",
    "# rho   = DeseqStats(dds, n_cpus=8,contrast=['condition','DNAPKi','vehicle'])\n",
    "# rho.summary()"
   ]
  },
  {
   "cell_type": "code",
   "execution_count": 36,
   "metadata": {
    "collapsed": true,
    "jupyter": {
     "outputs_hidden": true
    },
    "tags": []
   },
   "outputs": [
    {
     "name": "stdout",
     "output_type": "stream",
     "text": [
      "Fitting MAP LFCs...\n",
      "... done in 4.40 seconds.\n",
      "\n",
      "Shrunk Log2 fold change & Wald test p-value: condition vehicle vs T0\n"
     ]
    },
    {
     "data": {
      "text/html": [
       "<div>\n",
       "<style scoped>\n",
       "    .dataframe tbody tr th:only-of-type {\n",
       "        vertical-align: middle;\n",
       "    }\n",
       "\n",
       "    .dataframe tbody tr th {\n",
       "        vertical-align: top;\n",
       "    }\n",
       "\n",
       "    .dataframe thead th {\n",
       "        text-align: right;\n",
       "    }\n",
       "</style>\n",
       "<table border=\"1\" class=\"dataframe\">\n",
       "  <thead>\n",
       "    <tr style=\"text-align: right;\">\n",
       "      <th></th>\n",
       "      <th>baseMean</th>\n",
       "      <th>log2FoldChange</th>\n",
       "      <th>lfcSE</th>\n",
       "      <th>stat</th>\n",
       "      <th>pvalue</th>\n",
       "      <th>padj</th>\n",
       "    </tr>\n",
       "  </thead>\n",
       "  <tbody>\n",
       "    <tr>\n",
       "      <th>non-targeting_00718|non-targeting_01902++non-targeting_00718|non-targeting_01902</th>\n",
       "      <td>1213.726933</td>\n",
       "      <td>0.165330</td>\n",
       "      <td>0.186770</td>\n",
       "      <td>0.900076</td>\n",
       "      <td>3.680800e-01</td>\n",
       "      <td>6.129679e-01</td>\n",
       "    </tr>\n",
       "    <tr>\n",
       "      <th>ZDHHC13_+_19138761.23-P1P2|ZDHHC13_-_19138728.23-P1P2++ZDHHC13_+_19138761.23-P1P2|ZDHHC13_-_19138728.23-P1P2</th>\n",
       "      <td>2270.725131</td>\n",
       "      <td>0.265774</td>\n",
       "      <td>0.143180</td>\n",
       "      <td>1.875157</td>\n",
       "      <td>6.077119e-02</td>\n",
       "      <td>1.855954e-01</td>\n",
       "    </tr>\n",
       "    <tr>\n",
       "      <th>ARNTL2_+_27485837.23-P1P2|ARNTL2_+_27485847.23-P1P2++ARNTL2_+_27485837.23-P1P2|ARNTL2_+_27485847.23-P1P2</th>\n",
       "      <td>6636.324914</td>\n",
       "      <td>0.051654</td>\n",
       "      <td>0.168121</td>\n",
       "      <td>0.252912</td>\n",
       "      <td>8.003360e-01</td>\n",
       "      <td>9.060424e-01</td>\n",
       "    </tr>\n",
       "    <tr>\n",
       "      <th>DGKD_-_234263173.23-P1P2|DGKD_+_234263221.23-P1P2++DGKD_-_234263173.23-P1P2|DGKD_+_234263221.23-P1P2</th>\n",
       "      <td>2014.976426</td>\n",
       "      <td>0.163356</td>\n",
       "      <td>0.166061</td>\n",
       "      <td>0.995793</td>\n",
       "      <td>3.193506e-01</td>\n",
       "      <td>5.656547e-01</td>\n",
       "    </tr>\n",
       "    <tr>\n",
       "      <th>STK11_-_1206870.23-P2|STK11_-_1206878.23-P2++STK11_-_1206870.23-P2|STK11_-_1206878.23-P2</th>\n",
       "      <td>1487.489797</td>\n",
       "      <td>0.045969</td>\n",
       "      <td>0.185565</td>\n",
       "      <td>0.249058</td>\n",
       "      <td>8.033163e-01</td>\n",
       "      <td>9.077112e-01</td>\n",
       "    </tr>\n",
       "    <tr>\n",
       "      <th>...</th>\n",
       "      <td>...</td>\n",
       "      <td>...</td>\n",
       "      <td>...</td>\n",
       "      <td>...</td>\n",
       "      <td>...</td>\n",
       "      <td>...</td>\n",
       "    </tr>\n",
       "    <tr>\n",
       "      <th>STC1_+_23712204.23-P1P2|STC1_+_23712324.23-P1P2++STC1_+_23712204.23-P1P2|STC1_+_23712324.23-P1P2</th>\n",
       "      <td>756.861298</td>\n",
       "      <td>0.205405</td>\n",
       "      <td>0.254609</td>\n",
       "      <td>0.857464</td>\n",
       "      <td>3.911888e-01</td>\n",
       "      <td>6.341635e-01</td>\n",
       "    </tr>\n",
       "    <tr>\n",
       "      <th>CDC16_-_115000772.23-P1P2|CDC16_+_115000554.23-P1P2++CDC16_-_115000772.23-P1P2|CDC16_+_115000554.23-P1P2</th>\n",
       "      <td>201.427087</td>\n",
       "      <td>-5.304862</td>\n",
       "      <td>1.755111</td>\n",
       "      <td>-3.826555</td>\n",
       "      <td>1.299489e-04</td>\n",
       "      <td>7.883644e-04</td>\n",
       "    </tr>\n",
       "    <tr>\n",
       "      <th>FSHB_-_30252595.23-P1P2|FSHB_-_30252605.23-P1P2++FSHB_-_30252595.23-P1P2|FSHB_-_30252605.23-P1P2</th>\n",
       "      <td>1703.137125</td>\n",
       "      <td>0.178823</td>\n",
       "      <td>0.164296</td>\n",
       "      <td>1.109162</td>\n",
       "      <td>2.673603e-01</td>\n",
       "      <td>5.089062e-01</td>\n",
       "    </tr>\n",
       "    <tr>\n",
       "      <th>ZNF320_-_53400579.23-P1P2|ZNF320_-_53400870.23-P1P2++ZNF320_-_53400579.23-P1P2|ZNF320_-_53400870.23-P1P2</th>\n",
       "      <td>1871.594766</td>\n",
       "      <td>-0.182613</td>\n",
       "      <td>0.165317</td>\n",
       "      <td>-1.128279</td>\n",
       "      <td>2.592023e-01</td>\n",
       "      <td>4.990519e-01</td>\n",
       "    </tr>\n",
       "    <tr>\n",
       "      <th>ZCCHC9_+_80597457.23-P1P2|ZCCHC9_-_80597504.23-P1P2++ZCCHC9_+_80597457.23-P1P2|ZCCHC9_-_80597504.23-P1P2</th>\n",
       "      <td>221.282938</td>\n",
       "      <td>-5.119948</td>\n",
       "      <td>0.780168</td>\n",
       "      <td>-6.897488</td>\n",
       "      <td>5.293027e-12</td>\n",
       "      <td>6.661760e-11</td>\n",
       "    </tr>\n",
       "  </tbody>\n",
       "</table>\n",
       "<p>21097 rows × 6 columns</p>\n",
       "</div>"
      ],
      "text/plain": [
       "                                                       baseMean   \n",
       "non-targeting_00718|non-targeting_01902++non-ta...  1213.726933  \\\n",
       "ZDHHC13_+_19138761.23-P1P2|ZDHHC13_-_19138728.2...  2270.725131   \n",
       "ARNTL2_+_27485837.23-P1P2|ARNTL2_+_27485847.23-...  6636.324914   \n",
       "DGKD_-_234263173.23-P1P2|DGKD_+_234263221.23-P1...  2014.976426   \n",
       "STK11_-_1206870.23-P2|STK11_-_1206878.23-P2++ST...  1487.489797   \n",
       "...                                                         ...   \n",
       "STC1_+_23712204.23-P1P2|STC1_+_23712324.23-P1P2...   756.861298   \n",
       "CDC16_-_115000772.23-P1P2|CDC16_+_115000554.23-...   201.427087   \n",
       "FSHB_-_30252595.23-P1P2|FSHB_-_30252605.23-P1P2...  1703.137125   \n",
       "ZNF320_-_53400579.23-P1P2|ZNF320_-_53400870.23-...  1871.594766   \n",
       "ZCCHC9_+_80597457.23-P1P2|ZCCHC9_-_80597504.23-...   221.282938   \n",
       "\n",
       "                                                    log2FoldChange     lfcSE   \n",
       "non-targeting_00718|non-targeting_01902++non-ta...        0.165330  0.186770  \\\n",
       "ZDHHC13_+_19138761.23-P1P2|ZDHHC13_-_19138728.2...        0.265774  0.143180   \n",
       "ARNTL2_+_27485837.23-P1P2|ARNTL2_+_27485847.23-...        0.051654  0.168121   \n",
       "DGKD_-_234263173.23-P1P2|DGKD_+_234263221.23-P1...        0.163356  0.166061   \n",
       "STK11_-_1206870.23-P2|STK11_-_1206878.23-P2++ST...        0.045969  0.185565   \n",
       "...                                                            ...       ...   \n",
       "STC1_+_23712204.23-P1P2|STC1_+_23712324.23-P1P2...        0.205405  0.254609   \n",
       "CDC16_-_115000772.23-P1P2|CDC16_+_115000554.23-...       -5.304862  1.755111   \n",
       "FSHB_-_30252595.23-P1P2|FSHB_-_30252605.23-P1P2...        0.178823  0.164296   \n",
       "ZNF320_-_53400579.23-P1P2|ZNF320_-_53400870.23-...       -0.182613  0.165317   \n",
       "ZCCHC9_+_80597457.23-P1P2|ZCCHC9_-_80597504.23-...       -5.119948  0.780168   \n",
       "\n",
       "                                                        stat        pvalue   \n",
       "non-targeting_00718|non-targeting_01902++non-ta...  0.900076  3.680800e-01  \\\n",
       "ZDHHC13_+_19138761.23-P1P2|ZDHHC13_-_19138728.2...  1.875157  6.077119e-02   \n",
       "ARNTL2_+_27485837.23-P1P2|ARNTL2_+_27485847.23-...  0.252912  8.003360e-01   \n",
       "DGKD_-_234263173.23-P1P2|DGKD_+_234263221.23-P1...  0.995793  3.193506e-01   \n",
       "STK11_-_1206870.23-P2|STK11_-_1206878.23-P2++ST...  0.249058  8.033163e-01   \n",
       "...                                                      ...           ...   \n",
       "STC1_+_23712204.23-P1P2|STC1_+_23712324.23-P1P2...  0.857464  3.911888e-01   \n",
       "CDC16_-_115000772.23-P1P2|CDC16_+_115000554.23-... -3.826555  1.299489e-04   \n",
       "FSHB_-_30252595.23-P1P2|FSHB_-_30252605.23-P1P2...  1.109162  2.673603e-01   \n",
       "ZNF320_-_53400579.23-P1P2|ZNF320_-_53400870.23-... -1.128279  2.592023e-01   \n",
       "ZCCHC9_+_80597457.23-P1P2|ZCCHC9_-_80597504.23-... -6.897488  5.293027e-12   \n",
       "\n",
       "                                                            padj  \n",
       "non-targeting_00718|non-targeting_01902++non-ta...  6.129679e-01  \n",
       "ZDHHC13_+_19138761.23-P1P2|ZDHHC13_-_19138728.2...  1.855954e-01  \n",
       "ARNTL2_+_27485837.23-P1P2|ARNTL2_+_27485847.23-...  9.060424e-01  \n",
       "DGKD_-_234263173.23-P1P2|DGKD_+_234263221.23-P1...  5.656547e-01  \n",
       "STK11_-_1206870.23-P2|STK11_-_1206878.23-P2++ST...  9.077112e-01  \n",
       "...                                                          ...  \n",
       "STC1_+_23712204.23-P1P2|STC1_+_23712324.23-P1P2...  6.341635e-01  \n",
       "CDC16_-_115000772.23-P1P2|CDC16_+_115000554.23-...  7.883644e-04  \n",
       "FSHB_-_30252595.23-P1P2|FSHB_-_30252605.23-P1P2...  5.089062e-01  \n",
       "ZNF320_-_53400579.23-P1P2|ZNF320_-_53400870.23-...  4.990519e-01  \n",
       "ZCCHC9_+_80597457.23-P1P2|ZCCHC9_-_80597504.23-...  6.661760e-11  \n",
       "\n",
       "[21097 rows x 6 columns]"
      ]
     },
     "metadata": {},
     "output_type": "display_data"
    }
   ],
   "source": [
    "gamma.lfc_shrink(coeff='condition_vehicle_vs_T0')"
   ]
  },
  {
   "cell_type": "code",
   "execution_count": 46,
   "metadata": {
    "tags": []
   },
   "outputs": [],
   "source": [
    "gamma_df = pd.concat([target_df,gamma.results_df.loc[target_df.index,]],axis=1)"
   ]
  },
  {
   "cell_type": "code",
   "execution_count": 47,
   "metadata": {
    "tags": []
   },
   "outputs": [],
   "source": [
    "tau_df = pd.concat([target_df,tau.results_df.loc[target_df.index,]],axis=1)"
   ]
  },
  {
   "cell_type": "markdown",
   "metadata": {
    "jp-MarkdownHeadingCollapsed": true,
    "tags": []
   },
   "source": [
    "## \n",
    "parent vehicle and KO vehicle"
   ]
  },
  {
   "cell_type": "code",
   "execution_count": 323,
   "metadata": {
    "tags": []
   },
   "outputs": [
    {
     "name": "stdout",
     "output_type": "stream",
     "text": [
      "Index,Treat,Rep\n",
      "i01,T0,1\n",
      "i02,T0,2\n",
      "i03,vehicle_parent,1\n",
      "i04,vehicle_parent,2\n",
      "i05,vehicle_parent,3\n",
      "i11,vehicle_PRDX1KO,1\n",
      "i12,vehicle_PRDX1KO,2\n",
      "i13,vehicle_PRDX1KO,3"
     ]
    }
   ],
   "source": [
    "cat results/vehicle_screen.txt"
   ]
  },
  {
   "cell_type": "code",
   "execution_count": 327,
   "metadata": {
    "tags": []
   },
   "outputs": [
    {
     "name": "stdout",
     "output_type": "stream",
     "text": [
      "/data_gilbert/home/aarab/anaconda3/envs/mamba/envs/screenpro-deseq2/lib/R/bin/exec/R: /data_gilbert/home/aarab/anaconda3/envs/mamba/envs/screenpro-deseq2/lib/R/bin/exec/../../lib/../.././libtinfo.so.6: no version information available (required by /data_gilbert/home/aarab/anaconda3/envs/mamba/envs/screenpro-deseq2/lib/R/bin/exec/../../lib/../../libreadline.so.8)\n",
      "\u001b[?25h\u001b[?25h\u001b[?25h\u001b[?25h\u001b[?25h\u001b[?25h\u001b[?25h\u001b[?25h\u001b[?25h\u001b[?25hLoad count matrix and samplesheet!\n",
      "\u001b[?25h\u001b[?25h\u001b[?25h\u001b[?25h\u001b[?25hRun test!\n",
      "\u001b[?25hgene-wise dispersion estimates\n",
      "mean-dispersion relationship\n",
      "-- note: fitType='parametric', but the dispersion trend was not well captured by the\n",
      "   function: y = a/x + b, and a local regression fit was automatically substituted.\n",
      "   specify fitType='local' or 'mean' to avoid this message next time.\n",
      "final dispersion estimates\n",
      "using pre-existing size factors\n",
      "estimating dispersions\n",
      "found already estimated dispersions, replacing these\n",
      "gene-wise dispersion estimates\n",
      "mean-dispersion relationship\n",
      "-- note: fitType='parametric', but the dispersion trend was not well captured by the\n",
      "   function: y = a/x + b, and a local regression fit was automatically substituted.\n",
      "   specify fitType='local' or 'mean' to avoid this message next time.\n",
      "final dispersion estimates\n",
      "fitting model and testing\n",
      "TreatT0Treatvehicle_parentTreatvehicle_PRDX1KO\n",
      "\u001b[?25hExtract Normalized counts!\n",
      "\u001b[?25h\u001b[?25h\u001b[?25h\u001b[?25hExtract results!\n",
      "\u001b[?25h\u001b[?25hDONE!\n",
      "\u001b[?25h\u001b[?25h"
     ]
    }
   ],
   "source": [
    "!Rscript /data_gilbert/home/aarab/CRISPR-screenpro/CRISPRi-dual-sgRNA-screens/module2/PhenotypeScores.R \\\n",
    "  -i results/counts.txt \\\n",
    "  -s results/vehicle_screen.txt \\\n",
    "  -t vehicle_PRDX1KO -c vehicle_parent -z T0"
   ]
  },
  {
   "cell_type": "markdown",
   "metadata": {},
   "source": [
    "<div class=\"alert alert-block alert-info\">\n",
    "<!-- <b></b>  -->\n",
    "    I'll ignore T0 related resluts here\n",
    "</div>"
   ]
  },
  {
   "cell_type": "code",
   "execution_count": 330,
   "metadata": {
    "tags": []
   },
   "outputs": [],
   "source": [
    "!mv results/counts_DESeq2_normalized.txt results/vehicle_counts_DESeq2_normalized.txt\n",
    "!mv results/rho_vehicle_PRDX1KO_vs_vehicle_parent.txt results/vehicle_rho_vehicle_PRDX1KO_vs_vehicle_parent.txt\n",
    "\n",
    "!rm results/gamma_vehicle_parent_vs_T0.txt\n",
    "!rm results/tau_vehicle_PRDX1KO_vs_T0.txt"
   ]
  },
  {
   "cell_type": "markdown",
   "metadata": {
    "jp-MarkdownHeadingCollapsed": true,
    "tags": []
   },
   "source": [
    "## PRDX1 parent screen"
   ]
  },
  {
   "cell_type": "markdown",
   "metadata": {},
   "source": [
    "### Load meta"
   ]
  },
  {
   "cell_type": "code",
   "execution_count": 24,
   "metadata": {
    "tags": []
   },
   "outputs": [
    {
     "name": "stdout",
     "output_type": "stream",
     "text": [
      "Index,Treat,Rep\n",
      "i01,T0,1\n",
      "i02,T0,2\n",
      "i03,vehicle,1\n",
      "i04,vehicle,2\n",
      "i05,vehicle,3\n",
      "i06,DNAPKi,1\n",
      "i07,DNAPKi,2\n",
      "i08,DNAPKi,3"
     ]
    }
   ],
   "source": [
    "cat results/PRDX1_parent_screen.txt"
   ]
  },
  {
   "cell_type": "code",
   "execution_count": 29,
   "metadata": {
    "tags": []
   },
   "outputs": [
    {
     "name": "stdout",
     "output_type": "stream",
     "text": [
      "/data_gilbert/home/aarab/anaconda3/envs/mamba/envs/screenpro-deseq2/lib/R/bin/exec/R: /data_gilbert/home/aarab/anaconda3/envs/mamba/envs/screenpro-deseq2/lib/R/bin/exec/../../lib/../.././libtinfo.so.6: no version information available (required by /data_gilbert/home/aarab/anaconda3/envs/mamba/envs/screenpro-deseq2/lib/R/bin/exec/../../lib/../../libreadline.so.8)\n",
      "\u001b[?25h\u001b[?25h\u001b[?25h\u001b[?25h\u001b[?25h\u001b[?25h\u001b[?25h\u001b[?25h\u001b[?25h\u001b[?25hLoad count matrix and samplesheet!\n",
      "\u001b[?25h\u001b[?25h\u001b[?25h\u001b[?25h\u001b[?25hRun test!\n",
      "\u001b[?25hgene-wise dispersion estimates\n",
      "mean-dispersion relationship\n",
      "-- note: fitType='parametric', but the dispersion trend was not well captured by the\n",
      "   function: y = a/x + b, and a local regression fit was automatically substituted.\n",
      "   specify fitType='local' or 'mean' to avoid this message next time.\n",
      "final dispersion estimates\n",
      "using pre-existing size factors\n",
      "estimating dispersions\n",
      "found already estimated dispersions, replacing these\n",
      "gene-wise dispersion estimates\n",
      "mean-dispersion relationship\n",
      "-- note: fitType='parametric', but the dispersion trend was not well captured by the\n",
      "   function: y = a/x + b, and a local regression fit was automatically substituted.\n",
      "   specify fitType='local' or 'mean' to avoid this message next time.\n",
      "final dispersion estimates\n",
      "fitting model and testing\n",
      "TreatT0TreatDNAPKiTreatvehicle\n",
      "\u001b[?25hExtract Normalized counts!\n",
      "\u001b[?25h\u001b[?25h\u001b[?25h\u001b[?25hExtract results!\n",
      "\u001b[?25h\u001b[?25hDONE!\n",
      "\u001b[?25h\u001b[?25h"
     ]
    }
   ],
   "source": [
    "!Rscript /data_gilbert/home/aarab/CRISPR-screenpro/CRISPRi-dual-sgRNA-screens/module2/PhenotypeScores.R \\\n",
    "  -i results/counts.txt \\\n",
    "  -s results/PRDX1_parent_screen.txt \\\n",
    "  -t DNAPKi -c vehicle -z T0"
   ]
  },
  {
   "cell_type": "code",
   "execution_count": 30,
   "metadata": {
    "tags": []
   },
   "outputs": [],
   "source": [
    "!mv results/counts_DESeq2_normalized.txt results/PRDX1_parent_counts_DESeq2_normalized.txt\n",
    "!mv results/rhoRDNAPKi_vs_vehicle.txt results/PRDX1_parent_rhoRDNAPKi_vs_vehicle.txt\n",
    "!mv results/gammaRvehicle_vs_T0.txt results/PRDX1_parent_gammaRvehicle_vs_T0.txt\n",
    "!mv results/tauRDNAPKi_vs_T0.txt results/PRDX1_parent_tauRDNAPKi_vs_T0.txt"
   ]
  },
  {
   "cell_type": "markdown",
   "metadata": {
    "jp-MarkdownHeadingCollapsed": true,
    "tags": []
   },
   "source": [
    "## PRDX1 KO screen"
   ]
  },
  {
   "cell_type": "code",
   "execution_count": 25,
   "metadata": {
    "tags": []
   },
   "outputs": [
    {
     "name": "stdout",
     "output_type": "stream",
     "text": [
      "Index,Treat,Rep\n",
      "i09,T0,1\n",
      "i10,T0,2\n",
      "i11,vehicle,1\n",
      "i12,vehicle,2\n",
      "i13,vehicle,3\n",
      "i14,DNAPKi,1\n",
      "i15,DNAPKi,2\n",
      "i16,DNAPKi,3"
     ]
    }
   ],
   "source": [
    "cat results/PRDX1_KO_screen.txt"
   ]
  },
  {
   "cell_type": "code",
   "execution_count": 27,
   "metadata": {
    "tags": []
   },
   "outputs": [
    {
     "name": "stdout",
     "output_type": "stream",
     "text": [
      "/data_gilbert/home/aarab/anaconda3/envs/mamba/envs/screenpro-deseq2/lib/R/bin/exec/R: /data_gilbert/home/aarab/anaconda3/envs/mamba/envs/screenpro-deseq2/lib/R/bin/exec/../../lib/../.././libtinfo.so.6: no version information available (required by /data_gilbert/home/aarab/anaconda3/envs/mamba/envs/screenpro-deseq2/lib/R/bin/exec/../../lib/../../libreadline.so.8)\n",
      "\u001b[?25h\u001b[?25h\u001b[?25h\u001b[?25h\u001b[?25h\u001b[?25h\u001b[?25h\u001b[?25h\u001b[?25h\u001b[?25hLoad count matrix and samplesheet!\n",
      "\u001b[?25h\u001b[?25h\u001b[?25h\u001b[?25h\u001b[?25hRun test!\n",
      "\u001b[?25hgene-wise dispersion estimates\n",
      "mean-dispersion relationship\n",
      "-- note: fitType='parametric', but the dispersion trend was not well captured by the\n",
      "   function: y = a/x + b, and a local regression fit was automatically substituted.\n",
      "   specify fitType='local' or 'mean' to avoid this message next time.\n",
      "final dispersion estimates\n",
      "using pre-existing size factors\n",
      "estimating dispersions\n",
      "found already estimated dispersions, replacing these\n",
      "gene-wise dispersion estimates\n",
      "mean-dispersion relationship\n",
      "-- note: fitType='parametric', but the dispersion trend was not well captured by the\n",
      "   function: y = a/x + b, and a local regression fit was automatically substituted.\n",
      "   specify fitType='local' or 'mean' to avoid this message next time.\n",
      "final dispersion estimates\n",
      "fitting model and testing\n",
      "TreatT0TreatDNAPKiTreatvehicle\n",
      "\u001b[?25hExtract Normalized counts!\n",
      "\u001b[?25h\u001b[?25h\u001b[?25h\u001b[?25hExtract results!\n",
      "\u001b[?25h\u001b[?25hDONE!\n",
      "\u001b[?25h\u001b[?25h"
     ]
    }
   ],
   "source": [
    "!Rscript /data_gilbert/home/aarab/CRISPR-screenpro/CRISPRi-dual-sgRNA-screens/module2/PhenotypeScores.R \\\n",
    "  -i results/counts.txt \\\n",
    "  -s results/PRDX1_KO_screen.txt \\\n",
    "  -t DNAPKi -c vehicle -z T0"
   ]
  },
  {
   "cell_type": "code",
   "execution_count": 28,
   "metadata": {
    "tags": []
   },
   "outputs": [],
   "source": [
    "!mv results/counts_DESeq2_normalized.txt results/PRDX1_KO_counts_DESeq2_normalized.txt\n",
    "!mv results/rhoRDNAPKi_vs_vehicle.txt results/PRDX1_KO_rhoRDNAPKi_vs_vehicle.txt\n",
    "!mv results/gammaRvehicle_vs_T0.txt results/PRDX1_KO_gammaRvehicle_vs_T0.txt\n",
    "!mv results/tauRDNAPKi_vs_T0.txt results/PRDX1_KO_tauRDNAPKi_vs_T0.txt"
   ]
  },
  {
   "cell_type": "markdown",
   "metadata": {},
   "source": [
    "# "
   ]
  },
  {
   "cell_type": "markdown",
   "metadata": {
    "jp-MarkdownHeadingCollapsed": true,
    "tags": []
   },
   "source": [
    "### load data / save as excel"
   ]
  },
  {
   "cell_type": "code",
   "execution_count": 4,
   "metadata": {},
   "outputs": [],
   "source": [
    "import pandas as pd\n",
    "import numpy as np"
   ]
  },
  {
   "cell_type": "code",
   "execution_count": 18,
   "metadata": {
    "tags": []
   },
   "outputs": [],
   "source": [
    "def sort_scores(score):\n",
    "    score['targetType'] = ''\n",
    "    score.loc[score.target.eq('non-targeting'),'targetType']  = \"non-targeting\"\n",
    "    score.loc[~score.target.eq('non-targeting'),'targetType'] = 'gene'\n",
    "    \n",
    "    score = score.sort_values(['targetType','target']).drop('targetType',axis=1)\n",
    "    \n",
    "    return score\n",
    "\n",
    "\n",
    "def merge_phenotype_scores(screenname):\n",
    "    gamma = pd.read_csv(f'results/{screenname}_gamma_vehicle_vs_T0.txt',sep='\\t')\n",
    "    gamma = sort_scores(gamma)\n",
    "    rho   = pd.read_csv(f'results/{screenname}_rho_DNAPKi_vs_vehicle.txt',sep='\\t')\n",
    "    rho   = sort_scores(rho)\n",
    "    tau   = pd.read_csv(f'results/{screenname}_tau_DNAPKi_vs_T0.txt',sep='\\t')\n",
    "    tau   = sort_scores(tau)\n",
    "    cols  = ['target','log2FoldChange','pvalue','padj']\n",
    "    \n",
    "    data  = pd.concat({\n",
    "        f'{screenname} gamma vehicle_vs_T0':gamma[cols], \n",
    "        f'{screenname} tau DNAPKi_vs_T0':tau[cols],\n",
    "        f'{screenname} rho DNAPKi_vs_vehicle':rho[cols]\n",
    "    },axis=1\n",
    "    )\n",
    "    \n",
    "    return data"
   ]
  },
  {
   "cell_type": "code",
   "execution_count": 19,
   "metadata": {
    "tags": []
   },
   "outputs": [],
   "source": [
    "rho   = pd.read_csv('results/vehicle_rho_vehicle_PRDX1KO_vs_vehicle_parent.txt',sep='\\t')\n",
    "rho   = sort_scores(rho)\n",
    "cols  = ['target','log2FoldChange','pvalue','padj']\n",
    "\n",
    "data = pd.concat([\n",
    "    merge_phenotype_scores('PRDX1_KO'),\n",
    "    merge_phenotype_scores('PRDX1_parent'),\n",
    "    pd.concat({'rho vehicle_PRDX1KO_vs_vehicle_parent':rho[cols]},axis=1)\n",
    "],axis=1)"
   ]
  },
  {
   "cell_type": "code",
   "execution_count": null,
   "metadata": {
    "tags": []
   },
   "outputs": [],
   "source": [
    "data.to_excel('phenotype_scores.xlsx')"
   ]
  },
  {
   "cell_type": "markdown",
   "metadata": {
    "tags": []
   },
   "source": [
    "# "
   ]
  },
  {
   "cell_type": "code",
   "execution_count": 55,
   "metadata": {
    "tags": []
   },
   "outputs": [],
   "source": [
    "def ann_score_df(df_in, up_hit='resistance_hit', down_hit='sensitivity_hit', threshold=50):\n",
    "    df = df_in.copy()\n",
    "\n",
    "    df.columns = ['gene', 'score', 'pvalue']\n",
    "    df['score'] = df['score'].astype(float)\n",
    "    df['pvalue'] = df['pvalue'].astype(float)\n",
    "\n",
    "    pseudo_sd = df[df['gene']=='non-targeting']['score'].tolist()\n",
    "    pseudo_sd = np.std(pseudo_sd)\n",
    "    # print (pseudo_sd)\n",
    "    \n",
    "    df['label'] = '.'\n",
    "    df.loc[df['gene']=='non-targeting', 'label'] = 'non-targeting'\n",
    "\n",
    "    df.loc[(df['score']>0) & (df['label']!='non-targeting') & (df['score']/pseudo_sd * -np.log10(df['pvalue'])>=threshold), 'label'] = up_hit\n",
    "\n",
    "    df.loc[(df['score']<0) & (df['label']!='non-targeting') & (df['score']/pseudo_sd * -np.log10(df['pvalue'])<=-threshold), 'label'] = down_hit\n",
    "\n",
    "    df.loc[df['label']=='.', 'label'] = 'gene_non_hit'\n",
    "\n",
    "    # reorder factors\n",
    "    df['label'] = pd.Categorical(df['label'], categories=[down_hit, up_hit, 'gene_non_hit', 'non-targeting'])\n",
    "\n",
    "    return df\n"
   ]
  },
  {
   "cell_type": "markdown",
   "metadata": {},
   "source": [
    "### volcano plots"
   ]
  },
  {
   "cell_type": "code",
   "execution_count": 10,
   "metadata": {
    "tags": []
   },
   "outputs": [],
   "source": [
    "%load_ext rpy2.ipython"
   ]
  },
  {
   "cell_type": "code",
   "execution_count": 11,
   "metadata": {
    "tags": []
   },
   "outputs": [
    {
     "name": "stdout",
     "output_type": "stream",
     "text": [
      "── Attaching core tidyverse packages ──────────────────────── tidyverse 2.0.0 ──\n",
      "✔ dplyr     1.1.1     ✔ readr     2.1.4\n",
      "✔ forcats   1.0.0     ✔ stringr   1.5.0\n",
      "✔ lubridate 1.9.2     ✔ tibble    3.2.1\n",
      "✔ purrr     1.0.1     ✔ tidyr     1.3.0\n",
      "── Conflicts ────────────────────────────────────────── tidyverse_conflicts() ──\n",
      "✖ dplyr::filter() masks stats::filter()\n",
      "✖ dplyr::lag()    masks stats::lag()\n",
      "ℹ Use the conflicted package (<http://conflicted.r-lib.org/>) to force all conflicts to become errors\n"
     ]
    }
   ],
   "source": [
    "%%R\n",
    "source('scripts/plots.R')\n",
    "library(tidyverse)\n",
    "\n",
    "# library(patchwork)"
   ]
  },
  {
   "cell_type": "code",
   "execution_count": 20,
   "metadata": {
    "tags": []
   },
   "outputs": [
    {
     "data": {
      "text/plain": [
       "{'PRDX1_KO gamma vehicle_vs_T0',\n",
       " 'PRDX1_KO rho DNAPKi_vs_vehicle',\n",
       " 'PRDX1_KO tau DNAPKi_vs_T0',\n",
       " 'PRDX1_parent gamma vehicle_vs_T0',\n",
       " 'PRDX1_parent rho DNAPKi_vs_vehicle',\n",
       " 'PRDX1_parent tau DNAPKi_vs_T0',\n",
       " 'rho vehicle_PRDX1KO_vs_vehicle_parent'}"
      ]
     },
     "execution_count": 20,
     "metadata": {},
     "output_type": "execute_result"
    }
   ],
   "source": [
    "set(data.columns.to_frame()[0].to_list())"
   ]
  },
  {
   "cell_type": "markdown",
   "metadata": {
    "tags": []
   },
   "source": [
    "#### PRDX1_parent rho DNAPKi_vs_vehicle"
   ]
  },
  {
   "cell_type": "code",
   "execution_count": 122,
   "metadata": {
    "tags": []
   },
   "outputs": [],
   "source": [
    "screen_name = 'PRDX1_parent rho DNAPKi_vs_vehicle'"
   ]
  },
  {
   "cell_type": "code",
   "execution_count": 123,
   "metadata": {
    "tags": []
   },
   "outputs": [
    {
     "name": "stderr",
     "output_type": "stream",
     "text": [
      "/data_gilbert/home/aarab/anaconda3/envs/mamba/envs/screenpro-deseq2/lib/python3.11/site-packages/pandas/core/arraylike.py:396: RuntimeWarning: divide by zero encountered in log10\n",
      "  result = getattr(ufunc, method)(*inputs, **kwargs)\n"
     ]
    }
   ],
   "source": [
    "df = ann_score_df(data[screen_name][['target','log2FoldChange','padj']])"
   ]
  },
  {
   "cell_type": "code",
   "execution_count": 124,
   "metadata": {
    "tags": []
   },
   "outputs": [
    {
     "data": {
      "image/png": "[encoded data removed]",
      "text/plain": [
       "<IPython.core.display.Image object>"
      ]
     },
     "metadata": {},
     "output_type": "display_data"
    }
   ],
   "source": [
    "%%R -i df,screen_name\n",
    "plot_volcano(df, ylim=300,threshold=50) %>% \n",
    "    label_resistance_hit(df %>% filter(gene %in% c(\n",
    "        \"PRKDC\"\n",
    "    ))) -> p\n",
    "\n",
    "p %>% label_sensitivity_hit(df %>% filter(gene %in% c(\n",
    "        \"PRDX1\", \n",
    "        \"RAD51\", \n",
    "        \"PARP1\", \"BRCA1\"\n",
    "    ))) +\n",
    "    ggtitle(screen_name) +\n",
    "    theme(axis.text.x = element_text(size = 15, color = 'black'),\n",
    "          axis.text.y = element_text(size = 15, color = 'black'),\n",
    "          axis.title.x = element_text(size = 16),\n",
    "          axis.title.y = element_text(size = 16),\n",
    "          legend.title = element_blank(),\n",
    "          plot.title = element_text(size = 20,hjust = 0.5),\n",
    "          legend.text = element_text(size = rel(1.5), color = 'black'),\n",
    "          legend.position = 'right'\n",
    "         )"
   ]
  },
  {
   "cell_type": "code",
   "execution_count": 93,
   "metadata": {
    "tags": []
   },
   "outputs": [
    {
     "data": {
      "text/plain": [
       "label\n",
       "sensitivity_hit      374\n",
       "resistance_hit       616\n",
       "gene_non_hit       19081\n",
       "non-targeting       1026\n",
       "dtype: int64"
      ]
     },
     "execution_count": 93,
     "metadata": {},
     "output_type": "execute_result"
    }
   ],
   "source": [
    "df.groupby(\"label\").size()"
   ]
  },
  {
   "cell_type": "markdown",
   "metadata": {
    "jp-MarkdownHeadingCollapsed": true,
    "tags": []
   },
   "source": [
    "#### PRDX1_KO rho DNAPKi_vs_vehicle"
   ]
  },
  {
   "cell_type": "code",
   "execution_count": 22,
   "metadata": {
    "tags": []
   },
   "outputs": [],
   "source": [
    "screen_name = 'PRDX1_KO rho DNAPKi_vs_vehicle'"
   ]
  },
  {
   "cell_type": "code",
   "execution_count": 29,
   "metadata": {
    "tags": []
   },
   "outputs": [
    {
     "name": "stderr",
     "output_type": "stream",
     "text": [
      "/data_gilbert/home/aarab/anaconda3/envs/mamba/envs/screenpro-deseq2/lib/python3.11/site-packages/pandas/core/arraylike.py:396: RuntimeWarning: divide by zero encountered in log10\n",
      "  result = getattr(ufunc, method)(*inputs, **kwargs)\n"
     ]
    }
   ],
   "source": [
    "df = ann_score_df(data[screen_name][['target','log2FoldChange','padj']])"
   ]
  },
  {
   "cell_type": "code",
   "execution_count": 30,
   "metadata": {
    "tags": []
   },
   "outputs": [],
   "source": [
    "# df[\n",
    "#     (df.label.eq('sensitivity_hit')) \n",
    "#     # &\n",
    "#     # (df.gene.str.contains('DNMT'))\n",
    "# ].gene.to_list()"
   ]
  },
  {
   "cell_type": "code",
   "execution_count": 31,
   "metadata": {
    "tags": []
   },
   "outputs": [
    {
     "data": {
      "image/png": "[encoded data removed]",
      "text/plain": [
       "<IPython.core.display.Image object>"
      ]
     },
     "metadata": {},
     "output_type": "display_data"
    }
   ],
   "source": [
    "%%R -i df,screen_name\n",
    "plot_volcano(df) %>% \n",
    "    label_sensitivity_hit(df %>% filter(gene %in% c('PRDX1'))) +\n",
    "    # label_resistance_hit(df %>% filter(gene =='PARP1')) +\n",
    "    ggtitle('vehicle PRDX1KO vs parent') +\n",
    "    theme(axis.text.x = element_text(size = 15, color = 'black'),\n",
    "          axis.text.y = element_text(size = 15, color = 'black'),\n",
    "          axis.title.x = element_text(size = 16),\n",
    "          axis.title.y = element_text(size = 16),\n",
    "          legend.title = element_blank(),\n",
    "          plot.title = element_text(size = 20,hjust = 0.5),\n",
    "          legend.text = element_text(size = rel(1.5), color = 'black'),\n",
    "          legend.position = 'right'\n",
    "         )"
   ]
  },
  {
   "cell_type": "code",
   "execution_count": 14,
   "metadata": {
    "tags": []
   },
   "outputs": [
    {
     "data": {
      "text/plain": [
       "label\n",
       "sensitivity_hit        3\n",
       "resistance_hit      1128\n",
       "gene_non_hit       18940\n",
       "non-targeting       1026\n",
       "dtype: int64"
      ]
     },
     "execution_count": 14,
     "metadata": {},
     "output_type": "execute_result"
    }
   ],
   "source": [
    "df.groupby(\"label\").size()"
   ]
  },
  {
   "cell_type": "markdown",
   "metadata": {
    "tags": []
   },
   "source": [
    "#### rho vehicle_PRDX1KO_vs_vehicle_parent"
   ]
  },
  {
   "cell_type": "code",
   "execution_count": 100,
   "metadata": {
    "tags": []
   },
   "outputs": [],
   "source": [
    "screen_name = 'rho vehicle_PRDX1KO_vs_vehicle_parent'"
   ]
  },
  {
   "cell_type": "code",
   "execution_count": 101,
   "metadata": {
    "tags": []
   },
   "outputs": [
    {
     "name": "stderr",
     "output_type": "stream",
     "text": [
      "/data_gilbert/home/aarab/anaconda3/envs/mamba/envs/screenpro-deseq2/lib/python3.11/site-packages/pandas/core/arraylike.py:396: RuntimeWarning: divide by zero encountered in log10\n",
      "  result = getattr(ufunc, method)(*inputs, **kwargs)\n"
     ]
    }
   ],
   "source": [
    "df = ann_score_df(data[screen_name][['target','log2FoldChange','padj']])"
   ]
  },
  {
   "cell_type": "code",
   "execution_count": 121,
   "metadata": {
    "tags": []
   },
   "outputs": [
    {
     "data": {
      "text/plain": [
       "['OPRD1', 'PRDM5', 'PRDX4', 'PRDX5', 'RPRD1A']"
      ]
     },
     "execution_count": 121,
     "metadata": {},
     "output_type": "execute_result"
    }
   ],
   "source": [
    "df[\n",
    "    # (df.label.eq('sensitivity_hit')) \n",
    "    (df.label.eq('resistance_hit')) \n",
    "    &\n",
    "    (df.gene.str.contains('PRD'))\n",
    "].gene.to_list()"
   ]
  },
  {
   "cell_type": "code",
   "execution_count": 119,
   "metadata": {
    "tags": []
   },
   "outputs": [],
   "source": [
    "%%R \n",
    "label_black <- function(p,dd, size = 3, t_x = 0.5, t_y = 0.5){\n",
    "    p + geom_point(\n",
    "        data = dd, \n",
    "        size = size, shape=21,\n",
    "        # stroke=0.5, \n",
    "        # colour = \"grey30\", \n",
    "        fill = \"grey30\"\n",
    "    ) + \n",
    "    geom_text_repel(data = dd,\n",
    "                    aes(label=gene),\n",
    "                    color = 'black', size = size, nudge_x = t_x, nudge_y = t_y)\n",
    "}"
   ]
  },
  {
   "cell_type": "code",
   "execution_count": 120,
   "metadata": {
    "tags": []
   },
   "outputs": [
    {
     "data": {
      "image/png": "[encoded data removed]",
      "text/plain": [
       "<IPython.core.display.Image object>"
      ]
     },
     "metadata": {},
     "output_type": "display_data"
    }
   ],
   "source": [
    "%%R -i df,screen_name\n",
    "plot_volcano(df, ylim=300,threshold=50) %>% \n",
    "    label_black(df %>% filter(gene %in% c('PRDX1'))) -> p\n",
    "\n",
    "p %>%\n",
    "    label_sensitivity_hit(df %>% filter(gene %in% c(\n",
    "        # \"PRDX1\", \n",
    "        \"PRKDC\", \n",
    "        \"RAD51\", \n",
    "        \"PARP1\", \n",
    "        \"BRCA1\"\n",
    "    ))) +\n",
    "    ggtitle(screen_name) +\n",
    "    theme(axis.text.x = element_text(size = 15, color = 'black'),\n",
    "          axis.text.y = element_text(size = 15, color = 'black'),\n",
    "          axis.title.x = element_text(size = 16),\n",
    "          axis.title.y = element_text(size = 16),\n",
    "          legend.title = element_blank(),\n",
    "          plot.title = element_text(size = 20,hjust = 0.5),\n",
    "          legend.text = element_text(size = rel(1.5), color = 'black'),\n",
    "          legend.position = 'right'\n",
    "         )"
   ]
  },
  {
   "cell_type": "code",
   "execution_count": null,
   "metadata": {
    "tags": []
   },
   "outputs": [
    {
     "data": {
      "text/plain": [
       "label\n",
       "sensitivity_hit      134\n",
       "resistance_hit       871\n",
       "gene_non_hit       19066\n",
       "non-targeting       1026\n",
       "dtype: int64"
      ]
     },
     "execution_count": 373,
     "metadata": {},
     "output_type": "execute_result"
    }
   ],
   "source": [
    "df.groupby(\"label\").size()"
   ]
  },
  {
   "cell_type": "markdown",
   "metadata": {},
   "source": [
    "# "
   ]
  },
  {
   "cell_type": "code",
   "execution_count": 98,
   "metadata": {
    "tags": []
   },
   "outputs": [
    {
     "name": "stdout",
     "output_type": "stream",
     "text": [
      "Thu May 11 16:54:09 PDT 2023\n"
     ]
    }
   ],
   "source": [
    "!date"
   ]
  }
 ],
 "metadata": {
  "kernelspec": {
   "display_name": "Python [conda env:screenpro-deseq2]",
   "language": "python",
   "name": "conda-env-screenpro-deseq2-py"
  },
  "language_info": {
   "codemirror_mode": {
    "name": "ipython",
    "version": 3
   },
   "file_extension": ".py",
   "mimetype": "text/x-python",
   "name": "python",
   "nbconvert_exporter": "python",
   "pygments_lexer": "ipython3",
   "version": "3.11.3"
  }
 },
 "nbformat": 4,
 "nbformat_minor": 4
}
