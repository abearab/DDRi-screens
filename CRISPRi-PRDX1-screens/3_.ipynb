{
 "cells": [
  {
   "cell_type": "code",
   "execution_count": 1,
   "metadata": {
    "tags": []
   },
   "outputs": [
    {
     "name": "stderr",
     "output_type": "stream",
     "text": [
      "/data_gilbert/home/aarab/anaconda3/envs/mamba/envs/scverse/lib/python3.10/site-packages/tqdm/auto.py:21: TqdmWarning: IProgress not found. Please update jupyter and ipywidgets. See https://ipywidgets.readthedocs.io/en/stable/user_install.html\n",
      "  from .autonotebook import tqdm as notebook_tqdm\n"
     ]
    }
   ],
   "source": [
    "import anndata as ad\n",
    "import muon as mu"
   ]
  },
  {
   "cell_type": "code",
   "execution_count": 2,
   "metadata": {
    "tags": []
   },
   "outputs": [],
   "source": [
    "import pandas as pd"
   ]
  },
  {
   "cell_type": "markdown",
   "metadata": {},
   "source": [
    "### "
   ]
  },
  {
   "cell_type": "markdown",
   "metadata": {},
   "source": [
    "### Load meta"
   ]
  },
  {
   "cell_type": "code",
   "execution_count": 4,
   "metadata": {},
   "outputs": [
    {
     "data": {
      "text/html": [
       "<div>\n",
       "<style scoped>\n",
       "    .dataframe tbody tr th:only-of-type {\n",
       "        vertical-align: middle;\n",
       "    }\n",
       "\n",
       "    .dataframe tbody tr th {\n",
       "        vertical-align: top;\n",
       "    }\n",
       "\n",
       "    .dataframe thead th {\n",
       "        text-align: right;\n",
       "    }\n",
       "</style>\n",
       "<table border=\"1\" class=\"dataframe\">\n",
       "  <thead>\n",
       "    <tr style=\"text-align: right;\">\n",
       "      <th></th>\n",
       "      <th>Treat</th>\n",
       "      <th>Rep</th>\n",
       "    </tr>\n",
       "  </thead>\n",
       "  <tbody>\n",
       "    <tr>\n",
       "      <th>i09</th>\n",
       "      <td>T0</td>\n",
       "      <td>1</td>\n",
       "    </tr>\n",
       "    <tr>\n",
       "      <th>i10</th>\n",
       "      <td>T0</td>\n",
       "      <td>2</td>\n",
       "    </tr>\n",
       "    <tr>\n",
       "      <th>i11</th>\n",
       "      <td>vehicle</td>\n",
       "      <td>1</td>\n",
       "    </tr>\n",
       "    <tr>\n",
       "      <th>i12</th>\n",
       "      <td>vehicle</td>\n",
       "      <td>2</td>\n",
       "    </tr>\n",
       "    <tr>\n",
       "      <th>i13</th>\n",
       "      <td>vehicle</td>\n",
       "      <td>3</td>\n",
       "    </tr>\n",
       "    <tr>\n",
       "      <th>i14</th>\n",
       "      <td>DNAPKi</td>\n",
       "      <td>1</td>\n",
       "    </tr>\n",
       "    <tr>\n",
       "      <th>i15</th>\n",
       "      <td>DNAPKi</td>\n",
       "      <td>2</td>\n",
       "    </tr>\n",
       "    <tr>\n",
       "      <th>i16</th>\n",
       "      <td>DNAPKi</td>\n",
       "      <td>3</td>\n",
       "    </tr>\n",
       "  </tbody>\n",
       "</table>\n",
       "</div>"
      ],
      "text/plain": [
       "       Treat Rep\n",
       "i09       T0   1\n",
       "i10       T0   2\n",
       "i11  vehicle   1\n",
       "i12  vehicle   2\n",
       "i13  vehicle   3\n",
       "i14   DNAPKi   1\n",
       "i15   DNAPKi   2\n",
       "i16   DNAPKi   3"
      ]
     },
     "execution_count": 4,
     "metadata": {},
     "output_type": "execute_result"
    }
   ],
   "source": [
    "meta = pd.read_csv('results/PRDX1_KO_screen.txt',dtype=str).set_index('Index')\n",
    "meta.index.name = None\n",
    "meta"
   ]
  },
  {
   "cell_type": "code",
   "execution_count": null,
   "metadata": {},
   "outputs": [],
   "source": []
  },
  {
   "cell_type": "code",
   "execution_count": null,
   "metadata": {},
   "outputs": [],
   "source": []
  },
  {
   "cell_type": "code",
   "execution_count": null,
   "metadata": {},
   "outputs": [],
   "source": []
  },
  {
   "cell_type": "code",
   "execution_count": null,
   "metadata": {},
   "outputs": [],
   "source": []
  },
  {
   "cell_type": "markdown",
   "metadata": {
    "tags": []
   },
   "source": [
    "## Load the libraries"
   ]
  },
  {
   "cell_type": "code",
   "execution_count": 1,
   "metadata": {},
   "outputs": [],
   "source": [
    "suppressPackageStartupMessages(library(stringr))\n",
    "suppressPackageStartupMessages(library(tidyverse))\n",
    "suppressPackageStartupMessages(library(DESeq2))\n",
    "suppressPackageStartupMessages(library(patchwork))"
   ]
  },
  {
   "cell_type": "code",
   "execution_count": 2,
   "metadata": {},
   "outputs": [
    {
     "data": {
      "text/html": [
       "'/data_gilbert/home/aarab/anaconda3/envs/deseq2/lib/R/bin/R'"
      ],
      "text/latex": [
       "'/data\\_gilbert/home/aarab/anaconda3/envs/deseq2/lib/R/bin/R'"
      ],
      "text/markdown": [
       "'/data_gilbert/home/aarab/anaconda3/envs/deseq2/lib/R/bin/R'"
      ],
      "text/plain": [
       "[1] \"/data_gilbert/home/aarab/anaconda3/envs/deseq2/lib/R/bin/R\""
      ]
     },
     "metadata": {},
     "output_type": "display_data"
    }
   ],
   "source": [
    "file.path(R.home(\"bin\"), \"R\")"
   ]
  },
  {
   "cell_type": "markdown",
   "metadata": {
    "jp-MarkdownHeadingCollapsed": true,
    "tags": []
   },
   "source": [
    "## Load the counts from the CRISPRi screen"
   ]
  },
  {
   "cell_type": "code",
   "execution_count": 3,
   "metadata": {},
   "outputs": [],
   "source": [
    "counts_filename = 'counts.txt'\n",
    "counts_df = read.table(counts_filename, check.names=FALSE)\n",
    "sgRNA2gene = counts_df[,1:3]\n",
    "counts_df = counts_df[,4:dim(counts_df)[2]]"
   ]
  },
  {
   "cell_type": "code",
   "execution_count": 4,
   "metadata": {},
   "outputs": [
    {
     "data": {
      "text/html": [
       "<table class=\"dataframe\">\n",
       "<caption>A data.frame: 1 × 22</caption>\n",
       "<thead>\n",
       "\t<tr><th></th><th scope=col>i03</th><th scope=col>i04</th><th scope=col>i05</th><th scope=col>i06</th><th scope=col>i07</th><th scope=col>i08</th><th scope=col>i09</th><th scope=col>i10</th><th scope=col>i11</th><th scope=col>i12</th><th scope=col>⋯</th><th scope=col>i15</th><th scope=col>i16</th><th scope=col>i17</th><th scope=col>i18</th><th scope=col>i20</th><th scope=col>i21</th><th scope=col>i22</th><th scope=col>i23</th><th scope=col>i24</th><th scope=col>i25</th></tr>\n",
       "\t<tr><th></th><th scope=col>&lt;dbl&gt;</th><th scope=col>&lt;dbl&gt;</th><th scope=col>&lt;dbl&gt;</th><th scope=col>&lt;dbl&gt;</th><th scope=col>&lt;dbl&gt;</th><th scope=col>&lt;dbl&gt;</th><th scope=col>&lt;dbl&gt;</th><th scope=col>&lt;dbl&gt;</th><th scope=col>&lt;dbl&gt;</th><th scope=col>&lt;dbl&gt;</th><th scope=col>⋯</th><th scope=col>&lt;dbl&gt;</th><th scope=col>&lt;dbl&gt;</th><th scope=col>&lt;dbl&gt;</th><th scope=col>&lt;dbl&gt;</th><th scope=col>&lt;dbl&gt;</th><th scope=col>&lt;dbl&gt;</th><th scope=col>&lt;dbl&gt;</th><th scope=col>&lt;dbl&gt;</th><th scope=col>&lt;dbl&gt;</th><th scope=col>&lt;dbl&gt;</th></tr>\n",
       "</thead>\n",
       "<tbody>\n",
       "\t<tr><th scope=row>ATXN7L1_+_105516927.23-P1P2|ATXN7L1_+_105516907.23-P1P2++ATXN7L1_+_105516927.23-P1P2|ATXN7L1_+_105516907.23-P1P2</th><td>352</td><td>305</td><td>209</td><td>240</td><td>220</td><td>382</td><td>305</td><td>476</td><td>561</td><td>497</td><td>⋯</td><td>280</td><td>250</td><td>305</td><td>313</td><td>271</td><td>430</td><td>235</td><td>303</td><td>399</td><td>363</td></tr>\n",
       "</tbody>\n",
       "</table>\n"
      ],
      "text/latex": [
       "A data.frame: 1 × 22\n",
       "\\begin{tabular}{r|lllllllllllllllllllll}\n",
       "  & i03 & i04 & i05 & i06 & i07 & i08 & i09 & i10 & i11 & i12 & ⋯ & i15 & i16 & i17 & i18 & i20 & i21 & i22 & i23 & i24 & i25\\\\\n",
       "  & <dbl> & <dbl> & <dbl> & <dbl> & <dbl> & <dbl> & <dbl> & <dbl> & <dbl> & <dbl> & ⋯ & <dbl> & <dbl> & <dbl> & <dbl> & <dbl> & <dbl> & <dbl> & <dbl> & <dbl> & <dbl>\\\\\n",
       "\\hline\n",
       "\tATXN7L1\\_+\\_105516927.23-P1P2\\textbar{}ATXN7L1\\_+\\_105516907.23-P1P2++ATXN7L1\\_+\\_105516927.23-P1P2\\textbar{}ATXN7L1\\_+\\_105516907.23-P1P2 & 352 & 305 & 209 & 240 & 220 & 382 & 305 & 476 & 561 & 497 & ⋯ & 280 & 250 & 305 & 313 & 271 & 430 & 235 & 303 & 399 & 363\\\\\n",
       "\\end{tabular}\n"
      ],
      "text/markdown": [
       "\n",
       "A data.frame: 1 × 22\n",
       "\n",
       "| <!--/--> | i03 &lt;dbl&gt; | i04 &lt;dbl&gt; | i05 &lt;dbl&gt; | i06 &lt;dbl&gt; | i07 &lt;dbl&gt; | i08 &lt;dbl&gt; | i09 &lt;dbl&gt; | i10 &lt;dbl&gt; | i11 &lt;dbl&gt; | i12 &lt;dbl&gt; | ⋯ ⋯ | i15 &lt;dbl&gt; | i16 &lt;dbl&gt; | i17 &lt;dbl&gt; | i18 &lt;dbl&gt; | i20 &lt;dbl&gt; | i21 &lt;dbl&gt; | i22 &lt;dbl&gt; | i23 &lt;dbl&gt; | i24 &lt;dbl&gt; | i25 &lt;dbl&gt; |\n",
       "|---|---|---|---|---|---|---|---|---|---|---|---|---|---|---|---|---|---|---|---|---|---|\n",
       "| ATXN7L1_+_105516927.23-P1P2|ATXN7L1_+_105516907.23-P1P2++ATXN7L1_+_105516927.23-P1P2|ATXN7L1_+_105516907.23-P1P2 | 352 | 305 | 209 | 240 | 220 | 382 | 305 | 476 | 561 | 497 | ⋯ | 280 | 250 | 305 | 313 | 271 | 430 | 235 | 303 | 399 | 363 |\n",
       "\n"
      ],
      "text/plain": [
       "                                                                                                                 i03\n",
       "ATXN7L1_+_105516927.23-P1P2|ATXN7L1_+_105516907.23-P1P2++ATXN7L1_+_105516927.23-P1P2|ATXN7L1_+_105516907.23-P1P2 352\n",
       "                                                                                                                 i04\n",
       "ATXN7L1_+_105516927.23-P1P2|ATXN7L1_+_105516907.23-P1P2++ATXN7L1_+_105516927.23-P1P2|ATXN7L1_+_105516907.23-P1P2 305\n",
       "                                                                                                                 i05\n",
       "ATXN7L1_+_105516927.23-P1P2|ATXN7L1_+_105516907.23-P1P2++ATXN7L1_+_105516927.23-P1P2|ATXN7L1_+_105516907.23-P1P2 209\n",
       "                                                                                                                 i06\n",
       "ATXN7L1_+_105516927.23-P1P2|ATXN7L1_+_105516907.23-P1P2++ATXN7L1_+_105516927.23-P1P2|ATXN7L1_+_105516907.23-P1P2 240\n",
       "                                                                                                                 i07\n",
       "ATXN7L1_+_105516927.23-P1P2|ATXN7L1_+_105516907.23-P1P2++ATXN7L1_+_105516927.23-P1P2|ATXN7L1_+_105516907.23-P1P2 220\n",
       "                                                                                                                 i08\n",
       "ATXN7L1_+_105516927.23-P1P2|ATXN7L1_+_105516907.23-P1P2++ATXN7L1_+_105516927.23-P1P2|ATXN7L1_+_105516907.23-P1P2 382\n",
       "                                                                                                                 i09\n",
       "ATXN7L1_+_105516927.23-P1P2|ATXN7L1_+_105516907.23-P1P2++ATXN7L1_+_105516927.23-P1P2|ATXN7L1_+_105516907.23-P1P2 305\n",
       "                                                                                                                 i10\n",
       "ATXN7L1_+_105516927.23-P1P2|ATXN7L1_+_105516907.23-P1P2++ATXN7L1_+_105516927.23-P1P2|ATXN7L1_+_105516907.23-P1P2 476\n",
       "                                                                                                                 i11\n",
       "ATXN7L1_+_105516927.23-P1P2|ATXN7L1_+_105516907.23-P1P2++ATXN7L1_+_105516927.23-P1P2|ATXN7L1_+_105516907.23-P1P2 561\n",
       "                                                                                                                 i12\n",
       "ATXN7L1_+_105516927.23-P1P2|ATXN7L1_+_105516907.23-P1P2++ATXN7L1_+_105516927.23-P1P2|ATXN7L1_+_105516907.23-P1P2 497\n",
       "                                                                                                                 ⋯\n",
       "ATXN7L1_+_105516927.23-P1P2|ATXN7L1_+_105516907.23-P1P2++ATXN7L1_+_105516927.23-P1P2|ATXN7L1_+_105516907.23-P1P2 ⋯\n",
       "                                                                                                                 i15\n",
       "ATXN7L1_+_105516927.23-P1P2|ATXN7L1_+_105516907.23-P1P2++ATXN7L1_+_105516927.23-P1P2|ATXN7L1_+_105516907.23-P1P2 280\n",
       "                                                                                                                 i16\n",
       "ATXN7L1_+_105516927.23-P1P2|ATXN7L1_+_105516907.23-P1P2++ATXN7L1_+_105516927.23-P1P2|ATXN7L1_+_105516907.23-P1P2 250\n",
       "                                                                                                                 i17\n",
       "ATXN7L1_+_105516927.23-P1P2|ATXN7L1_+_105516907.23-P1P2++ATXN7L1_+_105516927.23-P1P2|ATXN7L1_+_105516907.23-P1P2 305\n",
       "                                                                                                                 i18\n",
       "ATXN7L1_+_105516927.23-P1P2|ATXN7L1_+_105516907.23-P1P2++ATXN7L1_+_105516927.23-P1P2|ATXN7L1_+_105516907.23-P1P2 313\n",
       "                                                                                                                 i20\n",
       "ATXN7L1_+_105516927.23-P1P2|ATXN7L1_+_105516907.23-P1P2++ATXN7L1_+_105516927.23-P1P2|ATXN7L1_+_105516907.23-P1P2 271\n",
       "                                                                                                                 i21\n",
       "ATXN7L1_+_105516927.23-P1P2|ATXN7L1_+_105516907.23-P1P2++ATXN7L1_+_105516927.23-P1P2|ATXN7L1_+_105516907.23-P1P2 430\n",
       "                                                                                                                 i22\n",
       "ATXN7L1_+_105516927.23-P1P2|ATXN7L1_+_105516907.23-P1P2++ATXN7L1_+_105516927.23-P1P2|ATXN7L1_+_105516907.23-P1P2 235\n",
       "                                                                                                                 i23\n",
       "ATXN7L1_+_105516927.23-P1P2|ATXN7L1_+_105516907.23-P1P2++ATXN7L1_+_105516927.23-P1P2|ATXN7L1_+_105516907.23-P1P2 303\n",
       "                                                                                                                 i24\n",
       "ATXN7L1_+_105516927.23-P1P2|ATXN7L1_+_105516907.23-P1P2++ATXN7L1_+_105516927.23-P1P2|ATXN7L1_+_105516907.23-P1P2 399\n",
       "                                                                                                                 i25\n",
       "ATXN7L1_+_105516927.23-P1P2|ATXN7L1_+_105516907.23-P1P2++ATXN7L1_+_105516927.23-P1P2|ATXN7L1_+_105516907.23-P1P2 363"
      ]
     },
     "metadata": {},
     "output_type": "display_data"
    }
   ],
   "source": [
    "head(counts_df, n = 1)"
   ]
  },
  {
   "cell_type": "code",
   "execution_count": 5,
   "metadata": {},
   "outputs": [],
   "source": [
    "design_filename = 'RM6_samples.csv'\n",
    "design_df = read.table(design_filename, check.names=FALSE,sep=',',header=1) %>% column_to_rownames('Index')\n",
    "\n",
    "design_df$Drug <- as.factor(design_df$Drug) %>% relevel(ref = '.')\n",
    "# design_df$Time <- as.factor(design_df$Time) %>% relevel(ref = 'T0')\n",
    "# design_df$Exp <- as.factor(design_df$Exp) %>% relevel(ref = '1')"
   ]
  },
  {
   "cell_type": "code",
   "execution_count": 6,
   "metadata": {},
   "outputs": [
    {
     "data": {
      "text/html": [
       "<table class=\"dataframe\">\n",
       "<caption>A data.frame: 22 × 5</caption>\n",
       "<thead>\n",
       "\t<tr><th></th><th scope=col>Time</th><th scope=col>Exp</th><th scope=col>Rep</th><th scope=col>Drug</th><th scope=col>Conc</th></tr>\n",
       "\t<tr><th></th><th scope=col>&lt;chr&gt;</th><th scope=col>&lt;int&gt;</th><th scope=col>&lt;int&gt;</th><th scope=col>&lt;fct&gt;</th><th scope=col>&lt;chr&gt;</th></tr>\n",
       "</thead>\n",
       "<tbody>\n",
       "\t<tr><th scope=row>i03</th><td>T0  </td><td>2</td><td>1</td><td>.       </td><td>.            </td></tr>\n",
       "\t<tr><th scope=row>i04</th><td>T0  </td><td>2</td><td>2</td><td>.       </td><td>.            </td></tr>\n",
       "\t<tr><th scope=row>i05</th><td>T0  </td><td>1</td><td>2</td><td>.       </td><td>.            </td></tr>\n",
       "\t<tr><th scope=row>i06</th><td>T0  </td><td>1</td><td>1</td><td>.       </td><td>.            </td></tr>\n",
       "\t<tr><th scope=row>i07</th><td>Tend</td><td>1</td><td>1</td><td>DMSO    </td><td>0.10perc     </td></tr>\n",
       "\t<tr><th scope=row>i08</th><td>Tend</td><td>1</td><td>2</td><td>DMSO    </td><td>0.10perc     </td></tr>\n",
       "\t<tr><th scope=row>i09</th><td>Tend</td><td>1</td><td>3</td><td>DMSO    </td><td>0.10perc     </td></tr>\n",
       "\t<tr><th scope=row>i10</th><td>Tend</td><td>1</td><td>1</td><td>RM6     </td><td>1.56nM       </td></tr>\n",
       "\t<tr><th scope=row>i11</th><td>Tend</td><td>1</td><td>2</td><td>RM6     </td><td>1.56nM       </td></tr>\n",
       "\t<tr><th scope=row>i12</th><td>Tend</td><td>1</td><td>3</td><td>RM6     </td><td>1.56nM       </td></tr>\n",
       "\t<tr><th scope=row>i13</th><td>Tend</td><td>2</td><td>1</td><td>DMSO    </td><td>0.10perc     </td></tr>\n",
       "\t<tr><th scope=row>i14</th><td>Tend</td><td>2</td><td>2</td><td>DMSO    </td><td>0.10perc     </td></tr>\n",
       "\t<tr><th scope=row>i15</th><td>Tend</td><td>2</td><td>3</td><td>DMSO    </td><td>0.10perc     </td></tr>\n",
       "\t<tr><th scope=row>i16</th><td>Tend</td><td>2</td><td>1</td><td>RM6     </td><td>0.098nM      </td></tr>\n",
       "\t<tr><th scope=row>i17</th><td>Tend</td><td>2</td><td>2</td><td>RM6     </td><td>0.098nM      </td></tr>\n",
       "\t<tr><th scope=row>i18</th><td>Tend</td><td>2</td><td>3</td><td>RM6     </td><td>0.098nM      </td></tr>\n",
       "\t<tr><th scope=row>i20</th><td>Tend</td><td>2</td><td>2</td><td>RSL3    </td><td>31.25nM      </td></tr>\n",
       "\t<tr><th scope=row>i21</th><td>Tend</td><td>2</td><td>3</td><td>RSL3    </td><td>31.25nM      </td></tr>\n",
       "\t<tr><th scope=row>i22</th><td>Tend</td><td>2</td><td>1</td><td>RM6_RSL3</td><td>0.098_31.25nM</td></tr>\n",
       "\t<tr><th scope=row>i23</th><td>Tend</td><td>2</td><td>2</td><td>RM6_RSL3</td><td>0.098_31.25nM</td></tr>\n",
       "\t<tr><th scope=row>i24</th><td>Tend</td><td>2</td><td>3</td><td>RM6_RSL3</td><td>0.098_31.25nM</td></tr>\n",
       "\t<tr><th scope=row>i25</th><td>Tend</td><td>2</td><td>1</td><td>RSL3    </td><td>31.25nM      </td></tr>\n",
       "</tbody>\n",
       "</table>\n"
      ],
      "text/latex": [
       "A data.frame: 22 × 5\n",
       "\\begin{tabular}{r|lllll}\n",
       "  & Time & Exp & Rep & Drug & Conc\\\\\n",
       "  & <chr> & <int> & <int> & <fct> & <chr>\\\\\n",
       "\\hline\n",
       "\ti03 & T0   & 2 & 1 & .        & .            \\\\\n",
       "\ti04 & T0   & 2 & 2 & .        & .            \\\\\n",
       "\ti05 & T0   & 1 & 2 & .        & .            \\\\\n",
       "\ti06 & T0   & 1 & 1 & .        & .            \\\\\n",
       "\ti07 & Tend & 1 & 1 & DMSO     & 0.10perc     \\\\\n",
       "\ti08 & Tend & 1 & 2 & DMSO     & 0.10perc     \\\\\n",
       "\ti09 & Tend & 1 & 3 & DMSO     & 0.10perc     \\\\\n",
       "\ti10 & Tend & 1 & 1 & RM6      & 1.56nM       \\\\\n",
       "\ti11 & Tend & 1 & 2 & RM6      & 1.56nM       \\\\\n",
       "\ti12 & Tend & 1 & 3 & RM6      & 1.56nM       \\\\\n",
       "\ti13 & Tend & 2 & 1 & DMSO     & 0.10perc     \\\\\n",
       "\ti14 & Tend & 2 & 2 & DMSO     & 0.10perc     \\\\\n",
       "\ti15 & Tend & 2 & 3 & DMSO     & 0.10perc     \\\\\n",
       "\ti16 & Tend & 2 & 1 & RM6      & 0.098nM      \\\\\n",
       "\ti17 & Tend & 2 & 2 & RM6      & 0.098nM      \\\\\n",
       "\ti18 & Tend & 2 & 3 & RM6      & 0.098nM      \\\\\n",
       "\ti20 & Tend & 2 & 2 & RSL3     & 31.25nM      \\\\\n",
       "\ti21 & Tend & 2 & 3 & RSL3     & 31.25nM      \\\\\n",
       "\ti22 & Tend & 2 & 1 & RM6\\_RSL3 & 0.098\\_31.25nM\\\\\n",
       "\ti23 & Tend & 2 & 2 & RM6\\_RSL3 & 0.098\\_31.25nM\\\\\n",
       "\ti24 & Tend & 2 & 3 & RM6\\_RSL3 & 0.098\\_31.25nM\\\\\n",
       "\ti25 & Tend & 2 & 1 & RSL3     & 31.25nM      \\\\\n",
       "\\end{tabular}\n"
      ],
      "text/markdown": [
       "\n",
       "A data.frame: 22 × 5\n",
       "\n",
       "| <!--/--> | Time &lt;chr&gt; | Exp &lt;int&gt; | Rep &lt;int&gt; | Drug &lt;fct&gt; | Conc &lt;chr&gt; |\n",
       "|---|---|---|---|---|---|\n",
       "| i03 | T0   | 2 | 1 | .        | .             |\n",
       "| i04 | T0   | 2 | 2 | .        | .             |\n",
       "| i05 | T0   | 1 | 2 | .        | .             |\n",
       "| i06 | T0   | 1 | 1 | .        | .             |\n",
       "| i07 | Tend | 1 | 1 | DMSO     | 0.10perc      |\n",
       "| i08 | Tend | 1 | 2 | DMSO     | 0.10perc      |\n",
       "| i09 | Tend | 1 | 3 | DMSO     | 0.10perc      |\n",
       "| i10 | Tend | 1 | 1 | RM6      | 1.56nM        |\n",
       "| i11 | Tend | 1 | 2 | RM6      | 1.56nM        |\n",
       "| i12 | Tend | 1 | 3 | RM6      | 1.56nM        |\n",
       "| i13 | Tend | 2 | 1 | DMSO     | 0.10perc      |\n",
       "| i14 | Tend | 2 | 2 | DMSO     | 0.10perc      |\n",
       "| i15 | Tend | 2 | 3 | DMSO     | 0.10perc      |\n",
       "| i16 | Tend | 2 | 1 | RM6      | 0.098nM       |\n",
       "| i17 | Tend | 2 | 2 | RM6      | 0.098nM       |\n",
       "| i18 | Tend | 2 | 3 | RM6      | 0.098nM       |\n",
       "| i20 | Tend | 2 | 2 | RSL3     | 31.25nM       |\n",
       "| i21 | Tend | 2 | 3 | RSL3     | 31.25nM       |\n",
       "| i22 | Tend | 2 | 1 | RM6_RSL3 | 0.098_31.25nM |\n",
       "| i23 | Tend | 2 | 2 | RM6_RSL3 | 0.098_31.25nM |\n",
       "| i24 | Tend | 2 | 3 | RM6_RSL3 | 0.098_31.25nM |\n",
       "| i25 | Tend | 2 | 1 | RSL3     | 31.25nM       |\n",
       "\n"
      ],
      "text/plain": [
       "    Time Exp Rep Drug     Conc         \n",
       "i03 T0   2   1   .        .            \n",
       "i04 T0   2   2   .        .            \n",
       "i05 T0   1   2   .        .            \n",
       "i06 T0   1   1   .        .            \n",
       "i07 Tend 1   1   DMSO     0.10perc     \n",
       "i08 Tend 1   2   DMSO     0.10perc     \n",
       "i09 Tend 1   3   DMSO     0.10perc     \n",
       "i10 Tend 1   1   RM6      1.56nM       \n",
       "i11 Tend 1   2   RM6      1.56nM       \n",
       "i12 Tend 1   3   RM6      1.56nM       \n",
       "i13 Tend 2   1   DMSO     0.10perc     \n",
       "i14 Tend 2   2   DMSO     0.10perc     \n",
       "i15 Tend 2   3   DMSO     0.10perc     \n",
       "i16 Tend 2   1   RM6      0.098nM      \n",
       "i17 Tend 2   2   RM6      0.098nM      \n",
       "i18 Tend 2   3   RM6      0.098nM      \n",
       "i20 Tend 2   2   RSL3     31.25nM      \n",
       "i21 Tend 2   3   RSL3     31.25nM      \n",
       "i22 Tend 2   1   RM6_RSL3 0.098_31.25nM\n",
       "i23 Tend 2   2   RM6_RSL3 0.098_31.25nM\n",
       "i24 Tend 2   3   RM6_RSL3 0.098_31.25nM\n",
       "i25 Tend 2   1   RSL3     31.25nM      "
      ]
     },
     "metadata": {},
     "output_type": "display_data"
    }
   ],
   "source": [
    "design_df"
   ]
  },
  {
   "cell_type": "code",
   "execution_count": null,
   "metadata": {},
   "outputs": [],
   "source": [
    "# dmso = ifelse(grepl('DMSO',design_df$Drug), 'y','n')\n",
    "# rm6  = ifelse(grepl('RM6',design_df$Drug), 'y','n')\n",
    "# rsl3 = ifelse(grepl('RSL3',design_df$Drug), 'y','n')"
   ]
  },
  {
   "cell_type": "code",
   "execution_count": null,
   "metadata": {},
   "outputs": [],
   "source": [
    "# design_df$dmso = dmso\n",
    "# design_df$rm6  = rm6\n",
    "# design_df$rsl3 = rsl3"
   ]
  },
  {
   "cell_type": "markdown",
   "metadata": {
    "jp-MarkdownHeadingCollapsed": true,
    "tags": []
   },
   "source": [
    "## Apply DESeq2"
   ]
  },
  {
   "cell_type": "markdown",
   "metadata": {},
   "source": [
    "> People routinely analyze Ribo-seq with DESeq2; in a typical Ribo-seq experiment, the setup is very similar: you compare the ratios Ribo WT / RNA WT with Ribo KD / RNA KD and look for genes with significant difference. Michael Love described the approach in [this](https://support.bioconductor.org/p/61509/) post (keywod \"test for ratio of ratios\"). Basically, the interaction term represents the ratio of the ratios. Therefore, you perform likelihood ratio test, where you compare the models with or without the interaction term. I use the implementation from [plastid](https://plastid.readthedocs.io/en/latest/examples/gene_expression.html#differential-translation-efficiency)"
   ]
  },
  {
   "cell_type": "markdown",
   "metadata": {},
   "source": [
    "Create DESeq2 object"
   ]
  },
  {
   "cell_type": "code",
   "execution_count": 8,
   "metadata": {},
   "outputs": [
    {
     "name": "stderr",
     "output_type": "stream",
     "text": [
      "converting counts to integer mode\n",
      "\n"
     ]
    }
   ],
   "source": [
    "dds <- DESeqDataSetFromMatrix(\n",
    "    countData = counts_df,\n",
    "    colData = design_df,\n",
    "    # Time\tExp\tRep\tDrug\tConc\n",
    "    design = ~ 0 + Drug\n",
    ")"
   ]
  },
  {
   "cell_type": "markdown",
   "metadata": {},
   "source": [
    "Run individual steps as shown [here](https://plastid.readthedocs.io/en/latest/examples/gene_expression.html#differential-translation-efficiency)"
   ]
  },
  {
   "cell_type": "code",
   "execution_count": 9,
   "metadata": {},
   "outputs": [
    {
     "name": "stderr",
     "output_type": "stream",
     "text": [
      "gene-wise dispersion estimates\n",
      "\n",
      "mean-dispersion relationship\n",
      "\n",
      "-- note: fitType='parametric', but the dispersion trend was not well captured by the\n",
      "   function: y = a/x + b, and a local regression fit was automatically substituted.\n",
      "   specify fitType='local' or 'mean' to avoid this message next time.\n",
      "\n",
      "final dispersion estimates\n",
      "\n"
     ]
    }
   ],
   "source": [
    "dds <- estimateSizeFactors(dds)\n",
    "dds <- estimateDispersions(dds)"
   ]
  },
  {
   "cell_type": "markdown",
   "metadata": {},
   "source": [
    "Design model"
   ]
  },
  {
   "cell_type": "code",
   "execution_count": 10,
   "metadata": {},
   "outputs": [],
   "source": [
    "# model = model.matrix(~ 0 + Drug + Time + Time:Drug,design_df) %>% data.frame\n",
    "\n",
    "# design(dds) = ~ Drug #:Exp\n",
    "# design(dds)"
   ]
  },
  {
   "cell_type": "code",
   "execution_count": 11,
   "metadata": {},
   "outputs": [
    {
     "name": "stderr",
     "output_type": "stream",
     "text": [
      "using pre-existing size factors\n",
      "\n",
      "estimating dispersions\n",
      "\n",
      "found already estimated dispersions, replacing these\n",
      "\n",
      "gene-wise dispersion estimates\n",
      "\n",
      "mean-dispersion relationship\n",
      "\n",
      "-- note: fitType='parametric', but the dispersion trend was not well captured by the\n",
      "   function: y = a/x + b, and a local regression fit was automatically substituted.\n",
      "   specify fitType='local' or 'mean' to avoid this message next time.\n",
      "\n",
      "final dispersion estimates\n",
      "\n",
      "fitting model and testing\n",
      "\n"
     ]
    }
   ],
   "source": [
    "lrt_dds <- DESeq(dds, test=\"LRT\", reduced = ~ 1)\n",
    "# # likelihood ratio test on samples\n",
    "# # compare model with and without interaction term\n",
    "# dds <- nbinomLRT(\n",
    "#     dds,\n",
    "#     full = ~ 0 + Drug + Time + Time:Drug,\n",
    "#     reduced = ~ Drug + Time\n",
    "# )"
   ]
  },
  {
   "cell_type": "markdown",
   "metadata": {
    "jp-MarkdownHeadingCollapsed": true,
    "tags": []
   },
   "source": [
    "## Normalize counts \n"
   ]
  },
  {
   "cell_type": "markdown",
   "metadata": {},
   "source": [
    "This part is <!-- missing for now!! --> done automatically as described in below links\n",
    "- https://hbctraining.github.io/DGE_workshop_salmon_online/lessons/04b_DGE_DESeq2_analysis.html\n",
    "- https://hbctraining.github.io/DGE_workshop/lessons/02_DGE_count_normalization.html"
   ]
  },
  {
   "cell_type": "code",
   "execution_count": 12,
   "metadata": {},
   "outputs": [],
   "source": [
    "normalized_counts <- counts(dds, normalized=TRUE)"
   ]
  },
  {
   "cell_type": "markdown",
   "metadata": {},
   "source": [
    "Save this normalized data matrix to file for later use:"
   ]
  },
  {
   "cell_type": "code",
   "execution_count": 13,
   "metadata": {},
   "outputs": [],
   "source": [
    "write.table(normalized_counts, file=\"counts_DESeq2_normalized.txt\", sep=\"\\t\", quote=F, col.names=NA)"
   ]
  },
  {
   "cell_type": "markdown",
   "metadata": {},
   "source": [
    "### Extract results"
   ]
  },
  {
   "cell_type": "markdown",
   "metadata": {},
   "source": [
    "- #### gamma $\\gamma$ – ctrl vs T0\n",
    "- #### tau $\\tau$ – treatment vs T0\n",
    "- #### rho $\\rho$ – treatment vs ctrl\n",
    "- #### kappa $\\kappa$ – combination treatment vs. single treatment"
   ]
  },
  {
   "cell_type": "code",
   "execution_count": 225,
   "metadata": {},
   "outputs": [],
   "source": [
    "RES = list()"
   ]
  },
  {
   "cell_type": "markdown",
   "metadata": {
    "tags": []
   },
   "source": [
    "### $\\gamma$ – DMSO vs T0\n"
   ]
  },
  {
   "cell_type": "code",
   "execution_count": 226,
   "metadata": {},
   "outputs": [
    {
     "data": {
      "text/html": [
       "<style>\n",
       ".list-inline {list-style: none; margin:0; padding: 0}\n",
       ".list-inline>li {display: inline-block}\n",
       ".list-inline>li:not(:last-child)::after {content: \"\\00b7\"; padding: 0 .5ex}\n",
       "</style>\n",
       "<ol class=list-inline><li>'Drug.'</li><li>'DrugDMSO'</li><li>'DrugRM6'</li><li>'DrugRM6_RSL3'</li><li>'DrugRSL3'</li></ol>\n"
      ],
      "text/latex": [
       "\\begin{enumerate*}\n",
       "\\item 'Drug.'\n",
       "\\item 'DrugDMSO'\n",
       "\\item 'DrugRM6'\n",
       "\\item 'DrugRM6\\_RSL3'\n",
       "\\item 'DrugRSL3'\n",
       "\\end{enumerate*}\n"
      ],
      "text/markdown": [
       "1. 'Drug.'\n",
       "2. 'DrugDMSO'\n",
       "3. 'DrugRM6'\n",
       "4. 'DrugRM6_RSL3'\n",
       "5. 'DrugRSL3'\n",
       "\n",
       "\n"
      ],
      "text/plain": [
       "[1] \"Drug.\"        \"DrugDMSO\"     \"DrugRM6\"      \"DrugRM6_RSL3\" \"DrugRSL3\"    "
      ]
     },
     "metadata": {},
     "output_type": "display_data"
    }
   ],
   "source": [
    "resultsNames(lrt_dds)"
   ]
  },
  {
   "cell_type": "code",
   "execution_count": 227,
   "metadata": {},
   "outputs": [],
   "source": [
    "# gamma – ctrl vs T0\n",
    "RES[[\"gamma.DMSO_vs_T0\"]]  = results(\n",
    "    lrt_dds, \n",
    "    contrast=list(\"DrugDMSO\",\"Drug.\"),\n",
    "    listValues=c(1,-1))"
   ]
  },
  {
   "cell_type": "code",
   "execution_count": 228,
   "metadata": {},
   "outputs": [
    {
     "name": "stdout",
     "output_type": "stream",
     "text": [
      "\n",
      "out of 21097 with nonzero total read count\n",
      "adjusted p-value < 0.1\n",
      "LFC > 0 (up)       : 2553, 12%\n",
      "LFC < 0 (down)     : 3628, 17%\n",
      "outliers [1]       : 0, 0%\n",
      "low counts [2]     : 0, 0%\n",
      "(mean count < 0)\n",
      "[1] see 'cooksCutoff' argument of ?results\n",
      "[2] see 'independentFiltering' argument of ?results\n",
      "\n"
     ]
    }
   ],
   "source": [
    "summary(RES[[\"gamma.DMSO_vs_T0\"]])"
   ]
  },
  {
   "cell_type": "markdown",
   "metadata": {
    "tags": []
   },
   "source": [
    "### $\\tau$ – RM6 vs T0\n"
   ]
  },
  {
   "cell_type": "code",
   "execution_count": 229,
   "metadata": {},
   "outputs": [
    {
     "data": {
      "text/html": [
       "<style>\n",
       ".list-inline {list-style: none; margin:0; padding: 0}\n",
       ".list-inline>li {display: inline-block}\n",
       ".list-inline>li:not(:last-child)::after {content: \"\\00b7\"; padding: 0 .5ex}\n",
       "</style>\n",
       "<ol class=list-inline><li>'Drug.'</li><li>'DrugDMSO'</li><li>'DrugRM6'</li><li>'DrugRM6_RSL3'</li><li>'DrugRSL3'</li></ol>\n"
      ],
      "text/latex": [
       "\\begin{enumerate*}\n",
       "\\item 'Drug.'\n",
       "\\item 'DrugDMSO'\n",
       "\\item 'DrugRM6'\n",
       "\\item 'DrugRM6\\_RSL3'\n",
       "\\item 'DrugRSL3'\n",
       "\\end{enumerate*}\n"
      ],
      "text/markdown": [
       "1. 'Drug.'\n",
       "2. 'DrugDMSO'\n",
       "3. 'DrugRM6'\n",
       "4. 'DrugRM6_RSL3'\n",
       "5. 'DrugRSL3'\n",
       "\n",
       "\n"
      ],
      "text/plain": [
       "[1] \"Drug.\"        \"DrugDMSO\"     \"DrugRM6\"      \"DrugRM6_RSL3\" \"DrugRSL3\"    "
      ]
     },
     "metadata": {},
     "output_type": "display_data"
    }
   ],
   "source": [
    "resultsNames(lrt_dds)"
   ]
  },
  {
   "cell_type": "code",
   "execution_count": 230,
   "metadata": {},
   "outputs": [],
   "source": [
    "# tau – treatment vs T0\n",
    "RES[[\"tau.RM6_vs_T0\"]]  = results(\n",
    "    lrt_dds, \n",
    "    contrast=list(\"DrugRM6\",\"Drug.\"),\n",
    "    listValues=c(1,-1))"
   ]
  },
  {
   "cell_type": "code",
   "execution_count": 231,
   "metadata": {},
   "outputs": [
    {
     "name": "stdout",
     "output_type": "stream",
     "text": [
      "\n",
      "out of 21097 with nonzero total read count\n",
      "adjusted p-value < 0.1\n",
      "LFC > 0 (up)       : 2231, 11%\n",
      "LFC < 0 (down)     : 3950, 19%\n",
      "outliers [1]       : 0, 0%\n",
      "low counts [2]     : 0, 0%\n",
      "(mean count < 0)\n",
      "[1] see 'cooksCutoff' argument of ?results\n",
      "[2] see 'independentFiltering' argument of ?results\n",
      "\n"
     ]
    }
   ],
   "source": [
    "summary(RES[[\"tau.RM6_vs_T0\"]])"
   ]
  },
  {
   "cell_type": "markdown",
   "metadata": {
    "tags": []
   },
   "source": [
    "### $\\tau$ – RSL3 vs T0\n"
   ]
  },
  {
   "cell_type": "code",
   "execution_count": 232,
   "metadata": {},
   "outputs": [
    {
     "data": {
      "text/html": [
       "<style>\n",
       ".list-inline {list-style: none; margin:0; padding: 0}\n",
       ".list-inline>li {display: inline-block}\n",
       ".list-inline>li:not(:last-child)::after {content: \"\\00b7\"; padding: 0 .5ex}\n",
       "</style>\n",
       "<ol class=list-inline><li>'Drug.'</li><li>'DrugDMSO'</li><li>'DrugRM6'</li><li>'DrugRM6_RSL3'</li><li>'DrugRSL3'</li></ol>\n"
      ],
      "text/latex": [
       "\\begin{enumerate*}\n",
       "\\item 'Drug.'\n",
       "\\item 'DrugDMSO'\n",
       "\\item 'DrugRM6'\n",
       "\\item 'DrugRM6\\_RSL3'\n",
       "\\item 'DrugRSL3'\n",
       "\\end{enumerate*}\n"
      ],
      "text/markdown": [
       "1. 'Drug.'\n",
       "2. 'DrugDMSO'\n",
       "3. 'DrugRM6'\n",
       "4. 'DrugRM6_RSL3'\n",
       "5. 'DrugRSL3'\n",
       "\n",
       "\n"
      ],
      "text/plain": [
       "[1] \"Drug.\"        \"DrugDMSO\"     \"DrugRM6\"      \"DrugRM6_RSL3\" \"DrugRSL3\"    "
      ]
     },
     "metadata": {},
     "output_type": "display_data"
    }
   ],
   "source": [
    "resultsNames(lrt_dds)"
   ]
  },
  {
   "cell_type": "code",
   "execution_count": 233,
   "metadata": {},
   "outputs": [],
   "source": [
    "# tau – treatment vs T0\n",
    "RES[[\"tau.RSL3_vs_T0\"]]  = results(\n",
    "    lrt_dds, \n",
    "    contrast=list(\"DrugRSL3\",\"Drug.\"),\n",
    "    listValues=c(1,-1))"
   ]
  },
  {
   "cell_type": "code",
   "execution_count": 234,
   "metadata": {},
   "outputs": [
    {
     "name": "stdout",
     "output_type": "stream",
     "text": [
      "\n",
      "out of 21097 with nonzero total read count\n",
      "adjusted p-value < 0.1\n",
      "LFC > 0 (up)       : 2318, 11%\n",
      "LFC < 0 (down)     : 3863, 18%\n",
      "outliers [1]       : 0, 0%\n",
      "low counts [2]     : 0, 0%\n",
      "(mean count < 0)\n",
      "[1] see 'cooksCutoff' argument of ?results\n",
      "[2] see 'independentFiltering' argument of ?results\n",
      "\n"
     ]
    }
   ],
   "source": [
    "summary(RES[[\"tau.RSL3_vs_T0\"]])"
   ]
  },
  {
   "cell_type": "markdown",
   "metadata": {
    "tags": []
   },
   "source": [
    "### $\\tau$ – RM6+RSL3 vs T0\n"
   ]
  },
  {
   "cell_type": "code",
   "execution_count": 235,
   "metadata": {},
   "outputs": [
    {
     "data": {
      "text/html": [
       "<style>\n",
       ".list-inline {list-style: none; margin:0; padding: 0}\n",
       ".list-inline>li {display: inline-block}\n",
       ".list-inline>li:not(:last-child)::after {content: \"\\00b7\"; padding: 0 .5ex}\n",
       "</style>\n",
       "<ol class=list-inline><li>'Drug.'</li><li>'DrugDMSO'</li><li>'DrugRM6'</li><li>'DrugRM6_RSL3'</li><li>'DrugRSL3'</li></ol>\n"
      ],
      "text/latex": [
       "\\begin{enumerate*}\n",
       "\\item 'Drug.'\n",
       "\\item 'DrugDMSO'\n",
       "\\item 'DrugRM6'\n",
       "\\item 'DrugRM6\\_RSL3'\n",
       "\\item 'DrugRSL3'\n",
       "\\end{enumerate*}\n"
      ],
      "text/markdown": [
       "1. 'Drug.'\n",
       "2. 'DrugDMSO'\n",
       "3. 'DrugRM6'\n",
       "4. 'DrugRM6_RSL3'\n",
       "5. 'DrugRSL3'\n",
       "\n",
       "\n"
      ],
      "text/plain": [
       "[1] \"Drug.\"        \"DrugDMSO\"     \"DrugRM6\"      \"DrugRM6_RSL3\" \"DrugRSL3\"    "
      ]
     },
     "metadata": {},
     "output_type": "display_data"
    }
   ],
   "source": [
    "resultsNames(lrt_dds)"
   ]
  },
  {
   "cell_type": "code",
   "execution_count": 236,
   "metadata": {},
   "outputs": [],
   "source": [
    "# tau – treatment vs T0\n",
    "RES[[\"tau.RM6+RSL3_vs_T0\"]]  = results(\n",
    "    lrt_dds, \n",
    "    contrast=list(\"DrugRM6_RSL3\",\"Drug.\"),\n",
    "    listValues=c(1,-1))"
   ]
  },
  {
   "cell_type": "code",
   "execution_count": 237,
   "metadata": {},
   "outputs": [
    {
     "name": "stdout",
     "output_type": "stream",
     "text": [
      "\n",
      "out of 21097 with nonzero total read count\n",
      "adjusted p-value < 0.1\n",
      "LFC > 0 (up)       : 2318, 11%\n",
      "LFC < 0 (down)     : 3863, 18%\n",
      "outliers [1]       : 0, 0%\n",
      "low counts [2]     : 0, 0%\n",
      "(mean count < 0)\n",
      "[1] see 'cooksCutoff' argument of ?results\n",
      "[2] see 'independentFiltering' argument of ?results\n",
      "\n"
     ]
    }
   ],
   "source": [
    "summary(RES[[\"tau.RSL3_vs_T0\"]])"
   ]
  },
  {
   "cell_type": "markdown",
   "metadata": {
    "tags": []
   },
   "source": [
    "### $\\rho$ – RM6 vs DMSO\n"
   ]
  },
  {
   "cell_type": "code",
   "execution_count": 238,
   "metadata": {},
   "outputs": [
    {
     "data": {
      "text/html": [
       "<style>\n",
       ".list-inline {list-style: none; margin:0; padding: 0}\n",
       ".list-inline>li {display: inline-block}\n",
       ".list-inline>li:not(:last-child)::after {content: \"\\00b7\"; padding: 0 .5ex}\n",
       "</style>\n",
       "<ol class=list-inline><li>'Drug.'</li><li>'DrugDMSO'</li><li>'DrugRM6'</li><li>'DrugRM6_RSL3'</li><li>'DrugRSL3'</li></ol>\n"
      ],
      "text/latex": [
       "\\begin{enumerate*}\n",
       "\\item 'Drug.'\n",
       "\\item 'DrugDMSO'\n",
       "\\item 'DrugRM6'\n",
       "\\item 'DrugRM6\\_RSL3'\n",
       "\\item 'DrugRSL3'\n",
       "\\end{enumerate*}\n"
      ],
      "text/markdown": [
       "1. 'Drug.'\n",
       "2. 'DrugDMSO'\n",
       "3. 'DrugRM6'\n",
       "4. 'DrugRM6_RSL3'\n",
       "5. 'DrugRSL3'\n",
       "\n",
       "\n"
      ],
      "text/plain": [
       "[1] \"Drug.\"        \"DrugDMSO\"     \"DrugRM6\"      \"DrugRM6_RSL3\" \"DrugRSL3\"    "
      ]
     },
     "metadata": {},
     "output_type": "display_data"
    }
   ],
   "source": [
    "resultsNames(lrt_dds)"
   ]
  },
  {
   "cell_type": "code",
   "execution_count": 239,
   "metadata": {},
   "outputs": [],
   "source": [
    "# rho – treatment vs ctrl\n",
    "RES[[\"rho.RM6_vs_DMSO\"]]  = results(\n",
    "    lrt_dds, \n",
    "    contrast=list(\"DrugRM6\",\"DrugDMSO\"),\n",
    "    listValues=c(1,-1))"
   ]
  },
  {
   "cell_type": "code",
   "execution_count": 240,
   "metadata": {},
   "outputs": [
    {
     "name": "stdout",
     "output_type": "stream",
     "text": [
      "\n",
      "out of 21097 with nonzero total read count\n",
      "adjusted p-value < 0.1\n",
      "LFC > 0 (up)       : 3678, 17%\n",
      "LFC < 0 (down)     : 2503, 12%\n",
      "outliers [1]       : 0, 0%\n",
      "low counts [2]     : 0, 0%\n",
      "(mean count < 0)\n",
      "[1] see 'cooksCutoff' argument of ?results\n",
      "[2] see 'independentFiltering' argument of ?results\n",
      "\n"
     ]
    }
   ],
   "source": [
    "summary(RES[[\"rho.RM6_vs_DMSO\"]])"
   ]
  },
  {
   "cell_type": "markdown",
   "metadata": {
    "tags": []
   },
   "source": [
    "### $\\rho$ – RSL3 vs DMSO\n"
   ]
  },
  {
   "cell_type": "code",
   "execution_count": 241,
   "metadata": {},
   "outputs": [
    {
     "data": {
      "text/html": [
       "<style>\n",
       ".list-inline {list-style: none; margin:0; padding: 0}\n",
       ".list-inline>li {display: inline-block}\n",
       ".list-inline>li:not(:last-child)::after {content: \"\\00b7\"; padding: 0 .5ex}\n",
       "</style>\n",
       "<ol class=list-inline><li>'Drug.'</li><li>'DrugDMSO'</li><li>'DrugRM6'</li><li>'DrugRM6_RSL3'</li><li>'DrugRSL3'</li></ol>\n"
      ],
      "text/latex": [
       "\\begin{enumerate*}\n",
       "\\item 'Drug.'\n",
       "\\item 'DrugDMSO'\n",
       "\\item 'DrugRM6'\n",
       "\\item 'DrugRM6\\_RSL3'\n",
       "\\item 'DrugRSL3'\n",
       "\\end{enumerate*}\n"
      ],
      "text/markdown": [
       "1. 'Drug.'\n",
       "2. 'DrugDMSO'\n",
       "3. 'DrugRM6'\n",
       "4. 'DrugRM6_RSL3'\n",
       "5. 'DrugRSL3'\n",
       "\n",
       "\n"
      ],
      "text/plain": [
       "[1] \"Drug.\"        \"DrugDMSO\"     \"DrugRM6\"      \"DrugRM6_RSL3\" \"DrugRSL3\"    "
      ]
     },
     "metadata": {},
     "output_type": "display_data"
    }
   ],
   "source": [
    "resultsNames(lrt_dds)"
   ]
  },
  {
   "cell_type": "code",
   "execution_count": 242,
   "metadata": {},
   "outputs": [],
   "source": [
    "# rho – treatment vs ctrl\n",
    "RES[[\"rho.RSL3_vs_DMSO\"]]  = results(\n",
    "    lrt_dds, \n",
    "    contrast=list(\"DrugRSL3\",\"DrugDMSO\"),\n",
    "    listValues=c(1,-1))"
   ]
  },
  {
   "cell_type": "code",
   "execution_count": 243,
   "metadata": {},
   "outputs": [
    {
     "name": "stdout",
     "output_type": "stream",
     "text": [
      "\n",
      "out of 21097 with nonzero total read count\n",
      "adjusted p-value < 0.1\n",
      "LFC > 0 (up)       : 3866, 18%\n",
      "LFC < 0 (down)     : 2311, 11%\n",
      "outliers [1]       : 0, 0%\n",
      "low counts [2]     : 0, 0%\n",
      "(mean count < 0)\n",
      "[1] see 'cooksCutoff' argument of ?results\n",
      "[2] see 'independentFiltering' argument of ?results\n",
      "\n"
     ]
    }
   ],
   "source": [
    "summary(RES[[\"rho.RSL3_vs_DMSO\"]])"
   ]
  },
  {
   "cell_type": "markdown",
   "metadata": {
    "tags": []
   },
   "source": [
    "### $\\rho$ – RM6+RSL3 vs DMSO\n"
   ]
  },
  {
   "cell_type": "code",
   "execution_count": 244,
   "metadata": {},
   "outputs": [
    {
     "data": {
      "text/html": [
       "<style>\n",
       ".list-inline {list-style: none; margin:0; padding: 0}\n",
       ".list-inline>li {display: inline-block}\n",
       ".list-inline>li:not(:last-child)::after {content: \"\\00b7\"; padding: 0 .5ex}\n",
       "</style>\n",
       "<ol class=list-inline><li>'Drug.'</li><li>'DrugDMSO'</li><li>'DrugRM6'</li><li>'DrugRM6_RSL3'</li><li>'DrugRSL3'</li></ol>\n"
      ],
      "text/latex": [
       "\\begin{enumerate*}\n",
       "\\item 'Drug.'\n",
       "\\item 'DrugDMSO'\n",
       "\\item 'DrugRM6'\n",
       "\\item 'DrugRM6\\_RSL3'\n",
       "\\item 'DrugRSL3'\n",
       "\\end{enumerate*}\n"
      ],
      "text/markdown": [
       "1. 'Drug.'\n",
       "2. 'DrugDMSO'\n",
       "3. 'DrugRM6'\n",
       "4. 'DrugRM6_RSL3'\n",
       "5. 'DrugRSL3'\n",
       "\n",
       "\n"
      ],
      "text/plain": [
       "[1] \"Drug.\"        \"DrugDMSO\"     \"DrugRM6\"      \"DrugRM6_RSL3\" \"DrugRSL3\"    "
      ]
     },
     "metadata": {},
     "output_type": "display_data"
    }
   ],
   "source": [
    "resultsNames(lrt_dds)"
   ]
  },
  {
   "cell_type": "code",
   "execution_count": 245,
   "metadata": {},
   "outputs": [],
   "source": [
    "# rho – treatment vs ctrl\n",
    "RES[[\"rho.RM6+RSL3_vs_DMSO\"]]  = results(\n",
    "    lrt_dds, \n",
    "    contrast=list(\"DrugRM6_RSL3\",\"DrugDMSO\"),\n",
    "    listValues=c(1,-1))"
   ]
  },
  {
   "cell_type": "code",
   "execution_count": 246,
   "metadata": {},
   "outputs": [
    {
     "name": "stdout",
     "output_type": "stream",
     "text": [
      "\n",
      "out of 21097 with nonzero total read count\n",
      "adjusted p-value < 0.1\n",
      "LFC > 0 (up)       : 3729, 18%\n",
      "LFC < 0 (down)     : 2451, 12%\n",
      "outliers [1]       : 0, 0%\n",
      "low counts [2]     : 0, 0%\n",
      "(mean count < 0)\n",
      "[1] see 'cooksCutoff' argument of ?results\n",
      "[2] see 'independentFiltering' argument of ?results\n",
      "\n"
     ]
    }
   ],
   "source": [
    "summary(RES[[\"rho.RM6+RSL3_vs_DMSO\"]])"
   ]
  },
  {
   "cell_type": "markdown",
   "metadata": {
    "tags": []
   },
   "source": [
    "### $\\kappa$ – RM6+RSL3 vs RM6\n"
   ]
  },
  {
   "cell_type": "code",
   "execution_count": 247,
   "metadata": {},
   "outputs": [
    {
     "data": {
      "text/html": [
       "<style>\n",
       ".list-inline {list-style: none; margin:0; padding: 0}\n",
       ".list-inline>li {display: inline-block}\n",
       ".list-inline>li:not(:last-child)::after {content: \"\\00b7\"; padding: 0 .5ex}\n",
       "</style>\n",
       "<ol class=list-inline><li>'Drug.'</li><li>'DrugDMSO'</li><li>'DrugRM6'</li><li>'DrugRM6_RSL3'</li><li>'DrugRSL3'</li></ol>\n"
      ],
      "text/latex": [
       "\\begin{enumerate*}\n",
       "\\item 'Drug.'\n",
       "\\item 'DrugDMSO'\n",
       "\\item 'DrugRM6'\n",
       "\\item 'DrugRM6\\_RSL3'\n",
       "\\item 'DrugRSL3'\n",
       "\\end{enumerate*}\n"
      ],
      "text/markdown": [
       "1. 'Drug.'\n",
       "2. 'DrugDMSO'\n",
       "3. 'DrugRM6'\n",
       "4. 'DrugRM6_RSL3'\n",
       "5. 'DrugRSL3'\n",
       "\n",
       "\n"
      ],
      "text/plain": [
       "[1] \"Drug.\"        \"DrugDMSO\"     \"DrugRM6\"      \"DrugRM6_RSL3\" \"DrugRSL3\"    "
      ]
     },
     "metadata": {},
     "output_type": "display_data"
    }
   ],
   "source": [
    "resultsNames(lrt_dds)"
   ]
  },
  {
   "cell_type": "code",
   "execution_count": 248,
   "metadata": {},
   "outputs": [],
   "source": [
    "# kappa – combination treatment vs. single treatment\n",
    "RES[[\"kappa.RM6+RSL3_vs_RM6\"]]  = results(\n",
    "    lrt_dds, \n",
    "    contrast=list(\"DrugRM6_RSL3\",\"DrugRM6\"),\n",
    "    listValues=c(1,-1))"
   ]
  },
  {
   "cell_type": "code",
   "execution_count": 249,
   "metadata": {},
   "outputs": [
    {
     "name": "stdout",
     "output_type": "stream",
     "text": [
      "\n",
      "out of 21097 with nonzero total read count\n",
      "adjusted p-value < 0.1\n",
      "LFC > 0 (up)       : 2923, 14%\n",
      "LFC < 0 (down)     : 3258, 15%\n",
      "outliers [1]       : 0, 0%\n",
      "low counts [2]     : 0, 0%\n",
      "(mean count < 0)\n",
      "[1] see 'cooksCutoff' argument of ?results\n",
      "[2] see 'independentFiltering' argument of ?results\n",
      "\n"
     ]
    }
   ],
   "source": [
    "summary(RES[[\"kappa.RM6+RSL3_vs_RM6\"]])"
   ]
  },
  {
   "cell_type": "markdown",
   "metadata": {
    "tags": []
   },
   "source": [
    "### $\\kappa$ – RM6+RSL3 vs RSL3\n"
   ]
  },
  {
   "cell_type": "code",
   "execution_count": 250,
   "metadata": {},
   "outputs": [
    {
     "data": {
      "text/html": [
       "<style>\n",
       ".list-inline {list-style: none; margin:0; padding: 0}\n",
       ".list-inline>li {display: inline-block}\n",
       ".list-inline>li:not(:last-child)::after {content: \"\\00b7\"; padding: 0 .5ex}\n",
       "</style>\n",
       "<ol class=list-inline><li>'Drug.'</li><li>'DrugDMSO'</li><li>'DrugRM6'</li><li>'DrugRM6_RSL3'</li><li>'DrugRSL3'</li></ol>\n"
      ],
      "text/latex": [
       "\\begin{enumerate*}\n",
       "\\item 'Drug.'\n",
       "\\item 'DrugDMSO'\n",
       "\\item 'DrugRM6'\n",
       "\\item 'DrugRM6\\_RSL3'\n",
       "\\item 'DrugRSL3'\n",
       "\\end{enumerate*}\n"
      ],
      "text/markdown": [
       "1. 'Drug.'\n",
       "2. 'DrugDMSO'\n",
       "3. 'DrugRM6'\n",
       "4. 'DrugRM6_RSL3'\n",
       "5. 'DrugRSL3'\n",
       "\n",
       "\n"
      ],
      "text/plain": [
       "[1] \"Drug.\"        \"DrugDMSO\"     \"DrugRM6\"      \"DrugRM6_RSL3\" \"DrugRSL3\"    "
      ]
     },
     "metadata": {},
     "output_type": "display_data"
    }
   ],
   "source": [
    "resultsNames(lrt_dds)"
   ]
  },
  {
   "cell_type": "code",
   "execution_count": 251,
   "metadata": {},
   "outputs": [],
   "source": [
    "# kappa – combination treatment vs. single treatment\n",
    "RES[[\"kappa.RM6+RSL3_vs_RSL3\"]]  = results(\n",
    "    lrt_dds, \n",
    "    contrast=list(\"DrugRM6_RSL3\",\"DrugRSL3\"),\n",
    "    listValues=c(1,-1))"
   ]
  },
  {
   "cell_type": "code",
   "execution_count": 252,
   "metadata": {},
   "outputs": [
    {
     "name": "stdout",
     "output_type": "stream",
     "text": [
      "\n",
      "out of 21097 with nonzero total read count\n",
      "adjusted p-value < 0.1\n",
      "LFC > 0 (up)       : 3652, 17%\n",
      "LFC < 0 (down)     : 2528, 12%\n",
      "outliers [1]       : 0, 0%\n",
      "low counts [2]     : 0, 0%\n",
      "(mean count < 0)\n",
      "[1] see 'cooksCutoff' argument of ?results\n",
      "[2] see 'independentFiltering' argument of ?results\n",
      "\n"
     ]
    }
   ],
   "source": [
    "summary(RES[[\"kappa.RM6+RSL3_vs_RSL3\"]])"
   ]
  },
  {
   "cell_type": "markdown",
   "metadata": {
    "tags": []
   },
   "source": [
    "## Explore results "
   ]
  },
  {
   "cell_type": "code",
   "execution_count": 216,
   "metadata": {},
   "outputs": [],
   "source": [
    "ann_res <- function(res,res_name=FALSE,threshold=50,score_name='log2FoldChange',stat_name='pvalue',up_label='resistance_hit',down_label='sensitivity_hit'){\n",
    "    # create dataframe \n",
    "    df <- res %>% data.frame %>% \n",
    "        rownames_to_column('sgRNA') %>% rowwise %>% mutate(gene=str_split(sgRNA,\"_\")[[1]][1]) %>% column_to_rownames('sgRNA') %>%\n",
    "        select(gene,score_name,stat_name)\n",
    "    \n",
    "    colnames(df) <- c('gene','score','stat')\n",
    "    # df$score = df$score %>% as.double\n",
    "    # df$stat = df$stat %>% as.double\n",
    "    \n",
    "    # label non-targeting as pseudogene\n",
    "    df$label = \".\"\n",
    "    df %>% mutate(label = replace(label, gene == 'non-targeting', 'pseudo')) -> df\n",
    "\n",
    "    # calculate pseudogene sd\n",
    "    pseudo_sd <- df %>% filter(label=='pseudo') %>% select(score) %>% as.list %>% unlist %>% sd\n",
    "\n",
    "    df %>%\n",
    "        mutate(label = replace(\n",
    "            label,score > 0 & label != \"pseudo\" & score / pseudo_sd * -log10(stat) >= threshold, up_label\n",
    "        ))-> df\n",
    "    df %>%\n",
    "        mutate(label = replace(\n",
    "            label,score < 0 & label != \"pseudo\" & score / pseudo_sd * -log10(stat) <= -threshold, down_label\n",
    "        )) -> df\n",
    "    df %>%\n",
    "        mutate(label = replace(label, label == '.', 'gene_non_hit')) -> df\n",
    "\n",
    "    # reorder factors\n",
    "    df$label <- factor(df$label, levels = c(down_label,up_label,'gene_non_hit','pseudo'))\n",
    "    \n",
    "    if (res_name !=FALSE){\n",
    "        colnames(df) <- c('gene',\n",
    "                          paste0(res_name,'.',score_name),\n",
    "                          paste0(res_name,'.',stat_name),\n",
    "                          'label')\n",
    "    }    \n",
    "    \n",
    "    return (df)\n",
    "}"
   ]
  },
  {
   "cell_type": "code",
   "execution_count": 217,
   "metadata": {},
   "outputs": [],
   "source": [
    "plot_volcano <- function(df,threshold = 50,xlabel='log2FC',xlim=2){ \n",
    "    \n",
    "    # calculate pseudogene sd\n",
    "    pseudo_sd <- df %>% filter(label=='pseudo') %>% select(score) %>% as.list %>% unlist %>% sd\n",
    "    draw_threshold <- function(x){threshold * pseudo_sd * sign(x)/(x)}\n",
    "\n",
    "    p <- df %>% drop_na %>%\n",
    "        ggplot(aes(x=score,y=-1*log10(stat)) ) + \n",
    "        geom_point(\n",
    "            data = df %>% filter(label=='pseudo'), \n",
    "            alpha=1/100, size = 1, color = 'gray80') +\n",
    "        geom_point(\n",
    "            data = df %>% filter(label=='gene_non_hit'), \n",
    "            alpha=10/100, size = 1, color = 'gray90') +\n",
    "        geom_point(\n",
    "            data = df %>% filter(label=='resistance_hit'), \n",
    "            alpha=80/100, size = 2, color = '#fcae91') + \n",
    "        geom_point(\n",
    "            data = df %>% filter(label=='sensitivity_hit'), \n",
    "            alpha=80/100, size = 2, color = '#bdd7e7') +\n",
    "        theme_classic() +\n",
    "        xlim(-xlim, xlim) +\n",
    "        # scale_y_continuous(limits = c(0.5,4.5)) +\n",
    "        # xlab(expression('CRISPRi decitabine phenotype (' * rho * ')')) +\n",
    "        xlab(xlabel) +\n",
    "        ylab(expression('-log'[10] * '(p-value)')) +\n",
    "        stat_function(fun = draw_threshold, linetype = 'dashed', color = 'black') +\n",
    "        scale_color_manual(values = c('#3182bd', '#de2d26'),\n",
    "                           labels = c('Sensitizing Hits', 'Resistance Hits'))\n",
    "    \n",
    "    p <- p + theme(axis.text.x = element_text(size = 15, color = 'black'),\n",
    "          axis.text.y = element_text(size = 15, color = 'black'),\n",
    "          axis.title.x = element_text(size = 16),\n",
    "          axis.title.y = element_text(size = 16),\n",
    "          legend.title = element_blank(),\n",
    "          legend.text = element_text(size = rel(1.5), color = 'black'),\n",
    "          legend.position = 'right'\n",
    "          )\n",
    "    \n",
    "    return (p)\n",
    "}\n",
    "\n",
    "label_sensitivity_hit <- function(p,dd, t_x = -0.2, t_y = -0.1){\n",
    "    p + geom_point(\n",
    "        data = dd, \n",
    "        size = 3, shape=21,\n",
    "        stroke=0.5, \n",
    "        colour = \"grey30\", fill = \"#3182bd\"\n",
    "    ) + \n",
    "    geom_text_repel(data = dd,\n",
    "                    aes(label=gene),\n",
    "                    color = 'black', size = 4.5, nudge_x = t_x, nudge_y = t_y)\n",
    "}\n",
    "\n",
    "label_resistance_hit <- function(p,dd, t_x = 0.2, t_y = 0.1){\n",
    "    p + geom_point(\n",
    "        data = dd, \n",
    "        size = 3, shape=21,\n",
    "        stroke=0.5, \n",
    "        colour = \"grey30\", fill = \"#de2d26\"\n",
    "    ) + \n",
    "    geom_text_repel(data = dd,\n",
    "                    aes(label=gene),\n",
    "                    color = 'black', size = 4.5, nudge_x = t_x, nudge_y = t_y)\n",
    "}"
   ]
  },
  {
   "cell_type": "code",
   "execution_count": 218,
   "metadata": {},
   "outputs": [
    {
     "data": {
      "text/html": [
       "<style>\n",
       ".list-inline {list-style: none; margin:0; padding: 0}\n",
       ".list-inline>li {display: inline-block}\n",
       ".list-inline>li:not(:last-child)::after {content: \"\\00b7\"; padding: 0 .5ex}\n",
       "</style>\n",
       "<ol class=list-inline><li>'gamma.DMSO_vs_T0'</li><li>'tau.RM6_vs_T0'</li><li>'tau.RSL3_vs_T0'</li><li>'rho.RM6_vs_DMSO'</li><li>'rho.RSL3_vs_DMSO'</li><li>'kappa.RM6+RSL3_vs_RM6'</li><li>'kappa.RM6+RSL3_vs_RSL3'</li><li>'rho.RM6+RSL3_vs_DMSO'</li></ol>\n"
      ],
      "text/latex": [
       "\\begin{enumerate*}\n",
       "\\item 'gamma.DMSO\\_vs\\_T0'\n",
       "\\item 'tau.RM6\\_vs\\_T0'\n",
       "\\item 'tau.RSL3\\_vs\\_T0'\n",
       "\\item 'rho.RM6\\_vs\\_DMSO'\n",
       "\\item 'rho.RSL3\\_vs\\_DMSO'\n",
       "\\item 'kappa.RM6+RSL3\\_vs\\_RM6'\n",
       "\\item 'kappa.RM6+RSL3\\_vs\\_RSL3'\n",
       "\\item 'rho.RM6+RSL3\\_vs\\_DMSO'\n",
       "\\end{enumerate*}\n"
      ],
      "text/markdown": [
       "1. 'gamma.DMSO_vs_T0'\n",
       "2. 'tau.RM6_vs_T0'\n",
       "3. 'tau.RSL3_vs_T0'\n",
       "4. 'rho.RM6_vs_DMSO'\n",
       "5. 'rho.RSL3_vs_DMSO'\n",
       "6. 'kappa.RM6+RSL3_vs_RM6'\n",
       "7. 'kappa.RM6+RSL3_vs_RSL3'\n",
       "8. 'rho.RM6+RSL3_vs_DMSO'\n",
       "\n",
       "\n"
      ],
      "text/plain": [
       "[1] \"gamma.DMSO_vs_T0\"       \"tau.RM6_vs_T0\"          \"tau.RSL3_vs_T0\"        \n",
       "[4] \"rho.RM6_vs_DMSO\"        \"rho.RSL3_vs_DMSO\"       \"kappa.RM6+RSL3_vs_RM6\" \n",
       "[7] \"kappa.RM6+RSL3_vs_RSL3\" \"rho.RM6+RSL3_vs_DMSO\"  "
      ]
     },
     "metadata": {},
     "output_type": "display_data"
    }
   ],
   "source": [
    "names(RES)\n",
    "# %>% group_by(label) %>% count"
   ]
  },
  {
   "cell_type": "code",
   "execution_count": 219,
   "metadata": {},
   "outputs": [
    {
     "data": {
      "image/png": "[encoded data removed]",
      "text/plain": [
       "plot without title"
      ]
     },
     "metadata": {
      "image/png": {
       "height": 420,
       "width": 420
      }
     },
     "output_type": "display_data"
    }
   ],
   "source": [
    "RES[[\"rho.RM6_vs_DMSO\"]] %>% ann_res %>% plot_volcano(xlim=15,xlabel='rho.RM6_vs_DMSO') / \n",
    "RES[[\"rho.RSL3_vs_DMSO\"]] %>% ann_res %>% plot_volcano(threshold=threshold,xlim=15,xlabel='rho.RSL3_vs_DMSO') /\n",
    "RES[[\"rho.RM6+RSL3_vs_DMSO\"]] %>% ann_res %>% plot_volcano(threshold=threshold,xlim=15,xlabel='rho.RM6+RSL3_vs_DMSO') "
   ]
  },
  {
   "cell_type": "code",
   "execution_count": 220,
   "metadata": {},
   "outputs": [
    {
     "name": "stderr",
     "output_type": "stream",
     "text": [
      "Warning message:\n",
      "“Transformation introduced infinite values in continuous y-axis”\n"
     ]
    },
    {
     "data": {
      "image/png": "[encoded data removed]",
      "text/plain": [
       "plot without title"
      ]
     },
     "metadata": {
      "image/png": {
       "height": 420,
       "width": 420
      }
     },
     "output_type": "display_data"
    }
   ],
   "source": [
    "RES[[\"rho.RM6_vs_DMSO\"]] %>% ann_res %>% ggplot(aes(x=stat)) + \n",
    "    geom_histogram(bins=50,fill=\"darkgreen\",position=\"identity\") + \n",
    "    facet_grid(label ~ .) +\n",
    "    scale_color_brewer(palette=\"Dark2\")+\n",
    "    scale_fill_brewer(palette=\"Dark2\")+\n",
    "    scale_y_continuous(trans='log10') + \n",
    "    xlab('p-value') +\n",
    "    theme_classic() + \n",
    "    theme(axis.text.x = element_text(size = 15, color = 'black'),\n",
    "          axis.text.y = element_text(size = 15, color = 'black'),\n",
    "          axis.title.x = element_text(size = 16),\n",
    "          axis.title.y = element_text(size = 16),\n",
    "          legend.title = element_blank(),\n",
    "          legend.text = element_text(size = rel(1.5), color = 'black'),\n",
    "          legend.position = 'right'\n",
    "          )\n"
   ]
  },
  {
   "cell_type": "markdown",
   "metadata": {},
   "source": [
    "___\n",
    "Check top hit."
   ]
  },
  {
   "cell_type": "code",
   "execution_count": 283,
   "metadata": {},
   "outputs": [],
   "source": [
    "RES[[\"rho.RM6_vs_DMSO\"]] %>% as.data.frame %>% arrange(desc(abs(log2FoldChange))) %>% rownames -> x "
   ]
  },
  {
   "cell_type": "code",
   "execution_count": 284,
   "metadata": {},
   "outputs": [
    {
     "data": {
      "text/html": [
       "<table class=\"dataframe\">\n",
       "<caption>A data.frame: 1 × 6</caption>\n",
       "<thead>\n",
       "\t<tr><th></th><th scope=col>baseMean</th><th scope=col>log2FoldChange</th><th scope=col>lfcSE</th><th scope=col>stat</th><th scope=col>pvalue</th><th scope=col>padj</th></tr>\n",
       "\t<tr><th></th><th scope=col>&lt;dbl&gt;</th><th scope=col>&lt;dbl&gt;</th><th scope=col>&lt;dbl&gt;</th><th scope=col>&lt;dbl&gt;</th><th scope=col>&lt;dbl&gt;</th><th scope=col>&lt;dbl&gt;</th></tr>\n",
       "</thead>\n",
       "<tbody>\n",
       "\t<tr><th scope=row>RPS20_+_56987038.23-P1P2|RPS20_+_56986933.23-P1P2++RPS20_+_56987038.23-P1P2|RPS20_+_56986933.23-P1P2</th><td>42.8778</td><td>6.756786</td><td>1.039523</td><td>102.6475</td><td>2.685795e-21</td><td>1.213324e-19</td></tr>\n",
       "</tbody>\n",
       "</table>\n"
      ],
      "text/latex": [
       "A data.frame: 1 × 6\n",
       "\\begin{tabular}{r|llllll}\n",
       "  & baseMean & log2FoldChange & lfcSE & stat & pvalue & padj\\\\\n",
       "  & <dbl> & <dbl> & <dbl> & <dbl> & <dbl> & <dbl>\\\\\n",
       "\\hline\n",
       "\tRPS20\\_+\\_56987038.23-P1P2\\textbar{}RPS20\\_+\\_56986933.23-P1P2++RPS20\\_+\\_56987038.23-P1P2\\textbar{}RPS20\\_+\\_56986933.23-P1P2 & 42.8778 & 6.756786 & 1.039523 & 102.6475 & 2.685795e-21 & 1.213324e-19\\\\\n",
       "\\end{tabular}\n"
      ],
      "text/markdown": [
       "\n",
       "A data.frame: 1 × 6\n",
       "\n",
       "| <!--/--> | baseMean &lt;dbl&gt; | log2FoldChange &lt;dbl&gt; | lfcSE &lt;dbl&gt; | stat &lt;dbl&gt; | pvalue &lt;dbl&gt; | padj &lt;dbl&gt; |\n",
       "|---|---|---|---|---|---|---|\n",
       "| RPS20_+_56987038.23-P1P2|RPS20_+_56986933.23-P1P2++RPS20_+_56987038.23-P1P2|RPS20_+_56986933.23-P1P2 | 42.8778 | 6.756786 | 1.039523 | 102.6475 | 2.685795e-21 | 1.213324e-19 |\n",
       "\n"
      ],
      "text/plain": [
       "                                                                                                     baseMean\n",
       "RPS20_+_56987038.23-P1P2|RPS20_+_56986933.23-P1P2++RPS20_+_56987038.23-P1P2|RPS20_+_56986933.23-P1P2 42.8778 \n",
       "                                                                                                     log2FoldChange\n",
       "RPS20_+_56987038.23-P1P2|RPS20_+_56986933.23-P1P2++RPS20_+_56987038.23-P1P2|RPS20_+_56986933.23-P1P2 6.756786      \n",
       "                                                                                                     lfcSE   \n",
       "RPS20_+_56987038.23-P1P2|RPS20_+_56986933.23-P1P2++RPS20_+_56987038.23-P1P2|RPS20_+_56986933.23-P1P2 1.039523\n",
       "                                                                                                     stat    \n",
       "RPS20_+_56987038.23-P1P2|RPS20_+_56986933.23-P1P2++RPS20_+_56987038.23-P1P2|RPS20_+_56986933.23-P1P2 102.6475\n",
       "                                                                                                     pvalue      \n",
       "RPS20_+_56987038.23-P1P2|RPS20_+_56986933.23-P1P2++RPS20_+_56987038.23-P1P2|RPS20_+_56986933.23-P1P2 2.685795e-21\n",
       "                                                                                                     padj        \n",
       "RPS20_+_56987038.23-P1P2|RPS20_+_56986933.23-P1P2++RPS20_+_56987038.23-P1P2|RPS20_+_56986933.23-P1P2 1.213324e-19"
      ]
     },
     "metadata": {},
     "output_type": "display_data"
    }
   ],
   "source": [
    "RES[[\"rho.RM6_vs_DMSO\"]][x[1],] %>% data.frame "
   ]
  },
  {
   "cell_type": "code",
   "execution_count": 288,
   "metadata": {},
   "outputs": [
    {
     "data": {
      "image/png": "[encoded data removed]",
      "text/plain": [
       "Plot with title “RPS20_+_56987038.23-P1P2|RPS20_+_56986933.23-P1P2++RPS20_+_56987038.23-P1P2|RPS20_+_56986933.23-P1P2”"
      ]
     },
     "metadata": {
      "image/png": {
       "height": 420,
       "width": 420
      }
     },
     "output_type": "display_data"
    }
   ],
   "source": [
    "plotCounts(lrt_dds,x[1],intgroup=c('Drug'))"
   ]
  },
  {
   "cell_type": "markdown",
   "metadata": {
    "tags": []
   },
   "source": [
    "## Save files"
   ]
  },
  {
   "cell_type": "markdown",
   "metadata": {},
   "source": [
    "Save the object as RDS"
   ]
  },
  {
   "cell_type": "code",
   "execution_count": 221,
   "metadata": {},
   "outputs": [],
   "source": [
    "DESeq2_filename = 'DESeq2_results/dds.rds'\n",
    "saveRDS(lrt_dds, DESeq2_filename)"
   ]
  },
  {
   "cell_type": "markdown",
   "metadata": {},
   "source": [
    "Also save the object as a dataframe so that I can read it in python later"
   ]
  },
  {
   "cell_type": "code",
   "execution_count": 253,
   "metadata": {},
   "outputs": [
    {
     "name": "stdout",
     "output_type": "stream",
     "text": [
      "[1] \"gamma.DMSO_vs_T0\"\n",
      "            label     n\n",
      "1 sensitivity_hit  1332\n",
      "2  resistance_hit     6\n",
      "3    gene_non_hit 18733\n",
      "4          pseudo  1026\n",
      "[1] \"tau.RM6_vs_T0\"\n",
      "            label     n\n",
      "1 sensitivity_hit  1064\n",
      "2  resistance_hit    14\n",
      "3    gene_non_hit 18993\n",
      "4          pseudo  1026\n",
      "[1] \"tau.RSL3_vs_T0\"\n",
      "            label     n\n",
      "1 sensitivity_hit  1195\n",
      "2  resistance_hit     4\n",
      "3    gene_non_hit 18872\n",
      "4          pseudo  1026\n",
      "[1] \"tau.RM6+RSL3_vs_T0\"\n",
      "            label     n\n",
      "1 sensitivity_hit   975\n",
      "2  resistance_hit    14\n",
      "3    gene_non_hit 19082\n",
      "4          pseudo  1026\n",
      "[1] \"rho.RM6_vs_DMSO\"\n",
      "            label     n\n",
      "1 sensitivity_hit    12\n",
      "2  resistance_hit  1229\n",
      "3    gene_non_hit 18830\n",
      "4          pseudo  1026\n",
      "[1] \"rho.RSL3_vs_DMSO\"\n",
      "            label     n\n",
      "1 sensitivity_hit    87\n",
      "2  resistance_hit   454\n",
      "3    gene_non_hit 19530\n",
      "4          pseudo  1026\n",
      "[1] \"rho.RM6+RSL3_vs_DMSO\"\n",
      "            label     n\n",
      "1 sensitivity_hit    35\n",
      "2  resistance_hit  1031\n",
      "3    gene_non_hit 19005\n",
      "4          pseudo  1026\n",
      "[1] \"kappa.RM6+RSL3_vs_RM6\"\n",
      "            label     n\n",
      "1 sensitivity_hit   342\n",
      "2  resistance_hit    86\n",
      "3    gene_non_hit 19643\n",
      "4          pseudo  1026\n",
      "[1] \"kappa.RM6+RSL3_vs_RSL3\"\n",
      "            label     n\n",
      "1 sensitivity_hit    54\n",
      "2  resistance_hit   786\n",
      "3    gene_non_hit 19231\n",
      "4          pseudo  1026\n"
     ]
    }
   ],
   "source": [
    "RES_dfs = list()\n",
    "\n",
    "for (name in names(RES)){\n",
    "    print (name)\n",
    "    RES[[name]]%>% ann_res %>% group_by(label) %>% count %>% data.frame %>% print \n",
    "    RES[[name]]%>% \n",
    "        ann_res(res_name=name) %>% \n",
    "        write.table(paste0('DESeq2_results/',name,'.txt'), quote = F, sep=\"\\t\", row.names = T)\n",
    "}"
   ]
  },
  {
   "cell_type": "markdown",
   "metadata": {},
   "source": [
    "## "
   ]
  },
  {
   "cell_type": "code",
   "execution_count": 289,
   "metadata": {},
   "outputs": [
    {
     "data": {
      "text/plain": [
       "R version 4.1.1 (2021-08-10)\n",
       "Platform: x86_64-conda-linux-gnu (64-bit)\n",
       "Running under: CentOS Linux 7 (Core)\n",
       "\n",
       "Matrix products: default\n",
       "BLAS/LAPACK: /data_gilbert/home/aarab/anaconda3/envs/deseq2/lib/libopenblasp-r0.3.18.so\n",
       "\n",
       "locale:\n",
       " [1] LC_CTYPE=en_US.UTF-8       LC_NUMERIC=C              \n",
       " [3] LC_TIME=en_US.UTF-8        LC_COLLATE=en_US.UTF-8    \n",
       " [5] LC_MONETARY=en_US.UTF-8    LC_MESSAGES=en_US.UTF-8   \n",
       " [7] LC_PAPER=en_US.UTF-8       LC_NAME=C                 \n",
       " [9] LC_ADDRESS=C               LC_TELEPHONE=C            \n",
       "[11] LC_MEASUREMENT=en_US.UTF-8 LC_IDENTIFICATION=C       \n",
       "\n",
       "attached base packages:\n",
       "[1] stats4    stats     graphics  grDevices utils     datasets  methods  \n",
       "[8] base     \n",
       "\n",
       "other attached packages:\n",
       " [1] patchwork_1.1.1             forcats_0.5.1              \n",
       " [3] stringr_1.4.0               dplyr_1.0.7                \n",
       " [5] purrr_0.3.4                 readr_2.0.2                \n",
       " [7] tidyr_1.1.4                 tibble_3.1.6               \n",
       " [9] ggplot2_3.3.5               tidyverse_1.3.1            \n",
       "[11] DESeq2_1.34.0               SummarizedExperiment_1.24.0\n",
       "[13] Biobase_2.54.0              MatrixGenerics_1.6.0       \n",
       "[15] matrixStats_0.61.0          GenomicRanges_1.46.0       \n",
       "[17] GenomeInfoDb_1.30.0         IRanges_2.28.0             \n",
       "[19] S4Vectors_0.32.0            BiocGenerics_0.40.0        \n",
       "\n",
       "loaded via a namespace (and not attached):\n",
       " [1] bitops_1.0-7           fs_1.5.0               lubridate_1.8.0       \n",
       " [4] bit64_4.0.5            RColorBrewer_1.1-2     httr_1.4.2            \n",
       " [7] repr_1.1.3             tools_4.1.1            backports_1.3.0       \n",
       "[10] utf8_1.2.2             R6_2.5.1               DBI_1.1.1             \n",
       "[13] colorspace_2.0-2       withr_2.4.2            tidyselect_1.1.1      \n",
       "[16] bit_4.0.4              compiler_4.1.1         cli_3.1.0             \n",
       "[19] rvest_1.0.2            xml2_1.3.2             DelayedArray_0.20.0   \n",
       "[22] labeling_0.4.2         scales_1.1.1           genefilter_1.76.0     \n",
       "[25] pbdZMQ_0.3-6           digest_0.6.28          XVector_0.34.0        \n",
       "[28] base64enc_0.1-3        pkgconfig_2.0.3        htmltools_0.5.2       \n",
       "[31] dbplyr_2.1.1           fastmap_1.1.0          rlang_0.4.12          \n",
       "[34] readxl_1.3.1           rstudioapi_0.13        RSQLite_2.2.8         \n",
       "[37] farver_2.1.0           generics_0.1.1         jsonlite_1.7.2        \n",
       "[40] BiocParallel_1.28.0    RCurl_1.98-1.5         magrittr_2.0.1        \n",
       "[43] GenomeInfoDbData_1.2.7 Matrix_1.3-4           Rcpp_1.0.7            \n",
       "[46] IRkernel_1.2           munsell_0.5.0          fansi_0.4.2           \n",
       "[49] lifecycle_1.0.1        stringi_1.7.5          zlibbioc_1.40.0       \n",
       "[52] grid_4.1.1             blob_1.2.2             parallel_4.1.1        \n",
       "[55] crayon_1.4.2           lattice_0.20-45        IRdisplay_1.0         \n",
       "[58] Biostrings_2.62.0      haven_2.4.3            splines_4.1.1         \n",
       "[61] annotate_1.72.0        hms_1.1.1              KEGGREST_1.34.0       \n",
       "[64] locfit_1.5-9.4         pillar_1.6.4           uuid_1.0-3            \n",
       "[67] geneplotter_1.72.0     reprex_2.0.1           XML_3.99-0.8          \n",
       "[70] glue_1.5.0             evaluate_0.14          modelr_0.1.8          \n",
       "[73] png_0.1-7              vctrs_0.3.8            tzdb_0.2.0            \n",
       "[76] cellranger_1.1.0       gtable_0.3.0           assertthat_0.2.1      \n",
       "[79] cachem_1.0.6           xtable_1.8-4           broom_0.7.10          \n",
       "[82] survival_3.2-13        AnnotationDbi_1.56.1   memoise_2.0.0         \n",
       "[85] ellipsis_0.3.2        "
      ]
     },
     "metadata": {},
     "output_type": "display_data"
    }
   ],
   "source": [
    "sessionInfo()"
   ]
  }
 ],
 "metadata": {
  "kernelspec": {
   "display_name": "Python [conda env:scverse]",
   "language": "python",
   "name": "conda-env-scverse-py"
  },
  "language_info": {
   "codemirror_mode": {
    "name": "ipython",
    "version": 3
   },
   "file_extension": ".py",
   "mimetype": "text/x-python",
   "name": "python",
   "nbconvert_exporter": "python",
   "pygments_lexer": "ipython3",
   "version": "3.10.10"
  }
 },
 "nbformat": 4,
 "nbformat_minor": 4
}
