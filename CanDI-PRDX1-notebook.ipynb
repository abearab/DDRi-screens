{
 "cells": [
  {
   "cell_type": "code",
   "execution_count": 1,
   "id": "9bb09ba7",
   "metadata": {},
   "outputs": [],
   "source": [
    "import pandas as pd \n",
    "import numpy as np\n",
    "import matplotlib.pyplot as plt\n",
    "from mpl_toolkits.axes_grid1 import make_axes_locatable\n",
    "from adjustText import adjust_text # https://stackoverflow.com/questions/34693991/repel-annotations-in-matplotlib\n",
    "\n",
    "import sys\n",
    "sys.path.append('/rumi/shams/abe/CanDI/')\n",
    "from CanDI import candi as can"
   ]
  },
  {
   "cell_type": "code",
   "execution_count": 60,
   "id": "16995265",
   "metadata": {},
   "outputs": [],
   "source": [
    "# import stringdb\n",
    "\n",
    "# def run_enrichment(genes):\n",
    "#     string_ids = stringdb.get_string_ids(genes)\n",
    "#     enrichment_df = stringdb.get_enrichment(string_ids.queryItem).sort_values('number_of_genes',ascending=False)\n",
    "    \n",
    "#     df = enrichment_df[[\n",
    "#         'inputGenes','p_value','fdr','description','term','number_of_genes','number_of_genes_in_background'\n",
    "#     ]]\n",
    "    \n",
    "#     return df"
   ]
  },
  {
   "cell_type": "markdown",
   "id": "d3f5b2c7",
   "metadata": {},
   "source": [
    "## CanDI analysis "
   ]
  },
  {
   "cell_type": "code",
   "execution_count": 61,
   "id": "607af5b2",
   "metadata": {},
   "outputs": [],
   "source": [
    "_ = can.data.load('mutations')"
   ]
  },
  {
   "cell_type": "code",
   "execution_count": 62,
   "id": "7143d661",
   "metadata": {},
   "outputs": [],
   "source": [
    "def intersection(lst1, lst2):\n",
    "    return list(set(lst1) & set(lst2))\n",
    "\n",
    "\n",
    "def pretty_print_attr(obj):\n",
    "    attr = []\n",
    "    ls_attr = []\n",
    "    meth = []\n",
    "    for i in dir(obj):\n",
    "        if \"_\" != i[0]:\n",
    "            if type(getattr(obj, i)) == str or type(getattr(obj, i)) == int:\n",
    "                attr.append(i)\n",
    "            elif type(getattr(obj, i)) == list:\n",
    "                ls_attr.append(i)\n",
    "            else:\n",
    "                meth.append(i)\n",
    "\n",
    "    print(\"Attributes:\\n\")\n",
    "    for i in attr: print(i+\":\", getattr(obj, i))\n",
    "    for i in ls_attr: print(i+\" list first item:\", getattr(obj, i)[0])\n",
    "    for i in ls_attr: print(i+\" length:\", len(getattr(obj, i)))\n",
    "    print(\"\\nMethods:\\n\")\n",
    "    for i in meth: print(i)"
   ]
  },
  {
   "cell_type": "code",
   "execution_count": 329,
   "id": "3d4c52ad",
   "metadata": {},
   "outputs": [],
   "source": [
    "def mt_wt_objs(cancer, mt_id_list):#genes):\n",
    "    # Cell lines with mutation\n",
    "    # mt_list = cancer.mutated(genes)\n",
    "    mt = can.CellLineCluster(mt_id_list) \n",
    "\n",
    "    wt_id_list = list(set(cancer.depmap_ids) - set(mt_id_list)) \n",
    "\n",
    "    wt = can.CellLineCluster(wt_id_list) \n",
    "    print (f'#of mutated cell lines:\\n\\t{len(mt.depmap_ids)}')\n",
    "    print (f'#of wildtype cell lines:\\n\\t{len(wt.depmap_ids)}')\n",
    "    \n",
    "    return mt, wt"
   ]
  },
  {
   "cell_type": "code",
   "execution_count": 262,
   "id": "033bc9d3",
   "metadata": {},
   "outputs": [],
   "source": [
    "def gene_effect_heatmap(obj1, obj2, genes, name = None, figsize=(16, 6)):\n",
    "    #Make Figure appropriate size, dpi, and font\n",
    "    plt.rcParams.update({\"figure.figsize\": figsize,\n",
    "                        \"savefig.dpi\": 300,\n",
    "                        \"font.size\": 8\n",
    "                        })\n",
    "\n",
    "    #One figure with one subplot\n",
    "    fig, ax = plt.subplots(1,1)\n",
    "\n",
    "    #Construcat matrix to make heatmap and cell line labels\n",
    "    data = pd.concat([obj1.effect_of(genes), obj2.effect_of(genes)], axis=1)\n",
    "    names = can.data.cell_lines.loc[data.columns, \"cell_line_name\"]\n",
    "\n",
    "    # We want to show all ticks...\n",
    "    ax.set_xticks(np.arange(len(names)))\n",
    "    ax.set_yticks(np.arange(len(genes)))\n",
    "    # ... and label them with the respective list entries\n",
    "    ax.set_xticklabels(names)\n",
    "    ax.set_yticklabels(genes)\n",
    "\n",
    "    #make heatmap\n",
    "    im = ax.imshow(data, cmap=\"RdBu\")\n",
    "\n",
    "    #Make colorbar scale to axis\n",
    "    divider = make_axes_locatable(ax)\n",
    "    cax = divider.append_axes(\"right\", size=\"5%\", pad=0.1)\n",
    "    cbar = ax.figure.colorbar(im, ax = ax, cax = cax)\n",
    "    cbar.ax.set_ylabel(\"Gene Effect\", rotation=-90, va=\"bottom\")\n",
    "\n",
    "    #Draw Dividing line btween mutant and\n",
    "    ax.axvline(x=obj1.gene_effect.shape[1] - 0.5, c = \"black\", linewidth = 3)\n",
    "    plt.setp(ax.get_xticklabels(), rotation=-90, ha=\"left\", va=\"center\",\n",
    "         rotation_mode=\"anchor\")\n",
    "    plt.tight_layout()\n",
    "    plt.show()\n",
    "\n",
    "    if name:\n",
    "        fig.savefig(name, dpi=300)"
   ]
  },
  {
   "cell_type": "code",
   "execution_count": 366,
   "id": "e9d0561a",
   "metadata": {},
   "outputs": [],
   "source": [
    "def gene_effect_scatter(obj1, obj2, genes=None, name_scatter='', return_data=False, return_plot=True, save_plot=None):\n",
    "\n",
    "    # Average Gene Effect \n",
    "    if len(obj1.depmap_ids) > 1:\n",
    "        obj1_effect = obj1.gene_dependency.mean(1)\n",
    "    else:\n",
    "        obj1_effect = obj1.gene_dependency\n",
    "\n",
    "    if len(obj2.depmap_ids) > 1:\n",
    "        obj2_effect = obj2.gene_dependency.mean(1)\n",
    "\n",
    "    if return_data:\n",
    "        return obj1_effect, obj2_effect\n",
    "    \n",
    "    if return_plot:\n",
    "        #Make Figure appropriate size, dpi, and font\n",
    "        plt.rcParams.update({\"figure.figsize\": (8, 8),\n",
    "                            \"savefig.dpi\": 300,\n",
    "                            \"font.family\": \"sans-serif\",\n",
    "                            \"font.size\": 12\n",
    "                            })\n",
    "\n",
    "        #Generate Figure and Axis objects\n",
    "        fig, ax = plt.subplots(1,1)\n",
    "\n",
    "        #Label Axes\n",
    "        ax.set_xlabel(f\"{name_scatter} MT Average Gene Effect (CERES Score)\")\n",
    "        ax.set_ylabel(f\"{name_scatter} WT Average Gene Effect (CERES Score)\")\n",
    "\n",
    "        #Draw Line at median common essential value\n",
    "        ax.axhline(y = 0.50,\n",
    "                   c = \"black\",\n",
    "                   linewidth=0.5,\n",
    "                   label = \"Minimun Gene Dependencey Probability\"\n",
    "                  )\n",
    "\n",
    "        ax.axvline(x = 0.50,\n",
    "                   c= \"black\",\n",
    "                   linewidth=0.5)\n",
    "\n",
    "        #Plot all genes\n",
    "        ax.scatter(obj1_effect,\n",
    "                   obj2_effect,\n",
    "                   c = \"#2166ac\",\n",
    "                   alpha = 0.1,\n",
    "                   s = 50\n",
    "                  )\n",
    "\n",
    "        ax.legend()\n",
    "\n",
    "        if genes:\n",
    "            #For Labeling\n",
    "            if type(genes) != list:\n",
    "                obj1_lab = obj1_effect.loc[[genes]]\n",
    "                obj2_lab = obj2_effect.loc[[genes]]\n",
    "            else:\n",
    "                obj1_lab = obj1_effect.loc[genes]\n",
    "                obj2_lab = obj2_effect.loc[genes]\n",
    "            # Outline Genes To label\n",
    "            ax.scatter(obj1_lab,\n",
    "                       obj2_lab,\n",
    "                       c = \"#2166ac\",\n",
    "                       s = 50,\n",
    "                       edgecolor = \"black\",\n",
    "                       linewidth = 2,\n",
    "                       alpha = 0.7\n",
    "                      )\n",
    "        #     for i in range(mt_lab.shape[0]):\n",
    "        #         text = list(mt_lab.index)\n",
    "        #         ax.annotate(text[i],\n",
    "        #                     xy = (mt_lab[i], wt_lab[i]),\n",
    "        #                     xytext = label[i],\n",
    "        #                     xycoords = \"data\",\n",
    "        #                     arrowprops = {\"arrowstyle\": \"-\"}\n",
    "        #                    )\n",
    "            texts = []\n",
    "            for x, y, s in zip(obj1_lab,obj2_lab, obj1_lab.index.tolist()):\n",
    "                texts.append(plt.text(x, y, s))\n",
    "\n",
    "            adjust_text(\n",
    "                texts, force_points=0.2, force_text=0.1,\n",
    "                expand_points=(2, 2), \n",
    "                expand_text=(2, 2),\n",
    "                arrowprops=dict(arrowstyle=\"-\", color='black', lw=0.2)\n",
    "            )\n",
    "\n",
    "        plt.show()\n",
    "\n",
    "        if save_plot:\n",
    "            fig.savefig(save_plot, dpi=300)"
   ]
  },
  {
   "cell_type": "code",
   "execution_count": 65,
   "id": "79faffaa",
   "metadata": {},
   "outputs": [],
   "source": [
    "cell_lines = can.data.cell_lines\n",
    "genes = can.data.genes.index.tolist()"
   ]
  },
  {
   "cell_type": "code",
   "execution_count": 125,
   "id": "80539aa7",
   "metadata": {},
   "outputs": [],
   "source": [
    "# Sara: PRDX1, RAD51, ATM, ATRX"
   ]
  },
  {
   "cell_type": "code",
   "execution_count": 246,
   "id": "6f9d2219",
   "metadata": {},
   "outputs": [],
   "source": [
    "import os, inspect, sys\n",
    "sys.path.append('/rumi/shams/abe/Projects/ipage-down/')\n",
    "import ipage_down as ipd\n",
    "\n",
    "gs_clst= 'msigdb_v7.4_c5.go'\n",
    "ANNDIR = f'{os.path.dirname(inspect.getfile(ipd))}/annotations'\n",
    "\n",
    "pws = {}\n",
    "\n",
    "for pattern in ['REPAIR','DAMAGE','BREAK']:\n",
    "    for gs in ipd.search_page_names(pattern,f'{ANNDIR}/{gs_clst}/{gs_clst}_names.txt'):\n",
    "        pws.update(\n",
    "            ipd.read_page_annotations(\n",
    "                gs[0], gs_clst,ANNDIR,\n",
    "                gz=False\n",
    "            )\n",
    "        )"
   ]
  },
  {
   "cell_type": "code",
   "execution_count": 123,
   "id": "eb443171",
   "metadata": {},
   "outputs": [],
   "source": [
    "# help(ipd)"
   ]
  },
  {
   "cell_type": "code",
   "execution_count": 161,
   "id": "45c80091",
   "metadata": {},
   "outputs": [],
   "source": [
    "Sara_genes = ['PRDX1','RAD51', 'ATM', 'ATRX']"
   ]
  },
  {
   "cell_type": "code",
   "execution_count": 126,
   "id": "08748b3d",
   "metadata": {},
   "outputs": [],
   "source": [
    "lung = can.Cancer(\"Lung Cancer\", subtype=\"NSCLC\")"
   ]
  },
  {
   "cell_type": "code",
   "execution_count": 328,
   "id": "82d126c2",
   "metadata": {},
   "outputs": [
    {
     "data": {
      "text/plain": [
       "array(['Non-Small Cell Lung Cancer (NSCLC), Adenocarcinoma',\n",
       "       'Non-Small Cell Lung Cancer (NSCLC), Large Cell Carcinoma',\n",
       "       'Non-Small Cell Lung Cancer (NSCLC), unspecified',\n",
       "       'Non-Small Cell Lung Cancer (NSCLC), Squamous Cell Carcinoma',\n",
       "       'Non-Small Cell Lung Cancer (NSCLC), Adenosquamous Carcinoma',\n",
       "       'Non-Small Cell Lung Cancer (NSCLC), Mucoepidermoid Carcinoma'],\n",
       "      dtype=object)"
      ]
     },
     "execution_count": 328,
     "metadata": {},
     "output_type": "execute_result"
    }
   ],
   "source": [
    "lung.subtypes"
   ]
  },
  {
   "cell_type": "code",
   "execution_count": 137,
   "id": "c8b23e95",
   "metadata": {},
   "outputs": [
    {
     "data": {
      "text/plain": [
       "186"
      ]
     },
     "execution_count": 137,
     "metadata": {},
     "output_type": "execute_result"
    }
   ],
   "source": [
    "cell_lines.loc[lung.depmap_ids].shape[0]"
   ]
  },
  {
   "cell_type": "markdown",
   "id": "1b3ad2bf",
   "metadata": {},
   "source": [
    "## Find mutated cell lines "
   ]
  },
  {
   "cell_type": "code",
   "execution_count": 1,
   "id": "918f4b4f",
   "metadata": {},
   "outputs": [
    {
     "ename": "NameError",
     "evalue": "name 'can' is not defined",
     "output_type": "error",
     "traceback": [
      "\u001b[0;31m---------------------------------------------------------------------------\u001b[0m",
      "\u001b[0;31mNameError\u001b[0m                                 Traceback (most recent call last)",
      "\u001b[0;32m<ipython-input-1-b4f2a032e0eb>\u001b[0m in \u001b[0;36m<module>\u001b[0;34m\u001b[0m\n\u001b[0;32m----> 1\u001b[0;31m \u001b[0mset\u001b[0m\u001b[0;34m(\u001b[0m\u001b[0mcan\u001b[0m\u001b[0;34m.\u001b[0m\u001b[0mdata\u001b[0m\u001b[0;34m.\u001b[0m\u001b[0mmutations\u001b[0m\u001b[0;34m.\u001b[0m\u001b[0mVariant_Classification\u001b[0m\u001b[0;34m)\u001b[0m\u001b[0;34m\u001b[0m\u001b[0;34m\u001b[0m\u001b[0m\n\u001b[0m",
      "\u001b[0;31mNameError\u001b[0m: name 'can' is not defined"
     ]
    }
   ],
   "source": [
    "set(can.data.mutations.Variant_Classification)"
   ]
  },
  {
   "cell_type": "markdown",
   "id": "f0b09d85",
   "metadata": {
    "tags": []
   },
   "source": [
    "__loss-of-function mutations (?):__\n",
    "- De_novo_Start_OutOfFrame\n",
    "- Frame_Shift_Del\n",
    "- Frame_Shift_Ins\n",
    "<!-- - Missense_Mutation -->\n",
    "- Nonsense_Mutation\n",
    "- Nonstop_Mutation\n",
    "- Start_Codon_Del"
   ]
  },
  {
   "cell_type": "code",
   "execution_count": 310,
   "id": "d7910dc0",
   "metadata": {},
   "outputs": [
    {
     "data": {
      "text/plain": [
       "{'ATM': {'ACH-000030': 'PC-14',\n",
       "  'ACH-000327': 'NCI-H1395',\n",
       "  'ACH-000343': 'NCI-H522',\n",
       "  'ACH-000395': 'NCI-H520',\n",
       "  'ACH-000448': 'NCI-H1666',\n",
       "  'ACH-000563': 'EBC-1',\n",
       "  'ACH-000627': 'LCLC-103H',\n",
       "  'ACH-000675': 'NCI-H1734',\n",
       "  'ACH-000690': 'HCC-2814',\n",
       "  'ACH-000700': nan,\n",
       "  'ACH-000733': 'NCI-H1838',\n",
       "  'ACH-000747': 'NCI-H1703',\n",
       "  'ACH-000779': nan,\n",
       "  'ACH-000787': 'LXF-289',\n",
       "  'ACH-000789': 'NCI-H810',\n",
       "  'ACH-000840': 'HCC-366',\n",
       "  'ACH-000841': 'NCI-H2087',\n",
       "  'ACH-000843': 'HARA',\n",
       "  'ACH-000845': 'NCI-H1373',\n",
       "  'ACH-000869': 'NCI-H1568',\n",
       "  'ACH-000900': 'NCI-H23',\n",
       "  'ACH-000924': 'NCI-H2172',\n",
       "  'ACH-000929': 'NCI-H2110',\n",
       "  'ACH-000945': 'NCI-H650',\n",
       "  'ACH-000975': nan},\n",
       " 'ATRX': {'ACH-000186': 'NCI-H2444',\n",
       "  'ACH-000578': 'HCC-1171',\n",
       "  'ACH-000603': 'BEN',\n",
       "  'ACH-000700': nan,\n",
       "  'ACH-000851': 'MOR/CPR',\n",
       "  'ACH-000853': 'NCI-H661',\n",
       "  'ACH-000875': 'NCI-H2347',\n",
       "  'ACH-000901': 'HCC-1359',\n",
       "  'ACH-000925': 'DV-90',\n",
       "  'ACH-000980': 'NCI-H1155'},\n",
       " 'PRDX1': {'ACH-000904': 'NCI-H2106'}}"
      ]
     },
     "execution_count": 310,
     "metadata": {},
     "output_type": "execute_result"
    }
   ],
   "source": [
    "dict(\n",
    "    [\n",
    "        (gene, \n",
    "         dict([(i,n) for i,n in zip(ids, cell_lines.cell_line_name[ids].tolist())])\n",
    "        )\n",
    "        \n",
    "        for gene,ids in lung.mutated(Sara_genes,output='dict').items()\n",
    "    ]\n",
    ")"
   ]
  },
  {
   "cell_type": "code",
   "execution_count": 292,
   "id": "89abd0ea",
   "metadata": {},
   "outputs": [
    {
     "data": {
      "text/plain": [
       "MultiIndex([(  'ATM', 'DNP'),\n",
       "            (  'ATM', 'INS'),\n",
       "            (  'ATM', 'SNP'),\n",
       "            ( 'ATRX', 'DEL'),\n",
       "            ( 'ATRX', 'INS'),\n",
       "            ( 'ATRX', 'SNP'),\n",
       "            ('PRDX1', 'SNP')],\n",
       "           names=['gene', 'Variant_Type'])"
      ]
     },
     "execution_count": 292,
     "metadata": {},
     "output_type": "execute_result"
    }
   ],
   "source": [
    "# help(lung.mutated)\n",
    "mt_df = lung.mutated(Sara_genes,output='dataframe')\n",
    "\n",
    "mt_df = mt_df.loc[[var in [\n",
    "    'De_novo_Start_OutOfFrame',\n",
    "    \"Frame_Shift_Ins\",\n",
    "    \"Frame_Shift_Del\",\n",
    "    \"Missense_Mutation\",\n",
    "    \"Nonsense_Mutation\",\n",
    "    \"Nonstop_Mutation\",\n",
    "    \"Start_Codon_Del\"\n",
    "] for var in mt_df.Variant_Classification],]\n",
    "\n",
    "mt_df.groupby(['gene',\"Variant_Type\"]).sum().index"
   ]
  },
  {
   "cell_type": "markdown",
   "id": "d1be77a2",
   "metadata": {},
   "source": [
    "# Analyzing Global Gene Dependency\n",
    "\n",
    "\n",
    "> #### [Note-about-Gene-Effect-Scores:-Dependency-vs-Essentiality:](https://candi.readthedocs.io/en/latest/kras_egfr_scatter.html#Note-about-Gene-Effect-Scores:-Dependency-vs-Essentiality) \n",
    "A more negative gene effect means more dependent. A gene effect of -1.0 is the median gene effect of all common essential genes. If a gene has a gene effect of -1.0 or lower it then that gene is essential. A cell line can still be dependent on a gene with a lower gene effect if knocking out that gene slows growth/proliferation.\n",
    "\n"
   ]
  },
  {
   "cell_type": "code",
   "execution_count": 333,
   "id": "045d96b6",
   "metadata": {},
   "outputs": [
    {
     "name": "stdout",
     "output_type": "stream",
     "text": [
      "#of mutated cell lines:\n",
      "\t42\n",
      "#of wildtype cell lines:\n",
      "\t152\n"
     ]
    }
   ],
   "source": [
    "mt, wt = mt_wt_objs(lung, mt_df.DepMap_ID.tolist())"
   ]
  },
  {
   "cell_type": "code",
   "execution_count": 331,
   "id": "586bd6bf",
   "metadata": {},
   "outputs": [],
   "source": [
    "# gene_effect_heatmap(mt, wt,list({gene for pw, ann in pws.items() for gene in ann['genes']}), figsize=(150, 50))"
   ]
  },
  {
   "cell_type": "markdown",
   "id": "9560827a",
   "metadata": {},
   "source": [
    "#### Scatter plot"
   ]
  },
  {
   "cell_type": "code",
   "execution_count": 347,
   "id": "97f35acb",
   "metadata": {},
   "outputs": [
    {
     "data": {
      "image/png": "[encoded data removed]",
      "text/plain": [
       "<Figure size 576x576 with 1 Axes>"
      ]
     },
     "metadata": {
      "needs_background": "light"
     },
     "output_type": "display_data"
    }
   ],
   "source": [
    "mt_effect, wt_effect = gene_effect_scatter(\n",
    "    mt, wt,return_data=True,return_plot=False\n",
    ")\n",
    "\n",
    "labels = intersection (\n",
    "    mt_effect[mt_effect <= 0.45].index.tolist(),\n",
    "    wt_effect[wt_effect >= 0.6].index.tolist()\n",
    ") + intersection (\n",
    "    mt_effect[mt_effect >= 0.55].index.tolist(),\n",
    "    wt_effect[wt_effect <= 0.4].index.tolist()\n",
    ")\n",
    "\n",
    "labels\n",
    "\n",
    "gene_effect_scatter(\n",
    "    mt, wt,\n",
    "    genes=labels + Sara_genes,\n",
    "    name_scatter='PRDX1, ATRX OR ATM',\n",
    "    save_plot='PRDX1-ATRX-or-ATM-scatter.pdf'\n",
    ")\n",
    "\n",
    "# run_enrichment(labels)"
   ]
  },
  {
   "cell_type": "markdown",
   "id": "6bc439f1",
   "metadata": {},
   "source": [
    "#### PRDX1"
   ]
  },
  {
   "cell_type": "code",
   "execution_count": 359,
   "id": "d393a681",
   "metadata": {},
   "outputs": [
    {
     "name": "stdout",
     "output_type": "stream",
     "text": [
      "#of mutated cell lines:\n",
      "\t1\n",
      "#of wildtype cell lines:\n",
      "\t33\n"
     ]
    }
   ],
   "source": [
    "prdx1_mt, prdx1_wt = mt_wt_objs(mt, list(lung.mutated(Sara_genes,output='dict')['PRDX1']))"
   ]
  },
  {
   "cell_type": "code",
   "execution_count": 376,
   "id": "4b5581bd",
   "metadata": {},
   "outputs": [
    {
     "data": {
      "text/plain": [
       "False"
      ]
     },
     "execution_count": 376,
     "metadata": {},
     "output_type": "execute_result"
    }
   ],
   "source": [
    "prdx1_mt.depmap_ids[0] in  lung.gene_dependency.columns"
   ]
  },
  {
   "cell_type": "code",
   "execution_count": 377,
   "id": "c3f91ece",
   "metadata": {},
   "outputs": [
    {
     "data": {
      "text/plain": [
       "True"
      ]
     },
     "execution_count": 377,
     "metadata": {},
     "output_type": "execute_result"
    }
   ],
   "source": [
    "prdx1_mt.depmap_ids[0] in  mt_df.DepMap_ID.tolist()"
   ]
  },
  {
   "cell_type": "code",
   "execution_count": 378,
   "id": "b3030d2e",
   "metadata": {},
   "outputs": [],
   "source": [
    "# prdx1_wt.gene_dependency#.mean(1)"
   ]
  },
  {
   "cell_type": "code",
   "execution_count": 379,
   "id": "7cda0d83",
   "metadata": {},
   "outputs": [],
   "source": [
    "# mt_effect, wt_effect = gene_effect_scatter(\n",
    "#     prdx1_mt, prdx1_wt,return_data=True,return_plot=False\n",
    "# )\n",
    "\n",
    "# labels = intersection (\n",
    "#     mt_effect[mt_effect <= 0.45].index.tolist(),\n",
    "#     wt_effect[wt_effect >= 0.6].index.tolist()\n",
    "# ) + intersection (\n",
    "#     mt_effect[mt_effect >= 0.55].index.tolist(),\n",
    "#     wt_effect[wt_effect <= 0.4].index.tolist()\n",
    "# )\n",
    "\n",
    "# labels = []\n",
    "\n",
    "# gene_effect_scatter(\n",
    "#     mt_effect, wt_effect,\n",
    "#     # genes=labels + Sara_genes,\n",
    "#     name_scatter='PRDX1, ATRX OR ATM',\n",
    "#     # save_plot='PRDX1-scatter.pdf'\n",
    "# )\n",
    "\n",
    "# # run_enrichment(labels)"
   ]
  },
  {
   "cell_type": "code",
   "execution_count": null,
   "id": "e85ed20b",
   "metadata": {},
   "outputs": [],
   "source": []
  },
  {
   "cell_type": "code",
   "execution_count": null,
   "id": "873adeaa",
   "metadata": {},
   "outputs": [],
   "source": []
  },
  {
   "cell_type": "code",
   "execution_count": null,
   "id": "0547ac83",
   "metadata": {},
   "outputs": [],
   "source": []
  },
  {
   "cell_type": "markdown",
   "id": "34909da4",
   "metadata": {},
   "source": [
    "### DESeq analysis"
   ]
  },
  {
   "cell_type": "code",
   "execution_count": 348,
   "id": "0ec78ec3",
   "metadata": {},
   "outputs": [],
   "source": [
    "def make_counts_coldata(obj1, obj2, condition, factor1, factor2):\n",
    "\n",
    "    counts1 = obj1.rnaseq_reads\n",
    "    coldat1 = pd.Series(counts1.shape[1] * [factor1], index = counts1.columns, name = condition)\n",
    "\n",
    "    counts2 = obj2.rnaseq_reads\n",
    "    coldat2 = pd.Series(counts2.shape[1] * [factor2], index = counts2.columns, name = condition)\n",
    "\n",
    "    #Concatenate Column Data\n",
    "    coldat = pd.concat([coldat1, coldat2], axis = 0)\n",
    "    #Concatenate read count data\n",
    "    counts_mat = pd.concat([counts1, counts2], axis = 1)\n",
    "    #Sum duplicate indeces\n",
    "    counts_mat = counts_mat.groupby(counts_mat.index).sum().astype(int)\n",
    "\n",
    "    return counts_mat, coldat"
   ]
  },
  {
   "cell_type": "code",
   "execution_count": 349,
   "id": "cda88a78",
   "metadata": {},
   "outputs": [],
   "source": [
    "counts_mat, coldat = make_counts_coldata(mt, wt,'mutation','mt','wt')"
   ]
  },
  {
   "cell_type": "code",
   "execution_count": 350,
   "id": "0490f2a7",
   "metadata": {},
   "outputs": [
    {
     "data": {
      "text/plain": [
       "count     143\n",
       "unique      2\n",
       "top        wt\n",
       "freq      101\n",
       "Name: mutation, dtype: object"
      ]
     },
     "execution_count": 350,
     "metadata": {},
     "output_type": "execute_result"
    }
   ],
   "source": [
    "coldat.describe()"
   ]
  },
  {
   "cell_type": "code",
   "execution_count": 92,
   "id": "0132903e",
   "metadata": {},
   "outputs": [
    {
     "name": "stdout",
     "output_type": "stream",
     "text": [
      "Mon Nov  8 07:21:48 UTC 2021\n"
     ]
    }
   ],
   "source": [
    "!date"
   ]
  }
 ],
 "metadata": {
  "kernelspec": {
   "display_name": "Python 3 (ipykernel)",
   "language": "python",
   "name": "python3"
  },
  "language_info": {
   "codemirror_mode": {
    "name": "ipython",
    "version": 3
   },
   "file_extension": ".py",
   "mimetype": "text/x-python",
   "name": "python",
   "nbconvert_exporter": "python",
   "pygments_lexer": "ipython3",
   "version": "3.10.0"
  }
 },
 "nbformat": 4,
 "nbformat_minor": 5
}
